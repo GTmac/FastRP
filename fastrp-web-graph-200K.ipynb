{
 "cells": [
  {
   "cell_type": "markdown",
   "metadata": {},
   "source": [
    "# Init"
   ]
  },
  {
   "cell_type": "code",
   "execution_count": 4,
   "metadata": {},
   "outputs": [],
   "source": [
    "%matplotlib inline\n",
    "\n",
    "import csv\n",
    "import datetime\n",
    "import json\n",
    "import matplotlib\n",
    "import time\n",
    "import logging\n",
    "import sys\n",
    "import sqlite3\n",
    "import os\n",
    "import random\n",
    "\n",
    "import gensim\n",
    "\n",
    "import pandas as pd\n",
    "import numpy as np\n",
    "import networkx as nx\n",
    "import matplotlib.pyplot as plt\n",
    "import seaborn as sns\n",
    "\n",
    "from tqdm import tqdm_notebook as tqdm\n",
    "from collections import Counter, defaultdict\n",
    "\n",
    "from sklearn.manifold import TSNE\n",
    "from gensim.models import Word2Vec, KeyedVectors\n",
    "from scipy.sparse import coo_matrix, csr_matrix\n",
    "from scipy.io import loadmat, savemat\n",
    "from sklearn.metrics.pairwise import cosine_similarity\n",
    "from sklearn.preprocessing import normalize"
   ]
  },
  {
   "cell_type": "code",
   "execution_count": 5,
   "metadata": {},
   "outputs": [],
   "source": [
    "from scoring import scoring\n",
    "from fastrp_exp import *"
   ]
  },
  {
   "cell_type": "code",
   "execution_count": 6,
   "metadata": {},
   "outputs": [],
   "source": [
    "# to ignore sklearn warning\n",
    "def warn(*args, **kwargs):\n",
    "    pass\n",
    "import warnings\n",
    "warnings.warn = warn\n",
    "warnings.filterwarnings(\"ignore\", category=RuntimeWarning) "
   ]
  },
  {
   "cell_type": "code",
   "execution_count": 7,
   "metadata": {},
   "outputs": [],
   "source": [
    "%load_ext autoreload\n",
    "%autoreload 2"
   ]
  },
  {
   "cell_type": "code",
   "execution_count": 8,
   "metadata": {},
   "outputs": [],
   "source": [
    "from jupyter_client import find_connection_file"
   ]
  },
  {
   "cell_type": "code",
   "execution_count": 9,
   "metadata": {},
   "outputs": [
    {
     "data": {
      "text/plain": [
       "'/run/user/2002/jupyter/kernel-1668c7b8-bd52-4560-8f01-1f4bf9dc4ad4.json'"
      ]
     },
     "execution_count": 9,
     "metadata": {},
     "output_type": "execute_result"
    }
   ],
   "source": [
    "find_connection_file()"
   ]
  },
  {
   "cell_type": "code",
   "execution_count": 10,
   "metadata": {},
   "outputs": [],
   "source": [
    "matplotlib.style.use('ggplot')\n",
    "sns.set(color_codes=True)"
   ]
  },
  {
   "cell_type": "markdown",
   "metadata": {},
   "source": [
    "# Read Data"
   ]
  },
  {
   "cell_type": "code",
   "execution_count": 11,
   "metadata": {
    "scrolled": false
   },
   "outputs": [
    {
     "name": "stdout",
     "output_type": "stream",
     "text": [
      "10k-classification.mat  edges.txt  ranks.txt  vertices.txt\r\n"
     ]
    }
   ],
   "source": [
    "ls /mnt/store1/hcchen/www-network"
   ]
  },
  {
   "cell_type": "code",
   "execution_count": 12,
   "metadata": {},
   "outputs": [],
   "source": [
    "data_dir = '/mnt/store1/hcchen/www-network/'\n",
    "rank_fname = 'ranks.txt'\n",
    "edges_fname = 'edges.txt'\n",
    "vertices_fname = 'vertices.txt'"
   ]
  },
  {
   "cell_type": "markdown",
   "metadata": {},
   "source": [
    "Get node to ID mapping:"
   ]
  },
  {
   "cell_type": "code",
   "execution_count": null,
   "metadata": {},
   "outputs": [
    {
     "data": {
      "application/vnd.jupyter.widget-view+json": {
       "model_id": "6b512ee1e3274cf9a111df4dfb7e489d",
       "version_major": 2,
       "version_minor": 0
      },
      "text/plain": [
       "HBox(children=(IntProgress(value=0, max=387806511), HTML(value='')))"
      ]
     },
     "metadata": {},
     "output_type": "display_data"
    }
   ],
   "source": [
    "%%time\n",
    "node_to_id = {}\n",
    "with open(os.path.join(data_dir, vertices_fname), 'r') as fp:\n",
    "    reader = csv.reader(fp, delimiter='\\t')\n",
    "    for row in tqdm(reader, total=387806511):\n",
    "        node_to_id[row[1]] = row[0]"
   ]
  },
  {
   "cell_type": "markdown",
   "metadata": {},
   "source": [
    "This mapping is huge, so we are going to only take the relevant part later (i.e. for top-K nodes)."
   ]
  },
  {
   "cell_type": "markdown",
   "metadata": {},
   "source": [
    "## 200K Network Data Preperation"
   ]
  },
  {
   "cell_type": "markdown",
   "metadata": {},
   "source": [
    "Filter based on harmony centrality:"
   ]
  },
  {
   "cell_type": "code",
   "execution_count": null,
   "metadata": {},
   "outputs": [],
   "source": [
    "K = 200000"
   ]
  },
  {
   "cell_type": "code",
   "execution_count": null,
   "metadata": {},
   "outputs": [],
   "source": [
    "%%time\n",
    "node_set = set()\n",
    "\n",
    "with open(os.path.join(data_dir, rank_fname)) as fp:\n",
    "    reader = csv.DictReader(fp, delimiter='\\t')\n",
    "    for i, row in enumerate(reader):\n",
    "        if i >= K:\n",
    "            break\n",
    "        node_set.add(node_to_id[row['#host_rev']])"
   ]
  },
  {
   "cell_type": "code",
   "execution_count": null,
   "metadata": {
    "scrolled": true
   },
   "outputs": [],
   "source": [
    "%time node_to_id = {node: id for node, id in node_to_id.items() if id in node_set}"
   ]
  },
  {
   "cell_type": "code",
   "execution_count": null,
   "metadata": {},
   "outputs": [],
   "source": [
    "%time id_to_node = {id: node for node, id in node_to_id.items()}"
   ]
  },
  {
   "cell_type": "markdown",
   "metadata": {},
   "source": [
    "The goal is to choose the subgraph with only the top-K most important nodes:"
   ]
  },
  {
   "cell_type": "code",
   "execution_count": 15,
   "metadata": {
    "scrolled": true
   },
   "outputs": [
    {
     "name": "stdout",
     "output_type": "stream",
     "text": [
      "#hc_pos\t#hc_val\t#pr_pos\t#pr_val\t#host_rev\n",
      "1\t38039408\t1\t0.00775205006207982\tcom.facebook\n",
      "2\t34958084\t3\t0.00428814229894441\tcom.twitter\n",
      "3\t33540440\t2\t0.00540973218887675\tcom.googleapis.fonts\n",
      "4\t32887486\t4\t0.00286280981132588\tcom.youtube\n",
      "5\t31128886\t7\t0.00167971398905038\tcom.google.plus\n"
     ]
    }
   ],
   "source": [
    "with open(os.path.join(data_dir, rank_fname), 'r') as fp:\n",
    "    for i, row in enumerate(fp):\n",
    "        print (row, end=\"\")\n",
    "        if i >= 5:\n",
    "            break"
   ]
  },
  {
   "cell_type": "markdown",
   "metadata": {},
   "source": [
    "Construct the subgraph consisting of top-K nodes: (this is slow, taking ~30min)"
   ]
  },
  {
   "cell_type": "code",
   "execution_count": 16,
   "metadata": {
    "collapsed": true
   },
   "outputs": [
    {
     "data": {
      "application/vnd.jupyter.widget-view+json": {
       "model_id": "95bae1121a184f35994f1e511e0bfcf2",
       "version_major": 2,
       "version_minor": 0
      },
      "text/plain": [
       "HBox(children=(IntProgress(value=0, max=2504610000), HTML(value='')))"
      ]
     },
     "metadata": {},
     "output_type": "display_data"
    },
    {
     "name": "stderr",
     "output_type": "stream",
     "text": [
      "IOPub message rate exceeded.\n",
      "The notebook server will temporarily stop sending output\n",
      "to the client in order to avoid crashing it.\n",
      "To change this limit, set the config variable\n",
      "`--NotebookApp.iopub_msg_rate_limit`.\n",
      "\n",
      "Current values:\n",
      "NotebookApp.iopub_msg_rate_limit=1000.0 (msgs/sec)\n",
      "NotebookApp.rate_limit_window=3.0 (secs)\n",
      "\n",
      "IOPub message rate exceeded.\n",
      "The notebook server will temporarily stop sending output\n",
      "to the client in order to avoid crashing it.\n",
      "To change this limit, set the config variable\n",
      "`--NotebookApp.iopub_msg_rate_limit`.\n",
      "\n",
      "Current values:\n",
      "NotebookApp.iopub_msg_rate_limit=1000.0 (msgs/sec)\n",
      "NotebookApp.rate_limit_window=3.0 (secs)\n",
      "\n",
      "IOPub message rate exceeded.\n",
      "The notebook server will temporarily stop sending output\n",
      "to the client in order to avoid crashing it.\n",
      "To change this limit, set the config variable\n",
      "`--NotebookApp.iopub_msg_rate_limit`.\n",
      "\n",
      "Current values:\n",
      "NotebookApp.iopub_msg_rate_limit=1000.0 (msgs/sec)\n",
      "NotebookApp.rate_limit_window=3.0 (secs)\n",
      "\n",
      "IOPub message rate exceeded.\n",
      "The notebook server will temporarily stop sending output\n",
      "to the client in order to avoid crashing it.\n",
      "To change this limit, set the config variable\n",
      "`--NotebookApp.iopub_msg_rate_limit`.\n",
      "\n",
      "Current values:\n",
      "NotebookApp.iopub_msg_rate_limit=1000.0 (msgs/sec)\n",
      "NotebookApp.rate_limit_window=3.0 (secs)\n",
      "\n"
     ]
    },
    {
     "ename": "KeyboardInterrupt",
     "evalue": "",
     "output_type": "error",
     "traceback": [
      "\u001b[0;31m---------------------------------------------------------------------------\u001b[0m",
      "\u001b[0;31mKeyboardInterrupt\u001b[0m                         Traceback (most recent call last)",
      "\u001b[0;32m<ipython-input-16-5a3753c88168>\u001b[0m in \u001b[0;36m<module>\u001b[0;34m\u001b[0m\n\u001b[1;32m      6\u001b[0m         \u001b[0;32mif\u001b[0m \u001b[0mrow\u001b[0m\u001b[0;34m[\u001b[0m\u001b[0;36m0\u001b[0m\u001b[0;34m]\u001b[0m \u001b[0;32min\u001b[0m \u001b[0mnode_set\u001b[0m \u001b[0;32mand\u001b[0m \u001b[0mrow\u001b[0m\u001b[0;34m[\u001b[0m\u001b[0;36m1\u001b[0m\u001b[0;34m]\u001b[0m \u001b[0;32min\u001b[0m \u001b[0mnode_set\u001b[0m\u001b[0;34m:\u001b[0m\u001b[0;34m\u001b[0m\u001b[0;34m\u001b[0m\u001b[0m\n\u001b[1;32m      7\u001b[0m             \u001b[0;31m# print (id_to_node[row[0]], id_to_node[row[1]])\u001b[0m\u001b[0;34m\u001b[0m\u001b[0;34m\u001b[0m\u001b[0;34m\u001b[0m\u001b[0m\n\u001b[0;32m----> 8\u001b[0;31m             \u001b[0mG\u001b[0m\u001b[0;34m.\u001b[0m\u001b[0madd_edge\u001b[0m\u001b[0;34m(\u001b[0m\u001b[0mrow\u001b[0m\u001b[0;34m[\u001b[0m\u001b[0;36m0\u001b[0m\u001b[0;34m]\u001b[0m\u001b[0;34m,\u001b[0m \u001b[0mrow\u001b[0m\u001b[0;34m[\u001b[0m\u001b[0;36m1\u001b[0m\u001b[0;34m]\u001b[0m\u001b[0;34m)\u001b[0m\u001b[0;34m\u001b[0m\u001b[0;34m\u001b[0m\u001b[0m\n\u001b[0m",
      "\u001b[0;32m~/anaconda3/lib/python3.7/site-packages/networkx/classes/graph.py\u001b[0m in \u001b[0;36madd_edge\u001b[0;34m(self, u_of_edge, v_of_edge, **attr)\u001b[0m\n\u001b[1;32m    898\u001b[0m             \u001b[0mself\u001b[0m\u001b[0;34m.\u001b[0m\u001b[0m_node\u001b[0m\u001b[0;34m[\u001b[0m\u001b[0mv\u001b[0m\u001b[0;34m]\u001b[0m \u001b[0;34m=\u001b[0m \u001b[0;34m{\u001b[0m\u001b[0;34m}\u001b[0m\u001b[0;34m\u001b[0m\u001b[0;34m\u001b[0m\u001b[0m\n\u001b[1;32m    899\u001b[0m         \u001b[0;31m# add the edge\u001b[0m\u001b[0;34m\u001b[0m\u001b[0;34m\u001b[0m\u001b[0;34m\u001b[0m\u001b[0m\n\u001b[0;32m--> 900\u001b[0;31m         \u001b[0mdatadict\u001b[0m \u001b[0;34m=\u001b[0m \u001b[0mself\u001b[0m\u001b[0;34m.\u001b[0m\u001b[0m_adj\u001b[0m\u001b[0;34m[\u001b[0m\u001b[0mu\u001b[0m\u001b[0;34m]\u001b[0m\u001b[0;34m.\u001b[0m\u001b[0mget\u001b[0m\u001b[0;34m(\u001b[0m\u001b[0mv\u001b[0m\u001b[0;34m,\u001b[0m \u001b[0mself\u001b[0m\u001b[0;34m.\u001b[0m\u001b[0medge_attr_dict_factory\u001b[0m\u001b[0;34m(\u001b[0m\u001b[0;34m)\u001b[0m\u001b[0;34m)\u001b[0m\u001b[0;34m\u001b[0m\u001b[0;34m\u001b[0m\u001b[0m\n\u001b[0m\u001b[1;32m    901\u001b[0m         \u001b[0mdatadict\u001b[0m\u001b[0;34m.\u001b[0m\u001b[0mupdate\u001b[0m\u001b[0;34m(\u001b[0m\u001b[0mattr\u001b[0m\u001b[0;34m)\u001b[0m\u001b[0;34m\u001b[0m\u001b[0;34m\u001b[0m\u001b[0m\n\u001b[1;32m    902\u001b[0m         \u001b[0mself\u001b[0m\u001b[0;34m.\u001b[0m\u001b[0m_adj\u001b[0m\u001b[0;34m[\u001b[0m\u001b[0mu\u001b[0m\u001b[0;34m]\u001b[0m\u001b[0;34m[\u001b[0m\u001b[0mv\u001b[0m\u001b[0;34m]\u001b[0m \u001b[0;34m=\u001b[0m \u001b[0mdatadict\u001b[0m\u001b[0;34m\u001b[0m\u001b[0;34m\u001b[0m\u001b[0m\n",
      "\u001b[0;31mKeyboardInterrupt\u001b[0m: "
     ]
    }
   ],
   "source": [
    "G = nx.Graph()\n",
    "\n",
    "with open(os.path.join(data_dir, edges_fname)) as fp:\n",
    "    for line in tqdm(fp, total=2504610000):\n",
    "        row = line.strip().split('\\t')\n",
    "        if row[0] in node_set and row[1] in node_set:\n",
    "            # print (id_to_node[row[0]], id_to_node[row[1]])\n",
    "            G.add_edge(row[0], row[1])"
   ]
  },
  {
   "cell_type": "code",
   "execution_count": 122,
   "metadata": {},
   "outputs": [],
   "source": [
    "A = csr_matrix( ([1.0] * len(rows), (rows, cols)), shape=(G.number_of_nodes(), G.number_of_nodes()) )"
   ]
  },
  {
   "cell_type": "code",
   "execution_count": 68,
   "metadata": {},
   "outputs": [
    {
     "data": {
      "text/plain": [
       "10000"
      ]
     },
     "execution_count": 68,
     "metadata": {},
     "output_type": "execute_result"
    }
   ],
   "source": [
    "N = G.number_of_nodes()\n",
    "N"
   ]
  },
  {
   "cell_type": "code",
   "execution_count": null,
   "metadata": {},
   "outputs": [],
   "source": [
    "G.number_of_edges()"
   ]
  },
  {
   "cell_type": "code",
   "execution_count": 69,
   "metadata": {},
   "outputs": [],
   "source": [
    "rows = list(range(N))"
   ]
  },
  {
   "cell_type": "code",
   "execution_count": 89,
   "metadata": {},
   "outputs": [],
   "source": [
    "cols = [label_to_id[node_to_label[matid_to_node[matid]] ] for matid in range(N)]"
   ]
  },
  {
   "cell_type": "code",
   "execution_count": null,
   "metadata": {},
   "outputs": [],
   "source": [
    "A_large = csr_matrix( ([1.0] * len(rows), (rows, cols)), shape=(G.number_of_nodes(), G.number_of_nodes()) )"
   ]
  },
  {
   "cell_type": "code",
   "execution_count": null,
   "metadata": {},
   "outputs": [],
   "source": [
    "nx.write_adjlist(G, open('network-10m.adjlist', 'wb'))"
   ]
  },
  {
   "cell_type": "markdown",
   "metadata": {},
   "source": [
    "**Note: we need additional post-processing to remove some unnecessary content in the adj list file!!**"
   ]
  },
  {
   "cell_type": "markdown",
   "metadata": {},
   "source": [
    "But it seems that even without post-processing our algorithm is working well. Weird :-)"
   ]
  },
  {
   "cell_type": "markdown",
   "metadata": {},
   "source": [
    "# DeepWalk"
   ]
  },
  {
   "cell_type": "markdown",
   "metadata": {},
   "source": [
    "We run the following command in terminal:"
   ]
  },
  {
   "cell_type": "code",
   "execution_count": null,
   "metadata": {},
   "outputs": [],
   "source": [
    "deepwalk --format adjlist --input network-10k.adjlist \\\n",
    "--max-memory-data-size 0 --number-walks 80 --representation-size 128 --walk-length 40 --window-size 10 \\\n",
    "--workers 38 --output www-network/10k.embeddings"
   ]
  },
  {
   "cell_type": "markdown",
   "metadata": {},
   "source": [
    "# KNN of Representative websites"
   ]
  },
  {
   "cell_type": "markdown",
   "metadata": {},
   "source": [
    "What are representative website? We define a list of them here:"
   ]
  },
  {
   "cell_type": "code",
   "execution_count": 77,
   "metadata": {},
   "outputs": [],
   "source": [
    "representative_sites = ['com.facebook',\n",
    "                        'com.twitter',\n",
    "                        'com.google',\n",
    "                        'com.linkedin',\n",
    "                        'com.instagram',\n",
    "                        'com.amazon',\n",
    "                        'com.google.mail',\n",
    "                        'com.nytimes',\n",
    "                        'org.acm',\n",
    "                        'gov.treasury',\n",
    "                        'com.baidu',\n",
    "                        'com.dell',\n",
    "                        'com.github'\n",
    "                       ]"
   ]
  },
  {
   "cell_type": "markdown",
   "metadata": {},
   "source": [
    "## RandNE"
   ]
  },
  {
   "cell_type": "markdown",
   "metadata": {},
   "source": [
    "Read the 10K graph from file:"
   ]
  },
  {
   "cell_type": "code",
   "execution_count": 13,
   "metadata": {},
   "outputs": [],
   "source": [
    "G = nx.read_adjlist('/mnt/store1/hcchen/ws/large-network-embeddings/www-network/network-200k.adjlist')"
   ]
  },
  {
   "cell_type": "code",
   "execution_count": 14,
   "metadata": {},
   "outputs": [],
   "source": [
    "N = G.number_of_nodes()"
   ]
  },
  {
   "cell_type": "markdown",
   "metadata": {},
   "source": [
    "First, we need to map the nodes to range of 0 -> N - 1:"
   ]
  },
  {
   "cell_type": "code",
   "execution_count": 18,
   "metadata": {},
   "outputs": [],
   "source": [
    "node_to_matid = {node: index for index, node in enumerate(G.nodes())}\n",
    "matid_to_node = {index: node for index, node in enumerate(G.nodes())}"
   ]
  },
  {
   "cell_type": "markdown",
   "metadata": {},
   "source": [
    "Construct a sparse matrix from the adj list:"
   ]
  },
  {
   "cell_type": "code",
   "execution_count": 21,
   "metadata": {
    "scrolled": true
   },
   "outputs": [
    {
     "name": "stdout",
     "output_type": "stream",
     "text": [
      "CPU times: user 25.9 s, sys: 1.37 s, total: 27.2 s\n",
      "Wall time: 27.3 s\n"
     ]
    }
   ],
   "source": [
    "%%time\n",
    "rows, cols = [], []\n",
    "\n",
    "for node in G.nodes():\n",
    "    u = node_to_matid[node]\n",
    "    for adj_node in G[node]:\n",
    "        v = node_to_matid[adj_node]\n",
    "        rows.append(u)\n",
    "        cols.append(v)"
   ]
  },
  {
   "cell_type": "code",
   "execution_count": 22,
   "metadata": {},
   "outputs": [],
   "source": [
    "A = csr_matrix( ([1.0] * len(rows), (rows, cols)), shape=(G.number_of_nodes(), G.number_of_nodes()) )"
   ]
  },
  {
   "cell_type": "code",
   "execution_count": 23,
   "metadata": {
    "scrolled": true
   },
   "outputs": [
    {
     "data": {
      "text/plain": [
       "<200000x200000 sparse matrix of type '<class 'numpy.float64'>'\n",
       "\twith 65644332 stored elements in Compressed Sparse Row format>"
      ]
     },
     "execution_count": 23,
     "metadata": {},
     "output_type": "execute_result"
    }
   ],
   "source": [
    "A"
   ]
  },
  {
   "cell_type": "markdown",
   "metadata": {},
   "source": [
    "Then we run RandNE in both MATLAB and Python (my own implementation!) to get the embedding vectors. We load the embeddings here; note that there are two versions of the embeddings, one built from the adjacency matrix and the other one built from the transition matrix:"
   ]
  },
  {
   "cell_type": "code",
   "execution_count": null,
   "metadata": {},
   "outputs": [],
   "source": [
    "ls /home/hcchen/ws/large-network-embeddings/www-network"
   ]
  },
  {
   "cell_type": "markdown",
   "metadata": {},
   "source": [
    "To run my RandNE implementation on trans matrix: ``python3 src/randne.py --matfile-variable-name A --input /home/hcchen/ws/large-network-embeddings/www-network/network-200k.mat --output /home/hcchen/ws/large-network-embeddings/www-network/randne-py-trans-www-200k.mat --use-trans-matrix -q 3 -d 128 --weights 1 100 1000``"
   ]
  },
  {
   "cell_type": "markdown",
   "metadata": {},
   "source": [
    "To run my RandNE implementation on adj matrix: ``python3 src/randne.py --matfile-variable-name A --input /home/hcchen/ws/large-network-embeddings/www-network/network-200k.mat --output /home/hcchen/ws/large-network-embeddings/www-network/randne-py-adj-www-200k.mat -q 2 -d 128 --weights 1 0.01``"
   ]
  },
  {
   "cell_type": "code",
   "execution_count": null,
   "metadata": {},
   "outputs": [],
   "source": [
    "emb_randne_py_trans_200k = loadmat('www-network/randne-py-trans-www-200k.mat')['emb']"
   ]
  },
  {
   "cell_type": "code",
   "execution_count": null,
   "metadata": {},
   "outputs": [],
   "source": [
    "emb_randne_py_adj_200k = loadmat('www-network/randne-py-adj-www-200k.mat')['emb']"
   ]
  },
  {
   "cell_type": "code",
   "execution_count": 39,
   "metadata": {},
   "outputs": [],
   "source": [
    "emb_randne_trans_200k = loadmat('/mnt/store1/hcchen/ws/large-network-embeddings/www-network/randne-trans-www-200k.mat')['U']"
   ]
  },
  {
   "cell_type": "code",
   "execution_count": 131,
   "metadata": {},
   "outputs": [],
   "source": [
    "emb_randne_adj_200k = loadmat('/mnt/store1/hcchen/ws/large-network-embeddings/www-network/randne-adj-www-200k.mat')['U_adj']"
   ]
  },
  {
   "cell_type": "markdown",
   "metadata": {},
   "source": [
    "Utility function for querying mosy similar sites:"
   ]
  },
  {
   "cell_type": "code",
   "execution_count": 42,
   "metadata": {},
   "outputs": [],
   "source": [
    "def most_similar_sites_randne(emb, site, k=10):\n",
    "    site_id = node_to_matid[node_to_id[site]]\n",
    "    all_sim = cosine_similarity(np.expand_dims(emb[site_id], axis=0), emb)\n",
    "    neighbors = sorted([(sim, index) for index, sim in enumerate(all_sim[0])], key=lambda x:-x[0])[1:k+1]\n",
    "    neighbor_names = [id_to_node[matid_to_node[index]] for (_, index) in neighbors]\n",
    "    \n",
    "    return neighbor_names"
   ]
  },
  {
   "cell_type": "markdown",
   "metadata": {},
   "source": [
    "The distribution of cosine similarity is.. a bit weird?"
   ]
  },
  {
   "cell_type": "code",
   "execution_count": null,
   "metadata": {},
   "outputs": [],
   "source": [
    "_ = plt.hist(randne_sim0[0], bins=100)"
   ]
  },
  {
   "cell_type": "markdown",
   "metadata": {},
   "source": [
    "## DeepWalk"
   ]
  },
  {
   "cell_type": "markdown",
   "metadata": {},
   "source": [
    "Load the DeepWalk embeddings we got:"
   ]
  },
  {
   "cell_type": "code",
   "execution_count": 40,
   "metadata": {},
   "outputs": [],
   "source": [
    "emb_200k_dw = gensim.models.KeyedVectors.load_word2vec_format(\\\n",
    "    '/mnt/store1/hcchen/ws/large-network-embeddings/www-network/dw.200k.emb', binary=False)"
   ]
  },
  {
   "cell_type": "markdown",
   "metadata": {},
   "source": [
    "For classification, we need to index the nodes from 0 to N - 1 consecutively:"
   ]
  },
  {
   "cell_type": "code",
   "execution_count": null,
   "metadata": {},
   "outputs": [],
   "source": [
    "node_to_matid['283881577']"
   ]
  },
  {
   "cell_type": "code",
   "execution_count": null,
   "metadata": {},
   "outputs": [],
   "source": [
    "matid_to_node[1012]"
   ]
  },
  {
   "cell_type": "code",
   "execution_count": null,
   "metadata": {},
   "outputs": [],
   "source": [
    "emb_200k_dw_reindexed = np.asarray([emb_200k_dw.get_vector(matid_to_node[matid]) for matid in range(G.number_of_nodes())])"
   ]
  },
  {
   "cell_type": "markdown",
   "metadata": {},
   "source": [
    "Save the re-indexed embeddings to a file:"
   ]
  },
  {
   "cell_type": "code",
   "execution_count": null,
   "metadata": {},
   "outputs": [],
   "source": [
    "savemat('www-network/deepwalk-www-200k.mat', {'emb': emb_200k_dw_reindexed})"
   ]
  },
  {
   "cell_type": "code",
   "execution_count": 36,
   "metadata": {},
   "outputs": [],
   "source": [
    "def most_similar_sites(emb, site):\n",
    "    site_id = node_to_id[site]\n",
    "    neighbors = emb.most_similar(site_id)\n",
    "    # print (neighbors)\n",
    "    # id, similarity\n",
    "    return [id_to_node[id] for id, _ in neighbors]"
   ]
  },
  {
   "cell_type": "code",
   "execution_count": null,
   "metadata": {},
   "outputs": [],
   "source": [
    "for site in representative_sites:\n",
    "    print ('Site chosen:', site)\n",
    "    print ('Nearest neighbors: ')\n",
    "    print (most_similar_sites(emb_200k_dw, site), '\\n\\n')"
   ]
  },
  {
   "cell_type": "markdown",
   "metadata": {},
   "source": [
    "# FastRP"
   ]
  },
  {
   "cell_type": "code",
   "execution_count": 26,
   "metadata": {},
   "outputs": [],
   "source": [
    "conf = {\n",
    "        'projection_method': 'sparse',\n",
    "        'input_matrix': 'trans',\n",
    "        'weights': [1, 1, 2.4, 32],\n",
    "        'normalization': False,\n",
    "        'dim': 512,\n",
    "        'alpha': -0.27,\n",
    "        'C': 1.0\n",
    "    }"
   ]
  },
  {
   "cell_type": "code",
   "execution_count": 27,
   "metadata": {},
   "outputs": [],
   "source": [
    "emb_filename = 'result/fastrp-www-200k.mat'"
   ]
  },
  {
   "cell_type": "code",
   "execution_count": 28,
   "metadata": {},
   "outputs": [
    {
     "name": "stdout",
     "output_type": "stream",
     "text": [
      "CPU times: user 2min 3s, sys: 13.5 s, total: 2min 16s\n",
      "Wall time: 1min 52s\n"
     ]
    }
   ],
   "source": [
    "%%time\n",
    "U = fastrp_wrapper(A, conf)\n",
    "savemat(emb_filename, {'emb': U})"
   ]
  },
  {
   "cell_type": "code",
   "execution_count": 135,
   "metadata": {},
   "outputs": [
    {
     "name": "stdout",
     "output_type": "stream",
     "text": [
      "CPU times: user 4min 55s, sys: 48 s, total: 5min 43s\n",
      "Wall time: 3min 51s\n"
     ]
    }
   ],
   "source": [
    "%%time\n",
    "U = fastrp_wrapper(A, conf)\n",
    "savemat(emb_filename, {'emb': U})"
   ]
  },
  {
   "cell_type": "markdown",
   "metadata": {},
   "source": [
    "U.shape"
   ]
  },
  {
   "cell_type": "markdown",
   "metadata": {},
   "source": [
    "# RandNE"
   ]
  },
  {
   "cell_type": "code",
   "execution_count": 29,
   "metadata": {},
   "outputs": [],
   "source": [
    "savemat('/home/hcchen/fast-random-projection/example_graphs/www-200k.mat', {'network': A})"
   ]
  },
  {
   "cell_type": "code",
   "execution_count": null,
   "metadata": {},
   "outputs": [],
   "source": [
    "cd ~/RandNE-Python/ && \n",
    "time python3 src/randne.py --input /home/hcchen/fast-random-projection/example_graphs/www-200k.mat \\\n",
    "--output /home/hcchen/fast-random-projection/result/www-200k.randne.emb \\\n",
    "--use-trans-matrix -q 3 -d 512 --weights 1 100 1000"
   ]
  },
  {
   "cell_type": "markdown",
   "metadata": {},
   "source": [
    "# KNN: RandNE vs DeepWalk"
   ]
  },
  {
   "cell_type": "markdown",
   "metadata": {},
   "source": [
    "Useful resource for finding top websites based on category: https://www.similarweb.com/top-websites/"
   ]
  },
  {
   "cell_type": "code",
   "execution_count": 122,
   "metadata": {},
   "outputs": [],
   "source": [
    "reverse_site = lambda x: '.'.join(x.split('.')[::-1])"
   ]
  },
  {
   "cell_type": "code",
   "execution_count": 181,
   "metadata": {},
   "outputs": [],
   "source": [
    "nuanced_sites = [\n",
    "#     'com.qq',\n",
    "#     'com.archdaily',\n",
    "#     'com.arsenal',\n",
    "#     'com.nba',\n",
    "#     'com.audible',\n",
    "#     'com.mountainproject',\n",
    "#     'org.wikipedia',\n",
    "#     'org.archive',\n",
    "#     'edu.stanford',\n",
    "    'com.arsenal',\n",
    "    'org.vldb',\n",
    "    'com.delta',\n",
    "#     'com.ford',\n",
    "#     'com.citi',\n",
    "#     'com.weather',\n",
    "#     'com.imdb',\n",
    "#     'com.chase'\n",
    "#     'com.chase',\n",
    "#     'org.wikipedia'\n",
    "    # 'com.taobao',\n",
    "#     'com.github',\n",
    "    'com.nytimes'\n",
    "]"
   ]
  },
  {
   "cell_type": "code",
   "execution_count": 182,
   "metadata": {
    "scrolled": false
   },
   "outputs": [
    {
     "name": "stdout",
     "output_type": "stream",
     "text": [
      "Site chosen: com.arsenal\n",
      "Nearest neighbors from DeepWalk: \n",
      "['chelseafc.com', 'tottenhamhotspur.com', 'manutd.com', 'mcfc.co.uk', 'safc.com', 'thefa.com', 'whufc.com', 'nufc.co.uk', 'premierleague.com', 'avfc.co.uk'] \n",
      "\n",
      "Nearest neighbors from RandNE: \n",
      "['liverpoolfc.com', 'manutd.com', 'chelseafc.com', 'skysports.com', 'tottenhamhotspur.com', 'mcfc.co.uk', 'uefa.com', 'realmadrid.com', 'fcbarcelona.com', 'thefa.com'] \n",
      "\n",
      "Nearest neighbors from FastRP Trans: \n",
      "['chelseafc.com', 'mcfc.co.uk', 'nufc.co.uk', 'avfc.co.uk', 'tottenhamhotspur.com', 'manutd.com', 'whufc.com', 'premierleague.com', 'thefa.com', 'fulhamfc.com'] \n",
      "\n",
      "\n",
      "**************************\n",
      "\n",
      "Site chosen: org.vldb\n",
      "Nearest neighbors from DeepWalk: \n",
      "['sigmod.org', 'morganclaypool.com', 'kdd.org', 'doi.acm.org', 'informatik.uni-trier.de', 'cidrdb.org', 'dblp.uni-trier.de', 'theory.stanford.edu', '2015.ecoop.org', 'doi.ieeecomputersociety.org'] \n",
      "\n",
      "Nearest neighbors from RandNE: \n",
      "['comp.nus.edu.sg', 'cs.sfu.ca', 'cs.rpi.edu', 'nlp.stanford.edu', 'theory.stanford.edu', 'cs.tau.ac.il', 'mcs.anl.gov', 'ida.liu.se', 'lri.fr', 'homepages.inf.ed.ac.uk'] \n",
      "\n",
      "Nearest neighbors from FastRP Trans: \n",
      "['sigmod.org', 'comp.nus.edu.sg', 'sigops.org', 'cidrdb.org', 'cse.iitb.ac.in', 'theory.stanford.edu', 'inf.ed.ac.uk', 'cs.sfu.ca', 'doi.acm.org', 'jmlr.org'] \n",
      "\n",
      "\n",
      "**************************\n",
      "\n",
      "Site chosen: com.delta\n",
      "Nearest neighbors from DeepWalk: \n",
      "['aa.com', 'united.com', 'usairways.com', 'southwest.com', 'jetblue.com', 'allegiantair.com', 'travelocity.com', 'alaskaair.com', 'airnewzealand.com', 'expedia.com'] \n",
      "\n",
      "Nearest neighbors from RandNE: \n",
      "['aa.com', 'southwest.com', 'united.com', 'expedia.com', 'priceline.com', 'jetblue.com', 'toyota.com', 'virginamerica.com', 'match.com', 'chevrolet.com'] \n",
      "\n",
      "Nearest neighbors from FastRP Trans: \n",
      "['aa.com', 'united.com', 'usairways.com', 'alaskaair.com', 'jetblue.com', 'travelocity.com', 'expedia.com', 'southwest.com', 'lawa.org', 'cheaptickets.com'] \n",
      "\n",
      "\n",
      "**************************\n",
      "\n",
      "Site chosen: com.nytimes\n",
      "Nearest neighbors from DeepWalk: \n",
      "['washingtonpost.com', 'huffingtonpost.com', 'cnn.com', 'cbsnews.com', 'time.com', 'theatlantic.com', 'newyorker.com', 'usatoday.com', 'pbs.org', 'abcnews.go.com'] \n",
      "\n",
      "Nearest neighbors from RandNE: \n",
      "['huffingtonpost.com', 'washingtonpost.com', 'forbes.com', 'cnn.com', 'npr.org', 'theguardian.com', 'usatoday.com', 'telegraph.co.uk', 'bbc.co.uk', 'tinyurl.com'] \n",
      "\n",
      "Nearest neighbors from FastRP Trans: \n",
      "['huffingtonpost.com', 'washingtonpost.com', 'cnn.com', 'npr.org', 'latimes.com', 'time.com', 'pbs.org', 'usatoday.com', 'abcnews.go.com', 'newyorker.com'] \n",
      "\n",
      "\n",
      "**************************\n",
      "\n"
     ]
    }
   ],
   "source": [
    "for site in nuanced_sites:\n",
    "    print ('Site chosen:', site)\n",
    "    print ('Nearest neighbors from DeepWalk: ')\n",
    "    print (list(map(reverse_site, most_similar_sites(emb_200k_dw, site))), '\\n')\n",
    "    \n",
    "    print ('Nearest neighbors from RandNE: ')\n",
    "    print (list(map(reverse_site, most_similar_sites_randne(emb_randne_adj_200k, site))), '\\n')\n",
    "    \n",
    "    print ('Nearest neighbors from FastRP Trans: ')\n",
    "    print (list(map(reverse_site, most_similar_sites_randne(U, site))), '\\n')\n",
    "\n",
    "#     print ('Nearest neighbors from RandNE Trans: ')\n",
    "#     print (list(map(reverse_site, most_similar_sites_randne(emb_randne_trans_200k, site))) )\n",
    "    \n",
    "    print ('\\n**************************\\n')"
   ]
  },
  {
   "cell_type": "markdown",
   "metadata": {},
   "source": [
    "# Domain Classification"
   ]
  },
  {
   "cell_type": "markdown",
   "metadata": {},
   "source": [
    "## Label Distribution"
   ]
  },
  {
   "cell_type": "markdown",
   "metadata": {},
   "source": [
    "Here, we take the domain extensions as labels of nodes:"
   ]
  },
  {
   "cell_type": "code",
   "execution_count": 186,
   "metadata": {},
   "outputs": [],
   "source": [
    "node_to_label = {node: id_to_node[node].split('.')[0] for node in node_set}"
   ]
  },
  {
   "cell_type": "code",
   "execution_count": 187,
   "metadata": {},
   "outputs": [],
   "source": [
    "label_counts = Counter(node_to_label.values())"
   ]
  },
  {
   "cell_type": "code",
   "execution_count": 188,
   "metadata": {},
   "outputs": [
    {
     "data": {
      "text/plain": [
       "333"
      ]
     },
     "execution_count": 188,
     "metadata": {},
     "output_type": "execute_result"
    }
   ],
   "source": [
    "K_label = len(label_counts)\n",
    "K_label"
   ]
  },
  {
   "cell_type": "markdown",
   "metadata": {},
   "source": [
    "Distribution of (the most common) labels among top 10k websites:"
   ]
  },
  {
   "cell_type": "code",
   "execution_count": 189,
   "metadata": {},
   "outputs": [],
   "source": [
    "top_label_counts = sorted(label_counts.items(), key=lambda x: -x[1])[:K_label]"
   ]
  },
  {
   "cell_type": "code",
   "execution_count": 190,
   "metadata": {
    "collapsed": true
   },
   "outputs": [
    {
     "data": {
      "text/plain": [
       "[('com', 139292),\n",
       " ('org', 17375),\n",
       " ('net', 6473),\n",
       " ('uk', 4275),\n",
       " ('edu', 4098),\n",
       " ('de', 2602),\n",
       " ('jp', 2427),\n",
       " ('gov', 1732),\n",
       " ('ca', 1528),\n",
       " ('br', 1465),\n",
       " ('au', 1321),\n",
       " ('tv', 1092),\n",
       " ('fr', 1037),\n",
       " ('it', 1035),\n",
       " ('es', 829),\n",
       " ('ru', 798),\n",
       " ('nl', 713),\n",
       " ('us', 700),\n",
       " ('info', 658),\n",
       " ('pl', 535),\n",
       " ('co', 452),\n",
       " ('eu', 413),\n",
       " ('me', 387),\n",
       " ('se', 381),\n",
       " ('ch', 332),\n",
       " ('in', 319),\n",
       " ('io', 280),\n",
       " ('nz', 264),\n",
       " ('at', 256),\n",
       " ('cz', 235),\n",
       " ('ar', 228),\n",
       " ('dk', 223),\n",
       " ('mx', 223),\n",
       " ('ro', 221),\n",
       " ('be', 210),\n",
       " ('gr', 206),\n",
       " ('ie', 200),\n",
       " ('no', 189),\n",
       " ('fi', 172),\n",
       " ('il', 160),\n",
       " ('biz', 157),\n",
       " ('pt', 157),\n",
       " ('hu', 148),\n",
       " ('fm', 145),\n",
       " ('tw', 141),\n",
       " ('to', 139),\n",
       " ('za', 128),\n",
       " ('mil', 120),\n",
       " ('kr', 119),\n",
       " ('ua', 117),\n",
       " ('cl', 111),\n",
       " ('cc', 101),\n",
       " ('cat', 100),\n",
       " ('vn', 93),\n",
       " ('ly', 92),\n",
       " ('my', 86),\n",
       " ('is', 81),\n",
       " ('sg', 80),\n",
       " ('pe', 79),\n",
       " ('ph', 78),\n",
       " ('tr', 72),\n",
       " ('cn', 72),\n",
       " ('rs', 71),\n",
       " ('id', 65),\n",
       " ('hk', 52),\n",
       " ('int', 50),\n",
       " ('th', 50),\n",
       " ('ws', 48),\n",
       " ('ee', 47),\n",
       " ('nu', 45),\n",
       " ('st', 45),\n",
       " ('lv', 45),\n",
       " ('hr', 44),\n",
       " ('am', 42),\n",
       " ('travel', 39),\n",
       " ('lt', 39),\n",
       " ('sk', 38),\n",
       " ('pk', 35),\n",
       " ('ae', 34),\n",
       " ('ms', 31),\n",
       " ('la', 31),\n",
       " ('lk', 30),\n",
       " ('ve', 30),\n",
       " ('gg', 29),\n",
       " ('si', 28),\n",
       " ('by', 27),\n",
       " ('ec', 27),\n",
       " ('li', 27),\n",
       " ('im', 25),\n",
       " ('ir', 25),\n",
       " ('uy', 25),\n",
       " ('sh', 24),\n",
       " ('bg', 22),\n",
       " ('gs', 20),\n",
       " ('bz', 19),\n",
       " ('coop', 19),\n",
       " ('al', 18),\n",
       " ('do', 18),\n",
       " ('asia', 18),\n",
       " ('ma', 17),\n",
       " ('sa', 17),\n",
       " ('ge', 16),\n",
       " ('tk', 16),\n",
       " ('re', 15),\n",
       " ('name', 15),\n",
       " ('ag', 15),\n",
       " ('dj', 15),\n",
       " ('tl', 14),\n",
       " ('mk', 14),\n",
       " ('ke', 14),\n",
       " ('pro', 13),\n",
       " ('ba', 13),\n",
       " ('vc', 13),\n",
       " ('tt', 13),\n",
       " ('va', 13),\n",
       " ('kz', 13),\n",
       " ('cr', 13),\n",
       " ('bo', 13),\n",
       " ('mobi', 12),\n",
       " ('lu', 12),\n",
       " ('cx', 12),\n",
       " ('cm', 12),\n",
       " ('tc', 11),\n",
       " ('museum', 11),\n",
       " ('mn', 11),\n",
       " ('mu', 11),\n",
       " ('eg', 11),\n",
       " ('tokyo', 10),\n",
       " ('ai', 10),\n",
       " ('gt', 10),\n",
       " ('qa', 9),\n",
       " ('tn', 9),\n",
       " ('md', 9),\n",
       " ('ng', 9),\n",
       " ('cu', 9),\n",
       " ('az', 9),\n",
       " ('movie', 8),\n",
       " ('ug', 8),\n",
       " ('news', 8),\n",
       " ('link', 8),\n",
       " ('hn', 8),\n",
       " ('aero', 8),\n",
       " ('sc', 8),\n",
       " ('as', 7),\n",
       " ('ac', 7),\n",
       " ('su', 7),\n",
       " ('website', 7),\n",
       " ('py', 7),\n",
       " ('lb', 6),\n",
       " ('xyz', 6),\n",
       " ('gd', 6),\n",
       " ('gl', 6),\n",
       " ('jo', 6),\n",
       " ('pw', 6),\n",
       " ('today', 6),\n",
       " ('pn', 6),\n",
       " ('pr', 6),\n",
       " ('club', 5),\n",
       " ('mv', 5),\n",
       " ('space', 5),\n",
       " ('google', 5),\n",
       " ('nyc', 5),\n",
       " ('ps', 5),\n",
       " ('vu', 5),\n",
       " ('gy', 5),\n",
       " ('eus', 5),\n",
       " ('bm', 4),\n",
       " ('camera', 4),\n",
       " ('sn', 4),\n",
       " ('sv', 4),\n",
       " ('pa', 4),\n",
       " ('scot', 4),\n",
       " ('ht', 4),\n",
       " ('jm', 4),\n",
       " ('xxx', 4),\n",
       " ('ninja', 4),\n",
       " ('ga', 4),\n",
       " ('gp', 4),\n",
       " ('jobs', 4),\n",
       " ('online', 4),\n",
       " ('vg', 4),\n",
       " ('wiki', 4),\n",
       " ('iq', 4),\n",
       " ('mt', 4),\n",
       " ('ni', 4),\n",
       " ('nr', 4),\n",
       " ('life', 4),\n",
       " ('network', 3),\n",
       " ('mp', 3),\n",
       " ('gh', 3),\n",
       " ('cy', 3),\n",
       " ('xn--j1amh', 3),\n",
       " ('np', 3),\n",
       " ('xn--p1ai', 3),\n",
       " ('fit', 3),\n",
       " ('sy', 3),\n",
       " ('tz', 3),\n",
       " ('lc', 3),\n",
       " ('social', 3),\n",
       " ('agency', 3),\n",
       " ('photography', 3),\n",
       " ('tech', 3),\n",
       " ('pub', 3),\n",
       " ('rw', 3),\n",
       " ('one', 3),\n",
       " ('berlin', 3),\n",
       " ('cd', 3),\n",
       " ('bn', 3),\n",
       " ('uz', 3),\n",
       " ('kh', 3),\n",
       " ('na', 2),\n",
       " ('ad', 2),\n",
       " ('et', 2),\n",
       " ('ky', 2),\n",
       " ('sx', 2),\n",
       " ('media', 2),\n",
       " ('live', 2),\n",
       " ('ist', 2),\n",
       " ('dance', 2),\n",
       " ('cool', 2),\n",
       " ('film', 2),\n",
       " ('church', 2),\n",
       " ('je', 2),\n",
       " ('ax', 2),\n",
       " ('chat', 2),\n",
       " ('mg', 2),\n",
       " ('sm', 2),\n",
       " ('show', 2),\n",
       " ('ngo', 2),\n",
       " ('ml', 2),\n",
       " ('om', 2),\n",
       " ('kw', 2),\n",
       " ('tm', 2),\n",
       " ('bd', 2),\n",
       " ('cf', 2),\n",
       " ('world', 2),\n",
       " ('cymru', 2),\n",
       " ('bi', 2),\n",
       " ('so', 2),\n",
       " ('site', 2),\n",
       " ('pg', 2),\n",
       " ('mo', 2),\n",
       " ('vote', 2),\n",
       " ('gal', 2),\n",
       " ('sr', 2),\n",
       " ('academy', 2),\n",
       " ('style', 2),\n",
       " ('blue', 2),\n",
       " ('wales', 2),\n",
       " ('ne', 2),\n",
       " ('zw', 2),\n",
       " ('blog', 1),\n",
       " ('buzz', 1),\n",
       " ('camp', 1),\n",
       " ('haus', 1),\n",
       " ('win', 1),\n",
       " ('team', 1),\n",
       " ('cern', 1),\n",
       " ('fo', 1),\n",
       " ('host', 1),\n",
       " ('press', 1),\n",
       " ('engineering', 1),\n",
       " ('apple', 1),\n",
       " ('rocks', 1),\n",
       " ('cv', 1),\n",
       " ('tj', 1),\n",
       " ('pharmacy', 1),\n",
       " ('pictures', 1),\n",
       " ('audio', 1),\n",
       " ('mw', 1),\n",
       " ('uno', 1),\n",
       " ('bb', 1),\n",
       " ('realtor', 1),\n",
       " ('bzh', 1),\n",
       " ('events', 1),\n",
       " ('dm', 1),\n",
       " ('software', 1),\n",
       " ('rest', 1),\n",
       " ('gratis', 1),\n",
       " ('bh', 1),\n",
       " ('photos', 1),\n",
       " ('city', 1),\n",
       " ('ki', 1),\n",
       " ('bar', 1),\n",
       " ('nf', 1),\n",
       " ('dz', 1),\n",
       " ('game', 1),\n",
       " ('ao', 1),\n",
       " ('london', 1),\n",
       " ('goo', 1),\n",
       " ('ink', 1),\n",
       " ('art', 1),\n",
       " ('mm', 1),\n",
       " ('plus', 1),\n",
       " ('fj', 1),\n",
       " ('zm', 1),\n",
       " ('brussels', 1),\n",
       " ('company', 1),\n",
       " ('work', 1),\n",
       " ('report', 1),\n",
       " ('marketing', 1),\n",
       " ('kred', 1),\n",
       " ('supplies', 1),\n",
       " ('pm', 1),\n",
       " ('help', 1),\n",
       " ('watch', 1),\n",
       " ('horse', 1),\n",
       " ('trust', 1),\n",
       " ('nc', 1),\n",
       " ('ci', 1),\n",
       " ('yt', 1),\n",
       " ('productions', 1),\n",
       " ('gm', 1),\n",
       " ('cafe', 1),\n",
       " ('recipes', 1),\n",
       " ('red', 1),\n",
       " ('tips', 1),\n",
       " ('kitchen', 1),\n",
       " ('bs', 1),\n",
       " ('nrw', 1),\n",
       " ('mz', 1),\n",
       " ('place', 1),\n",
       " ('bt', 1),\n",
       " ('promo', 1),\n",
       " ('dog', 1),\n",
       " ('solutions', 1),\n",
       " ('exchange', 1),\n",
       " ('bio', 1),\n",
       " ('aq', 1),\n",
       " ('paris', 1),\n",
       " ('vip', 1),\n",
       " ('pf', 1),\n",
       " ('gq', 1)]"
      ]
     },
     "execution_count": 190,
     "metadata": {},
     "output_type": "execute_result"
    }
   ],
   "source": [
    "top_label_counts"
   ]
  },
  {
   "cell_type": "code",
   "execution_count": 192,
   "metadata": {},
   "outputs": [],
   "source": [
    "label_count_map = {label: count for label, count in top_label_counts}"
   ]
  },
  {
   "cell_type": "code",
   "execution_count": 193,
   "metadata": {},
   "outputs": [],
   "source": [
    "chosen_labels = ['uk', 'de', 'jp', 'ca', 'br', 'au', 'fr', 'it', 'es', 'ru']"
   ]
  },
  {
   "cell_type": "code",
   "execution_count": 194,
   "metadata": {},
   "outputs": [
    {
     "data": {
      "text/plain": [
       "<Figure size 648x432 with 0 Axes>"
      ]
     },
     "metadata": {},
     "output_type": "display_data"
    },
    {
     "data": {
      "image/png": "[encoded data removed]",
      "text/plain": [
       "<Figure size 432x288 with 1 Axes>"
      ]
     },
     "metadata": {},
     "output_type": "display_data"
    }
   ],
   "source": [
    "plt.figure(figsize=(9, 6))\n",
    "df = pd.DataFrame.from_dict({'label': chosen_labels, 'count': [label_count_map[label] for label in chosen_labels]})\n",
    "df = df.set_index('label')\n",
    "_ = df.plot(kind='bar')"
   ]
  },
  {
   "cell_type": "code",
   "execution_count": 85,
   "metadata": {},
   "outputs": [],
   "source": [
    "# top_labels, top_counts = zip(*top_label_counts)"
   ]
  },
  {
   "cell_type": "code",
   "execution_count": null,
   "metadata": {},
   "outputs": [],
   "source": [
    "# plt.figure(figsize=(9, 6))\n",
    "# df = pd.DataFrame.from_dict({'label': top_labels, 'count': top_counts})\n",
    "# df = df.set_index('label')\n",
    "# _ = df.plot(kind='bar')"
   ]
  },
  {
   "cell_type": "markdown",
   "metadata": {},
   "source": [
    "We also want these labels to have consecutive integer IDs:"
   ]
  },
  {
   "cell_type": "code",
   "execution_count": 87,
   "metadata": {
    "collapsed": true
   },
   "outputs": [
    {
     "data": {
      "text/plain": [
       "{'com': 0,\n",
       " 'org': 1,\n",
       " 'edu': 2,\n",
       " 'net': 3,\n",
       " 'gov': 4,\n",
       " 'uk': 5,\n",
       " 'jp': 6,\n",
       " 'de': 7,\n",
       " 'ca': 8,\n",
       " 'au': 9,\n",
       " 'br': 10,\n",
       " 'fr': 11,\n",
       " 'it': 12,\n",
       " 'es': 13,\n",
       " 'tv': 14,\n",
       " 'us': 15,\n",
       " 'ru': 16,\n",
       " 'me': 17,\n",
       " 'ch': 18,\n",
       " 'nl': 19,\n",
       " 'co': 20,\n",
       " 'nz': 21,\n",
       " 'info': 22,\n",
       " 'io': 23,\n",
       " 'eu': 24,\n",
       " 'int': 25,\n",
       " 'fm': 26,\n",
       " 'se': 27,\n",
       " 'cn': 28,\n",
       " 'ly': 29,\n",
       " 'mx': 30,\n",
       " 'at': 31,\n",
       " 'no': 32,\n",
       " 'ar': 33,\n",
       " 'cc': 34,\n",
       " 'mil': 35,\n",
       " 'in': 36,\n",
       " 'pl': 37,\n",
       " 'ie': 38,\n",
       " 'be': 39,\n",
       " 'dk': 40,\n",
       " 'gr': 41,\n",
       " 'il': 42,\n",
       " 'za': 43,\n",
       " 'kr': 44,\n",
       " 'to': 45,\n",
       " 'ph': 46,\n",
       " 'fi': 47,\n",
       " 'tw': 48,\n",
       " 'cz': 49,\n",
       " 'ms': 50,\n",
       " 'pe': 51,\n",
       " 'am': 52,\n",
       " 'st': 53,\n",
       " 'my': 54,\n",
       " 'im': 55,\n",
       " 'uy': 56,\n",
       " 'ro': 57,\n",
       " 'id': 58,\n",
       " 'is': 59,\n",
       " 'hk': 60,\n",
       " 'cat': 61,\n",
       " 'mu': 62,\n",
       " 'pk': 63,\n",
       " 'pt': 64,\n",
       " 'tt': 65,\n",
       " 'pr': 66,\n",
       " 're': 67,\n",
       " 'hr': 68,\n",
       " 'hu': 69,\n",
       " 'lk': 70,\n",
       " 'ws': 71,\n",
       " 'sk': 72,\n",
       " 'tr': 73,\n",
       " 'va': 74,\n",
       " 'ae': 75,\n",
       " 'ke': 76,\n",
       " 'biz': 77,\n",
       " 'nu': 78,\n",
       " 'ec': 79,\n",
       " 'ps': 80,\n",
       " 'mt': 81,\n",
       " 'lv': 82,\n",
       " 'vn': 83,\n",
       " 'tk': 84,\n",
       " 'today': 85,\n",
       " 'li': 86,\n",
       " 've': 87,\n",
       " 'do': 88,\n",
       " 'eg': 89,\n",
       " 'sg': 90,\n",
       " 'ua': 91,\n",
       " 'xyz': 92,\n",
       " 'ge': 93,\n",
       " 'ag': 94,\n",
       " 'gl': 95,\n",
       " 'nr': 96,\n",
       " 'sc': 97,\n",
       " 'blue': 98,\n",
       " 'tech': 99,\n",
       " 'travel': 100,\n",
       " 'gd': 101,\n",
       " 'la': 102,\n",
       " 'cu': 103,\n",
       " 'social': 104,\n",
       " 'lb': 105,\n",
       " 'th': 106,\n",
       " 'mp': 107,\n",
       " 'ir': 108,\n",
       " 'tl': 109,\n",
       " 'gg': 110,\n",
       " 'sh': 111,\n",
       " 'name': 112,\n",
       " 'sa': 113,\n",
       " 'rs': 114,\n",
       " 'blog': 115}"
      ]
     },
     "execution_count": 87,
     "metadata": {},
     "output_type": "execute_result"
    }
   ],
   "source": [
    "label_to_id = {}\n",
    "for index, label in enumerate(top_labels):\n",
    "    label_to_id[label] = index\n",
    "label_to_id"
   ]
  },
  {
   "cell_type": "code",
   "execution_count": 79,
   "metadata": {
    "scrolled": true
   },
   "outputs": [
    {
     "data": {
      "text/plain": [
       "('com', 'org', 'edu', 'net', 'gov', 'uk', 'jp', 'de', 'ca', 'au')"
      ]
     },
     "execution_count": 79,
     "metadata": {},
     "output_type": "execute_result"
    }
   ],
   "source": [
    "top_labels"
   ]
  },
  {
   "cell_type": "code",
   "execution_count": 88,
   "metadata": {},
   "outputs": [],
   "source": [
    "top_labels_with_dot = list(map(lambda x: '.' + x, top_labels))"
   ]
  },
  {
   "cell_type": "markdown",
   "metadata": {},
   "source": [
    "# Prepare Data for Classification"
   ]
  },
  {
   "cell_type": "code",
   "execution_count": 122,
   "metadata": {},
   "outputs": [],
   "source": [
    "A = csr_matrix( ([1.0] * len(rows), (rows, cols)), shape=(G.number_of_nodes(), G.number_of_nodes()) )"
   ]
  },
  {
   "cell_type": "code",
   "execution_count": 68,
   "metadata": {},
   "outputs": [
    {
     "data": {
      "text/plain": [
       "10000"
      ]
     },
     "execution_count": 68,
     "metadata": {},
     "output_type": "execute_result"
    }
   ],
   "source": [
    "N = G.number_of_nodes()\n",
    "N"
   ]
  },
  {
   "cell_type": "code",
   "execution_count": 69,
   "metadata": {},
   "outputs": [],
   "source": [
    "rows = list(range(N))"
   ]
  },
  {
   "cell_type": "code",
   "execution_count": 89,
   "metadata": {},
   "outputs": [],
   "source": [
    "cols = [label_to_id[node_to_label[matid_to_node[matid]] ] for matid in range(N)]"
   ]
  },
  {
   "cell_type": "code",
   "execution_count": 92,
   "metadata": {},
   "outputs": [],
   "source": [
    "label_mat = csr_matrix( ( ([1.0] * N), (rows, cols) ), shape=(N, K_label) )"
   ]
  },
  {
   "cell_type": "code",
   "execution_count": 111,
   "metadata": {},
   "outputs": [],
   "source": [
    "data_fname = '/mnt/store1/hcchen/www-network/10k-classification.mat'"
   ]
  },
  {
   "cell_type": "code",
   "execution_count": 123,
   "metadata": {},
   "outputs": [],
   "source": [
    "savemat(data_fname, {'network': A, 'group': label_mat})"
   ]
  },
  {
   "cell_type": "markdown",
   "metadata": {},
   "source": [
    "# FastRP"
   ]
  },
  {
   "cell_type": "code",
   "execution_count": 118,
   "metadata": {},
   "outputs": [],
   "source": [
    "import optuna\n",
    "prefix = 'result/www-10k'"
   ]
  },
  {
   "cell_type": "code",
   "execution_count": 193,
   "metadata": {
    "collapsed": true
   },
   "outputs": [
    {
     "name": "stdout",
     "output_type": "stream",
     "text": [
      "result/www-10k-dim=512,projection_method=sparse,input_matrix=trans,normalization=True,weights=1.0,1.0,2.641095091549228,37.98278711442393,alpha=-0.3830843363393718,C=1.0.mat\n",
      "Train percent: 0.01\n",
      "Results, using embeddings of dimensionality 512\n",
      "-------------------\n",
      "Train percent: 0.01\n",
      "Average score: {'micro': 0.9029966329966329, 'macro': 0.09017035648002286}\n",
      "-------------------\n"
     ]
    },
    {
     "name": "stderr",
     "output_type": "stream",
     "text": [
      "[I 2019-05-17 18:27:49,403] Finished trial#0 resulted in value: -0.09017035648002286. Current best value is -0.09017035648002286 with parameters: {'weight0': 2.641095091549228, 'weight1': 37.98278711442393, 'alpha': -0.3830843363393718}.\n"
     ]
    },
    {
     "name": "stdout",
     "output_type": "stream",
     "text": [
      "result/www-10k-dim=512,projection_method=sparse,input_matrix=trans,normalization=True,weights=1.0,1.0,3.614312723633765,21.26694287798052,alpha=-0.203317383020713,C=1.0.mat\n",
      "Train percent: 0.01\n",
      "Results, using embeddings of dimensionality 512\n",
      "-------------------\n",
      "Train percent: 0.01\n",
      "Average score: {'micro': 0.9258585858585858, 'macro': 0.10956316116947783}\n",
      "-------------------\n"
     ]
    },
    {
     "name": "stderr",
     "output_type": "stream",
     "text": [
      "[I 2019-05-17 18:27:51,438] Finished trial#1 resulted in value: -0.10956316116947783. Current best value is -0.10956316116947783 with parameters: {'weight0': 3.614312723633765, 'weight1': 21.26694287798052, 'alpha': -0.203317383020713}.\n"
     ]
    },
    {
     "name": "stdout",
     "output_type": "stream",
     "text": [
      "result/www-10k-dim=512,projection_method=sparse,input_matrix=trans,normalization=True,weights=1.0,1.0,20.37022642547432,5.607679256993588,alpha=-0.8051044057213567,C=1.0.mat\n",
      "Train percent: 0.01\n",
      "Results, using embeddings of dimensionality 512\n",
      "-------------------\n",
      "Train percent: 0.01\n",
      "Average score: {'micro': 0.9183501683501684, 'macro': 0.10041516113753222}\n",
      "-------------------\n"
     ]
    },
    {
     "name": "stderr",
     "output_type": "stream",
     "text": [
      "[I 2019-05-17 18:27:54,406] Finished trial#2 resulted in value: -0.10041516113753222. Current best value is -0.10956316116947783 with parameters: {'weight0': 3.614312723633765, 'weight1': 21.26694287798052, 'alpha': -0.203317383020713}.\n"
     ]
    },
    {
     "name": "stdout",
     "output_type": "stream",
     "text": [
      "result/www-10k-dim=512,projection_method=sparse,input_matrix=trans,normalization=True,weights=1.0,1.0,3.147126770743807,10.536406372030713,alpha=-0.5633443184158229,C=1.0.mat\n",
      "Train percent: 0.01\n",
      "Results, using embeddings of dimensionality 512\n",
      "-------------------\n",
      "Train percent: 0.01\n",
      "Average score: {'micro': 0.9135016835016835, 'macro': 0.09776077373362263}\n",
      "-------------------\n"
     ]
    },
    {
     "name": "stderr",
     "output_type": "stream",
     "text": [
      "[I 2019-05-17 18:27:56,457] Finished trial#3 resulted in value: -0.09776077373362263. Current best value is -0.10956316116947783 with parameters: {'weight0': 3.614312723633765, 'weight1': 21.26694287798052, 'alpha': -0.203317383020713}.\n"
     ]
    },
    {
     "name": "stdout",
     "output_type": "stream",
     "text": [
      "result/www-10k-dim=512,projection_method=sparse,input_matrix=trans,normalization=True,weights=1.0,1.0,1.3333538526745747,13.091521954714741,alpha=-0.6994726969460647,C=1.0.mat\n",
      "Train percent: 0.01\n",
      "Results, using embeddings of dimensionality 512\n",
      "-------------------\n",
      "Train percent: 0.01\n",
      "Average score: {'micro': 0.9154882154882156, 'macro': 0.10208505658887723}\n",
      "-------------------\n"
     ]
    },
    {
     "name": "stderr",
     "output_type": "stream",
     "text": [
      "[I 2019-05-17 18:27:58,622] Finished trial#4 resulted in value: -0.10208505658887723. Current best value is -0.10956316116947783 with parameters: {'weight0': 3.614312723633765, 'weight1': 21.26694287798052, 'alpha': -0.203317383020713}.\n"
     ]
    },
    {
     "name": "stdout",
     "output_type": "stream",
     "text": [
      "result/www-10k-dim=512,projection_method=sparse,input_matrix=trans,normalization=True,weights=1.0,1.0,8.181657764128568,23.88702920269327,alpha=-0.30217483285446467,C=1.0.mat\n",
      "Train percent: 0.01\n",
      "Results, using embeddings of dimensionality 512\n",
      "-------------------\n",
      "Train percent: 0.01\n",
      "Average score: {'micro': 0.9309427609427608, 'macro': 0.10768645465991329}\n",
      "-------------------\n"
     ]
    },
    {
     "name": "stderr",
     "output_type": "stream",
     "text": [
      "[I 2019-05-17 18:28:02,194] Finished trial#5 resulted in value: -0.10768645465991329. Current best value is -0.10956316116947783 with parameters: {'weight0': 3.614312723633765, 'weight1': 21.26694287798052, 'alpha': -0.203317383020713}.\n"
     ]
    },
    {
     "name": "stdout",
     "output_type": "stream",
     "text": [
      "result/www-10k-dim=512,projection_method=sparse,input_matrix=trans,normalization=True,weights=1.0,1.0,1.5483803802208886,6.682097338182593,alpha=-0.2750140539819965,C=1.0.mat\n",
      "Train percent: 0.01\n",
      "Results, using embeddings of dimensionality 512\n",
      "-------------------\n",
      "Train percent: 0.01\n",
      "Average score: {'micro': 0.9198316498316498, 'macro': 0.10095778900350616}\n",
      "-------------------\n"
     ]
    },
    {
     "name": "stderr",
     "output_type": "stream",
     "text": [
      "[I 2019-05-17 18:28:04,232] Finished trial#6 resulted in value: -0.10095778900350616. Current best value is -0.10956316116947783 with parameters: {'weight0': 3.614312723633765, 'weight1': 21.26694287798052, 'alpha': -0.203317383020713}.\n"
     ]
    },
    {
     "name": "stdout",
     "output_type": "stream",
     "text": [
      "result/www-10k-dim=512,projection_method=sparse,input_matrix=trans,normalization=True,weights=1.0,1.0,1.20186633372692,1.073745897694857,alpha=-0.9820395936149955,C=1.0.mat\n",
      "Train percent: 0.01\n",
      "Results, using embeddings of dimensionality 512\n",
      "-------------------\n",
      "Train percent: 0.01\n",
      "Average score: {'micro': 0.9238047138047137, 'macro': 0.11081162204290207}\n",
      "-------------------\n"
     ]
    },
    {
     "name": "stderr",
     "output_type": "stream",
     "text": [
      "[I 2019-05-17 18:28:06,301] Finished trial#7 resulted in value: -0.11081162204290207. Current best value is -0.11081162204290207 with parameters: {'weight0': 1.20186633372692, 'weight1': 1.073745897694857, 'alpha': -0.9820395936149955}.\n"
     ]
    },
    {
     "name": "stdout",
     "output_type": "stream",
     "text": [
      "result/www-10k-dim=512,projection_method=sparse,input_matrix=trans,normalization=True,weights=1.0,1.0,3.2493721685559183,1.3429800385304154,alpha=-0.12967241332633017,C=1.0.mat\n",
      "Train percent: 0.01\n",
      "Results, using embeddings of dimensionality 512\n",
      "-------------------\n",
      "Train percent: 0.01\n",
      "Average score: {'micro': 0.9215824915824916, 'macro': 0.1006072509536138}\n",
      "-------------------\n"
     ]
    },
    {
     "name": "stderr",
     "output_type": "stream",
     "text": [
      "[I 2019-05-17 18:28:09,285] Finished trial#8 resulted in value: -0.1006072509536138. Current best value is -0.11081162204290207 with parameters: {'weight0': 1.20186633372692, 'weight1': 1.073745897694857, 'alpha': -0.9820395936149955}.\n"
     ]
    },
    {
     "name": "stdout",
     "output_type": "stream",
     "text": [
      "result/www-10k-dim=512,projection_method=sparse,input_matrix=trans,normalization=True,weights=1.0,1.0,2.7381210366839777,59.65634752513906,alpha=-0.225864959224079,C=1.0.mat\n",
      "Train percent: 0.01\n",
      "Results, using embeddings of dimensionality 512\n",
      "-------------------\n",
      "Train percent: 0.01\n",
      "Average score: {'micro': 0.9182491582491582, 'macro': 0.10799665505595894}\n",
      "-------------------\n"
     ]
    },
    {
     "name": "stderr",
     "output_type": "stream",
     "text": [
      "[I 2019-05-17 18:28:11,386] Finished trial#9 resulted in value: -0.10799665505595894. Current best value is -0.11081162204290207 with parameters: {'weight0': 1.20186633372692, 'weight1': 1.073745897694857, 'alpha': -0.9820395936149955}.\n"
     ]
    },
    {
     "name": "stdout",
     "output_type": "stream",
     "text": [
      "result/www-10k-dim=512,projection_method=sparse,input_matrix=trans,normalization=True,weights=1.0,1.0,46.5598154137931,2.9483284142518187,alpha=-0.9952781835923015,C=1.0.mat\n",
      "Train percent: 0.01\n",
      "Results, using embeddings of dimensionality 512\n",
      "-------------------\n",
      "Train percent: 0.01\n",
      "Average score: {'micro': 0.9223232323232323, 'macro': 0.10371541173880074}\n",
      "-------------------\n"
     ]
    },
    {
     "name": "stderr",
     "output_type": "stream",
     "text": [
      "[I 2019-05-17 18:28:13,470] Finished trial#10 resulted in value: -0.10371541173880074. Current best value is -0.11081162204290207 with parameters: {'weight0': 1.20186633372692, 'weight1': 1.073745897694857, 'alpha': -0.9820395936149955}.\n"
     ]
    },
    {
     "name": "stdout",
     "output_type": "stream",
     "text": [
      "result/www-10k-dim=512,projection_method=sparse,input_matrix=trans,normalization=True,weights=1.0,1.0,1.1144036888146382,2.4778971208238496,alpha=-0.8829122651146204,C=1.0.mat\n",
      "Train percent: 0.01\n",
      "Results, using embeddings of dimensionality 512\n",
      "-------------------\n",
      "Train percent: 0.01\n",
      "Average score: {'micro': 0.9222558922558922, 'macro': 0.11499764916269713}\n",
      "-------------------\n"
     ]
    },
    {
     "name": "stderr",
     "output_type": "stream",
     "text": [
      "[I 2019-05-17 18:28:16,745] Finished trial#11 resulted in value: -0.11499764916269713. Current best value is -0.11499764916269713 with parameters: {'weight0': 1.1144036888146382, 'weight1': 2.4778971208238496, 'alpha': -0.8829122651146204}.\n"
     ]
    },
    {
     "name": "stdout",
     "output_type": "stream",
     "text": [
      "result/www-10k-dim=512,projection_method=sparse,input_matrix=trans,normalization=True,weights=1.0,1.0,7.9304645284853486,2.9892258533337364,alpha=-0.9826673931661472,C=1.0.mat\n",
      "Train percent: 0.01\n",
      "Results, using embeddings of dimensionality 512\n",
      "-------------------\n",
      "Train percent: 0.01\n",
      "Average score: {'micro': 0.9060269360269361, 'macro': 0.09228641397541427}\n",
      "-------------------\n"
     ]
    },
    {
     "name": "stderr",
     "output_type": "stream",
     "text": [
      "[I 2019-05-17 18:28:19,195] Finished trial#12 resulted in value: -0.09228641397541427. Current best value is -0.11499764916269713 with parameters: {'weight0': 1.1144036888146382, 'weight1': 2.4778971208238496, 'alpha': -0.8829122651146204}.\n"
     ]
    },
    {
     "name": "stdout",
     "output_type": "stream",
     "text": [
      "result/www-10k-dim=512,projection_method=sparse,input_matrix=trans,normalization=True,weights=1.0,1.0,9.293354596848896,1.0767299389153064,alpha=-0.807693853300222,C=1.0.mat\n",
      "Train percent: 0.01\n",
      "Results, using embeddings of dimensionality 512\n",
      "-------------------\n",
      "Train percent: 0.01\n",
      "Average score: {'micro': 0.9013468013468012, 'macro': 0.10775313310429573}\n",
      "-------------------\n"
     ]
    },
    {
     "name": "stderr",
     "output_type": "stream",
     "text": [
      "[I 2019-05-17 18:28:22,056] Finished trial#13 resulted in value: -0.10775313310429573. Current best value is -0.11499764916269713 with parameters: {'weight0': 1.1144036888146382, 'weight1': 2.4778971208238496, 'alpha': -0.8829122651146204}.\n"
     ]
    },
    {
     "name": "stdout",
     "output_type": "stream",
     "text": [
      "result/www-10k-dim=512,projection_method=sparse,input_matrix=trans,normalization=True,weights=1.0,1.0,1.0178215010750615,2.348740601092705,alpha=-0.023719107999169375,C=1.0.mat\n",
      "Train percent: 0.01\n",
      "Results, using embeddings of dimensionality 512\n",
      "-------------------\n",
      "Train percent: 0.01\n",
      "Average score: {'micro': 0.9243097643097643, 'macro': 0.10768632914941582}\n",
      "-------------------\n"
     ]
    },
    {
     "name": "stderr",
     "output_type": "stream",
     "text": [
      "[I 2019-05-17 18:28:24,269] Finished trial#14 resulted in value: -0.10768632914941582. Current best value is -0.11499764916269713 with parameters: {'weight0': 1.1144036888146382, 'weight1': 2.4778971208238496, 'alpha': -0.8829122651146204}.\n"
     ]
    },
    {
     "name": "stdout",
     "output_type": "stream",
     "text": [
      "result/www-10k-dim=512,projection_method=sparse,input_matrix=trans,normalization=True,weights=1.0,1.0,24.631364613668847,1.8549535203713865,alpha=-0.5336274599613519,C=1.0.mat\n",
      "Train percent: 0.01\n",
      "Results, using embeddings of dimensionality 512\n",
      "-------------------\n",
      "Train percent: 0.01\n",
      "Average score: {'micro': 0.9218518518518519, 'macro': 0.1154892766794398}\n",
      "-------------------\n"
     ]
    },
    {
     "name": "stderr",
     "output_type": "stream",
     "text": [
      "[I 2019-05-17 18:28:26,440] Finished trial#15 resulted in value: -0.1154892766794398. Current best value is -0.1154892766794398 with parameters: {'weight0': 24.631364613668847, 'weight1': 1.8549535203713865, 'alpha': -0.5336274599613519}.\n"
     ]
    },
    {
     "name": "stdout",
     "output_type": "stream",
     "text": [
      "result/www-10k-dim=512,projection_method=sparse,input_matrix=trans,normalization=True,weights=1.0,1.0,24.14969974657258,4.422183568183676,alpha=-0.5374858842703573,C=1.0.mat\n",
      "Train percent: 0.01\n",
      "Results, using embeddings of dimensionality 512\n",
      "-------------------\n",
      "Train percent: 0.01\n",
      "Average score: {'micro': 0.8984848484848486, 'macro': 0.09055791537345655}\n",
      "-------------------\n"
     ]
    },
    {
     "name": "stderr",
     "output_type": "stream",
     "text": [
      "[I 2019-05-17 18:28:29,470] Finished trial#16 resulted in value: -0.09055791537345655. Current best value is -0.1154892766794398 with parameters: {'weight0': 24.631364613668847, 'weight1': 1.8549535203713865, 'alpha': -0.5336274599613519}.\n"
     ]
    },
    {
     "name": "stdout",
     "output_type": "stream",
     "text": [
      "result/www-10k-dim=512,projection_method=sparse,input_matrix=trans,normalization=True,weights=1.0,1.0,23.860342318962743,2.0001582820747186,alpha=-0.7022864739162575,C=1.0.mat\n",
      "Train percent: 0.01\n",
      "Results, using embeddings of dimensionality 512\n",
      "-------------------\n",
      "Train percent: 0.01\n",
      "Average score: {'micro': 0.9202693602693602, 'macro': 0.09260452425873611}\n",
      "-------------------\n"
     ]
    },
    {
     "name": "stderr",
     "output_type": "stream",
     "text": [
      "[I 2019-05-17 18:28:31,487] Finished trial#17 resulted in value: -0.09260452425873611. Current best value is -0.1154892766794398 with parameters: {'weight0': 24.631364613668847, 'weight1': 1.8549535203713865, 'alpha': -0.5336274599613519}.\n"
     ]
    },
    {
     "name": "stdout",
     "output_type": "stream",
     "text": [
      "result/www-10k-dim=512,projection_method=sparse,input_matrix=trans,normalization=True,weights=1.0,1.0,54.934645353531415,1.4814624345580216,alpha=-0.8344062599482844,C=1.0.mat\n",
      "Train percent: 0.01\n",
      "Results, using embeddings of dimensionality 512\n",
      "-------------------\n",
      "Train percent: 0.01\n",
      "Average score: {'micro': 0.9167340067340067, 'macro': 0.09097510919333314}\n",
      "-------------------\n"
     ]
    },
    {
     "name": "stderr",
     "output_type": "stream",
     "text": [
      "[I 2019-05-17 18:28:33,467] Finished trial#18 resulted in value: -0.09097510919333314. Current best value is -0.1154892766794398 with parameters: {'weight0': 24.631364613668847, 'weight1': 1.8549535203713865, 'alpha': -0.5336274599613519}.\n"
     ]
    },
    {
     "name": "stdout",
     "output_type": "stream",
     "text": [
      "result/www-10k-dim=512,projection_method=sparse,input_matrix=trans,normalization=True,weights=1.0,1.0,14.688349532126255,3.7287515363817203,alpha=-0.41289384153044834,C=1.0.mat\n",
      "Train percent: 0.01\n",
      "Results, using embeddings of dimensionality 512\n",
      "-------------------\n",
      "Train percent: 0.01\n",
      "Average score: {'micro': 0.9288215488215489, 'macro': 0.11539817787514473}\n",
      "-------------------\n"
     ]
    },
    {
     "name": "stderr",
     "output_type": "stream",
     "text": [
      "[I 2019-05-17 18:28:36,548] Finished trial#19 resulted in value: -0.11539817787514473. Current best value is -0.1154892766794398 with parameters: {'weight0': 24.631364613668847, 'weight1': 1.8549535203713865, 'alpha': -0.5336274599613519}.\n"
     ]
    },
    {
     "name": "stdout",
     "output_type": "stream",
     "text": [
      "result/www-10k-dim=512,projection_method=sparse,input_matrix=trans,normalization=True,weights=1.0,1.0,14.212675651734843,3.8979621566867952,alpha=-0.46311808287254136,C=1.0.mat\n",
      "Train percent: 0.01\n",
      "Results, using embeddings of dimensionality 512\n",
      "-------------------\n",
      "Train percent: 0.01\n",
      "Average score: {'micro': 0.908989898989899, 'macro': 0.09919427415685698}\n",
      "-------------------\n"
     ]
    },
    {
     "name": "stderr",
     "output_type": "stream",
     "text": [
      "[I 2019-05-17 18:28:38,693] Finished trial#20 resulted in value: -0.09919427415685698. Current best value is -0.1154892766794398 with parameters: {'weight0': 24.631364613668847, 'weight1': 1.8549535203713865, 'alpha': -0.5336274599613519}.\n"
     ]
    },
    {
     "name": "stdout",
     "output_type": "stream",
     "text": [
      "result/www-10k-dim=512,projection_method=sparse,input_matrix=trans,normalization=True,weights=1.0,1.0,41.19962749838903,1.7054283894995177,alpha=-0.6182600362762383,C=1.0.mat\n",
      "Train percent: 0.01\n",
      "Results, using embeddings of dimensionality 512\n",
      "-------------------\n",
      "Train percent: 0.01\n",
      "Average score: {'micro': 0.9042424242424243, 'macro': 0.09100291000551335}\n",
      "-------------------\n"
     ]
    },
    {
     "name": "stderr",
     "output_type": "stream",
     "text": [
      "[I 2019-05-17 18:28:40,697] Finished trial#21 resulted in value: -0.09100291000551335. Current best value is -0.1154892766794398 with parameters: {'weight0': 24.631364613668847, 'weight1': 1.8549535203713865, 'alpha': -0.5336274599613519}.\n"
     ]
    },
    {
     "name": "stdout",
     "output_type": "stream",
     "text": [
      "result/www-10k-dim=512,projection_method=sparse,input_matrix=trans,normalization=True,weights=1.0,1.0,13.797696502694333,9.037503874846259,alpha=-0.4308875995834734,C=1.0.mat\n",
      "Train percent: 0.01\n",
      "Results, using embeddings of dimensionality 512\n",
      "-------------------\n",
      "Train percent: 0.01\n",
      "Average score: {'micro': 0.9233670033670034, 'macro': 0.11564925762314739}\n",
      "-------------------\n"
     ]
    },
    {
     "name": "stderr",
     "output_type": "stream",
     "text": [
      "[I 2019-05-17 18:28:43,528] Finished trial#22 resulted in value: -0.11564925762314739. Current best value is -0.11564925762314739 with parameters: {'weight0': 13.797696502694333, 'weight1': 9.037503874846259, 'alpha': -0.4308875995834734}.\n"
     ]
    },
    {
     "name": "stdout",
     "output_type": "stream",
     "text": [
      "result/www-10k-dim=512,projection_method=sparse,input_matrix=trans,normalization=True,weights=1.0,1.0,33.50810538550468,9.653274848446532,alpha=-0.6593777514786691,C=1.0.mat\n",
      "Train percent: 0.01\n",
      "Results, using embeddings of dimensionality 512\n",
      "-------------------\n",
      "Train percent: 0.01\n",
      "Average score: {'micro': 0.914006734006734, 'macro': 0.10648505376913897}\n",
      "-------------------\n"
     ]
    },
    {
     "name": "stderr",
     "output_type": "stream",
     "text": [
      "[I 2019-05-17 18:28:45,470] Finished trial#23 resulted in value: -0.10648505376913897. Current best value is -0.11564925762314739 with parameters: {'weight0': 13.797696502694333, 'weight1': 9.037503874846259, 'alpha': -0.4308875995834734}.\n"
     ]
    },
    {
     "name": "stdout",
     "output_type": "stream",
     "text": [
      "result/www-10k-dim=512,projection_method=sparse,input_matrix=trans,normalization=True,weights=1.0,1.0,5.511687825100853,15.732873595081102,alpha=-0.34955382088338893,C=1.0.mat\n",
      "Train percent: 0.01\n",
      "Results, using embeddings of dimensionality 512\n",
      "-------------------\n",
      "Train percent: 0.01\n",
      "Average score: {'micro': 0.9248148148148148, 'macro': 0.11247765848487251}\n",
      "-------------------\n"
     ]
    },
    {
     "name": "stderr",
     "output_type": "stream",
     "text": [
      "[I 2019-05-17 18:28:48,451] Finished trial#24 resulted in value: -0.11247765848487251. Current best value is -0.11564925762314739 with parameters: {'weight0': 13.797696502694333, 'weight1': 9.037503874846259, 'alpha': -0.4308875995834734}.\n"
     ]
    },
    {
     "name": "stdout",
     "output_type": "stream",
     "text": [
      "result/www-10k-dim=512,projection_method=sparse,input_matrix=trans,normalization=True,weights=1.0,1.0,11.38988132515155,7.766600282607698,alpha=-0.09485507379541336,C=1.0.mat\n",
      "Train percent: 0.01\n",
      "Results, using embeddings of dimensionality 512\n",
      "-------------------\n",
      "Train percent: 0.01\n",
      "Average score: {'micro': 0.9085185185185186, 'macro': 0.11789427480744803}\n",
      "-------------------\n"
     ]
    },
    {
     "name": "stderr",
     "output_type": "stream",
     "text": [
      "[I 2019-05-17 18:28:50,599] Finished trial#25 resulted in value: -0.11789427480744803. Current best value is -0.11789427480744803 with parameters: {'weight0': 11.38988132515155, 'weight1': 7.766600282607698, 'alpha': -0.09485507379541336}.\n"
     ]
    },
    {
     "name": "stdout",
     "output_type": "stream",
     "text": [
      "result/www-10k-dim=512,projection_method=sparse,input_matrix=trans,normalization=True,weights=1.0,1.0,5.447538846696969,46.692780128079015,alpha=-0.12258453160318016,C=1.0.mat\n",
      "Train percent: 0.01\n",
      "Results, using embeddings of dimensionality 512\n",
      "-------------------\n",
      "Train percent: 0.01\n",
      "Average score: {'micro': 0.9319865319865319, 'macro': 0.14244551468683442}\n",
      "-------------------\n"
     ]
    },
    {
     "name": "stderr",
     "output_type": "stream",
     "text": [
      "[I 2019-05-17 18:28:53,024] Finished trial#26 resulted in value: -0.14244551468683442. Current best value is -0.14244551468683442 with parameters: {'weight0': 5.447538846696969, 'weight1': 46.692780128079015, 'alpha': -0.12258453160318016}.\n"
     ]
    },
    {
     "name": "stdout",
     "output_type": "stream",
     "text": [
      "result/www-10k-dim=512,projection_method=sparse,input_matrix=trans,normalization=True,weights=1.0,1.0,4.94328973823377,31.99115928253124,alpha=-0.09770397526238378,C=1.0.mat\n",
      "Train percent: 0.01\n",
      "Results, using embeddings of dimensionality 512\n",
      "-------------------\n",
      "Train percent: 0.01\n",
      "Average score: {'micro': 0.9300673400673402, 'macro': 0.0987347294199183}\n",
      "-------------------\n"
     ]
    },
    {
     "name": "stderr",
     "output_type": "stream",
     "text": [
      "[I 2019-05-17 18:28:56,034] Finished trial#27 resulted in value: -0.0987347294199183. Current best value is -0.14244551468683442 with parameters: {'weight0': 5.447538846696969, 'weight1': 46.692780128079015, 'alpha': -0.12258453160318016}.\n"
     ]
    },
    {
     "name": "stdout",
     "output_type": "stream",
     "text": [
      "result/www-10k-dim=512,projection_method=sparse,input_matrix=trans,normalization=True,weights=1.0,1.0,5.2588403270445205,37.45166464890815,alpha=-0.09867205169854676,C=1.0.mat\n",
      "Train percent: 0.01\n",
      "Results, using embeddings of dimensionality 512\n",
      "-------------------\n",
      "Train percent: 0.01\n",
      "Average score: {'micro': 0.9201010101010101, 'macro': 0.10904170551219051}\n",
      "-------------------\n"
     ]
    },
    {
     "name": "stderr",
     "output_type": "stream",
     "text": [
      "[I 2019-05-17 18:28:58,019] Finished trial#28 resulted in value: -0.10904170551219051. Current best value is -0.14244551468683442 with parameters: {'weight0': 5.447538846696969, 'weight1': 46.692780128079015, 'alpha': -0.12258453160318016}.\n"
     ]
    },
    {
     "name": "stdout",
     "output_type": "stream",
     "text": [
      "result/www-10k-dim=512,projection_method=sparse,input_matrix=trans,normalization=True,weights=1.0,1.0,1.745225479815996,52.79358028794495,alpha=-0.0001816066066931965,C=1.0.mat\n",
      "Train percent: 0.01\n",
      "Results, using embeddings of dimensionality 512\n",
      "-------------------\n",
      "Train percent: 0.01\n",
      "Average score: {'micro': 0.9301346801346803, 'macro': 0.11202153677815753}\n",
      "-------------------\n"
     ]
    },
    {
     "name": "stderr",
     "output_type": "stream",
     "text": [
      "[I 2019-05-17 18:29:00,065] Finished trial#29 resulted in value: -0.11202153677815753. Current best value is -0.14244551468683442 with parameters: {'weight0': 5.447538846696969, 'weight1': 46.692780128079015, 'alpha': -0.12258453160318016}.\n"
     ]
    },
    {
     "name": "stdout",
     "output_type": "stream",
     "text": [
      "result/www-10k-dim=512,projection_method=sparse,input_matrix=trans,normalization=True,weights=1.0,1.0,2.001276469291157,22.41125893933055,alpha=-0.1707967274513595,C=1.0.mat\n",
      "Train percent: 0.01\n",
      "Results, using embeddings of dimensionality 512\n",
      "-------------------\n",
      "Train percent: 0.01\n",
      "Average score: {'micro': 0.915084175084175, 'macro': 0.10143166030375184}\n",
      "-------------------\n"
     ]
    },
    {
     "name": "stderr",
     "output_type": "stream",
     "text": [
      "[I 2019-05-17 18:29:03,235] Finished trial#30 resulted in value: -0.10143166030375184. Current best value is -0.14244551468683442 with parameters: {'weight0': 5.447538846696969, 'weight1': 46.692780128079015, 'alpha': -0.12258453160318016}.\n"
     ]
    },
    {
     "name": "stdout",
     "output_type": "stream",
     "text": [
      "result/www-10k-dim=512,projection_method=sparse,input_matrix=trans,normalization=True,weights=1.0,1.0,10.241657675020262,51.61203696384201,alpha=-0.002672545297413384,C=1.0.mat\n",
      "Train percent: 0.01\n",
      "Results, using embeddings of dimensionality 512\n",
      "-------------------\n",
      "Train percent: 0.01\n",
      "Average score: {'micro': 0.9274747474747475, 'macro': 0.11615577932671}\n",
      "-------------------\n"
     ]
    },
    {
     "name": "stderr",
     "output_type": "stream",
     "text": [
      "[I 2019-05-17 18:29:05,259] Finished trial#31 resulted in value: -0.11615577932671. Current best value is -0.14244551468683442 with parameters: {'weight0': 5.447538846696969, 'weight1': 46.692780128079015, 'alpha': -0.12258453160318016}.\n"
     ]
    },
    {
     "name": "stdout",
     "output_type": "stream",
     "text": [
      "result/www-10k-dim=512,projection_method=sparse,input_matrix=trans,normalization=True,weights=1.0,1.0,6.300033856363188,17.53295966361465,alpha=-0.045477161901785745,C=1.0.mat\n",
      "Train percent: 0.01\n",
      "Results, using embeddings of dimensionality 512\n",
      "-------------------\n",
      "Train percent: 0.01\n",
      "Average score: {'micro': 0.9053535353535352, 'macro': 0.09115519348363584}\n",
      "-------------------\n"
     ]
    },
    {
     "name": "stderr",
     "output_type": "stream",
     "text": [
      "[I 2019-05-17 18:29:08,262] Finished trial#32 resulted in value: -0.09115519348363584. Current best value is -0.14244551468683442 with parameters: {'weight0': 5.447538846696969, 'weight1': 46.692780128079015, 'alpha': -0.12258453160318016}.\n"
     ]
    },
    {
     "name": "stdout",
     "output_type": "stream",
     "text": [
      "result/www-10k-dim=512,projection_method=sparse,input_matrix=trans,normalization=True,weights=1.0,1.0,3.830124968226376,31.037081945984358,alpha=-0.2119736934489117,C=1.0.mat\n",
      "Train percent: 0.01\n",
      "Results, using embeddings of dimensionality 512\n",
      "-------------------\n",
      "Train percent: 0.01\n",
      "Average score: {'micro': 0.9203367003367003, 'macro': 0.12718851984507376}\n",
      "-------------------\n"
     ]
    },
    {
     "name": "stderr",
     "output_type": "stream",
     "text": [
      "[I 2019-05-17 18:29:12,514] Finished trial#33 resulted in value: -0.12718851984507376. Current best value is -0.14244551468683442 with parameters: {'weight0': 5.447538846696969, 'weight1': 46.692780128079015, 'alpha': -0.12258453160318016}.\n"
     ]
    },
    {
     "name": "stdout",
     "output_type": "stream",
     "text": [
      "result/www-10k-dim=512,projection_method=sparse,input_matrix=trans,normalization=True,weights=1.0,1.0,4.087767064061596,29.577439468935644,alpha=-0.34598466767201075,C=1.0.mat\n",
      "Train percent: 0.01\n",
      "Results, using embeddings of dimensionality 512\n",
      "-------------------\n",
      "Train percent: 0.01\n",
      "Average score: {'micro': 0.921077441077441, 'macro': 0.10250006288036499}\n",
      "-------------------\n"
     ]
    },
    {
     "name": "stderr",
     "output_type": "stream",
     "text": [
      "[I 2019-05-17 18:29:15,401] Finished trial#34 resulted in value: -0.10250006288036499. Current best value is -0.14244551468683442 with parameters: {'weight0': 5.447538846696969, 'weight1': 46.692780128079015, 'alpha': -0.12258453160318016}.\n"
     ]
    },
    {
     "name": "stdout",
     "output_type": "stream",
     "text": [
      "result/www-10k-dim=512,projection_method=sparse,input_matrix=trans,normalization=True,weights=1.0,1.0,1.9412347356173592,43.71901783256117,alpha=-0.25467139947058115,C=1.0.mat\n",
      "Train percent: 0.01\n",
      "Results, using embeddings of dimensionality 512\n",
      "-------------------\n",
      "Train percent: 0.01\n",
      "Average score: {'micro': 0.8844107744107744, 'macro': 0.08755184124805582}\n",
      "-------------------\n"
     ]
    },
    {
     "name": "stderr",
     "output_type": "stream",
     "text": [
      "[I 2019-05-17 18:29:18,710] Finished trial#35 resulted in value: -0.08755184124805582. Current best value is -0.14244551468683442 with parameters: {'weight0': 5.447538846696969, 'weight1': 46.692780128079015, 'alpha': -0.12258453160318016}.\n"
     ]
    },
    {
     "name": "stdout",
     "output_type": "stream",
     "text": [
      "result/www-10k-dim=512,projection_method=sparse,input_matrix=trans,normalization=True,weights=1.0,1.0,4.355943315667731,12.972295473614704,alpha=-0.20525202131609271,C=1.0.mat\n",
      "Train percent: 0.01\n",
      "Results, using embeddings of dimensionality 512\n",
      "-------------------\n",
      "Train percent: 0.01\n",
      "Average score: {'micro': 0.9161952861952862, 'macro': 0.1023284346343337}\n",
      "-------------------\n"
     ]
    },
    {
     "name": "stderr",
     "output_type": "stream",
     "text": [
      "[I 2019-05-17 18:29:20,584] Finished trial#36 resulted in value: -0.1023284346343337. Current best value is -0.14244551468683442 with parameters: {'weight0': 5.447538846696969, 'weight1': 46.692780128079015, 'alpha': -0.12258453160318016}.\n"
     ]
    },
    {
     "name": "stdout",
     "output_type": "stream",
     "text": [
      "result/www-10k-dim=512,projection_method=sparse,input_matrix=trans,normalization=True,weights=1.0,1.0,2.3570268867630166,27.407782777472676,alpha=-0.1668279500333101,C=1.0.mat\n",
      "Train percent: 0.01\n",
      "Results, using embeddings of dimensionality 512\n",
      "-------------------\n",
      "Train percent: 0.01\n",
      "Average score: {'micro': 0.9371717171717172, 'macro': 0.13392936872111794}\n",
      "-------------------\n"
     ]
    },
    {
     "name": "stderr",
     "output_type": "stream",
     "text": [
      "[I 2019-05-17 18:29:22,757] Finished trial#37 resulted in value: -0.13392936872111794. Current best value is -0.14244551468683442 with parameters: {'weight0': 5.447538846696969, 'weight1': 46.692780128079015, 'alpha': -0.12258453160318016}.\n"
     ]
    },
    {
     "name": "stdout",
     "output_type": "stream",
     "text": [
      "result/www-10k-dim=512,projection_method=sparse,input_matrix=trans,normalization=True,weights=1.0,1.0,2.2518716653906576,61.91110159955173,alpha=-0.2913351721391183,C=1.0.mat\n",
      "Train percent: 0.01\n",
      "Results, using embeddings of dimensionality 512\n",
      "-------------------\n",
      "Train percent: 0.01\n",
      "Average score: {'micro': 0.9128619528619529, 'macro': 0.08457639564155843}\n",
      "-------------------\n"
     ]
    },
    {
     "name": "stderr",
     "output_type": "stream",
     "text": [
      "[I 2019-05-17 18:29:25,237] Finished trial#38 resulted in value: -0.08457639564155843. Current best value is -0.14244551468683442 with parameters: {'weight0': 5.447538846696969, 'weight1': 46.692780128079015, 'alpha': -0.12258453160318016}.\n"
     ]
    },
    {
     "name": "stdout",
     "output_type": "stream",
     "text": [
      "result/www-10k-dim=512,projection_method=sparse,input_matrix=trans,normalization=True,weights=1.0,1.0,2.636691404184291,17.2483848597879,alpha=-0.16259728763450226,C=1.0.mat\n",
      "Train percent: 0.01\n",
      "Results, using embeddings of dimensionality 512\n",
      "-------------------\n",
      "Train percent: 0.01\n",
      "Average score: {'micro': 0.9242760942760944, 'macro': 0.09047590486501265}\n",
      "-------------------\n"
     ]
    },
    {
     "name": "stderr",
     "output_type": "stream",
     "text": [
      "[I 2019-05-17 18:29:27,199] Finished trial#39 resulted in value: -0.09047590486501265. Current best value is -0.14244551468683442 with parameters: {'weight0': 5.447538846696969, 'weight1': 46.692780128079015, 'alpha': -0.12258453160318016}.\n"
     ]
    },
    {
     "name": "stdout",
     "output_type": "stream",
     "text": [
      "result/www-10k-dim=512,projection_method=sparse,input_matrix=trans,normalization=True,weights=1.0,1.0,7.052261856031015,12.184546702978063,alpha=-0.3430752731973943,C=1.0.mat\n",
      "Train percent: 0.01\n",
      "Results, using embeddings of dimensionality 512\n",
      "-------------------\n",
      "Train percent: 0.01\n",
      "Average score: {'micro': 0.923973063973064, 'macro': 0.10556182739030266}\n",
      "-------------------\n"
     ]
    },
    {
     "name": "stderr",
     "output_type": "stream",
     "text": [
      "[I 2019-05-17 18:29:29,243] Finished trial#40 resulted in value: -0.10556182739030266. Current best value is -0.14244551468683442 with parameters: {'weight0': 5.447538846696969, 'weight1': 46.692780128079015, 'alpha': -0.12258453160318016}.\n"
     ]
    },
    {
     "name": "stdout",
     "output_type": "stream",
     "text": [
      "result/www-10k-dim=512,projection_method=sparse,input_matrix=trans,normalization=True,weights=1.0,1.0,1.400783821529497,25.886264682634835,alpha=-0.06545085266345704,C=1.0.mat\n",
      "Train percent: 0.01\n",
      "Results, using embeddings of dimensionality 512\n",
      "-------------------\n",
      "Train percent: 0.01\n",
      "Average score: {'micro': 0.9278114478114478, 'macro': 0.1114336693263891}\n",
      "-------------------\n"
     ]
    },
    {
     "name": "stderr",
     "output_type": "stream",
     "text": [
      "[I 2019-05-17 18:29:32,120] Finished trial#41 resulted in value: -0.1114336693263891. Current best value is -0.14244551468683442 with parameters: {'weight0': 5.447538846696969, 'weight1': 46.692780128079015, 'alpha': -0.12258453160318016}.\n"
     ]
    },
    {
     "name": "stdout",
     "output_type": "stream",
     "text": [
      "result/www-10k-dim=512,projection_method=sparse,input_matrix=trans,normalization=True,weights=1.0,1.0,3.102444034587405,43.58264241405303,alpha=-0.15424510797623905,C=1.0.mat\n",
      "Train percent: 0.01\n",
      "Results, using embeddings of dimensionality 512\n",
      "-------------------\n",
      "Train percent: 0.01\n",
      "Average score: {'micro': 0.9206734006734006, 'macro': 0.10805681656135312}\n",
      "-------------------\n"
     ]
    },
    {
     "name": "stderr",
     "output_type": "stream",
     "text": [
      "[I 2019-05-17 18:29:34,223] Finished trial#42 resulted in value: -0.10805681656135312. Current best value is -0.14244551468683442 with parameters: {'weight0': 5.447538846696969, 'weight1': 46.692780128079015, 'alpha': -0.12258453160318016}.\n"
     ]
    },
    {
     "name": "stdout",
     "output_type": "stream",
     "text": [
      "result/www-10k-dim=512,projection_method=sparse,input_matrix=trans,normalization=True,weights=1.0,1.0,2.4627792307126244,38.20860358671413,alpha=-0.4688378512260859,C=1.0.mat\n",
      "Train percent: 0.01\n",
      "Results, using embeddings of dimensionality 512\n",
      "-------------------\n",
      "Train percent: 0.01\n",
      "Average score: {'micro': 0.904074074074074, 'macro': 0.10344622259299814}\n",
      "-------------------\n"
     ]
    },
    {
     "name": "stderr",
     "output_type": "stream",
     "text": [
      "[I 2019-05-17 18:29:37,358] Finished trial#43 resulted in value: -0.10344622259299814. Current best value is -0.14244551468683442 with parameters: {'weight0': 5.447538846696969, 'weight1': 46.692780128079015, 'alpha': -0.12258453160318016}.\n"
     ]
    },
    {
     "name": "stdout",
     "output_type": "stream",
     "text": [
      "result/www-10k-dim=512,projection_method=sparse,input_matrix=trans,normalization=True,weights=1.0,1.0,3.1813693192576067,5.589087338750896,alpha=-0.23897312758550532,C=1.0.mat\n",
      "Train percent: 0.01\n",
      "Results, using embeddings of dimensionality 512\n",
      "-------------------\n",
      "Train percent: 0.01\n",
      "Average score: {'micro': 0.9189562289562289, 'macro': 0.09939853976371675}\n",
      "-------------------\n"
     ]
    },
    {
     "name": "stderr",
     "output_type": "stream",
     "text": [
      "[I 2019-05-17 18:29:39,404] Finished trial#44 resulted in value: -0.09939853976371675. Current best value is -0.14244551468683442 with parameters: {'weight0': 5.447538846696969, 'weight1': 46.692780128079015, 'alpha': -0.12258453160318016}.\n"
     ]
    },
    {
     "name": "stdout",
     "output_type": "stream",
     "text": [
      "result/www-10k-dim=512,projection_method=sparse,input_matrix=trans,normalization=True,weights=1.0,1.0,17.408368242425272,20.8831488126764,alpha=-0.3883044735163709,C=1.0.mat\n",
      "Train percent: 0.01\n",
      "Results, using embeddings of dimensionality 512\n",
      "-------------------\n",
      "Train percent: 0.01\n",
      "Average score: {'micro': 0.9189562289562291, 'macro': 0.08357000216342285}\n",
      "-------------------\n"
     ]
    },
    {
     "name": "stderr",
     "output_type": "stream",
     "text": [
      "[I 2019-05-17 18:29:41,328] Finished trial#45 resulted in value: -0.08357000216342285. Current best value is -0.14244551468683442 with parameters: {'weight0': 5.447538846696969, 'weight1': 46.692780128079015, 'alpha': -0.12258453160318016}.\n"
     ]
    },
    {
     "name": "stdout",
     "output_type": "stream",
     "text": [
      "result/www-10k-dim=512,projection_method=sparse,input_matrix=trans,normalization=True,weights=1.0,1.0,1.5141213120505268,6.688184570426411,alpha=-0.3137243559741293,C=1.0.mat\n",
      "Train percent: 0.01\n",
      "Results, using embeddings of dimensionality 512\n",
      "-------------------\n",
      "Train percent: 0.01\n",
      "Average score: {'micro': 0.9237710437710437, 'macro': 0.09584379092810312}\n",
      "-------------------\n"
     ]
    },
    {
     "name": "stderr",
     "output_type": "stream",
     "text": [
      "[I 2019-05-17 18:29:44,437] Finished trial#46 resulted in value: -0.09584379092810312. Current best value is -0.14244551468683442 with parameters: {'weight0': 5.447538846696969, 'weight1': 46.692780128079015, 'alpha': -0.12258453160318016}.\n"
     ]
    },
    {
     "name": "stdout",
     "output_type": "stream",
     "text": [
      "result/www-10k-dim=512,projection_method=sparse,input_matrix=trans,normalization=True,weights=1.0,1.0,8.043997780194255,63.45164889299224,alpha=-0.13899060376878025,C=1.0.mat\n",
      "Train percent: 0.01\n",
      "Results, using embeddings of dimensionality 512\n",
      "-------------------\n",
      "Train percent: 0.01\n",
      "Average score: {'micro': 0.910942760942761, 'macro': 0.09929621452755748}\n",
      "-------------------\n"
     ]
    },
    {
     "name": "stderr",
     "output_type": "stream",
     "text": [
      "[I 2019-05-17 18:29:46,482] Finished trial#47 resulted in value: -0.09929621452755748. Current best value is -0.14244551468683442 with parameters: {'weight0': 5.447538846696969, 'weight1': 46.692780128079015, 'alpha': -0.12258453160318016}.\n"
     ]
    },
    {
     "name": "stdout",
     "output_type": "stream",
     "text": [
      "result/www-10k-dim=512,projection_method=sparse,input_matrix=trans,normalization=True,weights=1.0,1.0,1.0837219526219373,25.851301609593616,alpha=-0.918786060494543,C=1.0.mat\n",
      "Train percent: 0.01\n",
      "Results, using embeddings of dimensionality 512\n",
      "-------------------\n",
      "Train percent: 0.01\n",
      "Average score: {'micro': 0.9106734006734006, 'macro': 0.11721626417689694}\n",
      "-------------------\n"
     ]
    },
    {
     "name": "stderr",
     "output_type": "stream",
     "text": [
      "[I 2019-05-17 18:29:48,430] Finished trial#48 resulted in value: -0.11721626417689694. Current best value is -0.14244551468683442 with parameters: {'weight0': 5.447538846696969, 'weight1': 46.692780128079015, 'alpha': -0.12258453160318016}.\n"
     ]
    },
    {
     "name": "stdout",
     "output_type": "stream",
     "text": [
      "result/www-10k-dim=512,projection_method=sparse,input_matrix=trans,normalization=True,weights=1.0,1.0,6.1106589655893195,19.59552200919121,alpha=-0.7521537210188799,C=1.0.mat\n",
      "Train percent: 0.01\n",
      "Results, using embeddings of dimensionality 512\n",
      "-------------------\n",
      "Train percent: 0.01\n",
      "Average score: {'micro': 0.924074074074074, 'macro': 0.12433252273688807}\n",
      "-------------------\n"
     ]
    },
    {
     "name": "stderr",
     "output_type": "stream",
     "text": [
      "[I 2019-05-17 18:29:51,588] Finished trial#49 resulted in value: -0.12433252273688807. Current best value is -0.14244551468683442 with parameters: {'weight0': 5.447538846696969, 'weight1': 46.692780128079015, 'alpha': -0.12258453160318016}.\n"
     ]
    },
    {
     "name": "stdout",
     "output_type": "stream",
     "text": [
      "result/www-10k-dim=512,projection_method=sparse,input_matrix=trans,normalization=True,weights=1.0,1.0,3.6000441391583324,52.2037045938993,alpha=-0.0471374190212866,C=1.0.mat\n",
      "Train percent: 0.01\n",
      "Results, using embeddings of dimensionality 512\n",
      "-------------------\n",
      "Train percent: 0.01\n",
      "Average score: {'micro': 0.9284511784511785, 'macro': 0.10162794281973313}\n",
      "-------------------\n"
     ]
    },
    {
     "name": "stderr",
     "output_type": "stream",
     "text": [
      "[I 2019-05-17 18:29:53,736] Finished trial#50 resulted in value: -0.10162794281973313. Current best value is -0.14244551468683442 with parameters: {'weight0': 5.447538846696969, 'weight1': 46.692780128079015, 'alpha': -0.12258453160318016}.\n"
     ]
    },
    {
     "name": "stdout",
     "output_type": "stream",
     "text": [
      "result/www-10k-dim=512,projection_method=sparse,input_matrix=trans,normalization=True,weights=1.0,1.0,1.2077164910871254,11.337481580862185,alpha=-0.575461041347781,C=1.0.mat\n",
      "Train percent: 0.01\n",
      "Results, using embeddings of dimensionality 512\n",
      "-------------------\n",
      "Train percent: 0.01\n",
      "Average score: {'micro': 0.9256228956228957, 'macro': 0.10452293171277234}\n",
      "-------------------\n"
     ]
    },
    {
     "name": "stderr",
     "output_type": "stream",
     "text": [
      "[I 2019-05-17 18:29:55,774] Finished trial#51 resulted in value: -0.10452293171277234. Current best value is -0.14244551468683442 with parameters: {'weight0': 5.447538846696969, 'weight1': 46.692780128079015, 'alpha': -0.12258453160318016}.\n"
     ]
    },
    {
     "name": "stdout",
     "output_type": "stream",
     "text": [
      "result/www-10k-dim=512,projection_method=sparse,input_matrix=trans,normalization=True,weights=1.0,1.0,4.679746425047004,14.363200043324994,alpha=-0.2483815960672615,C=1.0.mat\n",
      "Train percent: 0.01\n",
      "Results, using embeddings of dimensionality 512\n",
      "-------------------\n",
      "Train percent: 0.01\n",
      "Average score: {'micro': 0.9026599326599327, 'macro': 0.09806381277856498}\n",
      "-------------------\n"
     ]
    },
    {
     "name": "stderr",
     "output_type": "stream",
     "text": [
      "[I 2019-05-17 18:29:58,817] Finished trial#52 resulted in value: -0.09806381277856498. Current best value is -0.14244551468683442 with parameters: {'weight0': 5.447538846696969, 'weight1': 46.692780128079015, 'alpha': -0.12258453160318016}.\n"
     ]
    },
    {
     "name": "stdout",
     "output_type": "stream",
     "text": [
      "result/www-10k-dim=512,projection_method=sparse,input_matrix=trans,normalization=True,weights=1.0,1.0,11.942162097244113,36.37365990811682,alpha=-0.4932664178310049,C=1.0.mat\n",
      "Train percent: 0.01\n",
      "Results, using embeddings of dimensionality 512\n",
      "-------------------\n",
      "Train percent: 0.01\n",
      "Average score: {'micro': 0.9208417508417508, 'macro': 0.08697096233783452}\n",
      "-------------------\n"
     ]
    },
    {
     "name": "stderr",
     "output_type": "stream",
     "text": [
      "[I 2019-05-17 18:30:00,823] Finished trial#53 resulted in value: -0.08697096233783452. Current best value is -0.14244551468683442 with parameters: {'weight0': 5.447538846696969, 'weight1': 46.692780128079015, 'alpha': -0.12258453160318016}.\n"
     ]
    },
    {
     "name": "stdout",
     "output_type": "stream",
     "text": [
      "result/www-10k-dim=512,projection_method=sparse,input_matrix=trans,normalization=True,weights=1.0,1.0,8.85439144829154,27.00327181706786,alpha=-0.1767878547215197,C=1.0.mat\n",
      "Train percent: 0.01\n",
      "Results, using embeddings of dimensionality 512\n",
      "-------------------\n",
      "Train percent: 0.01\n",
      "Average score: {'micro': 0.9263636363636364, 'macro': 0.11016705356919061}\n",
      "-------------------\n"
     ]
    },
    {
     "name": "stderr",
     "output_type": "stream",
     "text": [
      "[I 2019-05-17 18:30:02,835] Finished trial#54 resulted in value: -0.11016705356919061. Current best value is -0.14244551468683442 with parameters: {'weight0': 5.447538846696969, 'weight1': 46.692780128079015, 'alpha': -0.12258453160318016}.\n"
     ]
    },
    {
     "name": "stdout",
     "output_type": "stream",
     "text": [
      "result/www-10k-dim=512,projection_method=sparse,input_matrix=trans,normalization=True,weights=1.0,1.0,19.548186096515426,5.289961224726791,alpha=-0.2719848244318073,C=1.0.mat\n",
      "Train percent: 0.01\n",
      "Results, using embeddings of dimensionality 512\n",
      "-------------------\n",
      "Train percent: 0.01\n",
      "Average score: {'micro': 0.9225925925925926, 'macro': 0.10434709579213834}\n",
      "-------------------\n"
     ]
    },
    {
     "name": "stderr",
     "output_type": "stream",
     "text": [
      "[I 2019-05-17 18:30:05,578] Finished trial#55 resulted in value: -0.10434709579213834. Current best value is -0.14244551468683442 with parameters: {'weight0': 5.447538846696969, 'weight1': 46.692780128079015, 'alpha': -0.12258453160318016}.\n"
     ]
    },
    {
     "name": "stdout",
     "output_type": "stream",
     "text": [
      "result/www-10k-dim=512,projection_method=sparse,input_matrix=trans,normalization=True,weights=1.0,1.0,7.0295263519403886,46.659411612989054,alpha=-0.11620718511915074,C=1.0.mat\n",
      "Train percent: 0.01\n",
      "Results, using embeddings of dimensionality 512\n",
      "-------------------\n",
      "Train percent: 0.01\n",
      "Average score: {'micro': 0.9187878787878788, 'macro': 0.09577215207918761}\n",
      "-------------------\n"
     ]
    },
    {
     "name": "stderr",
     "output_type": "stream",
     "text": [
      "[I 2019-05-17 18:30:08,130] Finished trial#56 resulted in value: -0.09577215207918761. Current best value is -0.14244551468683442 with parameters: {'weight0': 5.447538846696969, 'weight1': 46.692780128079015, 'alpha': -0.12258453160318016}.\n"
     ]
    },
    {
     "name": "stdout",
     "output_type": "stream",
     "text": [
      "result/www-10k-dim=512,projection_method=sparse,input_matrix=trans,normalization=True,weights=1.0,1.0,1.7194705781564146,7.449855694779908,alpha=-0.4319281137575174,C=1.0.mat\n",
      "Train percent: 0.01\n",
      "Results, using embeddings of dimensionality 512\n",
      "-------------------\n",
      "Train percent: 0.01\n",
      "Average score: {'micro': 0.918888888888889, 'macro': 0.10662660276881893}\n",
      "-------------------\n"
     ]
    },
    {
     "name": "stderr",
     "output_type": "stream",
     "text": [
      "[I 2019-05-17 18:30:10,987] Finished trial#57 resulted in value: -0.10662660276881893. Current best value is -0.14244551468683442 with parameters: {'weight0': 5.447538846696969, 'weight1': 46.692780128079015, 'alpha': -0.12258453160318016}.\n"
     ]
    },
    {
     "name": "stdout",
     "output_type": "stream",
     "text": [
      "result/www-10k-dim=512,projection_method=sparse,input_matrix=trans,normalization=True,weights=1.0,1.0,2.9600878786858695,10.11059279644097,alpha=-0.3827874398978552,C=1.0.mat\n",
      "Train percent: 0.01\n",
      "Results, using embeddings of dimensionality 512\n",
      "-------------------\n",
      "Train percent: 0.01\n",
      "Average score: {'micro': 0.9257912457912457, 'macro': 0.1071332943979474}\n",
      "-------------------\n"
     ]
    },
    {
     "name": "stderr",
     "output_type": "stream",
     "text": [
      "[I 2019-05-17 18:30:13,087] Finished trial#58 resulted in value: -0.1071332943979474. Current best value is -0.14244551468683442 with parameters: {'weight0': 5.447538846696969, 'weight1': 46.692780128079015, 'alpha': -0.12258453160318016}.\n"
     ]
    },
    {
     "name": "stdout",
     "output_type": "stream",
     "text": [
      "result/www-10k-dim=512,projection_method=sparse,input_matrix=trans,normalization=True,weights=1.0,1.0,62.09052332334896,23.131932146208275,alpha=-0.580223807338581,C=1.0.mat\n",
      "Train percent: 0.01\n",
      "Results, using embeddings of dimensionality 512\n",
      "-------------------\n",
      "Train percent: 0.01\n",
      "Average score: {'micro': 0.9281144781144781, 'macro': 0.09825036483729423}\n",
      "-------------------\n"
     ]
    },
    {
     "name": "stderr",
     "output_type": "stream",
     "text": [
      "[I 2019-05-17 18:30:15,090] Finished trial#59 resulted in value: -0.09825036483729423. Current best value is -0.14244551468683442 with parameters: {'weight0': 5.447538846696969, 'weight1': 46.692780128079015, 'alpha': -0.12258453160318016}.\n"
     ]
    },
    {
     "name": "stdout",
     "output_type": "stream",
     "text": [
      "result/www-10k-dim=512,projection_method=sparse,input_matrix=trans,normalization=True,weights=1.0,1.0,31.678392813416092,8.766210197378074,alpha=-0.07589459765514839,C=1.0.mat\n",
      "Train percent: 0.01\n",
      "Results, using embeddings of dimensionality 512\n",
      "-------------------\n",
      "Train percent: 0.01\n",
      "Average score: {'micro': 0.926902356902357, 'macro': 0.10331392150970214}\n",
      "-------------------\n"
     ]
    },
    {
     "name": "stderr",
     "output_type": "stream",
     "text": [
      "[I 2019-05-17 18:30:17,907] Finished trial#60 resulted in value: -0.10331392150970214. Current best value is -0.14244551468683442 with parameters: {'weight0': 5.447538846696969, 'weight1': 46.692780128079015, 'alpha': -0.12258453160318016}.\n"
     ]
    },
    {
     "name": "stdout",
     "output_type": "stream",
     "text": [
      "result/www-10k-dim=512,projection_method=sparse,input_matrix=trans,normalization=True,weights=1.0,1.0,2.2239559305108947,34.40722174759341,alpha=-0.024043526968225218,C=1.0.mat\n",
      "Train percent: 0.01\n",
      "Results, using embeddings of dimensionality 512\n",
      "-------------------\n",
      "Train percent: 0.01\n",
      "Average score: {'micro': 0.9214478114478114, 'macro': 0.09233225666382745}\n",
      "-------------------\n"
     ]
    },
    {
     "name": "stderr",
     "output_type": "stream",
     "text": [
      "[I 2019-05-17 18:30:19,940] Finished trial#61 resulted in value: -0.09233225666382745. Current best value is -0.14244551468683442 with parameters: {'weight0': 5.447538846696969, 'weight1': 46.692780128079015, 'alpha': -0.12258453160318016}.\n"
     ]
    },
    {
     "name": "stdout",
     "output_type": "stream",
     "text": [
      "result/www-10k-dim=512,projection_method=sparse,input_matrix=trans,normalization=True,weights=1.0,1.0,1.2870070909717437,18.463687298765603,alpha=-0.5241437821351773,C=1.0.mat\n",
      "Train percent: 0.01\n",
      "Results, using embeddings of dimensionality 512\n",
      "-------------------\n",
      "Train percent: 0.01\n",
      "Average score: {'micro': 0.9265319865319865, 'macro': 0.10725722124994314}\n",
      "-------------------\n"
     ]
    },
    {
     "name": "stderr",
     "output_type": "stream",
     "text": [
      "[I 2019-05-17 18:30:21,877] Finished trial#62 resulted in value: -0.10725722124994314. Current best value is -0.14244551468683442 with parameters: {'weight0': 5.447538846696969, 'weight1': 46.692780128079015, 'alpha': -0.12258453160318016}.\n"
     ]
    },
    {
     "name": "stdout",
     "output_type": "stream",
     "text": [
      "result/www-10k-dim=512,projection_method=sparse,input_matrix=trans,normalization=True,weights=1.0,1.0,3.587360845830121,16.151940157978746,alpha=-0.6399910591404563,C=1.0.mat\n",
      "Train percent: 0.01\n",
      "Results, using embeddings of dimensionality 512\n",
      "-------------------\n",
      "Train percent: 0.01\n",
      "Average score: {'micro': 0.9247138047138047, 'macro': 0.10045097504992502}\n",
      "-------------------\n"
     ]
    },
    {
     "name": "stderr",
     "output_type": "stream",
     "text": [
      "[I 2019-05-17 18:30:24,490] Finished trial#63 resulted in value: -0.10045097504992502. Current best value is -0.14244551468683442 with parameters: {'weight0': 5.447538846696969, 'weight1': 46.692780128079015, 'alpha': -0.12258453160318016}.\n"
     ]
    },
    {
     "name": "stdout",
     "output_type": "stream",
     "text": [
      "result/www-10k-dim=512,projection_method=sparse,input_matrix=trans,normalization=True,weights=1.0,1.0,10.401248018290113,56.830323223864774,alpha=-0.730616966597867,C=1.0.mat\n",
      "Train percent: 0.01\n",
      "Results, using embeddings of dimensionality 512\n",
      "-------------------\n",
      "Train percent: 0.01\n",
      "Average score: {'micro': 0.907811447811448, 'macro': 0.10001542548373361}\n",
      "-------------------\n"
     ]
    },
    {
     "name": "stderr",
     "output_type": "stream",
     "text": [
      "[I 2019-05-17 18:30:26,555] Finished trial#64 resulted in value: -0.10001542548373361. Current best value is -0.14244551468683442 with parameters: {'weight0': 5.447538846696969, 'weight1': 46.692780128079015, 'alpha': -0.12258453160318016}.\n"
     ]
    },
    {
     "name": "stdout",
     "output_type": "stream",
     "text": [
      "result/www-10k-dim=512,projection_method=sparse,input_matrix=trans,normalization=True,weights=1.0,1.0,4.022939967095548,14.574899947436714,alpha=-0.2097687635491882,C=1.0.mat\n",
      "Train percent: 0.01\n",
      "Results, using embeddings of dimensionality 512\n",
      "-------------------\n",
      "Train percent: 0.01\n",
      "Average score: {'micro': 0.9264646464646464, 'macro': 0.10092280725466109}\n",
      "-------------------\n"
     ]
    },
    {
     "name": "stderr",
     "output_type": "stream",
     "text": [
      "[I 2019-05-17 18:30:28,462] Finished trial#65 resulted in value: -0.10092280725466109. Current best value is -0.14244551468683442 with parameters: {'weight0': 5.447538846696969, 'weight1': 46.692780128079015, 'alpha': -0.12258453160318016}.\n"
     ]
    },
    {
     "name": "stdout",
     "output_type": "stream",
     "text": [
      "result/www-10k-dim=512,projection_method=sparse,input_matrix=trans,normalization=True,weights=1.0,1.0,5.3172776761593,29.692868372855845,alpha=-0.1850971404886914,C=1.0.mat\n",
      "Train percent: 0.01\n",
      "Results, using embeddings of dimensionality 512\n",
      "-------------------\n",
      "Train percent: 0.01\n",
      "Average score: {'micro': 0.9346801346801347, 'macro': 0.11776215803029712}\n",
      "-------------------\n"
     ]
    },
    {
     "name": "stderr",
     "output_type": "stream",
     "text": [
      "[I 2019-05-17 18:30:31,253] Finished trial#66 resulted in value: -0.11776215803029712. Current best value is -0.14244551468683442 with parameters: {'weight0': 5.447538846696969, 'weight1': 46.692780128079015, 'alpha': -0.12258453160318016}.\n"
     ]
    },
    {
     "name": "stdout",
     "output_type": "stream",
     "text": [
      "result/www-10k-dim=512,projection_method=sparse,input_matrix=trans,normalization=True,weights=1.0,1.0,6.301597769314503,42.977645997152784,alpha=-0.2987129884751889,C=1.0.mat\n",
      "Train percent: 0.01\n",
      "Results, using embeddings of dimensionality 512\n",
      "-------------------\n",
      "Train percent: 0.01\n",
      "Average score: {'micro': 0.9301683501683501, 'macro': 0.12213017081584211}\n",
      "-------------------\n"
     ]
    },
    {
     "name": "stderr",
     "output_type": "stream",
     "text": [
      "[I 2019-05-17 18:30:33,346] Finished trial#67 resulted in value: -0.12213017081584211. Current best value is -0.14244551468683442 with parameters: {'weight0': 5.447538846696969, 'weight1': 46.692780128079015, 'alpha': -0.12258453160318016}.\n"
     ]
    },
    {
     "name": "stdout",
     "output_type": "stream",
     "text": [
      "result/www-10k-dim=512,projection_method=sparse,input_matrix=trans,normalization=True,weights=1.0,1.0,2.7876548918622213,32.02615185982179,alpha=-0.13155793918044079,C=1.0.mat\n",
      "Train percent: 0.01\n",
      "Results, using embeddings of dimensionality 512\n",
      "-------------------\n",
      "Train percent: 0.01\n",
      "Average score: {'micro': 0.9061952861952863, 'macro': 0.10176176094945773}\n",
      "-------------------\n"
     ]
    },
    {
     "name": "stderr",
     "output_type": "stream",
     "text": [
      "[I 2019-05-17 18:30:36,563] Finished trial#68 resulted in value: -0.10176176094945773. Current best value is -0.14244551468683442 with parameters: {'weight0': 5.447538846696969, 'weight1': 46.692780128079015, 'alpha': -0.12258453160318016}.\n"
     ]
    },
    {
     "name": "stdout",
     "output_type": "stream",
     "text": [
      "result/www-10k-dim=512,projection_method=sparse,input_matrix=trans,normalization=True,weights=1.0,1.0,3.702082280013049,47.91106057658806,alpha=-0.2263405418908639,C=1.0.mat\n",
      "Train percent: 0.01\n",
      "Results, using embeddings of dimensionality 512\n",
      "-------------------\n",
      "Train percent: 0.01\n",
      "Average score: {'micro': 0.9162962962962963, 'macro': 0.10455184500946439}\n",
      "-------------------\n"
     ]
    },
    {
     "name": "stderr",
     "output_type": "stream",
     "text": [
      "[I 2019-05-17 18:30:38,587] Finished trial#69 resulted in value: -0.10455184500946439. Current best value is -0.14244551468683442 with parameters: {'weight0': 5.447538846696969, 'weight1': 46.692780128079015, 'alpha': -0.12258453160318016}.\n"
     ]
    },
    {
     "name": "stdout",
     "output_type": "stream",
     "text": [
      "result/www-10k-dim=512,projection_method=sparse,input_matrix=trans,normalization=True,weights=1.0,1.0,1.8347231743655519,39.58166748523357,alpha=-0.010142112349930427,C=1.0.mat\n",
      "Train percent: 0.01\n",
      "Results, using embeddings of dimensionality 512\n",
      "-------------------\n",
      "Train percent: 0.01\n",
      "Average score: {'micro': 0.9198653198653198, 'macro': 0.10340812472332449}\n",
      "-------------------\n"
     ]
    },
    {
     "name": "stderr",
     "output_type": "stream",
     "text": [
      "[I 2019-05-17 18:30:40,568] Finished trial#70 resulted in value: -0.10340812472332449. Current best value is -0.14244551468683442 with parameters: {'weight0': 5.447538846696969, 'weight1': 46.692780128079015, 'alpha': -0.12258453160318016}.\n"
     ]
    },
    {
     "name": "stdout",
     "output_type": "stream",
     "text": [
      "result/www-10k-dim=512,projection_method=sparse,input_matrix=trans,normalization=True,weights=1.0,1.0,2.140854591355281,63.871121351228695,alpha=-0.19585674100557493,C=1.0.mat\n",
      "Train percent: 0.01\n",
      "Results, using embeddings of dimensionality 512\n",
      "-------------------\n",
      "Train percent: 0.01\n",
      "Average score: {'micro': 0.9297306397306397, 'macro': 0.10827765704467901}\n",
      "-------------------\n"
     ]
    },
    {
     "name": "stderr",
     "output_type": "stream",
     "text": [
      "[I 2019-05-17 18:30:43,419] Finished trial#71 resulted in value: -0.10827765704467901. Current best value is -0.14244551468683442 with parameters: {'weight0': 5.447538846696969, 'weight1': 46.692780128079015, 'alpha': -0.12258453160318016}.\n"
     ]
    },
    {
     "name": "stdout",
     "output_type": "stream",
     "text": [
      "result/www-10k-dim=512,projection_method=sparse,input_matrix=trans,normalization=True,weights=1.0,1.0,4.599399317078411,21.657350678868028,alpha=-0.32323286209540203,C=1.0.mat\n",
      "Train percent: 0.01\n",
      "Results, using embeddings of dimensionality 512\n",
      "-------------------\n",
      "Train percent: 0.01\n",
      "Average score: {'micro': 0.9122895622895624, 'macro': 0.10038873242166592}\n",
      "-------------------\n"
     ]
    },
    {
     "name": "stderr",
     "output_type": "stream",
     "text": [
      "[I 2019-05-17 18:30:45,391] Finished trial#72 resulted in value: -0.10038873242166592. Current best value is -0.14244551468683442 with parameters: {'weight0': 5.447538846696969, 'weight1': 46.692780128079015, 'alpha': -0.12258453160318016}.\n"
     ]
    },
    {
     "name": "stdout",
     "output_type": "stream",
     "text": [
      "result/www-10k-dim=512,projection_method=sparse,input_matrix=trans,normalization=True,weights=1.0,1.0,2.414015688881003,31.975981188353387,alpha=-0.2679656477252869,C=1.0.mat\n",
      "Train percent: 0.01\n",
      "Results, using embeddings of dimensionality 512\n",
      "-------------------\n",
      "Train percent: 0.01\n",
      "Average score: {'micro': 0.9303367003367004, 'macro': 0.11447521986400953}\n",
      "-------------------\n"
     ]
    },
    {
     "name": "stderr",
     "output_type": "stream",
     "text": [
      "[I 2019-05-17 18:30:47,735] Finished trial#73 resulted in value: -0.11447521986400953. Current best value is -0.14244551468683442 with parameters: {'weight0': 5.447538846696969, 'weight1': 46.692780128079015, 'alpha': -0.12258453160318016}.\n"
     ]
    },
    {
     "name": "stdout",
     "output_type": "stream",
     "text": [
      "result/www-10k-dim=512,projection_method=sparse,input_matrix=trans,normalization=True,weights=1.0,1.0,1.6358840001468968,56.92203131121755,alpha=-0.377367671537985,C=1.0.mat\n",
      "Train percent: 0.01\n",
      "Results, using embeddings of dimensionality 512\n",
      "-------------------\n",
      "Train percent: 0.01\n",
      "Average score: {'micro': 0.9114141414141415, 'macro': 0.10096411998798106}\n",
      "-------------------\n"
     ]
    },
    {
     "name": "stderr",
     "output_type": "stream",
     "text": [
      "[I 2019-05-17 18:30:50,516] Finished trial#74 resulted in value: -0.10096411998798106. Current best value is -0.14244551468683442 with parameters: {'weight0': 5.447538846696969, 'weight1': 46.692780128079015, 'alpha': -0.12258453160318016}.\n"
     ]
    },
    {
     "name": "stdout",
     "output_type": "stream",
     "text": [
      "result/www-10k-dim=512,projection_method=sparse,input_matrix=trans,normalization=True,weights=1.0,1.0,13.175997700707898,4.693243549705421,alpha=-0.07733013558069686,C=1.0.mat\n",
      "Train percent: 0.01\n",
      "Results, using embeddings of dimensionality 512\n",
      "-------------------\n",
      "Train percent: 0.01\n",
      "Average score: {'micro': 0.9088888888888889, 'macro': 0.1042912903303317}\n",
      "-------------------\n"
     ]
    },
    {
     "name": "stderr",
     "output_type": "stream",
     "text": [
      "[I 2019-05-17 18:30:52,530] Finished trial#75 resulted in value: -0.1042912903303317. Current best value is -0.14244551468683442 with parameters: {'weight0': 5.447538846696969, 'weight1': 46.692780128079015, 'alpha': -0.12258453160318016}.\n"
     ]
    },
    {
     "name": "stdout",
     "output_type": "stream",
     "text": [
      "result/www-10k-dim=512,projection_method=sparse,input_matrix=trans,normalization=True,weights=1.0,1.0,7.161160198352202,3.097282861719373,alpha=-0.11477806737367731,C=1.0.mat\n",
      "Train percent: 0.01\n",
      "Results, using embeddings of dimensionality 512\n",
      "-------------------\n",
      "Train percent: 0.01\n",
      "Average score: {'micro': 0.925993265993266, 'macro': 0.11074409645190524}\n",
      "-------------------\n"
     ]
    },
    {
     "name": "stderr",
     "output_type": "stream",
     "text": [
      "[I 2019-05-17 18:30:54,567] Finished trial#76 resulted in value: -0.11074409645190524. Current best value is -0.14244551468683442 with parameters: {'weight0': 5.447538846696969, 'weight1': 46.692780128079015, 'alpha': -0.12258453160318016}.\n"
     ]
    },
    {
     "name": "stdout",
     "output_type": "stream",
     "text": [
      "result/www-10k-dim=512,projection_method=sparse,input_matrix=trans,normalization=True,weights=1.0,1.0,5.819294506582129,27.975811396151812,alpha=-0.03853118307630318,C=1.0.mat\n",
      "Train percent: 0.01\n",
      "Results, using embeddings of dimensionality 512\n",
      "-------------------\n",
      "Train percent: 0.01\n",
      "Average score: {'micro': 0.9201683501683502, 'macro': 0.1067801146618061}\n",
      "-------------------\n"
     ]
    },
    {
     "name": "stderr",
     "output_type": "stream",
     "text": [
      "[I 2019-05-17 18:30:57,866] Finished trial#77 resulted in value: -0.1067801146618061. Current best value is -0.14244551468683442 with parameters: {'weight0': 5.447538846696969, 'weight1': 46.692780128079015, 'alpha': -0.12258453160318016}.\n"
     ]
    },
    {
     "name": "stdout",
     "output_type": "stream",
     "text": [
      "result/www-10k-dim=512,projection_method=sparse,input_matrix=trans,normalization=True,weights=1.0,1.0,1.008141788047878,11.64404240911398,alpha=-0.4542516683671213,C=1.0.mat\n",
      "Train percent: 0.01\n",
      "Results, using embeddings of dimensionality 512\n",
      "-------------------\n",
      "Train percent: 0.01\n",
      "Average score: {'micro': 0.9134343434343434, 'macro': 0.09540584862941881}\n",
      "-------------------\n"
     ]
    },
    {
     "name": "stderr",
     "output_type": "stream",
     "text": [
      "[I 2019-05-17 18:30:59,965] Finished trial#78 resulted in value: -0.09540584862941881. Current best value is -0.14244551468683442 with parameters: {'weight0': 5.447538846696969, 'weight1': 46.692780128079015, 'alpha': -0.12258453160318016}.\n"
     ]
    },
    {
     "name": "stdout",
     "output_type": "stream",
     "text": [
      "result/www-10k-dim=512,projection_method=sparse,input_matrix=trans,normalization=True,weights=1.0,1.0,1.4174222443770728,24.997761448903685,alpha=-0.15491826092793012,C=1.0.mat\n",
      "Train percent: 0.01\n",
      "Results, using embeddings of dimensionality 512\n",
      "-------------------\n",
      "Train percent: 0.01\n",
      "Average score: {'micro': 0.9174074074074073, 'macro': 0.10018503610158325}\n",
      "-------------------\n"
     ]
    },
    {
     "name": "stderr",
     "output_type": "stream",
     "text": [
      "[I 2019-05-17 18:31:02,707] Finished trial#79 resulted in value: -0.10018503610158325. Current best value is -0.14244551468683442 with parameters: {'weight0': 5.447538846696969, 'weight1': 46.692780128079015, 'alpha': -0.12258453160318016}.\n"
     ]
    },
    {
     "name": "stdout",
     "output_type": "stream",
     "text": [
      "result/www-10k-dim=512,projection_method=sparse,input_matrix=trans,normalization=True,weights=1.0,1.0,16.2419719109987,19.399822794973996,alpha=-0.22277031845606685,C=1.0.mat\n",
      "Train percent: 0.01\n",
      "Results, using embeddings of dimensionality 512\n",
      "-------------------\n",
      "Train percent: 0.01\n",
      "Average score: {'micro': 0.9153872053872054, 'macro': 0.09134731370072317}\n",
      "-------------------\n"
     ]
    },
    {
     "name": "stderr",
     "output_type": "stream",
     "text": [
      "[I 2019-05-17 18:31:04,656] Finished trial#80 resulted in value: -0.09134731370072317. Current best value is -0.14244551468683442 with parameters: {'weight0': 5.447538846696969, 'weight1': 46.692780128079015, 'alpha': -0.12258453160318016}.\n"
     ]
    },
    {
     "name": "stdout",
     "output_type": "stream",
     "text": [
      "result/www-10k-dim=512,projection_method=sparse,input_matrix=trans,normalization=True,weights=1.0,1.0,4.134348055992124,40.520253123945416,alpha=-0.4198969216925451,C=1.0.mat\n",
      "Train percent: 0.01\n",
      "Results, using embeddings of dimensionality 512\n",
      "-------------------\n",
      "Train percent: 0.01\n",
      "Average score: {'micro': 0.9318855218855219, 'macro': 0.11475370658043055}\n",
      "-------------------\n"
     ]
    },
    {
     "name": "stderr",
     "output_type": "stream",
     "text": [
      "[I 2019-05-17 18:31:06,603] Finished trial#81 resulted in value: -0.11475370658043055. Current best value is -0.14244551468683442 with parameters: {'weight0': 5.447538846696969, 'weight1': 46.692780128079015, 'alpha': -0.12258453160318016}.\n"
     ]
    },
    {
     "name": "stdout",
     "output_type": "stream",
     "text": [
      "result/www-10k-dim=512,projection_method=sparse,input_matrix=trans,normalization=True,weights=1.0,1.0,2.587375163374293,48.168131354147725,alpha=-0.3673262026060808,C=1.0.mat\n",
      "Train percent: 0.01\n",
      "Results, using embeddings of dimensionality 512\n",
      "-------------------\n",
      "Train percent: 0.01\n",
      "Average score: {'micro': 0.9312457912457912, 'macro': 0.11010282956761752}\n",
      "-------------------\n"
     ]
    },
    {
     "name": "stderr",
     "output_type": "stream",
     "text": [
      "[I 2019-05-17 18:31:09,358] Finished trial#82 resulted in value: -0.11010282956761752. Current best value is -0.14244551468683442 with parameters: {'weight0': 5.447538846696969, 'weight1': 46.692780128079015, 'alpha': -0.12258453160318016}.\n"
     ]
    },
    {
     "name": "stdout",
     "output_type": "stream",
     "text": [
      "result/www-10k-dim=512,projection_method=sparse,input_matrix=trans,normalization=True,weights=1.0,1.0,3.470688498164334,15.712012322482837,alpha=-0.3336738550791536,C=1.0.mat\n",
      "Train percent: 0.01\n",
      "Results, using embeddings of dimensionality 512\n",
      "-------------------\n",
      "Train percent: 0.01\n",
      "Average score: {'micro': 0.9251851851851852, 'macro': 0.11312351579658081}\n",
      "-------------------\n"
     ]
    },
    {
     "name": "stderr",
     "output_type": "stream",
     "text": [
      "[I 2019-05-17 18:31:11,543] Finished trial#83 resulted in value: -0.11312351579658081. Current best value is -0.14244551468683442 with parameters: {'weight0': 5.447538846696969, 'weight1': 46.692780128079015, 'alpha': -0.12258453160318016}.\n"
     ]
    },
    {
     "name": "stdout",
     "output_type": "stream",
     "text": [
      "result/www-10k-dim=512,projection_method=sparse,input_matrix=trans,normalization=True,weights=1.0,1.0,9.088163488415233,13.679915189320097,alpha=-0.28586515788926664,C=1.0.mat\n",
      "Train percent: 0.01\n",
      "Results, using embeddings of dimensionality 512\n",
      "-------------------\n",
      "Train percent: 0.01\n",
      "Average score: {'micro': 0.9202693602693603, 'macro': 0.10939494100493545}\n",
      "-------------------\n"
     ]
    },
    {
     "name": "stderr",
     "output_type": "stream",
     "text": [
      "[I 2019-05-17 18:31:13,725] Finished trial#84 resulted in value: -0.10939494100493545. Current best value is -0.14244551468683442 with parameters: {'weight0': 5.447538846696969, 'weight1': 46.692780128079015, 'alpha': -0.12258453160318016}.\n"
     ]
    },
    {
     "name": "stdout",
     "output_type": "stream",
     "text": [
      "result/www-10k-dim=512,projection_method=sparse,input_matrix=trans,normalization=True,weights=1.0,1.0,1.9977650336174921,1.039908036531477,alpha=-0.05618340080792479,C=1.0.mat\n",
      "Train percent: 0.01\n",
      "Results, using embeddings of dimensionality 512\n",
      "-------------------\n",
      "Train percent: 0.01\n",
      "Average score: {'micro': 0.9187878787878788, 'macro': 0.09770873304552773}\n",
      "-------------------\n"
     ]
    },
    {
     "name": "stderr",
     "output_type": "stream",
     "text": [
      "[I 2019-05-17 18:31:16,535] Finished trial#85 resulted in value: -0.09770873304552773. Current best value is -0.14244551468683442 with parameters: {'weight0': 5.447538846696969, 'weight1': 46.692780128079015, 'alpha': -0.12258453160318016}.\n"
     ]
    },
    {
     "name": "stdout",
     "output_type": "stream",
     "text": [
      "result/www-10k-dim=512,projection_method=sparse,input_matrix=trans,normalization=True,weights=1.0,1.0,5.135168947767317,35.61843122016783,alpha=-0.10152765881721787,C=1.0.mat\n",
      "Train percent: 0.01\n",
      "Results, using embeddings of dimensionality 512\n",
      "-------------------\n",
      "Train percent: 0.01\n",
      "Average score: {'micro': 0.9203030303030303, 'macro': 0.1187715946968081}\n",
      "-------------------\n"
     ]
    },
    {
     "name": "stderr",
     "output_type": "stream",
     "text": [
      "[I 2019-05-17 18:31:18,604] Finished trial#86 resulted in value: -0.1187715946968081. Current best value is -0.14244551468683442 with parameters: {'weight0': 5.447538846696969, 'weight1': 46.692780128079015, 'alpha': -0.12258453160318016}.\n"
     ]
    },
    {
     "name": "stdout",
     "output_type": "stream",
     "text": [
      "result/www-10k-dim=512,projection_method=sparse,input_matrix=trans,normalization=True,weights=1.0,1.0,2.9032413746254506,6.2082116527485125,alpha=-0.9341917960765389,C=1.0.mat\n",
      "Train percent: 0.01\n",
      "Results, using embeddings of dimensionality 512\n",
      "-------------------\n",
      "Train percent: 0.01\n",
      "Average score: {'micro': 0.9248484848484848, 'macro': 0.10073736057611549}\n",
      "-------------------\n"
     ]
    },
    {
     "name": "stderr",
     "output_type": "stream",
     "text": [
      "[I 2019-05-17 18:31:21,348] Finished trial#87 resulted in value: -0.10073736057611549. Current best value is -0.14244551468683442 with parameters: {'weight0': 5.447538846696969, 'weight1': 46.692780128079015, 'alpha': -0.12258453160318016}.\n"
     ]
    },
    {
     "name": "stdout",
     "output_type": "stream",
     "text": [
      "result/www-10k-dim=512,projection_method=sparse,input_matrix=trans,normalization=True,weights=1.0,1.0,3.255989360970934,10.692976699936658,alpha=-0.14207326939294931,C=1.0.mat\n",
      "Train percent: 0.01\n",
      "Results, using embeddings of dimensionality 512\n",
      "-------------------\n",
      "Train percent: 0.01\n",
      "Average score: {'micro': 0.9210101010101011, 'macro': 0.11379795592876607}\n",
      "-------------------\n"
     ]
    },
    {
     "name": "stderr",
     "output_type": "stream",
     "text": [
      "[I 2019-05-17 18:31:23,385] Finished trial#88 resulted in value: -0.11379795592876607. Current best value is -0.14244551468683442 with parameters: {'weight0': 5.447538846696969, 'weight1': 46.692780128079015, 'alpha': -0.12258453160318016}.\n"
     ]
    },
    {
     "name": "stdout",
     "output_type": "stream",
     "text": [
      "result/www-10k-dim=512,projection_method=sparse,input_matrix=trans,normalization=True,weights=1.0,1.0,10.908025372773613,23.270056357349784,alpha=-0.08316183795422048,C=1.0.mat\n",
      "Train percent: 0.01\n",
      "Results, using embeddings of dimensionality 512\n",
      "-------------------\n",
      "Train percent: 0.01\n",
      "Average score: {'micro': 0.9074074074074074, 'macro': 0.09890290991433216}\n",
      "-------------------\n"
     ]
    },
    {
     "name": "stderr",
     "output_type": "stream",
     "text": [
      "[I 2019-05-17 18:31:25,551] Finished trial#89 resulted in value: -0.09890290991433216. Current best value is -0.14244551468683442 with parameters: {'weight0': 5.447538846696969, 'weight1': 46.692780128079015, 'alpha': -0.12258453160318016}.\n"
     ]
    },
    {
     "name": "stdout",
     "output_type": "stream",
     "text": [
      "result/www-10k-dim=512,projection_method=sparse,input_matrix=trans,normalization=True,weights=1.0,1.0,12.724344029495878,29.559300237837874,alpha=-0.49538161034318684,C=1.0.mat\n",
      "Train percent: 0.01\n",
      "Results, using embeddings of dimensionality 512\n",
      "-------------------\n",
      "Train percent: 0.01\n",
      "Average score: {'micro': 0.9263636363636364, 'macro': 0.10413163397191993}\n",
      "-------------------\n"
     ]
    },
    {
     "name": "stderr",
     "output_type": "stream",
     "text": [
      "[I 2019-05-17 18:31:28,214] Finished trial#90 resulted in value: -0.10413163397191993. Current best value is -0.14244551468683442 with parameters: {'weight0': 5.447538846696969, 'weight1': 46.692780128079015, 'alpha': -0.12258453160318016}.\n"
     ]
    },
    {
     "name": "stdout",
     "output_type": "stream",
     "text": [
      "result/www-10k-dim=512,projection_method=sparse,input_matrix=trans,normalization=True,weights=1.0,1.0,7.285460967586612,8.937790021681023,alpha=-0.24998892842366308,C=1.0.mat\n",
      "Train percent: 0.01\n",
      "Results, using embeddings of dimensionality 512\n",
      "-------------------\n",
      "Train percent: 0.01\n",
      "Average score: {'micro': 0.915959595959596, 'macro': 0.09626769096509614}\n",
      "-------------------\n"
     ]
    },
    {
     "name": "stderr",
     "output_type": "stream",
     "text": [
      "[I 2019-05-17 18:31:30,046] Finished trial#91 resulted in value: -0.09626769096509614. Current best value is -0.14244551468683442 with parameters: {'weight0': 5.447538846696969, 'weight1': 46.692780128079015, 'alpha': -0.12258453160318016}.\n"
     ]
    },
    {
     "name": "stdout",
     "output_type": "stream",
     "text": [
      "result/www-10k-dim=512,projection_method=sparse,input_matrix=trans,normalization=True,weights=1.0,1.0,26.614669036781933,55.86287817626674,alpha=-0.00415947114095136,C=1.0.mat\n",
      "Train percent: 0.01\n",
      "Results, using embeddings of dimensionality 512\n",
      "-------------------\n",
      "Train percent: 0.01\n",
      "Average score: {'micro': 0.9247811447811447, 'macro': 0.10632029044592699}\n",
      "-------------------\n"
     ]
    },
    {
     "name": "stderr",
     "output_type": "stream",
     "text": [
      "[I 2019-05-17 18:31:31,968] Finished trial#92 resulted in value: -0.10632029044592699. Current best value is -0.14244551468683442 with parameters: {'weight0': 5.447538846696969, 'weight1': 46.692780128079015, 'alpha': -0.12258453160318016}.\n"
     ]
    },
    {
     "name": "stdout",
     "output_type": "stream",
     "text": [
      "result/www-10k-dim=512,projection_method=sparse,input_matrix=trans,normalization=True,weights=1.0,1.0,9.631534377726387,19.848573423033383,alpha=-0.3074499782128346,C=1.0.mat\n",
      "Train percent: 0.01\n",
      "Results, using embeddings of dimensionality 512\n",
      "-------------------\n",
      "Train percent: 0.01\n",
      "Average score: {'micro': 0.9278787878787879, 'macro': 0.10688404851073391}\n",
      "-------------------\n"
     ]
    },
    {
     "name": "stderr",
     "output_type": "stream",
     "text": [
      "[I 2019-05-17 18:31:35,035] Finished trial#93 resulted in value: -0.10688404851073391. Current best value is -0.14244551468683442 with parameters: {'weight0': 5.447538846696969, 'weight1': 46.692780128079015, 'alpha': -0.12258453160318016}.\n"
     ]
    },
    {
     "name": "stdout",
     "output_type": "stream",
     "text": [
      "result/www-10k-dim=512,projection_method=sparse,input_matrix=trans,normalization=True,weights=1.0,1.0,8.454251160450086,17.259564284716568,alpha=-0.8379490675892479,C=1.0.mat\n",
      "Train percent: 0.01\n",
      "Results, using embeddings of dimensionality 512\n",
      "-------------------\n",
      "Train percent: 0.01\n",
      "Average score: {'micro': 0.9282491582491582, 'macro': 0.10204575782741682}\n",
      "-------------------\n"
     ]
    },
    {
     "name": "stderr",
     "output_type": "stream",
     "text": [
      "[I 2019-05-17 18:31:37,071] Finished trial#94 resulted in value: -0.10204575782741682. Current best value is -0.14244551468683442 with parameters: {'weight0': 5.447538846696969, 'weight1': 46.692780128079015, 'alpha': -0.12258453160318016}.\n"
     ]
    },
    {
     "name": "stdout",
     "output_type": "stream",
     "text": [
      "result/www-10k-dim=512,projection_method=sparse,input_matrix=trans,normalization=True,weights=1.0,1.0,3.8882127374423163,32.61720592637015,alpha=-0.030713613258624872,C=1.0.mat\n",
      "Train percent: 0.01\n",
      "Results, using embeddings of dimensionality 512\n",
      "-------------------\n",
      "Train percent: 0.01\n",
      "Average score: {'micro': 0.925959595959596, 'macro': 0.0964608968133065}\n",
      "-------------------\n"
     ]
    },
    {
     "name": "stderr",
     "output_type": "stream",
     "text": [
      "[I 2019-05-17 18:31:39,115] Finished trial#95 resulted in value: -0.0964608968133065. Current best value is -0.14244551468683442 with parameters: {'weight0': 5.447538846696969, 'weight1': 46.692780128079015, 'alpha': -0.12258453160318016}.\n"
     ]
    },
    {
     "name": "stdout",
     "output_type": "stream",
     "text": [
      "result/www-10k-dim=512,projection_method=sparse,input_matrix=trans,normalization=True,weights=1.0,1.0,53.77239090528148,50.662695807989024,alpha=-0.3924791422164598,C=1.0.mat\n",
      "Train percent: 0.01\n",
      "Results, using embeddings of dimensionality 512\n",
      "-------------------\n",
      "Train percent: 0.01\n",
      "Average score: {'micro': 0.921077441077441, 'macro': 0.12074081099313834}\n",
      "-------------------\n"
     ]
    },
    {
     "name": "stderr",
     "output_type": "stream",
     "text": [
      "[I 2019-05-17 18:31:42,108] Finished trial#96 resulted in value: -0.12074081099313834. Current best value is -0.14244551468683442 with parameters: {'weight0': 5.447538846696969, 'weight1': 46.692780128079015, 'alpha': -0.12258453160318016}.\n"
     ]
    },
    {
     "name": "stdout",
     "output_type": "stream",
     "text": [
      "result/www-10k-dim=512,projection_method=sparse,input_matrix=trans,normalization=True,weights=1.0,1.0,4.750127742067285,43.10675384673146,alpha=-0.35892953740242634,C=1.0.mat\n",
      "Train percent: 0.01\n",
      "Results, using embeddings of dimensionality 512\n",
      "-------------------\n",
      "Train percent: 0.01\n",
      "Average score: {'micro': 0.9162962962962963, 'macro': 0.09077450590336296}\n",
      "-------------------\n"
     ]
    },
    {
     "name": "stderr",
     "output_type": "stream",
     "text": [
      "[I 2019-05-17 18:31:43,919] Finished trial#97 resulted in value: -0.09077450590336296. Current best value is -0.14244551468683442 with parameters: {'weight0': 5.447538846696969, 'weight1': 46.692780128079015, 'alpha': -0.12258453160318016}.\n"
     ]
    },
    {
     "name": "stdout",
     "output_type": "stream",
     "text": [
      "result/www-10k-dim=512,projection_method=sparse,input_matrix=trans,normalization=True,weights=1.0,1.0,1.165756255434542,1.2442167041725156,alpha=-0.6125418302529251,C=1.0.mat\n",
      "Train percent: 0.01\n",
      "Results, using embeddings of dimensionality 512\n",
      "-------------------\n",
      "Train percent: 0.01\n",
      "Average score: {'micro': 0.9281144781144781, 'macro': 0.10514404712634724}\n",
      "-------------------\n"
     ]
    },
    {
     "name": "stderr",
     "output_type": "stream",
     "text": [
      "[I 2019-05-17 18:31:46,751] Finished trial#98 resulted in value: -0.10514404712634724. Current best value is -0.14244551468683442 with parameters: {'weight0': 5.447538846696969, 'weight1': 46.692780128079015, 'alpha': -0.12258453160318016}.\n"
     ]
    },
    {
     "name": "stdout",
     "output_type": "stream",
     "text": [
      "result/www-10k-dim=512,projection_method=sparse,input_matrix=trans,normalization=True,weights=1.0,1.0,5.773063970760835,61.70669631318589,alpha=-0.1178539504840548,C=1.0.mat\n",
      "Train percent: 0.01\n"
     ]
    },
    {
     "ename": "KeyboardInterrupt",
     "evalue": "",
     "output_type": "error",
     "traceback": [
      "\u001b[0;31m---------------------------------------------------------------------------\u001b[0m",
      "\u001b[0;31mKeyboardInterrupt\u001b[0m                         Traceback (most recent call last)",
      "\u001b[0;32m<timed exec>\u001b[0m in \u001b[0;36m<module>\u001b[0;34m\u001b[0m\n",
      "\u001b[0;32m~/anaconda3/lib/python3.7/site-packages/optuna/study.py\u001b[0m in \u001b[0;36moptimize\u001b[0;34m(self, func, n_trials, timeout, n_jobs, catch)\u001b[0m\n\u001b[1;32m    208\u001b[0m \u001b[0;34m\u001b[0m\u001b[0m\n\u001b[1;32m    209\u001b[0m         \u001b[0;32mif\u001b[0m \u001b[0mn_jobs\u001b[0m \u001b[0;34m==\u001b[0m \u001b[0;36m1\u001b[0m\u001b[0;34m:\u001b[0m\u001b[0;34m\u001b[0m\u001b[0;34m\u001b[0m\u001b[0m\n\u001b[0;32m--> 210\u001b[0;31m             \u001b[0mself\u001b[0m\u001b[0;34m.\u001b[0m\u001b[0m_optimize_sequential\u001b[0m\u001b[0;34m(\u001b[0m\u001b[0mfunc\u001b[0m\u001b[0;34m,\u001b[0m \u001b[0mn_trials\u001b[0m\u001b[0;34m,\u001b[0m \u001b[0mtimeout\u001b[0m\u001b[0;34m,\u001b[0m \u001b[0mcatch\u001b[0m\u001b[0;34m)\u001b[0m\u001b[0;34m\u001b[0m\u001b[0;34m\u001b[0m\u001b[0m\n\u001b[0m\u001b[1;32m    211\u001b[0m         \u001b[0;32melse\u001b[0m\u001b[0;34m:\u001b[0m\u001b[0;34m\u001b[0m\u001b[0;34m\u001b[0m\u001b[0m\n\u001b[1;32m    212\u001b[0m             \u001b[0mself\u001b[0m\u001b[0;34m.\u001b[0m\u001b[0m_optimize_parallel\u001b[0m\u001b[0;34m(\u001b[0m\u001b[0mfunc\u001b[0m\u001b[0;34m,\u001b[0m \u001b[0mn_trials\u001b[0m\u001b[0;34m,\u001b[0m \u001b[0mtimeout\u001b[0m\u001b[0;34m,\u001b[0m \u001b[0mn_jobs\u001b[0m\u001b[0;34m,\u001b[0m \u001b[0mcatch\u001b[0m\u001b[0;34m)\u001b[0m\u001b[0;34m\u001b[0m\u001b[0;34m\u001b[0m\u001b[0m\n",
      "\u001b[0;32m~/anaconda3/lib/python3.7/site-packages/optuna/study.py\u001b[0m in \u001b[0;36m_optimize_sequential\u001b[0;34m(self, func, n_trials, timeout, catch)\u001b[0m\n\u001b[1;32m    322\u001b[0m                     \u001b[0;32mbreak\u001b[0m\u001b[0;34m\u001b[0m\u001b[0;34m\u001b[0m\u001b[0m\n\u001b[1;32m    323\u001b[0m \u001b[0;34m\u001b[0m\u001b[0m\n\u001b[0;32m--> 324\u001b[0;31m             \u001b[0mself\u001b[0m\u001b[0;34m.\u001b[0m\u001b[0m_run_trial\u001b[0m\u001b[0;34m(\u001b[0m\u001b[0mfunc\u001b[0m\u001b[0;34m,\u001b[0m \u001b[0mcatch\u001b[0m\u001b[0;34m)\u001b[0m\u001b[0;34m\u001b[0m\u001b[0;34m\u001b[0m\u001b[0m\n\u001b[0m\u001b[1;32m    325\u001b[0m \u001b[0;34m\u001b[0m\u001b[0m\n\u001b[1;32m    326\u001b[0m     def _optimize_parallel(\n",
      "\u001b[0;32m~/anaconda3/lib/python3.7/site-packages/optuna/study.py\u001b[0m in \u001b[0;36m_run_trial\u001b[0;34m(self, func, catch)\u001b[0m\n\u001b[1;32m    396\u001b[0m \u001b[0;34m\u001b[0m\u001b[0m\n\u001b[1;32m    397\u001b[0m         \u001b[0;32mtry\u001b[0m\u001b[0;34m:\u001b[0m\u001b[0;34m\u001b[0m\u001b[0;34m\u001b[0m\u001b[0m\n\u001b[0;32m--> 398\u001b[0;31m             \u001b[0mresult\u001b[0m \u001b[0;34m=\u001b[0m \u001b[0mfunc\u001b[0m\u001b[0;34m(\u001b[0m\u001b[0mtrial\u001b[0m\u001b[0;34m)\u001b[0m\u001b[0;34m\u001b[0m\u001b[0;34m\u001b[0m\u001b[0m\n\u001b[0m\u001b[1;32m    399\u001b[0m         \u001b[0;32mexcept\u001b[0m \u001b[0mstructs\u001b[0m\u001b[0;34m.\u001b[0m\u001b[0mTrialPruned\u001b[0m \u001b[0;32mas\u001b[0m \u001b[0me\u001b[0m\u001b[0;34m:\u001b[0m\u001b[0;34m\u001b[0m\u001b[0;34m\u001b[0m\u001b[0m\n\u001b[1;32m    400\u001b[0m             message = 'Setting status of trial#{} as {}. {}'.format(trial_number,\n",
      "\u001b[0;32m<timed exec>\u001b[0m in \u001b[0;36mobjective\u001b[0;34m(trial)\u001b[0m\n",
      "\u001b[0;32m~/fast-random-projection/scoring.py\u001b[0m in \u001b[0;36mscoring\u001b[0;34m(predefined_args, emb)\u001b[0m\n\u001b[1;32m    169\u001b[0m             \u001b[0maverages\u001b[0m \u001b[0;34m=\u001b[0m \u001b[0;34m[\u001b[0m\u001b[0;34m\"micro\"\u001b[0m\u001b[0;34m,\u001b[0m \u001b[0;34m\"macro\"\u001b[0m\u001b[0;34m]\u001b[0m\u001b[0;34m\u001b[0m\u001b[0;34m\u001b[0m\u001b[0m\n\u001b[1;32m    170\u001b[0m             \u001b[0;32mfor\u001b[0m \u001b[0maverage\u001b[0m \u001b[0;32min\u001b[0m \u001b[0maverages\u001b[0m\u001b[0;34m:\u001b[0m\u001b[0;34m\u001b[0m\u001b[0;34m\u001b[0m\u001b[0m\n\u001b[0;32m--> 171\u001b[0;31m                     \u001b[0mresults\u001b[0m\u001b[0;34m[\u001b[0m\u001b[0maverage\u001b[0m\u001b[0;34m]\u001b[0m \u001b[0;34m=\u001b[0m \u001b[0mf1_score\u001b[0m\u001b[0;34m(\u001b[0m\u001b[0mmlb\u001b[0m\u001b[0;34m.\u001b[0m\u001b[0mfit_transform\u001b[0m\u001b[0;34m(\u001b[0m\u001b[0my_test\u001b[0m\u001b[0;34m)\u001b[0m\u001b[0;34m,\u001b[0m \u001b[0mmlb\u001b[0m\u001b[0;34m.\u001b[0m\u001b[0mfit_transform\u001b[0m\u001b[0;34m(\u001b[0m\u001b[0mpreds\u001b[0m\u001b[0;34m)\u001b[0m\u001b[0;34m,\u001b[0m \u001b[0maverage\u001b[0m\u001b[0;34m=\u001b[0m\u001b[0maverage\u001b[0m\u001b[0;34m)\u001b[0m\u001b[0;34m\u001b[0m\u001b[0;34m\u001b[0m\u001b[0m\n\u001b[0m\u001b[1;32m    172\u001b[0m             \u001b[0mcur_result\u001b[0m \u001b[0;34m=\u001b[0m \u001b[0;34m(\u001b[0m\u001b[0my_test\u001b[0m\u001b[0;34m,\u001b[0m \u001b[0mpreds\u001b[0m\u001b[0;34m,\u001b[0m \u001b[0mindices_test\u001b[0m\u001b[0;34m)\u001b[0m\u001b[0;34m\u001b[0m\u001b[0;34m\u001b[0m\u001b[0m\n\u001b[1;32m    173\u001b[0m \u001b[0;34m\u001b[0m\u001b[0m\n",
      "\u001b[0;32m~/anaconda3/lib/python3.7/site-packages/sklearn/metrics/classification.py\u001b[0m in \u001b[0;36mf1_score\u001b[0;34m(y_true, y_pred, labels, pos_label, average, sample_weight)\u001b[0m\n\u001b[1;32m    718\u001b[0m     return fbeta_score(y_true, y_pred, 1, labels=labels,\n\u001b[1;32m    719\u001b[0m                        \u001b[0mpos_label\u001b[0m\u001b[0;34m=\u001b[0m\u001b[0mpos_label\u001b[0m\u001b[0;34m,\u001b[0m \u001b[0maverage\u001b[0m\u001b[0;34m=\u001b[0m\u001b[0maverage\u001b[0m\u001b[0;34m,\u001b[0m\u001b[0;34m\u001b[0m\u001b[0;34m\u001b[0m\u001b[0m\n\u001b[0;32m--> 720\u001b[0;31m                        sample_weight=sample_weight)\n\u001b[0m\u001b[1;32m    721\u001b[0m \u001b[0;34m\u001b[0m\u001b[0m\n\u001b[1;32m    722\u001b[0m \u001b[0;34m\u001b[0m\u001b[0m\n",
      "\u001b[0;32m~/anaconda3/lib/python3.7/site-packages/sklearn/metrics/classification.py\u001b[0m in \u001b[0;36mfbeta_score\u001b[0;34m(y_true, y_pred, beta, labels, pos_label, average, sample_weight)\u001b[0m\n\u001b[1;32m    832\u001b[0m                                                  \u001b[0maverage\u001b[0m\u001b[0;34m=\u001b[0m\u001b[0maverage\u001b[0m\u001b[0;34m,\u001b[0m\u001b[0;34m\u001b[0m\u001b[0;34m\u001b[0m\u001b[0m\n\u001b[1;32m    833\u001b[0m                                                  \u001b[0mwarn_for\u001b[0m\u001b[0;34m=\u001b[0m\u001b[0;34m(\u001b[0m\u001b[0;34m'f-score'\u001b[0m\u001b[0;34m,\u001b[0m\u001b[0;34m)\u001b[0m\u001b[0;34m,\u001b[0m\u001b[0;34m\u001b[0m\u001b[0;34m\u001b[0m\u001b[0m\n\u001b[0;32m--> 834\u001b[0;31m                                                  sample_weight=sample_weight)\n\u001b[0m\u001b[1;32m    835\u001b[0m     \u001b[0;32mreturn\u001b[0m \u001b[0mf\u001b[0m\u001b[0;34m\u001b[0m\u001b[0;34m\u001b[0m\u001b[0m\n\u001b[1;32m    836\u001b[0m \u001b[0;34m\u001b[0m\u001b[0m\n",
      "\u001b[0;32m~/anaconda3/lib/python3.7/site-packages/sklearn/metrics/classification.py\u001b[0m in \u001b[0;36mprecision_recall_fscore_support\u001b[0;34m(y_true, y_pred, beta, labels, pos_label, average, warn_for, sample_weight)\u001b[0m\n\u001b[1;32m   1029\u001b[0m         \u001b[0;32mraise\u001b[0m \u001b[0mValueError\u001b[0m\u001b[0;34m(\u001b[0m\u001b[0;34m\"beta should be >0 in the F-beta score\"\u001b[0m\u001b[0;34m)\u001b[0m\u001b[0;34m\u001b[0m\u001b[0;34m\u001b[0m\u001b[0m\n\u001b[1;32m   1030\u001b[0m \u001b[0;34m\u001b[0m\u001b[0m\n\u001b[0;32m-> 1031\u001b[0;31m     \u001b[0my_type\u001b[0m\u001b[0;34m,\u001b[0m \u001b[0my_true\u001b[0m\u001b[0;34m,\u001b[0m \u001b[0my_pred\u001b[0m \u001b[0;34m=\u001b[0m \u001b[0m_check_targets\u001b[0m\u001b[0;34m(\u001b[0m\u001b[0my_true\u001b[0m\u001b[0;34m,\u001b[0m \u001b[0my_pred\u001b[0m\u001b[0;34m)\u001b[0m\u001b[0;34m\u001b[0m\u001b[0;34m\u001b[0m\u001b[0m\n\u001b[0m\u001b[1;32m   1032\u001b[0m     \u001b[0mcheck_consistent_length\u001b[0m\u001b[0;34m(\u001b[0m\u001b[0my_true\u001b[0m\u001b[0;34m,\u001b[0m \u001b[0my_pred\u001b[0m\u001b[0;34m,\u001b[0m \u001b[0msample_weight\u001b[0m\u001b[0;34m)\u001b[0m\u001b[0;34m\u001b[0m\u001b[0;34m\u001b[0m\u001b[0m\n\u001b[1;32m   1033\u001b[0m     \u001b[0mpresent_labels\u001b[0m \u001b[0;34m=\u001b[0m \u001b[0munique_labels\u001b[0m\u001b[0;34m(\u001b[0m\u001b[0my_true\u001b[0m\u001b[0;34m,\u001b[0m \u001b[0my_pred\u001b[0m\u001b[0;34m)\u001b[0m\u001b[0;34m\u001b[0m\u001b[0;34m\u001b[0m\u001b[0m\n",
      "\u001b[0;32m~/anaconda3/lib/python3.7/site-packages/sklearn/metrics/classification.py\u001b[0m in \u001b[0;36m_check_targets\u001b[0;34m(y_true, y_pred)\u001b[0m\n\u001b[1;32m     70\u001b[0m     \"\"\"\n\u001b[1;32m     71\u001b[0m     \u001b[0mcheck_consistent_length\u001b[0m\u001b[0;34m(\u001b[0m\u001b[0my_true\u001b[0m\u001b[0;34m,\u001b[0m \u001b[0my_pred\u001b[0m\u001b[0;34m)\u001b[0m\u001b[0;34m\u001b[0m\u001b[0;34m\u001b[0m\u001b[0m\n\u001b[0;32m---> 72\u001b[0;31m     \u001b[0mtype_true\u001b[0m \u001b[0;34m=\u001b[0m \u001b[0mtype_of_target\u001b[0m\u001b[0;34m(\u001b[0m\u001b[0my_true\u001b[0m\u001b[0;34m)\u001b[0m\u001b[0;34m\u001b[0m\u001b[0;34m\u001b[0m\u001b[0m\n\u001b[0m\u001b[1;32m     73\u001b[0m     \u001b[0mtype_pred\u001b[0m \u001b[0;34m=\u001b[0m \u001b[0mtype_of_target\u001b[0m\u001b[0;34m(\u001b[0m\u001b[0my_pred\u001b[0m\u001b[0;34m)\u001b[0m\u001b[0;34m\u001b[0m\u001b[0;34m\u001b[0m\u001b[0m\n\u001b[1;32m     74\u001b[0m \u001b[0;34m\u001b[0m\u001b[0m\n",
      "\u001b[0;32m~/anaconda3/lib/python3.7/site-packages/sklearn/utils/multiclass.py\u001b[0m in \u001b[0;36mtype_of_target\u001b[0;34m(y)\u001b[0m\n\u001b[1;32m    247\u001b[0m         \u001b[0;32mraise\u001b[0m \u001b[0mValueError\u001b[0m\u001b[0;34m(\u001b[0m\u001b[0;34m\"y cannot be class 'SparseSeries'.\"\u001b[0m\u001b[0;34m)\u001b[0m\u001b[0;34m\u001b[0m\u001b[0;34m\u001b[0m\u001b[0m\n\u001b[1;32m    248\u001b[0m \u001b[0;34m\u001b[0m\u001b[0m\n\u001b[0;32m--> 249\u001b[0;31m     \u001b[0;32mif\u001b[0m \u001b[0mis_multilabel\u001b[0m\u001b[0;34m(\u001b[0m\u001b[0my\u001b[0m\u001b[0;34m)\u001b[0m\u001b[0;34m:\u001b[0m\u001b[0;34m\u001b[0m\u001b[0;34m\u001b[0m\u001b[0m\n\u001b[0m\u001b[1;32m    250\u001b[0m         \u001b[0;32mreturn\u001b[0m \u001b[0;34m'multilabel-indicator'\u001b[0m\u001b[0;34m\u001b[0m\u001b[0;34m\u001b[0m\u001b[0m\n\u001b[1;32m    251\u001b[0m \u001b[0;34m\u001b[0m\u001b[0m\n",
      "\u001b[0;32m~/anaconda3/lib/python3.7/site-packages/sklearn/utils/multiclass.py\u001b[0m in \u001b[0;36mis_multilabel\u001b[0;34m(y)\u001b[0m\n\u001b[1;32m    149\u001b[0m                  _is_integral_float(np.unique(y.data))))\n\u001b[1;32m    150\u001b[0m     \u001b[0;32melse\u001b[0m\u001b[0;34m:\u001b[0m\u001b[0;34m\u001b[0m\u001b[0;34m\u001b[0m\u001b[0m\n\u001b[0;32m--> 151\u001b[0;31m         \u001b[0mlabels\u001b[0m \u001b[0;34m=\u001b[0m \u001b[0mnp\u001b[0m\u001b[0;34m.\u001b[0m\u001b[0munique\u001b[0m\u001b[0;34m(\u001b[0m\u001b[0my\u001b[0m\u001b[0;34m)\u001b[0m\u001b[0;34m\u001b[0m\u001b[0;34m\u001b[0m\u001b[0m\n\u001b[0m\u001b[1;32m    152\u001b[0m \u001b[0;34m\u001b[0m\u001b[0m\n\u001b[1;32m    153\u001b[0m         return len(labels) < 3 and (y.dtype.kind in 'biu' or  # bool, int, uint\n",
      "\u001b[0;32m~/anaconda3/lib/python3.7/site-packages/numpy/lib/arraysetops.py\u001b[0m in \u001b[0;36munique\u001b[0;34m(ar, return_index, return_inverse, return_counts, axis)\u001b[0m\n\u001b[1;32m    231\u001b[0m     \u001b[0mar\u001b[0m \u001b[0;34m=\u001b[0m \u001b[0mnp\u001b[0m\u001b[0;34m.\u001b[0m\u001b[0masanyarray\u001b[0m\u001b[0;34m(\u001b[0m\u001b[0mar\u001b[0m\u001b[0;34m)\u001b[0m\u001b[0;34m\u001b[0m\u001b[0;34m\u001b[0m\u001b[0m\n\u001b[1;32m    232\u001b[0m     \u001b[0;32mif\u001b[0m \u001b[0maxis\u001b[0m \u001b[0;32mis\u001b[0m \u001b[0;32mNone\u001b[0m\u001b[0;34m:\u001b[0m\u001b[0;34m\u001b[0m\u001b[0;34m\u001b[0m\u001b[0m\n\u001b[0;32m--> 233\u001b[0;31m         \u001b[0mret\u001b[0m \u001b[0;34m=\u001b[0m \u001b[0m_unique1d\u001b[0m\u001b[0;34m(\u001b[0m\u001b[0mar\u001b[0m\u001b[0;34m,\u001b[0m \u001b[0mreturn_index\u001b[0m\u001b[0;34m,\u001b[0m \u001b[0mreturn_inverse\u001b[0m\u001b[0;34m,\u001b[0m \u001b[0mreturn_counts\u001b[0m\u001b[0;34m)\u001b[0m\u001b[0;34m\u001b[0m\u001b[0;34m\u001b[0m\u001b[0m\n\u001b[0m\u001b[1;32m    234\u001b[0m         \u001b[0;32mreturn\u001b[0m \u001b[0m_unpack_tuple\u001b[0m\u001b[0;34m(\u001b[0m\u001b[0mret\u001b[0m\u001b[0;34m)\u001b[0m\u001b[0;34m\u001b[0m\u001b[0;34m\u001b[0m\u001b[0m\n\u001b[1;32m    235\u001b[0m \u001b[0;34m\u001b[0m\u001b[0m\n",
      "\u001b[0;32m~/anaconda3/lib/python3.7/site-packages/numpy/lib/arraysetops.py\u001b[0m in \u001b[0;36m_unique1d\u001b[0;34m(ar, return_index, return_inverse, return_counts)\u001b[0m\n\u001b[1;32m    271\u001b[0m     \u001b[0mFind\u001b[0m \u001b[0mthe\u001b[0m \u001b[0munique\u001b[0m \u001b[0melements\u001b[0m \u001b[0mof\u001b[0m \u001b[0man\u001b[0m \u001b[0marray\u001b[0m\u001b[0;34m,\u001b[0m \u001b[0mignoring\u001b[0m \u001b[0mshape\u001b[0m\u001b[0;34m.\u001b[0m\u001b[0;34m\u001b[0m\u001b[0;34m\u001b[0m\u001b[0m\n\u001b[1;32m    272\u001b[0m     \"\"\"\n\u001b[0;32m--> 273\u001b[0;31m     \u001b[0mar\u001b[0m \u001b[0;34m=\u001b[0m \u001b[0mnp\u001b[0m\u001b[0;34m.\u001b[0m\u001b[0masanyarray\u001b[0m\u001b[0;34m(\u001b[0m\u001b[0mar\u001b[0m\u001b[0;34m)\u001b[0m\u001b[0;34m.\u001b[0m\u001b[0mflatten\u001b[0m\u001b[0;34m(\u001b[0m\u001b[0;34m)\u001b[0m\u001b[0;34m\u001b[0m\u001b[0;34m\u001b[0m\u001b[0m\n\u001b[0m\u001b[1;32m    274\u001b[0m \u001b[0;34m\u001b[0m\u001b[0m\n\u001b[1;32m    275\u001b[0m     \u001b[0moptional_indices\u001b[0m \u001b[0;34m=\u001b[0m \u001b[0mreturn_index\u001b[0m \u001b[0;32mor\u001b[0m \u001b[0mreturn_inverse\u001b[0m\u001b[0;34m\u001b[0m\u001b[0;34m\u001b[0m\u001b[0m\n",
      "\u001b[0;31mKeyboardInterrupt\u001b[0m: "
     ]
    }
   ],
   "source": [
    "%%time\n",
    "order_range = 2\n",
    "def objective(trial):\n",
    "\n",
    "    # Invoke suggest methods of a Trial object to generate hyperparameters.\n",
    "    weights = [trial.suggest_loguniform('weight' + str(order), 1.0, 64.0) for order in range(order_range)]\n",
    "    alpha = trial.suggest_uniform('alpha', -1.0, 0.0)\n",
    "    conf = {\n",
    "        'projection_method': 'sparse',\n",
    "        'input_matrix': 'trans',\n",
    "        'weights': [1.0, 1.0] + weights,\n",
    "        'normalization': True,\n",
    "        'dim': 512,\n",
    "        'alpha': alpha,\n",
    "        'C': 1.0\n",
    "    }\n",
    "    emb_filename = get_emb_filename(prefix, conf)\n",
    "    print (emb_filename)\n",
    "    # first check if this file already exists\n",
    "    path = Path(emb_filename)\n",
    "    if not path.is_file():\n",
    "        U = fastrp_wrapper(A, conf)\n",
    "        savemat(emb_filename, {'emb': U})\n",
    "    else:\n",
    "        print ('File %s already exists, skipped.' % emb_filename)\n",
    "    f1_scores = scoring(\n",
    "        [\n",
    "            \"--emb\", emb_filename,\n",
    "            \"--network\", data_fname,\n",
    "            \"--num-shuffles\", \"5\",\n",
    "            \"--debug\",\n",
    "            \"--C\", str(conf['C']),\n",
    "            \"--training-percents\", \"10\",\n",
    "        ]\n",
    "    )\n",
    "    # there should only be one entry here\n",
    "    return -f1_scores[0]['macro']\n",
    "\n",
    "study = optuna.create_study()  # Create a new study.\n",
    "study.optimize(objective, n_trials=100)  # Invoke optimization of the objective function."
   ]
  },
  {
   "cell_type": "code",
   "execution_count": 194,
   "metadata": {},
   "outputs": [
    {
     "data": {
      "text/plain": [
       "FrozenTrial(number=26, state=<TrialState.COMPLETE: 1>, value=-0.14244551468683442, datetime_start=datetime.datetime(2019, 5, 17, 18, 28, 50, 601813), datetime_complete=datetime.datetime(2019, 5, 17, 18, 28, 53, 21573), params={'weight0': 5.447538846696969, 'weight1': 46.692780128079015, 'alpha': -0.12258453160318016}, user_attrs={}, system_attrs={'_number': 26}, intermediate_values={}, params_in_internal_repr={'weight0': 5.447538846696969, 'weight1': 46.692780128079015, 'alpha': -0.12258453160318016}, trial_id=26)"
      ]
     },
     "execution_count": 194,
     "metadata": {},
     "output_type": "execute_result"
    }
   ],
   "source": [
    "study.best_trial"
   ]
  },
  {
   "cell_type": "markdown",
   "metadata": {},
   "source": [
    "Note that we switch to dim=512 here for better performance!"
   ]
  },
  {
   "cell_type": "code",
   "execution_count": 195,
   "metadata": {},
   "outputs": [
    {
     "name": "stdout",
     "output_type": "stream",
     "text": [
      "result/www-10k-dim=512,projection_method=sparse,input_matrix=trans,normalization=True,weights=1.0,1.0,5.447538846696969,46.692780128079015,alpha=-0.12258453160318016,C=1.0.mat\n",
      "File result/www-10k-dim=512,projection_method=sparse,input_matrix=trans,normalization=True,weights=1.0,1.0,5.447538846696969,46.692780128079015,alpha=-0.12258453160318016,C=1.0.mat already exists, skipped.\n",
      "Train percent: 0.01\n",
      "Train percent: 0.02\n",
      "Train percent: 0.03\n",
      "Train percent: 0.04\n",
      "Train percent: 0.05\n",
      "Train percent: 0.06\n",
      "Train percent: 0.07\n",
      "Train percent: 0.08\n",
      "Train percent: 0.09\n",
      "Results, using embeddings of dimensionality 512\n",
      "-------------------\n",
      "Train percent: 0.01\n",
      "Average score: {'micro': 0.9162828282828283, 'macro': 0.10171339105330095}\n",
      "-------------------\n",
      "Train percent: 0.02\n",
      "Average score: {'micro': 0.9455510204081634, 'macro': 0.14824566589401134}\n",
      "-------------------\n",
      "Train percent: 0.03\n",
      "Average score: {'micro': 0.9569896907216495, 'macro': 0.18722639474254743}\n",
      "-------------------\n",
      "Train percent: 0.04\n",
      "Average score: {'micro': 0.9634791666666667, 'macro': 0.21689978617678368}\n",
      "-------------------\n",
      "Train percent: 0.05\n",
      "Average score: {'micro': 0.9658315789473685, 'macro': 0.23904650116802872}\n",
      "-------------------\n",
      "Train percent: 0.06\n",
      "Average score: {'micro': 0.9676170212765957, 'macro': 0.25534784310134856}\n",
      "-------------------\n",
      "Train percent: 0.07\n",
      "Average score: {'micro': 0.9715268817204301, 'macro': 0.2866262196437616}\n",
      "-------------------\n",
      "Train percent: 0.08\n",
      "Average score: {'micro': 0.9744130434782609, 'macro': 0.3156996951479455}\n",
      "-------------------\n",
      "Train percent: 0.09\n",
      "Average score: {'micro': 0.9754065934065934, 'macro': 0.32548732580173534}\n",
      "-------------------\n"
     ]
    },
    {
     "data": {
      "text/plain": [
       "[defaultdict(float,\n",
       "             {'micro': 0.9162828282828283,\n",
       "              'macro': 0.10171339105330095,\n",
       "              'training': 0.01}),\n",
       " defaultdict(float,\n",
       "             {'micro': 0.9455510204081634,\n",
       "              'macro': 0.14824566589401134,\n",
       "              'training': 0.02}),\n",
       " defaultdict(float,\n",
       "             {'micro': 0.9569896907216495,\n",
       "              'macro': 0.18722639474254743,\n",
       "              'training': 0.03}),\n",
       " defaultdict(float,\n",
       "             {'micro': 0.9634791666666667,\n",
       "              'macro': 0.21689978617678368,\n",
       "              'training': 0.04}),\n",
       " defaultdict(float,\n",
       "             {'micro': 0.9658315789473685,\n",
       "              'macro': 0.23904650116802872,\n",
       "              'training': 0.05}),\n",
       " defaultdict(float,\n",
       "             {'micro': 0.9676170212765957,\n",
       "              'macro': 0.25534784310134856,\n",
       "              'training': 0.06}),\n",
       " defaultdict(float,\n",
       "             {'micro': 0.9715268817204301,\n",
       "              'macro': 0.2866262196437616,\n",
       "              'training': 0.07}),\n",
       " defaultdict(float,\n",
       "             {'micro': 0.9744130434782609,\n",
       "              'macro': 0.3156996951479455,\n",
       "              'training': 0.08}),\n",
       " defaultdict(float,\n",
       "             {'micro': 0.9754065934065934,\n",
       "              'macro': 0.32548732580173534,\n",
       "              'training': 0.09})]"
      ]
     },
     "execution_count": 195,
     "metadata": {},
     "output_type": "execute_result"
    }
   ],
   "source": [
    "conf = {\n",
    "        'projection_method': 'sparse',\n",
    "        'input_matrix': 'trans',\n",
    "        'weights': [1.0, 1.0, study.best_params['weight0'], study.best_params['weight1'] ],\n",
    "        'normalization': True,\n",
    "        'dim': 512,\n",
    "        'alpha': study.best_params['alpha'],\n",
    "        'C': 1.0\n",
    "    }\n",
    "emb_filename = get_emb_filename(prefix, conf)\n",
    "print (emb_filename)\n",
    "# first check if this file already exists\n",
    "path = Path(emb_filename)\n",
    "if not path.is_file():\n",
    "    U = fastrp_wrapper(A, conf)\n",
    "    savemat(emb_filename, {'emb': U})\n",
    "else:\n",
    "    print ('File %s already exists, skipped.' % emb_filename)\n",
    "f1_scores, result = scoring(\n",
    "    [\n",
    "        \"--emb\", emb_filename,\n",
    "        \"--network\", data_fname,\n",
    "        \"--num-shuffles\", \"5\",\n",
    "        \"--debug\",\n",
    "        \"--result\",\n",
    "        \"--C\", str(conf['C']),\n",
    "        \"--training-percents\",\n",
    "    ] + [str(p) for p in range(1, 10)],\n",
    ")\n",
    "f1_scores"
   ]
  },
  {
   "cell_type": "markdown",
   "metadata": {},
   "source": [
    "# Run DeepWalk"
   ]
  },
  {
   "cell_type": "markdown",
   "metadata": {},
   "source": [
    "Run the following command in shell:"
   ]
  },
  {
   "cell_type": "code",
   "execution_count": null,
   "metadata": {},
   "outputs": [],
   "source": [
    "nohup time deepwalk --format mat --input /mnt/store1/hcchen/www-network/10k-classification.mat \\\n",
    "--max-memory-data-size 0 --number-walks 80 --representation-size 128 --walk-length 40 --window-size 10 \\\n",
    "--workers 28 --output /home/hcchen/fast-random-projection/result/www-10k-dw-emb.mat &"
   ]
  },
  {
   "cell_type": "markdown",
   "metadata": {},
   "source": [
    "Load DeepWalk embeddings:"
   ]
  },
  {
   "cell_type": "code",
   "execution_count": 158,
   "metadata": {},
   "outputs": [],
   "source": [
    "dw_emb_fname = '/home/hcchen/fast-random-projection/result/www-10k-dw-emb.mat'"
   ]
  },
  {
   "cell_type": "code",
   "execution_count": 159,
   "metadata": {},
   "outputs": [],
   "source": [
    "model = KeyedVectors.load_word2vec_format(dw_emb_fname, binary=False)"
   ]
  },
  {
   "cell_type": "code",
   "execution_count": 161,
   "metadata": {},
   "outputs": [
    {
     "name": "stdout",
     "output_type": "stream",
     "text": [
      "CPU times: user 45 ms, sys: 4.03 ms, total: 49 ms\n",
      "Wall time: 48.3 ms\n"
     ]
    }
   ],
   "source": [
    "N = len(model.vocab)\n",
    "%time dw_emb = np.asarray([model[str(node)] for node in range(N)])"
   ]
  },
  {
   "cell_type": "code",
   "execution_count": 162,
   "metadata": {},
   "outputs": [
    {
     "data": {
      "text/plain": [
       "(10000, 128)"
      ]
     },
     "execution_count": 162,
     "metadata": {},
     "output_type": "execute_result"
    }
   ],
   "source": [
    "dw_emb.shape"
   ]
  },
  {
   "cell_type": "code",
   "execution_count": 186,
   "metadata": {},
   "outputs": [
    {
     "name": "stdout",
     "output_type": "stream",
     "text": [
      "Load embeddings from memory...\n",
      "Train percent: 0.01\n",
      "Train percent: 0.02\n",
      "Train percent: 0.03\n",
      "Train percent: 0.04\n",
      "Train percent: 0.05\n",
      "Train percent: 0.06\n",
      "Train percent: 0.07\n",
      "Train percent: 0.08\n",
      "Train percent: 0.09\n",
      "Results, using embeddings of dimensionality 128\n",
      "-------------------\n",
      "Train percent: 0.01\n",
      "Average score: {'micro': 0.9205656565656566, 'macro': 0.12014841892258055}\n",
      "-------------------\n",
      "Train percent: 0.02\n",
      "Average score: {'micro': 0.9375714285714286, 'macro': 0.17413093787380285}\n",
      "-------------------\n",
      "Train percent: 0.03\n",
      "Average score: {'micro': 0.9496494845360826, 'macro': 0.2084571077048102}\n",
      "-------------------\n",
      "Train percent: 0.04\n",
      "Average score: {'micro': 0.9586666666666666, 'macro': 0.24357717753064317}\n",
      "-------------------\n",
      "Train percent: 0.05\n",
      "Average score: {'micro': 0.9630315789473685, 'macro': 0.26501610387952035}\n",
      "-------------------\n",
      "Train percent: 0.06\n",
      "Average score: {'micro': 0.9653829787234043, 'macro': 0.28110541266466293}\n",
      "-------------------\n",
      "Train percent: 0.07\n",
      "Average score: {'micro': 0.9683870967741935, 'macro': 0.29822074991407316}\n",
      "-------------------\n",
      "Train percent: 0.08\n",
      "Average score: {'micro': 0.9711956521739131, 'macro': 0.3203687081092068}\n",
      "-------------------\n",
      "Train percent: 0.09\n",
      "Average score: {'micro': 0.9723516483516483, 'macro': 0.33640732183031563}\n",
      "-------------------\n"
     ]
    },
    {
     "data": {
      "text/plain": [
       "[defaultdict(float,\n",
       "             {'micro': 0.9205656565656566,\n",
       "              'macro': 0.12014841892258055,\n",
       "              'training': 0.01}),\n",
       " defaultdict(float,\n",
       "             {'micro': 0.9375714285714286,\n",
       "              'macro': 0.17413093787380285,\n",
       "              'training': 0.02}),\n",
       " defaultdict(float,\n",
       "             {'micro': 0.9496494845360826,\n",
       "              'macro': 0.2084571077048102,\n",
       "              'training': 0.03}),\n",
       " defaultdict(float,\n",
       "             {'micro': 0.9586666666666666,\n",
       "              'macro': 0.24357717753064317,\n",
       "              'training': 0.04}),\n",
       " defaultdict(float,\n",
       "             {'micro': 0.9630315789473685,\n",
       "              'macro': 0.26501610387952035,\n",
       "              'training': 0.05}),\n",
       " defaultdict(float,\n",
       "             {'micro': 0.9653829787234043,\n",
       "              'macro': 0.28110541266466293,\n",
       "              'training': 0.06}),\n",
       " defaultdict(float,\n",
       "             {'micro': 0.9683870967741935,\n",
       "              'macro': 0.29822074991407316,\n",
       "              'training': 0.07}),\n",
       " defaultdict(float,\n",
       "             {'micro': 0.9711956521739131,\n",
       "              'macro': 0.3203687081092068,\n",
       "              'training': 0.08}),\n",
       " defaultdict(float,\n",
       "             {'micro': 0.9723516483516483,\n",
       "              'macro': 0.33640732183031563,\n",
       "              'training': 0.09})]"
      ]
     },
     "execution_count": 186,
     "metadata": {},
     "output_type": "execute_result"
    }
   ],
   "source": [
    "dw_f1_scores = scoring(\n",
    "    [\n",
    "        \"--network\", data_fname,\n",
    "        \"--num-shuffles\", \"5\",\n",
    "        \"--debug\",\n",
    "        \"--C\", \"1.0\",\n",
    "        \"--training-percents\",\n",
    "    ] + [str(p) for p in range(1, 10, 1)],\n",
    "    dw_emb\n",
    ")\n",
    "dw_f1_scores"
   ]
  },
  {
   "cell_type": "markdown",
   "metadata": {},
   "source": [
    "# Run RandNE"
   ]
  },
  {
   "cell_type": "markdown",
   "metadata": {},
   "source": [
    "Run the following command in shell:"
   ]
  },
  {
   "cell_type": "code",
   "execution_count": 115,
   "metadata": {},
   "outputs": [],
   "source": [
    "randne_emb_fname = '/home/hcchen/fast-random-projection/result/www-10k-randne-emb.mat'"
   ]
  },
  {
   "cell_type": "code",
   "execution_count": null,
   "metadata": {},
   "outputs": [],
   "source": [
    "cd ~/RandNE-Python/ && \n",
    "time python3 src/randne.py --input /mnt/store1/hcchen/www-network/10k-classification.mat \\\n",
    "--output /home/hcchen/fast-random-projection/result/www-10k-randne-emb.mat \\\n",
    "--use-trans-matrix -q 3 -d 512 --weights 1 100 1000"
   ]
  },
  {
   "cell_type": "code",
   "execution_count": 187,
   "metadata": {},
   "outputs": [
    {
     "name": "stdout",
     "output_type": "stream",
     "text": [
      "Train percent: 0.01\n",
      "Train percent: 0.02\n",
      "Train percent: 0.03\n",
      "Train percent: 0.04\n",
      "Train percent: 0.05\n",
      "Train percent: 0.06\n",
      "Train percent: 0.07\n",
      "Train percent: 0.08\n",
      "Train percent: 0.09\n",
      "Results, using embeddings of dimensionality 512\n",
      "-------------------\n",
      "Train percent: 0.01\n",
      "Average score: {'micro': 0.8785858585858586, 'macro': 0.06045670271104302}\n",
      "-------------------\n",
      "Train percent: 0.02\n",
      "Average score: {'micro': 0.9105102040816326, 'macro': 0.0810844414417798}\n",
      "-------------------\n",
      "Train percent: 0.03\n",
      "Average score: {'micro': 0.9309690721649485, 'macro': 0.10757257857434639}\n",
      "-------------------\n",
      "Train percent: 0.04\n",
      "Average score: {'micro': 0.9397291666666666, 'macro': 0.1325038314097983}\n",
      "-------------------\n",
      "Train percent: 0.05\n",
      "Average score: {'micro': 0.9492631578947369, 'macro': 0.15705192945108978}\n",
      "-------------------\n",
      "Train percent: 0.06\n",
      "Average score: {'micro': 0.953063829787234, 'macro': 0.17635494370249805}\n",
      "-------------------\n",
      "Train percent: 0.07\n",
      "Average score: {'micro': 0.9533978494623655, 'macro': 0.18155510941158332}\n",
      "-------------------\n",
      "Train percent: 0.08\n",
      "Average score: {'micro': 0.956804347826087, 'macro': 0.19011525294932324}\n",
      "-------------------\n",
      "Train percent: 0.09\n",
      "Average score: {'micro': 0.9602417582417584, 'macro': 0.20577129772044156}\n",
      "-------------------\n",
      "CPU times: user 8min 47s, sys: 3.28 s, total: 8min 51s\n",
      "Wall time: 1min 27s\n"
     ]
    }
   ],
   "source": [
    "%%time\n",
    "randne_f1_scores = scoring(\n",
    "    [\n",
    "        \"--emb\", randne_emb_fname,\n",
    "        \"--network\", data_fname,\n",
    "        \"--num-shuffles\", \"5\",\n",
    "        \"--debug\",\n",
    "        \"--C\", \"1.0\",\n",
    "        \"--training-percents\",\n",
    "    ] + [str(p) for p in range(1, 10, 1)],\n",
    ")\n",
    "randne_f1_scores"
   ]
  },
  {
   "cell_type": "markdown",
   "metadata": {},
   "source": [
    "Randomly sample 1,000 nodes from each class, and ignore the websites which do not belong to the top K classes:"
   ]
  },
  {
   "cell_type": "code",
   "execution_count": null,
   "metadata": {},
   "outputs": [],
   "source": [
    "N = 200000"
   ]
  },
  {
   "cell_type": "code",
   "execution_count": null,
   "metadata": {},
   "outputs": [],
   "source": [
    "K_sample = 1000\n",
    "sampled_nodes = [[] for _ in range(K_label)]\n",
    "for i in range(N):\n",
    "    if node_to_label[matid_to_node[i]] in label_to_id:\n",
    "        sampled_nodes[label_to_id[node_to_label[matid_to_node[i]]]].append(i)\n",
    "\n",
    "sampled_nodes = [sample for elements in sampled_nodes for sample in random.sample(elements, K_sample)]"
   ]
  },
  {
   "cell_type": "markdown",
   "metadata": {},
   "source": [
    "Save the adjacency matrix + label matrix to a single .mat file (we are re-using the sparse matrix from the RandNE chapter):"
   ]
  },
  {
   "cell_type": "code",
   "execution_count": null,
   "metadata": {},
   "outputs": [],
   "source": [
    "N = len(sampled_nodes)\n",
    "rows = list(range(N))\n",
    "cols = [label_to_id[node_to_label[matid_to_node[node]]] for node in sampled_nodes]\n",
    "label_mat = csr_matrix( ( ([1.0] * N), (rows, cols) ), shape=(N, K_label) )"
   ]
  },
  {
   "cell_type": "code",
   "execution_count": null,
   "metadata": {},
   "outputs": [],
   "source": [
    "label_mat"
   ]
  },
  {
   "cell_type": "markdown",
   "metadata": {},
   "source": [
    "Sanity check:"
   ]
  },
  {
   "cell_type": "code",
   "execution_count": null,
   "metadata": {},
   "outputs": [],
   "source": [
    "np.sum(label_mat, axis=0)"
   ]
  },
  {
   "cell_type": "code",
   "execution_count": null,
   "metadata": {},
   "outputs": [],
   "source": [
    "savemat('www-network/www-200k-classification.mat', {'group': label_mat})"
   ]
  },
  {
   "cell_type": "markdown",
   "metadata": {},
   "source": [
    "And we need to pick embeddings just for these sampled nodes."
   ]
  },
  {
   "cell_type": "markdown",
   "metadata": {},
   "source": [
    "For DeepWalk:"
   ]
  },
  {
   "cell_type": "code",
   "execution_count": null,
   "metadata": {},
   "outputs": [],
   "source": [
    "emb_200k_dw_classification = \\\n",
    "    np.asarray([emb_200k_dw.get_vector(matid_to_node[matid]) for matid in sampled_nodes])"
   ]
  },
  {
   "cell_type": "code",
   "execution_count": null,
   "metadata": {},
   "outputs": [],
   "source": [
    "savemat('www-network/deepwalk-www-200k-classification.mat', {'emb': emb_200k_dw_classification})"
   ]
  },
  {
   "cell_type": "markdown",
   "metadata": {},
   "source": [
    "For RandNE MATLAB Adj:"
   ]
  },
  {
   "cell_type": "code",
   "execution_count": null,
   "metadata": {},
   "outputs": [],
   "source": [
    "emb_randne_adj_200k_classification = emb_randne_adj_200k[sampled_nodes]"
   ]
  },
  {
   "cell_type": "code",
   "execution_count": null,
   "metadata": {},
   "outputs": [],
   "source": [
    "savemat('www-network/randne-adj-www-200k-classification.mat', {'emb': emb_randne_adj_200k_classification})"
   ]
  },
  {
   "cell_type": "markdown",
   "metadata": {},
   "source": [
    "For RandNE Python Adj:"
   ]
  },
  {
   "cell_type": "code",
   "execution_count": null,
   "metadata": {},
   "outputs": [],
   "source": [
    "emb_randne_py_adj_200k_classification = emb_randne_py_adj_200k[sampled_nodes]"
   ]
  },
  {
   "cell_type": "code",
   "execution_count": null,
   "metadata": {},
   "outputs": [],
   "source": [
    "savemat('www-network/randne-py-adj-www-200k-classification.mat', {'emb': emb_randne_py_adj_200k_classification})"
   ]
  },
  {
   "cell_type": "markdown",
   "metadata": {},
   "source": [
    "For RandNE Python Trans:"
   ]
  },
  {
   "cell_type": "code",
   "execution_count": null,
   "metadata": {},
   "outputs": [],
   "source": [
    "emb_randne_py_trans_200k_classification = emb_randne_py_trans_200k[sampled_nodes]"
   ]
  },
  {
   "cell_type": "code",
   "execution_count": null,
   "metadata": {},
   "outputs": [],
   "source": [
    "savemat('www-network/randne-py-trans-www-200k-classification.mat', {'emb': emb_randne_py_trans_200k_classification})"
   ]
  },
  {
   "cell_type": "markdown",
   "metadata": {},
   "source": [
    "## Run Classification"
   ]
  },
  {
   "cell_type": "markdown",
   "metadata": {},
   "source": [
    "With 10% training data we get: `Average score: {'micro': 0.7724027777777778, 'macro': 0.5314847218405359}`"
   ]
  },
  {
   "cell_type": "code",
   "execution_count": null,
   "metadata": {},
   "outputs": [],
   "source": [
    "python scoring.py --emb ~/ws/large-network-embeddings/www-network/randne-adj-www-200k.mat \\\n",
    "--network ~/ws/large-network-embeddings/www-network/www-200k.mat"
   ]
  },
  {
   "cell_type": "markdown",
   "metadata": {},
   "source": [
    "We get: `Average score: {'micro': 0.7302805555555556, 'macro': 0.36847663239140405}`"
   ]
  },
  {
   "cell_type": "code",
   "execution_count": null,
   "metadata": {},
   "outputs": [],
   "source": [
    "python scoring.py --emb ~/ws/large-network-embeddings/www-network/randne-trans-www-200k.mat \\\n",
    "--network ~/ws/large-network-embeddings/www-network/www-200k.mat"
   ]
  },
  {
   "cell_type": "markdown",
   "metadata": {},
   "source": [
    "We get: `Average score: {'micro': 0.7369333333333333, 'macro': 0.2991826875988267}`"
   ]
  },
  {
   "cell_type": "markdown",
   "metadata": {},
   "source": [
    "We also would like to output the confusion matrix of the classification result. So we also train these models inline here:"
   ]
  },
  {
   "cell_type": "code",
   "execution_count": null,
   "metadata": {},
   "outputs": [],
   "source": [
    "sys.path.append('/home/hcchen/ws/large-network-embeddings')\n",
    "%load_ext autoreload\n",
    "%autoreload 2"
   ]
  },
  {
   "cell_type": "code",
   "execution_count": null,
   "metadata": {},
   "outputs": [],
   "source": [
    "from scoring import main"
   ]
  },
  {
   "cell_type": "code",
   "execution_count": null,
   "metadata": {},
   "outputs": [],
   "source": [
    "confusion_mat_dw = main(\n",
    "    [\"--emb\", \"/home/hcchen/ws/large-network-embeddings/www-network/deepwalk-www-200k-classification.mat\",\n",
    "      \"--network\",\"/home/hcchen/ws/large-network-embeddings/www-network/www-200k-classification.mat\",\n",
    "      \"--num-shuffles\", \"1\"])"
   ]
  },
  {
   "cell_type": "code",
   "execution_count": null,
   "metadata": {},
   "outputs": [],
   "source": [
    "confusion_mat_randne_adj = main(\n",
    "    [\"--emb\", \"/home/hcchen/ws/large-network-embeddings/www-network/randne-adj-www-200k-classification.mat\",\n",
    "      \"--network\",\"/home/hcchen/ws/large-network-embeddings/www-network/www-200k-classification.mat\",\n",
    "      \"--num-shuffles\", \"1\"])"
   ]
  },
  {
   "cell_type": "markdown",
   "metadata": {},
   "source": [
    "The two results below are based on my implementation:"
   ]
  },
  {
   "cell_type": "code",
   "execution_count": null,
   "metadata": {},
   "outputs": [],
   "source": [
    "confusion_mat_randne_py_adj = main(\n",
    "    [\"--emb\", \"/home/hcchen/ws/large-network-embeddings/www-network/randne-py-adj-www-200k-classification.mat\",\n",
    "      \"--network\",\"/home/hcchen/ws/large-network-embeddings/www-network/www-200k-classification.mat\",\n",
    "      \"--num-shuffles\", \"1\"])"
   ]
  },
  {
   "cell_type": "code",
   "execution_count": null,
   "metadata": {},
   "outputs": [],
   "source": [
    "confusion_mat_randne_py_trans = main(\n",
    "    [\"--emb\", \"/home/hcchen/ws/large-network-embeddings/www-network/randne-py-trans-www-200k-classification.mat\",\n",
    "      \"--network\",\"/home/hcchen/ws/large-network-embeddings/www-network/www-200k-classification.mat\",\n",
    "      \"--num-shuffles\", \"1\"])"
   ]
  },
  {
   "cell_type": "markdown",
   "metadata": {},
   "source": [
    "## Confusion Matrix"
   ]
  },
  {
   "cell_type": "code",
   "execution_count": null,
   "metadata": {},
   "outputs": [],
   "source": [
    "df = pd.DataFrame(confusion_mat_dw)\n",
    "df['top-level domain'] = top_labels_with_dot\n",
    "df.set_index('top-level domain', inplace=True)\n",
    "df.columns = top_labels_with_dot\n",
    "df"
   ]
  },
  {
   "cell_type": "code",
   "execution_count": null,
   "metadata": {},
   "outputs": [],
   "source": [
    "plt.figure(figsize=(8, 6))\n",
    "sns.set(font_scale=1.6)\n",
    "sns.heatmap(df, cmap='Blues', fmt='g', annot=True,annot_kws={\"size\": 14},\n",
    "           vmin=0, vmax=1000) # anno font size\n",
    "plt.savefig('deepwalk-classification-mat.pdf')"
   ]
  },
  {
   "cell_type": "code",
   "execution_count": null,
   "metadata": {},
   "outputs": [],
   "source": [
    "df = pd.DataFrame(confusion_mat_randne_adj)\n",
    "df['top-level domain'] = top_labels_with_dot\n",
    "df.set_index('top-level domain', inplace=True)\n",
    "df.columns = top_labels_with_dot\n",
    "df"
   ]
  },
  {
   "cell_type": "code",
   "execution_count": null,
   "metadata": {},
   "outputs": [],
   "source": [
    "plt.figure(figsize=(8, 6))\n",
    "sns.set(font_scale=1.6)\n",
    "sns.heatmap(df, cmap='Blues', fmt='g', annot=True,annot_kws={\"size\": 14},\n",
    "           vmin=0, vmax=1000) # anno font size\n",
    "plt.savefig('randne-classification-mat.pdf')"
   ]
  },
  {
   "cell_type": "markdown",
   "metadata": {},
   "source": [
    "# Visualization"
   ]
  },
  {
   "cell_type": "markdown",
   "metadata": {},
   "source": [
    "Another experiment is to see how well can both methods separate sites with different top-level domains in the embedding space."
   ]
  },
  {
   "cell_type": "code",
   "execution_count": 265,
   "metadata": {},
   "outputs": [
    {
     "data": {
      "text/plain": [
       "['uk', 'de', 'jp', 'ca', 'br', 'au', 'fr', 'it', 'es', 'ru']"
      ]
     },
     "execution_count": 265,
     "metadata": {},
     "output_type": "execute_result"
    }
   ],
   "source": [
    "chosen_labels"
   ]
  },
  {
   "cell_type": "code",
   "execution_count": 303,
   "metadata": {},
   "outputs": [],
   "source": [
    "filtered_domains = set(['uk', 'jp', 'br', 'fr', 'es'])"
   ]
  },
  {
   "cell_type": "markdown",
   "metadata": {},
   "source": [
    "Obtain the preselected nodes:"
   ]
  },
  {
   "cell_type": "code",
   "execution_count": 214,
   "metadata": {},
   "outputs": [],
   "source": [
    "vis_nodes = [node for node in node_to_matid if node_to_label[node] in set(chosen_labels)]\n",
    "vis_labels = [node_to_label[node] for node in node_to_matid if node_to_label[node] in set(chosen_labels)]"
   ]
  },
  {
   "cell_type": "markdown",
   "metadata": {},
   "source": [
    "Take the DeepWalk embeddings of these nodes:"
   ]
  },
  {
   "cell_type": "code",
   "execution_count": 213,
   "metadata": {},
   "outputs": [],
   "source": [
    "emb_dw_vis = np.asarray([emb_200k_dw[node] for node in vis_nodes])"
   ]
  },
  {
   "cell_type": "code",
   "execution_count": 216,
   "metadata": {},
   "outputs": [],
   "source": [
    "tsne = TSNE(n_components=2, random_state=42)"
   ]
  },
  {
   "cell_type": "markdown",
   "metadata": {},
   "source": [
    "For DeepWalk:"
   ]
  },
  {
   "cell_type": "code",
   "execution_count": 304,
   "metadata": {},
   "outputs": [
    {
     "name": "stdout",
     "output_type": "stream",
     "text": [
      "CPU times: user 13min 46s, sys: 2.61 s, total: 13min 49s\n",
      "Wall time: 3min 44s\n"
     ]
    }
   ],
   "source": [
    "%%time\n",
    "deepwalk_tsne = tsne.fit_transform(emb_dw_vis)"
   ]
  },
  {
   "cell_type": "code",
   "execution_count": 305,
   "metadata": {
    "scrolled": true
   },
   "outputs": [
    {
     "data": {
      "text/plain": [
       "(17317, 2)"
      ]
     },
     "execution_count": 305,
     "metadata": {},
     "output_type": "execute_result"
    }
   ],
   "source": [
    "deepwalk_tsne.shape"
   ]
  },
  {
   "cell_type": "code",
   "execution_count": 318,
   "metadata": {},
   "outputs": [
    {
     "data": {
      "image/png": "[encoded data removed]",
      "text/plain": [
       "<Figure size 576x432 with 1 Axes>"
      ]
     },
     "metadata": {},
     "output_type": "display_data"
    }
   ],
   "source": [
    "plt.figure(figsize=(8, 6))\n",
    "colors = ['r', 'g', 'b', 'c', 'm', 'y', 'k', 'lightpink', 'orange', 'purple']\n",
    "for label in chosen_labels:\n",
    "    if label not in filtered_domains:\n",
    "        continue\n",
    "    candidates = [i for i in range(len(vis_labels)) if vis_labels[i] == label]\n",
    "    plt.scatter(deepwalk_tsne[candidates, 0], deepwalk_tsne[candidates, 1],\n",
    "                s=40, label='.' + label)\n",
    "# , c=colors[label]\n",
    "plt.legend()\n",
    "# plt.legend(bbox_to_anchor=(1., 0., 1., 1.), loc=1,\n",
    "#            ncol=1, mode=\"expand\", borderaxespad=0., fontsize=16)\n",
    "# plt.tight_layout(rect=[0, 0, 0.88, 1])\n",
    "plt.savefig('figures/deepwalk-tsne.pdf')"
   ]
  },
  {
   "cell_type": "markdown",
   "metadata": {},
   "source": [
    "For RandNE MATLAB Adj:"
   ]
  },
  {
   "cell_type": "code",
   "execution_count": 306,
   "metadata": {},
   "outputs": [],
   "source": [
    "emb_randne_vis = np.asarray([emb_randne_adj_200k[node_to_matid[node]] for node in vis_nodes])"
   ]
  },
  {
   "cell_type": "code",
   "execution_count": 307,
   "metadata": {},
   "outputs": [
    {
     "name": "stdout",
     "output_type": "stream",
     "text": [
      "CPU times: user 15min 24s, sys: 3.26 s, total: 15min 27s\n",
      "Wall time: 4min 1s\n"
     ]
    }
   ],
   "source": [
    "%%time\n",
    "randne_tsne = tsne.fit_transform(emb_randne_vis)"
   ]
  },
  {
   "cell_type": "code",
   "execution_count": 308,
   "metadata": {},
   "outputs": [
    {
     "data": {
      "text/plain": [
       "(17317, 2)"
      ]
     },
     "execution_count": 308,
     "metadata": {},
     "output_type": "execute_result"
    }
   ],
   "source": [
    "randne_tsne.shape"
   ]
  },
  {
   "cell_type": "code",
   "execution_count": 321,
   "metadata": {
    "scrolled": false
   },
   "outputs": [
    {
     "data": {
      "image/png": "[encoded data removed]",
      "text/plain": [
       "<Figure size 576x432 with 1 Axes>"
      ]
     },
     "metadata": {},
     "output_type": "display_data"
    }
   ],
   "source": [
    "plt.figure(figsize=(8, 6))\n",
    "colors = ['r', 'g', 'b', 'c', 'm', 'y', 'k', 'lightpink', 'orange', 'purple']\n",
    "for label in chosen_labels:\n",
    "    if label not in filtered_domains:\n",
    "        continue\n",
    "    candidates = [i for i in range(len(vis_labels)) if vis_labels[i] == label]\n",
    "    plt.scatter(randne_tsne[candidates, 0], randne_tsne[candidates, 1],\n",
    "                s=40, label='.' + label)\n",
    "# , c=colors[label]\n",
    "plt.legend()\n",
    "# plt.legend(bbox_to_anchor=(1., 0., 1., 1.), loc=1,\n",
    "#            ncol=1, mode=\"expand\", borderaxespad=0., fontsize=16)\n",
    "# plt.tight_layout(rect=[0, 0, 0.88, 1])\n",
    "plt.savefig('figures/randne-tsne.pdf')"
   ]
  },
  {
   "cell_type": "markdown",
   "metadata": {},
   "source": [
    "For FastRP:"
   ]
  },
  {
   "cell_type": "code",
   "execution_count": 310,
   "metadata": {},
   "outputs": [],
   "source": [
    "emb_fastrp_vis = np.asarray([U[node_to_matid[node]] for node in vis_nodes])"
   ]
  },
  {
   "cell_type": "code",
   "execution_count": 311,
   "metadata": {},
   "outputs": [
    {
     "name": "stdout",
     "output_type": "stream",
     "text": [
      "CPU times: user 19min 35s, sys: 7.08 s, total: 19min 42s\n",
      "Wall time: 9min 42s\n"
     ]
    }
   ],
   "source": [
    "%%time\n",
    "fastrp_tsne = tsne.fit_transform(emb_fastrp_vis)"
   ]
  },
  {
   "cell_type": "code",
   "execution_count": 322,
   "metadata": {
    "scrolled": false
   },
   "outputs": [
    {
     "data": {
      "image/png": "[encoded data removed]",
      "text/plain": [
       "<Figure size 576x432 with 1 Axes>"
      ]
     },
     "metadata": {},
     "output_type": "display_data"
    }
   ],
   "source": [
    "plt.figure(figsize=(8, 6))\n",
    "colors = ['r', 'g', 'b', 'c', 'm', 'y', 'k', 'lightpink', 'orange', 'purple']\n",
    "for label in chosen_labels:\n",
    "    if label not in filtered_domains:\n",
    "        continue\n",
    "    candidates = [i for i in range(len(vis_labels)) if vis_labels[i] == label]\n",
    "    plt.scatter(fastrp_tsne[candidates, 0], fastrp_tsne[candidates, 1],\n",
    "                s=40, label='.' + label)\n",
    "# , c=colors[label]\n",
    "plt.legend()\n",
    "# plt.legend(bbox_to_anchor=(1., 0., 1., 1.), loc=1,\n",
    "#            ncol=1, mode=\"expand\", borderaxespad=0., fontsize=16)\n",
    "# plt.tight_layout(rect=[0, 0, 0.88, 1])\n",
    "plt.savefig('figures/fastrp-tsne.pdf')"
   ]
  }
 ],
 "metadata": {
  "kernelspec": {
   "display_name": "Python 3",
   "language": "python",
   "name": "python3"
  },
  "language_info": {
   "codemirror_mode": {
    "name": "ipython",
    "version": 3
   },
   "file_extension": ".py",
   "mimetype": "text/x-python",
   "name": "python",
   "nbconvert_exporter": "python",
   "pygments_lexer": "ipython3",
   "version": "3.7.1"
  }
 },
 "nbformat": 4,
 "nbformat_minor": 2
}
