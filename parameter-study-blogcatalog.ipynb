{
 "cells": [
  {
   "cell_type": "markdown",
   "metadata": {},
   "source": [
    "# Init"
   ]
  },
  {
   "cell_type": "code",
   "execution_count": 24,
   "metadata": {},
   "outputs": [],
   "source": [
    "%matplotlib inline\n",
    "\n",
    "import csv\n",
    "import itertools\n",
    "import math\n",
    "import matplotlib\n",
    "import time\n",
    "import logging\n",
    "import sys\n",
    "import os\n",
    "import random\n",
    "import warnings\n",
    "\n",
    "import gensim\n",
    "\n",
    "import pandas as pd\n",
    "import numpy as np\n",
    "import networkx as nx\n",
    "import matplotlib.pyplot as plt\n",
    "import seaborn as sns\n",
    "\n",
    "from pathlib import Path\n",
    "\n",
    "from tqdm import tqdm_notebook as tqdm\n",
    "from collections import Counter, defaultdict\n",
    "\n",
    "from sklearn import random_projection\n",
    "from sklearn.manifold import TSNE\n",
    "from scipy.sparse import coo_matrix, csr_matrix, csc_matrix, spdiags\n",
    "from scipy.io import loadmat, savemat\n",
    "from sklearn.metrics import f1_score\n",
    "from sklearn.metrics.pairwise import cosine_similarity\n",
    "from sklearn.preprocessing import normalize, MultiLabelBinarizer\n",
    "from gensim.models import KeyedVectors"
   ]
  },
  {
   "cell_type": "code",
   "execution_count": 25,
   "metadata": {},
   "outputs": [],
   "source": [
    "from scoring import scoring\n",
    "from fastrp_exp import *"
   ]
  },
  {
   "cell_type": "code",
   "execution_count": 26,
   "metadata": {},
   "outputs": [],
   "source": [
    "# to ignore sklearn warning\n",
    "def warn(*args, **kwargs):\n",
    "    pass\n",
    "import warnings\n",
    "warnings.warn = warn\n",
    "warnings.filterwarnings(\"ignore\", category=RuntimeWarning) "
   ]
  },
  {
   "cell_type": "code",
   "execution_count": 27,
   "metadata": {},
   "outputs": [
    {
     "name": "stdout",
     "output_type": "stream",
     "text": [
      "The autoreload extension is already loaded. To reload it, use:\n",
      "  %reload_ext autoreload\n"
     ]
    }
   ],
   "source": [
    "%load_ext autoreload\n",
    "%autoreload 2"
   ]
  },
  {
   "cell_type": "code",
   "execution_count": 28,
   "metadata": {},
   "outputs": [],
   "source": [
    "plt.style.use('ggplot')"
   ]
  },
  {
   "cell_type": "code",
   "execution_count": 29,
   "metadata": {},
   "outputs": [],
   "source": [
    "plt.rcParams['font.size'] = 11\n",
    "plt.rcParams['figure.autolayout'] = True"
   ]
  },
  {
   "cell_type": "code",
   "execution_count": 30,
   "metadata": {},
   "outputs": [],
   "source": [
    "matplotlib.rcParams['pdf.fonttype'] = 42\n",
    "matplotlib.rcParams['ps.fonttype'] = 42"
   ]
  },
  {
   "cell_type": "markdown",
   "metadata": {},
   "source": [
    "# Load Data"
   ]
  },
  {
   "cell_type": "markdown",
   "metadata": {},
   "source": [
    "## Blogcatalog"
   ]
  },
  {
   "cell_type": "code",
   "execution_count": 31,
   "metadata": {},
   "outputs": [],
   "source": [
    "data_fname = 'example_graphs/blogcatalog.mat'"
   ]
  },
  {
   "cell_type": "code",
   "execution_count": 32,
   "metadata": {},
   "outputs": [],
   "source": [
    "blogcatalog = loadmat(data_fname)\n",
    "blog_labels = blogcatalog['group']\n",
    "A = blogcatalog['network']\n",
    "N = A.shape[0]"
   ]
  },
  {
   "cell_type": "code",
   "execution_count": 33,
   "metadata": {},
   "outputs": [
    {
     "data": {
      "text/plain": [
       "<10312x10312 sparse matrix of type '<class 'numpy.float64'>'\n",
       "\twith 667966 stored elements in Compressed Sparse Column format>"
      ]
     },
     "execution_count": 33,
     "metadata": {},
     "output_type": "execute_result"
    }
   ],
   "source": [
    "A"
   ]
  },
  {
   "cell_type": "code",
   "execution_count": 34,
   "metadata": {},
   "outputs": [
    {
     "data": {
      "text/plain": [
       "10312"
      ]
     },
     "execution_count": 34,
     "metadata": {},
     "output_type": "execute_result"
    }
   ],
   "source": [
    "N"
   ]
  },
  {
   "cell_type": "code",
   "execution_count": 35,
   "metadata": {},
   "outputs": [],
   "source": [
    "d = [l[0] for l in A.sum(axis=1).tolist()]"
   ]
  },
  {
   "cell_type": "code",
   "execution_count": 36,
   "metadata": {},
   "outputs": [
    {
     "name": "stdout",
     "output_type": "stream",
     "text": [
      "alpha=  1.258526391056572   sigma=  0.0025458536330247006\n"
     ]
    },
    {
     "data": {
      "image/png": "[encoded data removed]",
      "text/plain": [
       "<Figure size 432x288 with 1 Axes>"
      ]
     },
     "metadata": {},
     "output_type": "display_data"
    }
   ],
   "source": [
    "import powerlaw\n",
    "\n",
    "fit = powerlaw.Fit(np.array(d)+1,xmin=1,discrete=True)\n",
    "fit.power_law.plot_pdf( color= 'b',linestyle='--',label='fit ccdf')\n",
    "fit.plot_pdf(color= 'b')\n",
    "\n",
    "print('alpha= ',fit.power_law.alpha,'  sigma= ',fit.power_law.sigma)"
   ]
  },
  {
   "cell_type": "code",
   "execution_count": 37,
   "metadata": {},
   "outputs": [],
   "source": [
    "prefix = 'result/blog'"
   ]
  },
  {
   "cell_type": "markdown",
   "metadata": {},
   "source": [
    "# Effect of $\\alpha$ (Before)"
   ]
  },
  {
   "cell_type": "code",
   "execution_count": 27,
   "metadata": {
    "collapsed": true
   },
   "outputs": [
    {
     "name": "stdout",
     "output_type": "stream",
     "text": [
      "{'projection_method': 'sparse', 'input_matrix': 'trans', 'weights': [0.0, 0.0, 1.0, 4.836], 'normalization': True, 'dim': 128, 'alpha': -0.0, 'C': 0.1}\n",
      "Train percent: 0.1\n",
      "Results, using embeddings of dimensionality 128\n",
      "-------------------\n",
      "Train percent: 0.1\n",
      "Average score: {'micro': 0.36021138775447664, 'macro': 0.19207365063765722}\n",
      "-------------------\n",
      "[defaultdict(<class 'float'>, {'micro': 0.36021138775447664, 'macro': 0.19207365063765722, 'training': 0.1})]\n",
      "{'projection_method': 'sparse', 'input_matrix': 'trans', 'weights': [0.0, 0.0, 1.0, 4.836], 'normalization': True, 'dim': 172, 'alpha': -0.1, 'C': 0.1}\n",
      "Train percent: 0.1\n",
      "Results, using embeddings of dimensionality 172\n",
      "-------------------\n",
      "Train percent: 0.1\n",
      "Average score: {'micro': 0.3633536300706136, 'macro': 0.19959067528996216}\n",
      "-------------------\n",
      "[defaultdict(<class 'float'>, {'micro': 0.3633536300706136, 'macro': 0.19959067528996216, 'training': 0.1})]\n",
      "{'projection_method': 'sparse', 'input_matrix': 'trans', 'weights': [0.0, 0.0, 1.0, 4.836], 'normalization': True, 'dim': 290, 'alpha': -0.2, 'C': 0.1}\n",
      "Train percent: 0.1\n",
      "Results, using embeddings of dimensionality 290\n",
      "-------------------\n",
      "Train percent: 0.1\n",
      "Average score: {'micro': 0.3720517450870549, 'macro': 0.21236471907015558}\n",
      "-------------------\n",
      "[defaultdict(<class 'float'>, {'micro': 0.3720517450870549, 'macro': 0.21236471907015558, 'training': 0.1})]\n",
      "{'projection_method': 'sparse', 'input_matrix': 'trans', 'weights': [0.0, 0.0, 1.0, 4.836], 'normalization': True, 'dim': 384, 'alpha': -0.30000000000000004, 'C': 0.1}\n",
      "Train percent: 0.1\n",
      "Results, using embeddings of dimensionality 384\n",
      "-------------------\n",
      "Train percent: 0.1\n",
      "Average score: {'micro': 0.3755661812888575, 'macro': 0.22967298529681437}\n",
      "-------------------\n",
      "[defaultdict(<class 'float'>, {'micro': 0.3755661812888575, 'macro': 0.22967298529681437, 'training': 0.1})]\n",
      "{'projection_method': 'sparse', 'input_matrix': 'trans', 'weights': [0.0, 0.0, 1.0, 4.836], 'normalization': True, 'dim': 512, 'alpha': -0.4, 'C': 0.1}\n",
      "Train percent: 0.1\n",
      "Results, using embeddings of dimensionality 512\n",
      "-------------------\n",
      "Train percent: 0.1\n",
      "Average score: {'micro': 0.37936377169101526, 'macro': 0.23414123699905925}\n",
      "-------------------\n",
      "[defaultdict(<class 'float'>, {'micro': 0.37936377169101526, 'macro': 0.23414123699905925, 'training': 0.1})]\n",
      "{'projection_method': 'sparse', 'input_matrix': 'trans', 'weights': [0.0, 0.0, 1.0, 4.836], 'normalization': True, 'dim': 450, 'alpha': -0.5, 'C': 0.1}\n",
      "Train percent: 0.1\n",
      "Results, using embeddings of dimensionality 450\n",
      "-------------------\n",
      "Train percent: 0.1\n",
      "Average score: {'micro': 0.37311014611828697, 'macro': 0.22784974777806472}\n",
      "-------------------\n",
      "[defaultdict(<class 'float'>, {'micro': 0.37311014611828697, 'macro': 0.22784974777806472, 'training': 0.1})]\n",
      "{'projection_method': 'sparse', 'input_matrix': 'trans', 'weights': [0.0, 0.0, 1.0, 4.836], 'normalization': True, 'dim': 285, 'alpha': -0.6000000000000001, 'C': 0.1}\n",
      "Train percent: 0.1\n",
      "Results, using embeddings of dimensionality 285\n",
      "-------------------\n",
      "Train percent: 0.1\n",
      "Average score: {'micro': 0.3706359955217751, 'macro': 0.22186965092976937}\n",
      "-------------------\n",
      "[defaultdict(<class 'float'>, {'micro': 0.3706359955217751, 'macro': 0.22186965092976937, 'training': 0.1})]\n",
      "{'projection_method': 'sparse', 'input_matrix': 'trans', 'weights': [0.0, 0.0, 1.0, 4.836], 'normalization': True, 'dim': 220, 'alpha': -0.7000000000000001, 'C': 0.1}\n",
      "Train percent: 0.1\n",
      "Results, using embeddings of dimensionality 220\n",
      "-------------------\n",
      "Train percent: 0.1\n",
      "Average score: {'micro': 0.36320535079885186, 'macro': 0.21378171340039528}\n",
      "-------------------\n",
      "[defaultdict(<class 'float'>, {'micro': 0.36320535079885186, 'macro': 0.21378171340039528, 'training': 0.1})]\n",
      "{'projection_method': 'sparse', 'input_matrix': 'trans', 'weights': [0.0, 0.0, 1.0, 4.836], 'normalization': True, 'dim': 178, 'alpha': -0.8, 'C': 0.1}\n",
      "Train percent: 0.1\n",
      "Results, using embeddings of dimensionality 178\n",
      "-------------------\n",
      "Train percent: 0.1\n",
      "Average score: {'micro': 0.35350737183829517, 'macro': 0.20683925939715278}\n",
      "-------------------\n",
      "[defaultdict(<class 'float'>, {'micro': 0.35350737183829517, 'macro': 0.20683925939715278, 'training': 0.1})]\n",
      "{'projection_method': 'sparse', 'input_matrix': 'trans', 'weights': [0.0, 0.0, 1.0, 4.836], 'normalization': True, 'dim': 128, 'alpha': -0.9, 'C': 0.1}\n",
      "Train percent: 0.1\n",
      "Results, using embeddings of dimensionality 128\n",
      "-------------------\n",
      "Train percent: 0.1\n",
      "Average score: {'micro': 0.355537816313367, 'macro': 0.2056212614314107}\n",
      "-------------------\n",
      "[defaultdict(<class 'float'>, {'micro': 0.355537816313367, 'macro': 0.2056212614314107, 'training': 0.1})]\n",
      "CPU times: user 11min 13s, sys: 3.5 s, total: 11min 16s\n",
      "Wall time: 2min 38s\n"
     ]
    }
   ],
   "source": [
    "%%time\n",
    "\n",
    "training_percent = 10\n",
    "\n",
    "alpha_f1_map = {}\n",
    "conf = {\n",
    "        'projection_method': 'sparse',\n",
    "        'input_matrix': 'trans',\n",
    "        'weights': [0.0, 0.0, 1.0, 4.836],\n",
    "        'normalization': True,\n",
    "        'dim': 512,\n",
    "        'alpha': -0.6,\n",
    "        'C': 0.1\n",
    "    }\n",
    "\n",
    "for (alpha, dim) in zip(map(lambda x: -0.1 * x, range(10)), \\\n",
    "                        [128, 172, 290, 384, 512, 450, 285, 220, 178, 128]):\n",
    "    conf['alpha'] = alpha\n",
    "    conf['dim'] = dim\n",
    "    print (conf)\n",
    "    emb_filename = get_emb_filename(prefix, conf)\n",
    "    U = fastrp_wrapper(A, conf)\n",
    "    savemat(emb_filename, {'emb': U})\n",
    "    f1_scores, result = scoring(\n",
    "        [\n",
    "            \"--emb\", emb_filename,\n",
    "            \"--network\",\"example_graphs/blogcatalog.mat\",\n",
    "            \"--num-shuffles\", \"5\",\n",
    "            \"--debug\",\n",
    "            \"--result\",\n",
    "            \"--C\", str(conf['C']),\n",
    "            \"--training-percents\",\n",
    "        ] + [str(training_percent)],\n",
    "    )\n",
    "    print (f1_scores)\n",
    "    alpha_f1_map[alpha] = f1_scores[0]['macro']"
   ]
  },
  {
   "cell_type": "code",
   "execution_count": 57,
   "metadata": {},
   "outputs": [
    {
     "data": {
      "image/png": "[encoded data removed]",
      "text/plain": [
       "<Figure size 432x288 with 1 Axes>"
      ]
     },
     "metadata": {},
     "output_type": "display_data"
    }
   ],
   "source": [
    "metric = r'Macro $F_1$'\n",
    "p = pd.DataFrame(alpha_f1_map, index=[metric]).transpose()\n",
    "\n",
    "fig = plt.figure(figsize=(6,4))\n",
    "ax = fig.add_subplot(111)\n",
    "\n",
    "ax.plot(p.index, p[metric], linewidth=1.5, marker='s')\n",
    "# p = pd.DataFrame(line_rs, index=[metric]).transpose()\n",
    "\n",
    "# ax.plot(p.index, p[metric], color=line_color, linewidth=1.5, marker='D')\n",
    "# Fraction of Labeled Data\n",
    "ax.set_xlabel(r'$\\beta$')\n",
    "ax.set_ylabel(r'Macro $F_1$')\n",
    "# ax.set_ylim(0.13, 0.30)\n",
    "# ax.set_xlim(3, 9)\n",
    "\n",
    "handles, labels = ax.get_legend_handles_labels()\n",
    "fig.savefig('figures/param_beta.pdf', bbox_inches='tight')\n",
    "# fig.savefig('../paper/Figures/param_rep_size_blogcatalog.pdf')"
   ]
  },
  {
   "cell_type": "markdown",
   "metadata": {},
   "source": [
    "# Effect of $\\alpha$ (after)"
   ]
  },
  {
   "cell_type": "code",
   "execution_count": 18,
   "metadata": {},
   "outputs": [
    {
     "name": "stdout",
     "output_type": "stream",
     "text": [
      "{'projection_method': 'sparse', 'input_matrix': 'trans', 'weights': [0.0, 0.0, 1.0, 4.836], 'normalization': True, 'dim': 128, 'alpha': -0.0, 'C': 0.1}\n",
      "39\n",
      "(10312, 128)\n",
      "Train percent: 0.1\n",
      "Results, using embeddings of dimensionality 128\n",
      "-------------------\n",
      "Train percent: 0.1\n",
      "Average score: {'micro': 0.35813530698026297, 'macro': 0.19487708461273787}\n",
      "-------------------\n",
      "[defaultdict(<class 'float'>, {'micro': 0.35813530698026297, 'macro': 0.19487708461273787, 'training': 0.1})]\n",
      "{'projection_method': 'sparse', 'input_matrix': 'trans', 'weights': [0.0, 0.0, 1.0, 4.836], 'normalization': True, 'dim': 128, 'alpha': -0.1, 'C': 0.1}\n",
      "39\n",
      "(10312, 128)\n",
      "Train percent: 0.1\n",
      "Results, using embeddings of dimensionality 128\n",
      "-------------------\n",
      "Train percent: 0.1\n",
      "Average score: {'micro': 0.35887554776867486, 'macro': 0.1942915024479651}\n",
      "-------------------\n",
      "[defaultdict(<class 'float'>, {'micro': 0.35887554776867486, 'macro': 0.1942915024479651, 'training': 0.1})]\n",
      "{'projection_method': 'sparse', 'input_matrix': 'trans', 'weights': [0.0, 0.0, 1.0, 4.836], 'normalization': True, 'dim': 128, 'alpha': -0.2, 'C': 0.1}\n",
      "39\n",
      "(10312, 128)\n",
      "Train percent: 0.1\n",
      "Results, using embeddings of dimensionality 128\n",
      "-------------------\n",
      "Train percent: 0.1\n",
      "Average score: {'micro': 0.35830870430631595, 'macro': 0.19292164697166186}\n",
      "-------------------\n",
      "[defaultdict(<class 'float'>, {'micro': 0.35830870430631595, 'macro': 0.19292164697166186, 'training': 0.1})]\n",
      "{'projection_method': 'sparse', 'input_matrix': 'trans', 'weights': [0.0, 0.0, 1.0, 4.836], 'normalization': True, 'dim': 128, 'alpha': -0.30000000000000004, 'C': 0.1}\n",
      "39\n",
      "(10312, 128)\n",
      "Train percent: 0.1\n",
      "Results, using embeddings of dimensionality 128\n",
      "-------------------\n",
      "Train percent: 0.1\n",
      "Average score: {'micro': 0.3567200297050271, 'macro': 0.19953440335214087}\n",
      "-------------------\n",
      "[defaultdict(<class 'float'>, {'micro': 0.3567200297050271, 'macro': 0.19953440335214087, 'training': 0.1})]\n",
      "{'projection_method': 'sparse', 'input_matrix': 'trans', 'weights': [0.0, 0.0, 1.0, 4.836], 'normalization': True, 'dim': 128, 'alpha': -0.4, 'C': 0.1}\n",
      "39\n",
      "(10312, 128)\n",
      "Train percent: 0.1\n",
      "Results, using embeddings of dimensionality 128\n",
      "-------------------\n",
      "Train percent: 0.1\n",
      "Average score: {'micro': 0.35602821285955205, 'macro': 0.1962894843840442}\n",
      "-------------------\n",
      "[defaultdict(<class 'float'>, {'micro': 0.35602821285955205, 'macro': 0.1962894843840442, 'training': 0.1})]\n",
      "{'projection_method': 'sparse', 'input_matrix': 'trans', 'weights': [0.0, 0.0, 1.0, 4.836], 'normalization': True, 'dim': 128, 'alpha': -0.5, 'C': 0.1}\n",
      "39\n",
      "(10312, 128)\n",
      "Train percent: 0.1\n",
      "Results, using embeddings of dimensionality 128\n",
      "-------------------\n",
      "Train percent: 0.1\n",
      "Average score: {'micro': 0.3549962060187624, 'macro': 0.19634087699383806}\n",
      "-------------------\n",
      "[defaultdict(<class 'float'>, {'micro': 0.3549962060187624, 'macro': 0.19634087699383806, 'training': 0.1})]\n",
      "{'projection_method': 'sparse', 'input_matrix': 'trans', 'weights': [0.0, 0.0, 1.0, 4.836], 'normalization': True, 'dim': 128, 'alpha': -0.6000000000000001, 'C': 0.1}\n",
      "39\n",
      "(10312, 128)\n",
      "Train percent: 0.1\n",
      "Results, using embeddings of dimensionality 128\n",
      "-------------------\n",
      "Train percent: 0.1\n",
      "Average score: {'micro': 0.3582292379307372, 'macro': 0.19851151281087948}\n",
      "-------------------\n",
      "[defaultdict(<class 'float'>, {'micro': 0.3582292379307372, 'macro': 0.19851151281087948, 'training': 0.1})]\n",
      "{'projection_method': 'sparse', 'input_matrix': 'trans', 'weights': [0.0, 0.0, 1.0, 4.836], 'normalization': True, 'dim': 128, 'alpha': -0.7000000000000001, 'C': 0.1}\n",
      "39\n",
      "(10312, 128)\n",
      "Train percent: 0.1\n",
      "Results, using embeddings of dimensionality 128\n",
      "-------------------\n",
      "Train percent: 0.1\n",
      "Average score: {'micro': 0.35655121474945645, 'macro': 0.2006623486495121}\n",
      "-------------------\n",
      "[defaultdict(<class 'float'>, {'micro': 0.35655121474945645, 'macro': 0.2006623486495121, 'training': 0.1})]\n",
      "{'projection_method': 'sparse', 'input_matrix': 'trans', 'weights': [0.0, 0.0, 1.0, 4.836], 'normalization': True, 'dim': 128, 'alpha': -0.8, 'C': 0.1}\n",
      "39\n",
      "(10312, 128)\n",
      "Train percent: 0.1\n",
      "Results, using embeddings of dimensionality 128\n",
      "-------------------\n",
      "Train percent: 0.1\n",
      "Average score: {'micro': 0.35380348698722963, 'macro': 0.2009038855106727}\n",
      "-------------------\n",
      "[defaultdict(<class 'float'>, {'micro': 0.35380348698722963, 'macro': 0.2009038855106727, 'training': 0.1})]\n",
      "{'projection_method': 'sparse', 'input_matrix': 'trans', 'weights': [0.0, 0.0, 1.0, 4.836], 'normalization': True, 'dim': 128, 'alpha': -0.9, 'C': 0.1}\n",
      "39\n",
      "(10312, 128)\n",
      "Train percent: 0.1\n",
      "Results, using embeddings of dimensionality 128\n",
      "-------------------\n",
      "Train percent: 0.1\n",
      "Average score: {'micro': 0.3541144028530646, 'macro': 0.20670677439981144}\n",
      "-------------------\n",
      "[defaultdict(<class 'float'>, {'micro': 0.3541144028530646, 'macro': 0.20670677439981144, 'training': 0.1})]\n",
      "CPU times: user 7min 11s, sys: 597 ms, total: 7min 12s\n",
      "Wall time: 53.1 s\n"
     ]
    }
   ],
   "source": [
    "%%time\n",
    "\n",
    "training_percent = 10\n",
    "\n",
    "alpha_f1_map = {}\n",
    "conf = {\n",
    "        'projection_method': 'sparse',\n",
    "        'input_matrix': 'trans',\n",
    "        'weights': [0.0, 0.0, 1.0, 4.836],\n",
    "        'normalization': True,\n",
    "        'dim': 512,\n",
    "        'alpha': -0.6,\n",
    "        'C': 0.1\n",
    "    }\n",
    "\n",
    "for (alpha, dim) in zip(map(lambda x: -0.1 * x, range(10)), \\\n",
    "                        [128] * 10):\n",
    "    conf['alpha'] = alpha\n",
    "    conf['dim'] = dim\n",
    "    print (conf)\n",
    "    emb_filename = get_emb_filename(prefix, conf)\n",
    "    U = fastrp_wrapper(A, conf)\n",
    "    savemat(emb_filename, {'emb': U})\n",
    "    f1_scores, result = scoring(\n",
    "        [\n",
    "            \"--emb\", emb_filename,\n",
    "            \"--network\",\"example_graphs/blogcatalog.mat\",\n",
    "            \"--num-shuffles\", \"5\",\n",
    "            \"--debug\",\n",
    "            \"--result\",\n",
    "            \"--C\", str(conf['C']),\n",
    "            \"--training-percents\",\n",
    "        ] + [str(training_percent)],\n",
    "    )\n",
    "    print (f1_scores)\n",
    "    alpha_f1_map[alpha] = f1_scores[0]['macro']"
   ]
  },
  {
   "cell_type": "code",
   "execution_count": 21,
   "metadata": {},
   "outputs": [
    {
     "data": {
      "image/png": "[encoded data removed]",
      "text/plain": [
       "<Figure size 432x288 with 1 Axes>"
      ]
     },
     "metadata": {},
     "output_type": "display_data"
    }
   ],
   "source": [
    "metric = r'Macro $F_1$'\n",
    "p = pd.DataFrame(alpha_f1_map, index=[metric]).transpose()\n",
    "\n",
    "fig = plt.figure(figsize=(6,4))\n",
    "ax = fig.add_subplot(111)\n",
    "\n",
    "ax.plot(p.index, p[metric], linewidth=1.5, marker='s')\n",
    "# p = pd.DataFrame(line_rs, index=[metric]).transpose()\n",
    "\n",
    "# ax.plot(p.index, p[metric], color=line_color, linewidth=1.5, marker='D')\n",
    "# Fraction of Labeled Data\n",
    "ax.set_xlabel(r'$\\beta$')\n",
    "ax.set_ylabel(r'Macro $F_1$')\n",
    "# ax.set_ylim(0.13, 0.30)\n",
    "# ax.set_xlim(3, 9)\n",
    "\n",
    "handles, labels = ax.get_legend_handles_labels()\n",
    "fig.savefig('figures/param_beta.pdf', bbox_inches='tight')\n",
    "# fig.savefig('../paper/Figures/param_rep_size_blogcatalog.pdf')"
   ]
  },
  {
   "cell_type": "markdown",
   "metadata": {},
   "source": [
    "# Dimensionality"
   ]
  },
  {
   "cell_type": "code",
   "execution_count": 51,
   "metadata": {},
   "outputs": [
    {
     "name": "stdout",
     "output_type": "stream",
     "text": [
      "{'projection_method': 'sparse', 'input_matrix': 'trans', 'weights': [0.0, 0.0, 1.0, 4.836], 'normalization': True, 'dim': 16, 'alpha': -0.6, 'C': 0.1}\n",
      "Train percent: 0.1\n",
      "Results, using embeddings of dimensionality 16\n",
      "-------------------\n",
      "Train percent: 0.1\n",
      "Average score: {'micro': 0.27493339483315776, 'macro': 0.10482427221296801}\n",
      "-------------------\n",
      "[defaultdict(<class 'float'>, {'micro': 0.27493339483315776, 'macro': 0.10482427221296801, 'training': 0.1})]\n",
      "{'projection_method': 'sparse', 'input_matrix': 'trans', 'weights': [0.0, 0.0, 1.0, 4.836], 'normalization': True, 'dim': 32, 'alpha': -0.6, 'C': 0.1}\n",
      "Train percent: 0.1\n",
      "Results, using embeddings of dimensionality 32\n",
      "-------------------\n",
      "Train percent: 0.1\n",
      "Average score: {'micro': 0.2904852704145973, 'macro': 0.12668843567204}\n",
      "-------------------\n",
      "[defaultdict(<class 'float'>, {'micro': 0.2904852704145973, 'macro': 0.12668843567204, 'training': 0.1})]\n",
      "{'projection_method': 'sparse', 'input_matrix': 'trans', 'weights': [0.0, 0.0, 1.0, 4.836], 'normalization': True, 'dim': 64, 'alpha': -0.6, 'C': 0.1}\n",
      "Train percent: 0.1\n",
      "Results, using embeddings of dimensionality 64\n",
      "-------------------\n",
      "Train percent: 0.1\n",
      "Average score: {'micro': 0.3360709707135553, 'macro': 0.17737342205170095}\n",
      "-------------------\n",
      "[defaultdict(<class 'float'>, {'micro': 0.3360709707135553, 'macro': 0.17737342205170095, 'training': 0.1})]\n",
      "{'projection_method': 'sparse', 'input_matrix': 'trans', 'weights': [0.0, 0.0, 1.0, 4.836], 'normalization': True, 'dim': 128, 'alpha': -0.6, 'C': 0.1}\n",
      "Train percent: 0.1\n",
      "Results, using embeddings of dimensionality 128\n",
      "-------------------\n",
      "Train percent: 0.1\n",
      "Average score: {'micro': 0.3574433869359897, 'macro': 0.20048646723570934}\n",
      "-------------------\n",
      "[defaultdict(<class 'float'>, {'micro': 0.3574433869359897, 'macro': 0.20048646723570934, 'training': 0.1})]\n",
      "{'projection_method': 'sparse', 'input_matrix': 'trans', 'weights': [0.0, 0.0, 1.0, 4.836], 'normalization': True, 'dim': 256, 'alpha': -0.6, 'C': 0.1}\n",
      "Train percent: 0.1\n",
      "Results, using embeddings of dimensionality 256\n",
      "-------------------\n",
      "Train percent: 0.1\n",
      "Average score: {'micro': 0.37272717374218295, 'macro': 0.22184033576284326}\n",
      "-------------------\n",
      "[defaultdict(<class 'float'>, {'micro': 0.37272717374218295, 'macro': 0.22184033576284326, 'training': 0.1})]\n",
      "{'projection_method': 'sparse', 'input_matrix': 'trans', 'weights': [0.0, 0.0, 1.0, 4.836], 'normalization': True, 'dim': 512, 'alpha': -0.6, 'C': 0.1}\n",
      "Train percent: 0.1\n",
      "Results, using embeddings of dimensionality 512\n",
      "-------------------\n",
      "Train percent: 0.1\n",
      "Average score: {'micro': 0.3756759243407243, 'macro': 0.23389775275450528}\n",
      "-------------------\n",
      "[defaultdict(<class 'float'>, {'micro': 0.3756759243407243, 'macro': 0.23389775275450528, 'training': 0.1})]\n",
      "{'projection_method': 'sparse', 'input_matrix': 'trans', 'weights': [0.0, 0.0, 1.0, 4.836], 'normalization': True, 'dim': 1024, 'alpha': -0.6, 'C': 0.1}\n",
      "Train percent: 0.1\n",
      "Results, using embeddings of dimensionality 1024\n",
      "-------------------\n",
      "Train percent: 0.1\n",
      "Average score: {'micro': 0.37500668131574433, 'macro': 0.23794502777534926}\n",
      "-------------------\n",
      "[defaultdict(<class 'float'>, {'micro': 0.37500668131574433, 'macro': 0.23794502777534926, 'training': 0.1})]\n",
      "CPU times: user 8min 57s, sys: 4.81 s, total: 9min 2s\n",
      "Wall time: 2min 23s\n"
     ]
    }
   ],
   "source": [
    "%%time\n",
    "\n",
    "training_percent = 10\n",
    "\n",
    "dim_f1_map = {}\n",
    "conf = {\n",
    "        'projection_method': 'sparse',\n",
    "        'input_matrix': 'trans',\n",
    "        'weights': [0.0, 0.0, 1.0, 4.836],\n",
    "        'normalization': True,\n",
    "        'dim': 512,\n",
    "        'alpha': -0.6,\n",
    "        'C': 0.1\n",
    "    }\n",
    "\n",
    "for x in range(4, 11):\n",
    "    conf['dim'] = 2 ** x\n",
    "    print (conf)\n",
    "    emb_filename = get_emb_filename(prefix, conf)\n",
    "    U = fastrp_wrapper(A, conf)\n",
    "    savemat(emb_filename, {'emb': U})\n",
    "    f1_scores, result = scoring(\n",
    "        [\n",
    "            \"--emb\", emb_filename,\n",
    "            \"--network\",\"example_graphs/blogcatalog.mat\",\n",
    "            \"--num-shuffles\", \"5\",\n",
    "            \"--debug\",\n",
    "            \"--result\",\n",
    "            \"--C\", str(conf['C']),\n",
    "            \"--training-percents\",\n",
    "        ] + [str(training_percent)],\n",
    "    )\n",
    "    print (f1_scores)\n",
    "    dim_f1_map[x] = f1_scores[0]['macro']"
   ]
  },
  {
   "cell_type": "code",
   "execution_count": 53,
   "metadata": {},
   "outputs": [
    {
     "data": {
      "image/png": "[encoded data removed]",
      "text/plain": [
       "<Figure size 432x288 with 1 Axes>"
      ]
     },
     "metadata": {},
     "output_type": "display_data"
    }
   ],
   "source": [
    "metric = r'Macro $F_1$'\n",
    "p = pd.DataFrame(dim_f1_map, index=[metric]).transpose()\n",
    "\n",
    "fig = plt.figure(figsize=(6,4))\n",
    "ax = fig.add_subplot(111)\n",
    "\n",
    "ax.plot(p.index, p[metric], linewidth=1.5, marker='s')\n",
    "# p = pd.DataFrame(line_rs, index=[metric]).transpose()\n",
    "\n",
    "# ax.plot(p.index, p[metric], color=line_color, linewidth=1.5, marker='D')\n",
    "# Fraction of Labeled Data\n",
    "ax.set_xlabel(r'$log_2{d}$, Embedding Dimensionality')\n",
    "ax.set_ylabel(r'Macro $F_1$')\n",
    "# ax.set_ylim(0.13, 0.30)\n",
    "# ax.set_xlim(3, 11)\n",
    "\n",
    "handles, labels = ax.get_legend_handles_labels()\n",
    "fig.savefig('figures/param_dim.pdf', bbox_inches='tight')\n",
    "# fig.savefig('../paper/Figures/param_rep_size_blogcatalog.pdf')"
   ]
  },
  {
   "cell_type": "markdown",
   "metadata": {},
   "source": [
    "## Weight"
   ]
  },
  {
   "cell_type": "code",
   "execution_count": 55,
   "metadata": {
    "collapsed": true
   },
   "outputs": [
    {
     "name": "stdout",
     "output_type": "stream",
     "text": [
      "{'projection_method': 'sparse', 'input_matrix': 'trans', 'weights': [0.0, 0.0, 1.0, 0.0625], 'normalization': True, 'dim': 512, 'alpha': -0.6, 'C': 0.1}\n",
      "Train percent: 0.1\n",
      "Results, using embeddings of dimensionality 512\n",
      "-------------------\n",
      "Train percent: 0.1\n",
      "Average score: {'micro': 0.3355892875482565, 'macro': 0.2024674607411078}\n",
      "-------------------\n",
      "[defaultdict(<class 'float'>, {'micro': 0.3355892875482565, 'macro': 0.2024674607411078, 'training': 0.1})]\n",
      "{'projection_method': 'sparse', 'input_matrix': 'trans', 'weights': [0.0, 0.0, 1.0, 0.125], 'normalization': True, 'dim': 512, 'alpha': -0.6, 'C': 0.1}\n",
      "Train percent: 0.1\n",
      "Results, using embeddings of dimensionality 512\n",
      "-------------------\n",
      "Train percent: 0.1\n",
      "Average score: {'micro': 0.3384120154905229, 'macro': 0.21000777815556398}\n",
      "-------------------\n",
      "[defaultdict(<class 'float'>, {'micro': 0.3384120154905229, 'macro': 0.21000777815556398, 'training': 0.1})]\n",
      "{'projection_method': 'sparse', 'input_matrix': 'trans', 'weights': [0.0, 0.0, 1.0, 0.25], 'normalization': True, 'dim': 512, 'alpha': -0.6, 'C': 0.1}\n",
      "Train percent: 0.1\n",
      "Results, using embeddings of dimensionality 512\n",
      "-------------------\n",
      "Train percent: 0.1\n",
      "Average score: {'micro': 0.33612352736349715, 'macro': 0.2077707437852235}\n",
      "-------------------\n",
      "[defaultdict(<class 'float'>, {'micro': 0.33612352736349715, 'macro': 0.2077707437852235, 'training': 0.1})]\n",
      "{'projection_method': 'sparse', 'input_matrix': 'trans', 'weights': [0.0, 0.0, 1.0, 0.5], 'normalization': True, 'dim': 512, 'alpha': -0.6, 'C': 0.1}\n",
      "Train percent: 0.1\n",
      "Results, using embeddings of dimensionality 512\n",
      "-------------------\n",
      "Train percent: 0.1\n",
      "Average score: {'micro': 0.3467583652026847, 'macro': 0.21424223146787075}\n",
      "-------------------\n",
      "[defaultdict(<class 'float'>, {'micro': 0.3467583652026847, 'macro': 0.21424223146787075, 'training': 0.1})]\n",
      "{'projection_method': 'sparse', 'input_matrix': 'trans', 'weights': [0.0, 0.0, 1.0, 1], 'normalization': True, 'dim': 512, 'alpha': -0.6, 'C': 0.1}\n",
      "Train percent: 0.1\n",
      "Results, using embeddings of dimensionality 512\n",
      "-------------------\n",
      "Train percent: 0.1\n",
      "Average score: {'micro': 0.3562597267257509, 'macro': 0.2175838599196617}\n",
      "-------------------\n",
      "[defaultdict(<class 'float'>, {'micro': 0.3562597267257509, 'macro': 0.2175838599196617, 'training': 0.1})]\n",
      "{'projection_method': 'sparse', 'input_matrix': 'trans', 'weights': [0.0, 0.0, 1.0, 2], 'normalization': True, 'dim': 512, 'alpha': -0.6, 'C': 0.1}\n",
      "Train percent: 0.1\n",
      "Results, using embeddings of dimensionality 512\n",
      "-------------------\n",
      "Train percent: 0.1\n",
      "Average score: {'micro': 0.36799105969227147, 'macro': 0.23080579099967796}\n",
      "-------------------\n",
      "[defaultdict(<class 'float'>, {'micro': 0.36799105969227147, 'macro': 0.23080579099967796, 'training': 0.1})]\n",
      "{'projection_method': 'sparse', 'input_matrix': 'trans', 'weights': [0.0, 0.0, 1.0, 4], 'normalization': True, 'dim': 512, 'alpha': -0.6, 'C': 0.1}\n",
      "Train percent: 0.1\n",
      "Results, using embeddings of dimensionality 512\n",
      "-------------------\n",
      "Train percent: 0.1\n",
      "Average score: {'micro': 0.37390952735460353, 'macro': 0.23092754997895276}\n",
      "-------------------\n",
      "[defaultdict(<class 'float'>, {'micro': 0.37390952735460353, 'macro': 0.23092754997895276, 'training': 0.1})]\n",
      "{'projection_method': 'sparse', 'input_matrix': 'trans', 'weights': [0.0, 0.0, 1.0, 8], 'normalization': True, 'dim': 512, 'alpha': -0.6, 'C': 0.1}\n",
      "Train percent: 0.1\n",
      "Results, using embeddings of dimensionality 512\n",
      "-------------------\n",
      "Train percent: 0.1\n",
      "Average score: {'micro': 0.3701255784670409, 'macro': 0.22349115026342153}\n",
      "-------------------\n",
      "[defaultdict(<class 'float'>, {'micro': 0.3701255784670409, 'macro': 0.22349115026342153, 'training': 0.1})]\n",
      "CPU times: user 12min 59s, sys: 10.7 s, total: 13min 10s\n",
      "Wall time: 3min 59s\n"
     ]
    }
   ],
   "source": [
    "%%time\n",
    "\n",
    "training_percent = 10\n",
    "\n",
    "weight_f1_map = {}\n",
    "conf = {\n",
    "        'projection_method': 'sparse',\n",
    "        'input_matrix': 'trans',\n",
    "        'weights': [0.0, 0.0, 1.0, 4.836],\n",
    "        'normalization': True,\n",
    "        'dim': 512,\n",
    "        'alpha': -0.6,\n",
    "        'C': 0.1\n",
    "    }\n",
    "\n",
    "for x in range(-4, 4):\n",
    "    conf['weights'][3] = 2 ** x\n",
    "    print (conf)\n",
    "    emb_filename = get_emb_filename(prefix, conf)\n",
    "    U = fastrp_wrapper(A, conf)\n",
    "    savemat(emb_filename, {'emb': U})\n",
    "    f1_scores, result = scoring(\n",
    "        [\n",
    "            \"--emb\", emb_filename,\n",
    "            \"--network\",\"example_graphs/blogcatalog.mat\",\n",
    "            \"--num-shuffles\", \"5\",\n",
    "            \"--debug\",\n",
    "            \"--result\",\n",
    "            \"--C\", str(conf['C']),\n",
    "            \"--training-percents\",\n",
    "        ] + [str(training_percent)],\n",
    "    )\n",
    "    print (f1_scores)\n",
    "    weight_f1_map[x] = f1_scores[0]['macro']"
   ]
  },
  {
   "cell_type": "code",
   "execution_count": 59,
   "metadata": {},
   "outputs": [
    {
     "data": {
      "image/png": "[encoded data removed]",
      "text/plain": [
       "<Figure size 432x288 with 1 Axes>"
      ]
     },
     "metadata": {},
     "output_type": "display_data"
    }
   ],
   "source": [
    "metric = r'Macro $F_1$'\n",
    "p = pd.DataFrame(weight_f1_map, index=[metric]).transpose()\n",
    "\n",
    "fig = plt.figure(figsize=(6,4))\n",
    "ax = fig.add_subplot(111)\n",
    "\n",
    "ax.plot(p.index, p[metric], linewidth=1.5, marker='s')\n",
    "ax.set_xlabel(r'$log_2({\\alpha_4})$, weight for $\\mathbf{A}^4$')\n",
    "ax.set_ylabel(r'Macro $F_1$')\n",
    "# ax.set_ylim(0.13, 0.30)\n",
    "# ax.set_xlim(3, 11)\n",
    "\n",
    "handles, labels = ax.get_legend_handles_labels()\n",
    "fig.savefig('figures/param_weight.pdf', bbox_inches='tight')\n",
    "# fig.savefig('../paper/Figures/param_rep_size_blogcatalog.pdf')"
   ]
  },
  {
   "cell_type": "markdown",
   "metadata": {},
   "source": [
    "# Intelligent Hyperparameter Search"
   ]
  },
  {
   "cell_type": "code",
   "execution_count": 11,
   "metadata": {},
   "outputs": [],
   "source": [
    "import optuna"
   ]
  },
  {
   "cell_type": "code",
   "execution_count": 12,
   "metadata": {},
   "outputs": [],
   "source": [
    "prefix = 'result/blog'"
   ]
  },
  {
   "cell_type": "code",
   "execution_count": 14,
   "metadata": {},
   "outputs": [
    {
     "name": "stdout",
     "output_type": "stream",
     "text": [
      "result/blog-dim=128,projection_method=sparse,input_matrix=trans,normalization=True,weights=1.0,1.0,1.6229155196024254,63.42014308081022,alpha=-0.3843023523079019,C=0.1.mat\n",
      "Train percent: 0.1\n",
      "Results, using embeddings of dimensionality 128\n",
      "-------------------\n",
      "Train percent: 0.1\n",
      "Average score: {'micro': 0.34396449881209074, 'macro': 0.1842252767738671}\n",
      "-------------------\n"
     ]
    },
    {
     "name": "stderr",
     "output_type": "stream",
     "text": [
      "[I 2019-05-11 23:05:23,979] Finished trial#0 resulted in value: -0.34396449881209074. Current best value is -0.34396449881209074 with parameters: {'weight0': 1.6229155196024254, 'weight1': 63.42014308081022, 'alpha': -0.3843023523079019}.\n"
     ]
    },
    {
     "name": "stdout",
     "output_type": "stream",
     "text": [
      "result/blog-dim=128,projection_method=sparse,input_matrix=trans,normalization=True,weights=1.0,1.0,38.10203618768919,2.5466481585885705,alpha=0.654145355235574,C=0.1.mat\n",
      "Train percent: 0.1\n",
      "Results, using embeddings of dimensionality 128\n",
      "-------------------\n",
      "Train percent: 0.1\n",
      "Average score: {'micro': 0.30438074217214073, 'macro': 0.1478921942209261}\n",
      "-------------------\n"
     ]
    },
    {
     "name": "stderr",
     "output_type": "stream",
     "text": [
      "[I 2019-05-11 23:05:27,938] Finished trial#1 resulted in value: -0.30438074217214073. Current best value is -0.34396449881209074 with parameters: {'weight0': 1.6229155196024254, 'weight1': 63.42014308081022, 'alpha': -0.3843023523079019}.\n"
     ]
    },
    {
     "name": "stdout",
     "output_type": "stream",
     "text": [
      "result/blog-dim=128,projection_method=sparse,input_matrix=trans,normalization=True,weights=1.0,1.0,10.021576786617116,17.728114671526416,alpha=-0.6179312092364846,C=0.1.mat\n",
      "Train percent: 0.1\n",
      "Results, using embeddings of dimensionality 128\n",
      "-------------------\n",
      "Train percent: 0.1\n",
      "Average score: {'micro': 0.33787418648806083, 'macro': 0.18920156089487095}\n",
      "-------------------\n"
     ]
    },
    {
     "name": "stderr",
     "output_type": "stream",
     "text": [
      "[I 2019-05-11 23:05:31,783] Finished trial#2 resulted in value: -0.33787418648806083. Current best value is -0.34396449881209074 with parameters: {'weight0': 1.6229155196024254, 'weight1': 63.42014308081022, 'alpha': -0.3843023523079019}.\n"
     ]
    },
    {
     "name": "stdout",
     "output_type": "stream",
     "text": [
      "result/blog-dim=128,projection_method=sparse,input_matrix=trans,normalization=True,weights=1.0,1.0,15.231604881192112,1.8085010587056578,alpha=0.8201165543972269,C=0.1.mat\n",
      "Train percent: 0.1\n",
      "Results, using embeddings of dimensionality 128\n",
      "-------------------\n",
      "Train percent: 0.1\n",
      "Average score: {'micro': 0.295809414152228, 'macro': 0.1434850234295401}\n",
      "-------------------\n"
     ]
    },
    {
     "name": "stderr",
     "output_type": "stream",
     "text": [
      "[I 2019-05-11 23:05:35,649] Finished trial#3 resulted in value: -0.295809414152228. Current best value is -0.34396449881209074 with parameters: {'weight0': 1.6229155196024254, 'weight1': 63.42014308081022, 'alpha': -0.3843023523079019}.\n"
     ]
    },
    {
     "name": "stdout",
     "output_type": "stream",
     "text": [
      "result/blog-dim=128,projection_method=sparse,input_matrix=trans,normalization=True,weights=1.0,1.0,28.130453159404272,29.18104579153984,alpha=0.9627605386975737,C=0.1.mat\n",
      "Train percent: 0.1\n",
      "Results, using embeddings of dimensionality 128\n",
      "-------------------\n",
      "Train percent: 0.1\n",
      "Average score: {'micro': 0.3178704843099379, 'macro': 0.15619060384420147}\n",
      "-------------------\n"
     ]
    },
    {
     "name": "stderr",
     "output_type": "stream",
     "text": [
      "[I 2019-05-11 23:05:39,368] Finished trial#4 resulted in value: -0.3178704843099379. Current best value is -0.34396449881209074 with parameters: {'weight0': 1.6229155196024254, 'weight1': 63.42014308081022, 'alpha': -0.3843023523079019}.\n"
     ]
    },
    {
     "name": "stdout",
     "output_type": "stream",
     "text": [
      "result/blog-dim=128,projection_method=sparse,input_matrix=trans,normalization=True,weights=1.0,1.0,14.088051705909969,1.2225445395107903,alpha=0.6937368948993521,C=0.1.mat\n",
      "Train percent: 0.1\n",
      "Results, using embeddings of dimensionality 128\n",
      "-------------------\n",
      "Train percent: 0.1\n",
      "Average score: {'micro': 0.29848188662636926, 'macro': 0.1490193886218081}\n",
      "-------------------\n"
     ]
    },
    {
     "name": "stderr",
     "output_type": "stream",
     "text": [
      "[I 2019-05-11 23:05:43,094] Finished trial#5 resulted in value: -0.29848188662636926. Current best value is -0.34396449881209074 with parameters: {'weight0': 1.6229155196024254, 'weight1': 63.42014308081022, 'alpha': -0.3843023523079019}.\n"
     ]
    },
    {
     "name": "stdout",
     "output_type": "stream",
     "text": [
      "result/blog-dim=128,projection_method=sparse,input_matrix=trans,normalization=True,weights=1.0,1.0,6.87548962696979,39.578600324429644,alpha=-0.42661165324350203,C=0.1.mat\n",
      "Train percent: 0.1\n",
      "Results, using embeddings of dimensionality 128\n",
      "-------------------\n",
      "Train percent: 0.1\n",
      "Average score: {'micro': 0.35352876255541227, 'macro': 0.19554280869952181}\n",
      "-------------------\n"
     ]
    },
    {
     "name": "stderr",
     "output_type": "stream",
     "text": [
      "[I 2019-05-11 23:05:47,063] Finished trial#6 resulted in value: -0.35352876255541227. Current best value is -0.35352876255541227 with parameters: {'weight0': 6.87548962696979, 'weight1': 39.578600324429644, 'alpha': -0.42661165324350203}.\n"
     ]
    },
    {
     "name": "stdout",
     "output_type": "stream",
     "text": [
      "result/blog-dim=128,projection_method=sparse,input_matrix=trans,normalization=True,weights=1.0,1.0,29.84090402422972,1.0634276043844852,alpha=-0.014126152979509365,C=0.1.mat\n",
      "Train percent: 0.1\n",
      "Results, using embeddings of dimensionality 128\n",
      "-------------------\n",
      "Train percent: 0.1\n",
      "Average score: {'micro': 0.3206790648589835, 'macro': 0.17201671170812152}\n",
      "-------------------\n"
     ]
    },
    {
     "name": "stderr",
     "output_type": "stream",
     "text": [
      "[I 2019-05-11 23:05:51,381] Finished trial#7 resulted in value: -0.3206790648589835. Current best value is -0.35352876255541227 with parameters: {'weight0': 6.87548962696979, 'weight1': 39.578600324429644, 'alpha': -0.42661165324350203}.\n"
     ]
    },
    {
     "name": "stdout",
     "output_type": "stream",
     "text": [
      "result/blog-dim=128,projection_method=sparse,input_matrix=trans,normalization=True,weights=1.0,1.0,53.64968952518625,19.238331584836672,alpha=-0.031757558252418994,C=0.1.mat\n",
      "Train percent: 0.1\n",
      "Results, using embeddings of dimensionality 128\n",
      "-------------------\n",
      "Train percent: 0.1\n",
      "Average score: {'micro': 0.3316634602487079, 'macro': 0.1790660508320228}\n",
      "-------------------\n"
     ]
    },
    {
     "name": "stderr",
     "output_type": "stream",
     "text": [
      "[I 2019-05-11 23:05:55,100] Finished trial#8 resulted in value: -0.3316634602487079. Current best value is -0.35352876255541227 with parameters: {'weight0': 6.87548962696979, 'weight1': 39.578600324429644, 'alpha': -0.42661165324350203}.\n"
     ]
    },
    {
     "name": "stdout",
     "output_type": "stream",
     "text": [
      "result/blog-dim=128,projection_method=sparse,input_matrix=trans,normalization=True,weights=1.0,1.0,50.479528451408825,12.323723680387936,alpha=-0.2763882342687358,C=0.1.mat\n",
      "Train percent: 0.1\n",
      "Results, using embeddings of dimensionality 128\n",
      "-------------------\n",
      "Train percent: 0.1\n",
      "Average score: {'micro': 0.32730725314055825, 'macro': 0.17821885041062094}\n",
      "-------------------\n"
     ]
    },
    {
     "name": "stderr",
     "output_type": "stream",
     "text": [
      "[I 2019-05-11 23:05:59,034] Finished trial#9 resulted in value: -0.32730725314055825. Current best value is -0.35352876255541227 with parameters: {'weight0': 6.87548962696979, 'weight1': 39.578600324429644, 'alpha': -0.42661165324350203}.\n"
     ]
    },
    {
     "name": "stdout",
     "output_type": "stream",
     "text": [
      "result/blog-dim=128,projection_method=sparse,input_matrix=trans,normalization=True,weights=1.0,1.0,3.7081372645941406,5.039979578447708,alpha=-0.7872339436901377,C=0.1.mat\n",
      "Train percent: 0.1\n",
      "Results, using embeddings of dimensionality 128\n",
      "-------------------\n",
      "Train percent: 0.1\n",
      "Average score: {'micro': 0.320017987378777, 'macro': 0.18771213719612903}\n",
      "-------------------\n"
     ]
    },
    {
     "name": "stderr",
     "output_type": "stream",
     "text": [
      "[I 2019-05-11 23:06:02,525] Finished trial#10 resulted in value: -0.320017987378777. Current best value is -0.35352876255541227 with parameters: {'weight0': 6.87548962696979, 'weight1': 39.578600324429644, 'alpha': -0.42661165324350203}.\n"
     ]
    },
    {
     "name": "stdout",
     "output_type": "stream",
     "text": [
      "result/blog-dim=128,projection_method=sparse,input_matrix=trans,normalization=True,weights=1.0,1.0,4.007548788299925,33.8219314825571,alpha=0.29917856839466317,C=0.1.mat\n",
      "Train percent: 0.1\n",
      "Results, using embeddings of dimensionality 128\n",
      "-------------------\n",
      "Train percent: 0.1\n",
      "Average score: {'micro': 0.3367728619748829, 'macro': 0.17975292945788976}\n",
      "-------------------\n"
     ]
    },
    {
     "name": "stderr",
     "output_type": "stream",
     "text": [
      "[I 2019-05-11 23:06:06,633] Finished trial#11 resulted in value: -0.3367728619748829. Current best value is -0.35352876255541227 with parameters: {'weight0': 6.87548962696979, 'weight1': 39.578600324429644, 'alpha': -0.42661165324350203}.\n"
     ]
    },
    {
     "name": "stdout",
     "output_type": "stream",
     "text": [
      "result/blog-dim=128,projection_method=sparse,input_matrix=trans,normalization=True,weights=1.0,1.0,3.946849856982384,5.7385459709503435,alpha=-0.99750753724335,C=0.1.mat\n",
      "Train percent: 0.1\n",
      "Results, using embeddings of dimensionality 128\n",
      "-------------------\n",
      "Train percent: 0.1\n",
      "Average score: {'micro': 0.3262753895643002, 'macro': 0.19173528996136321}\n",
      "-------------------\n"
     ]
    },
    {
     "name": "stderr",
     "output_type": "stream",
     "text": [
      "[I 2019-05-11 23:06:10,485] Finished trial#12 resulted in value: -0.3262753895643002. Current best value is -0.35352876255541227 with parameters: {'weight0': 6.87548962696979, 'weight1': 39.578600324429644, 'alpha': -0.42661165324350203}.\n"
     ]
    },
    {
     "name": "stdout",
     "output_type": "stream",
     "text": [
      "result/blog-dim=128,projection_method=sparse,input_matrix=trans,normalization=True,weights=1.0,1.0,6.1971428210969455,51.98367939308462,alpha=0.40732118788167715,C=0.1.mat\n",
      "Train percent: 0.1\n",
      "Results, using embeddings of dimensionality 128\n",
      "-------------------\n",
      "Train percent: 0.1\n",
      "Average score: {'micro': 0.3398927690438685, 'macro': 0.17621314166089194}\n",
      "-------------------\n"
     ]
    },
    {
     "name": "stderr",
     "output_type": "stream",
     "text": [
      "[I 2019-05-11 23:06:14,437] Finished trial#13 resulted in value: -0.3398927690438685. Current best value is -0.35352876255541227 with parameters: {'weight0': 6.87548962696979, 'weight1': 39.578600324429644, 'alpha': -0.42661165324350203}.\n"
     ]
    },
    {
     "name": "stdout",
     "output_type": "stream",
     "text": [
      "result/blog-dim=128,projection_method=sparse,input_matrix=trans,normalization=True,weights=1.0,1.0,2.622027671801053,3.1822629843165826,alpha=-0.6575140144723969,C=0.1.mat\n",
      "Train percent: 0.1\n",
      "Results, using embeddings of dimensionality 128\n",
      "-------------------\n",
      "Train percent: 0.1\n",
      "Average score: {'micro': 0.30836430371036677, 'macro': 0.17749952391180343}\n",
      "-------------------\n"
     ]
    },
    {
     "name": "stderr",
     "output_type": "stream",
     "text": [
      "[I 2019-05-11 23:06:18,150] Finished trial#14 resulted in value: -0.30836430371036677. Current best value is -0.35352876255541227 with parameters: {'weight0': 6.87548962696979, 'weight1': 39.578600324429644, 'alpha': -0.42661165324350203}.\n"
     ]
    },
    {
     "name": "stdout",
     "output_type": "stream",
     "text": [
      "result/blog-dim=128,projection_method=sparse,input_matrix=trans,normalization=True,weights=1.0,1.0,1.1837131419963431,9.62686219389132,alpha=-0.32107593786083505,C=0.1.mat\n",
      "Train percent: 0.1\n",
      "Results, using embeddings of dimensionality 128\n",
      "-------------------\n",
      "Train percent: 0.1\n",
      "Average score: {'micro': 0.3221738435808922, 'macro': 0.1897869149675853}\n",
      "-------------------\n"
     ]
    },
    {
     "name": "stderr",
     "output_type": "stream",
     "text": [
      "[I 2019-05-11 23:06:21,909] Finished trial#15 resulted in value: -0.3221738435808922. Current best value is -0.35352876255541227 with parameters: {'weight0': 6.87548962696979, 'weight1': 39.578600324429644, 'alpha': -0.42661165324350203}.\n"
     ]
    },
    {
     "name": "stdout",
     "output_type": "stream",
     "text": [
      "result/blog-dim=128,projection_method=sparse,input_matrix=trans,normalization=True,weights=1.0,1.0,7.337698931793356,42.047703142144165,alpha=-0.8623027960593265,C=0.1.mat\n",
      "Train percent: 0.1\n",
      "Results, using embeddings of dimensionality 128\n",
      "-------------------\n",
      "Train percent: 0.1\n",
      "Average score: {'micro': 0.34971841085122346, 'macro': 0.19645197774420672}\n",
      "-------------------\n"
     ]
    },
    {
     "name": "stderr",
     "output_type": "stream",
     "text": [
      "[I 2019-05-11 23:06:25,869] Finished trial#16 resulted in value: -0.34971841085122346. Current best value is -0.35352876255541227 with parameters: {'weight0': 6.87548962696979, 'weight1': 39.578600324429644, 'alpha': -0.42661165324350203}.\n"
     ]
    },
    {
     "name": "stdout",
     "output_type": "stream",
     "text": [
      "result/blog-dim=128,projection_method=sparse,input_matrix=trans,normalization=True,weights=1.0,1.0,8.020094100933466,37.36030428495003,alpha=-0.9232578053187879,C=0.1.mat\n",
      "Train percent: 0.1\n",
      "Results, using embeddings of dimensionality 128\n",
      "-------------------\n",
      "Train percent: 0.1\n",
      "Average score: {'micro': 0.34620433174207427, 'macro': 0.19966245988229417}\n",
      "-------------------\n"
     ]
    },
    {
     "name": "stderr",
     "output_type": "stream",
     "text": [
      "[I 2019-05-11 23:06:29,995] Finished trial#17 resulted in value: -0.34620433174207427. Current best value is -0.35352876255541227 with parameters: {'weight0': 6.87548962696979, 'weight1': 39.578600324429644, 'alpha': -0.42661165324350203}.\n"
     ]
    },
    {
     "name": "stdout",
     "output_type": "stream",
     "text": [
      "result/blog-dim=128,projection_method=sparse,input_matrix=trans,normalization=True,weights=1.0,1.0,15.118659895113328,60.015282745797755,alpha=-0.5145475696946364,C=0.1.mat\n",
      "Train percent: 0.1\n",
      "Results, using embeddings of dimensionality 128\n",
      "-------------------\n",
      "Train percent: 0.1\n",
      "Average score: {'micro': 0.3532426089402613, 'macro': 0.19762327125793908}\n",
      "-------------------\n"
     ]
    },
    {
     "name": "stderr",
     "output_type": "stream",
     "text": [
      "[I 2019-05-11 23:06:33,962] Finished trial#18 resulted in value: -0.3532426089402613. Current best value is -0.35352876255541227 with parameters: {'weight0': 6.87548962696979, 'weight1': 39.578600324429644, 'alpha': -0.42661165324350203}.\n"
     ]
    },
    {
     "name": "stdout",
     "output_type": "stream",
     "text": [
      "result/blog-dim=128,projection_method=sparse,input_matrix=trans,normalization=True,weights=1.0,1.0,17.214293746434866,21.96942691300304,alpha=-0.5175039109391453,C=0.1.mat\n",
      "Train percent: 0.1\n",
      "Results, using embeddings of dimensionality 128\n",
      "-------------------\n",
      "Train percent: 0.1\n",
      "Average score: {'micro': 0.34066525348307364, 'macro': 0.19395465446581736}\n",
      "-------------------\n"
     ]
    },
    {
     "name": "stderr",
     "output_type": "stream",
     "text": [
      "[I 2019-05-11 23:06:37,665] Finished trial#19 resulted in value: -0.34066525348307364. Current best value is -0.35352876255541227 with parameters: {'weight0': 6.87548962696979, 'weight1': 39.578600324429644, 'alpha': -0.42661165324350203}.\n"
     ]
    },
    {
     "name": "stdout",
     "output_type": "stream",
     "text": [
      "result/blog-dim=128,projection_method=sparse,input_matrix=trans,normalization=True,weights=1.0,1.0,21.10594499753945,12.732970152596266,alpha=-0.1369837233185151,C=0.1.mat\n",
      "Train percent: 0.1\n",
      "Results, using embeddings of dimensionality 128\n",
      "-------------------\n",
      "Train percent: 0.1\n",
      "Average score: {'micro': 0.3333675415492337, 'macro': 0.18353471754921677}\n",
      "-------------------\n"
     ]
    },
    {
     "name": "stderr",
     "output_type": "stream",
     "text": [
      "[I 2019-05-11 23:06:41,508] Finished trial#20 resulted in value: -0.3333675415492337. Current best value is -0.35352876255541227 with parameters: {'weight0': 6.87548962696979, 'weight1': 39.578600324429644, 'alpha': -0.42661165324350203}.\n"
     ]
    },
    {
     "name": "stdout",
     "output_type": "stream",
     "text": [
      "result/blog-dim=128,projection_method=sparse,input_matrix=trans,normalization=True,weights=1.0,1.0,11.751830421762834,57.499255248773196,alpha=0.13764435948217868,C=0.1.mat\n",
      "Train percent: 0.1\n",
      "Results, using embeddings of dimensionality 128\n",
      "-------------------\n",
      "Train percent: 0.1\n",
      "Average score: {'micro': 0.3460593320267192, 'macro': 0.18529267078861633}\n",
      "-------------------\n"
     ]
    },
    {
     "name": "stderr",
     "output_type": "stream",
     "text": [
      "[I 2019-05-11 23:06:45,217] Finished trial#21 resulted in value: -0.3460593320267192. Current best value is -0.35352876255541227 with parameters: {'weight0': 6.87548962696979, 'weight1': 39.578600324429644, 'alpha': -0.42661165324350203}.\n"
     ]
    },
    {
     "name": "stdout",
     "output_type": "stream",
     "text": [
      "result/blog-dim=128,projection_method=sparse,input_matrix=trans,normalization=True,weights=1.0,1.0,2.2921551346645015,25.989313277908856,alpha=-0.46413102044154075,C=0.1.mat\n",
      "Train percent: 0.1\n",
      "Results, using embeddings of dimensionality 128\n",
      "-------------------\n",
      "Train percent: 0.1\n",
      "Average score: {'micro': 0.34517908438141864, 'macro': 0.19457159572212132}\n",
      "-------------------\n"
     ]
    },
    {
     "name": "stderr",
     "output_type": "stream",
     "text": [
      "[I 2019-05-11 23:06:48,942] Finished trial#22 resulted in value: -0.34517908438141864. Current best value is -0.35352876255541227 with parameters: {'weight0': 6.87548962696979, 'weight1': 39.578600324429644, 'alpha': -0.42661165324350203}.\n"
     ]
    },
    {
     "name": "stdout",
     "output_type": "stream",
     "text": [
      "result/blog-dim=128,projection_method=sparse,input_matrix=trans,normalization=True,weights=1.0,1.0,5.287429428758033,47.529731744548876,alpha=-0.22176347280367167,C=0.1.mat\n",
      "Train percent: 0.1\n",
      "Results, using embeddings of dimensionality 128\n",
      "-------------------\n",
      "Train percent: 0.1\n",
      "Average score: {'micro': 0.35338303240668273, 'macro': 0.19412531744927697}\n",
      "-------------------\n"
     ]
    },
    {
     "name": "stderr",
     "output_type": "stream",
     "text": [
      "[I 2019-05-11 23:06:52,817] Finished trial#23 resulted in value: -0.35338303240668273. Current best value is -0.35352876255541227 with parameters: {'weight0': 6.87548962696979, 'weight1': 39.578600324429644, 'alpha': -0.42661165324350203}.\n"
     ]
    },
    {
     "name": "stdout",
     "output_type": "stream",
     "text": [
      "result/blog-dim=128,projection_method=sparse,input_matrix=trans,normalization=True,weights=1.0,1.0,5.477323047218599,15.100214692965453,alpha=-0.19918317652113784,C=0.1.mat\n",
      "Train percent: 0.1\n",
      "Results, using embeddings of dimensionality 128\n",
      "-------------------\n",
      "Train percent: 0.1\n",
      "Average score: {'micro': 0.33640406207879164, 'macro': 0.18910495478207187}\n",
      "-------------------\n"
     ]
    },
    {
     "name": "stderr",
     "output_type": "stream",
     "text": [
      "[I 2019-05-11 23:06:56,577] Finished trial#24 resulted in value: -0.33640406207879164. Current best value is -0.35352876255541227 with parameters: {'weight0': 6.87548962696979, 'weight1': 39.578600324429644, 'alpha': -0.42661165324350203}.\n"
     ]
    },
    {
     "name": "stdout",
     "output_type": "stream",
     "text": [
      "result/blog-dim=128,projection_method=sparse,input_matrix=trans,normalization=True,weights=1.0,1.0,2.046768335401497,47.78361407922032,alpha=0.20375574934747961,C=0.1.mat\n",
      "Train percent: 0.1\n",
      "Results, using embeddings of dimensionality 128\n",
      "-------------------\n",
      "Train percent: 0.1\n",
      "Average score: {'micro': 0.3450904852513033, 'macro': 0.18553415159925268}\n",
      "-------------------\n"
     ]
    },
    {
     "name": "stderr",
     "output_type": "stream",
     "text": [
      "[I 2019-05-11 23:07:00,915] Finished trial#25 resulted in value: -0.3450904852513033. Current best value is -0.35352876255541227 with parameters: {'weight0': 6.87548962696979, 'weight1': 39.578600324429644, 'alpha': -0.42661165324350203}.\n"
     ]
    },
    {
     "name": "stdout",
     "output_type": "stream",
     "text": [
      "result/blog-dim=128,projection_method=sparse,input_matrix=trans,normalization=True,weights=1.0,1.0,4.511834612591968,26.779459267902144,alpha=-0.15100878536552553,C=0.1.mat\n",
      "Train percent: 0.1\n",
      "Results, using embeddings of dimensionality 128\n",
      "-------------------\n",
      "Train percent: 0.1\n",
      "Average score: {'micro': 0.34885003889090954, 'macro': 0.19433335995162979}\n",
      "-------------------\n"
     ]
    },
    {
     "name": "stderr",
     "output_type": "stream",
     "text": [
      "[I 2019-05-11 23:07:04,769] Finished trial#26 resulted in value: -0.34885003889090954. Current best value is -0.35352876255541227 with parameters: {'weight0': 6.87548962696979, 'weight1': 39.578600324429644, 'alpha': -0.42661165324350203}.\n"
     ]
    },
    {
     "name": "stdout",
     "output_type": "stream",
     "text": [
      "result/blog-dim=128,projection_method=sparse,input_matrix=trans,normalization=True,weights=1.0,1.0,9.06522723510787,8.513747270876467,alpha=-0.7465518616860828,C=0.1.mat\n",
      "Train percent: 0.1\n",
      "Results, using embeddings of dimensionality 128\n",
      "-------------------\n",
      "Train percent: 0.1\n",
      "Average score: {'micro': 0.3282237591827492, 'macro': 0.19064676514823362}\n",
      "-------------------\n"
     ]
    },
    {
     "name": "stderr",
     "output_type": "stream",
     "text": [
      "[I 2019-05-11 23:07:08,573] Finished trial#27 resulted in value: -0.3282237591827492. Current best value is -0.35352876255541227 with parameters: {'weight0': 6.87548962696979, 'weight1': 39.578600324429644, 'alpha': -0.42661165324350203}.\n"
     ]
    },
    {
     "name": "stdout",
     "output_type": "stream",
     "text": [
      "result/blog-dim=128,projection_method=sparse,input_matrix=trans,normalization=True,weights=1.0,1.0,1.5409302387758974,62.39992206102109,alpha=-0.3848291783976943,C=0.1.mat\n",
      "Train percent: 0.1\n",
      "Results, using embeddings of dimensionality 128\n",
      "-------------------\n",
      "Train percent: 0.1\n",
      "Average score: {'micro': 0.34597027826040533, 'macro': 0.18404797267933012}\n",
      "-------------------\n"
     ]
    },
    {
     "name": "stderr",
     "output_type": "stream",
     "text": [
      "[I 2019-05-11 23:07:12,430] Finished trial#28 resulted in value: -0.34597027826040533. Current best value is -0.35352876255541227 with parameters: {'weight0': 6.87548962696979, 'weight1': 39.578600324429644, 'alpha': -0.42661165324350203}.\n"
     ]
    },
    {
     "name": "stdout",
     "output_type": "stream",
     "text": [
      "result/blog-dim=128,projection_method=sparse,input_matrix=trans,normalization=True,weights=1.0,1.0,5.543907587478987,5.687031297481225,alpha=0.1111524214664408,C=0.1.mat\n",
      "Train percent: 0.1\n",
      "Results, using embeddings of dimensionality 128\n",
      "-------------------\n",
      "Train percent: 0.1\n",
      "Average score: {'micro': 0.3149465168436297, 'macro': 0.17518752597780404}\n",
      "-------------------\n"
     ]
    },
    {
     "name": "stderr",
     "output_type": "stream",
     "text": [
      "[I 2019-05-11 23:07:15,993] Finished trial#29 resulted in value: -0.3149465168436297. Current best value is -0.35352876255541227 with parameters: {'weight0': 6.87548962696979, 'weight1': 39.578600324429644, 'alpha': -0.42661165324350203}.\n"
     ]
    },
    {
     "name": "stdout",
     "output_type": "stream",
     "text": [
      "result/blog-dim=128,projection_method=sparse,input_matrix=trans,normalization=True,weights=1.0,1.0,2.6500350202494345,40.04149855390427,alpha=0.335444545433781,C=0.1.mat\n",
      "Train percent: 0.1\n",
      "Results, using embeddings of dimensionality 128\n",
      "-------------------\n",
      "Train percent: 0.1\n",
      "Average score: {'micro': 0.33687938868914724, 'macro': 0.18470352134729415}\n",
      "-------------------\n"
     ]
    },
    {
     "name": "stderr",
     "output_type": "stream",
     "text": [
      "[I 2019-05-11 23:07:19,805] Finished trial#30 resulted in value: -0.33687938868914724. Current best value is -0.35352876255541227 with parameters: {'weight0': 6.87548962696979, 'weight1': 39.578600324429644, 'alpha': -0.42661165324350203}.\n"
     ]
    },
    {
     "name": "stdout",
     "output_type": "stream",
     "text": [
      "result/blog-dim=128,projection_method=sparse,input_matrix=trans,normalization=True,weights=1.0,1.0,1.6724204104315927,16.239824625396498,alpha=0.4983974269901802,C=0.1.mat\n",
      "Train percent: 0.1\n",
      "Results, using embeddings of dimensionality 128\n",
      "-------------------\n",
      "Train percent: 0.1\n",
      "Average score: {'micro': 0.31519506459072905, 'macro': 0.16456375227236708}\n",
      "-------------------\n"
     ]
    },
    {
     "name": "stderr",
     "output_type": "stream",
     "text": [
      "[I 2019-05-11 23:07:23,543] Finished trial#31 resulted in value: -0.31519506459072905. Current best value is -0.35352876255541227 with parameters: {'weight0': 6.87548962696979, 'weight1': 39.578600324429644, 'alpha': -0.42661165324350203}.\n"
     ]
    },
    {
     "name": "stdout",
     "output_type": "stream",
     "text": [
      "result/blog-dim=128,projection_method=sparse,input_matrix=trans,normalization=True,weights=1.0,1.0,10.89440391782987,20.79835261556793,alpha=-0.6324078648294025,C=0.1.mat\n",
      "Train percent: 0.1\n",
      "Results, using embeddings of dimensionality 128\n",
      "-------------------\n",
      "Train percent: 0.1\n",
      "Average score: {'micro': 0.33821818595776754, 'macro': 0.1930189288554948}\n",
      "-------------------\n"
     ]
    },
    {
     "name": "stderr",
     "output_type": "stream",
     "text": [
      "[I 2019-05-11 23:07:27,293] Finished trial#32 resulted in value: -0.33821818595776754. Current best value is -0.35352876255541227 with parameters: {'weight0': 6.87548962696979, 'weight1': 39.578600324429644, 'alpha': -0.42661165324350203}.\n"
     ]
    },
    {
     "name": "stdout",
     "output_type": "stream",
     "text": [
      "result/blog-dim=128,projection_method=sparse,input_matrix=trans,normalization=True,weights=1.0,1.0,3.2109890131767385,2.575535027266494,alpha=-0.4297213167093365,C=0.1.mat\n",
      "Train percent: 0.1\n",
      "Results, using embeddings of dimensionality 128\n",
      "-------------------\n",
      "Train percent: 0.1\n",
      "Average score: {'micro': 0.30520313758537726, 'macro': 0.17688304731684898}\n",
      "-------------------\n"
     ]
    },
    {
     "name": "stderr",
     "output_type": "stream",
     "text": [
      "[I 2019-05-11 23:07:31,494] Finished trial#33 resulted in value: -0.30520313758537726. Current best value is -0.35352876255541227 with parameters: {'weight0': 6.87548962696979, 'weight1': 39.578600324429644, 'alpha': -0.42661165324350203}.\n"
     ]
    },
    {
     "name": "stdout",
     "output_type": "stream",
     "text": [
      "result/blog-dim=128,projection_method=sparse,input_matrix=trans,normalization=True,weights=1.0,1.0,1.0217387708246428,33.30856703077306,alpha=-0.09175107012540279,C=0.1.mat\n",
      "Train percent: 0.1\n",
      "Results, using embeddings of dimensionality 128\n",
      "-------------------\n",
      "Train percent: 0.1\n",
      "Average score: {'micro': 0.34465315784177036, 'macro': 0.1853711204783091}\n",
      "-------------------\n"
     ]
    },
    {
     "name": "stderr",
     "output_type": "stream",
     "text": [
      "[I 2019-05-11 23:07:35,763] Finished trial#34 resulted in value: -0.34465315784177036. Current best value is -0.35352876255541227 with parameters: {'weight0': 6.87548962696979, 'weight1': 39.578600324429644, 'alpha': -0.42661165324350203}.\n"
     ]
    },
    {
     "name": "stdout",
     "output_type": "stream",
     "text": [
      "result/blog-dim=128,projection_method=sparse,input_matrix=trans,normalization=True,weights=1.0,1.0,6.460490437191369,4.301691629239307,alpha=-0.29189950575190726,C=0.1.mat\n",
      "Train percent: 0.1\n",
      "Results, using embeddings of dimensionality 128\n",
      "-------------------\n",
      "Train percent: 0.1\n",
      "Average score: {'micro': 0.32162347894048793, 'macro': 0.18049109048291376}\n",
      "-------------------\n"
     ]
    },
    {
     "name": "stderr",
     "output_type": "stream",
     "text": [
      "[I 2019-05-11 23:07:39,656] Finished trial#35 resulted in value: -0.32162347894048793. Current best value is -0.35352876255541227 with parameters: {'weight0': 6.87548962696979, 'weight1': 39.578600324429644, 'alpha': -0.42661165324350203}.\n"
     ]
    },
    {
     "name": "stdout",
     "output_type": "stream",
     "text": [
      "result/blog-dim=128,projection_method=sparse,input_matrix=trans,normalization=True,weights=1.0,1.0,23.607669062543245,11.141197149670814,alpha=0.5262330728402397,C=0.1.mat\n",
      "Train percent: 0.1\n",
      "Results, using embeddings of dimensionality 128\n",
      "-------------------\n",
      "Train percent: 0.1\n",
      "Average score: {'micro': 0.31205109470739906, 'macro': 0.15697516561288846}\n",
      "-------------------\n"
     ]
    },
    {
     "name": "stderr",
     "output_type": "stream",
     "text": [
      "[I 2019-05-11 23:07:43,461] Finished trial#36 resulted in value: -0.31205109470739906. Current best value is -0.35352876255541227 with parameters: {'weight0': 6.87548962696979, 'weight1': 39.578600324429644, 'alpha': -0.42661165324350203}.\n"
     ]
    },
    {
     "name": "stdout",
     "output_type": "stream",
     "text": [
      "result/blog-dim=128,projection_method=sparse,input_matrix=trans,normalization=True,weights=1.0,1.0,4.872904917564834,1.806816708639145,alpha=0.038941217086688545,C=0.1.mat\n",
      "Train percent: 0.1\n",
      "Results, using embeddings of dimensionality 128\n",
      "-------------------\n",
      "Train percent: 0.1\n",
      "Average score: {'micro': 0.3032359695653213, 'macro': 0.16192601213034652}\n",
      "-------------------\n"
     ]
    },
    {
     "name": "stderr",
     "output_type": "stream",
     "text": [
      "[I 2019-05-11 23:07:47,225] Finished trial#37 resulted in value: -0.3032359695653213. Current best value is -0.35352876255541227 with parameters: {'weight0': 6.87548962696979, 'weight1': 39.578600324429644, 'alpha': -0.42661165324350203}.\n"
     ]
    },
    {
     "name": "stdout",
     "output_type": "stream",
     "text": [
      "result/blog-dim=128,projection_method=sparse,input_matrix=trans,normalization=True,weights=1.0,1.0,41.65767941922285,7.29395725463364,alpha=-0.5821960874854641,C=0.1.mat\n",
      "Train percent: 0.1\n",
      "Results, using embeddings of dimensionality 128\n",
      "-------------------\n",
      "Train percent: 0.1\n",
      "Average score: {'micro': 0.3185275002527091, 'macro': 0.18098943248434615}\n",
      "-------------------\n"
     ]
    },
    {
     "name": "stderr",
     "output_type": "stream",
     "text": [
      "[I 2019-05-11 23:07:51,042] Finished trial#38 resulted in value: -0.3185275002527091. Current best value is -0.35352876255541227 with parameters: {'weight0': 6.87548962696979, 'weight1': 39.578600324429644, 'alpha': -0.42661165324350203}.\n"
     ]
    },
    {
     "name": "stdout",
     "output_type": "stream",
     "text": [
      "result/blog-dim=128,projection_method=sparse,input_matrix=trans,normalization=True,weights=1.0,1.0,12.406898128708125,24.285995001096122,alpha=0.6992881641300384,C=0.1.mat\n",
      "Train percent: 0.1\n",
      "Results, using embeddings of dimensionality 128\n",
      "-------------------\n",
      "Train percent: 0.1\n",
      "Average score: {'micro': 0.32186233624189126, 'macro': 0.16544732766228998}\n",
      "-------------------\n"
     ]
    },
    {
     "name": "stderr",
     "output_type": "stream",
     "text": [
      "[I 2019-05-11 23:07:54,810] Finished trial#39 resulted in value: -0.32186233624189126. Current best value is -0.35352876255541227 with parameters: {'weight0': 6.87548962696979, 'weight1': 39.578600324429644, 'alpha': -0.42661165324350203}.\n"
     ]
    },
    {
     "name": "stdout",
     "output_type": "stream",
     "text": [
      "result/blog-dim=128,projection_method=sparse,input_matrix=trans,normalization=True,weights=1.0,1.0,18.47068087739034,29.903532635909453,alpha=0.8790212836248704,C=0.1.mat\n",
      "Train percent: 0.1\n",
      "Results, using embeddings of dimensionality 128\n",
      "-------------------\n",
      "Train percent: 0.1\n",
      "Average score: {'micro': 0.31948379473950195, 'macro': 0.16330523595709337}\n",
      "-------------------\n"
     ]
    },
    {
     "name": "stderr",
     "output_type": "stream",
     "text": [
      "[I 2019-05-11 23:07:58,480] Finished trial#40 resulted in value: -0.31948379473950195. Current best value is -0.35352876255541227 with parameters: {'weight0': 6.87548962696979, 'weight1': 39.578600324429644, 'alpha': -0.42661165324350203}.\n"
     ]
    },
    {
     "name": "stdout",
     "output_type": "stream",
     "text": [
      "result/blog-dim=128,projection_method=sparse,input_matrix=trans,normalization=True,weights=1.0,1.0,3.3201771129800326,45.752059492865925,alpha=-0.7415743823437826,C=0.1.mat\n",
      "Train percent: 0.1\n",
      "Results, using embeddings of dimensionality 128\n",
      "-------------------\n",
      "Train percent: 0.1\n",
      "Average score: {'micro': 0.3428872819053472, 'macro': 0.18814474135738393}\n",
      "-------------------\n"
     ]
    },
    {
     "name": "stderr",
     "output_type": "stream",
     "text": [
      "[I 2019-05-11 23:08:02,442] Finished trial#41 resulted in value: -0.3428872819053472. Current best value is -0.35352876255541227 with parameters: {'weight0': 6.87548962696979, 'weight1': 39.578600324429644, 'alpha': -0.42661165324350203}.\n"
     ]
    },
    {
     "name": "stdout",
     "output_type": "stream",
     "text": [
      "result/blog-dim=128,projection_method=sparse,input_matrix=trans,normalization=True,weights=1.0,1.0,31.228002433933444,18.02136329374874,alpha=-0.8975750278070651,C=0.1.mat\n",
      "Train percent: 0.1\n",
      "Results, using embeddings of dimensionality 128\n",
      "-------------------\n",
      "Train percent: 0.1\n",
      "Average score: {'micro': 0.31933013313941666, 'macro': 0.1878473431633159}\n",
      "-------------------\n"
     ]
    },
    {
     "name": "stderr",
     "output_type": "stream",
     "text": [
      "[I 2019-05-11 23:08:05,975] Finished trial#42 resulted in value: -0.31933013313941666. Current best value is -0.35352876255541227 with parameters: {'weight0': 6.87548962696979, 'weight1': 39.578600324429644, 'alpha': -0.42661165324350203}.\n"
     ]
    },
    {
     "name": "stdout",
     "output_type": "stream",
     "text": [
      "result/blog-dim=128,projection_method=sparse,input_matrix=trans,normalization=True,weights=1.0,1.0,9.106193482313609,1.3031337667031102,alpha=-0.3014339560176644,C=0.1.mat\n",
      "Train percent: 0.1\n",
      "Results, using embeddings of dimensionality 128\n",
      "-------------------\n",
      "Train percent: 0.1\n",
      "Average score: {'micro': 0.31070390694420064, 'macro': 0.17231997997115497}\n",
      "-------------------\n"
     ]
    },
    {
     "name": "stderr",
     "output_type": "stream",
     "text": [
      "[I 2019-05-11 23:08:09,776] Finished trial#43 resulted in value: -0.31070390694420064. Current best value is -0.35352876255541227 with parameters: {'weight0': 6.87548962696979, 'weight1': 39.578600324429644, 'alpha': -0.42661165324350203}.\n"
     ]
    },
    {
     "name": "stdout",
     "output_type": "stream",
     "text": [
      "result/blog-dim=128,projection_method=sparse,input_matrix=trans,normalization=True,weights=1.0,1.0,1.5932182727138284,3.6895341914902224,alpha=-0.21173691047321105,C=0.1.mat\n",
      "Train percent: 0.1\n",
      "Results, using embeddings of dimensionality 128\n",
      "-------------------\n",
      "Train percent: 0.1\n",
      "Average score: {'micro': 0.30722367183225635, 'macro': 0.17969074159636403}\n",
      "-------------------\n"
     ]
    },
    {
     "name": "stderr",
     "output_type": "stream",
     "text": [
      "[I 2019-05-11 23:08:13,401] Finished trial#44 resulted in value: -0.30722367183225635. Current best value is -0.35352876255541227 with parameters: {'weight0': 6.87548962696979, 'weight1': 39.578600324429644, 'alpha': -0.42661165324350203}.\n"
     ]
    },
    {
     "name": "stdout",
     "output_type": "stream",
     "text": [
      "result/blog-dim=128,projection_method=sparse,input_matrix=trans,normalization=True,weights=1.0,1.0,7.511191971947455,6.946993313010387,alpha=0.061187217163445384,C=0.1.mat\n",
      "Train percent: 0.1\n",
      "Results, using embeddings of dimensionality 128\n",
      "-------------------\n",
      "Train percent: 0.1\n",
      "Average score: {'micro': 0.31674956948274385, 'macro': 0.17027640034027522}\n",
      "-------------------\n"
     ]
    },
    {
     "name": "stderr",
     "output_type": "stream",
     "text": [
      "[I 2019-05-11 23:08:17,167] Finished trial#45 resulted in value: -0.31674956948274385. Current best value is -0.35352876255541227 with parameters: {'weight0': 6.87548962696979, 'weight1': 39.578600324429644, 'alpha': -0.42661165324350203}.\n"
     ]
    },
    {
     "name": "stdout",
     "output_type": "stream",
     "text": [
      "result/blog-dim=128,projection_method=sparse,input_matrix=trans,normalization=True,weights=1.0,1.0,13.547938328935288,14.441399493415275,alpha=0.2812086536320032,C=0.1.mat\n",
      "Train percent: 0.1\n",
      "Results, using embeddings of dimensionality 128\n",
      "-------------------\n",
      "Train percent: 0.1\n",
      "Average score: {'micro': 0.3251230026611651, 'macro': 0.16694863437715166}\n",
      "-------------------\n"
     ]
    },
    {
     "name": "stderr",
     "output_type": "stream",
     "text": [
      "[I 2019-05-11 23:08:20,957] Finished trial#46 resulted in value: -0.3251230026611651. Current best value is -0.35352876255541227 with parameters: {'weight0': 6.87548962696979, 'weight1': 39.578600324429644, 'alpha': -0.42661165324350203}.\n"
     ]
    },
    {
     "name": "stdout",
     "output_type": "stream",
     "text": [
      "result/blog-dim=128,projection_method=sparse,input_matrix=trans,normalization=True,weights=1.0,1.0,1.2217801092682847,33.53382308008762,alpha=-0.02790755582679955,C=0.1.mat\n",
      "Train percent: 0.1\n",
      "Results, using embeddings of dimensionality 128\n",
      "-------------------\n",
      "Train percent: 0.1\n",
      "Average score: {'micro': 0.3389906520067368, 'macro': 0.18550083612375148}\n",
      "-------------------\n"
     ]
    },
    {
     "name": "stderr",
     "output_type": "stream",
     "text": [
      "[I 2019-05-11 23:08:24,877] Finished trial#47 resulted in value: -0.3389906520067368. Current best value is -0.35352876255541227 with parameters: {'weight0': 6.87548962696979, 'weight1': 39.578600324429644, 'alpha': -0.42661165324350203}.\n"
     ]
    },
    {
     "name": "stdout",
     "output_type": "stream",
     "text": [
      "result/blog-dim=128,projection_method=sparse,input_matrix=trans,normalization=True,weights=1.0,1.0,2.868589347224416,10.84301151510809,alpha=-0.8027974657878787,C=0.1.mat\n",
      "Train percent: 0.1\n",
      "Results, using embeddings of dimensionality 128\n",
      "-------------------\n",
      "Train percent: 0.1\n",
      "Average score: {'micro': 0.3342557333141203, 'macro': 0.18912141993875872}\n",
      "-------------------\n"
     ]
    },
    {
     "name": "stderr",
     "output_type": "stream",
     "text": [
      "[I 2019-05-11 23:08:28,549] Finished trial#48 resulted in value: -0.3342557333141203. Current best value is -0.35352876255541227 with parameters: {'weight0': 6.87548962696979, 'weight1': 39.578600324429644, 'alpha': -0.42661165324350203}.\n"
     ]
    },
    {
     "name": "stdout",
     "output_type": "stream",
     "text": [
      "result/blog-dim=128,projection_method=sparse,input_matrix=trans,normalization=True,weights=1.0,1.0,62.241942607408035,50.4857737715435,alpha=-0.5720695053654339,C=0.1.mat\n",
      "Train percent: 0.1\n",
      "Results, using embeddings of dimensionality 128\n",
      "-------------------\n",
      "Train percent: 0.1\n",
      "Average score: {'micro': 0.3283709669793834, 'macro': 0.18583129922994143}\n",
      "-------------------\n"
     ]
    },
    {
     "name": "stderr",
     "output_type": "stream",
     "text": [
      "[I 2019-05-11 23:08:32,233] Finished trial#49 resulted in value: -0.3283709669793834. Current best value is -0.35352876255541227 with parameters: {'weight0': 6.87548962696979, 'weight1': 39.578600324429644, 'alpha': -0.42661165324350203}.\n"
     ]
    },
    {
     "name": "stdout",
     "output_type": "stream",
     "text": [
      "result/blog-dim=128,projection_method=sparse,input_matrix=trans,normalization=True,weights=1.0,1.0,4.174200001288365,22.26288535848872,alpha=-0.6884522657026728,C=0.1.mat\n",
      "Train percent: 0.1\n",
      "Results, using embeddings of dimensionality 128\n",
      "-------------------\n",
      "Train percent: 0.1\n",
      "Average score: {'micro': 0.34310718203265994, 'macro': 0.19293099412880424}\n",
      "-------------------\n"
     ]
    },
    {
     "name": "stderr",
     "output_type": "stream",
     "text": [
      "[I 2019-05-11 23:08:35,967] Finished trial#50 resulted in value: -0.34310718203265994. Current best value is -0.35352876255541227 with parameters: {'weight0': 6.87548962696979, 'weight1': 39.578600324429644, 'alpha': -0.42661165324350203}.\n"
     ]
    },
    {
     "name": "stdout",
     "output_type": "stream",
     "text": [
      "result/blog-dim=128,projection_method=sparse,input_matrix=trans,normalization=True,weights=1.0,1.0,1.9649103492167919,57.885928217410765,alpha=-0.2307328113698682,C=0.1.mat\n",
      "Train percent: 0.1\n",
      "Results, using embeddings of dimensionality 128\n",
      "-------------------\n",
      "Train percent: 0.1\n",
      "Average score: {'micro': 0.346217010823656, 'macro': 0.18434890036413884}\n",
      "-------------------\n"
     ]
    },
    {
     "name": "stderr",
     "output_type": "stream",
     "text": [
      "[I 2019-05-11 23:08:40,018] Finished trial#51 resulted in value: -0.346217010823656. Current best value is -0.35352876255541227 with parameters: {'weight0': 6.87548962696979, 'weight1': 39.578600324429644, 'alpha': -0.42661165324350203}.\n"
     ]
    },
    {
     "name": "stdout",
     "output_type": "stream",
     "text": [
      "result/blog-dim=128,projection_method=sparse,input_matrix=trans,normalization=True,weights=1.0,1.0,9.572918475609091,41.75599792777374,alpha=-0.9807308991120537,C=0.1.mat\n",
      "Train percent: 0.1\n",
      "Results, using embeddings of dimensionality 128\n",
      "-------------------\n",
      "Train percent: 0.1\n",
      "Average score: {'micro': 0.3479952357635387, 'macro': 0.1988173507333182}\n",
      "-------------------\n"
     ]
    },
    {
     "name": "stderr",
     "output_type": "stream",
     "text": [
      "[I 2019-05-11 23:08:43,826] Finished trial#52 resulted in value: -0.3479952357635387. Current best value is -0.35352876255541227 with parameters: {'weight0': 6.87548962696979, 'weight1': 39.578600324429644, 'alpha': -0.42661165324350203}.\n"
     ]
    },
    {
     "name": "stdout",
     "output_type": "stream",
     "text": [
      "result/blog-dim=128,projection_method=sparse,input_matrix=trans,normalization=True,weights=1.0,1.0,3.5504157288400107,18.83351142859194,alpha=-0.40539614058111895,C=0.1.mat\n",
      "Train percent: 0.1\n",
      "Results, using embeddings of dimensionality 128\n",
      "-------------------\n",
      "Train percent: 0.1\n",
      "Average score: {'micro': 0.3401526056473339, 'macro': 0.19869048007356302}\n",
      "-------------------\n"
     ]
    },
    {
     "name": "stderr",
     "output_type": "stream",
     "text": [
      "[I 2019-05-11 23:08:47,603] Finished trial#53 resulted in value: -0.3401526056473339. Current best value is -0.35352876255541227 with parameters: {'weight0': 6.87548962696979, 'weight1': 39.578600324429644, 'alpha': -0.42661165324350203}.\n"
     ]
    },
    {
     "name": "stdout",
     "output_type": "stream",
     "text": [
      "result/blog-dim=128,projection_method=sparse,input_matrix=trans,normalization=True,weights=1.0,1.0,6.60267895340001,30.05935527787563,alpha=0.19150145398097737,C=0.1.mat\n",
      "Train percent: 0.1\n",
      "Results, using embeddings of dimensionality 128\n",
      "-------------------\n",
      "Train percent: 0.1\n",
      "Average score: {'micro': 0.3380410424764708, 'macro': 0.18297860175456968}\n",
      "-------------------\n"
     ]
    },
    {
     "name": "stderr",
     "output_type": "stream",
     "text": [
      "[I 2019-05-11 23:08:51,575] Finished trial#54 resulted in value: -0.3380410424764708. Current best value is -0.35352876255541227 with parameters: {'weight0': 6.87548962696979, 'weight1': 39.578600324429644, 'alpha': -0.42661165324350203}.\n"
     ]
    },
    {
     "name": "stdout",
     "output_type": "stream",
     "text": [
      "result/blog-dim=128,projection_method=sparse,input_matrix=trans,normalization=True,weights=1.0,1.0,5.260391452388337,12.797706237838778,alpha=-0.5218848996959039,C=0.1.mat\n",
      "Train percent: 0.1\n",
      "Results, using embeddings of dimensionality 128\n",
      "-------------------\n",
      "Train percent: 0.1\n",
      "Average score: {'micro': 0.33613266715622475, 'macro': 0.19383303341289318}\n",
      "-------------------\n"
     ]
    },
    {
     "name": "stderr",
     "output_type": "stream",
     "text": [
      "[I 2019-05-11 23:08:55,353] Finished trial#55 resulted in value: -0.33613266715622475. Current best value is -0.35352876255541227 with parameters: {'weight0': 6.87548962696979, 'weight1': 39.578600324429644, 'alpha': -0.42661165324350203}.\n"
     ]
    },
    {
     "name": "stdout",
     "output_type": "stream",
     "text": [
      "result/blog-dim=128,projection_method=sparse,input_matrix=trans,normalization=True,weights=1.0,1.0,17.033958478812153,9.354098747712019,alpha=-0.07105430371764607,C=0.1.mat\n",
      "Train percent: 0.1\n",
      "Results, using embeddings of dimensionality 128\n",
      "-------------------\n",
      "Train percent: 0.1\n",
      "Average score: {'micro': 0.3266128519138065, 'macro': 0.17932317130648276}\n",
      "-------------------\n"
     ]
    },
    {
     "name": "stderr",
     "output_type": "stream",
     "text": [
      "[I 2019-05-11 23:08:59,138] Finished trial#56 resulted in value: -0.3266128519138065. Current best value is -0.35352876255541227 with parameters: {'weight0': 6.87548962696979, 'weight1': 39.578600324429644, 'alpha': -0.42661165324350203}.\n"
     ]
    },
    {
     "name": "stdout",
     "output_type": "stream",
     "text": [
      "result/blog-dim=128,projection_method=sparse,input_matrix=trans,normalization=True,weights=1.0,1.0,35.69688959339994,36.41503368384126,alpha=-0.365113848430488,C=0.1.mat\n",
      "Train percent: 0.1\n",
      "Results, using embeddings of dimensionality 128\n",
      "-------------------\n",
      "Train percent: 0.1\n",
      "Average score: {'micro': 0.3336123676889642, 'macro': 0.18465961922763433}\n",
      "-------------------\n"
     ]
    },
    {
     "name": "stderr",
     "output_type": "stream",
     "text": [
      "[I 2019-05-11 23:09:02,883] Finished trial#57 resulted in value: -0.3336123676889642. Current best value is -0.35352876255541227 with parameters: {'weight0': 6.87548962696979, 'weight1': 39.578600324429644, 'alpha': -0.42661165324350203}.\n"
     ]
    },
    {
     "name": "stdout",
     "output_type": "stream",
     "text": [
      "result/blog-dim=128,projection_method=sparse,input_matrix=trans,normalization=True,weights=1.0,1.0,24.672793682717565,62.623720052900275,alpha=-0.45167934010104904,C=0.1.mat\n",
      "Train percent: 0.1\n",
      "Results, using embeddings of dimensionality 128\n",
      "-------------------\n",
      "Train percent: 0.1\n",
      "Average score: {'micro': 0.34989637296876147, 'macro': 0.20302707568441114}\n",
      "-------------------\n"
     ]
    },
    {
     "name": "stderr",
     "output_type": "stream",
     "text": [
      "[I 2019-05-11 23:09:06,889] Finished trial#58 resulted in value: -0.34989637296876147. Current best value is -0.35352876255541227 with parameters: {'weight0': 6.87548962696979, 'weight1': 39.578600324429644, 'alpha': -0.42661165324350203}.\n"
     ]
    },
    {
     "name": "stdout",
     "output_type": "stream",
     "text": [
      "result/blog-dim=128,projection_method=sparse,input_matrix=trans,normalization=True,weights=1.0,1.0,10.754698719626205,51.9130325931237,alpha=-0.14398582532659276,C=0.1.mat\n",
      "Train percent: 0.1\n",
      "Results, using embeddings of dimensionality 128\n",
      "-------------------\n",
      "Train percent: 0.1\n",
      "Average score: {'micro': 0.34850574192475436, 'macro': 0.18698132246863441}\n",
      "-------------------\n"
     ]
    },
    {
     "name": "stderr",
     "output_type": "stream",
     "text": [
      "[I 2019-05-11 23:09:10,888] Finished trial#59 resulted in value: -0.34850574192475436. Current best value is -0.35352876255541227 with parameters: {'weight0': 6.87548962696979, 'weight1': 39.578600324429644, 'alpha': -0.42661165324350203}.\n"
     ]
    },
    {
     "name": "stdout",
     "output_type": "stream",
     "text": [
      "result/blog-dim=128,projection_method=sparse,input_matrix=trans,normalization=True,weights=1.0,1.0,8.261389252362774,1.7084101241998235,alpha=0.4383438563978109,C=0.1.mat\n",
      "Train percent: 0.1\n",
      "Results, using embeddings of dimensionality 128\n",
      "-------------------\n",
      "Train percent: 0.1\n",
      "Average score: {'micro': 0.3021557205055057, 'macro': 0.15418922740350582}\n",
      "-------------------\n"
     ]
    },
    {
     "name": "stderr",
     "output_type": "stream",
     "text": [
      "[I 2019-05-11 23:09:14,706] Finished trial#60 resulted in value: -0.3021557205055057. Current best value is -0.35352876255541227 with parameters: {'weight0': 6.87548962696979, 'weight1': 39.578600324429644, 'alpha': -0.42661165324350203}.\n"
     ]
    },
    {
     "name": "stdout",
     "output_type": "stream",
     "text": [
      "result/blog-dim=128,projection_method=sparse,input_matrix=trans,normalization=True,weights=1.0,1.0,2.339085932653125,24.513864744547153,alpha=0.5995251989842517,C=0.1.mat\n",
      "Train percent: 0.1\n",
      "Results, using embeddings of dimensionality 128\n",
      "-------------------\n",
      "Train percent: 0.1\n",
      "Average score: {'micro': 0.32265480677376324, 'macro': 0.16623991801673899}\n",
      "-------------------\n"
     ]
    },
    {
     "name": "stderr",
     "output_type": "stream",
     "text": [
      "[I 2019-05-11 23:09:18,560] Finished trial#61 resulted in value: -0.32265480677376324. Current best value is -0.35352876255541227 with parameters: {'weight0': 6.87548962696979, 'weight1': 39.578600324429644, 'alpha': -0.42661165324350203}.\n"
     ]
    },
    {
     "name": "stdout",
     "output_type": "stream",
     "text": [
      "result/blog-dim=128,projection_method=sparse,input_matrix=trans,normalization=True,weights=1.0,1.0,1.1781366979912975,5.84476477204241,alpha=-0.8383089373339979,C=0.1.mat\n",
      "Train percent: 0.1\n",
      "Results, using embeddings of dimensionality 128\n",
      "-------------------\n",
      "Train percent: 0.1\n",
      "Average score: {'micro': 0.3149902190014168, 'macro': 0.1842560707084497}\n",
      "-------------------\n"
     ]
    },
    {
     "name": "stderr",
     "output_type": "stream",
     "text": [
      "[I 2019-05-11 23:09:22,173] Finished trial#62 resulted in value: -0.3149902190014168. Current best value is -0.35352876255541227 with parameters: {'weight0': 6.87548962696979, 'weight1': 39.578600324429644, 'alpha': -0.42661165324350203}.\n"
     ]
    },
    {
     "name": "stdout",
     "output_type": "stream",
     "text": [
      "result/blog-dim=128,projection_method=sparse,input_matrix=trans,normalization=True,weights=1.0,1.0,4.633519337063645,2.4999436190308004,alpha=-0.6937277153077691,C=0.1.mat\n",
      "Train percent: 0.1\n",
      "Results, using embeddings of dimensionality 128\n",
      "-------------------\n",
      "Train percent: 0.1\n",
      "Average score: {'micro': 0.304827341444464, 'macro': 0.18031818297927482}\n",
      "-------------------\n"
     ]
    },
    {
     "name": "stderr",
     "output_type": "stream",
     "text": [
      "[I 2019-05-11 23:09:25,627] Finished trial#63 resulted in value: -0.304827341444464. Current best value is -0.35352876255541227 with parameters: {'weight0': 6.87548962696979, 'weight1': 39.578600324429644, 'alpha': -0.42661165324350203}.\n"
     ]
    },
    {
     "name": "stdout",
     "output_type": "stream",
     "text": [
      "result/blog-dim=128,projection_method=sparse,input_matrix=trans,normalization=True,weights=1.0,1.0,2.958257568317882,15.251210462675594,alpha=0.11254663414177901,C=0.1.mat\n",
      "Train percent: 0.1\n",
      "Results, using embeddings of dimensionality 128\n",
      "-------------------\n",
      "Train percent: 0.1\n",
      "Average score: {'micro': 0.32540936339265425, 'macro': 0.1788949721466281}\n",
      "-------------------\n"
     ]
    },
    {
     "name": "stderr",
     "output_type": "stream",
     "text": [
      "[I 2019-05-11 23:09:29,357] Finished trial#64 resulted in value: -0.32540936339265425. Current best value is -0.35352876255541227 with parameters: {'weight0': 6.87548962696979, 'weight1': 39.578600324429644, 'alpha': -0.42661165324350203}.\n"
     ]
    },
    {
     "name": "stdout",
     "output_type": "stream",
     "text": [
      "result/blog-dim=128,projection_method=sparse,input_matrix=trans,normalization=True,weights=1.0,1.0,14.648693603866263,45.31861181034644,alpha=-0.5332179987863945,C=0.1.mat\n",
      "Train percent: 0.1\n",
      "Results, using embeddings of dimensionality 128\n",
      "-------------------\n",
      "Train percent: 0.1\n",
      "Average score: {'micro': 0.3516695814511284, 'macro': 0.20557510905594534}\n",
      "-------------------\n"
     ]
    },
    {
     "name": "stderr",
     "output_type": "stream",
     "text": [
      "[I 2019-05-11 23:09:33,175] Finished trial#65 resulted in value: -0.3516695814511284. Current best value is -0.35352876255541227 with parameters: {'weight0': 6.87548962696979, 'weight1': 39.578600324429644, 'alpha': -0.42661165324350203}.\n"
     ]
    },
    {
     "name": "stdout",
     "output_type": "stream",
     "text": [
      "result/blog-dim=128,projection_method=sparse,input_matrix=trans,normalization=True,weights=1.0,1.0,52.558038080412345,63.42764941168663,alpha=-0.32726400973988967,C=0.1.mat\n",
      "Train percent: 0.1\n",
      "Results, using embeddings of dimensionality 128\n",
      "-------------------\n",
      "Train percent: 0.1\n",
      "Average score: {'micro': 0.34126138252061966, 'macro': 0.18611066698872727}\n",
      "-------------------\n"
     ]
    },
    {
     "name": "stderr",
     "output_type": "stream",
     "text": [
      "[I 2019-05-11 23:09:36,974] Finished trial#66 resulted in value: -0.34126138252061966. Current best value is -0.35352876255541227 with parameters: {'weight0': 6.87548962696979, 'weight1': 39.578600324429644, 'alpha': -0.42661165324350203}.\n"
     ]
    },
    {
     "name": "stdout",
     "output_type": "stream",
     "text": [
      "result/blog-dim=128,projection_method=sparse,input_matrix=trans,normalization=True,weights=1.0,1.0,19.577909839019036,56.34133274172257,alpha=-0.4860438570370213,C=0.1.mat\n",
      "Train percent: 0.1\n",
      "Results, using embeddings of dimensionality 128\n",
      "-------------------\n",
      "Train percent: 0.1\n",
      "Average score: {'micro': 0.3515789260437197, 'macro': 0.1960462508610438}\n",
      "-------------------\n"
     ]
    },
    {
     "name": "stderr",
     "output_type": "stream",
     "text": [
      "[I 2019-05-11 23:09:40,783] Finished trial#67 resulted in value: -0.3515789260437197. Current best value is -0.35352876255541227 with parameters: {'weight0': 6.87548962696979, 'weight1': 39.578600324429644, 'alpha': -0.42661165324350203}.\n"
     ]
    },
    {
     "name": "stdout",
     "output_type": "stream",
     "text": [
      "result/blog-dim=128,projection_method=sparse,input_matrix=trans,normalization=True,weights=1.0,1.0,12.374602659886303,40.09832988962811,alpha=-0.5927354637991592,C=0.1.mat\n",
      "Train percent: 0.1\n",
      "Results, using embeddings of dimensionality 128\n",
      "-------------------\n",
      "Train percent: 0.1\n",
      "Average score: {'micro': 0.35238225332856565, 'macro': 0.20584980337739592}\n",
      "-------------------\n"
     ]
    },
    {
     "name": "stderr",
     "output_type": "stream",
     "text": [
      "[I 2019-05-11 23:09:44,875] Finished trial#68 resulted in value: -0.35238225332856565. Current best value is -0.35352876255541227 with parameters: {'weight0': 6.87548962696979, 'weight1': 39.578600324429644, 'alpha': -0.42661165324350203}.\n"
     ]
    },
    {
     "name": "stdout",
     "output_type": "stream",
     "text": [
      "result/blog-dim=128,projection_method=sparse,input_matrix=trans,normalization=True,weights=1.0,1.0,6.312684628470031,29.222516877411312,alpha=-0.24445984098281978,C=0.1.mat\n",
      "Train percent: 0.1\n",
      "Results, using embeddings of dimensionality 128\n",
      "-------------------\n",
      "Train percent: 0.1\n",
      "Average score: {'micro': 0.34964744878056137, 'macro': 0.19789416127032208}\n",
      "-------------------\n"
     ]
    },
    {
     "name": "stderr",
     "output_type": "stream",
     "text": [
      "[I 2019-05-11 23:09:48,843] Finished trial#69 resulted in value: -0.34964744878056137. Current best value is -0.35352876255541227 with parameters: {'weight0': 6.87548962696979, 'weight1': 39.578600324429644, 'alpha': -0.42661165324350203}.\n"
     ]
    },
    {
     "name": "stdout",
     "output_type": "stream",
     "text": [
      "result/blog-dim=128,projection_method=sparse,input_matrix=trans,normalization=True,weights=1.0,1.0,7.0912295042875915,35.09341114070056,alpha=-0.09667225374072869,C=0.1.mat\n",
      "Train percent: 0.1\n",
      "Results, using embeddings of dimensionality 128\n",
      "-------------------\n",
      "Train percent: 0.1\n",
      "Average score: {'micro': 0.3448357057198508, 'macro': 0.18958409219233072}\n",
      "-------------------\n"
     ]
    },
    {
     "name": "stderr",
     "output_type": "stream",
     "text": [
      "[I 2019-05-11 23:09:52,703] Finished trial#70 resulted in value: -0.3448357057198508. Current best value is -0.35352876255541227 with parameters: {'weight0': 6.87548962696979, 'weight1': 39.578600324429644, 'alpha': -0.42661165324350203}.\n"
     ]
    },
    {
     "name": "stdout",
     "output_type": "stream",
     "text": [
      "result/blog-dim=128,projection_method=sparse,input_matrix=trans,normalization=True,weights=1.0,1.0,5.517084640568329,21.98159044098483,alpha=-0.9710518523638877,C=0.1.mat\n",
      "Train percent: 0.1\n",
      "Results, using embeddings of dimensionality 128\n",
      "-------------------\n",
      "Train percent: 0.1\n",
      "Average score: {'micro': 0.34404670731393744, 'macro': 0.19644133808443134}\n",
      "-------------------\n"
     ]
    },
    {
     "name": "stderr",
     "output_type": "stream",
     "text": [
      "[I 2019-05-11 23:09:56,411] Finished trial#71 resulted in value: -0.34404670731393744. Current best value is -0.35352876255541227 with parameters: {'weight0': 6.87548962696979, 'weight1': 39.578600324429644, 'alpha': -0.42661165324350203}.\n"
     ]
    },
    {
     "name": "stdout",
     "output_type": "stream",
     "text": [
      "result/blog-dim=128,projection_method=sparse,input_matrix=trans,normalization=True,weights=1.0,1.0,15.221005136939441,55.69387500485699,alpha=-0.3442105331055302,C=0.1.mat\n",
      "Train percent: 0.1\n",
      "Results, using embeddings of dimensionality 128\n",
      "-------------------\n",
      "Train percent: 0.1\n",
      "Average score: {'micro': 0.3512702520489341, 'macro': 0.19993078423904778}\n",
      "-------------------\n"
     ]
    },
    {
     "name": "stderr",
     "output_type": "stream",
     "text": [
      "[I 2019-05-11 23:10:00,161] Finished trial#72 resulted in value: -0.3512702520489341. Current best value is -0.35352876255541227 with parameters: {'weight0': 6.87548962696979, 'weight1': 39.578600324429644, 'alpha': -0.42661165324350203}.\n"
     ]
    },
    {
     "name": "stdout",
     "output_type": "stream",
     "text": [
      "result/blog-dim=128,projection_method=sparse,input_matrix=trans,normalization=True,weights=1.0,1.0,23.683115913058952,43.59829880757338,alpha=-0.189710572163133,C=0.1.mat\n",
      "Train percent: 0.1\n",
      "Results, using embeddings of dimensionality 128\n",
      "-------------------\n",
      "Train percent: 0.1\n",
      "Average score: {'micro': 0.34523204989309875, 'macro': 0.18941737440962927}\n",
      "-------------------\n"
     ]
    },
    {
     "name": "stderr",
     "output_type": "stream",
     "text": [
      "[I 2019-05-11 23:10:03,983] Finished trial#73 resulted in value: -0.34523204989309875. Current best value is -0.35352876255541227 with parameters: {'weight0': 6.87548962696979, 'weight1': 39.578600324429644, 'alpha': -0.42661165324350203}.\n"
     ]
    },
    {
     "name": "stdout",
     "output_type": "stream",
     "text": [
      "result/blog-dim=128,projection_method=sparse,input_matrix=trans,normalization=True,weights=1.0,1.0,46.275438967527556,63.86395319438825,alpha=-0.6495466372887403,C=0.1.mat\n",
      "Train percent: 0.1\n",
      "Results, using embeddings of dimensionality 128\n",
      "-------------------\n",
      "Train percent: 0.1\n",
      "Average score: {'micro': 0.3435600614486163, 'macro': 0.20166114846296776}\n",
      "-------------------\n"
     ]
    },
    {
     "name": "stderr",
     "output_type": "stream",
     "text": [
      "[I 2019-05-11 23:10:07,754] Finished trial#74 resulted in value: -0.3435600614486163. Current best value is -0.35352876255541227 with parameters: {'weight0': 6.87548962696979, 'weight1': 39.578600324429644, 'alpha': -0.42661165324350203}.\n"
     ]
    },
    {
     "name": "stdout",
     "output_type": "stream",
     "text": [
      "result/blog-dim=128,projection_method=sparse,input_matrix=trans,normalization=True,weights=1.0,1.0,8.507519083111253,16.744394850712553,alpha=-0.39333976668460935,C=0.1.mat\n",
      "Train percent: 0.1\n",
      "Results, using embeddings of dimensionality 128\n",
      "-------------------\n",
      "Train percent: 0.1\n",
      "Average score: {'micro': 0.3385481933169121, 'macro': 0.19640717936646576}\n",
      "-------------------\n"
     ]
    },
    {
     "name": "stderr",
     "output_type": "stream",
     "text": [
      "[I 2019-05-11 23:10:11,543] Finished trial#75 resulted in value: -0.3385481933169121. Current best value is -0.35352876255541227 with parameters: {'weight0': 6.87548962696979, 'weight1': 39.578600324429644, 'alpha': -0.42661165324350203}.\n"
     ]
    },
    {
     "name": "stdout",
     "output_type": "stream",
     "text": [
      "result/blog-dim=128,projection_method=sparse,input_matrix=trans,normalization=True,weights=1.0,1.0,4.105835817265733,26.98026350395559,alpha=0.00916060535230781,C=0.1.mat\n",
      "Train percent: 0.1\n",
      "Results, using embeddings of dimensionality 128\n",
      "-------------------\n",
      "Train percent: 0.1\n",
      "Average score: {'micro': 0.3408482077607735, 'macro': 0.18538442558404097}\n",
      "-------------------\n"
     ]
    },
    {
     "name": "stderr",
     "output_type": "stream",
     "text": [
      "[I 2019-05-11 23:10:15,480] Finished trial#76 resulted in value: -0.3408482077607735. Current best value is -0.35352876255541227 with parameters: {'weight0': 6.87548962696979, 'weight1': 39.578600324429644, 'alpha': -0.42661165324350203}.\n"
     ]
    },
    {
     "name": "stdout",
     "output_type": "stream",
     "text": [
      "result/blog-dim=128,projection_method=sparse,input_matrix=trans,normalization=True,weights=1.0,1.0,27.275575226449252,31.747470259716998,alpha=-0.7368603814709453,C=0.1.mat\n",
      "Train percent: 0.1\n",
      "Results, using embeddings of dimensionality 128\n",
      "-------------------\n",
      "Train percent: 0.1\n",
      "Average score: {'micro': 0.33674634605667864, 'macro': 0.19632965973962266}\n",
      "-------------------\n"
     ]
    },
    {
     "name": "stderr",
     "output_type": "stream",
     "text": [
      "[I 2019-05-11 23:10:19,109] Finished trial#77 resulted in value: -0.33674634605667864. Current best value is -0.35352876255541227 with parameters: {'weight0': 6.87548962696979, 'weight1': 39.578600324429644, 'alpha': -0.42661165324350203}.\n"
     ]
    },
    {
     "name": "stdout",
     "output_type": "stream",
     "text": [
      "result/blog-dim=128,projection_method=sparse,input_matrix=trans,normalization=True,weights=1.0,1.0,10.526069853115398,49.09599767609882,alpha=-0.49021277585686607,C=0.1.mat\n",
      "Train percent: 0.1\n",
      "Results, using embeddings of dimensionality 128\n",
      "-------------------\n",
      "Train percent: 0.1\n",
      "Average score: {'micro': 0.3562911899669981, 'macro': 0.2045900502506548}\n",
      "-------------------\n"
     ]
    },
    {
     "name": "stderr",
     "output_type": "stream",
     "text": [
      "[I 2019-05-11 23:10:22,774] Finished trial#78 resulted in value: -0.3562911899669981. Current best value is -0.3562911899669981 with parameters: {'weight0': 10.526069853115398, 'weight1': 49.09599767609882, 'alpha': -0.49021277585686607}.\n"
     ]
    },
    {
     "name": "stdout",
     "output_type": "stream",
     "text": [
      "result/blog-dim=128,projection_method=sparse,input_matrix=trans,normalization=True,weights=1.0,1.0,10.311423501801105,50.80303129125647,alpha=-0.2576748530295513,C=0.1.mat\n",
      "Train percent: 0.1\n",
      "Results, using embeddings of dimensionality 128\n",
      "-------------------\n",
      "Train percent: 0.1\n",
      "Average score: {'micro': 0.3506178185279798, 'macro': 0.19225490851272828}\n",
      "-------------------\n"
     ]
    },
    {
     "name": "stderr",
     "output_type": "stream",
     "text": [
      "[I 2019-05-11 23:10:26,712] Finished trial#79 resulted in value: -0.3506178185279798. Current best value is -0.3562911899669981 with parameters: {'weight0': 10.526069853115398, 'weight1': 49.09599767609882, 'alpha': -0.49021277585686607}.\n"
     ]
    },
    {
     "name": "stdout",
     "output_type": "stream",
     "text": [
      "result/blog-dim=128,projection_method=sparse,input_matrix=trans,normalization=True,weights=1.0,1.0,1.7720503092175273,38.58458693982027,alpha=-0.9257540672664559,C=0.1.mat\n",
      "Train percent: 0.1\n",
      "Results, using embeddings of dimensionality 128\n",
      "-------------------\n",
      "Train percent: 0.1\n",
      "Average score: {'micro': 0.33871701375501845, 'macro': 0.18845045752272935}\n",
      "-------------------\n"
     ]
    },
    {
     "name": "stderr",
     "output_type": "stream",
     "text": [
      "[I 2019-05-11 23:10:30,420] Finished trial#80 resulted in value: -0.33871701375501845. Current best value is -0.3562911899669981 with parameters: {'weight0': 10.526069853115398, 'weight1': 49.09599767609882, 'alpha': -0.49021277585686607}.\n"
     ]
    },
    {
     "name": "stdout",
     "output_type": "stream",
     "text": [
      "result/blog-dim=128,projection_method=sparse,input_matrix=trans,normalization=True,weights=1.0,1.0,2.5550168618484577,13.937634707488753,alpha=0.33377567878088094,C=0.1.mat\n",
      "Train percent: 0.1\n",
      "Results, using embeddings of dimensionality 128\n",
      "-------------------\n",
      "Train percent: 0.1\n",
      "Average score: {'micro': 0.317804587324977, 'macro': 0.16916344358468616}\n",
      "-------------------\n"
     ]
    },
    {
     "name": "stderr",
     "output_type": "stream",
     "text": [
      "[I 2019-05-11 23:10:34,242] Finished trial#81 resulted in value: -0.317804587324977. Current best value is -0.3562911899669981 with parameters: {'weight0': 10.526069853115398, 'weight1': 49.09599767609882, 'alpha': -0.49021277585686607}.\n"
     ]
    },
    {
     "name": "stdout",
     "output_type": "stream",
     "text": [
      "result/blog-dim=128,projection_method=sparse,input_matrix=trans,normalization=True,weights=1.0,1.0,3.4931805586694558,26.98476494310043,alpha=0.17431807322564374,C=0.1.mat\n",
      "Train percent: 0.1\n",
      "Results, using embeddings of dimensionality 128\n",
      "-------------------\n",
      "Train percent: 0.1\n",
      "Average score: {'micro': 0.33238758296203347, 'macro': 0.17707822245243063}\n",
      "-------------------\n"
     ]
    },
    {
     "name": "stderr",
     "output_type": "stream",
     "text": [
      "[I 2019-05-11 23:10:38,198] Finished trial#82 resulted in value: -0.33238758296203347. Current best value is -0.3562911899669981 with parameters: {'weight0': 10.526069853115398, 'weight1': 49.09599767609882, 'alpha': -0.49021277585686607}.\n"
     ]
    },
    {
     "name": "stdout",
     "output_type": "stream",
     "text": [
      "result/blog-dim=128,projection_method=sparse,input_matrix=trans,normalization=True,weights=1.0,1.0,5.928043868009935,19.708511724720054,alpha=-0.07349383572533313,C=0.1.mat\n",
      "Train percent: 0.1\n",
      "Results, using embeddings of dimensionality 128\n",
      "-------------------\n",
      "Train percent: 0.1\n",
      "Average score: {'micro': 0.3382258857623204, 'macro': 0.1889515102454238}\n",
      "-------------------\n"
     ]
    },
    {
     "name": "stderr",
     "output_type": "stream",
     "text": [
      "[I 2019-05-11 23:10:41,983] Finished trial#83 resulted in value: -0.3382258857623204. Current best value is -0.3562911899669981 with parameters: {'weight0': 10.526069853115398, 'weight1': 49.09599767609882, 'alpha': -0.49021277585686607}.\n"
     ]
    },
    {
     "name": "stdout",
     "output_type": "stream",
     "text": [
      "result/blog-dim=128,projection_method=sparse,input_matrix=trans,normalization=True,weights=1.0,1.0,7.161226243242008,11.20542235475684,alpha=0.07245160521656634,C=0.1.mat\n",
      "Train percent: 0.1\n",
      "Results, using embeddings of dimensionality 128\n",
      "-------------------\n",
      "Train percent: 0.1\n",
      "Average score: {'micro': 0.32543408531894463, 'macro': 0.17895418136919505}\n",
      "-------------------\n"
     ]
    },
    {
     "name": "stderr",
     "output_type": "stream",
     "text": [
      "[I 2019-05-11 23:10:45,823] Finished trial#84 resulted in value: -0.32543408531894463. Current best value is -0.3562911899669981 with parameters: {'weight0': 10.526069853115398, 'weight1': 49.09599767609882, 'alpha': -0.49021277585686607}.\n"
     ]
    },
    {
     "name": "stdout",
     "output_type": "stream",
     "text": [
      "result/blog-dim=128,projection_method=sparse,input_matrix=trans,normalization=True,weights=1.0,1.0,1.42646307129895,4.728336842644141,alpha=0.24338385840539112,C=0.1.mat\n",
      "Train percent: 0.1\n",
      "Results, using embeddings of dimensionality 128\n",
      "-------------------\n",
      "Train percent: 0.1\n",
      "Average score: {'micro': 0.2956489446388249, 'macro': 0.16140181740164156}\n",
      "-------------------\n"
     ]
    },
    {
     "name": "stderr",
     "output_type": "stream",
     "text": [
      "[I 2019-05-11 23:10:49,538] Finished trial#85 resulted in value: -0.2956489446388249. Current best value is -0.3562911899669981 with parameters: {'weight0': 10.526069853115398, 'weight1': 49.09599767609882, 'alpha': -0.49021277585686607}.\n"
     ]
    },
    {
     "name": "stdout",
     "output_type": "stream",
     "text": [
      "result/blog-dim=128,projection_method=sparse,input_matrix=trans,normalization=True,weights=1.0,1.0,3.818623217994983,23.857340580201747,alpha=-0.17087251196351555,C=0.1.mat\n",
      "Train percent: 0.1\n",
      "Results, using embeddings of dimensionality 128\n",
      "-------------------\n",
      "Train percent: 0.1\n",
      "Average score: {'micro': 0.34099699541943146, 'macro': 0.18375326934512004}\n",
      "-------------------\n"
     ]
    },
    {
     "name": "stderr",
     "output_type": "stream",
     "text": [
      "[I 2019-05-11 23:10:53,373] Finished trial#86 resulted in value: -0.34099699541943146. Current best value is -0.3562911899669981 with parameters: {'weight0': 10.526069853115398, 'weight1': 49.09599767609882, 'alpha': -0.49021277585686607}.\n"
     ]
    },
    {
     "name": "stdout",
     "output_type": "stream",
     "text": [
      "result/blog-dim=128,projection_method=sparse,input_matrix=trans,normalization=True,weights=1.0,1.0,16.92320262114593,8.423677486366158,alpha=-0.5606589076474529,C=0.1.mat\n",
      "Train percent: 0.1\n",
      "Results, using embeddings of dimensionality 128\n",
      "-------------------\n",
      "Train percent: 0.1\n",
      "Average score: {'micro': 0.32406281243016494, 'macro': 0.18308394448114326}\n",
      "-------------------\n"
     ]
    },
    {
     "name": "stderr",
     "output_type": "stream",
     "text": [
      "[I 2019-05-11 23:10:56,918] Finished trial#87 resulted in value: -0.32406281243016494. Current best value is -0.3562911899669981 with parameters: {'weight0': 10.526069853115398, 'weight1': 49.09599767609882, 'alpha': -0.49021277585686607}.\n"
     ]
    },
    {
     "name": "stdout",
     "output_type": "stream",
     "text": [
      "result/blog-dim=128,projection_method=sparse,input_matrix=trans,normalization=True,weights=1.0,1.0,5.151468613518603,47.62654091948632,alpha=-0.4738015096637192,C=0.1.mat\n",
      "Train percent: 0.1\n",
      "Results, using embeddings of dimensionality 128\n",
      "-------------------\n",
      "Train percent: 0.1\n",
      "Average score: {'micro': 0.3465290241422793, 'macro': 0.18710945055602002}\n",
      "-------------------\n"
     ]
    },
    {
     "name": "stderr",
     "output_type": "stream",
     "text": [
      "[I 2019-05-11 23:11:00,805] Finished trial#88 resulted in value: -0.3465290241422793. Current best value is -0.3562911899669981 with parameters: {'weight0': 10.526069853115398, 'weight1': 49.09599767609882, 'alpha': -0.49021277585686607}.\n"
     ]
    },
    {
     "name": "stdout",
     "output_type": "stream",
     "text": [
      "result/blog-dim=128,projection_method=sparse,input_matrix=trans,normalization=True,weights=1.0,1.0,11.546056014004671,1.1630941824904022,alpha=-0.7721158668340665,C=0.1.mat\n",
      "Train percent: 0.1\n",
      "Results, using embeddings of dimensionality 128\n",
      "-------------------\n",
      "Train percent: 0.1\n",
      "Average score: {'micro': 0.305631957859036, 'macro': 0.1770122391791377}\n",
      "-------------------\n"
     ]
    },
    {
     "name": "stderr",
     "output_type": "stream",
     "text": [
      "[I 2019-05-11 23:11:04,277] Finished trial#89 resulted in value: -0.305631957859036. Current best value is -0.3562911899669981 with parameters: {'weight0': 10.526069853115398, 'weight1': 49.09599767609882, 'alpha': -0.49021277585686607}.\n"
     ]
    },
    {
     "name": "stdout",
     "output_type": "stream",
     "text": [
      "result/blog-dim=128,projection_method=sparse,input_matrix=trans,normalization=True,weights=1.0,1.0,4.4989226616747775,17.191760889346156,alpha=-0.8411596293403175,C=0.1.mat\n",
      "Train percent: 0.1\n",
      "Results, using embeddings of dimensionality 128\n",
      "-------------------\n",
      "Train percent: 0.1\n",
      "Average score: {'micro': 0.34636511712953394, 'macro': 0.20129909321583048}\n",
      "-------------------\n"
     ]
    },
    {
     "name": "stderr",
     "output_type": "stream",
     "text": [
      "[I 2019-05-11 23:11:07,997] Finished trial#90 resulted in value: -0.34636511712953394. Current best value is -0.3562911899669981 with parameters: {'weight0': 10.526069853115398, 'weight1': 49.09599767609882, 'alpha': -0.49021277585686607}.\n"
     ]
    },
    {
     "name": "stdout",
     "output_type": "stream",
     "text": [
      "result/blog-dim=128,projection_method=sparse,input_matrix=trans,normalization=True,weights=1.0,1.0,2.064229569149726,37.41868374920809,alpha=-0.6918021329806632,C=0.1.mat\n",
      "Train percent: 0.1\n",
      "Results, using embeddings of dimensionality 128\n",
      "-------------------\n",
      "Train percent: 0.1\n",
      "Average score: {'micro': 0.34443591747416696, 'macro': 0.1875417218860451}\n",
      "-------------------\n"
     ]
    },
    {
     "name": "stderr",
     "output_type": "stream",
     "text": [
      "[I 2019-05-11 23:11:11,875] Finished trial#91 resulted in value: -0.34443591747416696. Current best value is -0.3562911899669981 with parameters: {'weight0': 10.526069853115398, 'weight1': 49.09599767609882, 'alpha': -0.49021277585686607}.\n"
     ]
    },
    {
     "name": "stdout",
     "output_type": "stream",
     "text": [
      "result/blog-dim=128,projection_method=sparse,input_matrix=trans,normalization=True,weights=1.0,1.0,32.56422746967883,20.36676620501129,alpha=-0.2938914670563937,C=0.1.mat\n",
      "Train percent: 0.1\n",
      "Results, using embeddings of dimensionality 128\n",
      "-------------------\n",
      "Train percent: 0.1\n",
      "Average score: {'micro': 0.33119599373830494, 'macro': 0.1824811465248071}\n",
      "-------------------\n"
     ]
    },
    {
     "name": "stderr",
     "output_type": "stream",
     "text": [
      "[I 2019-05-11 23:11:15,608] Finished trial#92 resulted in value: -0.33119599373830494. Current best value is -0.3562911899669981 with parameters: {'weight0': 10.526069853115398, 'weight1': 49.09599767609882, 'alpha': -0.49021277585686607}.\n"
     ]
    },
    {
     "name": "stdout",
     "output_type": "stream",
     "text": [
      "result/blog-dim=128,projection_method=sparse,input_matrix=trans,normalization=True,weights=1.0,1.0,13.727583796804016,7.033445258720351,alpha=-0.6129968322089644,C=0.1.mat\n",
      "Train percent: 0.1\n",
      "Results, using embeddings of dimensionality 128\n",
      "-------------------\n",
      "Train percent: 0.1\n",
      "Average score: {'micro': 0.32403418529976696, 'macro': 0.18501112042622717}\n",
      "-------------------\n"
     ]
    },
    {
     "name": "stderr",
     "output_type": "stream",
     "text": [
      "[I 2019-05-11 23:11:19,186] Finished trial#93 resulted in value: -0.32403418529976696. Current best value is -0.3562911899669981 with parameters: {'weight0': 10.526069853115398, 'weight1': 49.09599767609882, 'alpha': -0.49021277585686607}.\n"
     ]
    },
    {
     "name": "stdout",
     "output_type": "stream",
     "text": [
      "result/blog-dim=128,projection_method=sparse,input_matrix=trans,normalization=True,weights=1.0,1.0,3.2462451505166103,3.4146863230746773,alpha=-0.014546924360887337,C=0.1.mat\n",
      "Train percent: 0.1\n",
      "Results, using embeddings of dimensionality 128\n",
      "-------------------\n",
      "Train percent: 0.1\n",
      "Average score: {'micro': 0.3062920529534963, 'macro': 0.17291280521916016}\n",
      "-------------------\n"
     ]
    },
    {
     "name": "stderr",
     "output_type": "stream",
     "text": [
      "[I 2019-05-11 23:11:22,849] Finished trial#94 resulted in value: -0.3062920529534963. Current best value is -0.3562911899669981 with parameters: {'weight0': 10.526069853115398, 'weight1': 49.09599767609882, 'alpha': -0.49021277585686607}.\n"
     ]
    },
    {
     "name": "stdout",
     "output_type": "stream",
     "text": [
      "result/blog-dim=128,projection_method=sparse,input_matrix=trans,normalization=True,weights=1.0,1.0,21.01693880452183,32.474061594815225,alpha=-0.4239457724134105,C=0.1.mat\n",
      "Train percent: 0.1\n",
      "Results, using embeddings of dimensionality 128\n",
      "-------------------\n",
      "Train percent: 0.1\n",
      "Average score: {'micro': 0.34820847763165225, 'macro': 0.19692801850828476}\n",
      "-------------------\n"
     ]
    },
    {
     "name": "stderr",
     "output_type": "stream",
     "text": [
      "[I 2019-05-11 23:11:26,606] Finished trial#95 resulted in value: -0.34820847763165225. Current best value is -0.3562911899669981 with parameters: {'weight0': 10.526069853115398, 'weight1': 49.09599767609882, 'alpha': -0.49021277585686607}.\n"
     ]
    },
    {
     "name": "stdout",
     "output_type": "stream",
     "text": [
      "result/blog-dim=128,projection_method=sparse,input_matrix=trans,normalization=True,weights=1.0,1.0,9.517199486821111,2.6245406924045565,alpha=-0.341210791412316,C=0.1.mat\n",
      "Train percent: 0.1\n",
      "Results, using embeddings of dimensionality 128\n",
      "-------------------\n",
      "Train percent: 0.1\n",
      "Average score: {'micro': 0.31686684544596755, 'macro': 0.17882719976175318}\n",
      "-------------------\n"
     ]
    },
    {
     "name": "stderr",
     "output_type": "stream",
     "text": [
      "[I 2019-05-11 23:11:30,333] Finished trial#96 resulted in value: -0.31686684544596755. Current best value is -0.3562911899669981 with parameters: {'weight0': 10.526069853115398, 'weight1': 49.09599767609882, 'alpha': -0.49021277585686607}.\n"
     ]
    },
    {
     "name": "stdout",
     "output_type": "stream",
     "text": [
      "result/blog-dim=128,projection_method=sparse,input_matrix=trans,normalization=True,weights=1.0,1.0,1.3278649518746417,55.82348479544532,alpha=-0.1180795967501852,C=0.1.mat\n",
      "Train percent: 0.1\n",
      "Results, using embeddings of dimensionality 128\n",
      "-------------------\n",
      "Train percent: 0.1\n",
      "Average score: {'micro': 0.34613010124745586, 'macro': 0.1858289992918175}\n",
      "-------------------\n"
     ]
    },
    {
     "name": "stderr",
     "output_type": "stream",
     "text": [
      "[I 2019-05-11 23:11:34,516] Finished trial#97 resulted in value: -0.34613010124745586. Current best value is -0.3562911899669981 with parameters: {'weight0': 10.526069853115398, 'weight1': 49.09599767609882, 'alpha': -0.49021277585686607}.\n"
     ]
    },
    {
     "name": "stdout",
     "output_type": "stream",
     "text": [
      "result/blog-dim=128,projection_method=sparse,input_matrix=trans,normalization=True,weights=1.0,1.0,2.962390098895208,6.367701902305353,alpha=0.023713763751619044,C=0.1.mat\n",
      "Train percent: 0.1\n",
      "Results, using embeddings of dimensionality 128\n",
      "-------------------\n",
      "Train percent: 0.1\n",
      "Average score: {'micro': 0.317410273551798, 'macro': 0.17596382766109978}\n",
      "-------------------\n"
     ]
    },
    {
     "name": "stderr",
     "output_type": "stream",
     "text": [
      "[I 2019-05-11 23:11:38,073] Finished trial#98 resulted in value: -0.317410273551798. Current best value is -0.3562911899669981 with parameters: {'weight0': 10.526069853115398, 'weight1': 49.09599767609882, 'alpha': -0.49021277585686607}.\n"
     ]
    },
    {
     "name": "stdout",
     "output_type": "stream",
     "text": [
      "result/blog-dim=128,projection_method=sparse,input_matrix=trans,normalization=True,weights=1.0,1.0,4.878324056273331,42.532329808688615,alpha=-0.9037048893815868,C=0.1.mat\n",
      "Train percent: 0.1\n",
      "Results, using embeddings of dimensionality 128\n",
      "-------------------\n",
      "Train percent: 0.1\n",
      "Average score: {'micro': 0.34690882425999875, 'macro': 0.1958562742730551}\n",
      "-------------------\n"
     ]
    },
    {
     "name": "stderr",
     "output_type": "stream",
     "text": [
      "[I 2019-05-11 23:11:41,816] Finished trial#99 resulted in value: -0.34690882425999875. Current best value is -0.3562911899669981 with parameters: {'weight0': 10.526069853115398, 'weight1': 49.09599767609882, 'alpha': -0.49021277585686607}.\n"
     ]
    },
    {
     "name": "stdout",
     "output_type": "stream",
     "text": [
      "CPU times: user 51min 26s, sys: 16.4 s, total: 51min 42s\n",
      "Wall time: 6min 21s\n"
     ]
    }
   ],
   "source": [
    "%%time\n",
    "order_range = 2\n",
    "def objective(trial):\n",
    "\n",
    "    # Invoke suggest methods of a Trial object to generate hyperparameters.\n",
    "    weights = [trial.suggest_loguniform('weight' + str(order), 1.0, 64.0) for order in range(order_range)]\n",
    "    alpha = trial.suggest_uniform('alpha', -1.0, 1.0)\n",
    "    conf = {\n",
    "        'projection_method': 'sparse',\n",
    "        'input_matrix': 'trans',\n",
    "        'weights': [1.0, 1.0] + weights,\n",
    "        'normalization': True,\n",
    "        'dim': 128,\n",
    "        'alpha': alpha,\n",
    "        'C': 0.1\n",
    "    }\n",
    "    emb_filename = get_emb_filename(prefix, conf)\n",
    "    print (emb_filename)\n",
    "    # first check if this file already exists\n",
    "    path = Path(emb_filename)\n",
    "    if not path.is_file():\n",
    "        U = fastrp_wrapper(A, conf)\n",
    "        savemat(emb_filename, {'emb': U})\n",
    "    else:\n",
    "        print ('File %s already exists, skipped.' % emb_filename)\n",
    "    f1_scores = scoring(\n",
    "        [\n",
    "            \"--emb\", emb_filename,\n",
    "            \"--network\",\"example_graphs/blogcatalog.mat\",\n",
    "            \"--num-shuffles\", \"3\",\n",
    "            \"--debug\",\n",
    "            \"--C\", str(conf['C']),\n",
    "            \"--training-percents\", \"10\",\n",
    "        ]\n",
    "    )\n",
    "    # there should only be one entry here\n",
    "    return -f1_scores[0]['micro']\n",
    "\n",
    "study = optuna.create_study()  # Create a new study.\n",
    "study.optimize(objective, n_trials=100)  # Invoke optimization of the objective function."
   ]
  },
  {
   "cell_type": "code",
   "execution_count": 64,
   "metadata": {},
   "outputs": [
    {
     "data": {
      "text/plain": [
       "{'weight0': 7.807609016526462,\n",
       " 'weight1': 45.28230103655809,\n",
       " 'alpha': -0.6280357321115495}"
      ]
     },
     "execution_count": 64,
     "metadata": {},
     "output_type": "execute_result"
    }
   ],
   "source": [
    "study.best_params"
   ]
  },
  {
   "cell_type": "code",
   "execution_count": 65,
   "metadata": {
    "scrolled": true
   },
   "outputs": [
    {
     "data": {
      "text/plain": [
       "-0.3572280985847538"
      ]
     },
     "execution_count": 65,
     "metadata": {},
     "output_type": "execute_result"
    }
   ],
   "source": [
    "study.best_value"
   ]
  },
  {
   "cell_type": "code",
   "execution_count": 37,
   "metadata": {},
   "outputs": [
    {
     "name": "stdout",
     "output_type": "stream",
     "text": [
      "result/blog-dim=512,projection_method=sparse,input_matrix=trans,normalization=True,weights=0.0,0.0,7.81,45.28,beta=,C=0.1.mat\n",
      "File result/blog-dim=512,projection_method=sparse,input_matrix=trans,normalization=True,weights=0.0,0.0,7.81,45.28,beta=,C=0.1.mat already exists, skipped.\n",
      "Train percent: 0.1\n",
      "Results, using embeddings of dimensionality 512\n",
      "-------------------\n",
      "Train percent: 0.1\n",
      "Average score: {'micro': 0.3757665796564458, 'macro': 0.23151573878816514}\n",
      "-------------------\n",
      "CPU times: user 1min 31s, sys: 218 ms, total: 1min 32s\n",
      "Wall time: 34.6 s\n"
     ]
    }
   ],
   "source": [
    "%%time\n",
    "\n",
    "conf = {\n",
    "        'projection_method': 'sparse',\n",
    "        'input_matrix': 'trans',\n",
    "        'weights': [0.0, 0.0, 7.81, 45.28],\n",
    "        'normalization': True,\n",
    "        'dim': 512,\n",
    "        'alpha': -0.628,\n",
    "        'C': 0.1\n",
    "    }\n",
    "emb_filename = get_emb_filename(prefix, conf)\n",
    "print (emb_filename)\n",
    "# first check if this file already exists\n",
    "path = Path(emb_filename)\n",
    "if not path.is_file():\n",
    "    U = randne_wrapper(blog_A, conf)\n",
    "    savemat(emb_filename, {'emb': U})\n",
    "else:\n",
    "    print ('File %s already exists, skipped.' % emb_filename)\n",
    "f1_scores, result = scoring(\n",
    "    [\n",
    "        \"--emb\", emb_filename,\n",
    "        \"--network\",\"example_graphs/blogcatalog.mat\",\n",
    "        \"--num-shuffles\", \"5\",\n",
    "        \"--debug\",\n",
    "        \"--result\",\n",
    "        \"--C\", str(conf['C']),\n",
    "        \"--training-percents\",\n",
    "    ] + [str(p) for p in range(10, 20, 10)],\n",
    ")\n",
    "f1_scores"
   ]
  },
  {
   "cell_type": "code",
   "execution_count": 47,
   "metadata": {},
   "outputs": [],
   "source": [
    "labels_count = blog_labels.shape[1]\n",
    "mlb = MultiLabelBinarizer(range(labels_count))"
   ]
  },
  {
   "cell_type": "code",
   "execution_count": 49,
   "metadata": {},
   "outputs": [
    {
     "data": {
      "text/plain": [
       "0.228355566826923"
      ]
     },
     "execution_count": 49,
     "metadata": {},
     "output_type": "execute_result"
    }
   ],
   "source": [
    "x = f1_score(mlb.fit_transform(y_test), mlb.fit_transform(preds), average='macro')\n",
    "x"
   ]
  },
  {
   "cell_type": "code",
   "execution_count": 38,
   "metadata": {},
   "outputs": [],
   "source": [
    "(y_test, preds, indices_test) = result"
   ]
  },
  {
   "cell_type": "code",
   "execution_count": 43,
   "metadata": {},
   "outputs": [
    {
     "data": {
      "text/plain": [
       "[[4], [1], [1], [10]]"
      ]
     },
     "execution_count": 43,
     "metadata": {},
     "output_type": "execute_result"
    }
   ],
   "source": [
    "y_test[:4]"
   ]
  },
  {
   "cell_type": "code",
   "execution_count": 44,
   "metadata": {},
   "outputs": [
    {
     "data": {
      "text/plain": [
       "[[4], [5], [1], [10]]"
      ]
     },
     "execution_count": 44,
     "metadata": {},
     "output_type": "execute_result"
    }
   ],
   "source": [
    "preds[:4]"
   ]
  },
  {
   "cell_type": "code",
   "execution_count": 70,
   "metadata": {
    "collapsed": true
   },
   "outputs": [
    {
     "name": "stdout",
     "output_type": "stream",
     "text": [
      "result/blog-dim=512,projection_method=sparse,input_matrix=trans,normalization=True,weights=1.0,1.0,7.81,45.28,alpha=-0.628,C=0.1.mat\n",
      "File result/blog-dim=512,projection_method=sparse,input_matrix=trans,normalization=True,weights=1.0,1.0,7.81,45.28,alpha=-0.628,C=0.1.mat already exists, skipped.\n",
      "Train percent: 0.1\n",
      "Train percent: 0.2\n",
      "Train percent: 0.3\n",
      "Train percent: 0.4\n",
      "Train percent: 0.5\n",
      "Train percent: 0.6\n",
      "Train percent: 0.7000000000000001\n",
      "Train percent: 0.8\n",
      "Train percent: 0.9\n",
      "Results, using embeddings of dimensionality 512\n",
      "-------------------\n",
      "Train percent: 0.1\n",
      "Average score: {'micro': 0.3710668138287513, 'macro': 0.2315109317900343}\n",
      "-------------------\n",
      "Train percent: 0.2\n",
      "Average score: {'micro': 0.385981757405288, 'macro': 0.24859995274320168}\n",
      "-------------------\n",
      "Train percent: 0.3\n",
      "Average score: {'micro': 0.3923432215400081, 'macro': 0.2596759611974167}\n",
      "-------------------\n",
      "Train percent: 0.4\n",
      "Average score: {'micro': 0.3995747775381412, 'macro': 0.26698977271665997}\n",
      "-------------------\n",
      "Train percent: 0.5\n",
      "Average score: {'micro': 0.4079051133850135, 'macro': 0.27971330753049795}\n",
      "-------------------\n",
      "Train percent: 0.6\n",
      "Average score: {'micro': 0.40927295184688967, 'macro': 0.2798933242144902}\n",
      "-------------------\n",
      "Train percent: 0.7000000000000001\n",
      "Average score: {'micro': 0.41637207623641415, 'macro': 0.29101502826342207}\n",
      "-------------------\n",
      "Train percent: 0.8\n",
      "Average score: {'micro': 0.4180788484841808, 'macro': 0.29455504586220865}\n",
      "-------------------\n",
      "Train percent: 0.9\n",
      "Average score: {'micro': 0.42506607637725874, 'macro': 0.2964951334240474}\n",
      "-------------------\n",
      "CPU times: user 38min 20s, sys: 4.52 s, total: 38min 24s\n",
      "Wall time: 32min 59s\n"
     ]
    }
   ],
   "source": [
    "%%time\n",
    "\n",
    "conf = {\n",
    "        'projection_method': 'sparse',\n",
    "        'input_matrix': 'trans',\n",
    "        'weights': [1.0, 1.0, 7.81, 45.28],\n",
    "        'normalization': True,\n",
    "        'dim': 512,\n",
    "        'alpha': -0.628,\n",
    "        'C': 0.1\n",
    "    }\n",
    "emb_filename = get_emb_filename(prefix, conf)\n",
    "print (emb_filename)\n",
    "# first check if this file already exists\n",
    "path = Path(emb_filename)\n",
    "if not path.is_file():\n",
    "    U = randne_wrapper(blog_A, conf)\n",
    "    savemat(emb_filename, {'emb': U})\n",
    "else:\n",
    "    print ('File %s already exists, skipped.' % emb_filename)\n",
    "f1_scores = scoring(\n",
    "    [\n",
    "        \"--emb\", emb_filename,\n",
    "        \"--network\",\"example_graphs/blogcatalog.mat\",\n",
    "        \"--num-shuffles\", \"5\",\n",
    "        \"--debug\",\n",
    "        \"--C\", str(conf['C']),\n",
    "        \"--training-percents\",\n",
    "    ] + [str(p) for p in range(10, 100, 10)],\n",
    ")\n",
    "f1_scores"
   ]
  },
  {
   "cell_type": "markdown",
   "metadata": {},
   "source": [
    "# DeepWalk"
   ]
  },
  {
   "cell_type": "markdown",
   "metadata": {},
   "source": [
    "Run the following command in shell:"
   ]
  },
  {
   "cell_type": "code",
   "execution_count": null,
   "metadata": {},
   "outputs": [],
   "source": [
    "nohup time deepwalk --format mat --input example_graphs/blogcatalog.mat \\\n",
    "--max-memory-data-size 0 --number-walks 80 --representation-size 128 --walk-length 40 --window-size 10 \\\n",
    "--workers 28 --output example_graphs/blogcatalog.emb &"
   ]
  },
  {
   "cell_type": "markdown",
   "metadata": {},
   "source": [
    "Load DeepWalk embeddings:"
   ]
  },
  {
   "cell_type": "code",
   "execution_count": 69,
   "metadata": {},
   "outputs": [],
   "source": [
    "dw_emb_fname = '/home/hcchen/deepwalk/example_graphs/blogcatalog.emb'"
   ]
  },
  {
   "cell_type": "code",
   "execution_count": 73,
   "metadata": {},
   "outputs": [],
   "source": [
    "model = KeyedVectors.load_word2vec_format(dw_emb_fname, binary=False)"
   ]
  },
  {
   "cell_type": "code",
   "execution_count": 74,
   "metadata": {},
   "outputs": [
    {
     "name": "stdout",
     "output_type": "stream",
     "text": [
      "CPU times: user 24.4 ms, sys: 4.03 ms, total: 28.4 ms\n",
      "Wall time: 27.9 ms\n"
     ]
    }
   ],
   "source": [
    "N = len(model.vocab)\n",
    "%time dw_emb = np.asarray([model[str(node)] for node in range(N)])"
   ]
  },
  {
   "cell_type": "code",
   "execution_count": 75,
   "metadata": {},
   "outputs": [
    {
     "data": {
      "text/plain": [
       "(10312, 128)"
      ]
     },
     "execution_count": 75,
     "metadata": {},
     "output_type": "execute_result"
    }
   ],
   "source": [
    "dw_emb.shape"
   ]
  },
  {
   "cell_type": "markdown",
   "metadata": {},
   "source": [
    "# RandNE"
   ]
  },
  {
   "cell_type": "code",
   "execution_count": null,
   "metadata": {},
   "outputs": [],
   "source": [
    "cd ~/RandNE-Python/ && \n",
    "time python3 src/randne.py --input /home/hcchen/fast-random-projection/example_graphs/blogcatalog.mat \\\n",
    "--output /home/hcchen/fast-random-projection/result/blog-randne-emb.mat \\\n",
    "--use-trans-matrix -q 3 -d 512 --weights 1 100 1000"
   ]
  },
  {
   "cell_type": "code",
   "execution_count": 9,
   "metadata": {
    "collapsed": true
   },
   "outputs": [
    {
     "name": "stdout",
     "output_type": "stream",
     "text": [
      "Shape:  (10312, 512)\n",
      "Train percent: 0.1\n",
      "Train percent: 0.2\n",
      "Train percent: 0.3\n",
      "Train percent: 0.4\n",
      "Train percent: 0.5\n",
      "Train percent: 0.6\n",
      "Train percent: 0.7000000000000001\n",
      "Train percent: 0.8\n",
      "Train percent: 0.9\n",
      "Results, using embeddings of dimensionality 512\n",
      "-------------------\n",
      "Train percent: 0.1\n",
      "Average score: {'micro': 0.3385352110064831, 'macro': 0.20876822244386956}\n",
      "-------------------\n",
      "Train percent: 0.2\n",
      "Average score: {'micro': 0.35823398182675614, 'macro': 0.23121345760670642}\n",
      "-------------------\n",
      "Train percent: 0.3\n",
      "Average score: {'micro': 0.3716429726123654, 'macro': 0.24612310059441364}\n",
      "-------------------\n",
      "Train percent: 0.4\n",
      "Average score: {'micro': 0.38175652894989, 'macro': 0.2540813403943384}\n",
      "-------------------\n",
      "Train percent: 0.5\n",
      "Average score: {'micro': 0.38617265642373544, 'macro': 0.25883527270272333}\n",
      "-------------------\n",
      "Train percent: 0.6\n",
      "Average score: {'micro': 0.39452065914503787, 'macro': 0.2689658934746254}\n",
      "-------------------\n",
      "Train percent: 0.7000000000000001\n",
      "Average score: {'micro': 0.4002016678995253, 'macro': 0.2721048131721807}\n",
      "-------------------\n",
      "Train percent: 0.8\n",
      "Average score: {'micro': 0.4037946224157122, 'macro': 0.27591738737486}\n",
      "-------------------\n",
      "Train percent: 0.9\n",
      "Average score: {'micro': 0.4064141589986926, 'macro': 0.2720388786727925}\n",
      "-------------------\n"
     ]
    },
    {
     "data": {
      "text/plain": [
       "[defaultdict(float,\n",
       "             {'micro': 0.3385352110064831,\n",
       "              'macro': 0.20876822244386956,\n",
       "              'training': 0.1}),\n",
       " defaultdict(float,\n",
       "             {'micro': 0.35823398182675614,\n",
       "              'macro': 0.23121345760670642,\n",
       "              'training': 0.2}),\n",
       " defaultdict(float,\n",
       "             {'micro': 0.3716429726123654,\n",
       "              'macro': 0.24612310059441364,\n",
       "              'training': 0.3}),\n",
       " defaultdict(float,\n",
       "             {'micro': 0.38175652894989,\n",
       "              'macro': 0.2540813403943384,\n",
       "              'training': 0.4}),\n",
       " defaultdict(float,\n",
       "             {'micro': 0.38617265642373544,\n",
       "              'macro': 0.25883527270272333,\n",
       "              'training': 0.5}),\n",
       " defaultdict(float,\n",
       "             {'micro': 0.39452065914503787,\n",
       "              'macro': 0.2689658934746254,\n",
       "              'training': 0.6}),\n",
       " defaultdict(float,\n",
       "             {'micro': 0.4002016678995253,\n",
       "              'macro': 0.2721048131721807,\n",
       "              'training': 0.7000000000000001}),\n",
       " defaultdict(float,\n",
       "             {'micro': 0.4037946224157122,\n",
       "              'macro': 0.27591738737486,\n",
       "              'training': 0.8}),\n",
       " defaultdict(float,\n",
       "             {'micro': 0.4064141589986926,\n",
       "              'macro': 0.2720388786727925,\n",
       "              'training': 0.9})]"
      ]
     },
     "execution_count": 9,
     "metadata": {},
     "output_type": "execute_result"
    }
   ],
   "source": [
    "randne_f1_scores = scoring(\n",
    "    [\n",
    "        \"--emb\", \"result/blog-randne-emb.mat\",\n",
    "        \"--network\",\"example_graphs/blogcatalog.mat\",\n",
    "        \"--num-shuffles\", \"5\",\n",
    "        \"--debug\",\n",
    "        \"--C\", \"1.0\",\n",
    "        \"--training-percents\",\n",
    "    ] + [str(p) for p in range(10, 100, 10)],\n",
    ")\n",
    "randne_f1_scores"
   ]
  },
  {
   "cell_type": "markdown",
   "metadata": {},
   "source": [
    "# Embedding Space Properties"
   ]
  },
  {
   "cell_type": "code",
   "execution_count": 50,
   "metadata": {},
   "outputs": [],
   "source": [
    "from sklearn.metrics.pairwise import euclidean_distances"
   ]
  },
  {
   "cell_type": "markdown",
   "metadata": {},
   "source": [
    "We can take a specific node (maybe chosen based on its degree) and plot the distribution of the L2 distance between its embeddings and all other nodes. Can we see a difference here? Is it different from Flickr or Blogcatalog?"
   ]
  },
  {
   "cell_type": "markdown",
   "metadata": {},
   "source": [
    "First take a high degree node:"
   ]
  },
  {
   "cell_type": "code",
   "execution_count": 67,
   "metadata": {},
   "outputs": [],
   "source": [
    "ind = 14"
   ]
  },
  {
   "cell_type": "code",
   "execution_count": 68,
   "metadata": {},
   "outputs": [
    {
     "data": {
      "text/plain": [
       "<1x10312 sparse matrix of type '<class 'numpy.float64'>'\n",
       "\twith 216 stored elements in Compressed Sparse Column format>"
      ]
     },
     "execution_count": 68,
     "metadata": {},
     "output_type": "execute_result"
    }
   ],
   "source": [
    "A[ind]"
   ]
  },
  {
   "cell_type": "markdown",
   "metadata": {},
   "source": [
    "Compute its L2 distance to all the other nodes in the embedding space for DeepWalk and random projection:"
   ]
  },
  {
   "cell_type": "code",
   "execution_count": 107,
   "metadata": {},
   "outputs": [],
   "source": [
    "dw_l2_distance_high = euclidean_distances([dw_emb[ind]], dw_emb)"
   ]
  },
  {
   "cell_type": "code",
   "execution_count": 108,
   "metadata": {},
   "outputs": [],
   "source": [
    "rp_l2_distance_high = euclidean_distances([U[ind]], U)"
   ]
  },
  {
   "cell_type": "code",
   "execution_count": 109,
   "metadata": {},
   "outputs": [
    {
     "name": "stderr",
     "output_type": "stream",
     "text": [
      "/home/hcchen/anaconda3/lib/python3.7/site-packages/scipy/stats/stats.py:1713: FutureWarning: Using a non-tuple sequence for multidimensional indexing is deprecated; use `arr[tuple(seq)]` instead of `arr[seq]`. In the future this will be interpreted as an array index, `arr[np.array(seq)]`, which will result either in an error or a different result.\n",
      "  return np.add.reduce(sorted[indexer] * weights, axis=axis) / sumval\n"
     ]
    },
    {
     "data": {
      "text/plain": [
       "<matplotlib.axes._subplots.AxesSubplot at 0x7f7326888390>"
      ]
     },
     "execution_count": 109,
     "metadata": {},
     "output_type": "execute_result"
    },
    {
     "data": {
      "image/png": "[encoded data removed]",
      "text/plain": [
       "<Figure size 432x288 with 1 Axes>"
      ]
     },
     "metadata": {
      "needs_background": "light"
     },
     "output_type": "display_data"
    }
   ],
   "source": [
    "sns.distplot(dw_l2_distance_high)\n",
    "sns.distplot(rp_l2_distance_high)"
   ]
  },
  {
   "cell_type": "code",
   "execution_count": 110,
   "metadata": {},
   "outputs": [
    {
     "name": "stderr",
     "output_type": "stream",
     "text": [
      "/home/hcchen/anaconda3/lib/python3.7/site-packages/scipy/stats/stats.py:1713: FutureWarning: Using a non-tuple sequence for multidimensional indexing is deprecated; use `arr[tuple(seq)]` instead of `arr[seq]`. In the future this will be interpreted as an array index, `arr[np.array(seq)]`, which will result either in an error or a different result.\n",
      "  return np.add.reduce(sorted[indexer] * weights, axis=axis) / sumval\n"
     ]
    },
    {
     "data": {
      "text/plain": [
       "<matplotlib.axes._subplots.AxesSubplot at 0x7f73266b7978>"
      ]
     },
     "execution_count": 110,
     "metadata": {},
     "output_type": "execute_result"
    },
    {
     "data": {
      "image/png": "[encoded data removed]",
      "text/plain": [
       "<Figure size 432x288 with 1 Axes>"
      ]
     },
     "metadata": {
      "needs_background": "light"
     },
     "output_type": "display_data"
    }
   ],
   "source": [
    "sns.distplot(dw_l2_distance_high)"
   ]
  },
  {
   "cell_type": "code",
   "execution_count": 111,
   "metadata": {},
   "outputs": [
    {
     "name": "stderr",
     "output_type": "stream",
     "text": [
      "/home/hcchen/anaconda3/lib/python3.7/site-packages/scipy/stats/stats.py:1713: FutureWarning: Using a non-tuple sequence for multidimensional indexing is deprecated; use `arr[tuple(seq)]` instead of `arr[seq]`. In the future this will be interpreted as an array index, `arr[np.array(seq)]`, which will result either in an error or a different result.\n",
      "  return np.add.reduce(sorted[indexer] * weights, axis=axis) / sumval\n"
     ]
    },
    {
     "data": {
      "text/plain": [
       "<matplotlib.axes._subplots.AxesSubplot at 0x7f73265eca90>"
      ]
     },
     "execution_count": 111,
     "metadata": {},
     "output_type": "execute_result"
    },
    {
     "data": {
      "image/png": "[encoded data removed]",
      "text/plain": [
       "<Figure size 432x288 with 1 Axes>"
      ]
     },
     "metadata": {
      "needs_background": "light"
     },
     "output_type": "display_data"
    }
   ],
   "source": [
    "sns.distplot(rp_l2_distance_high)"
   ]
  },
  {
   "cell_type": "markdown",
   "metadata": {},
   "source": [
    "Then take a mid-degree node:"
   ]
  },
  {
   "cell_type": "code",
   "execution_count": 83,
   "metadata": {},
   "outputs": [],
   "source": [
    "ind = 20"
   ]
  },
  {
   "cell_type": "code",
   "execution_count": 84,
   "metadata": {},
   "outputs": [
    {
     "data": {
      "text/plain": [
       "<1x10312 sparse matrix of type '<class 'numpy.float64'>'\n",
       "\twith 10 stored elements in Compressed Sparse Column format>"
      ]
     },
     "execution_count": 84,
     "metadata": {},
     "output_type": "execute_result"
    }
   ],
   "source": [
    "A[ind]"
   ]
  },
  {
   "cell_type": "markdown",
   "metadata": {},
   "source": [
    "Compute its L2 distance to all the other nodes in the embedding space:"
   ]
  },
  {
   "cell_type": "code",
   "execution_count": 104,
   "metadata": {},
   "outputs": [],
   "source": [
    "dw_dist_mid = euclidean_distances([dw_emb[ind]], dw_emb)"
   ]
  },
  {
   "cell_type": "code",
   "execution_count": 105,
   "metadata": {},
   "outputs": [],
   "source": [
    "rp_dist_mid = euclidean_distances([U[ind]], U)"
   ]
  },
  {
   "cell_type": "code",
   "execution_count": 106,
   "metadata": {},
   "outputs": [
    {
     "name": "stderr",
     "output_type": "stream",
     "text": [
      "/home/hcchen/anaconda3/lib/python3.7/site-packages/scipy/stats/stats.py:1713: FutureWarning: Using a non-tuple sequence for multidimensional indexing is deprecated; use `arr[tuple(seq)]` instead of `arr[seq]`. In the future this will be interpreted as an array index, `arr[np.array(seq)]`, which will result either in an error or a different result.\n",
      "  return np.add.reduce(sorted[indexer] * weights, axis=axis) / sumval\n"
     ]
    },
    {
     "data": {
      "text/plain": [
       "<matplotlib.axes._subplots.AxesSubplot at 0x7f7326cdf748>"
      ]
     },
     "execution_count": 106,
     "metadata": {},
     "output_type": "execute_result"
    },
    {
     "data": {
      "image/png": "[encoded data removed]",
      "text/plain": [
       "<Figure size 432x288 with 1 Axes>"
      ]
     },
     "metadata": {
      "needs_background": "light"
     },
     "output_type": "display_data"
    }
   ],
   "source": [
    "sns.distplot(dw_dist_mid)\n",
    "sns.distplot(rp_dist_mid)"
   ]
  },
  {
   "cell_type": "code",
   "execution_count": 99,
   "metadata": {},
   "outputs": [
    {
     "data": {
      "text/plain": [
       "<matplotlib.axes._subplots.AxesSubplot at 0x7f7326e82b38>"
      ]
     },
     "execution_count": 99,
     "metadata": {},
     "output_type": "execute_result"
    },
    {
     "data": {
      "image/png": "[encoded data removed]",
      "text/plain": [
       "<Figure size 432x288 with 1 Axes>"
      ]
     },
     "metadata": {
      "needs_background": "light"
     },
     "output_type": "display_data"
    }
   ],
   "source": [
    "sns.distplot(dw_dist_mid)"
   ]
  },
  {
   "cell_type": "code",
   "execution_count": 100,
   "metadata": {},
   "outputs": [
    {
     "name": "stderr",
     "output_type": "stream",
     "text": [
      "/home/hcchen/anaconda3/lib/python3.7/site-packages/scipy/stats/stats.py:1713: FutureWarning: Using a non-tuple sequence for multidimensional indexing is deprecated; use `arr[tuple(seq)]` instead of `arr[seq]`. In the future this will be interpreted as an array index, `arr[np.array(seq)]`, which will result either in an error or a different result.\n",
      "  return np.add.reduce(sorted[indexer] * weights, axis=axis) / sumval\n"
     ]
    },
    {
     "data": {
      "text/plain": [
       "<matplotlib.axes._subplots.AxesSubplot at 0x7f7326d60f98>"
      ]
     },
     "execution_count": 100,
     "metadata": {},
     "output_type": "execute_result"
    },
    {
     "data": {
      "image/png": "[encoded data removed]",
      "text/plain": [
       "<Figure size 432x288 with 1 Axes>"
      ]
     },
     "metadata": {
      "needs_background": "light"
     },
     "output_type": "display_data"
    }
   ],
   "source": [
    "sns.distplot(rp_dist_mid)"
   ]
  },
  {
   "cell_type": "markdown",
   "metadata": {},
   "source": [
    "Then take a low-degree node:"
   ]
  },
  {
   "cell_type": "code",
   "execution_count": 92,
   "metadata": {},
   "outputs": [],
   "source": [
    "ind = 1236"
   ]
  },
  {
   "cell_type": "code",
   "execution_count": 93,
   "metadata": {
    "scrolled": true
   },
   "outputs": [
    {
     "data": {
      "text/plain": [
       "<1x10312 sparse matrix of type '<class 'numpy.float64'>'\n",
       "\twith 1 stored elements in Compressed Sparse Column format>"
      ]
     },
     "execution_count": 93,
     "metadata": {},
     "output_type": "execute_result"
    }
   ],
   "source": [
    "A[ind]"
   ]
  },
  {
   "cell_type": "markdown",
   "metadata": {},
   "source": [
    "Compute its L2 distance to all the other nodes in the embedding space:"
   ]
  },
  {
   "cell_type": "code",
   "execution_count": 94,
   "metadata": {},
   "outputs": [],
   "source": [
    "dw_dist_low = euclidean_distances([dw_emb[ind]], dw_emb)"
   ]
  },
  {
   "cell_type": "code",
   "execution_count": 95,
   "metadata": {},
   "outputs": [],
   "source": [
    "rp_dist_low = euclidean_distances([U[ind]], U)"
   ]
  },
  {
   "cell_type": "code",
   "execution_count": 96,
   "metadata": {},
   "outputs": [
    {
     "name": "stderr",
     "output_type": "stream",
     "text": [
      "/home/hcchen/anaconda3/lib/python3.7/site-packages/scipy/stats/stats.py:1713: FutureWarning: Using a non-tuple sequence for multidimensional indexing is deprecated; use `arr[tuple(seq)]` instead of `arr[seq]`. In the future this will be interpreted as an array index, `arr[np.array(seq)]`, which will result either in an error or a different result.\n",
      "  return np.add.reduce(sorted[indexer] * weights, axis=axis) / sumval\n"
     ]
    },
    {
     "data": {
      "text/plain": [
       "<matplotlib.axes._subplots.AxesSubplot at 0x7f73270b20b8>"
      ]
     },
     "execution_count": 96,
     "metadata": {},
     "output_type": "execute_result"
    },
    {
     "data": {
      "image/png": "[encoded data removed]",
      "text/plain": [
       "<Figure size 432x288 with 1 Axes>"
      ]
     },
     "metadata": {
      "needs_background": "light"
     },
     "output_type": "display_data"
    }
   ],
   "source": [
    "sns.distplot(dw_dist_low)\n",
    "sns.distplot(rp_dist_low)"
   ]
  },
  {
   "cell_type": "code",
   "execution_count": 97,
   "metadata": {},
   "outputs": [
    {
     "data": {
      "text/plain": [
       "<matplotlib.axes._subplots.AxesSubplot at 0x7f7326fe66a0>"
      ]
     },
     "execution_count": 97,
     "metadata": {},
     "output_type": "execute_result"
    },
    {
     "data": {
      "image/png": "[encoded data removed]",
      "text/plain": [
       "<Figure size 432x288 with 1 Axes>"
      ]
     },
     "metadata": {
      "needs_background": "light"
     },
     "output_type": "display_data"
    }
   ],
   "source": [
    "sns.distplot(dw_dist_low)"
   ]
  },
  {
   "cell_type": "code",
   "execution_count": 98,
   "metadata": {},
   "outputs": [
    {
     "data": {
      "text/plain": [
       "<matplotlib.axes._subplots.AxesSubplot at 0x7f7326f35240>"
      ]
     },
     "execution_count": 98,
     "metadata": {},
     "output_type": "execute_result"
    },
    {
     "data": {
      "image/png": "[encoded data removed]",
      "text/plain": [
       "<Figure size 432x288 with 1 Axes>"
      ]
     },
     "metadata": {
      "needs_background": "light"
     },
     "output_type": "display_data"
    }
   ],
   "source": [
    "sns.distplot(rp_dist_low)"
   ]
  }
 ],
 "metadata": {
  "kernelspec": {
   "display_name": "Python 3",
   "language": "python",
   "name": "python3"
  },
  "language_info": {
   "codemirror_mode": {
    "name": "ipython",
    "version": 3
   },
   "file_extension": ".py",
   "mimetype": "text/x-python",
   "name": "python",
   "nbconvert_exporter": "python",
   "pygments_lexer": "ipython3",
   "version": "3.7.4"
  }
 },
 "nbformat": 4,
 "nbformat_minor": 2
}
