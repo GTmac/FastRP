{
 "cells": [
  {
   "cell_type": "markdown",
   "metadata": {},
   "source": [
    "# Init"
   ]
  },
  {
   "cell_type": "code",
   "execution_count": 1,
   "metadata": {},
   "outputs": [],
   "source": [
    "%matplotlib inline\n",
    "\n",
    "import csv\n",
    "import itertools\n",
    "import math\n",
    "import matplotlib\n",
    "import time\n",
    "import logging\n",
    "import sys\n",
    "import os\n",
    "import random\n",
    "import warnings\n",
    "\n",
    "import gensim\n",
    "from gensim.models import KeyedVectors\n",
    "\n",
    "import pandas as pd\n",
    "import numpy as np\n",
    "import networkx as nx\n",
    "import matplotlib.pyplot as plt\n",
    "import seaborn as sns\n",
    "\n",
    "from pathlib import Path\n",
    "\n",
    "from tqdm import tqdm_notebook as tqdm\n",
    "from collections import Counter, defaultdict\n",
    "\n",
    "from sklearn import random_projection\n",
    "from sklearn.manifold import TSNE\n",
    "from scipy.sparse import coo_matrix, csr_matrix, csc_matrix, spdiags\n",
    "from scipy.io import loadmat, savemat\n",
    "from scipy.spatial.distance import cosine\n",
    "from sklearn.metrics import f1_score\n",
    "from sklearn.metrics.pairwise import cosine_similarity\n",
    "from sklearn.preprocessing import normalize, MultiLabelBinarizer"
   ]
  },
  {
   "cell_type": "code",
   "execution_count": 2,
   "metadata": {},
   "outputs": [],
   "source": [
    "from fastrp_exp import *"
   ]
  },
  {
   "cell_type": "code",
   "execution_count": 3,
   "metadata": {},
   "outputs": [],
   "source": [
    "from sklearn import preprocessing"
   ]
  },
  {
   "cell_type": "code",
   "execution_count": 4,
   "metadata": {},
   "outputs": [],
   "source": [
    "from scoring import scoring"
   ]
  },
  {
   "cell_type": "code",
   "execution_count": 5,
   "metadata": {},
   "outputs": [],
   "source": [
    "# to ignore sklearn warning\n",
    "def warn(*args, **kwargs):\n",
    "    pass\n",
    "import warnings\n",
    "warnings.warn = warn\n",
    "warnings.filterwarnings(\"ignore\", category=RuntimeWarning) "
   ]
  },
  {
   "cell_type": "code",
   "execution_count": 6,
   "metadata": {},
   "outputs": [],
   "source": [
    "%load_ext autoreload\n",
    "%autoreload 2"
   ]
  },
  {
   "cell_type": "markdown",
   "metadata": {},
   "source": [
    "# Load Data"
   ]
  },
  {
   "cell_type": "markdown",
   "metadata": {},
   "source": [
    "## Blogcatalog"
   ]
  },
  {
   "cell_type": "code",
   "execution_count": 21,
   "metadata": {},
   "outputs": [
    {
     "data": {
      "text/plain": [
       "<10312x10312 sparse matrix of type '<class 'numpy.float64'>'\n",
       "\twith 667966 stored elements in Compressed Sparse Column format>"
      ]
     },
     "execution_count": 21,
     "metadata": {},
     "output_type": "execute_result"
    }
   ],
   "source": [
    "blogcatalog = loadmat('example_graphs/blogcatalog.mat')\n",
    "A = blogcatalog['network']\n",
    "N = A.shape[0]\n",
    "A"
   ]
  },
  {
   "cell_type": "code",
   "execution_count": 22,
   "metadata": {},
   "outputs": [],
   "source": [
    "G = nx.from_scipy_sparse_matrix(A)"
   ]
  },
  {
   "cell_type": "code",
   "execution_count": 23,
   "metadata": {},
   "outputs": [],
   "source": [
    "int_nodes = list(map( int, G.nodes()) )"
   ]
  },
  {
   "cell_type": "code",
   "execution_count": 24,
   "metadata": {},
   "outputs": [
    {
     "data": {
      "text/plain": [
       "(0, 10311, 10312)"
      ]
     },
     "execution_count": 24,
     "metadata": {},
     "output_type": "execute_result"
    }
   ],
   "source": [
    "min(int_nodes), max(int_nodes), len(int_nodes)"
   ]
  },
  {
   "cell_type": "code",
   "execution_count": 25,
   "metadata": {},
   "outputs": [
    {
     "data": {
      "text/plain": [
       "(10312, 333983)"
      ]
     },
     "execution_count": 25,
     "metadata": {},
     "output_type": "execute_result"
    }
   ],
   "source": [
    "G.number_of_nodes(), G.number_of_edges()"
   ]
  },
  {
   "cell_type": "markdown",
   "metadata": {},
   "source": [
    "# Sample a Subgraph"
   ]
  },
  {
   "cell_type": "code",
   "execution_count": 26,
   "metadata": {},
   "outputs": [],
   "source": [
    "import networkx as nx\n",
    "from scipy.sparse import find\n",
    "from random import sample\n",
    "from scipy.spatial.distance import pdist, squareform"
   ]
  },
  {
   "cell_type": "code",
   "execution_count": 27,
   "metadata": {},
   "outputs": [],
   "source": [
    "tree = nx.minimum_spanning_tree(G)\n",
    "G_nodes, G_edges, tree_edges = G.nodes(), G.edges(), tree.edges()\n",
    "n_edges_70 = int(0.7*len(G_edges))"
   ]
  },
  {
   "cell_type": "code",
   "execution_count": 28,
   "metadata": {},
   "outputs": [],
   "source": [
    "non_tree_edges = [edge for edge in G_edges if edge not in tree_edges]"
   ]
  },
  {
   "cell_type": "code",
   "execution_count": 29,
   "metadata": {},
   "outputs": [],
   "source": [
    "sampled_edges = sample(non_tree_edges, n_edges_70 - len(tree.edges()))\n",
    "tree.add_edges_from(sampled_edges, weight=1.0)"
   ]
  },
  {
   "cell_type": "code",
   "execution_count": 30,
   "metadata": {},
   "outputs": [],
   "source": [
    "A_70 = nx.to_scipy_sparse_matrix(tree)\n",
    "savemat('example_graphs/blogcatalog-70.mat', {'network': A_70})\n",
    "nx.write_edgelist(tree.to_directed(), open('example_graphs/blogcatalog-70.edgelist', 'wb'), data=['weight'])"
   ]
  },
  {
   "cell_type": "code",
   "execution_count": 31,
   "metadata": {},
   "outputs": [],
   "source": [
    "#Artificially removed:\n",
    "edges_to_test = [edge for edge in G.edges() if edge not in tree.edges()]\n",
    "\n",
    "#Edges that never existed\n",
    "negatives = []\n",
    "while len(negatives)<len(edges_to_test):\n",
    "    rand_edge = sample(G_nodes, 2)\n",
    "    if rand_edge not in G_edges:\n",
    "        negatives.append(rand_edge)\n",
    "\n",
    "#Random sample from existing/non-existing edges\n",
    "rand_pairs = [sample(G_nodes, 2) for i in range(len(edges_to_test))]"
   ]
  },
  {
   "cell_type": "markdown",
   "metadata": {},
   "source": [
    "# FastRP"
   ]
  },
  {
   "cell_type": "code",
   "execution_count": 45,
   "metadata": {},
   "outputs": [],
   "source": [
    "import optuna"
   ]
  },
  {
   "cell_type": "code",
   "execution_count": 46,
   "metadata": {},
   "outputs": [],
   "source": [
    "prefix = 'result/blog'"
   ]
  },
  {
   "cell_type": "code",
   "execution_count": 47,
   "metadata": {
    "collapsed": true
   },
   "outputs": [
    {
     "name": "stdout",
     "output_type": "stream",
     "text": [
      "{'projection_method': 'sparse', 'input_matrix': 'adj', 'weights': [1.0, 0.021544963446030133], 'normalization': False, 'dim': 512, 'alpha': 0.09782771951750907, 'C': 0.1}\n"
     ]
    },
    {
     "name": "stderr",
     "output_type": "stream",
     "text": [
      "[I 2019-05-20 03:03:34,992] Finished trial#0 resulted in value: -0.9126403513149359. Current best value is -0.9126403513149359 with parameters: {'weight0': 0.021544963446030133, 'alpha': 0.09782771951750907}.\n"
     ]
    },
    {
     "name": "stdout",
     "output_type": "stream",
     "text": [
      "{'projection_method': 'sparse', 'input_matrix': 'adj', 'weights': [1.0, 0.012815620029244293], 'normalization': False, 'dim': 512, 'alpha': 0.2842701365477386, 'C': 0.1}\n"
     ]
    },
    {
     "name": "stderr",
     "output_type": "stream",
     "text": [
      "[I 2019-05-20 03:03:45,359] Finished trial#1 resulted in value: -0.9208044313588503. Current best value is -0.9208044313588503 with parameters: {'weight0': 0.012815620029244293, 'alpha': 0.2842701365477386}.\n"
     ]
    },
    {
     "name": "stdout",
     "output_type": "stream",
     "text": [
      "{'projection_method': 'sparse', 'input_matrix': 'adj', 'weights': [1.0, 0.49747464155037435], 'normalization': False, 'dim': 512, 'alpha': 0.05504659209821233, 'C': 0.1}\n"
     ]
    },
    {
     "name": "stderr",
     "output_type": "stream",
     "text": [
      "[I 2019-05-20 03:03:56,148] Finished trial#2 resulted in value: -0.8325066121063925. Current best value is -0.9208044313588503 with parameters: {'weight0': 0.012815620029244293, 'alpha': 0.2842701365477386}.\n"
     ]
    },
    {
     "name": "stdout",
     "output_type": "stream",
     "text": [
      "{'projection_method': 'sparse', 'input_matrix': 'adj', 'weights': [1.0, 0.7204584510765775], 'normalization': False, 'dim': 512, 'alpha': 0.07373119151153212, 'C': 0.1}\n"
     ]
    },
    {
     "name": "stderr",
     "output_type": "stream",
     "text": [
      "[I 2019-05-20 03:04:06,725] Finished trial#3 resulted in value: -0.8289235989819851. Current best value is -0.9208044313588503 with parameters: {'weight0': 0.012815620029244293, 'alpha': 0.2842701365477386}.\n"
     ]
    },
    {
     "name": "stdout",
     "output_type": "stream",
     "text": [
      "{'projection_method': 'sparse', 'input_matrix': 'adj', 'weights': [1.0, 0.013404661038749922], 'normalization': False, 'dim': 512, 'alpha': 0.22125141173225782, 'C': 0.1}\n"
     ]
    },
    {
     "name": "stderr",
     "output_type": "stream",
     "text": [
      "[I 2019-05-20 03:04:17,110] Finished trial#4 resulted in value: -0.921363341484106. Current best value is -0.921363341484106 with parameters: {'weight0': 0.013404661038749922, 'alpha': 0.22125141173225782}.\n"
     ]
    },
    {
     "name": "stdout",
     "output_type": "stream",
     "text": [
      "{'projection_method': 'sparse', 'input_matrix': 'adj', 'weights': [1.0, 0.002647265831483687], 'normalization': False, 'dim': 512, 'alpha': -0.2773632922171927, 'C': 0.1}\n"
     ]
    },
    {
     "name": "stderr",
     "output_type": "stream",
     "text": [
      "[I 2019-05-20 03:04:27,827] Finished trial#5 resulted in value: -0.8228753929836818. Current best value is -0.921363341484106 with parameters: {'weight0': 0.013404661038749922, 'alpha': 0.22125141173225782}.\n"
     ]
    },
    {
     "name": "stdout",
     "output_type": "stream",
     "text": [
      "{'projection_method': 'sparse', 'input_matrix': 'adj', 'weights': [1.0, 0.005885942347918707], 'normalization': False, 'dim': 512, 'alpha': -0.3673447874774704, 'C': 0.1}\n"
     ]
    },
    {
     "name": "stderr",
     "output_type": "stream",
     "text": [
      "[I 2019-05-20 03:04:38,930] Finished trial#6 resulted in value: -0.8079245471330905. Current best value is -0.921363341484106 with parameters: {'weight0': 0.013404661038749922, 'alpha': 0.22125141173225782}.\n"
     ]
    },
    {
     "name": "stdout",
     "output_type": "stream",
     "text": [
      "{'projection_method': 'sparse', 'input_matrix': 'adj', 'weights': [1.0, 0.035202187692936954], 'normalization': False, 'dim': 512, 'alpha': -0.20181752538419329, 'C': 0.1}\n"
     ]
    },
    {
     "name": "stderr",
     "output_type": "stream",
     "text": [
      "[I 2019-05-20 03:04:49,285] Finished trial#7 resulted in value: -0.87859673636409. Current best value is -0.921363341484106 with parameters: {'weight0': 0.013404661038749922, 'alpha': 0.22125141173225782}.\n"
     ]
    },
    {
     "name": "stdout",
     "output_type": "stream",
     "text": [
      "{'projection_method': 'sparse', 'input_matrix': 'adj', 'weights': [1.0, 0.004060589059327722], 'normalization': False, 'dim': 512, 'alpha': 0.1699390993233325, 'C': 0.1}\n"
     ]
    },
    {
     "name": "stderr",
     "output_type": "stream",
     "text": [
      "[I 2019-05-20 03:04:59,834] Finished trial#8 resulted in value: -0.8950746045211837. Current best value is -0.921363341484106 with parameters: {'weight0': 0.013404661038749922, 'alpha': 0.22125141173225782}.\n"
     ]
    },
    {
     "name": "stdout",
     "output_type": "stream",
     "text": [
      "{'projection_method': 'sparse', 'input_matrix': 'adj', 'weights': [1.0, 0.01956318433099455], 'normalization': False, 'dim': 512, 'alpha': 0.3414474074759337, 'C': 0.1}\n"
     ]
    },
    {
     "name": "stderr",
     "output_type": "stream",
     "text": [
      "[I 2019-05-20 03:05:10,285] Finished trial#9 resulted in value: -0.9203153849992515. Current best value is -0.921363341484106 with parameters: {'weight0': 0.013404661038749922, 'alpha': 0.22125141173225782}.\n"
     ]
    },
    {
     "name": "stdout",
     "output_type": "stream",
     "text": [
      "{'projection_method': 'sparse', 'input_matrix': 'adj', 'weights': [1.0, 0.11586617570941557], 'normalization': False, 'dim': 512, 'alpha': -0.08365715486916458, 'C': 0.1}\n"
     ]
    },
    {
     "name": "stderr",
     "output_type": "stream",
     "text": [
      "[I 2019-05-20 03:05:20,832] Finished trial#10 resulted in value: -0.8635261240580867. Current best value is -0.921363341484106 with parameters: {'weight0': 0.013404661038749922, 'alpha': 0.22125141173225782}.\n"
     ]
    },
    {
     "name": "stdout",
     "output_type": "stream",
     "text": [
      "{'projection_method': 'sparse', 'input_matrix': 'adj', 'weights': [1.0, 0.0010617335057234677], 'normalization': False, 'dim': 512, 'alpha': -0.11181160808842949, 'C': 0.1}\n"
     ]
    },
    {
     "name": "stderr",
     "output_type": "stream",
     "text": [
      "[I 2019-05-20 03:05:31,349] Finished trial#11 resulted in value: -0.8032935775238286. Current best value is -0.921363341484106 with parameters: {'weight0': 0.013404661038749922, 'alpha': 0.22125141173225782}.\n"
     ]
    },
    {
     "name": "stdout",
     "output_type": "stream",
     "text": [
      "{'projection_method': 'sparse', 'input_matrix': 'adj', 'weights': [1.0, 0.07682484638330303], 'normalization': False, 'dim': 512, 'alpha': 0.26765047203957626, 'C': 0.1}\n"
     ]
    },
    {
     "name": "stderr",
     "output_type": "stream",
     "text": [
      "[I 2019-05-20 03:05:42,153] Finished trial#12 resulted in value: -0.869694096511802. Current best value is -0.921363341484106 with parameters: {'weight0': 0.013404661038749922, 'alpha': 0.22125141173225782}.\n"
     ]
    },
    {
     "name": "stdout",
     "output_type": "stream",
     "text": [
      "{'projection_method': 'sparse', 'input_matrix': 'adj', 'weights': [1.0, 0.23864664893770132], 'normalization': False, 'dim': 512, 'alpha': 0.3815373292452864, 'C': 0.1}\n"
     ]
    },
    {
     "name": "stderr",
     "output_type": "stream",
     "text": [
      "[I 2019-05-20 03:05:52,897] Finished trial#13 resulted in value: -0.8191326912520585. Current best value is -0.921363341484106 with parameters: {'weight0': 0.013404661038749922, 'alpha': 0.22125141173225782}.\n"
     ]
    },
    {
     "name": "stdout",
     "output_type": "stream",
     "text": [
      "{'projection_method': 'sparse', 'input_matrix': 'adj', 'weights': [1.0, 0.0016503299827000434], 'normalization': False, 'dim': 512, 'alpha': 0.21895043795308688, 'C': 0.1}\n"
     ]
    },
    {
     "name": "stderr",
     "output_type": "stream",
     "text": [
      "[I 2019-05-20 03:06:03,426] Finished trial#14 resulted in value: -0.8525275712360896. Current best value is -0.921363341484106 with parameters: {'weight0': 0.013404661038749922, 'alpha': 0.22125141173225782}.\n"
     ]
    },
    {
     "name": "stdout",
     "output_type": "stream",
     "text": [
      "{'projection_method': 'sparse', 'input_matrix': 'adj', 'weights': [1.0, 0.008390857817801337], 'normalization': False, 'dim': 512, 'alpha': -0.053801037170695454, 'C': 0.1}\n"
     ]
    },
    {
     "ename": "KeyboardInterrupt",
     "evalue": "",
     "output_type": "error",
     "traceback": [
      "\u001b[0;31m---------------------------------------------------------------------------\u001b[0m",
      "\u001b[0;31mKeyboardInterrupt\u001b[0m                         Traceback (most recent call last)",
      "\u001b[0;32m<timed exec>\u001b[0m in \u001b[0;36m<module>\u001b[0;34m\u001b[0m\n",
      "\u001b[0;32m~/anaconda3/lib/python3.7/site-packages/optuna/study.py\u001b[0m in \u001b[0;36moptimize\u001b[0;34m(self, func, n_trials, timeout, n_jobs, catch)\u001b[0m\n\u001b[1;32m    208\u001b[0m \u001b[0;34m\u001b[0m\u001b[0m\n\u001b[1;32m    209\u001b[0m         \u001b[0;32mif\u001b[0m \u001b[0mn_jobs\u001b[0m \u001b[0;34m==\u001b[0m \u001b[0;36m1\u001b[0m\u001b[0;34m:\u001b[0m\u001b[0;34m\u001b[0m\u001b[0;34m\u001b[0m\u001b[0m\n\u001b[0;32m--> 210\u001b[0;31m             \u001b[0mself\u001b[0m\u001b[0;34m.\u001b[0m\u001b[0m_optimize_sequential\u001b[0m\u001b[0;34m(\u001b[0m\u001b[0mfunc\u001b[0m\u001b[0;34m,\u001b[0m \u001b[0mn_trials\u001b[0m\u001b[0;34m,\u001b[0m \u001b[0mtimeout\u001b[0m\u001b[0;34m,\u001b[0m \u001b[0mcatch\u001b[0m\u001b[0;34m)\u001b[0m\u001b[0;34m\u001b[0m\u001b[0;34m\u001b[0m\u001b[0m\n\u001b[0m\u001b[1;32m    211\u001b[0m         \u001b[0;32melse\u001b[0m\u001b[0;34m:\u001b[0m\u001b[0;34m\u001b[0m\u001b[0;34m\u001b[0m\u001b[0m\n\u001b[1;32m    212\u001b[0m             \u001b[0mself\u001b[0m\u001b[0;34m.\u001b[0m\u001b[0m_optimize_parallel\u001b[0m\u001b[0;34m(\u001b[0m\u001b[0mfunc\u001b[0m\u001b[0;34m,\u001b[0m \u001b[0mn_trials\u001b[0m\u001b[0;34m,\u001b[0m \u001b[0mtimeout\u001b[0m\u001b[0;34m,\u001b[0m \u001b[0mn_jobs\u001b[0m\u001b[0;34m,\u001b[0m \u001b[0mcatch\u001b[0m\u001b[0;34m)\u001b[0m\u001b[0;34m\u001b[0m\u001b[0;34m\u001b[0m\u001b[0m\n",
      "\u001b[0;32m~/anaconda3/lib/python3.7/site-packages/optuna/study.py\u001b[0m in \u001b[0;36m_optimize_sequential\u001b[0;34m(self, func, n_trials, timeout, catch)\u001b[0m\n\u001b[1;32m    322\u001b[0m                     \u001b[0;32mbreak\u001b[0m\u001b[0;34m\u001b[0m\u001b[0;34m\u001b[0m\u001b[0m\n\u001b[1;32m    323\u001b[0m \u001b[0;34m\u001b[0m\u001b[0m\n\u001b[0;32m--> 324\u001b[0;31m             \u001b[0mself\u001b[0m\u001b[0;34m.\u001b[0m\u001b[0m_run_trial\u001b[0m\u001b[0;34m(\u001b[0m\u001b[0mfunc\u001b[0m\u001b[0;34m,\u001b[0m \u001b[0mcatch\u001b[0m\u001b[0;34m)\u001b[0m\u001b[0;34m\u001b[0m\u001b[0;34m\u001b[0m\u001b[0m\n\u001b[0m\u001b[1;32m    325\u001b[0m \u001b[0;34m\u001b[0m\u001b[0m\n\u001b[1;32m    326\u001b[0m     def _optimize_parallel(\n",
      "\u001b[0;32m~/anaconda3/lib/python3.7/site-packages/optuna/study.py\u001b[0m in \u001b[0;36m_run_trial\u001b[0;34m(self, func, catch)\u001b[0m\n\u001b[1;32m    396\u001b[0m \u001b[0;34m\u001b[0m\u001b[0m\n\u001b[1;32m    397\u001b[0m         \u001b[0;32mtry\u001b[0m\u001b[0;34m:\u001b[0m\u001b[0;34m\u001b[0m\u001b[0;34m\u001b[0m\u001b[0m\n\u001b[0;32m--> 398\u001b[0;31m             \u001b[0mresult\u001b[0m \u001b[0;34m=\u001b[0m \u001b[0mfunc\u001b[0m\u001b[0;34m(\u001b[0m\u001b[0mtrial\u001b[0m\u001b[0;34m)\u001b[0m\u001b[0;34m\u001b[0m\u001b[0;34m\u001b[0m\u001b[0m\n\u001b[0m\u001b[1;32m    399\u001b[0m         \u001b[0;32mexcept\u001b[0m \u001b[0mstructs\u001b[0m\u001b[0;34m.\u001b[0m\u001b[0mTrialPruned\u001b[0m \u001b[0;32mas\u001b[0m \u001b[0me\u001b[0m\u001b[0;34m:\u001b[0m\u001b[0;34m\u001b[0m\u001b[0;34m\u001b[0m\u001b[0m\n\u001b[1;32m    400\u001b[0m             message = 'Setting status of trial#{} as {}. {}'.format(trial_number,\n",
      "\u001b[0;32m<timed exec>\u001b[0m in \u001b[0;36mobjective\u001b[0;34m(trial)\u001b[0m\n",
      "\u001b[0;32m~/fast-random-projection/fastrp_exp.py\u001b[0m in \u001b[0;36mfastrp_wrapper\u001b[0;34m(A, conf)\u001b[0m\n\u001b[1;32m     80\u001b[0m                                \u001b[0mprojection_method\u001b[0m\u001b[0;34m=\u001b[0m\u001b[0mconf\u001b[0m\u001b[0;34m[\u001b[0m\u001b[0;34m'projection_method'\u001b[0m\u001b[0;34m]\u001b[0m\u001b[0;34m,\u001b[0m\u001b[0;34m\u001b[0m\u001b[0;34m\u001b[0m\u001b[0m\n\u001b[1;32m     81\u001b[0m                                \u001b[0minput_matrix\u001b[0m\u001b[0;34m=\u001b[0m\u001b[0mconf\u001b[0m\u001b[0;34m[\u001b[0m\u001b[0;34m'input_matrix'\u001b[0m\u001b[0;34m]\u001b[0m\u001b[0;34m,\u001b[0m\u001b[0;34m\u001b[0m\u001b[0;34m\u001b[0m\u001b[0m\n\u001b[0;32m---> 82\u001b[0;31m                                \u001b[0malpha\u001b[0m\u001b[0;34m=\u001b[0m\u001b[0mconf\u001b[0m\u001b[0;34m[\u001b[0m\u001b[0;34m'alpha'\u001b[0m\u001b[0;34m]\u001b[0m\u001b[0;34m,\u001b[0m\u001b[0;34m\u001b[0m\u001b[0;34m\u001b[0m\u001b[0m\n\u001b[0m\u001b[1;32m     83\u001b[0m     )\n\u001b[1;32m     84\u001b[0m     \u001b[0mU\u001b[0m \u001b[0;34m=\u001b[0m \u001b[0mfastrp_merge\u001b[0m\u001b[0;34m(\u001b[0m\u001b[0mU_list\u001b[0m\u001b[0;34m,\u001b[0m \u001b[0mconf\u001b[0m\u001b[0;34m[\u001b[0m\u001b[0;34m'weights'\u001b[0m\u001b[0;34m]\u001b[0m\u001b[0;34m,\u001b[0m \u001b[0mconf\u001b[0m\u001b[0;34m[\u001b[0m\u001b[0;34m'normalization'\u001b[0m\u001b[0;34m]\u001b[0m\u001b[0;34m)\u001b[0m\u001b[0;34m\u001b[0m\u001b[0;34m\u001b[0m\u001b[0m\n",
      "\u001b[0;32m~/fast-random-projection/fastrp_exp.py\u001b[0m in \u001b[0;36mfastrp_projection\u001b[0;34m(A, q, dim, projection_method, input_matrix, alpha)\u001b[0m\n\u001b[1;32m     40\u001b[0m     \u001b[0;32melse\u001b[0m\u001b[0;34m:\u001b[0m\u001b[0;34m\u001b[0m\u001b[0;34m\u001b[0m\u001b[0m\n\u001b[1;32m     41\u001b[0m         \u001b[0mtransformer\u001b[0m \u001b[0;34m=\u001b[0m \u001b[0mrandom_projection\u001b[0m\u001b[0;34m.\u001b[0m\u001b[0mSparseRandomProjection\u001b[0m\u001b[0;34m(\u001b[0m\u001b[0mn_components\u001b[0m\u001b[0;34m=\u001b[0m\u001b[0mdim\u001b[0m\u001b[0;34m,\u001b[0m \u001b[0mrandom_state\u001b[0m\u001b[0;34m=\u001b[0m\u001b[0;36m42\u001b[0m\u001b[0;34m)\u001b[0m\u001b[0;34m\u001b[0m\u001b[0;34m\u001b[0m\u001b[0m\n\u001b[0;32m---> 42\u001b[0;31m     \u001b[0mY\u001b[0m \u001b[0;34m=\u001b[0m \u001b[0mtransformer\u001b[0m\u001b[0;34m.\u001b[0m\u001b[0mfit\u001b[0m\u001b[0;34m(\u001b[0m\u001b[0mM\u001b[0m\u001b[0;34m)\u001b[0m\u001b[0;34m\u001b[0m\u001b[0;34m\u001b[0m\u001b[0m\n\u001b[0m\u001b[1;32m     43\u001b[0m     \u001b[0;31m# Random projection for A\u001b[0m\u001b[0;34m\u001b[0m\u001b[0;34m\u001b[0m\u001b[0;34m\u001b[0m\u001b[0m\n\u001b[1;32m     44\u001b[0m     \u001b[0;32mif\u001b[0m \u001b[0malpha\u001b[0m \u001b[0;32mis\u001b[0m \u001b[0;32mnot\u001b[0m \u001b[0;32mNone\u001b[0m\u001b[0;34m:\u001b[0m\u001b[0;34m\u001b[0m\u001b[0;34m\u001b[0m\u001b[0m\n",
      "\u001b[0;32m~/anaconda3/lib/python3.7/site-packages/sklearn/random_projection.py\u001b[0m in \u001b[0;36mfit\u001b[0;34m(self, X, y)\u001b[0m\n\u001b[1;32m    383\u001b[0m         \u001b[0;31m# Generate a projection matrix of size [n_components, n_features]\u001b[0m\u001b[0;34m\u001b[0m\u001b[0;34m\u001b[0m\u001b[0;34m\u001b[0m\u001b[0m\n\u001b[1;32m    384\u001b[0m         self.components_ = self._make_random_matrix(self.n_components_,\n\u001b[0;32m--> 385\u001b[0;31m                                                     n_features)\n\u001b[0m\u001b[1;32m    386\u001b[0m \u001b[0;34m\u001b[0m\u001b[0m\n\u001b[1;32m    387\u001b[0m         \u001b[0;31m# Check contract\u001b[0m\u001b[0;34m\u001b[0m\u001b[0;34m\u001b[0m\u001b[0;34m\u001b[0m\u001b[0m\n",
      "\u001b[0;32m~/anaconda3/lib/python3.7/site-packages/sklearn/random_projection.py\u001b[0m in \u001b[0;36m_make_random_matrix\u001b[0;34m(self, n_components, n_features)\u001b[0m\n\u001b[1;32m    649\u001b[0m                                     \u001b[0mn_features\u001b[0m\u001b[0;34m,\u001b[0m\u001b[0;34m\u001b[0m\u001b[0;34m\u001b[0m\u001b[0m\n\u001b[1;32m    650\u001b[0m                                     \u001b[0mdensity\u001b[0m\u001b[0;34m=\u001b[0m\u001b[0mself\u001b[0m\u001b[0;34m.\u001b[0m\u001b[0mdensity_\u001b[0m\u001b[0;34m,\u001b[0m\u001b[0;34m\u001b[0m\u001b[0;34m\u001b[0m\u001b[0m\n\u001b[0;32m--> 651\u001b[0;31m                                     random_state=random_state)\n\u001b[0m",
      "\u001b[0;32m~/anaconda3/lib/python3.7/site-packages/sklearn/random_projection.py\u001b[0m in \u001b[0;36msparse_random_matrix\u001b[0;34m(n_components, n_features, density, random_state)\u001b[0m\n\u001b[1;32m    276\u001b[0m             \u001b[0mn_nonzero_i\u001b[0m \u001b[0;34m=\u001b[0m \u001b[0mrng\u001b[0m\u001b[0;34m.\u001b[0m\u001b[0mbinomial\u001b[0m\u001b[0;34m(\u001b[0m\u001b[0mn_features\u001b[0m\u001b[0;34m,\u001b[0m \u001b[0mdensity\u001b[0m\u001b[0;34m)\u001b[0m\u001b[0;34m\u001b[0m\u001b[0;34m\u001b[0m\u001b[0m\n\u001b[1;32m    277\u001b[0m             indices_i = sample_without_replacement(n_features, n_nonzero_i,\n\u001b[0;32m--> 278\u001b[0;31m                                                    random_state=rng)\n\u001b[0m\u001b[1;32m    279\u001b[0m             \u001b[0mindices\u001b[0m\u001b[0;34m.\u001b[0m\u001b[0mappend\u001b[0m\u001b[0;34m(\u001b[0m\u001b[0mindices_i\u001b[0m\u001b[0;34m)\u001b[0m\u001b[0;34m\u001b[0m\u001b[0;34m\u001b[0m\u001b[0m\n\u001b[1;32m    280\u001b[0m             \u001b[0moffset\u001b[0m \u001b[0;34m+=\u001b[0m \u001b[0mn_nonzero_i\u001b[0m\u001b[0;34m\u001b[0m\u001b[0;34m\u001b[0m\u001b[0m\n",
      "\u001b[0;31mKeyboardInterrupt\u001b[0m: "
     ]
    }
   ],
   "source": [
    "%%time\n",
    "\n",
    "def objective(trial):\n",
    "    order_range = 1\n",
    "    # Invoke suggest methods of a Trial object to generate hyperparameters.\n",
    "    # weights = [trial.suggest_loguniform('weight' + str(order), 1.0, 64.0) for order in range(order_range)]\n",
    "    weights = [trial.suggest_loguniform('weight' + str(order), 0.001, 1) for order in range(order_range)]\n",
    "    alpha = trial.suggest_uniform('alpha', -0.4, 0.4)\n",
    "    conf = {\n",
    "        'projection_method': 'sparse',\n",
    "        'input_matrix': 'adj',\n",
    "        'weights': [1.0] + weights,\n",
    "        'normalization': False,\n",
    "        'dim': 512,\n",
    "        'alpha': alpha,\n",
    "        'C': 0.1\n",
    "    }\n",
    "    print(conf)\n",
    "    # emb_filename = get_emb_filename(prefix, conf)\n",
    "    # print (emb_filename)\n",
    "\n",
    "    U = fastrp_wrapper(A_70, conf)\n",
    "    distances_negative = np.array([cosine(U[edge[0]], U[edge[1]]) for edge in negatives])\n",
    "    distances_random = np.array([cosine(U[edge[0]], U[edge[1]]) for edge in rand_pairs])\n",
    "    distances_pos = np.array([cosine(U[edge[0]], U[edge[1]]) for edge in edges_to_test])\n",
    "    \n",
    "    scores_negative = (distances_pos<distances_negative).sum() / len(distances_negative)\n",
    "    scores_random = (distances_pos<distances_random).sum() / len(distances_random)\n",
    "    return -scores_random\n",
    "\n",
    "study = optuna.create_study()  # Create a new study.\n",
    "study.optimize(objective, n_trials=100)  # Invoke optimization of the objective function."
   ]
  },
  {
   "cell_type": "code",
   "execution_count": 74,
   "metadata": {},
   "outputs": [
    {
     "data": {
      "text/plain": [
       "FrozenTrial(number=65, state=<TrialState.COMPLETE: 1>, value=-0.9284806340660984, datetime_start=datetime.datetime(2019, 5, 19, 22, 44, 33, 349661), datetime_complete=datetime.datetime(2019, 5, 19, 22, 44, 37, 220980), params={'weight0': 20.485726627014053, 'alpha': 0.3978105115791798}, user_attrs={}, system_attrs={'_number': 65}, intermediate_values={}, params_in_internal_repr={'weight0': 20.485726627014053, 'alpha': 0.3978105115791798}, trial_id=65)"
      ]
     },
     "execution_count": 74,
     "metadata": {},
     "output_type": "execute_result"
    }
   ],
   "source": [
    "study.best_trial"
   ]
  },
  {
   "cell_type": "code",
   "execution_count": 48,
   "metadata": {},
   "outputs": [],
   "source": [
    "conf = {\n",
    "        'projection_method': 'sparse',\n",
    "        'input_matrix': 'adj',\n",
    "        'weights': [1.0, 0.0128],\n",
    "        'normalization': False,\n",
    "        'dim': 512,\n",
    "        'alpha': 0.28,\n",
    "        'C': 0.1\n",
    "}"
   ]
  },
  {
   "cell_type": "code",
   "execution_count": 49,
   "metadata": {},
   "outputs": [
    {
     "name": "stdout",
     "output_type": "stream",
     "text": [
      "0.9208643145865563\n"
     ]
    }
   ],
   "source": [
    "U = fastrp_wrapper(A_70, conf)\n",
    "distances_negative = np.array([cosine(U[edge[0]], U[edge[1]]) for edge in negatives])\n",
    "distances_random = np.array([cosine(U[edge[0]], U[edge[1]]) for edge in rand_pairs])\n",
    "distances_pos = np.array([cosine(U[edge[0]], U[edge[1]]) for edge in edges_to_test])\n",
    "\n",
    "scores_negative = (distances_pos<distances_negative).sum() / len(distances_negative)\n",
    "scores_random = (distances_pos<distances_random).sum() / len(distances_random)\n",
    "print (scores_random)"
   ]
  },
  {
   "cell_type": "markdown",
   "metadata": {},
   "source": [
    "# RandNE"
   ]
  },
  {
   "cell_type": "markdown",
   "metadata": {},
   "source": [
    "Run RandNE:"
   ]
  },
  {
   "cell_type": "code",
   "execution_count": null,
   "metadata": {},
   "outputs": [],
   "source": [
    "python3 /home/hcchen/RandNE-Python/src/randne.py \\\n",
    "--input /home/hcchen/fast-random-projection/example_graphs/blogcatalog-70.mat \\\n",
    "--output /home/hcchen/fast-random-projection/result/blogcatalog-70-randne-emb.mat -q 2 -d 512 --weights 1 0.01"
   ]
  },
  {
   "cell_type": "code",
   "execution_count": 41,
   "metadata": {},
   "outputs": [
    {
     "name": "stdout",
     "output_type": "stream",
     "text": [
      "0.9124507210938669\n"
     ]
    }
   ],
   "source": [
    "U = loadmat('/home/hcchen/fast-random-projection/result/blogcatalog-70-randne-emb.mat')['emb']\n",
    "distances_negative = np.array([cosine(U[edge[0]], U[edge[1]]) for edge in negatives])\n",
    "distances_random = np.array([cosine(U[edge[0]], U[edge[1]]) for edge in rand_pairs])\n",
    "distances_pos = np.array([cosine(U[edge[0]], U[edge[1]]) for edge in edges_to_test])\n",
    "\n",
    "scores_negative = (distances_pos<distances_negative).sum() / len(distances_negative)\n",
    "scores_random = (distances_pos<distances_random).sum() / len(distances_random)\n",
    "print (scores_random)"
   ]
  },
  {
   "cell_type": "markdown",
   "metadata": {},
   "source": [
    "# LINE"
   ]
  },
  {
   "cell_type": "markdown",
   "metadata": {},
   "source": [
    "Compile the code:"
   ]
  },
  {
   "cell_type": "code",
   "execution_count": null,
   "metadata": {},
   "outputs": [],
   "source": [
    "g++ -I /home/hcchen/gsl/include -L /home/hcchen/gsl/lib -lm -pthread -Ofast -march=native -Wall -funroll-loops -ffast-math -Wno-unused-result line.cpp -o line -lgsl -lm -lgslcblas\n",
    "g++ -I /home/hcchen/gsl/include -L /home/hcchen/gsl/lib -lm -pthread -Ofast -march=native -Wall -funroll-loops -ffast-math -Wno-unused-result reconstruct.cpp -o reconstruct\n",
    "g++ -I /home/hcchen/gsl/include -L /home/hcchen/gsl/lib -lm -pthread -Ofast -march=native -Wall -funroll-loops -ffast-math -Wno-unused-result normalize.cpp -o normalize\n",
    "g++ -I /home/hcchen/gsl/include -L /home/hcchen/gsl/lib -lm -pthread -Ofast -march=native -Wall -funroll-loops -ffast-math -Wno-unused-result concatenate.cpp -o concatenate"
   ]
  },
  {
   "cell_type": "markdown",
   "metadata": {},
   "source": [
    "First add the GSL library to path in shell:"
   ]
  },
  {
   "cell_type": "code",
   "execution_count": null,
   "metadata": {},
   "outputs": [],
   "source": [
    "export LD_LIBRARY_PATH=$LD_LIBRARY_PATH:/home/hcchen/gsl/lib"
   ]
  },
  {
   "cell_type": "markdown",
   "metadata": {},
   "source": [
    "Run LINE:"
   ]
  },
  {
   "cell_type": "code",
   "execution_count": null,
   "metadata": {},
   "outputs": [],
   "source": [
    "nohup ./line -train /home/hcchen/fast-random-projection/example_graphs/blogcatalog-70.edgelist \\\n",
    "-output /home/hcchen/fast-random-projection/result/blogcatalog-70.line.emb \\\n",
    "-binary 0 -size 200 -order 2 -negative 5 -samples 1000 -rho 0.025 -threads 40 &"
   ]
  },
  {
   "cell_type": "markdown",
   "metadata": {},
   "source": [
    "Link prediction:"
   ]
  },
  {
   "cell_type": "code",
   "execution_count": 53,
   "metadata": {},
   "outputs": [
    {
     "name": "stdout",
     "output_type": "stream",
     "text": [
      "0.465252757123609\n"
     ]
    }
   ],
   "source": [
    "line_scores_negative, line_scores_random = [], []\n",
    "model = KeyedVectors.load_word2vec_format('/home/hcchen/fast-random-projection/result/blogcatalog-70.line.emb')\n",
    "U = np.asarray([model[str(node)] for node in range(len(model.vocab) )])\n",
    "# print (U.shape)\n",
    "\n",
    "distances_negative = np.array([cosine(U[edge[0]], U[edge[1]]) for edge in negatives])\n",
    "distances_random = np.array([cosine(U[edge[0]], U[edge[1]]) for edge in rand_pairs])\n",
    "distances_pos = np.array([cosine(U[edge[0]], U[edge[1]]) for edge in edges_to_test])\n",
    "\n",
    "scores_negative = (distances_pos<distances_negative).sum() / len(distances_negative)\n",
    "scores_random = (distances_pos<distances_random).sum() / len(distances_random)\n",
    "print (scores_random)"
   ]
  },
  {
   "cell_type": "markdown",
   "metadata": {},
   "source": [
    "# DeepWalk"
   ]
  },
  {
   "cell_type": "markdown",
   "metadata": {},
   "source": [
    "Run the following command in shell:"
   ]
  },
  {
   "cell_type": "code",
   "execution_count": null,
   "metadata": {},
   "outputs": [],
   "source": [
    "nohup time deepwalk --format mat --input example_graphs/blogcatalog-70.mat \\\n",
    "--max-memory-data-size 0 --number-walks 80 --representation-size 128 --walk-length 40 --window-size 10 \\\n",
    "--workers 40 --output result/blogcatalog-70.deepwalk.emb &"
   ]
  },
  {
   "cell_type": "markdown",
   "metadata": {},
   "source": [
    "Link prediction:"
   ]
  },
  {
   "cell_type": "code",
   "execution_count": 51,
   "metadata": {},
   "outputs": [
    {
     "name": "stdout",
     "output_type": "stream",
     "text": [
      "0.7481311442686761\n"
     ]
    }
   ],
   "source": [
    "model = KeyedVectors.load_word2vec_format('/home/hcchen/fast-random-projection/result/blogcatalog-70.deepwalk.emb')\n",
    "U = np.asarray([model[str(node)] for node in range(len(model.vocab) )])\n",
    "# print (U.shape)\n",
    "\n",
    "distances_negative = np.array([cosine(U[edge[0]], U[edge[1]]) for edge in negatives])\n",
    "distances_random = np.array([cosine(U[edge[0]], U[edge[1]]) for edge in rand_pairs])\n",
    "distances_pos = np.array([cosine(U[edge[0]], U[edge[1]]) for edge in edges_to_test])\n",
    "\n",
    "scores_negative = (distances_pos<distances_negative).sum() / len(distances_negative)\n",
    "scores_random = (distances_pos<distances_random).sum() / len(distances_random)\n",
    "print (scores_random)"
   ]
  }
 ],
 "metadata": {
  "kernelspec": {
   "display_name": "Python 3",
   "language": "python",
   "name": "python3"
  },
  "language_info": {
   "codemirror_mode": {
    "name": "ipython",
    "version": 3
   },
   "file_extension": ".py",
   "mimetype": "text/x-python",
   "name": "python",
   "nbconvert_exporter": "python",
   "pygments_lexer": "ipython3",
   "version": "3.7.4"
  }
 },
 "nbformat": 4,
 "nbformat_minor": 2
}
