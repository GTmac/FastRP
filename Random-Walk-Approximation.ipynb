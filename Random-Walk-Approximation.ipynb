{
 "cells": [
  {
   "cell_type": "markdown",
   "metadata": {},
   "source": [
    "# Init"
   ]
  },
  {
   "cell_type": "code",
   "execution_count": 11,
   "metadata": {},
   "outputs": [],
   "source": [
    "%matplotlib inline\n",
    "\n",
    "import csv\n",
    "import datetime\n",
    "import glob\n",
    "import itertools\n",
    "import json\n",
    "import math\n",
    "import matplotlib\n",
    "import time\n",
    "import logging\n",
    "import sys\n",
    "import sqlite3\n",
    "import os\n",
    "import random\n",
    "import warnings\n",
    "\n",
    "import gensim\n",
    "\n",
    "import scipy.sparse\n",
    "\n",
    "import pandas as pd\n",
    "import numpy as np\n",
    "import networkx as nx\n",
    "import matplotlib.pyplot as plt\n",
    "import seaborn as sns\n",
    "\n",
    "from pathlib import Path\n",
    "\n",
    "from sklearn import random_projection\n",
    "from tqdm import tqdm_notebook as tqdm\n",
    "from collections import Counter, defaultdict\n",
    "\n",
    "from sklearn.manifold import TSNE\n",
    "from scipy.sparse import coo_matrix, csr_matrix, csc_matrix, spdiags\n",
    "from scipy.io import loadmat, savemat\n",
    "from sklearn.metrics import f1_score\n",
    "from sklearn.metrics.pairwise import cosine_similarity\n",
    "from sklearn.preprocessing import normalize, MultiLabelBinarizer"
   ]
  },
  {
   "cell_type": "code",
   "execution_count": 2,
   "metadata": {},
   "outputs": [],
   "source": [
    "# to ignore sklearn warning\n",
    "def warn(*args, **kwargs):\n",
    "    pass\n",
    "import warnings\n",
    "warnings.warn = warn\n",
    "warnings.filterwarnings(\"ignore\", category=RuntimeWarning) "
   ]
  },
  {
   "cell_type": "code",
   "execution_count": 3,
   "metadata": {},
   "outputs": [],
   "source": [
    "from scoring import main"
   ]
  },
  {
   "cell_type": "code",
   "execution_count": 4,
   "metadata": {},
   "outputs": [],
   "source": [
    "%load_ext autoreload\n",
    "%autoreload 2"
   ]
  },
  {
   "cell_type": "markdown",
   "metadata": {},
   "source": [
    "# Load Data"
   ]
  },
  {
   "cell_type": "markdown",
   "metadata": {},
   "source": [
    "## Blogcatalog"
   ]
  },
  {
   "cell_type": "code",
   "execution_count": 5,
   "metadata": {},
   "outputs": [],
   "source": [
    "blogcatalog = loadmat('blogcatalog/blogcatalog.mat')\n",
    "blog_labels = blogcatalog['group']\n",
    "blog_A = blogcatalog['network']\n",
    "N = blog_A.shape[0]"
   ]
  },
  {
   "cell_type": "markdown",
   "metadata": {},
   "source": [
    "# Utility Functions"
   ]
  },
  {
   "cell_type": "markdown",
   "metadata": {},
   "source": [
    "## Random Walks"
   ]
  },
  {
   "cell_type": "markdown",
   "metadata": {},
   "source": [
    "We first slightly modify DeepWalk so that it only produces random walks but do not train the word2vec model. Run the following command to generate the count file:"
   ]
  },
  {
   "cell_type": "code",
   "execution_count": null,
   "metadata": {},
   "outputs": [],
   "source": [
    "deepwalk --format mat --input example_graphs/blogcatalog.mat --max-memory-data-size 0 --number-walks 80 --representation-size 128 --walk-length 40 --window-size 10 --workers 20 --output example_graphs/blogcatalog.embeddings --only-walks"
   ]
  },
  {
   "cell_type": "code",
   "execution_count": null,
   "metadata": {},
   "outputs": [],
   "source": [
    "time deepwalk --format mat --input example_graphs/blogcatalog.mat --max-memory-data-size 0 \\\n",
    "--number-walks 1000 --representation-size 128 --walk-length 40 --window-size 7 \\\n",
    "--workers 10 --output example_graphs/blogcatalog.emb --only-walks"
   ]
  },
  {
   "cell_type": "markdown",
   "metadata": {},
   "source": [
    "Then we load the counts and aggregate into the overall (normalized) transition prob matrices:"
   ]
  },
  {
   "cell_type": "code",
   "execution_count": 72,
   "metadata": {},
   "outputs": [],
   "source": [
    "# sample file name: blogcatalog.embeddings.walks.4.order-5.npz\n",
    "def get_approx_matrices(path, max_order, N):\n",
    "    approx_M_list = []\n",
    "    for order in range(1, max_order + 1):\n",
    "        print (\"Processing order %d.\" % order)\n",
    "        coo_count = defaultdict(int)\n",
    "        \n",
    "        fname_list = glob.glob(path + '*order-%d.npz' % order)\n",
    "        for fname in fname_list:\n",
    "            print (\"Processing count file %s.\" % fname)\n",
    "            cx = scipy.sparse.load_npz(fname)\n",
    "            for i, j, v in zip(cx.row, cx.col, cx.data):\n",
    "                coo_count[(i, j)] += v\n",
    "        rows, cols, vals = [], [], []\n",
    "        for (u, v), val in coo_count.items():\n",
    "            rows.append(u)\n",
    "            cols.append(v)\n",
    "            vals.append(val)\n",
    "        M = scipy.sparse.coo_matrix( (vals, (rows, cols)), shape=(N, N))\n",
    "        M = M / M.sum(axis=0)\n",
    "        approx_M_list.append(0.5 * M)\n",
    "                \n",
    "    return approx_M_list"
   ]
  },
  {
   "cell_type": "code",
   "execution_count": 74,
   "metadata": {},
   "outputs": [
    {
     "name": "stdout",
     "output_type": "stream",
     "text": [
      "Processing order 1.\n",
      "Processing count file /home/local_hcchen/ws/deepwalk/example_graphs/blogcatalog.emb.walks.nwalks-1000-0.order-1.npz.\n",
      "Processing count file /home/local_hcchen/ws/deepwalk/example_graphs/blogcatalog.emb.walks.nwalks-1000-6.order-1.npz.\n",
      "Processing count file /home/local_hcchen/ws/deepwalk/example_graphs/blogcatalog.emb.walks.nwalks-1000-4.order-1.npz.\n",
      "Processing count file /home/local_hcchen/ws/deepwalk/example_graphs/blogcatalog.emb.walks.nwalks-1000-2.order-1.npz.\n",
      "Processing count file /home/local_hcchen/ws/deepwalk/example_graphs/blogcatalog.emb.walks.nwalks-1000-8.order-1.npz.\n",
      "Processing count file /home/local_hcchen/ws/deepwalk/example_graphs/blogcatalog.emb.walks.nwalks-1000-7.order-1.npz.\n",
      "Processing count file /home/local_hcchen/ws/deepwalk/example_graphs/blogcatalog.emb.walks.nwalks-1000-9.order-1.npz.\n",
      "Processing count file /home/local_hcchen/ws/deepwalk/example_graphs/blogcatalog.emb.walks.nwalks-1000-3.order-1.npz.\n",
      "Processing count file /home/local_hcchen/ws/deepwalk/example_graphs/blogcatalog.emb.walks.nwalks-1000-5.order-1.npz.\n",
      "Processing count file /home/local_hcchen/ws/deepwalk/example_graphs/blogcatalog.emb.walks.nwalks-1000-1.order-1.npz.\n",
      "Processing order 2.\n",
      "Processing count file /home/local_hcchen/ws/deepwalk/example_graphs/blogcatalog.emb.walks.nwalks-1000-8.order-2.npz.\n",
      "Processing count file /home/local_hcchen/ws/deepwalk/example_graphs/blogcatalog.emb.walks.nwalks-1000-7.order-2.npz.\n",
      "Processing count file /home/local_hcchen/ws/deepwalk/example_graphs/blogcatalog.emb.walks.nwalks-1000-5.order-2.npz.\n",
      "Processing count file /home/local_hcchen/ws/deepwalk/example_graphs/blogcatalog.emb.walks.nwalks-1000-2.order-2.npz.\n",
      "Processing count file /home/local_hcchen/ws/deepwalk/example_graphs/blogcatalog.emb.walks.nwalks-1000-0.order-2.npz.\n",
      "Processing count file /home/local_hcchen/ws/deepwalk/example_graphs/blogcatalog.emb.walks.nwalks-1000-1.order-2.npz.\n",
      "Processing count file /home/local_hcchen/ws/deepwalk/example_graphs/blogcatalog.emb.walks.nwalks-1000-3.order-2.npz.\n",
      "Processing count file /home/local_hcchen/ws/deepwalk/example_graphs/blogcatalog.emb.walks.nwalks-1000-4.order-2.npz.\n",
      "Processing count file /home/local_hcchen/ws/deepwalk/example_graphs/blogcatalog.emb.walks.nwalks-1000-6.order-2.npz.\n",
      "Processing count file /home/local_hcchen/ws/deepwalk/example_graphs/blogcatalog.emb.walks.nwalks-1000-9.order-2.npz.\n",
      "Processing order 3.\n",
      "Processing count file /home/local_hcchen/ws/deepwalk/example_graphs/blogcatalog.emb.walks.nwalks-1000-1.order-3.npz.\n",
      "Processing count file /home/local_hcchen/ws/deepwalk/example_graphs/blogcatalog.emb.walks.nwalks-1000-6.order-3.npz.\n",
      "Processing count file /home/local_hcchen/ws/deepwalk/example_graphs/blogcatalog.emb.walks.nwalks-1000-4.order-3.npz.\n",
      "Processing count file /home/local_hcchen/ws/deepwalk/example_graphs/blogcatalog.emb.walks.nwalks-1000-0.order-3.npz.\n",
      "Processing count file /home/local_hcchen/ws/deepwalk/example_graphs/blogcatalog.emb.walks.nwalks-1000-7.order-3.npz.\n",
      "Processing count file /home/local_hcchen/ws/deepwalk/example_graphs/blogcatalog.emb.walks.nwalks-1000-3.order-3.npz.\n",
      "Processing count file /home/local_hcchen/ws/deepwalk/example_graphs/blogcatalog.emb.walks.nwalks-1000-5.order-3.npz.\n",
      "Processing count file /home/local_hcchen/ws/deepwalk/example_graphs/blogcatalog.emb.walks.nwalks-1000-8.order-3.npz.\n",
      "Processing count file /home/local_hcchen/ws/deepwalk/example_graphs/blogcatalog.emb.walks.nwalks-1000-9.order-3.npz.\n",
      "Processing count file /home/local_hcchen/ws/deepwalk/example_graphs/blogcatalog.emb.walks.nwalks-1000-2.order-3.npz.\n",
      "CPU times: user 12min 55s, sys: 1min 31s, total: 14min 27s\n",
      "Wall time: 13min 26s\n"
     ]
    }
   ],
   "source": [
    "%time approx_M_list_large = \\\n",
    "get_approx_matrices('/home/local_hcchen/ws/deepwalk/example_graphs/blogcatalog.emb.walks.nwalks', 3, N)"
   ]
  },
  {
   "cell_type": "code",
   "execution_count": 65,
   "metadata": {
    "scrolled": true
   },
   "outputs": [
    {
     "name": "stdout",
     "output_type": "stream",
     "text": [
      "Processing order 1.\n",
      "Processing count file /home/local_hcchen/ws/deepwalk/example_graphs/blogcatalog.embeddings.walks.1.order-1.npz.\n",
      "Processing count file /home/local_hcchen/ws/deepwalk/example_graphs/blogcatalog.embeddings.walks.12.order-1.npz.\n",
      "Processing count file /home/local_hcchen/ws/deepwalk/example_graphs/blogcatalog.embeddings.walks.11.order-1.npz.\n",
      "Processing count file /home/local_hcchen/ws/deepwalk/example_graphs/blogcatalog.embeddings.walks.8.order-1.npz.\n",
      "Processing count file /home/local_hcchen/ws/deepwalk/example_graphs/blogcatalog.embeddings.walks.2.order-1.npz.\n",
      "Processing count file /home/local_hcchen/ws/deepwalk/example_graphs/blogcatalog.embeddings.walks.7.order-1.npz.\n",
      "Processing count file /home/local_hcchen/ws/deepwalk/example_graphs/blogcatalog.embeddings.walks.9.order-1.npz.\n",
      "Processing count file /home/local_hcchen/ws/deepwalk/example_graphs/blogcatalog.embeddings.walks.4.order-1.npz.\n",
      "Processing count file /home/local_hcchen/ws/deepwalk/example_graphs/blogcatalog.embeddings.walks.15.order-1.npz.\n",
      "Processing count file /home/local_hcchen/ws/deepwalk/example_graphs/blogcatalog.embeddings.walks.5.order-1.npz.\n",
      "Processing count file /home/local_hcchen/ws/deepwalk/example_graphs/blogcatalog.embeddings.walks.0.order-1.npz.\n",
      "Processing count file /home/local_hcchen/ws/deepwalk/example_graphs/blogcatalog.embeddings.walks.6.order-1.npz.\n",
      "Processing count file /home/local_hcchen/ws/deepwalk/example_graphs/blogcatalog.embeddings.walks.13.order-1.npz.\n",
      "Processing count file /home/local_hcchen/ws/deepwalk/example_graphs/blogcatalog.embeddings.walks.3.order-1.npz.\n",
      "Processing count file /home/local_hcchen/ws/deepwalk/example_graphs/blogcatalog.embeddings.walks.14.order-1.npz.\n",
      "Processing count file /home/local_hcchen/ws/deepwalk/example_graphs/blogcatalog.embeddings.walks.10.order-1.npz.\n",
      "Processing order 2.\n",
      "Processing count file /home/local_hcchen/ws/deepwalk/example_graphs/blogcatalog.embeddings.walks.10.order-2.npz.\n",
      "Processing count file /home/local_hcchen/ws/deepwalk/example_graphs/blogcatalog.embeddings.walks.9.order-2.npz.\n",
      "Processing count file /home/local_hcchen/ws/deepwalk/example_graphs/blogcatalog.embeddings.walks.5.order-2.npz.\n",
      "Processing count file /home/local_hcchen/ws/deepwalk/example_graphs/blogcatalog.embeddings.walks.15.order-2.npz.\n",
      "Processing count file /home/local_hcchen/ws/deepwalk/example_graphs/blogcatalog.embeddings.walks.0.order-2.npz.\n",
      "Processing count file /home/local_hcchen/ws/deepwalk/example_graphs/blogcatalog.embeddings.walks.1.order-2.npz.\n",
      "Processing count file /home/local_hcchen/ws/deepwalk/example_graphs/blogcatalog.embeddings.walks.3.order-2.npz.\n",
      "Processing count file /home/local_hcchen/ws/deepwalk/example_graphs/blogcatalog.embeddings.walks.7.order-2.npz.\n",
      "Processing count file /home/local_hcchen/ws/deepwalk/example_graphs/blogcatalog.embeddings.walks.4.order-2.npz.\n",
      "Processing count file /home/local_hcchen/ws/deepwalk/example_graphs/blogcatalog.embeddings.walks.2.order-2.npz.\n",
      "Processing count file /home/local_hcchen/ws/deepwalk/example_graphs/blogcatalog.embeddings.walks.8.order-2.npz.\n",
      "Processing count file /home/local_hcchen/ws/deepwalk/example_graphs/blogcatalog.embeddings.walks.11.order-2.npz.\n",
      "Processing count file /home/local_hcchen/ws/deepwalk/example_graphs/blogcatalog.embeddings.walks.14.order-2.npz.\n",
      "Processing count file /home/local_hcchen/ws/deepwalk/example_graphs/blogcatalog.embeddings.walks.13.order-2.npz.\n",
      "Processing count file /home/local_hcchen/ws/deepwalk/example_graphs/blogcatalog.embeddings.walks.12.order-2.npz.\n",
      "Processing count file /home/local_hcchen/ws/deepwalk/example_graphs/blogcatalog.embeddings.walks.6.order-2.npz.\n",
      "Processing order 3.\n",
      "Processing count file /home/local_hcchen/ws/deepwalk/example_graphs/blogcatalog.embeddings.walks.7.order-3.npz.\n",
      "Processing count file /home/local_hcchen/ws/deepwalk/example_graphs/blogcatalog.embeddings.walks.8.order-3.npz.\n",
      "Processing count file /home/local_hcchen/ws/deepwalk/example_graphs/blogcatalog.embeddings.walks.0.order-3.npz.\n",
      "Processing count file /home/local_hcchen/ws/deepwalk/example_graphs/blogcatalog.embeddings.walks.12.order-3.npz.\n",
      "Processing count file /home/local_hcchen/ws/deepwalk/example_graphs/blogcatalog.embeddings.walks.13.order-3.npz.\n",
      "Processing count file /home/local_hcchen/ws/deepwalk/example_graphs/blogcatalog.embeddings.walks.4.order-3.npz.\n",
      "Processing count file /home/local_hcchen/ws/deepwalk/example_graphs/blogcatalog.embeddings.walks.11.order-3.npz.\n",
      "Processing count file /home/local_hcchen/ws/deepwalk/example_graphs/blogcatalog.embeddings.walks.10.order-3.npz.\n",
      "Processing count file /home/local_hcchen/ws/deepwalk/example_graphs/blogcatalog.embeddings.walks.3.order-3.npz.\n",
      "Processing count file /home/local_hcchen/ws/deepwalk/example_graphs/blogcatalog.embeddings.walks.6.order-3.npz.\n",
      "Processing count file /home/local_hcchen/ws/deepwalk/example_graphs/blogcatalog.embeddings.walks.2.order-3.npz.\n",
      "Processing count file /home/local_hcchen/ws/deepwalk/example_graphs/blogcatalog.embeddings.walks.5.order-3.npz.\n",
      "Processing count file /home/local_hcchen/ws/deepwalk/example_graphs/blogcatalog.embeddings.walks.9.order-3.npz.\n",
      "Processing count file /home/local_hcchen/ws/deepwalk/example_graphs/blogcatalog.embeddings.walks.15.order-3.npz.\n",
      "Processing count file /home/local_hcchen/ws/deepwalk/example_graphs/blogcatalog.embeddings.walks.1.order-3.npz.\n",
      "Processing count file /home/local_hcchen/ws/deepwalk/example_graphs/blogcatalog.embeddings.walks.14.order-3.npz.\n",
      "CPU times: user 3min 51s, sys: 1min 51s, total: 5min 42s\n",
      "Wall time: 3min 46s\n"
     ]
    }
   ],
   "source": [
    "%time approx_M_list = get_approx_matrices('/home/local_hcchen/ws/deepwalk/example_graphs/blogcatalog', 3, N)"
   ]
  },
  {
   "cell_type": "code",
   "execution_count": 75,
   "metadata": {},
   "outputs": [
    {
     "data": {
      "text/plain": [
       "matrix([[0.00000000e+00, 0.00000000e+00, 1.55908949e-04, ...,\n",
       "         1.17905990e-04, 0.00000000e+00, 0.00000000e+00],\n",
       "        [0.00000000e+00, 0.00000000e+00, 0.00000000e+00, ...,\n",
       "         0.00000000e+00, 0.00000000e+00, 0.00000000e+00],\n",
       "        [9.62463908e-05, 0.00000000e+00, 0.00000000e+00, ...,\n",
       "         7.86039931e-05, 0.00000000e+00, 0.00000000e+00],\n",
       "        ...,\n",
       "        [1.44369586e-04, 0.00000000e+00, 1.55908949e-04, ...,\n",
       "         0.00000000e+00, 3.84911470e-04, 0.00000000e+00],\n",
       "        [0.00000000e+00, 0.00000000e+00, 0.00000000e+00, ...,\n",
       "         3.93019965e-05, 0.00000000e+00, 0.00000000e+00],\n",
       "        [0.00000000e+00, 0.00000000e+00, 0.00000000e+00, ...,\n",
       "         0.00000000e+00, 0.00000000e+00, 0.00000000e+00]])"
      ]
     },
     "execution_count": 75,
     "metadata": {},
     "output_type": "execute_result"
    }
   ],
   "source": [
    "approx_M_list[2]"
   ]
  },
  {
   "cell_type": "code",
   "execution_count": 76,
   "metadata": {},
   "outputs": [
    {
     "data": {
      "text/plain": [
       "matrix([[6.72133351e-05, 1.34807226e-04, 9.34276745e-05, ...,\n",
       "         7.89959301e-05, 3.13636934e-05, 0.00000000e+00],\n",
       "        [1.12022225e-05, 0.00000000e+00, 6.22851163e-06, ...,\n",
       "         6.31967441e-06, 0.00000000e+00, 0.00000000e+00],\n",
       "        [5.60111126e-05, 4.49357419e-05, 2.49140465e-05, ...,\n",
       "         9.47951162e-05, 6.27273868e-05, 0.00000000e+00],\n",
       "        ...,\n",
       "        [9.33518543e-05, 8.98714838e-05, 1.86855349e-04, ...,\n",
       "         1.39032837e-04, 1.56818467e-04, 3.64099763e-04],\n",
       "        [3.73407417e-06, 0.00000000e+00, 1.24570233e-05, ...,\n",
       "         1.57991860e-05, 0.00000000e+00, 0.00000000e+00],\n",
       "        [0.00000000e+00, 0.00000000e+00, 0.00000000e+00, ...,\n",
       "         1.26393488e-05, 0.00000000e+00, 7.28199527e-04]])"
      ]
     },
     "execution_count": 76,
     "metadata": {},
     "output_type": "execute_result"
    }
   ],
   "source": [
    "approx_M_list_large[2]"
   ]
  },
  {
   "cell_type": "code",
   "execution_count": 77,
   "metadata": {},
   "outputs": [
    {
     "data": {
      "text/plain": [
       "matrix([[1.02250228e-04, 1.05998914e-04, 9.47405841e-05, ...,\n",
       "         9.61452923e-05, 1.03776074e-04, 1.14272552e-04],\n",
       "        [8.84432638e-05, 5.11748722e-05, 9.52171589e-05, ...,\n",
       "         9.19331008e-05, 3.23180156e-05, 5.70000221e-05],\n",
       "        [9.32400698e-05, 1.12309994e-04, 1.10652255e-04, ...,\n",
       "         8.31216949e-05, 5.47075911e-05, 3.51553259e-05],\n",
       "        ...,\n",
       "        [1.24371428e-04, 1.42528317e-04, 1.09254782e-04, ...,\n",
       "         1.66773730e-04, 1.83882044e-04, 4.29384108e-04],\n",
       "        [1.21168684e-04, 4.52245750e-05, 6.49044113e-05, ...,\n",
       "         1.65973931e-04, 5.09303610e-04, 3.23213705e-04],\n",
       "        [1.59022097e-04, 9.50664388e-05, 4.97095860e-05, ...,\n",
       "         4.61922289e-04, 3.85222958e-04, 1.88236909e-02]])"
      ]
     },
     "execution_count": 77,
     "metadata": {},
     "output_type": "execute_result"
    }
   ],
   "source": [
    "exact_M_list[2]"
   ]
  },
  {
   "cell_type": "markdown",
   "metadata": {},
   "source": [
    "# Exact Computation of $P^k$"
   ]
  },
  {
   "cell_type": "code",
   "execution_count": 6,
   "metadata": {},
   "outputs": [],
   "source": [
    "def get_debug_clipped_matrices(A, q=3):\n",
    "    M_list = []\n",
    "    N = A.shape[0]\n",
    "    normalizer = spdiags(np.squeeze(1.0 / scipy.sparse.csc_matrix.sum(A, axis=1) ), 0, N, N)\n",
    "    trans = normalizer @ A\n",
    "    trans_pow = trans\n",
    "\n",
    "    for i in range(1, q + 1):\n",
    "        print ('Current order: ', i)\n",
    "        _mat = trans_pow / trans_pow.sum(axis=0)\n",
    "        M_list.append(_mat)\n",
    "        # is this going to cause loss of accuracy?\n",
    "        trans_pow = trans @ trans_pow\n",
    "    \n",
    "    return M_list"
   ]
  },
  {
   "cell_type": "code",
   "execution_count": 7,
   "metadata": {},
   "outputs": [
    {
     "name": "stdout",
     "output_type": "stream",
     "text": [
      "Current order:  1\n",
      "Current order:  2\n",
      "Current order:  3\n",
      "Current order:  4\n",
      "Current order:  5\n",
      "Current order:  6\n",
      "CPU times: user 1min 48s, sys: 8.94 s, total: 1min 57s\n",
      "Wall time: 1min 57s\n"
     ]
    }
   ],
   "source": [
    "%time exact_M_list = get_debug_clipped_matrices(blog_A, q=6)"
   ]
  },
  {
   "cell_type": "markdown",
   "metadata": {},
   "source": [
    "# Random Projection"
   ]
  },
  {
   "cell_type": "code",
   "execution_count": 39,
   "metadata": {},
   "outputs": [],
   "source": [
    "max_order = 3"
   ]
  },
  {
   "cell_type": "code",
   "execution_count": 41,
   "metadata": {},
   "outputs": [],
   "source": [
    "# takes in pre-computed clipped transition matrices\n",
    "def randne_projection_bruteforce(M_list, dim=128, projection_method='gaussian'):\n",
    "    assert projection_method == 'gaussian' or projection_method == 'sparse'\n",
    "    \n",
    "    # Gaussian projection matrix\n",
    "    if projection_method == 'gaussian':\n",
    "        transformer = random_projection.GaussianRandomProjection(n_components=dim, random_state=42)\n",
    "    # Sparse projection matrix\n",
    "    else:\n",
    "        transformer = random_projection.SparseRandomProjection(n_components=dim, random_state=42)\n",
    "\n",
    "    U_list = []\n",
    "    \n",
    "    for M in M_list:\n",
    "        cur_U = transformer.fit_transform(M)\n",
    "        U_list.append(cur_U)\n",
    "    return U_list"
   ]
  },
  {
   "cell_type": "code",
   "execution_count": 42,
   "metadata": {},
   "outputs": [],
   "source": [
    "# When weights is None, concatenate instead of linearly combines the embeddings from different powers of A\n",
    "def randne_merge(U_list, weights, normalization=False):\n",
    "    dense_U_list = [_U.todense() for _U in U_list] if type(U_list[0]) == csc_matrix else U_list\n",
    "    _U_list = [normalize(_U, norm='l2', axis=1) for _U in dense_U_list] if normalization else dense_U_list\n",
    "\n",
    "    if weights is None:\n",
    "        return np.concatenate(_U_list, axis=1)\n",
    "    U = np.zeros_like(_U_list[0])\n",
    "    for cur_U, weight in zip(_U_list, weights):\n",
    "        U += cur_U * weight\n",
    "    return U"
   ]
  },
  {
   "cell_type": "code",
   "execution_count": 48,
   "metadata": {},
   "outputs": [],
   "source": [
    "def get_emb_filename(prefix, conf):\n",
    "    return prefix + '-dim=' + str(conf['dim']) + ',projection_method=' + conf['projection_method'] \\\n",
    "        + ',input_matrix=' + conf['input_matrix'] + ',normalization=' + str(conf['normalization']) \\\n",
    "        + ',weights=' + (','.join(map(str, conf['weights'])) if conf['weights'] is not None else 'None') \\\n",
    "        + ',beta=' + (str(conf['beta']) if 'beta' in conf else '') \\\n",
    "        + '.mat'"
   ]
  },
  {
   "cell_type": "code",
   "execution_count": 57,
   "metadata": {},
   "outputs": [],
   "source": [
    "def get_grarep_clipped_matrix(A, beta):\n",
    "    eps = 1e-9\n",
    "    tmp = np.log(A) - np.log(beta) if abs(beta) > eps else np.log(A)\n",
    "    tmp[np.isneginf(tmp)] = 0\n",
    "    return csc_matrix(np.clip(tmp, 0, None) )"
   ]
  },
  {
   "cell_type": "code",
   "execution_count": 49,
   "metadata": {},
   "outputs": [],
   "source": [
    "def get_classification_score(M_list, conf):\n",
    "    emb_filename = get_emb_filename('data/blog-test-', conf)\n",
    "    U_list = randne_projection_bruteforce(M_list,\n",
    "                                          dim=conf['dim'],\n",
    "                                          projection_method=conf['projection_method']\n",
    "            )\n",
    "    U = randne_merge(U_list, conf['weights'], conf['normalization'])\n",
    "    savemat(emb_filename, {'emb': U})\n",
    "    f1_scores = main(\n",
    "        [\"--emb\", emb_filename,\n",
    "          \"--network\",\"blogcatalog/blogcatalog.mat\",\n",
    "          \"--num-shuffles\", \"5\"])\n",
    "    return f1_scores"
   ]
  },
  {
   "cell_type": "markdown",
   "metadata": {},
   "source": [
    "# Classification Performance"
   ]
  },
  {
   "cell_type": "code",
   "execution_count": 58,
   "metadata": {},
   "outputs": [],
   "source": [
    "beta = 1.0 / N\n",
    "exact_clipped_M_list = [get_grarep_clipped_matrix(M, beta) for M in exact_M_list]"
   ]
  },
  {
   "cell_type": "code",
   "execution_count": 83,
   "metadata": {},
   "outputs": [
    {
     "data": {
      "text/plain": [
       "9.69743987587277e-05"
      ]
     },
     "execution_count": 83,
     "metadata": {},
     "output_type": "execute_result"
    }
   ],
   "source": [
    "beta"
   ]
  },
  {
   "cell_type": "code",
   "execution_count": 78,
   "metadata": {},
   "outputs": [],
   "source": [
    "approx_clipped_M_list_large = [get_grarep_clipped_matrix(M, beta) for M in approx_M_list_large]"
   ]
  },
  {
   "cell_type": "code",
   "execution_count": 68,
   "metadata": {},
   "outputs": [],
   "source": [
    "conf = {\n",
    "    'projection_method': 'sparse',\n",
    "    'input_matrix': 'grarep_trans',\n",
    "    'weights': [1.0, 1.0, 1.0],\n",
    "    'normalization': True,\n",
    "    'dim': 512,\n",
    "}"
   ]
  },
  {
   "cell_type": "code",
   "execution_count": 70,
   "metadata": {},
   "outputs": [
    {
     "data": {
      "text/plain": [
       "defaultdict(float,\n",
       "            {'micro': 0.32731473252752374, 'macro': 0.18046044711262538})"
      ]
     },
     "execution_count": 70,
     "metadata": {},
     "output_type": "execute_result"
    }
   ],
   "source": [
    "get_classification_score(exact_M_list[:3], conf)"
   ]
  },
  {
   "cell_type": "code",
   "execution_count": 71,
   "metadata": {},
   "outputs": [
    {
     "name": "stdout",
     "output_type": "stream",
     "text": [
      "CPU times: user 24.5 s, sys: 46.8 s, total: 1min 11s\n",
      "Wall time: 28.6 s\n"
     ]
    },
    {
     "data": {
      "text/plain": [
       "defaultdict(float, {'micro': 0.361645079617954, 'macro': 0.20184524336535392})"
      ]
     },
     "execution_count": 71,
     "metadata": {},
     "output_type": "execute_result"
    }
   ],
   "source": [
    "%time get_classification_score(exact_clipped_M_list[:3], conf)"
   ]
  },
  {
   "cell_type": "code",
   "execution_count": 59,
   "metadata": {},
   "outputs": [
    {
     "name": "stdout",
     "output_type": "stream",
     "text": [
      "CPU times: user 27.4 s, sys: 44 s, total: 1min 11s\n",
      "Wall time: 16.5 s\n"
     ]
    },
    {
     "data": {
      "text/plain": [
       "defaultdict(float, {'micro': 0.3667918437850054, 'macro': 0.2250157153432001})"
      ]
     },
     "execution_count": 59,
     "metadata": {},
     "output_type": "execute_result"
    }
   ],
   "source": [
    "%time get_classification_score(exact_clipped_M_list, conf)"
   ]
  },
  {
   "cell_type": "code",
   "execution_count": 52,
   "metadata": {},
   "outputs": [
    {
     "data": {
      "text/plain": [
       "defaultdict(float,\n",
       "            {'micro': 0.22919203004951366, 'macro': 0.10683710371752282})"
      ]
     },
     "execution_count": 52,
     "metadata": {},
     "output_type": "execute_result"
    }
   ],
   "source": [
    "f1_scores_1 = get_classification_score(approx_M_list, conf)\n",
    "f1_scores_1"
   ]
  },
  {
   "cell_type": "code",
   "execution_count": 60,
   "metadata": {},
   "outputs": [
    {
     "name": "stdout",
     "output_type": "stream",
     "text": [
      "CPU times: user 22.3 s, sys: 45.4 s, total: 1min 7s\n",
      "Wall time: 11.5 s\n"
     ]
    },
    {
     "data": {
      "text/plain": [
       "defaultdict(float, {'micro': 0.2431057314986264, 'macro': 0.11073911991539576})"
      ]
     },
     "execution_count": 60,
     "metadata": {},
     "output_type": "execute_result"
    }
   ],
   "source": [
    "%time get_classification_score(approx_clipped_M_list, conf)"
   ]
  },
  {
   "cell_type": "code",
   "execution_count": 81,
   "metadata": {},
   "outputs": [
    {
     "name": "stdout",
     "output_type": "stream",
     "text": [
      "CPU times: user 25.4 s, sys: 45.5 s, total: 1min 10s\n",
      "Wall time: 15.5 s\n"
     ]
    },
    {
     "data": {
      "text/plain": [
       "defaultdict(float, {'micro': 0.311276348028716, 'macro': 0.1621858568652469})"
      ]
     },
     "execution_count": 81,
     "metadata": {},
     "output_type": "execute_result"
    }
   ],
   "source": [
    "%time get_classification_score(approx_M_list_large, conf)"
   ]
  },
  {
   "cell_type": "code",
   "execution_count": 82,
   "metadata": {},
   "outputs": [
    {
     "name": "stdout",
     "output_type": "stream",
     "text": [
      "CPU times: user 20.5 s, sys: 44.9 s, total: 1min 5s\n",
      "Wall time: 9.75 s\n"
     ]
    },
    {
     "data": {
      "text/plain": [
       "defaultdict(float, {'micro': 0.30332423856713153, 'macro': 0.1582202812481839})"
      ]
     },
     "execution_count": 82,
     "metadata": {},
     "output_type": "execute_result"
    }
   ],
   "source": [
    "%time get_classification_score(approx_clipped_M_list_large, conf)"
   ]
  },
  {
   "cell_type": "code",
   "execution_count": null,
   "metadata": {},
   "outputs": [],
   "source": [
    "INF = 1000\n",
    "\n",
    "df = pd.DataFrame()\n",
    "\n",
    "prefix = 'data/blog'\n",
    "\n",
    "computed_U_list = {}\n",
    "# for conf in [all_conf[21]]:\n",
    "for conf in all_conf[246:]:\n",
    "    # print (conf)\n",
    "    emb_filename = get_emb_filename(prefix, conf)\n",
    "    print (emb_filename)\n",
    "    # first check if this file already exists\n",
    "    path = Path(emb_filename)\n",
    "    if not path.is_file():\n",
    "        U = randne_wrapper(blog_A, conf, computed_U_list)\n",
    "        savemat(emb_filename, {'emb': U})\n",
    "    else:\n",
    "        print ('File %s already exists, skipped.' % emb_filename)\n",
    "    f1_scores = main(\n",
    "        [\"--emb\", emb_filename,\n",
    "          \"--network\",\"blogcatalog/blogcatalog.mat\",\n",
    "          \"--num-shuffles\", \"5\"],\n",
    "        )\n",
    "    # see https://stackoverflow.com/questions/38987/how-to-merge-two-dictionaries-in-a-single-expression\n",
    "    df = df.append(pd.Series({**conf, **f1_scores}), ignore_index=True)\n",
    "    df.to_csv('data/blog-scores.txt', sep='\\t', index=False, header=True)\n",
    "\n",
    "df"
   ]
  }
 ],
 "metadata": {
  "kernelspec": {
   "display_name": "Python 3",
   "language": "python",
   "name": "python3"
  },
  "language_info": {
   "codemirror_mode": {
    "name": "ipython",
    "version": 3
   },
   "file_extension": ".py",
   "mimetype": "text/x-python",
   "name": "python",
   "nbconvert_exporter": "python",
   "pygments_lexer": "ipython3",
   "version": "3.7.1"
  }
 },
 "nbformat": 4,
 "nbformat_minor": 2
}
