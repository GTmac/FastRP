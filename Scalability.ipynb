{
 "cells": [
  {
   "cell_type": "code",
   "execution_count": 1,
   "metadata": {},
   "outputs": [],
   "source": [
    "# Init\n",
    "\n",
    "%matplotlib inline\n",
    "\n",
    "import csv\n",
    "import itertools\n",
    "import math\n",
    "import matplotlib\n",
    "import time\n",
    "import logging\n",
    "import sys\n",
    "import os\n",
    "import random\n",
    "import warnings\n",
    "\n",
    "import gensim\n",
    "\n",
    "import pandas as pd\n",
    "import numpy as np\n",
    "import networkx as nx\n",
    "import matplotlib.pyplot as plt\n",
    "import seaborn as sns\n",
    "\n",
    "from pathlib import Path\n",
    "\n",
    "from tqdm import tqdm_notebook as tqdm\n",
    "from collections import Counter, defaultdict\n",
    "\n",
    "from sklearn import random_projection\n",
    "from sklearn.manifold import TSNE\n",
    "from scipy.sparse import coo_matrix, csr_matrix, csc_matrix, spdiags\n",
    "from scipy.io import loadmat, savemat\n",
    "from sklearn.metrics import f1_score\n",
    "from sklearn.metrics.pairwise import cosine_similarity\n",
    "from sklearn.preprocessing import normalize, MultiLabelBinarizer\n",
    "from gensim.models import KeyedVectors\n",
    "\n",
    "from scoring import scoring\n",
    "from fastrp_exp import *\n",
    "\n",
    "# to ignore sklearn warning\n",
    "def warn(*args, **kwargs):\n",
    "    pass\n",
    "import warnings\n",
    "warnings.warn = warn\n",
    "warnings.filterwarnings(\"ignore\", category=RuntimeWarning) \n",
    "\n",
    "%load_ext autoreload\n",
    "%autoreload 2\n",
    "\n",
    "plt.style.use('ggplot')\n",
    "\n",
    "plt.rcParams['font.size'] = 11\n",
    "plt.rcParams['figure.autolayout'] = True"
   ]
  },
  {
   "cell_type": "markdown",
   "metadata": {},
   "source": [
    "# Generate ER Graphs"
   ]
  },
  {
   "cell_type": "code",
   "execution_count": 4,
   "metadata": {},
   "outputs": [],
   "source": [
    "def gen_er_graph(n, deg):\n",
    "    er_graph = nx.generators.random_graphs.fast_gnp_random_graph(n, 1. * deg / (n - 1))\n",
    "    for i in range(n):\n",
    "        if er_graph.degree(i) == 0:\n",
    "            r = random.randint(0, n - 1)\n",
    "            while r == i:\n",
    "                r = random.randint(0, n - 1)\n",
    "            er_graph.add_edge(i, r)\n",
    "            \n",
    "    return er_graph\n",
    "\n",
    "def nx_graph_to_csr(G):\n",
    "    rows, cols = [], []\n",
    "\n",
    "    for node in G.nodes():\n",
    "        for adj_node in G[node]:\n",
    "            rows.append(node)\n",
    "            cols.append(adj_node)\n",
    "    A = csr_matrix( ([1.0] * len(rows), (rows, cols)), shape=(G.number_of_nodes(), G.number_of_nodes()) )\n",
    "    return A"
   ]
  },
  {
   "cell_type": "code",
   "execution_count": 7,
   "metadata": {},
   "outputs": [],
   "source": [
    "A = nx_graph_to_csr(gen_er_graph(1000, 10) )"
   ]
  },
  {
   "cell_type": "code",
   "execution_count": 8,
   "metadata": {},
   "outputs": [
    {
     "data": {
      "text/plain": [
       "<1000x1000 sparse matrix of type '<class 'numpy.float64'>'\n",
       "\twith 10120 stored elements in Compressed Sparse Row format>"
      ]
     },
     "execution_count": 8,
     "metadata": {},
     "output_type": "execute_result"
    }
   ],
   "source": [
    "A"
   ]
  },
  {
   "cell_type": "code",
   "execution_count": 13,
   "metadata": {},
   "outputs": [],
   "source": [
    "conf = {\n",
    "        'projection_method': 'sparse',\n",
    "        'input_matrix': 'trans',\n",
    "        'weights': [0.0, 0.0, 1.0, 4.836],\n",
    "        'normalization': False,\n",
    "        'dim': 512,\n",
    "        'alpha': -0.6,\n",
    "        'C': 0.1\n",
    "    }"
   ]
  },
  {
   "cell_type": "markdown",
   "metadata": {},
   "source": [
    "The next two cells are only for sanity check (making sure they are both measuring CPU time):"
   ]
  },
  {
   "cell_type": "code",
   "execution_count": 10,
   "metadata": {},
   "outputs": [
    {
     "name": "stdout",
     "output_type": "stream",
     "text": [
      "CPU times: user 90.8 ms, sys: 5.3 ms, total: 96.1 ms\n",
      "Wall time: 65.4 ms\n"
     ]
    }
   ],
   "source": [
    "%%time\n",
    "U = fastrp_wrapper(A, conf)"
   ]
  },
  {
   "cell_type": "code",
   "execution_count": 11,
   "metadata": {},
   "outputs": [
    {
     "name": "stdout",
     "output_type": "stream",
     "text": [
      "0.05760140800000002\n"
     ]
    }
   ],
   "source": [
    "before = time.process_time()\n",
    "U = fastrp_wrapper(A, conf)\n",
    "after = time.process_time()\n",
    "print (after - before)"
   ]
  },
  {
   "cell_type": "markdown",
   "metadata": {},
   "source": [
    "# Run FastRP"
   ]
  },
  {
   "cell_type": "markdown",
   "metadata": {},
   "source": [
    "## Change n"
   ]
  },
  {
   "cell_type": "code",
   "execution_count": 14,
   "metadata": {},
   "outputs": [
    {
     "name": "stdout",
     "output_type": "stream",
     "text": [
      "100000\n",
      "36.188140492\n",
      "200000\n",
      "47.897716325999994\n",
      "300000\n",
      "63.641572836999984\n",
      "400000\n",
      "75.45048314499996\n",
      "500000\n",
      "86.66139583199998\n",
      "600000\n",
      "96.75731120500001\n",
      "700000\n",
      "103.63986084999999\n",
      "800000\n",
      "116.640068165\n",
      "900000\n",
      "122.29481019299988\n",
      "1000000\n",
      "130.40500873399992\n"
     ]
    }
   ],
   "source": [
    "n_time_map = {}\n",
    "m = 10**7\n",
    "for n in range(10**5, 10**6+1, 10**5):\n",
    "    print (n)\n",
    "    A = nx_graph_to_csr(gen_er_graph(n, m / n) )\n",
    "    before = time.process_time()\n",
    "    U = fastrp_wrapper(A, conf)\n",
    "    after = time.process_time()\n",
    "    print (after - before)\n",
    "    n_time_map[n] = after - before"
   ]
  },
  {
   "cell_type": "code",
   "execution_count": 2,
   "metadata": {},
   "outputs": [],
   "source": [
    "import matplotlib.ticker as ticker"
   ]
  },
  {
   "cell_type": "code",
   "execution_count": 44,
   "metadata": {},
   "outputs": [
    {
     "data": {
      "image/png": "[encoded data removed]",
      "text/plain": [
       "<Figure size 432x288 with 1 Axes>"
      ]
     },
     "metadata": {},
     "output_type": "display_data"
    }
   ],
   "source": [
    "metric = r'Running Time(s)$'\n",
    "p = pd.DataFrame(n_time_map, index=[metric]).transpose()\n",
    "\n",
    "fig = plt.figure(figsize=(6,4))\n",
    "ax = fig.add_subplot(111)\n",
    "\n",
    "ax.plot(p.index, p[metric], linewidth=1.5)\n",
    "ax.scatter(x=p.index, y=p[metric], s=30)\n",
    "ax.ticklabel_format(style='sci', axis='x', scilimits=(5,5), useMathText=True)\n",
    "ax.xaxis.set_major_locator(ticker.MultipleLocator(100000))\n",
    "\n",
    "ax.set_xlabel('Number of Nodes')\n",
    "ax.set_ylabel('Running Time (s)')\n",
    "fig.savefig('figures/run_time_n.pdf')\n",
    "\n",
    "# fig.savefig('../paper/Figures/run_time_er_dw.pdf')"
   ]
  },
  {
   "cell_type": "markdown",
   "metadata": {},
   "source": [
    "# Change m"
   ]
  },
  {
   "cell_type": "code",
   "execution_count": null,
   "metadata": {},
   "outputs": [
    {
     "name": "stdout",
     "output_type": "stream",
     "text": [
      "10000000\n",
      "130.77612258199997\n",
      "20000000\n",
      "159.78609798499997\n",
      "30000000\n",
      "180.13797692999992\n",
      "40000000\n",
      "202.06579397799987\n",
      "50000000\n"
     ]
    }
   ],
   "source": [
    "m_time_map = {}\n",
    "m = 10**6\n",
    "for m in range(10**7, 10**8+1, 10**7):\n",
    "    print (m)\n",
    "    A = nx_graph_to_csr(gen_er_graph(n, m / n) )\n",
    "    before = time.process_time()\n",
    "    U = fastrp_wrapper(A, conf)\n",
    "    after = time.process_time()\n",
    "    print (after - before)\n",
    "    m_time_map[m] = after - before"
   ]
  },
  {
   "cell_type": "code",
   "execution_count": 17,
   "metadata": {},
   "outputs": [
    {
     "data": {
      "text/plain": [
       "{10000000: 130.77612258199997,\n",
       " 20000000: 159.78609798499997,\n",
       " 30000000: 180.13797692999992,\n",
       " 40000000: 202.06579397799987,\n",
       " 50000000: 227.0333807269999,\n",
       " 60000000: 246.30138820899992,\n",
       " 70000000: 268.5734591219998,\n",
       " 80000000: 289.7249463469998,\n",
       " 90000000: 320.8279620430003,\n",
       " 100000000: 334.02417479199994}"
      ]
     },
     "execution_count": 17,
     "metadata": {},
     "output_type": "execute_result"
    }
   ],
   "source": [
    "m_time_map"
   ]
  },
  {
   "cell_type": "code",
   "execution_count": 4,
   "metadata": {},
   "outputs": [],
   "source": [
    "m_time_map = {10000000: 130.77612258199997,\n",
    " 20000000: 159.78609798499997,\n",
    " 30000000: 180.13797692999992,\n",
    " 40000000: 202.06579397799987,\n",
    " 50000000: 227.0333807269999,\n",
    " 60000000: 246.30138820899992,\n",
    " 70000000: 268.5734591219998,\n",
    " 80000000: 289.7249463469998,\n",
    " 90000000: 320.8279620430003,\n",
    " 100000000: 334.02417479199994}"
   ]
  },
  {
   "cell_type": "code",
   "execution_count": 10,
   "metadata": {},
   "outputs": [
    {
     "data": {
      "image/png": "[encoded data removed]",
      "text/plain": [
       "<Figure size 432x288 with 1 Axes>"
      ]
     },
     "metadata": {
      "needs_background": "light"
     },
     "output_type": "display_data"
    }
   ],
   "source": [
    "metric = r'Running Time(s)$'\n",
    "p = pd.DataFrame(m_time_map, index=[metric]).transpose()\n",
    "\n",
    "fig = plt.figure(figsize=(6,4))\n",
    "ax = fig.add_subplot(111)\n",
    "\n",
    "ax.plot(p.index, p[metric], linewidth=1.5)\n",
    "ax.scatter(x=p.index, y=p[metric], s=30)\n",
    "ax.ticklabel_format(style='sci', axis='x', scilimits=(7,7), useMathText=True)\n",
    "ax.xaxis.set_major_locator(ticker.MultipleLocator(10000000))\n",
    "\n",
    "ax.set_xlabel('Number of Edges')\n",
    "ax.set_ylabel('Running Time (s)')\n",
    "fig.savefig('figures/run_time_m.pdf')\n",
    "\n",
    "# fig.savefig('../paper/Figures/run_time_er_dw.pdf')"
   ]
  }
 ],
 "metadata": {
  "kernelspec": {
   "display_name": "Python 3",
   "language": "python",
   "name": "python3"
  },
  "language_info": {
   "codemirror_mode": {
    "name": "ipython",
    "version": 3
   },
   "file_extension": ".py",
   "mimetype": "text/x-python",
   "name": "python",
   "nbconvert_exporter": "python",
   "pygments_lexer": "ipython3",
   "version": "3.7.1"
  }
 },
 "nbformat": 4,
 "nbformat_minor": 2
}
