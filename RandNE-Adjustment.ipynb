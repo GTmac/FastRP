{
 "cells": [
  {
   "cell_type": "markdown",
   "metadata": {},
   "source": [
    "# Init"
   ]
  },
  {
   "cell_type": "code",
   "execution_count": 35,
   "metadata": {},
   "outputs": [],
   "source": [
    "%matplotlib inline\n",
    "\n",
    "import csv\n",
    "import datetime\n",
    "import json\n",
    "import math\n",
    "import matplotlib\n",
    "import time\n",
    "import logging\n",
    "import sys\n",
    "import sqlite3\n",
    "import os\n",
    "import random\n",
    "import warnings\n",
    "\n",
    "import gensim\n",
    "\n",
    "import pandas as pd\n",
    "import numpy as np\n",
    "import networkx as nx\n",
    "import matplotlib.pyplot as plt\n",
    "import seaborn as sns\n",
    "\n",
    "from tqdm import tqdm_notebook as tqdm\n",
    "from collections import Counter, defaultdict\n",
    "\n",
    "from sklearn.manifold import TSNE\n",
    "from scipy.sparse import coo_matrix, csr_matrix, spdiags\n",
    "from scipy.io import loadmat, savemat\n",
    "from sklearn.metrics import f1_score\n",
    "from sklearn.metrics.pairwise import cosine_similarity\n",
    "from sklearn.preprocessing import normalize, MultiLabelBinarizer"
   ]
  },
  {
   "cell_type": "code",
   "execution_count": 2,
   "metadata": {},
   "outputs": [],
   "source": [
    "import scipy.sparse"
   ]
  },
  {
   "cell_type": "code",
   "execution_count": 3,
   "metadata": {},
   "outputs": [],
   "source": [
    "from scoring import main"
   ]
  },
  {
   "cell_type": "code",
   "execution_count": 4,
   "metadata": {},
   "outputs": [],
   "source": [
    "from sklearn import random_projection"
   ]
  },
  {
   "cell_type": "code",
   "execution_count": 5,
   "metadata": {},
   "outputs": [],
   "source": [
    "%load_ext autoreload\n",
    "%autoreload 2"
   ]
  },
  {
   "cell_type": "markdown",
   "metadata": {},
   "source": [
    "# Load Data"
   ]
  },
  {
   "cell_type": "markdown",
   "metadata": {},
   "source": [
    "## Blogcatalog"
   ]
  },
  {
   "cell_type": "code",
   "execution_count": 6,
   "metadata": {},
   "outputs": [],
   "source": [
    "blogcatalog = loadmat('blogcatalog/blogcatalog.mat')"
   ]
  },
  {
   "cell_type": "code",
   "execution_count": 43,
   "metadata": {},
   "outputs": [],
   "source": [
    "blog_labels = blogcatalog['group']"
   ]
  },
  {
   "cell_type": "code",
   "execution_count": 7,
   "metadata": {},
   "outputs": [],
   "source": [
    "blog_A = blogcatalog['network']"
   ]
  },
  {
   "cell_type": "code",
   "execution_count": 8,
   "metadata": {
    "scrolled": true
   },
   "outputs": [
    {
     "data": {
      "text/plain": [
       "<10312x10312 sparse matrix of type '<class 'numpy.float64'>'\n",
       "\twith 667966 stored elements in Compressed Sparse Column format>"
      ]
     },
     "execution_count": 8,
     "metadata": {},
     "output_type": "execute_result"
    }
   ],
   "source": [
    "blog_A"
   ]
  },
  {
   "cell_type": "code",
   "execution_count": 9,
   "metadata": {},
   "outputs": [],
   "source": [
    "N = blog_A.shape[0]"
   ]
  },
  {
   "cell_type": "markdown",
   "metadata": {},
   "source": [
    "Obtain its transition matrix:"
   ]
  },
  {
   "cell_type": "code",
   "execution_count": 10,
   "metadata": {},
   "outputs": [],
   "source": [
    "normalizer = spdiags(np.squeeze(1.0 / scipy.sparse.csc_matrix.sum(blog_A, axis=1) ), 0, N, N)"
   ]
  },
  {
   "cell_type": "code",
   "execution_count": 11,
   "metadata": {},
   "outputs": [],
   "source": [
    "blog_trans = normalizer @ blog_A"
   ]
  },
  {
   "cell_type": "markdown",
   "metadata": {},
   "source": [
    "# Degree Distribution"
   ]
  },
  {
   "cell_type": "markdown",
   "metadata": {},
   "source": [
    "Write the graph to a file as adjacency list:"
   ]
  },
  {
   "cell_type": "code",
   "execution_count": 12,
   "metadata": {},
   "outputs": [],
   "source": [
    "def sparse2graph(x):\n",
    "    G = defaultdict(lambda: set())\n",
    "    cx = x.tocoo()\n",
    "    for i, j, v in zip(cx.row, cx.col, cx.data):\n",
    "        G[i].add(j)\n",
    "    \n",
    "    lines = []\n",
    "    for k, v in G.items():\n",
    "        s = str(k) + ' ' + ' '.join(map(str, v))\n",
    "        lines.append(s)\n",
    "    return lines"
   ]
  },
  {
   "cell_type": "code",
   "execution_count": 13,
   "metadata": {},
   "outputs": [],
   "source": [
    "G = nx.parse_adjlist(sparse2graph(blog_A))"
   ]
  },
  {
   "cell_type": "markdown",
   "metadata": {},
   "source": [
    "Plot degree distribution:"
   ]
  },
  {
   "cell_type": "code",
   "execution_count": 15,
   "metadata": {},
   "outputs": [
    {
     "data": {
      "image/png": "[encoded data removed]",
      "text/plain": [
       "<Figure size 432x288 with 1 Axes>"
      ]
     },
     "metadata": {},
     "output_type": "display_data"
    }
   ],
   "source": [
    "degree_sequence = sorted([d for n, d in G.degree()], reverse=True)  # degree sequence\n",
    "# print \"Degree sequence\", degree_sequence\n",
    "degreeCount = Counter(degree_sequence)\n",
    "deg, cnt = zip(*degreeCount.items())\n",
    "\n",
    "fig, ax = plt.subplots()\n",
    "plt.bar(deg, cnt, width=0.80, color='b')\n",
    "\n",
    "plt.title(\"Degree Histogram\")\n",
    "plt.ylabel(\"Count\")\n",
    "plt.xlabel(\"Degree\")\n",
    "ax.set_xticks([d + 0.4 for d in deg])\n",
    "ax.set_xticklabels(deg)\n",
    "\n",
    "plt.show()"
   ]
  },
  {
   "cell_type": "code",
   "execution_count": 16,
   "metadata": {
    "collapsed": true
   },
   "outputs": [
    {
     "data": {
      "text/plain": [
       "Counter({1: 270,\n",
       "         2: 373,\n",
       "         3: 352,\n",
       "         4: 371,\n",
       "         5: 368,\n",
       "         6: 354,\n",
       "         7: 287,\n",
       "         8: 322,\n",
       "         9: 310,\n",
       "         10: 277,\n",
       "         11: 228,\n",
       "         12: 219,\n",
       "         13: 225,\n",
       "         14: 195,\n",
       "         15: 199,\n",
       "         16: 193,\n",
       "         17: 145,\n",
       "         18: 143,\n",
       "         19: 137,\n",
       "         20: 144,\n",
       "         21: 131,\n",
       "         22: 136,\n",
       "         23: 115,\n",
       "         24: 108,\n",
       "         25: 114,\n",
       "         26: 93,\n",
       "         27: 121,\n",
       "         28: 80,\n",
       "         29: 93,\n",
       "         30: 89,\n",
       "         31: 87,\n",
       "         32: 90,\n",
       "         33: 94,\n",
       "         34: 68,\n",
       "         35: 75,\n",
       "         36: 62,\n",
       "         37: 59,\n",
       "         38: 75,\n",
       "         39: 71,\n",
       "         40: 59,\n",
       "         41: 58,\n",
       "         42: 66,\n",
       "         43: 60,\n",
       "         44: 54,\n",
       "         45: 61,\n",
       "         46: 46,\n",
       "         47: 71,\n",
       "         48: 49,\n",
       "         49: 43,\n",
       "         50: 48,\n",
       "         51: 54,\n",
       "         52: 42,\n",
       "         53: 43,\n",
       "         54: 43,\n",
       "         55: 41,\n",
       "         56: 34,\n",
       "         57: 41,\n",
       "         58: 37,\n",
       "         59: 38,\n",
       "         60: 39,\n",
       "         61: 36,\n",
       "         62: 31,\n",
       "         63: 48,\n",
       "         64: 31,\n",
       "         65: 32,\n",
       "         66: 29,\n",
       "         67: 32,\n",
       "         68: 22,\n",
       "         69: 25,\n",
       "         70: 27,\n",
       "         71: 36,\n",
       "         72: 27,\n",
       "         73: 26,\n",
       "         74: 26,\n",
       "         75: 19,\n",
       "         76: 18,\n",
       "         77: 24,\n",
       "         78: 22,\n",
       "         79: 27,\n",
       "         80: 27,\n",
       "         81: 24,\n",
       "         82: 30,\n",
       "         83: 15,\n",
       "         84: 24,\n",
       "         85: 20,\n",
       "         86: 19,\n",
       "         87: 22,\n",
       "         88: 10,\n",
       "         89: 17,\n",
       "         90: 21,\n",
       "         91: 27,\n",
       "         92: 18,\n",
       "         93: 16,\n",
       "         94: 17,\n",
       "         95: 22,\n",
       "         96: 15,\n",
       "         97: 17,\n",
       "         98: 16,\n",
       "         99: 26,\n",
       "         100: 22,\n",
       "         101: 18,\n",
       "         102: 13,\n",
       "         103: 22,\n",
       "         104: 16,\n",
       "         105: 15,\n",
       "         106: 14,\n",
       "         107: 19,\n",
       "         108: 14,\n",
       "         109: 14,\n",
       "         110: 13,\n",
       "         111: 11,\n",
       "         112: 7,\n",
       "         113: 10,\n",
       "         114: 11,\n",
       "         115: 24,\n",
       "         116: 11,\n",
       "         117: 12,\n",
       "         118: 5,\n",
       "         119: 12,\n",
       "         120: 13,\n",
       "         121: 7,\n",
       "         122: 10,\n",
       "         123: 9,\n",
       "         124: 10,\n",
       "         125: 12,\n",
       "         126: 13,\n",
       "         127: 4,\n",
       "         128: 12,\n",
       "         129: 8,\n",
       "         130: 11,\n",
       "         131: 10,\n",
       "         132: 5,\n",
       "         133: 12,\n",
       "         134: 12,\n",
       "         135: 7,\n",
       "         136: 11,\n",
       "         137: 10,\n",
       "         138: 5,\n",
       "         139: 6,\n",
       "         140: 9,\n",
       "         141: 5,\n",
       "         142: 6,\n",
       "         143: 8,\n",
       "         144: 9,\n",
       "         145: 4,\n",
       "         146: 10,\n",
       "         147: 4,\n",
       "         148: 9,\n",
       "         149: 4,\n",
       "         150: 7,\n",
       "         151: 3,\n",
       "         152: 8,\n",
       "         153: 7,\n",
       "         154: 5,\n",
       "         155: 6,\n",
       "         156: 6,\n",
       "         157: 7,\n",
       "         158: 4,\n",
       "         159: 10,\n",
       "         160: 5,\n",
       "         161: 5,\n",
       "         162: 4,\n",
       "         163: 5,\n",
       "         164: 5,\n",
       "         165: 7,\n",
       "         166: 8,\n",
       "         167: 4,\n",
       "         168: 7,\n",
       "         169: 9,\n",
       "         170: 10,\n",
       "         171: 8,\n",
       "         172: 10,\n",
       "         173: 9,\n",
       "         174: 5,\n",
       "         175: 6,\n",
       "         176: 3,\n",
       "         177: 4,\n",
       "         178: 4,\n",
       "         179: 2,\n",
       "         180: 7,\n",
       "         181: 4,\n",
       "         182: 4,\n",
       "         183: 8,\n",
       "         184: 5,\n",
       "         185: 7,\n",
       "         186: 2,\n",
       "         187: 10,\n",
       "         188: 5,\n",
       "         189: 3,\n",
       "         190: 4,\n",
       "         191: 6,\n",
       "         192: 4,\n",
       "         193: 4,\n",
       "         194: 8,\n",
       "         195: 2,\n",
       "         196: 4,\n",
       "         197: 4,\n",
       "         198: 4,\n",
       "         199: 6,\n",
       "         200: 2,\n",
       "         201: 9,\n",
       "         202: 5,\n",
       "         203: 3,\n",
       "         204: 5,\n",
       "         205: 4,\n",
       "         206: 3,\n",
       "         207: 6,\n",
       "         208: 2,\n",
       "         209: 1,\n",
       "         210: 2,\n",
       "         212: 4,\n",
       "         213: 2,\n",
       "         214: 5,\n",
       "         215: 4,\n",
       "         216: 7,\n",
       "         217: 1,\n",
       "         218: 6,\n",
       "         219: 3,\n",
       "         220: 3,\n",
       "         221: 4,\n",
       "         222: 3,\n",
       "         223: 6,\n",
       "         224: 3,\n",
       "         225: 1,\n",
       "         226: 4,\n",
       "         227: 2,\n",
       "         228: 1,\n",
       "         229: 3,\n",
       "         230: 5,\n",
       "         231: 3,\n",
       "         233: 3,\n",
       "         234: 6,\n",
       "         235: 1,\n",
       "         236: 5,\n",
       "         237: 2,\n",
       "         238: 2,\n",
       "         239: 3,\n",
       "         240: 1,\n",
       "         242: 1,\n",
       "         243: 4,\n",
       "         244: 2,\n",
       "         245: 1,\n",
       "         246: 5,\n",
       "         247: 1,\n",
       "         248: 4,\n",
       "         249: 3,\n",
       "         250: 3,\n",
       "         251: 1,\n",
       "         253: 3,\n",
       "         254: 5,\n",
       "         255: 1,\n",
       "         256: 4,\n",
       "         257: 4,\n",
       "         258: 2,\n",
       "         259: 2,\n",
       "         261: 2,\n",
       "         262: 3,\n",
       "         263: 3,\n",
       "         264: 7,\n",
       "         265: 2,\n",
       "         266: 1,\n",
       "         268: 3,\n",
       "         269: 5,\n",
       "         270: 2,\n",
       "         271: 3,\n",
       "         272: 2,\n",
       "         273: 1,\n",
       "         274: 2,\n",
       "         275: 2,\n",
       "         276: 5,\n",
       "         277: 3,\n",
       "         278: 1,\n",
       "         280: 2,\n",
       "         281: 2,\n",
       "         282: 2,\n",
       "         283: 1,\n",
       "         284: 2,\n",
       "         285: 3,\n",
       "         287: 2,\n",
       "         289: 1,\n",
       "         290: 4,\n",
       "         291: 1,\n",
       "         292: 4,\n",
       "         293: 1,\n",
       "         294: 4,\n",
       "         295: 2,\n",
       "         297: 3,\n",
       "         298: 4,\n",
       "         299: 1,\n",
       "         300: 1,\n",
       "         301: 2,\n",
       "         302: 2,\n",
       "         303: 3,\n",
       "         304: 2,\n",
       "         305: 2,\n",
       "         307: 3,\n",
       "         308: 3,\n",
       "         309: 1,\n",
       "         310: 1,\n",
       "         311: 4,\n",
       "         313: 2,\n",
       "         314: 4,\n",
       "         315: 3,\n",
       "         316: 3,\n",
       "         317: 2,\n",
       "         318: 2,\n",
       "         319: 2,\n",
       "         320: 2,\n",
       "         321: 1,\n",
       "         322: 2,\n",
       "         323: 1,\n",
       "         326: 1,\n",
       "         327: 2,\n",
       "         328: 1,\n",
       "         330: 1,\n",
       "         331: 2,\n",
       "         332: 1,\n",
       "         333: 1,\n",
       "         334: 5,\n",
       "         335: 1,\n",
       "         336: 1,\n",
       "         337: 2,\n",
       "         338: 2,\n",
       "         339: 1,\n",
       "         340: 4,\n",
       "         342: 1,\n",
       "         343: 3,\n",
       "         344: 2,\n",
       "         345: 1,\n",
       "         347: 1,\n",
       "         348: 1,\n",
       "         350: 1,\n",
       "         351: 1,\n",
       "         352: 1,\n",
       "         353: 2,\n",
       "         354: 1,\n",
       "         355: 2,\n",
       "         356: 2,\n",
       "         359: 2,\n",
       "         360: 2,\n",
       "         361: 1,\n",
       "         362: 2,\n",
       "         363: 2,\n",
       "         368: 1,\n",
       "         369: 2,\n",
       "         370: 3,\n",
       "         371: 3,\n",
       "         372: 1,\n",
       "         373: 1,\n",
       "         374: 2,\n",
       "         375: 3,\n",
       "         376: 2,\n",
       "         379: 1,\n",
       "         380: 3,\n",
       "         381: 2,\n",
       "         382: 1,\n",
       "         384: 1,\n",
       "         385: 1,\n",
       "         388: 2,\n",
       "         390: 2,\n",
       "         392: 1,\n",
       "         393: 1,\n",
       "         394: 1,\n",
       "         396: 1,\n",
       "         397: 1,\n",
       "         400: 1,\n",
       "         401: 1,\n",
       "         402: 2,\n",
       "         403: 1,\n",
       "         404: 2,\n",
       "         406: 1,\n",
       "         407: 2,\n",
       "         409: 1,\n",
       "         412: 1,\n",
       "         413: 2,\n",
       "         415: 2,\n",
       "         416: 1,\n",
       "         420: 1,\n",
       "         421: 1,\n",
       "         423: 2,\n",
       "         425: 1,\n",
       "         426: 2,\n",
       "         427: 1,\n",
       "         428: 1,\n",
       "         429: 3,\n",
       "         431: 1,\n",
       "         433: 1,\n",
       "         434: 1,\n",
       "         436: 1,\n",
       "         438: 2,\n",
       "         439: 1,\n",
       "         440: 1,\n",
       "         442: 1,\n",
       "         443: 3,\n",
       "         444: 2,\n",
       "         446: 2,\n",
       "         450: 1,\n",
       "         453: 1,\n",
       "         454: 1,\n",
       "         458: 1,\n",
       "         460: 1,\n",
       "         464: 1,\n",
       "         465: 2,\n",
       "         467: 1,\n",
       "         471: 1,\n",
       "         477: 3,\n",
       "         478: 1,\n",
       "         485: 1,\n",
       "         486: 1,\n",
       "         491: 3,\n",
       "         492: 1,\n",
       "         493: 1,\n",
       "         499: 1,\n",
       "         500: 2,\n",
       "         506: 1,\n",
       "         508: 1,\n",
       "         512: 1,\n",
       "         515: 1,\n",
       "         519: 1,\n",
       "         520: 1,\n",
       "         524: 1,\n",
       "         527: 1,\n",
       "         529: 1,\n",
       "         532: 1,\n",
       "         538: 2,\n",
       "         540: 2,\n",
       "         542: 1,\n",
       "         543: 1,\n",
       "         549: 1,\n",
       "         553: 2,\n",
       "         554: 1,\n",
       "         556: 1,\n",
       "         557: 1,\n",
       "         560: 1,\n",
       "         564: 2,\n",
       "         566: 1,\n",
       "         575: 3,\n",
       "         578: 1,\n",
       "         581: 1,\n",
       "         584: 1,\n",
       "         585: 1,\n",
       "         586: 1,\n",
       "         588: 1,\n",
       "         590: 1,\n",
       "         595: 1,\n",
       "         596: 1,\n",
       "         597: 1,\n",
       "         598: 1,\n",
       "         599: 2,\n",
       "         602: 1,\n",
       "         603: 1,\n",
       "         608: 1,\n",
       "         612: 1,\n",
       "         613: 1,\n",
       "         614: 1,\n",
       "         617: 1,\n",
       "         622: 1,\n",
       "         627: 2,\n",
       "         634: 2,\n",
       "         636: 1,\n",
       "         638: 1,\n",
       "         639: 1,\n",
       "         642: 1,\n",
       "         644: 1,\n",
       "         645: 1,\n",
       "         649: 1,\n",
       "         654: 1,\n",
       "         656: 1,\n",
       "         661: 1,\n",
       "         664: 1,\n",
       "         666: 1,\n",
       "         669: 1,\n",
       "         672: 1,\n",
       "         680: 1,\n",
       "         683: 1,\n",
       "         690: 1,\n",
       "         695: 1,\n",
       "         701: 1,\n",
       "         719: 1,\n",
       "         721: 1,\n",
       "         731: 1,\n",
       "         734: 1,\n",
       "         735: 1,\n",
       "         741: 1,\n",
       "         742: 1,\n",
       "         754: 1,\n",
       "         757: 2,\n",
       "         759: 1,\n",
       "         782: 1,\n",
       "         786: 1,\n",
       "         789: 1,\n",
       "         796: 1,\n",
       "         812: 1,\n",
       "         822: 1,\n",
       "         853: 1,\n",
       "         859: 1,\n",
       "         863: 1,\n",
       "         869: 1,\n",
       "         870: 3,\n",
       "         873: 2,\n",
       "         876: 1,\n",
       "         886: 1,\n",
       "         901: 1,\n",
       "         916: 1,\n",
       "         920: 1,\n",
       "         924: 1,\n",
       "         930: 1,\n",
       "         943: 1,\n",
       "         947: 1,\n",
       "         958: 1,\n",
       "         963: 1,\n",
       "         970: 1,\n",
       "         977: 1,\n",
       "         986: 1,\n",
       "         991: 1,\n",
       "         1021: 1,\n",
       "         1040: 1,\n",
       "         1055: 1,\n",
       "         1066: 1,\n",
       "         1068: 1,\n",
       "         1120: 1,\n",
       "         1135: 1,\n",
       "         1179: 1,\n",
       "         1192: 1,\n",
       "         1197: 1,\n",
       "         1199: 1,\n",
       "         1233: 1,\n",
       "         1244: 1,\n",
       "         1255: 1,\n",
       "         1269: 1,\n",
       "         1280: 1,\n",
       "         1298: 1,\n",
       "         1324: 1,\n",
       "         1353: 1,\n",
       "         1384: 1,\n",
       "         1389: 1,\n",
       "         1415: 1,\n",
       "         1417: 1,\n",
       "         1464: 1,\n",
       "         1473: 1,\n",
       "         1549: 1,\n",
       "         1556: 1,\n",
       "         1579: 2,\n",
       "         1636: 1,\n",
       "         1677: 1,\n",
       "         1692: 1,\n",
       "         1715: 1,\n",
       "         1766: 1,\n",
       "         1770: 1,\n",
       "         1826: 1,\n",
       "         1836: 1,\n",
       "         1858: 1,\n",
       "         1905: 1,\n",
       "         1941: 1,\n",
       "         2032: 1,\n",
       "         2125: 1,\n",
       "         2127: 1,\n",
       "         2195: 1,\n",
       "         2206: 1,\n",
       "         2207: 1,\n",
       "         2275: 1,\n",
       "         2277: 1,\n",
       "         2376: 1,\n",
       "         2504: 1,\n",
       "         2524: 1,\n",
       "         2535: 1,\n",
       "         2542: 1,\n",
       "         2556: 1,\n",
       "         2592: 1,\n",
       "         2624: 1,\n",
       "         2706: 1,\n",
       "         2780: 1,\n",
       "         2976: 1,\n",
       "         3449: 1,\n",
       "         3925: 1,\n",
       "         3992: 1})"
      ]
     },
     "execution_count": 16,
     "metadata": {},
     "output_type": "execute_result"
    }
   ],
   "source": [
    "degreeCount"
   ]
  },
  {
   "cell_type": "markdown",
   "metadata": {},
   "source": [
    "# Random Projection"
   ]
  },
  {
   "cell_type": "markdown",
   "metadata": {},
   "source": [
    "Iterative computing:"
   ]
  },
  {
   "cell_type": "code",
   "execution_count": 17,
   "metadata": {},
   "outputs": [],
   "source": [
    "def randne_projection(A, q=3, dim=128):\n",
    "    transformer = random_projection.GaussianRandomProjection(n_components=dim, random_state=42)\n",
    "    # Random projection for A\n",
    "    cur_U = transformer.fit_transform(A)\n",
    "    U_list = [cur_U]\n",
    "    \n",
    "    for i in range(2, q + 1):\n",
    "        cur_U = A @ cur_U\n",
    "        U_list.append(cur_U)\n",
    "    return U_list"
   ]
  },
  {
   "cell_type": "markdown",
   "metadata": {},
   "source": [
    "# Merge Embeddings"
   ]
  },
  {
   "cell_type": "markdown",
   "metadata": {},
   "source": [
    "Merge embeddings (projections) from different powers of $A$ together:"
   ]
  },
  {
   "cell_type": "code",
   "execution_count": 18,
   "metadata": {},
   "outputs": [],
   "source": [
    "def randne_merge(U_list, weights):\n",
    "    U = np.zeros_like(U_list[0])\n",
    "    for cur_U, weight in zip(U_list, weights):\n",
    "        U += cur_U * weight\n",
    "    return U"
   ]
  },
  {
   "cell_type": "markdown",
   "metadata": {},
   "source": [
    "# Node Classification on Blogcatalog"
   ]
  },
  {
   "cell_type": "markdown",
   "metadata": {},
   "source": [
    "Learn embeddings with the recommended configuration (trans matrix + recommended weights):"
   ]
  },
  {
   "cell_type": "code",
   "execution_count": 19,
   "metadata": {},
   "outputs": [
    {
     "name": "stdout",
     "output_type": "stream",
     "text": [
      "CPU times: user 238 ms, sys: 52.2 ms, total: 290 ms\n",
      "Wall time: 290 ms\n"
     ]
    }
   ],
   "source": [
    "%%time\n",
    "weights = list(map(lambda x: 0.01 * x, [1e2, 1e4, 1e5]))\n",
    "U_list_fast = randne_projection(blog_trans, q=3, dim=128)\n",
    "U_fast = randne_merge(U_list_fast, weights)"
   ]
  },
  {
   "cell_type": "code",
   "execution_count": 20,
   "metadata": {},
   "outputs": [
    {
     "data": {
      "text/plain": [
       "array([[-0.48844904,  0.20275235, -0.4192839 , ..., -1.11367325,\n",
       "        -4.4354135 , -1.8893595 ],\n",
       "       [-1.52668501,  3.5871983 ,  0.85047499, ..., -1.22756421,\n",
       "        -4.41966455, -1.55155192],\n",
       "       [-0.44574345,  0.4061968 , -0.65713982, ..., -0.58740916,\n",
       "        -4.95153347, -1.93410333],\n",
       "       ...,\n",
       "       [-1.41488359,  0.69459542, -1.08402925, ..., -1.40729178,\n",
       "        -5.16958445, -2.06114091],\n",
       "       [-2.5628838 ,  1.10293738, -2.63083881, ..., -0.99083508,\n",
       "        -7.72526503, -1.04238015],\n",
       "       [-3.67204472,  0.33042499,  4.1620681 , ..., -4.04393533,\n",
       "        -9.70169837, -4.83837598]])"
      ]
     },
     "execution_count": 20,
     "metadata": {},
     "output_type": "execute_result"
    }
   ],
   "source": [
    "U_fast"
   ]
  },
  {
   "cell_type": "code",
   "execution_count": 21,
   "metadata": {},
   "outputs": [],
   "source": [
    "savemat('data/blog-trans-fast.mat', {'emb': U_fast})"
   ]
  },
  {
   "cell_type": "markdown",
   "metadata": {},
   "source": [
    "Run classification:"
   ]
  },
  {
   "cell_type": "code",
   "execution_count": 24,
   "metadata": {},
   "outputs": [
    {
     "name": "stdout",
     "output_type": "stream",
     "text": [
      "[4862, 5968, 7609, 6098, 3391, 8523, 3041, 7315, 6068, 3326, 2142, 1608, 646, 3905, 6135, 3129, 9345, 5177, 9748, 130, 1934, 2885, 9875, 1170, 1880, 205, 7853, 575, 8308, 79, 5970, 8107, 6165, 4263, 545, 2884, 6934, 3398, 7024, 10081, 7219, 9379, 3767, 8634, 6305, 2348, 184, 6741, 9697, 7803, 2477, 3373, 9717, 8599, 8029, 4434, 1331, 9797, 848, 9600, 8554, 603, 10066, 5233, 6434, 3298, 9707, 753, 5842, 6472, 3342, 6199, 9412, 4385, 4544, 1103, 1735, 763, 7294, 6507, 1491, 258, 7843, 8266, 4207, 2166, 6496, 6953, 8500, 8544, 6280, 316, 9912, 6688, 7508, 5023, 3513, 6042, 4985, 8557]\n",
      "Results, using embeddings of dimensionality 128\n",
      "-------------------\n",
      "Train percent: 0.1\n",
      "Shuffle #1:      {'micro': 0.3030674846625767, 'macro': 0.17843881642444398}\n",
      "Average score: {'micro': 0.3030674846625767, 'macro': 0.17843881642444398}\n",
      "-------------------\n",
      "CPU times: user 2.69 s, sys: 4.49 s, total: 7.18 s\n",
      "Wall time: 1.89 s\n"
     ]
    }
   ],
   "source": [
    "%%time\n",
    "with warnings.catch_warnings():\n",
    "    warnings.simplefilter(\"ignore\")\n",
    "    _ = main(\n",
    "        [\"--emb\", \"data/blog-trans-fast.mat\",\n",
    "          \"--network\",\"blogcatalog/blogcatalog.mat\",\n",
    "          \"--num-shuffles\", \"1\"])"
   ]
  },
  {
   "cell_type": "markdown",
   "metadata": {},
   "source": [
    "And run classification for DeepWalk:"
   ]
  },
  {
   "cell_type": "code",
   "execution_count": 70,
   "metadata": {
    "scrolled": true
   },
   "outputs": [
    {
     "name": "stdout",
     "output_type": "stream",
     "text": [
      "Results, using embeddings of dimensionality 128\n",
      "-------------------\n",
      "Train percent: 0.1\n",
      "Shuffle #1:      {'micro': 0.34998850486627325, 'macro': 0.20068161161471323}\n",
      "Average score: {'micro': 0.34998850486627325, 'macro': 0.20068161161471323}\n",
      "-------------------\n",
      "CPU times: user 3.15 s, sys: 5.17 s, total: 8.32 s\n",
      "Wall time: 1.77 s\n"
     ]
    }
   ],
   "source": [
    "%%time\n",
    "with warnings.catch_warnings():\n",
    "    warnings.simplefilter(\"ignore\")\n",
    "    _ = main(\n",
    "        [\"--emb\", \"~/ws/deepwalk/example_graphs/blogcatalog.embeddings\",\n",
    "          \"--network\",\"blogcatalog/blogcatalog.mat\",\n",
    "          \"--num-shuffles\", \"1\"])"
   ]
  },
  {
   "cell_type": "markdown",
   "metadata": {},
   "source": [
    "# Breakdown of Classification Perf"
   ]
  },
  {
   "cell_type": "code",
   "execution_count": 27,
   "metadata": {},
   "outputs": [],
   "source": [
    "N = blog_A.shape[0]"
   ]
  },
  {
   "cell_type": "code",
   "execution_count": 45,
   "metadata": {},
   "outputs": [],
   "source": [
    "mlb = MultiLabelBinarizer(range(blog_labels.shape[1]))"
   ]
  },
  {
   "cell_type": "code",
   "execution_count": 31,
   "metadata": {},
   "outputs": [
    {
     "name": "stdout",
     "output_type": "stream",
     "text": [
      "Results, using embeddings of dimensionality 128\n",
      "-------------------\n",
      "Train percent: 0.1\n",
      "Shuffle #1:      {'micro': 0.29914661336203585, 'macro': 0.17326628732966903}\n",
      "Average score: {'micro': 0.29914661336203585, 'macro': 0.17326628732966903}\n",
      "-------------------\n"
     ]
    },
    {
     "name": "stderr",
     "output_type": "stream",
     "text": [
      "/home/hcchen/anaconda3/envs/deeplearning/lib/python3.6/site-packages/sklearn/metrics/classification.py:1135: UndefinedMetricWarning: F-score is ill-defined and being set to 0.0 in labels with no predicted samples.\n",
      "  'precision', 'predicted', average, warn_for)\n"
     ]
    }
   ],
   "source": [
    "y_test, preds, indices_test = main(\n",
    "        [\"--emb\", \"data/blog-trans-fast.mat\",\n",
    "          \"--network\",\"blogcatalog/blogcatalog.mat\",\n",
    "          \"--num-shuffles\", \"1\"])"
   ]
  },
  {
   "cell_type": "code",
   "execution_count": 46,
   "metadata": {},
   "outputs": [
    {
     "name": "stdout",
     "output_type": "stream",
     "text": [
      "CPU times: user 47.9 ms, sys: 7.62 ms, total: 55.6 ms\n",
      "Wall time: 54.7 ms\n"
     ]
    },
    {
     "data": {
      "text/plain": [
       "0.29914661336203585"
      ]
     },
     "execution_count": 46,
     "metadata": {},
     "output_type": "execute_result"
    }
   ],
   "source": [
    "%time f1_score(mlb.fit_transform(y_test), mlb.fit_transform(preds), average='micro')"
   ]
  },
  {
   "cell_type": "markdown",
   "metadata": {},
   "source": [
    "And let's have a breakdown based on degree:"
   ]
  },
  {
   "cell_type": "code",
   "execution_count": 59,
   "metadata": {},
   "outputs": [],
   "source": [
    "def filter_res_by_deg(y_test, preds, indices_test, min_deg, max_deg):\n",
    "    filtered_y, filtered_preds = [], []\n",
    "    for y, pred, index in zip(y_test, preds, indices_test):\n",
    "        if min_deg <= G.degree[str(index)] <= max_deg:\n",
    "            filtered_y.append(y)\n",
    "            filtered_preds.append(pred)\n",
    "    return f1_score(mlb.fit_transform(filtered_y), mlb.fit_transform(filtered_preds), average='micro')\n",
    "    # return filtered_y, filtered_preds"
   ]
  },
  {
   "cell_type": "code",
   "execution_count": 95,
   "metadata": {},
   "outputs": [],
   "source": [
    "randne_perf, dw_perf = [], []\n",
    "for deg in range(1, 401, 10):\n",
    "    randne_perf.append(filter_res_by_deg(y_test, preds, indices_test, deg, deg + 10))\n",
    "    dw_perf.append(filter_res_by_deg(y_dw, preds_dw, indices_test_dw, deg, deg + 10))"
   ]
  },
  {
   "cell_type": "code",
   "execution_count": 105,
   "metadata": {},
   "outputs": [
    {
     "data": {
      "text/plain": [
       "<matplotlib.legend.Legend at 0x7f34421964e0>"
      ]
     },
     "execution_count": 105,
     "metadata": {},
     "output_type": "execute_result"
    },
    {
     "data": {
      "image/png": "[encoded data removed]",
      "text/plain": [
       "<Figure size 432x288 with 1 Axes>"
      ]
     },
     "metadata": {},
     "output_type": "display_data"
    }
   ],
   "source": [
    "plt.plot(range(1, 401, 10), randne_perf, label='RandNE')\n",
    "plt.plot(range(1, 401, 10), dw_perf, label='DeepWalk')\n",
    "plt.legend()"
   ]
  },
  {
   "cell_type": "code",
   "execution_count": 106,
   "metadata": {},
   "outputs": [],
   "source": [
    "randne_perf, dw_perf = [], []\n",
    "for deg in range(1, 101, 10):\n",
    "    randne_perf.append(filter_res_by_deg(y_test, preds, indices_test, deg, deg + 10))\n",
    "    dw_perf.append(filter_res_by_deg(y_dw, preds_dw, indices_test_dw, deg, deg + 10))"
   ]
  },
  {
   "cell_type": "code",
   "execution_count": 107,
   "metadata": {},
   "outputs": [
    {
     "data": {
      "text/plain": [
       "<matplotlib.legend.Legend at 0x7f34421826a0>"
      ]
     },
     "execution_count": 107,
     "metadata": {},
     "output_type": "execute_result"
    },
    {
     "data": {
      "image/png": "[encoded data removed]",
      "text/plain": [
       "<Figure size 432x288 with 1 Axes>"
      ]
     },
     "metadata": {},
     "output_type": "display_data"
    }
   ],
   "source": [
    "plt.plot(range(1, 101, 10), randne_perf, label='RandNE')\n",
    "plt.plot(range(1, 101, 10), dw_perf, label='DeepWalk')\n",
    "plt.legend()"
   ]
  },
  {
   "cell_type": "code",
   "execution_count": 62,
   "metadata": {},
   "outputs": [
    {
     "data": {
      "text/plain": [
       "0.34307992202729043"
      ]
     },
     "execution_count": 62,
     "metadata": {},
     "output_type": "execute_result"
    }
   ],
   "source": [
    "filter_res_by_deg(y_test, preds, indices_test, 100, 1000)"
   ]
  },
  {
   "cell_type": "code",
   "execution_count": 78,
   "metadata": {},
   "outputs": [
    {
     "data": {
      "text/plain": [
       "0.36046511627906974"
      ]
     },
     "execution_count": 78,
     "metadata": {},
     "output_type": "execute_result"
    }
   ],
   "source": [
    "filter_res_by_deg(y_dw, preds_dw, indices_test_dw, 100, 1000)"
   ]
  },
  {
   "cell_type": "markdown",
   "metadata": {},
   "source": [
    "And for DeepWalk:"
   ]
  },
  {
   "cell_type": "code",
   "execution_count": 65,
   "metadata": {},
   "outputs": [
    {
     "name": "stdout",
     "output_type": "stream",
     "text": [
      "Results, using embeddings of dimensionality 128\n",
      "-------------------\n",
      "Train percent: 0.1\n",
      "Shuffle #1:      {'micro': 0.357416781714987, 'macro': 0.21307696569035764}\n",
      "Average score: {'micro': 0.357416781714987, 'macro': 0.21307696569035764}\n",
      "-------------------\n"
     ]
    },
    {
     "name": "stderr",
     "output_type": "stream",
     "text": [
      "/home/hcchen/anaconda3/envs/deeplearning/lib/python3.6/site-packages/sklearn/metrics/classification.py:1135: UndefinedMetricWarning: F-score is ill-defined and being set to 0.0 in labels with no predicted samples.\n",
      "  'precision', 'predicted', average, warn_for)\n"
     ]
    }
   ],
   "source": [
    "y_dw, preds_dw, indices_test_dw = main(\n",
    "        [\"--emb\", \"~/ws/deepwalk/example_graphs/blogcatalog.embeddings\",\n",
    "          \"--network\",\"blogcatalog/blogcatalog.mat\",\n",
    "          \"--num-shuffles\", \"1\"])"
   ]
  }
 ],
 "metadata": {
  "kernelspec": {
   "display_name": "Python 3",
   "language": "python",
   "name": "python3"
  },
  "language_info": {
   "codemirror_mode": {
    "name": "ipython",
    "version": 3
   },
   "file_extension": ".py",
   "mimetype": "text/x-python",
   "name": "python",
   "nbconvert_exporter": "python",
   "pygments_lexer": "ipython3",
   "version": "3.7.1"
  }
 },
 "nbformat": 4,
 "nbformat_minor": 2
}
