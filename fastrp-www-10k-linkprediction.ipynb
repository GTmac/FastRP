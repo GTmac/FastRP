{
 "cells": [
  {
   "cell_type": "markdown",
   "metadata": {},
   "source": [
    "# Init"
   ]
  },
  {
   "cell_type": "code",
   "execution_count": 1,
   "metadata": {},
   "outputs": [],
   "source": [
    "%matplotlib inline\n",
    "\n",
    "import csv\n",
    "import itertools\n",
    "import math\n",
    "import matplotlib\n",
    "import time\n",
    "import logging\n",
    "import sys\n",
    "import os\n",
    "import random\n",
    "import warnings\n",
    "\n",
    "import gensim\n",
    "from gensim.models import KeyedVectors\n",
    "\n",
    "import pandas as pd\n",
    "import numpy as np\n",
    "import networkx as nx\n",
    "import matplotlib.pyplot as plt\n",
    "import seaborn as sns\n",
    "\n",
    "from pathlib import Path\n",
    "\n",
    "from tqdm import tqdm_notebook as tqdm\n",
    "from collections import Counter, defaultdict\n",
    "\n",
    "from sklearn import random_projection\n",
    "from sklearn.manifold import TSNE\n",
    "from scipy.sparse import coo_matrix, csr_matrix, csc_matrix, spdiags\n",
    "from scipy.io import loadmat, savemat\n",
    "from scipy.spatial.distance import cosine\n",
    "from sklearn.metrics import f1_score\n",
    "from sklearn.metrics.pairwise import cosine_similarity\n",
    "from sklearn.preprocessing import normalize, MultiLabelBinarizer"
   ]
  },
  {
   "cell_type": "code",
   "execution_count": 2,
   "metadata": {},
   "outputs": [],
   "source": [
    "from fastrp_exp import *"
   ]
  },
  {
   "cell_type": "code",
   "execution_count": 3,
   "metadata": {},
   "outputs": [],
   "source": [
    "from sklearn import preprocessing"
   ]
  },
  {
   "cell_type": "code",
   "execution_count": 4,
   "metadata": {},
   "outputs": [],
   "source": [
    "from scoring import scoring"
   ]
  },
  {
   "cell_type": "code",
   "execution_count": 5,
   "metadata": {},
   "outputs": [],
   "source": [
    "# to ignore sklearn warning\n",
    "def warn(*args, **kwargs):\n",
    "    pass\n",
    "import warnings\n",
    "warnings.warn = warn\n",
    "warnings.filterwarnings(\"ignore\", category=RuntimeWarning) "
   ]
  },
  {
   "cell_type": "code",
   "execution_count": 6,
   "metadata": {},
   "outputs": [],
   "source": [
    "%load_ext autoreload\n",
    "%autoreload 2"
   ]
  },
  {
   "cell_type": "markdown",
   "metadata": {},
   "source": [
    "# Load Data"
   ]
  },
  {
   "cell_type": "markdown",
   "metadata": {},
   "source": [
    "## WWW-10K"
   ]
  },
  {
   "cell_type": "code",
   "execution_count": 7,
   "metadata": {},
   "outputs": [
    {
     "data": {
      "text/plain": [
       "<10000x10000 sparse matrix of type '<class 'numpy.float64'>'\n",
       "\twith 7809220 stored elements in Compressed Sparse Column format>"
      ]
     },
     "execution_count": 7,
     "metadata": {},
     "output_type": "execute_result"
    }
   ],
   "source": [
    "www = loadmat('example_graphs/www-10k.mat')\n",
    "A = www['network']\n",
    "N = A.shape[0]\n",
    "A"
   ]
  },
  {
   "cell_type": "code",
   "execution_count": 8,
   "metadata": {},
   "outputs": [],
   "source": [
    "G = nx.from_scipy_sparse_matrix(A)"
   ]
  },
  {
   "cell_type": "code",
   "execution_count": 9,
   "metadata": {},
   "outputs": [],
   "source": [
    "int_nodes = list(map( int, G.nodes()) )"
   ]
  },
  {
   "cell_type": "code",
   "execution_count": 10,
   "metadata": {},
   "outputs": [
    {
     "data": {
      "text/plain": [
       "(0, 9999, 10000)"
      ]
     },
     "execution_count": 10,
     "metadata": {},
     "output_type": "execute_result"
    }
   ],
   "source": [
    "min(int_nodes), max(int_nodes), len(int_nodes)"
   ]
  },
  {
   "cell_type": "code",
   "execution_count": 11,
   "metadata": {},
   "outputs": [
    {
     "data": {
      "text/plain": [
       "(10000, 3904610)"
      ]
     },
     "execution_count": 11,
     "metadata": {},
     "output_type": "execute_result"
    }
   ],
   "source": [
    "G.number_of_nodes(), G.number_of_edges()"
   ]
  },
  {
   "cell_type": "markdown",
   "metadata": {},
   "source": [
    "# Sample a Subgraph"
   ]
  },
  {
   "cell_type": "code",
   "execution_count": 12,
   "metadata": {},
   "outputs": [],
   "source": [
    "import networkx as nx\n",
    "from scipy.sparse import find\n",
    "from random import sample\n",
    "from scipy.spatial.distance import pdist, squareform"
   ]
  },
  {
   "cell_type": "code",
   "execution_count": 13,
   "metadata": {},
   "outputs": [],
   "source": [
    "tree = nx.minimum_spanning_tree(G)\n",
    "G_nodes, G_edges, tree_edges = G.nodes(), G.edges(), tree.edges()\n",
    "n_edges_70 = int(0.7*len(G_edges))"
   ]
  },
  {
   "cell_type": "code",
   "execution_count": 14,
   "metadata": {},
   "outputs": [],
   "source": [
    "non_tree_edges = [edge for edge in G_edges if edge not in tree_edges]"
   ]
  },
  {
   "cell_type": "code",
   "execution_count": 15,
   "metadata": {},
   "outputs": [],
   "source": [
    "sampled_edges = sample(non_tree_edges, n_edges_70 - len(tree.edges()))\n",
    "tree.add_edges_from(sampled_edges, weight=1.0)"
   ]
  },
  {
   "cell_type": "code",
   "execution_count": 19,
   "metadata": {},
   "outputs": [],
   "source": [
    "A_70 = nx.to_scipy_sparse_matrix(tree)\n",
    "savemat('example_graphs/www-10k-70.mat', {'network': A_70})\n",
    "nx.write_edgelist(tree.to_directed(), open('example_graphs/www-10k-70.edgelist', 'wb'), data=['weight'])"
   ]
  },
  {
   "cell_type": "code",
   "execution_count": 17,
   "metadata": {},
   "outputs": [
    {
     "name": "stdout",
     "output_type": "stream",
     "text": [
      "CPU times: user 7.22 s, sys: 172 ms, total: 7.39 s\n",
      "Wall time: 7.39 s\n"
     ]
    }
   ],
   "source": [
    "%time edges_to_test = [edge for edge in G.edges() if edge not in tree.edges()]"
   ]
  },
  {
   "cell_type": "code",
   "execution_count": 18,
   "metadata": {},
   "outputs": [
    {
     "name": "stdout",
     "output_type": "stream",
     "text": [
      "CPU times: user 1min 39s, sys: 464 ms, total: 1min 40s\n",
      "Wall time: 1min 40s\n"
     ]
    }
   ],
   "source": [
    "#Artificially removed:\n",
    "# edges_to_test = [edge for edge in G.edges() if edge not in tree.edges()]\n",
    "\n",
    "#Edges that never existed\n",
    "# negatives = []\n",
    "# while len(negatives)<len(edges_to_test):\n",
    "#     rand_edge = sample(G_nodes, 2)\n",
    "#     if rand_edge not in G_edges:\n",
    "#         negatives.append(rand_edge)\n",
    "\n",
    "#Random sample from existing/non-existing edges\n",
    "%time rand_pairs = [sample(G_nodes, 2) for i in range(len(edges_to_test))]"
   ]
  },
  {
   "cell_type": "markdown",
   "metadata": {},
   "source": [
    "# FastRP"
   ]
  },
  {
   "cell_type": "code",
   "execution_count": 31,
   "metadata": {},
   "outputs": [],
   "source": [
    "import optuna"
   ]
  },
  {
   "cell_type": "code",
   "execution_count": 32,
   "metadata": {},
   "outputs": [],
   "source": [
    "prefix = 'result/blog'"
   ]
  },
  {
   "cell_type": "code",
   "execution_count": 33,
   "metadata": {},
   "outputs": [
    {
     "name": "stdout",
     "output_type": "stream",
     "text": [
      "{'projection_method': 'sparse', 'input_matrix': 'adj', 'weights': [1.0, 0.01020790116922033], 'normalization': False, 'dim': 512, 'alpha': 0.34518438541539986, 'C': 0.1}\n"
     ]
    },
    {
     "name": "stderr",
     "output_type": "stream",
     "text": [
      "[I 2019-05-21 22:52:46,685] Finished trial#0 resulted in value: -0.8266442316475482. Current best value is -0.8266442316475482 with parameters: {'weight0': 0.01020790116922033, 'alpha': 0.34518438541539986}.\n"
     ]
    },
    {
     "name": "stdout",
     "output_type": "stream",
     "text": [
      "{'projection_method': 'sparse', 'input_matrix': 'adj', 'weights': [1.0, 0.8312164896441353], 'normalization': False, 'dim': 512, 'alpha': -0.1846332832645933, 'C': 0.1}\n"
     ]
    },
    {
     "name": "stderr",
     "output_type": "stream",
     "text": [
      "[I 2019-05-21 22:54:16,104] Finished trial#1 resulted in value: -0.6882778732489715. Current best value is -0.8266442316475482 with parameters: {'weight0': 0.01020790116922033, 'alpha': 0.34518438541539986}.\n"
     ]
    },
    {
     "name": "stdout",
     "output_type": "stream",
     "text": [
      "{'projection_method': 'sparse', 'input_matrix': 'adj', 'weights': [1.0, 0.500369686400032], 'normalization': False, 'dim': 512, 'alpha': -0.291666913633987, 'C': 0.1}\n"
     ]
    },
    {
     "name": "stderr",
     "output_type": "stream",
     "text": [
      "[I 2019-05-21 22:55:37,825] Finished trial#2 resulted in value: -0.7049094958694124. Current best value is -0.8266442316475482 with parameters: {'weight0': 0.01020790116922033, 'alpha': 0.34518438541539986}.\n"
     ]
    },
    {
     "name": "stdout",
     "output_type": "stream",
     "text": [
      "{'projection_method': 'sparse', 'input_matrix': 'adj', 'weights': [1.0, 0.03583386794181346], 'normalization': False, 'dim': 512, 'alpha': -0.13839027322071012, 'C': 0.1}\n"
     ]
    },
    {
     "name": "stderr",
     "output_type": "stream",
     "text": [
      "[I 2019-05-21 22:56:57,559] Finished trial#3 resulted in value: -0.7246255067727635. Current best value is -0.8266442316475482 with parameters: {'weight0': 0.01020790116922033, 'alpha': 0.34518438541539986}.\n"
     ]
    },
    {
     "name": "stdout",
     "output_type": "stream",
     "text": [
      "{'projection_method': 'sparse', 'input_matrix': 'adj', 'weights': [1.0, 0.15970505430112011], 'normalization': False, 'dim': 512, 'alpha': -0.13125791702932893, 'C': 0.1}\n"
     ]
    },
    {
     "name": "stderr",
     "output_type": "stream",
     "text": [
      "[I 2019-05-21 22:58:17,666] Finished trial#4 resulted in value: -0.6875727238657211. Current best value is -0.8266442316475482 with parameters: {'weight0': 0.01020790116922033, 'alpha': 0.34518438541539986}.\n"
     ]
    },
    {
     "name": "stdout",
     "output_type": "stream",
     "text": [
      "{'projection_method': 'sparse', 'input_matrix': 'adj', 'weights': [1.0, 0.00306020507650895], 'normalization': False, 'dim': 512, 'alpha': -0.14888897465274836, 'C': 0.1}\n"
     ]
    },
    {
     "name": "stderr",
     "output_type": "stream",
     "text": [
      "[I 2019-05-21 22:59:37,253] Finished trial#5 resulted in value: -0.8356336057463699. Current best value is -0.8356336057463699 with parameters: {'weight0': 0.00306020507650895, 'alpha': -0.14888897465274836}.\n"
     ]
    },
    {
     "name": "stdout",
     "output_type": "stream",
     "text": [
      "{'projection_method': 'sparse', 'input_matrix': 'adj', 'weights': [1.0, 0.1583623446341033], 'normalization': False, 'dim': 512, 'alpha': -0.35895771050956093, 'C': 0.1}\n"
     ]
    },
    {
     "name": "stderr",
     "output_type": "stream",
     "text": [
      "[I 2019-05-21 23:00:58,131] Finished trial#6 resulted in value: -0.7193531065415838. Current best value is -0.8356336057463699 with parameters: {'weight0': 0.00306020507650895, 'alpha': -0.14888897465274836}.\n"
     ]
    },
    {
     "name": "stdout",
     "output_type": "stream",
     "text": [
      "{'projection_method': 'sparse', 'input_matrix': 'adj', 'weights': [1.0, 0.002394911596931551], 'normalization': False, 'dim': 512, 'alpha': 0.02823165311645709, 'C': 0.1}\n"
     ]
    },
    {
     "name": "stderr",
     "output_type": "stream",
     "text": [
      "[I 2019-05-21 23:02:18,660] Finished trial#7 resulted in value: -0.84529739632554. Current best value is -0.84529739632554 with parameters: {'weight0': 0.002394911596931551, 'alpha': 0.02823165311645709}.\n"
     ]
    },
    {
     "name": "stdout",
     "output_type": "stream",
     "text": [
      "{'projection_method': 'sparse', 'input_matrix': 'adj', 'weights': [1.0, 0.5085675149549114], 'normalization': False, 'dim': 512, 'alpha': -0.14236242363200546, 'C': 0.1}\n"
     ]
    },
    {
     "name": "stderr",
     "output_type": "stream",
     "text": [
      "[I 2019-05-21 23:03:39,256] Finished trial#8 resulted in value: -0.6831591375323015. Current best value is -0.84529739632554 with parameters: {'weight0': 0.002394911596931551, 'alpha': 0.02823165311645709}.\n"
     ]
    },
    {
     "name": "stdout",
     "output_type": "stream",
     "text": [
      "{'projection_method': 'sparse', 'input_matrix': 'adj', 'weights': [1.0, 0.03740415225366756], 'normalization': False, 'dim': 512, 'alpha': -0.36101745100508276, 'C': 0.1}\n"
     ]
    },
    {
     "name": "stderr",
     "output_type": "stream",
     "text": [
      "[I 2019-05-21 23:04:59,178] Finished trial#9 resulted in value: -0.7433503815575264. Current best value is -0.84529739632554 with parameters: {'weight0': 0.002394911596931551, 'alpha': 0.02823165311645709}.\n"
     ]
    },
    {
     "name": "stdout",
     "output_type": "stream",
     "text": [
      "{'projection_method': 'sparse', 'input_matrix': 'adj', 'weights': [1.0, 0.0010679282815305657], 'normalization': False, 'dim': 512, 'alpha': 0.2319672276220227, 'C': 0.1}\n"
     ]
    },
    {
     "name": "stderr",
     "output_type": "stream",
     "text": [
      "[I 2019-05-21 23:06:20,699] Finished trial#10 resulted in value: -0.8464524412596051. Current best value is -0.8464524412596051 with parameters: {'weight0': 0.0010679282815305657, 'alpha': 0.2319672276220227}.\n"
     ]
    },
    {
     "name": "stdout",
     "output_type": "stream",
     "text": [
      "{'projection_method': 'sparse', 'input_matrix': 'adj', 'weights': [1.0, 0.0015491215188953424], 'normalization': False, 'dim': 512, 'alpha': 0.16289814172057032, 'C': 0.1}\n"
     ]
    },
    {
     "name": "stderr",
     "output_type": "stream",
     "text": [
      "[I 2019-05-21 23:07:41,810] Finished trial#11 resulted in value: -0.8478687158683368. Current best value is -0.8478687158683368 with parameters: {'weight0': 0.0015491215188953424, 'alpha': 0.16289814172057032}.\n"
     ]
    },
    {
     "name": "stdout",
     "output_type": "stream",
     "text": [
      "{'projection_method': 'sparse', 'input_matrix': 'adj', 'weights': [1.0, 0.0061123650517410115], 'normalization': False, 'dim': 512, 'alpha': 0.17724981476474166, 'C': 0.1}\n"
     ]
    },
    {
     "name": "stderr",
     "output_type": "stream",
     "text": [
      "[I 2019-05-21 23:09:01,958] Finished trial#12 resulted in value: -0.8422906939916321. Current best value is -0.8478687158683368 with parameters: {'weight0': 0.0015491215188953424, 'alpha': 0.16289814172057032}.\n"
     ]
    },
    {
     "name": "stdout",
     "output_type": "stream",
     "text": [
      "{'projection_method': 'sparse', 'input_matrix': 'adj', 'weights': [1.0, 0.0011488770899425753], 'normalization': False, 'dim': 512, 'alpha': 0.09070664662396297, 'C': 0.1}\n"
     ]
    },
    {
     "name": "stderr",
     "output_type": "stream",
     "text": [
      "[I 2019-05-21 23:10:23,248] Finished trial#13 resulted in value: -0.845847173810786. Current best value is -0.8478687158683368 with parameters: {'weight0': 0.0015491215188953424, 'alpha': 0.16289814172057032}.\n"
     ]
    },
    {
     "name": "stdout",
     "output_type": "stream",
     "text": [
      "{'projection_method': 'sparse', 'input_matrix': 'adj', 'weights': [1.0, 0.013151812527790291], 'normalization': False, 'dim': 512, 'alpha': 0.25644573321581604, 'C': 0.1}\n"
     ]
    },
    {
     "name": "stderr",
     "output_type": "stream",
     "text": [
      "[I 2019-05-21 23:11:44,188] Finished trial#14 resulted in value: -0.8056178039121278. Current best value is -0.8478687158683368 with parameters: {'weight0': 0.0015491215188953424, 'alpha': 0.16289814172057032}.\n"
     ]
    },
    {
     "name": "stdout",
     "output_type": "stream",
     "text": [
      "{'projection_method': 'sparse', 'input_matrix': 'adj', 'weights': [1.0, 0.001068583289832975], 'normalization': False, 'dim': 512, 'alpha': -0.02145542614506127, 'C': 0.1}\n"
     ]
    },
    {
     "name": "stderr",
     "output_type": "stream",
     "text": [
      "[I 2019-05-21 23:13:05,578] Finished trial#15 resulted in value: -0.8437027001416275. Current best value is -0.8478687158683368 with parameters: {'weight0': 0.0015491215188953424, 'alpha': 0.16289814172057032}.\n"
     ]
    },
    {
     "name": "stdout",
     "output_type": "stream",
     "text": [
      "{'projection_method': 'sparse', 'input_matrix': 'adj', 'weights': [1.0, 0.003346007555272974], 'normalization': False, 'dim': 512, 'alpha': 0.38172264993900656, 'C': 0.1}\n"
     ]
    },
    {
     "name": "stderr",
     "output_type": "stream",
     "text": [
      "[I 2019-05-21 23:14:24,937] Finished trial#16 resulted in value: -0.8485047162200579. Current best value is -0.8485047162200579 with parameters: {'weight0': 0.003346007555272974, 'alpha': 0.38172264993900656}.\n"
     ]
    },
    {
     "name": "stdout",
     "output_type": "stream",
     "text": [
      "{'projection_method': 'sparse', 'input_matrix': 'adj', 'weights': [1.0, 0.0028655582323664575], 'normalization': False, 'dim': 512, 'alpha': 0.3798034734695112, 'C': 0.1}\n"
     ]
    },
    {
     "ename": "KeyboardInterrupt",
     "evalue": "",
     "output_type": "error",
     "traceback": [
      "\u001b[0;31m---------------------------------------------------------------------------\u001b[0m",
      "\u001b[0;31mKeyboardInterrupt\u001b[0m                         Traceback (most recent call last)",
      "\u001b[0;32m<timed exec>\u001b[0m in \u001b[0;36m<module>\u001b[0;34m\u001b[0m\n",
      "\u001b[0;32m~/anaconda3/lib/python3.7/site-packages/optuna/study.py\u001b[0m in \u001b[0;36moptimize\u001b[0;34m(self, func, n_trials, timeout, n_jobs, catch)\u001b[0m\n\u001b[1;32m    208\u001b[0m \u001b[0;34m\u001b[0m\u001b[0m\n\u001b[1;32m    209\u001b[0m         \u001b[0;32mif\u001b[0m \u001b[0mn_jobs\u001b[0m \u001b[0;34m==\u001b[0m \u001b[0;36m1\u001b[0m\u001b[0;34m:\u001b[0m\u001b[0;34m\u001b[0m\u001b[0;34m\u001b[0m\u001b[0m\n\u001b[0;32m--> 210\u001b[0;31m             \u001b[0mself\u001b[0m\u001b[0;34m.\u001b[0m\u001b[0m_optimize_sequential\u001b[0m\u001b[0;34m(\u001b[0m\u001b[0mfunc\u001b[0m\u001b[0;34m,\u001b[0m \u001b[0mn_trials\u001b[0m\u001b[0;34m,\u001b[0m \u001b[0mtimeout\u001b[0m\u001b[0;34m,\u001b[0m \u001b[0mcatch\u001b[0m\u001b[0;34m)\u001b[0m\u001b[0;34m\u001b[0m\u001b[0;34m\u001b[0m\u001b[0m\n\u001b[0m\u001b[1;32m    211\u001b[0m         \u001b[0;32melse\u001b[0m\u001b[0;34m:\u001b[0m\u001b[0;34m\u001b[0m\u001b[0;34m\u001b[0m\u001b[0m\n\u001b[1;32m    212\u001b[0m             \u001b[0mself\u001b[0m\u001b[0;34m.\u001b[0m\u001b[0m_optimize_parallel\u001b[0m\u001b[0;34m(\u001b[0m\u001b[0mfunc\u001b[0m\u001b[0;34m,\u001b[0m \u001b[0mn_trials\u001b[0m\u001b[0;34m,\u001b[0m \u001b[0mtimeout\u001b[0m\u001b[0;34m,\u001b[0m \u001b[0mn_jobs\u001b[0m\u001b[0;34m,\u001b[0m \u001b[0mcatch\u001b[0m\u001b[0;34m)\u001b[0m\u001b[0;34m\u001b[0m\u001b[0;34m\u001b[0m\u001b[0m\n",
      "\u001b[0;32m~/anaconda3/lib/python3.7/site-packages/optuna/study.py\u001b[0m in \u001b[0;36m_optimize_sequential\u001b[0;34m(self, func, n_trials, timeout, catch)\u001b[0m\n\u001b[1;32m    322\u001b[0m                     \u001b[0;32mbreak\u001b[0m\u001b[0;34m\u001b[0m\u001b[0;34m\u001b[0m\u001b[0m\n\u001b[1;32m    323\u001b[0m \u001b[0;34m\u001b[0m\u001b[0m\n\u001b[0;32m--> 324\u001b[0;31m             \u001b[0mself\u001b[0m\u001b[0;34m.\u001b[0m\u001b[0m_run_trial\u001b[0m\u001b[0;34m(\u001b[0m\u001b[0mfunc\u001b[0m\u001b[0;34m,\u001b[0m \u001b[0mcatch\u001b[0m\u001b[0;34m)\u001b[0m\u001b[0;34m\u001b[0m\u001b[0;34m\u001b[0m\u001b[0m\n\u001b[0m\u001b[1;32m    325\u001b[0m \u001b[0;34m\u001b[0m\u001b[0m\n\u001b[1;32m    326\u001b[0m     def _optimize_parallel(\n",
      "\u001b[0;32m~/anaconda3/lib/python3.7/site-packages/optuna/study.py\u001b[0m in \u001b[0;36m_run_trial\u001b[0;34m(self, func, catch)\u001b[0m\n\u001b[1;32m    396\u001b[0m \u001b[0;34m\u001b[0m\u001b[0m\n\u001b[1;32m    397\u001b[0m         \u001b[0;32mtry\u001b[0m\u001b[0;34m:\u001b[0m\u001b[0;34m\u001b[0m\u001b[0;34m\u001b[0m\u001b[0m\n\u001b[0;32m--> 398\u001b[0;31m             \u001b[0mresult\u001b[0m \u001b[0;34m=\u001b[0m \u001b[0mfunc\u001b[0m\u001b[0;34m(\u001b[0m\u001b[0mtrial\u001b[0m\u001b[0;34m)\u001b[0m\u001b[0;34m\u001b[0m\u001b[0;34m\u001b[0m\u001b[0m\n\u001b[0m\u001b[1;32m    399\u001b[0m         \u001b[0;32mexcept\u001b[0m \u001b[0mstructs\u001b[0m\u001b[0;34m.\u001b[0m\u001b[0mTrialPruned\u001b[0m \u001b[0;32mas\u001b[0m \u001b[0me\u001b[0m\u001b[0;34m:\u001b[0m\u001b[0;34m\u001b[0m\u001b[0;34m\u001b[0m\u001b[0m\n\u001b[1;32m    400\u001b[0m             message = 'Setting status of trial#{} as {}. {}'.format(trial_number,\n",
      "\u001b[0;32m<timed exec>\u001b[0m in \u001b[0;36mobjective\u001b[0;34m(trial)\u001b[0m\n",
      "\u001b[0;32m<timed exec>\u001b[0m in \u001b[0;36m<listcomp>\u001b[0;34m(.0)\u001b[0m\n",
      "\u001b[0;32m~/anaconda3/lib/python3.7/site-packages/scipy/spatial/distance.py\u001b[0m in \u001b[0;36mcosine\u001b[0;34m(u, v, w)\u001b[0m\n\u001b[1;32m    742\u001b[0m     \u001b[0;31m# cosine distance is also referred to as 'uncentered correlation',\u001b[0m\u001b[0;34m\u001b[0m\u001b[0;34m\u001b[0m\u001b[0;34m\u001b[0m\u001b[0m\n\u001b[1;32m    743\u001b[0m     \u001b[0;31m#   or 'reflective correlation'\u001b[0m\u001b[0;34m\u001b[0m\u001b[0;34m\u001b[0m\u001b[0;34m\u001b[0m\u001b[0m\n\u001b[0;32m--> 744\u001b[0;31m     \u001b[0;32mreturn\u001b[0m \u001b[0mcorrelation\u001b[0m\u001b[0;34m(\u001b[0m\u001b[0mu\u001b[0m\u001b[0;34m,\u001b[0m \u001b[0mv\u001b[0m\u001b[0;34m,\u001b[0m \u001b[0mw\u001b[0m\u001b[0;34m=\u001b[0m\u001b[0mw\u001b[0m\u001b[0;34m,\u001b[0m \u001b[0mcentered\u001b[0m\u001b[0;34m=\u001b[0m\u001b[0;32mFalse\u001b[0m\u001b[0;34m)\u001b[0m\u001b[0;34m\u001b[0m\u001b[0;34m\u001b[0m\u001b[0m\n\u001b[0m\u001b[1;32m    745\u001b[0m \u001b[0;34m\u001b[0m\u001b[0m\n\u001b[1;32m    746\u001b[0m \u001b[0;34m\u001b[0m\u001b[0m\n",
      "\u001b[0;32m~/anaconda3/lib/python3.7/site-packages/scipy/spatial/distance.py\u001b[0m in \u001b[0;36mcorrelation\u001b[0;34m(u, v, w, centered)\u001b[0m\n\u001b[1;32m    694\u001b[0m         \u001b[0mv\u001b[0m \u001b[0;34m=\u001b[0m \u001b[0mv\u001b[0m \u001b[0;34m-\u001b[0m \u001b[0mvmu\u001b[0m\u001b[0;34m\u001b[0m\u001b[0;34m\u001b[0m\u001b[0m\n\u001b[1;32m    695\u001b[0m     \u001b[0muv\u001b[0m \u001b[0;34m=\u001b[0m \u001b[0mnp\u001b[0m\u001b[0;34m.\u001b[0m\u001b[0maverage\u001b[0m\u001b[0;34m(\u001b[0m\u001b[0mu\u001b[0m \u001b[0;34m*\u001b[0m \u001b[0mv\u001b[0m\u001b[0;34m,\u001b[0m \u001b[0mweights\u001b[0m\u001b[0;34m=\u001b[0m\u001b[0mw\u001b[0m\u001b[0;34m)\u001b[0m\u001b[0;34m\u001b[0m\u001b[0;34m\u001b[0m\u001b[0m\n\u001b[0;32m--> 696\u001b[0;31m     \u001b[0muu\u001b[0m \u001b[0;34m=\u001b[0m \u001b[0mnp\u001b[0m\u001b[0;34m.\u001b[0m\u001b[0maverage\u001b[0m\u001b[0;34m(\u001b[0m\u001b[0mnp\u001b[0m\u001b[0;34m.\u001b[0m\u001b[0msquare\u001b[0m\u001b[0;34m(\u001b[0m\u001b[0mu\u001b[0m\u001b[0;34m)\u001b[0m\u001b[0;34m,\u001b[0m \u001b[0mweights\u001b[0m\u001b[0;34m=\u001b[0m\u001b[0mw\u001b[0m\u001b[0;34m)\u001b[0m\u001b[0;34m\u001b[0m\u001b[0;34m\u001b[0m\u001b[0m\n\u001b[0m\u001b[1;32m    697\u001b[0m     \u001b[0mvv\u001b[0m \u001b[0;34m=\u001b[0m \u001b[0mnp\u001b[0m\u001b[0;34m.\u001b[0m\u001b[0maverage\u001b[0m\u001b[0;34m(\u001b[0m\u001b[0mnp\u001b[0m\u001b[0;34m.\u001b[0m\u001b[0msquare\u001b[0m\u001b[0;34m(\u001b[0m\u001b[0mv\u001b[0m\u001b[0;34m)\u001b[0m\u001b[0;34m,\u001b[0m \u001b[0mweights\u001b[0m\u001b[0;34m=\u001b[0m\u001b[0mw\u001b[0m\u001b[0;34m)\u001b[0m\u001b[0;34m\u001b[0m\u001b[0;34m\u001b[0m\u001b[0m\n\u001b[1;32m    698\u001b[0m     \u001b[0mdist\u001b[0m \u001b[0;34m=\u001b[0m \u001b[0;36m1.0\u001b[0m \u001b[0;34m-\u001b[0m \u001b[0muv\u001b[0m \u001b[0;34m/\u001b[0m \u001b[0mnp\u001b[0m\u001b[0;34m.\u001b[0m\u001b[0msqrt\u001b[0m\u001b[0;34m(\u001b[0m\u001b[0muu\u001b[0m \u001b[0;34m*\u001b[0m \u001b[0mvv\u001b[0m\u001b[0;34m)\u001b[0m\u001b[0;34m\u001b[0m\u001b[0;34m\u001b[0m\u001b[0m\n",
      "\u001b[0;31mKeyboardInterrupt\u001b[0m: "
     ]
    }
   ],
   "source": [
    "%%time\n",
    "\n",
    "def objective(trial):\n",
    "    order_range = 1\n",
    "    # Invoke suggest methods of a Trial object to generate hyperparameters.\n",
    "    # weights = [trial.suggest_loguniform('weight' + str(order), 1.0, 64.0) for order in range(order_range)]\n",
    "    weights = [trial.suggest_loguniform('weight' + str(order), 0.001, 1) for order in range(order_range)]\n",
    "    alpha = trial.suggest_uniform('alpha', -0.4, 0.4)\n",
    "    conf = {\n",
    "        'projection_method': 'sparse',\n",
    "        'input_matrix': 'adj',\n",
    "        'weights': [1.0] + weights,\n",
    "        'normalization': False,\n",
    "        'dim': 512,\n",
    "        'alpha': alpha,\n",
    "        'C': 0.1\n",
    "    }\n",
    "    print(conf)\n",
    "    # emb_filename = get_emb_filename(prefix, conf)\n",
    "    # print (emb_filename)\n",
    "\n",
    "    U = fastrp_wrapper(A_70, conf)\n",
    "    # distances_negative = np.array([cosine(U[edge[0]], U[edge[1]]) for edge in negatives])\n",
    "    distances_random = np.array([cosine(U[edge[0]], U[edge[1]]) for edge in rand_pairs])\n",
    "    distances_pos = np.array([cosine(U[edge[0]], U[edge[1]]) for edge in edges_to_test])\n",
    "    \n",
    "    # scores_negative = (distances_pos<distances_negative).sum() / len(distances_negative)\n",
    "    scores_random = (distances_pos<distances_random).sum() / len(distances_random)\n",
    "    return -scores_random\n",
    "\n",
    "study = optuna.create_study()  # Create a new study.\n",
    "study.optimize(objective, n_trials=20)  # Invoke optimization of the objective function."
   ]
  },
  {
   "cell_type": "code",
   "execution_count": 34,
   "metadata": {},
   "outputs": [
    {
     "data": {
      "text/plain": [
       "FrozenTrial(number=16, state=<TrialState.COMPLETE: 1>, value=-0.8485047162200579, datetime_start=datetime.datetime(2019, 5, 21, 23, 13, 5, 582303), datetime_complete=datetime.datetime(2019, 5, 21, 23, 14, 24, 936457), params={'weight0': 0.003346007555272974, 'alpha': 0.38172264993900656}, user_attrs={}, system_attrs={'_number': 16}, intermediate_values={}, params_in_internal_repr={'weight0': 0.003346007555272974, 'alpha': 0.38172264993900656}, trial_id=16)"
      ]
     },
     "execution_count": 34,
     "metadata": {},
     "output_type": "execute_result"
    }
   ],
   "source": [
    "study.best_trial"
   ]
  },
  {
   "cell_type": "code",
   "execution_count": 35,
   "metadata": {},
   "outputs": [],
   "source": [
    "conf = {\n",
    "        'projection_method': 'sparse',\n",
    "        'input_matrix': 'adj',\n",
    "        'weights': [1.0, 0.003346],\n",
    "        'normalization': False,\n",
    "        'dim': 512,\n",
    "        'alpha': 0.382,\n",
    "        'C': 0.1\n",
    "}"
   ]
  },
  {
   "cell_type": "code",
   "execution_count": 37,
   "metadata": {},
   "outputs": [
    {
     "name": "stdout",
     "output_type": "stream",
     "text": [
      "0.848502155144816\n",
      "CPU times: user 1min 24s, sys: 1.09 s, total: 1min 25s\n",
      "Wall time: 1min 21s\n"
     ]
    }
   ],
   "source": [
    "%%time\n",
    "U = fastrp_wrapper(A_70, conf)\n",
    "distances_random = np.array([cosine(U[edge[0]], U[edge[1]]) for edge in rand_pairs])\n",
    "distances_pos = np.array([cosine(U[edge[0]], U[edge[1]]) for edge in edges_to_test])\n",
    "\n",
    "scores_random = (distances_pos<distances_random).sum() / len(distances_random)\n",
    "print (scores_random)"
   ]
  },
  {
   "cell_type": "markdown",
   "metadata": {},
   "source": [
    "# RandNE"
   ]
  },
  {
   "cell_type": "markdown",
   "metadata": {},
   "source": [
    "Run RandNE:"
   ]
  },
  {
   "cell_type": "code",
   "execution_count": null,
   "metadata": {},
   "outputs": [],
   "source": [
    "python3 /home/hcchen/RandNE-Python/src/randne.py \\\n",
    "--input /home/hcchen/fast-random-projection/example_graphs/www-10k-70.mat \\\n",
    "--output /home/hcchen/fast-random-projection/result/www-10k-70-randne-emb.mat -q 2 -d 512 --weights 1 0.01"
   ]
  },
  {
   "cell_type": "code",
   "execution_count": 29,
   "metadata": {},
   "outputs": [
    {
     "name": "stdout",
     "output_type": "stream",
     "text": [
      "0.8195124907908002\n",
      "CPU times: user 1min 53s, sys: 340 ms, total: 1min 53s\n",
      "Wall time: 1min 53s\n"
     ]
    }
   ],
   "source": [
    "%%time\n",
    "U = loadmat('/home/hcchen/fast-random-projection/result/www-10k-70-randne-emb.mat')['emb']\n",
    "distances_random = np.array([cosine(U[edge[0]], U[edge[1]]) for edge in rand_pairs])\n",
    "distances_pos = np.array([cosine(U[edge[0]], U[edge[1]]) for edge in edges_to_test])\n",
    "\n",
    "scores_random = (distances_pos<distances_random).sum() / len(distances_random)\n",
    "print (scores_random)"
   ]
  },
  {
   "cell_type": "markdown",
   "metadata": {},
   "source": [
    "# LINE"
   ]
  },
  {
   "cell_type": "markdown",
   "metadata": {},
   "source": [
    "Compile the code:"
   ]
  },
  {
   "cell_type": "code",
   "execution_count": null,
   "metadata": {},
   "outputs": [],
   "source": [
    "g++ -I /home/hcchen/gsl/include -L /home/hcchen/gsl/lib -lm -pthread -Ofast -march=native -Wall -funroll-loops -ffast-math -Wno-unused-result line.cpp -o line -lgsl -lm -lgslcblas\n",
    "g++ -I /home/hcchen/gsl/include -L /home/hcchen/gsl/lib -lm -pthread -Ofast -march=native -Wall -funroll-loops -ffast-math -Wno-unused-result reconstruct.cpp -o reconstruct\n",
    "g++ -I /home/hcchen/gsl/include -L /home/hcchen/gsl/lib -lm -pthread -Ofast -march=native -Wall -funroll-loops -ffast-math -Wno-unused-result normalize.cpp -o normalize\n",
    "g++ -I /home/hcchen/gsl/include -L /home/hcchen/gsl/lib -lm -pthread -Ofast -march=native -Wall -funroll-loops -ffast-math -Wno-unused-result concatenate.cpp -o concatenate"
   ]
  },
  {
   "cell_type": "markdown",
   "metadata": {},
   "source": [
    "First add the GSL library to path in shell:"
   ]
  },
  {
   "cell_type": "code",
   "execution_count": null,
   "metadata": {},
   "outputs": [],
   "source": [
    "export LD_LIBRARY_PATH=$LD_LIBRARY_PATH:/home/hcchen/gsl/lib"
   ]
  },
  {
   "cell_type": "markdown",
   "metadata": {},
   "source": [
    "Run LINE:"
   ]
  },
  {
   "cell_type": "code",
   "execution_count": null,
   "metadata": {},
   "outputs": [],
   "source": [
    "cd ~/LINE/linux && nohup ./line -train /home/hcchen/fast-random-projection/example_graphs/www-10k-70.edgelist \\\n",
    "-output /home/hcchen/fast-random-projection/result/www-10k-70.line.emb \\\n",
    "-binary 0 -size 200 -order 2 -negative 5 -samples 1000 -rho 0.025 -threads 40 &"
   ]
  },
  {
   "cell_type": "markdown",
   "metadata": {},
   "source": [
    "Link prediction:"
   ]
  },
  {
   "cell_type": "code",
   "execution_count": 25,
   "metadata": {},
   "outputs": [],
   "source": [
    "conf = {\n",
    "        'projection_method': 'sparse',\n",
    "        'input_matrix': 'adj',\n",
    "        'weights': [1.0, 0.01],\n",
    "        'normalization': False,\n",
    "        'dim': 512,\n",
    "        'alpha': 0.0,\n",
    "        'C': 0.1\n",
    "}"
   ]
  },
  {
   "cell_type": "code",
   "execution_count": 44,
   "metadata": {},
   "outputs": [
    {
     "data": {
      "text/plain": [
       "0.9752370957285166"
      ]
     },
     "execution_count": 44,
     "metadata": {},
     "output_type": "execute_result"
    }
   ],
   "source": [
    "cosine(U[2], U[123])"
   ]
  },
  {
   "cell_type": "code",
   "execution_count": 38,
   "metadata": {},
   "outputs": [
    {
     "name": "stdout",
     "output_type": "stream",
     "text": [
      "0.5124165196182632\n",
      "CPU times: user 2min 56s, sys: 672 ms, total: 2min 57s\n",
      "Wall time: 2min 59s\n"
     ]
    }
   ],
   "source": [
    "%%time\n",
    "line_scores_negative, line_scores_random = [], []\n",
    "model = KeyedVectors.load_word2vec_format('/home/hcchen/fast-random-projection/result/www-10k-70.line.emb')\n",
    "U = np.asarray([model[str(node)] for node in range(len(model.vocab) )])\n",
    "# print (U.shape)\n",
    "\n",
    "distances_random = np.array([cosine(U[edge[0]], U[edge[1]]) for edge in rand_pairs])\n",
    "distances_pos = np.array([cosine(U[edge[0]], U[edge[1]]) for edge in edges_to_test])\n",
    "\n",
    "scores_random = (distances_pos<distances_random).sum() / len(distances_random)\n",
    "print (scores_random)"
   ]
  },
  {
   "cell_type": "markdown",
   "metadata": {},
   "source": [
    "# DeepWalk"
   ]
  },
  {
   "cell_type": "markdown",
   "metadata": {},
   "source": [
    "Run the following command in shell:"
   ]
  },
  {
   "cell_type": "code",
   "execution_count": null,
   "metadata": {},
   "outputs": [],
   "source": [
    "nohup time deepwalk --format mat --input example_graphs/www-10k-70.mat \\\n",
    "--max-memory-data-size 0 --number-walks 80 --representation-size 128 --walk-length 40 --window-size 10 \\\n",
    "--workers 40 --output result/www-10k-70.deepwalk.emb &"
   ]
  },
  {
   "cell_type": "markdown",
   "metadata": {},
   "source": [
    "Link prediction:"
   ]
  },
  {
   "cell_type": "code",
   "execution_count": 55,
   "metadata": {},
   "outputs": [
    {
     "name": "stdout",
     "output_type": "stream",
     "text": [
      "0.786884392209892\n"
     ]
    }
   ],
   "source": [
    "model = KeyedVectors.load_word2vec_format('/home/hcchen/fast-random-projection/result/www-10k-70.deepwalk.emb')\n",
    "U = np.asarray([model[str(node)] for node in range(len(model.vocab) )])\n",
    "# print (U.shape)\n",
    "\n",
    "distances_random = np.array([cosine(U[edge[0]], U[edge[1]]) for edge in rand_pairs])\n",
    "distances_pos = np.array([cosine(U[edge[0]], U[edge[1]]) for edge in edges_to_test])\n",
    "\n",
    "scores_random = (distances_pos<distances_random).sum() / len(distances_random)\n",
    "print (scores_random)"
   ]
  },
  {
   "cell_type": "markdown",
   "metadata": {},
   "source": [
    "# Node2vec"
   ]
  },
  {
   "cell_type": "markdown",
   "metadata": {},
   "source": [
    "Run the following command in shell:"
   ]
  },
  {
   "cell_type": "code",
   "execution_count": null,
   "metadata": {},
   "outputs": [],
   "source": [
    "cd /home/hcchen/deepwalk-sgns/deepwalk && nohup time python __main__.py --format mat \\\n",
    "--input /home/hcchen/fast-random-projection/example_graphs/www-10k-70.mat \\\n",
    "--max-memory-data-size 0 --number-walks 80 --representation-size 128 --walk-length 40 --window-size 10 \\\n",
    "--workers 40 --output /home/hcchen/deepwalk-sgns/example_graphs/www-10k-70.node2vec.emb &"
   ]
  },
  {
   "cell_type": "markdown",
   "metadata": {},
   "source": [
    "Link prediction:"
   ]
  },
  {
   "cell_type": "code",
   "execution_count": 58,
   "metadata": {},
   "outputs": [
    {
     "name": "stdout",
     "output_type": "stream",
     "text": [
      "0.7504949277904835\n"
     ]
    }
   ],
   "source": [
    "model = KeyedVectors.load_word2vec_format('/home/hcchen/deepwalk-sgns/example_graphs/www-10k-70.node2vec.emb')\n",
    "U = np.asarray([model[str(node)] for node in range(len(model.vocab) )])\n",
    "# print (U.shape)\n",
    "\n",
    "distances_random = np.array([cosine(U[edge[0]], U[edge[1]]) for edge in rand_pairs])\n",
    "distances_pos = np.array([cosine(U[edge[0]], U[edge[1]]) for edge in edges_to_test])\n",
    "\n",
    "scores_random = (distances_pos<distances_random).sum() / len(distances_random)\n",
    "print (scores_random)"
   ]
  }
 ],
 "metadata": {
  "kernelspec": {
   "display_name": "Python 3",
   "language": "python",
   "name": "python3"
  },
  "language_info": {
   "codemirror_mode": {
    "name": "ipython",
    "version": 3
   },
   "file_extension": ".py",
   "mimetype": "text/x-python",
   "name": "python",
   "nbconvert_exporter": "python",
   "pygments_lexer": "ipython3",
   "version": "3.7.1"
  }
 },
 "nbformat": 4,
 "nbformat_minor": 2
}
