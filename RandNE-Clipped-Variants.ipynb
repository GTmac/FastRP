{
 "cells": [
  {
   "cell_type": "markdown",
   "metadata": {},
   "source": [
    "# Init"
   ]
  },
  {
   "cell_type": "code",
   "execution_count": 1,
   "metadata": {},
   "outputs": [],
   "source": [
    "%matplotlib inline\n",
    "\n",
    "import csv\n",
    "import datetime\n",
    "import itertools\n",
    "import json\n",
    "import math\n",
    "import matplotlib\n",
    "import time\n",
    "import logging\n",
    "import sys\n",
    "import sqlite3\n",
    "import os\n",
    "import random\n",
    "import warnings\n",
    "\n",
    "import gensim\n",
    "\n",
    "import scipy.sparse\n",
    "\n",
    "import pandas as pd\n",
    "import numpy as np\n",
    "import networkx as nx\n",
    "import matplotlib.pyplot as plt\n",
    "import seaborn as sns\n",
    "\n",
    "from pathlib import Path\n",
    "\n",
    "from sklearn import random_projection\n",
    "from tqdm import tqdm_notebook as tqdm\n",
    "from collections import Counter, defaultdict\n",
    "\n",
    "from sklearn.manifold import TSNE\n",
    "from scipy.sparse import coo_matrix, csr_matrix, csc_matrix, spdiags\n",
    "from scipy.io import loadmat, savemat\n",
    "from sklearn.metrics import f1_score\n",
    "from sklearn.metrics.pairwise import cosine_similarity\n",
    "from sklearn.preprocessing import normalize, MultiLabelBinarizer"
   ]
  },
  {
   "cell_type": "code",
   "execution_count": 2,
   "metadata": {},
   "outputs": [],
   "source": [
    "# to ignore sklearn warning\n",
    "def warn(*args, **kwargs):\n",
    "    pass\n",
    "import warnings\n",
    "warnings.warn = warn\n",
    "warnings.filterwarnings(\"ignore\", category=RuntimeWarning) "
   ]
  },
  {
   "cell_type": "code",
   "execution_count": 3,
   "metadata": {},
   "outputs": [],
   "source": [
    "from scoring import main"
   ]
  },
  {
   "cell_type": "code",
   "execution_count": 4,
   "metadata": {},
   "outputs": [],
   "source": [
    "%load_ext autoreload\n",
    "%autoreload 2"
   ]
  },
  {
   "cell_type": "markdown",
   "metadata": {},
   "source": [
    "# Load Data"
   ]
  },
  {
   "cell_type": "markdown",
   "metadata": {},
   "source": [
    "## Blogcatalog"
   ]
  },
  {
   "cell_type": "code",
   "execution_count": 5,
   "metadata": {},
   "outputs": [],
   "source": [
    "blogcatalog = loadmat('blogcatalog/blogcatalog.mat')"
   ]
  },
  {
   "cell_type": "code",
   "execution_count": 6,
   "metadata": {},
   "outputs": [],
   "source": [
    "blog_labels = blogcatalog['group']"
   ]
  },
  {
   "cell_type": "code",
   "execution_count": 7,
   "metadata": {},
   "outputs": [],
   "source": [
    "blog_A = blogcatalog['network']"
   ]
  },
  {
   "cell_type": "code",
   "execution_count": 15,
   "metadata": {
    "scrolled": true
   },
   "outputs": [
    {
     "data": {
      "text/plain": [
       "<10312x10312 sparse matrix of type '<class 'numpy.float64'>'\n",
       "\twith 667966 stored elements in Compressed Sparse Column format>"
      ]
     },
     "execution_count": 15,
     "metadata": {},
     "output_type": "execute_result"
    }
   ],
   "source": [
    "blog_A"
   ]
  },
  {
   "cell_type": "code",
   "execution_count": 16,
   "metadata": {},
   "outputs": [],
   "source": [
    "N = blog_A.shape[0]"
   ]
  },
  {
   "cell_type": "markdown",
   "metadata": {},
   "source": [
    "Obtain its transition matrix (note that the input matrix is symmetric):"
   ]
  },
  {
   "cell_type": "code",
   "execution_count": 45,
   "metadata": {},
   "outputs": [
    {
     "data": {
      "text/plain": [
       "(10312, 1)"
      ]
     },
     "execution_count": 45,
     "metadata": {},
     "output_type": "execute_result"
    }
   ],
   "source": [
    "np.power(scipy.sparse.csc_matrix.sum(blog_A, axis=1), -.7).shape"
   ]
  },
  {
   "cell_type": "code",
   "execution_count": null,
   "metadata": {},
   "outputs": [],
   "source": [
    "normalizer = spdiags(np.squeeze(1.0 / scipy.sparse.csc_matrix.sum(blog_A, axis=1) ), 0, N, N)"
   ]
  },
  {
   "cell_type": "code",
   "execution_count": 17,
   "metadata": {},
   "outputs": [],
   "source": [
    "normalizer = spdiags(np.squeeze(1.0 / scipy.sparse.csc_matrix.sum(blog_A, axis=1) ), 0, N, N)"
   ]
  },
  {
   "cell_type": "code",
   "execution_count": 18,
   "metadata": {},
   "outputs": [],
   "source": [
    "blog_trans = normalizer @ blog_A"
   ]
  },
  {
   "cell_type": "markdown",
   "metadata": {},
   "source": [
    "## Flickr"
   ]
  },
  {
   "cell_type": "code",
   "execution_count": 12,
   "metadata": {},
   "outputs": [],
   "source": [
    "flickr = loadmat('flickr/flickr.mat')"
   ]
  },
  {
   "cell_type": "code",
   "execution_count": 13,
   "metadata": {},
   "outputs": [
    {
     "data": {
      "text/plain": [
       "<80513x80513 sparse matrix of type '<class 'numpy.float64'>'\n",
       "\twith 11799764 stored elements in Compressed Sparse Column format>"
      ]
     },
     "execution_count": 13,
     "metadata": {},
     "output_type": "execute_result"
    }
   ],
   "source": [
    "flickr_A = flickr['network']\n",
    "flickr_A"
   ]
  },
  {
   "cell_type": "code",
   "execution_count": 14,
   "metadata": {},
   "outputs": [
    {
     "data": {
      "text/plain": [
       "80513"
      ]
     },
     "execution_count": 14,
     "metadata": {},
     "output_type": "execute_result"
    }
   ],
   "source": [
    "N = flickr_A.shape[0]\n",
    "N"
   ]
  },
  {
   "cell_type": "markdown",
   "metadata": {},
   "source": [
    "# Utility Functions"
   ]
  },
  {
   "cell_type": "markdown",
   "metadata": {},
   "source": [
    "Write the graph to a file as adjacency list:"
   ]
  },
  {
   "cell_type": "code",
   "execution_count": 19,
   "metadata": {},
   "outputs": [],
   "source": [
    "def sparse2graph(x):\n",
    "    G = defaultdict(lambda: set())\n",
    "    cx = x.tocoo()\n",
    "    for i, j, v in zip(cx.row, cx.col, cx.data):\n",
    "        G[i].add(j)\n",
    "    \n",
    "    lines = []\n",
    "    for k, v in G.items():\n",
    "        s = str(k) + ' ' + ' '.join(map(str, v))\n",
    "        lines.append(s)\n",
    "    return lines"
   ]
  },
  {
   "cell_type": "code",
   "execution_count": 20,
   "metadata": {},
   "outputs": [],
   "source": [
    "G = nx.parse_adjlist(sparse2graph(blog_A))"
   ]
  },
  {
   "cell_type": "markdown",
   "metadata": {},
   "source": [
    "# Random Projection"
   ]
  },
  {
   "cell_type": "markdown",
   "metadata": {},
   "source": [
    "Iterative computing:"
   ]
  },
  {
   "cell_type": "code",
   "execution_count": 22,
   "metadata": {},
   "outputs": [],
   "source": [
    "X = np.random.rand(1000, 500)\n",
    "transformer = random_projection.GaussianRandomProjection(n_components=128, random_state=42)\n",
    "Y = transformer.fit(X)"
   ]
  },
  {
   "cell_type": "code",
   "execution_count": 42,
   "metadata": {},
   "outputs": [],
   "source": [
    "Y.components_ = np.power(Y.components_, 0.0)"
   ]
  },
  {
   "cell_type": "code",
   "execution_count": 43,
   "metadata": {},
   "outputs": [],
   "source": [
    "Z = transformer.transform(X)"
   ]
  },
  {
   "cell_type": "code",
   "execution_count": 44,
   "metadata": {},
   "outputs": [
    {
     "data": {
      "text/plain": [
       "array([[244.03780014, 244.03780014, 244.03780014, ..., 244.03780014,\n",
       "        244.03780014, 244.03780014],\n",
       "       [251.44771984, 251.44771984, 251.44771984, ..., 251.44771984,\n",
       "        251.44771984, 251.44771984],\n",
       "       [246.30937939, 246.30937939, 246.30937939, ..., 246.30937939,\n",
       "        246.30937939, 246.30937939],\n",
       "       ...,\n",
       "       [251.51048624, 251.51048624, 251.51048624, ..., 251.51048624,\n",
       "        251.51048624, 251.51048624],\n",
       "       [235.68669296, 235.68669296, 235.68669296, ..., 235.68669296,\n",
       "        235.68669296, 235.68669296],\n",
       "       [240.75216462, 240.75216462, 240.75216462, ..., 240.75216462,\n",
       "        240.75216462, 240.75216462]])"
      ]
     },
     "execution_count": 44,
     "metadata": {},
     "output_type": "execute_result"
    }
   ],
   "source": [
    "Z"
   ]
  },
  {
   "cell_type": "code",
   "execution_count": 33,
   "metadata": {},
   "outputs": [
    {
     "data": {
      "text/plain": [
       "array([[ 0.01594374, -0.08723125,  2.23954467, ...,  0.46728496,\n",
       "         0.19606386,  0.30295309],\n",
       "       [ 0.25341453,  0.37006167,  2.38502913, ...,  0.10697233,\n",
       "        -0.90758355,  0.18836813],\n",
       "       [-0.19876407,  1.86306727,  1.59927889, ...,  0.20490529,\n",
       "         0.4450354 ,  1.06700783],\n",
       "       ...,\n",
       "       [ 0.65072992,  1.66044133,  2.94242512, ...,  0.63856823,\n",
       "        -0.13840223,  1.27547272],\n",
       "       [ 0.16329823,  0.32064575,  1.87828597, ...,  0.14715746,\n",
       "        -0.2790416 ,  0.92031721],\n",
       "       [ 0.0153604 ,  0.81394676,  2.100395  , ..., -0.86000989,\n",
       "        -0.23318889,  1.37883573]])"
      ]
     },
     "execution_count": 33,
     "metadata": {},
     "output_type": "execute_result"
    }
   ],
   "source": [
    "(X @ Y.components_.T)"
   ]
  },
  {
   "cell_type": "code",
   "execution_count": 23,
   "metadata": {
    "scrolled": true
   },
   "outputs": [
    {
     "data": {
      "text/plain": [
       "array([[ 0.04390374, -0.01222095,  0.05724812, ..., -0.01682372,\n",
       "        -0.07739445, -0.12222338],\n",
       "       [ 0.0818633 ,  0.16877018, -0.12361708, ...,  0.05664304,\n",
       "        -0.05048557,  0.05060965],\n",
       "       [ 0.12368671,  0.08172684,  0.00527063, ...,  0.10680549,\n",
       "         0.09051519,  0.05237248],\n",
       "       ...,\n",
       "       [-0.00029964,  0.01066886,  0.04304109, ...,  0.00529455,\n",
       "         0.06324871, -0.12981535],\n",
       "       [-0.03905845,  0.13112503,  0.08588685, ..., -0.07071537,\n",
       "         0.08302674,  0.0710103 ],\n",
       "       [-0.00867485, -0.02404968, -0.19078063, ..., -0.0566236 ,\n",
       "         0.01439484,  0.11295343]])"
      ]
     },
     "execution_count": 23,
     "metadata": {},
     "output_type": "execute_result"
    }
   ],
   "source": [
    "Y.components_"
   ]
  },
  {
   "cell_type": "code",
   "execution_count": 25,
   "metadata": {},
   "outputs": [
    {
     "data": {
      "text/plain": [
       "(128, 500)"
      ]
     },
     "execution_count": 25,
     "metadata": {},
     "output_type": "execute_result"
    }
   ],
   "source": [
    "Y.components_.shape"
   ]
  },
  {
   "cell_type": "code",
   "execution_count": 64,
   "metadata": {},
   "outputs": [],
   "source": [
    "# projection method: choose from Gaussian and Sparse\n",
    "# input matrix: choose from adjacency and transition matrix\n",
    "# alpha adjusts the weighting of nodes according to their degree\n",
    "def randne_projection(A, q=3, dim=128, projection_method='gaussian', input_matrix='adj', alpha=None):\n",
    "    assert input_matrix == 'adj' or input_matrix == 'trans'\n",
    "    assert projection_method == 'gaussian' or projection_method == 'sparse'\n",
    "    \n",
    "    if input_matrix == 'adj':\n",
    "        M = A\n",
    "    else:\n",
    "        N = A.shape[0]\n",
    "        normalizer = spdiags(np.squeeze(1.0 / scipy.sparse.csc_matrix.sum(A, axis=1) ), 0, N, N)\n",
    "        M = normalizer @ A\n",
    "    # Gaussian projection matrix\n",
    "    if projection_method == 'gaussian':\n",
    "        transformer = random_projection.GaussianRandomProjection(n_components=dim, random_state=42)\n",
    "    # Sparse projection matrix\n",
    "    else:\n",
    "        transformer = random_projection.SparseRandomProjection(n_components=dim, random_state=42)\n",
    "    Y = transformer.fit(M)\n",
    "    # Random projection for A\n",
    "    if alpha is not None:\n",
    "        Y.components_ = Y.components_ @ spdiags( \\\n",
    "                        np.squeeze(np.power(scipy.sparse.csc_matrix.sum(A, axis=1), alpha)), 0, N, N)\n",
    "    cur_U = transformer.transform(M)\n",
    "    U_list = [cur_U]\n",
    "    \n",
    "    for i in range(2, q + 1):\n",
    "        cur_U = M @ cur_U\n",
    "        U_list.append(cur_U)\n",
    "    return U_list"
   ]
  },
  {
   "cell_type": "markdown",
   "metadata": {},
   "source": [
    "Brute force computing, designed for the clipped transition matrix (introduced below):"
   ]
  },
  {
   "cell_type": "markdown",
   "metadata": {},
   "source": [
    "**Shall I use different projection matrices???**"
   ]
  },
  {
   "cell_type": "markdown",
   "metadata": {},
   "source": [
    "**Why sometimes CSC matrix or CSR matrix returned by randne_projection()???**"
   ]
  },
  {
   "cell_type": "code",
   "execution_count": 51,
   "metadata": {},
   "outputs": [],
   "source": [
    "def get_clipped_matrices(A, q=3, beta=None):\n",
    "    M_list = []\n",
    "    N = A.shape[0]\n",
    "    normalizer = spdiags(np.squeeze(1.0 / scipy.sparse.csc_matrix.sum(A, axis=1) ), 0, N, N)\n",
    "    trans = normalizer @ A\n",
    "    trans_pow = trans\n",
    "    b = beta / N\n",
    "\n",
    "    for i in range(1, q + 1):\n",
    "        print ('Current order: ', i)\n",
    "        _mat = get_grarep_clipped_matrix(trans_pow / trans_pow.sum(axis=0), b)\n",
    "        M_list.append(_mat)\n",
    "        # is this going to cause loss of accuracy?\n",
    "        trans_pow = trans @ trans_pow\n",
    "    \n",
    "    return M_list"
   ]
  },
  {
   "cell_type": "code",
   "execution_count": 104,
   "metadata": {},
   "outputs": [],
   "source": [
    "# takes in pre-computed clipped transition matrices\n",
    "def randne_projection_bruteforce(M_list, dim=128, projection_method='gaussian'):\n",
    "    assert projection_method == 'gaussian' or projection_method == 'sparse'\n",
    "    \n",
    "    # Gaussian projection matrix\n",
    "    if projection_method == 'gaussian':\n",
    "        transformer = random_projection.GaussianRandomProjection(n_components=dim, random_state=42)\n",
    "    # Sparse projection matrix\n",
    "    else:\n",
    "        transformer = random_projection.SparseRandomProjection(n_components=dim, random_state=42)\n",
    "\n",
    "    U_list = []\n",
    "    \n",
    "    for M in M_list:\n",
    "        cur_U = transformer.fit_transform(M)\n",
    "        U_list.append(cur_U)\n",
    "    return U_list"
   ]
  },
  {
   "cell_type": "markdown",
   "metadata": {},
   "source": [
    "# Merge Embeddings"
   ]
  },
  {
   "cell_type": "markdown",
   "metadata": {},
   "source": [
    "Merge embeddings (projections) from different powers of $A$ together:"
   ]
  },
  {
   "cell_type": "code",
   "execution_count": 50,
   "metadata": {},
   "outputs": [],
   "source": [
    "# When weights is None, concatenate instead of linearly combines the embeddings from different powers of A\n",
    "def randne_merge(U_list, weights, normalization=False):\n",
    "    dense_U_list = [_U.todense() for _U in U_list] if type(U_list[0]) == csc_matrix else U_list\n",
    "    _U_list = [normalize(_U, norm='l2', axis=1) for _U in dense_U_list] if normalization else dense_U_list\n",
    "\n",
    "    if weights is None:\n",
    "        return np.concatenate(_U_list, axis=1)\n",
    "    U = np.zeros_like(_U_list[0])\n",
    "    for cur_U, weight in zip(_U_list, weights):\n",
    "        U += cur_U * weight\n",
    "    return U"
   ]
  },
  {
   "cell_type": "markdown",
   "metadata": {},
   "source": [
    "## Transition Matrix Power for Flickr"
   ]
  },
  {
   "cell_type": "code",
   "execution_count": 118,
   "metadata": {},
   "outputs": [
    {
     "data": {
      "text/plain": [
       "<80513x80513 sparse matrix of type '<class 'numpy.float64'>'\n",
       "\twith 11799764 stored elements in Compressed Sparse Column format>"
      ]
     },
     "execution_count": 118,
     "metadata": {},
     "output_type": "execute_result"
    }
   ],
   "source": [
    "flickr_A"
   ]
  },
  {
   "cell_type": "markdown",
   "metadata": {},
   "source": [
    "...But this is going to give us OOM."
   ]
  },
  {
   "cell_type": "markdown",
   "metadata": {},
   "source": [
    "# All Variants to be Considered"
   ]
  },
  {
   "cell_type": "markdown",
   "metadata": {},
   "source": [
    "Here lists all variants that we consider:\n",
    "\n",
    "1. Different projection matrices: Gaussian and Signed Binary (the sparse one)\n",
    "2. Different input graph matrices: adjacency matrix and transition matrix and shifted transition matrix (see the GraRep paper -- may also need to tune $\\beta$). Also, the shifted transition matrix one requires exact computation of $A^k$.\n",
    "4. Different weight combinations of different powers: use the recommended weight combination in the paper (or do a grid search here?), and also only $A$, only $A^2$, only $A^3$ and so on. Also use one averaged over all powers of $A$, so that it is comparable to DeepWalk. Or alternatively, just take the concatenation of different embedding vectors.\n",
    "4. Normalization: do we (L2) normalize the embeddings computed from each power of $A$ or not?"
   ]
  },
  {
   "cell_type": "markdown",
   "metadata": {},
   "source": [
    "Here are two sample configurations:"
   ]
  },
  {
   "cell_type": "code",
   "execution_count": 212,
   "metadata": {},
   "outputs": [],
   "source": [
    "conf1 = {\n",
    "    'projection_method': 'sparse',\n",
    "    'input_matrix': 'trans',\n",
    "    'weights': [1.0, 1e2, 1e3, 0, 0, 0],\n",
    "    'normalization': True,\n",
    "    'd': 128,\n",
    "}\n",
    "\n",
    "conf2 = {\n",
    "    'projection_method': 'gaussian',\n",
    "    'input_matrix': 'adj',\n",
    "    'weights': None,\n",
    "    'normalization': False,\n",
    "    'd': 256,\n",
    "}"
   ]
  },
  {
   "cell_type": "markdown",
   "metadata": {},
   "source": [
    "Then we generate all possible configurations. First, generate different weights:"
   ]
  },
  {
   "cell_type": "code",
   "execution_count": 20,
   "metadata": {},
   "outputs": [
    {
     "data": {
      "text/plain": [
       "[[1.0, 0, 0, 0, 0, 0],\n",
       " [0, 1.0, 0, 0, 0, 0],\n",
       " [0, 0, 1.0, 0, 0, 0],\n",
       " [0, 0, 0, 1.0, 0, 0],\n",
       " [0, 0, 0, 0, 1.0, 0],\n",
       " [0, 0, 0, 0, 0, 1.0],\n",
       " [1.0, 100.0, 1000.0, 0, 0, 0],\n",
       " [0.1, 0.001, 0, 0, 0, 0],\n",
       " [1.0, 1.0, 0, 0, 0, 0],\n",
       " [1.0, 1.0, 1.0, 0, 0, 0],\n",
       " [1.0, 1.0, 1.0, 1.0, 0, 0],\n",
       " [1.0, 1.0, 1.0, 1.0, 1.0, 0],\n",
       " [1.0, 1.0, 1.0, 1.0, 1.0, 1.0],\n",
       " None]"
      ]
     },
     "execution_count": 20,
     "metadata": {},
     "output_type": "execute_result"
    }
   ],
   "source": [
    "max_order = 6\n",
    "# should it be a mapping between name and configuration?\n",
    "# using only A^k\n",
    "weights = [[1.0 if order == chosen_order else 0 for order in range(max_order)] for chosen_order in range(max_order)]\n",
    "# recommended setting for trans matrix\n",
    "weights += [ [1.0, 1e2, 1e3, 0, 0, 0] ]\n",
    "# recommended setting for adj matrix\n",
    "weights += [ [0.1, 0.001, 0, 0, 0, 0] ]\n",
    "# DeepWalk style weights\n",
    "weights += [ [1.0 for _ in range(order)] + [0 for _ in range(max_order - order)] for order in range(2, max_order + 1)]\n",
    "# no weights, use concatenation instead\n",
    "weights += [None]\n",
    "# TODO: grid search on weights?\n",
    "weights"
   ]
  },
  {
   "cell_type": "code",
   "execution_count": 26,
   "metadata": {},
   "outputs": [
    {
     "data": {
      "text/plain": [
       "336"
      ]
     },
     "execution_count": 26,
     "metadata": {},
     "output_type": "execute_result"
    }
   ],
   "source": [
    "keys = ['projection_method', 'input_matrix', 'weights', 'normalization', 'dim']\n",
    "\n",
    "all_dims = [128, 256, 512]\n",
    "\n",
    "all_conf_raw = itertools.product(\n",
    "    # projection method\n",
    "    ['gaussian', 'sparse'],\n",
    "    # input matrix\n",
    "    ['adj', 'trans'],\n",
    "    weights,\n",
    "    # normalization\n",
    "    [True, False],\n",
    "    # dimensionality\n",
    "    all_dims\n",
    ")\n",
    "all_conf = [{key: val for key, val in zip(keys, conf)} for conf in all_conf_raw]\n",
    "len(all_conf)"
   ]
  },
  {
   "cell_type": "code",
   "execution_count": 36,
   "metadata": {},
   "outputs": [
    {
     "data": {
      "text/plain": [
       "{'projection_method': 'gaussian',\n",
       " 'input_matrix': 'trans',\n",
       " 'weights': [1.0, 100.0, 1000.0, 0, 0, 0],\n",
       " 'normalization': False,\n",
       " 'dim': 256}"
      ]
     },
     "execution_count": 36,
     "metadata": {},
     "output_type": "execute_result"
    }
   ],
   "source": [
    "all_conf[124]"
   ]
  },
  {
   "cell_type": "markdown",
   "metadata": {},
   "source": [
    "Finally, a wrapper function that takes in a configuration and return the learned embeddings:"
   ]
  },
  {
   "cell_type": "code",
   "execution_count": 54,
   "metadata": {},
   "outputs": [],
   "source": [
    "max_order=6"
   ]
  },
  {
   "cell_type": "code",
   "execution_count": 62,
   "metadata": {},
   "outputs": [],
   "source": [
    "# A is the adjacency matrix\n",
    "def randne_wrapper(A, conf):\n",
    "#     # avoid redundant computation, but may increase memory usage\n",
    "#     conf_fingerprint = get_projection_fingerprint(conf)\n",
    "#     if conf_fingerprint in computed_U_list:\n",
    "#         U_list = computed_U_list[conf_fingerprint]\n",
    "#         # print ('Fingerprint found for %s, skip computing the projected matrices.' % conf_fingerprint)\n",
    "#     else:\n",
    "        # projection method: choose from Gaussian and Sparse\n",
    "        # input matrix: choose from adjacency and transition matrix\n",
    "    U_list = randne_projection(A,\n",
    "                               q=max_order,\n",
    "                               # q=len(conf['weights']),\n",
    "                               dim=conf['dim'],\n",
    "                               projection_method=conf['projection_method'],\n",
    "                               input_matrix=conf['input_matrix'],\n",
    "                               alpha=conf['alpha'],\n",
    "    )\n",
    "#     computed_U_list[conf_fingerprint] = U_list\n",
    "\n",
    "    U = randne_merge(U_list, conf['weights'], conf['normalization'])\n",
    "    return U"
   ]
  },
  {
   "cell_type": "markdown",
   "metadata": {},
   "source": [
    "**Reduce Redundant Computation**"
   ]
  },
  {
   "cell_type": "markdown",
   "metadata": {},
   "source": [
    "Create fingerprints for the projection part:"
   ]
  },
  {
   "cell_type": "code",
   "execution_count": 30,
   "metadata": {},
   "outputs": [],
   "source": [
    "def get_projection_fingerprint(conf):\n",
    "    return 'dim=' + str(conf['dim']) + ',projection_method=' + conf['projection_method'] \\\n",
    "        + ',input_matrix=' + conf['input_matrix']"
   ]
  },
  {
   "cell_type": "markdown",
   "metadata": {},
   "source": [
    "**GraRep Style Input Matrix**"
   ]
  },
  {
   "cell_type": "markdown",
   "metadata": {},
   "source": [
    "We defines a utility function to construct a GraRep style input matrix (see the GraRep paper). In other words, for each element $x$ in the $k$-step transition matrix, we set:\n",
    "$x^\\prime = \\max(\\log x - \\log \\beta, 0)$\n",
    "\n",
    "Note: it is recommended that $\\beta$ should be set to $1 / N$."
   ]
  },
  {
   "cell_type": "code",
   "execution_count": 143,
   "metadata": {},
   "outputs": [],
   "source": [
    "# takes in a numpy.matrix and return a CSC sparse matrix\n",
    "def get_grarep_clipped_matrix(A, beta):\n",
    "    tmp = np.log(A) - np.log(beta) if abs(beta) > eps else np.log(A)\n",
    "    tmp[np.isneginf(tmp)] = 0\n",
    "    return csc_matrix(np.clip(tmp, 0, None) )"
   ]
  },
  {
   "cell_type": "markdown",
   "metadata": {},
   "source": [
    "**Important**: this does not fit into the current RandNE framework, because we have to compute the GraRep clipped input matrix using brute force. Here we first compute the clipped matrices:"
   ]
  },
  {
   "cell_type": "code",
   "execution_count": 33,
   "metadata": {},
   "outputs": [
    {
     "data": {
      "text/plain": [
       "168"
      ]
     },
     "execution_count": 33,
     "metadata": {},
     "output_type": "execute_result"
    }
   ],
   "source": [
    "all_grarep_conf_raw = itertools.product(\n",
    "    # projection method\n",
    "    ['gaussian', 'sparse'],\n",
    "    # input matrix, just a placeholder\n",
    "    ['grarep_trans'],\n",
    "    weights,\n",
    "    # normalization\n",
    "    [True, False],\n",
    "    # dimensionality\n",
    "    all_dims\n",
    ")\n",
    "all_grarep_conf = [{key: val for key, val in zip(keys, conf)} for conf in all_grarep_conf_raw]\n",
    "len(all_grarep_conf)"
   ]
  },
  {
   "cell_type": "code",
   "execution_count": 35,
   "metadata": {},
   "outputs": [
    {
     "data": {
      "text/plain": [
       "[{'projection_method': 'gaussian',\n",
       "  'input_matrix': 'grarep_trans',\n",
       "  'weights': [1.0, 0, 0, 0, 0, 0],\n",
       "  'normalization': True,\n",
       "  'dim': 128},\n",
       " {'projection_method': 'gaussian',\n",
       "  'input_matrix': 'grarep_trans',\n",
       "  'weights': [1.0, 0, 0, 0, 0, 0],\n",
       "  'normalization': True,\n",
       "  'dim': 256},\n",
       " {'projection_method': 'gaussian',\n",
       "  'input_matrix': 'grarep_trans',\n",
       "  'weights': [1.0, 0, 0, 0, 0, 0],\n",
       "  'normalization': True,\n",
       "  'dim': 512}]"
      ]
     },
     "execution_count": 35,
     "metadata": {},
     "output_type": "execute_result"
    }
   ],
   "source": [
    "all_grarep_conf[:3]"
   ]
  },
  {
   "cell_type": "code",
   "execution_count": 134,
   "metadata": {},
   "outputs": [
    {
     "name": "stdout",
     "output_type": "stream",
     "text": [
      "Current order:  1\n",
      "Current order:  2\n",
      "Current order:  3\n",
      "Current order:  4\n",
      "Current order:  5\n",
      "Current order:  6\n",
      "CPU times: user 2min 40s, sys: 24.6 s, total: 3min 5s\n",
      "Wall time: 3min 5s\n"
     ]
    }
   ],
   "source": [
    "%%time\n",
    "# this is time-consuming\n",
    "M_list = get_clipped_matrices(blog_A, q=max_order, beta=1.0)"
   ]
  },
  {
   "cell_type": "code",
   "execution_count": 135,
   "metadata": {},
   "outputs": [
    {
     "data": {
      "text/plain": [
       "[<10312x10312 sparse matrix of type '<class 'numpy.float64'>'\n",
       " \twith 628636 stored elements in Compressed Sparse Column format>,\n",
       " <10312x10312 sparse matrix of type '<class 'numpy.float64'>'\n",
       " \twith 26640503 stored elements in Compressed Sparse Column format>,\n",
       " <10312x10312 sparse matrix of type '<class 'numpy.float64'>'\n",
       " \twith 40577753 stored elements in Compressed Sparse Column format>,\n",
       " <10312x10312 sparse matrix of type '<class 'numpy.float64'>'\n",
       " \twith 42191702 stored elements in Compressed Sparse Column format>,\n",
       " <10312x10312 sparse matrix of type '<class 'numpy.float64'>'\n",
       " \twith 48721436 stored elements in Compressed Sparse Column format>,\n",
       " <10312x10312 sparse matrix of type '<class 'numpy.float64'>'\n",
       " \twith 48158669 stored elements in Compressed Sparse Column format>]"
      ]
     },
     "execution_count": 135,
     "metadata": {},
     "output_type": "execute_result"
    }
   ],
   "source": [
    "M_list"
   ]
  },
  {
   "cell_type": "code",
   "execution_count": 150,
   "metadata": {},
   "outputs": [],
   "source": [
    "def get_debug_clipped_matrices(A, q=3):\n",
    "    M_list = []\n",
    "    N = A.shape[0]\n",
    "    normalizer = spdiags(np.squeeze(1.0 / scipy.sparse.csc_matrix.sum(A, axis=1) ), 0, N, N)\n",
    "    trans = normalizer @ A\n",
    "    trans_pow = trans\n",
    "\n",
    "    for i in range(1, q + 1):\n",
    "        print ('Current order: ', i)\n",
    "        _mat = trans_pow / trans_pow.sum(axis=0)\n",
    "        M_list.append(_mat)\n",
    "        # is this going to cause loss of accuracy?\n",
    "        trans_pow = trans @ trans_pow\n",
    "    \n",
    "    return M_list"
   ]
  },
  {
   "cell_type": "code",
   "execution_count": 151,
   "metadata": {},
   "outputs": [
    {
     "name": "stdout",
     "output_type": "stream",
     "text": [
      "Current order:  1\n",
      "Current order:  2\n",
      "Current order:  3\n",
      "Current order:  4\n",
      "Current order:  5\n",
      "Current order:  6\n",
      "CPU times: user 1min 59s, sys: 10.6 s, total: 2min 9s\n",
      "Wall time: 2min 9s\n"
     ]
    }
   ],
   "source": [
    "%time raw_M_list = get_debug_clipped_matrices(blog_A, q=6)"
   ]
  },
  {
   "cell_type": "code",
   "execution_count": 157,
   "metadata": {},
   "outputs": [
    {
     "data": {
      "text/plain": [
       "10312"
      ]
     },
     "execution_count": 157,
     "metadata": {},
     "output_type": "execute_result"
    }
   ],
   "source": [
    "N = blog_A.shape[0]\n",
    "N"
   ]
  },
  {
   "cell_type": "code",
   "execution_count": 158,
   "metadata": {},
   "outputs": [
    {
     "data": {
      "text/plain": [
       "9.69743987587277e-05"
      ]
     },
     "execution_count": 158,
     "metadata": {},
     "output_type": "execute_result"
    }
   ],
   "source": [
    "1.0 / N"
   ]
  },
  {
   "cell_type": "code",
   "execution_count": 159,
   "metadata": {},
   "outputs": [
    {
     "data": {
      "text/plain": [
       "matrix([[9.80433119e-05, 6.60055616e-05, 8.56702079e-05, ...,\n",
       "         4.80185629e-05, 2.84748514e-05, 3.48066188e-05]])"
      ]
     },
     "execution_count": 159,
     "metadata": {},
     "output_type": "execute_result"
    }
   ],
   "source": [
    "raw_M_list[2][random.randint(0, N)]"
   ]
  },
  {
   "cell_type": "code",
   "execution_count": 163,
   "metadata": {},
   "outputs": [
    {
     "data": {
      "text/plain": [
       "<matplotlib.axes._subplots.AxesSubplot at 0x7f02d5d22f60>"
      ]
     },
     "execution_count": 163,
     "metadata": {},
     "output_type": "execute_result"
    },
    {
     "data": {
      "image/png": "[encoded data removed]",
      "text/plain": [
       "<Figure size 432x288 with 1 Axes>"
      ]
     },
     "metadata": {
      "needs_background": "light"
     },
     "output_type": "display_data"
    }
   ],
   "source": [
    "sns.distplot(raw_M_list[3][random.randint(0, N)])"
   ]
  },
  {
   "cell_type": "code",
   "execution_count": 164,
   "metadata": {},
   "outputs": [
    {
     "data": {
      "text/plain": [
       "<matplotlib.axes._subplots.AxesSubplot at 0x7f02d6523860>"
      ]
     },
     "execution_count": 164,
     "metadata": {},
     "output_type": "execute_result"
    },
    {
     "data": {
      "image/png": "[encoded data removed]",
      "text/plain": [
       "<Figure size 432x288 with 1 Axes>"
      ]
     },
     "metadata": {
      "needs_background": "light"
     },
     "output_type": "display_data"
    }
   ],
   "source": [
    "sns.distplot(raw_M_list[3][random.randint(0, N)])"
   ]
  },
  {
   "cell_type": "code",
   "execution_count": 160,
   "metadata": {},
   "outputs": [
    {
     "name": "stderr",
     "output_type": "stream",
     "text": [
      "/home/local_hcchen/anaconda3/lib/python3.7/site-packages/scipy/stats/stats.py:1713: FutureWarning: Using a non-tuple sequence for multidimensional indexing is deprecated; use `arr[tuple(seq)]` instead of `arr[seq]`. In the future this will be interpreted as an array index, `arr[np.array(seq)]`, which will result either in an error or a different result.\n",
      "  return np.add.reduce(sorted[indexer] * weights, axis=axis) / sumval\n"
     ]
    },
    {
     "data": {
      "text/plain": [
       "<matplotlib.axes._subplots.AxesSubplot at 0x7f02d61f4908>"
      ]
     },
     "execution_count": 160,
     "metadata": {},
     "output_type": "execute_result"
    },
    {
     "data": {
      "image/png": "[encoded data removed]",
      "text/plain": [
       "<Figure size 432x288 with 1 Axes>"
      ]
     },
     "metadata": {
      "needs_background": "light"
     },
     "output_type": "display_data"
    }
   ],
   "source": [
    "sns.distplot(raw_M_list[2][random.randint(0, N)])"
   ]
  },
  {
   "cell_type": "code",
   "execution_count": 161,
   "metadata": {},
   "outputs": [
    {
     "data": {
      "text/plain": [
       "<matplotlib.axes._subplots.AxesSubplot at 0x7f02d5eb1828>"
      ]
     },
     "execution_count": 161,
     "metadata": {},
     "output_type": "execute_result"
    },
    {
     "data": {
      "image/png": "[encoded data removed]",
      "text/plain": [
       "<Figure size 432x288 with 1 Axes>"
      ]
     },
     "metadata": {
      "needs_background": "light"
     },
     "output_type": "display_data"
    }
   ],
   "source": [
    "sns.distplot(raw_M_list[2][random.randint(0, N)])"
   ]
  },
  {
   "cell_type": "code",
   "execution_count": 162,
   "metadata": {},
   "outputs": [
    {
     "data": {
      "text/plain": [
       "<matplotlib.axes._subplots.AxesSubplot at 0x7f02d5e4c6d8>"
      ]
     },
     "execution_count": 162,
     "metadata": {},
     "output_type": "execute_result"
    },
    {
     "data": {
      "image/png": "[encoded data removed]",
      "text/plain": [
       "<Figure size 432x288 with 1 Axes>"
      ]
     },
     "metadata": {
      "needs_background": "light"
     },
     "output_type": "display_data"
    }
   ],
   "source": [
    "sns.distplot(raw_M_list[2][random.randint(0, N)])"
   ]
  },
  {
   "cell_type": "markdown",
   "metadata": {},
   "source": [
    "# Grid Search on all Hyperparameters"
   ]
  },
  {
   "cell_type": "markdown",
   "metadata": {},
   "source": [
    "Define the embedding file's name based on the hyperparameters:"
   ]
  },
  {
   "cell_type": "code",
   "execution_count": 56,
   "metadata": {},
   "outputs": [],
   "source": [
    "def get_emb_filename(prefix, conf):\n",
    "    return prefix + '-dim=' + str(conf['dim']) + ',projection_method=' + conf['projection_method'] \\\n",
    "        + ',input_matrix=' + conf['input_matrix'] + ',normalization=' + str(conf['normalization']) \\\n",
    "        + ',weights=' + (','.join(map(str, conf['weights'])) if conf['weights'] is not None else 'None') \\\n",
    "        + ',alpha=' + (str(conf['alpha']) if 'alpha' in conf else '') \\\n",
    "        + '.mat'"
   ]
  },
  {
   "cell_type": "code",
   "execution_count": 345,
   "metadata": {},
   "outputs": [
    {
     "data": {
      "text/plain": [
       "'data/blog-dim=256,projection_method=gaussian,input_matrix=adj,normalization=True,weights=1.0,0,0,0,0,0.mat'"
      ]
     },
     "execution_count": 345,
     "metadata": {},
     "output_type": "execute_result"
    }
   ],
   "source": [
    "get_emb_filename('data/blog', all_conf[1])"
   ]
  },
  {
   "cell_type": "markdown",
   "metadata": {},
   "source": [
    "We start with non-clipped input matrices:"
   ]
  },
  {
   "cell_type": "code",
   "execution_count": 419,
   "metadata": {},
   "outputs": [
    {
     "data": {
      "text/plain": [
       "{'projection_method': 'sparse',\n",
       " 'input_matrix': 'adj',\n",
       " 'weights': None,\n",
       " 'normalization': True,\n",
       " 'dim': 128}"
      ]
     },
     "execution_count": 419,
     "metadata": {},
     "output_type": "execute_result"
    }
   ],
   "source": [
    "all_conf[246]"
   ]
  },
  {
   "cell_type": "code",
   "execution_count": null,
   "metadata": {
    "scrolled": true
   },
   "outputs": [
    {
     "name": "stdout",
     "output_type": "stream",
     "text": [
      "data/blog-dim=128,projection_method=sparse,input_matrix=adj,normalization=True,weights=None.mat\n",
      "data/blog-dim=256,projection_method=sparse,input_matrix=adj,normalization=True,weights=None.mat\n",
      "data/blog-dim=512,projection_method=sparse,input_matrix=adj,normalization=True,weights=None.mat\n",
      "data/blog-dim=128,projection_method=sparse,input_matrix=adj,normalization=False,weights=None.mat\n",
      "data/blog-dim=256,projection_method=sparse,input_matrix=adj,normalization=False,weights=None.mat\n",
      "data/blog-dim=512,projection_method=sparse,input_matrix=adj,normalization=False,weights=None.mat\n",
      "data/blog-dim=128,projection_method=sparse,input_matrix=trans,normalization=True,weights=1.0,0,0,0,0,0.mat\n",
      "data/blog-dim=256,projection_method=sparse,input_matrix=trans,normalization=True,weights=1.0,0,0,0,0,0.mat\n",
      "data/blog-dim=512,projection_method=sparse,input_matrix=trans,normalization=True,weights=1.0,0,0,0,0,0.mat\n",
      "data/blog-dim=128,projection_method=sparse,input_matrix=trans,normalization=False,weights=1.0,0,0,0,0,0.mat\n",
      "data/blog-dim=256,projection_method=sparse,input_matrix=trans,normalization=False,weights=1.0,0,0,0,0,0.mat\n",
      "data/blog-dim=512,projection_method=sparse,input_matrix=trans,normalization=False,weights=1.0,0,0,0,0,0.mat\n",
      "data/blog-dim=128,projection_method=sparse,input_matrix=trans,normalization=True,weights=0,1.0,0,0,0,0.mat\n",
      "data/blog-dim=256,projection_method=sparse,input_matrix=trans,normalization=True,weights=0,1.0,0,0,0,0.mat\n",
      "data/blog-dim=512,projection_method=sparse,input_matrix=trans,normalization=True,weights=0,1.0,0,0,0,0.mat\n",
      "data/blog-dim=128,projection_method=sparse,input_matrix=trans,normalization=False,weights=0,1.0,0,0,0,0.mat\n",
      "data/blog-dim=256,projection_method=sparse,input_matrix=trans,normalization=False,weights=0,1.0,0,0,0,0.mat\n",
      "data/blog-dim=512,projection_method=sparse,input_matrix=trans,normalization=False,weights=0,1.0,0,0,0,0.mat\n",
      "data/blog-dim=128,projection_method=sparse,input_matrix=trans,normalization=True,weights=0,0,1.0,0,0,0.mat\n",
      "data/blog-dim=256,projection_method=sparse,input_matrix=trans,normalization=True,weights=0,0,1.0,0,0,0.mat\n",
      "data/blog-dim=512,projection_method=sparse,input_matrix=trans,normalization=True,weights=0,0,1.0,0,0,0.mat\n",
      "data/blog-dim=128,projection_method=sparse,input_matrix=trans,normalization=False,weights=0,0,1.0,0,0,0.mat\n",
      "data/blog-dim=256,projection_method=sparse,input_matrix=trans,normalization=False,weights=0,0,1.0,0,0,0.mat\n",
      "data/blog-dim=512,projection_method=sparse,input_matrix=trans,normalization=False,weights=0,0,1.0,0,0,0.mat\n",
      "data/blog-dim=128,projection_method=sparse,input_matrix=trans,normalization=True,weights=0,0,0,1.0,0,0.mat\n",
      "data/blog-dim=256,projection_method=sparse,input_matrix=trans,normalization=True,weights=0,0,0,1.0,0,0.mat\n",
      "data/blog-dim=512,projection_method=sparse,input_matrix=trans,normalization=True,weights=0,0,0,1.0,0,0.mat\n",
      "data/blog-dim=128,projection_method=sparse,input_matrix=trans,normalization=False,weights=0,0,0,1.0,0,0.mat\n",
      "data/blog-dim=256,projection_method=sparse,input_matrix=trans,normalization=False,weights=0,0,0,1.0,0,0.mat\n",
      "data/blog-dim=512,projection_method=sparse,input_matrix=trans,normalization=False,weights=0,0,0,1.0,0,0.mat\n",
      "data/blog-dim=128,projection_method=sparse,input_matrix=trans,normalization=True,weights=0,0,0,0,1.0,0.mat\n",
      "data/blog-dim=256,projection_method=sparse,input_matrix=trans,normalization=True,weights=0,0,0,0,1.0,0.mat\n",
      "data/blog-dim=512,projection_method=sparse,input_matrix=trans,normalization=True,weights=0,0,0,0,1.0,0.mat\n",
      "data/blog-dim=128,projection_method=sparse,input_matrix=trans,normalization=False,weights=0,0,0,0,1.0,0.mat\n",
      "data/blog-dim=256,projection_method=sparse,input_matrix=trans,normalization=False,weights=0,0,0,0,1.0,0.mat\n",
      "data/blog-dim=512,projection_method=sparse,input_matrix=trans,normalization=False,weights=0,0,0,0,1.0,0.mat\n",
      "data/blog-dim=128,projection_method=sparse,input_matrix=trans,normalization=True,weights=0,0,0,0,0,1.0.mat\n",
      "data/blog-dim=256,projection_method=sparse,input_matrix=trans,normalization=True,weights=0,0,0,0,0,1.0.mat\n",
      "data/blog-dim=512,projection_method=sparse,input_matrix=trans,normalization=True,weights=0,0,0,0,0,1.0.mat\n",
      "data/blog-dim=128,projection_method=sparse,input_matrix=trans,normalization=False,weights=0,0,0,0,0,1.0.mat\n",
      "data/blog-dim=256,projection_method=sparse,input_matrix=trans,normalization=False,weights=0,0,0,0,0,1.0.mat\n",
      "data/blog-dim=512,projection_method=sparse,input_matrix=trans,normalization=False,weights=0,0,0,0,0,1.0.mat\n",
      "data/blog-dim=128,projection_method=sparse,input_matrix=trans,normalization=True,weights=1.0,100.0,1000.0,0,0,0.mat\n",
      "data/blog-dim=256,projection_method=sparse,input_matrix=trans,normalization=True,weights=1.0,100.0,1000.0,0,0,0.mat\n",
      "data/blog-dim=512,projection_method=sparse,input_matrix=trans,normalization=True,weights=1.0,100.0,1000.0,0,0,0.mat\n",
      "data/blog-dim=128,projection_method=sparse,input_matrix=trans,normalization=False,weights=1.0,100.0,1000.0,0,0,0.mat\n",
      "data/blog-dim=256,projection_method=sparse,input_matrix=trans,normalization=False,weights=1.0,100.0,1000.0,0,0,0.mat\n",
      "data/blog-dim=512,projection_method=sparse,input_matrix=trans,normalization=False,weights=1.0,100.0,1000.0,0,0,0.mat\n",
      "data/blog-dim=128,projection_method=sparse,input_matrix=trans,normalization=True,weights=0.1,0.001,0,0,0,0.mat\n",
      "data/blog-dim=256,projection_method=sparse,input_matrix=trans,normalization=True,weights=0.1,0.001,0,0,0,0.mat\n",
      "data/blog-dim=512,projection_method=sparse,input_matrix=trans,normalization=True,weights=0.1,0.001,0,0,0,0.mat\n",
      "data/blog-dim=128,projection_method=sparse,input_matrix=trans,normalization=False,weights=0.1,0.001,0,0,0,0.mat\n",
      "data/blog-dim=256,projection_method=sparse,input_matrix=trans,normalization=False,weights=0.1,0.001,0,0,0,0.mat\n",
      "data/blog-dim=512,projection_method=sparse,input_matrix=trans,normalization=False,weights=0.1,0.001,0,0,0,0.mat\n",
      "data/blog-dim=128,projection_method=sparse,input_matrix=trans,normalization=True,weights=1.0,1.0,0,0,0,0.mat\n",
      "data/blog-dim=256,projection_method=sparse,input_matrix=trans,normalization=True,weights=1.0,1.0,0,0,0,0.mat\n",
      "data/blog-dim=512,projection_method=sparse,input_matrix=trans,normalization=True,weights=1.0,1.0,0,0,0,0.mat\n",
      "data/blog-dim=128,projection_method=sparse,input_matrix=trans,normalization=False,weights=1.0,1.0,0,0,0,0.mat\n",
      "data/blog-dim=256,projection_method=sparse,input_matrix=trans,normalization=False,weights=1.0,1.0,0,0,0,0.mat\n",
      "data/blog-dim=512,projection_method=sparse,input_matrix=trans,normalization=False,weights=1.0,1.0,0,0,0,0.mat\n",
      "data/blog-dim=128,projection_method=sparse,input_matrix=trans,normalization=True,weights=1.0,1.0,1.0,0,0,0.mat\n",
      "data/blog-dim=256,projection_method=sparse,input_matrix=trans,normalization=True,weights=1.0,1.0,1.0,0,0,0.mat\n"
     ]
    }
   ],
   "source": [
    "INF = 1000\n",
    "\n",
    "df = pd.DataFrame()\n",
    "\n",
    "prefix = 'data/blog'\n",
    "\n",
    "computed_U_list = {}\n",
    "# for conf in [all_conf[21]]:\n",
    "for conf in all_conf[246:]:\n",
    "    # print (conf)\n",
    "    emb_filename = get_emb_filename(prefix, conf)\n",
    "    print (emb_filename)\n",
    "    # first check if this file already exists\n",
    "    path = Path(emb_filename)\n",
    "    if not path.is_file():\n",
    "        U = randne_wrapper(blog_A, conf, computed_U_list)\n",
    "        savemat(emb_filename, {'emb': U})\n",
    "    else:\n",
    "        print ('File %s already exists, skipped.' % emb_filename)\n",
    "    f1_scores = main(\n",
    "        [\"--emb\", emb_filename,\n",
    "          \"--network\",\"blogcatalog/blogcatalog.mat\",\n",
    "          \"--num-shuffles\", \"5\"],\n",
    "        )\n",
    "    # see https://stackoverflow.com/questions/38987/how-to-merge-two-dictionaries-in-a-single-expression\n",
    "    df = df.append(pd.Series({**conf, **f1_scores}), ignore_index=True)\n",
    "    df.to_csv('data/blog-scores.txt', sep='\\t', index=False, header=True)\n",
    "\n",
    "df"
   ]
  },
  {
   "cell_type": "markdown",
   "metadata": {},
   "source": [
    "## Grid Search For the Clipped Matrix"
   ]
  },
  {
   "cell_type": "code",
   "execution_count": 52,
   "metadata": {
    "collapsed": true
   },
   "outputs": [
    {
     "name": "stdout",
     "output_type": "stream",
     "text": [
      "data/blog-clipped--dim=128,projection_method=gaussian,input_matrix=grarep_trans,normalization=True,weights=1.0,0,0,0,0,0.mat\n",
      "data/blog-clipped--dim=256,projection_method=gaussian,input_matrix=grarep_trans,normalization=True,weights=1.0,0,0,0,0,0.mat\n",
      "data/blog-clipped--dim=512,projection_method=gaussian,input_matrix=grarep_trans,normalization=True,weights=1.0,0,0,0,0,0.mat\n",
      "data/blog-clipped--dim=128,projection_method=gaussian,input_matrix=grarep_trans,normalization=False,weights=1.0,0,0,0,0,0.mat\n",
      "data/blog-clipped--dim=256,projection_method=gaussian,input_matrix=grarep_trans,normalization=False,weights=1.0,0,0,0,0,0.mat\n",
      "data/blog-clipped--dim=512,projection_method=gaussian,input_matrix=grarep_trans,normalization=False,weights=1.0,0,0,0,0,0.mat\n",
      "data/blog-clipped--dim=128,projection_method=gaussian,input_matrix=grarep_trans,normalization=True,weights=0,1.0,0,0,0,0.mat\n",
      "data/blog-clipped--dim=256,projection_method=gaussian,input_matrix=grarep_trans,normalization=True,weights=0,1.0,0,0,0,0.mat\n",
      "data/blog-clipped--dim=512,projection_method=gaussian,input_matrix=grarep_trans,normalization=True,weights=0,1.0,0,0,0,0.mat\n",
      "data/blog-clipped--dim=128,projection_method=gaussian,input_matrix=grarep_trans,normalization=False,weights=0,1.0,0,0,0,0.mat\n",
      "data/blog-clipped--dim=256,projection_method=gaussian,input_matrix=grarep_trans,normalization=False,weights=0,1.0,0,0,0,0.mat\n",
      "data/blog-clipped--dim=512,projection_method=gaussian,input_matrix=grarep_trans,normalization=False,weights=0,1.0,0,0,0,0.mat\n",
      "data/blog-clipped--dim=128,projection_method=gaussian,input_matrix=grarep_trans,normalization=True,weights=0,0,1.0,0,0,0.mat\n",
      "data/blog-clipped--dim=256,projection_method=gaussian,input_matrix=grarep_trans,normalization=True,weights=0,0,1.0,0,0,0.mat\n",
      "data/blog-clipped--dim=512,projection_method=gaussian,input_matrix=grarep_trans,normalization=True,weights=0,0,1.0,0,0,0.mat\n",
      "data/blog-clipped--dim=128,projection_method=gaussian,input_matrix=grarep_trans,normalization=False,weights=0,0,1.0,0,0,0.mat\n",
      "data/blog-clipped--dim=256,projection_method=gaussian,input_matrix=grarep_trans,normalization=False,weights=0,0,1.0,0,0,0.mat\n",
      "data/blog-clipped--dim=512,projection_method=gaussian,input_matrix=grarep_trans,normalization=False,weights=0,0,1.0,0,0,0.mat\n",
      "data/blog-clipped--dim=128,projection_method=gaussian,input_matrix=grarep_trans,normalization=True,weights=0,0,0,1.0,0,0.mat\n",
      "data/blog-clipped--dim=256,projection_method=gaussian,input_matrix=grarep_trans,normalization=True,weights=0,0,0,1.0,0,0.mat\n",
      "data/blog-clipped--dim=512,projection_method=gaussian,input_matrix=grarep_trans,normalization=True,weights=0,0,0,1.0,0,0.mat\n",
      "data/blog-clipped--dim=128,projection_method=gaussian,input_matrix=grarep_trans,normalization=False,weights=0,0,0,1.0,0,0.mat\n",
      "data/blog-clipped--dim=256,projection_method=gaussian,input_matrix=grarep_trans,normalization=False,weights=0,0,0,1.0,0,0.mat\n",
      "data/blog-clipped--dim=512,projection_method=gaussian,input_matrix=grarep_trans,normalization=False,weights=0,0,0,1.0,0,0.mat\n",
      "data/blog-clipped--dim=128,projection_method=gaussian,input_matrix=grarep_trans,normalization=True,weights=0,0,0,0,1.0,0.mat\n",
      "data/blog-clipped--dim=256,projection_method=gaussian,input_matrix=grarep_trans,normalization=True,weights=0,0,0,0,1.0,0.mat\n",
      "data/blog-clipped--dim=512,projection_method=gaussian,input_matrix=grarep_trans,normalization=True,weights=0,0,0,0,1.0,0.mat\n",
      "data/blog-clipped--dim=128,projection_method=gaussian,input_matrix=grarep_trans,normalization=False,weights=0,0,0,0,1.0,0.mat\n",
      "data/blog-clipped--dim=256,projection_method=gaussian,input_matrix=grarep_trans,normalization=False,weights=0,0,0,0,1.0,0.mat\n",
      "data/blog-clipped--dim=512,projection_method=gaussian,input_matrix=grarep_trans,normalization=False,weights=0,0,0,0,1.0,0.mat\n",
      "data/blog-clipped--dim=128,projection_method=gaussian,input_matrix=grarep_trans,normalization=True,weights=0,0,0,0,0,1.0.mat\n",
      "data/blog-clipped--dim=256,projection_method=gaussian,input_matrix=grarep_trans,normalization=True,weights=0,0,0,0,0,1.0.mat\n",
      "data/blog-clipped--dim=512,projection_method=gaussian,input_matrix=grarep_trans,normalization=True,weights=0,0,0,0,0,1.0.mat\n",
      "data/blog-clipped--dim=128,projection_method=gaussian,input_matrix=grarep_trans,normalization=False,weights=0,0,0,0,0,1.0.mat\n",
      "data/blog-clipped--dim=256,projection_method=gaussian,input_matrix=grarep_trans,normalization=False,weights=0,0,0,0,0,1.0.mat\n",
      "data/blog-clipped--dim=512,projection_method=gaussian,input_matrix=grarep_trans,normalization=False,weights=0,0,0,0,0,1.0.mat\n",
      "data/blog-clipped--dim=128,projection_method=gaussian,input_matrix=grarep_trans,normalization=True,weights=1.0,100.0,1000.0,0,0,0.mat\n",
      "data/blog-clipped--dim=256,projection_method=gaussian,input_matrix=grarep_trans,normalization=True,weights=1.0,100.0,1000.0,0,0,0.mat\n",
      "data/blog-clipped--dim=512,projection_method=gaussian,input_matrix=grarep_trans,normalization=True,weights=1.0,100.0,1000.0,0,0,0.mat\n",
      "data/blog-clipped--dim=128,projection_method=gaussian,input_matrix=grarep_trans,normalization=False,weights=1.0,100.0,1000.0,0,0,0.mat\n",
      "data/blog-clipped--dim=256,projection_method=gaussian,input_matrix=grarep_trans,normalization=False,weights=1.0,100.0,1000.0,0,0,0.mat\n",
      "data/blog-clipped--dim=512,projection_method=gaussian,input_matrix=grarep_trans,normalization=False,weights=1.0,100.0,1000.0,0,0,0.mat\n",
      "data/blog-clipped--dim=128,projection_method=gaussian,input_matrix=grarep_trans,normalization=True,weights=0.1,0.001,0,0,0,0.mat\n",
      "data/blog-clipped--dim=256,projection_method=gaussian,input_matrix=grarep_trans,normalization=True,weights=0.1,0.001,0,0,0,0.mat\n",
      "data/blog-clipped--dim=512,projection_method=gaussian,input_matrix=grarep_trans,normalization=True,weights=0.1,0.001,0,0,0,0.mat\n",
      "data/blog-clipped--dim=128,projection_method=gaussian,input_matrix=grarep_trans,normalization=False,weights=0.1,0.001,0,0,0,0.mat\n",
      "data/blog-clipped--dim=256,projection_method=gaussian,input_matrix=grarep_trans,normalization=False,weights=0.1,0.001,0,0,0,0.mat\n",
      "data/blog-clipped--dim=512,projection_method=gaussian,input_matrix=grarep_trans,normalization=False,weights=0.1,0.001,0,0,0,0.mat\n",
      "data/blog-clipped--dim=128,projection_method=gaussian,input_matrix=grarep_trans,normalization=True,weights=1.0,1.0,0,0,0,0.mat\n",
      "data/blog-clipped--dim=256,projection_method=gaussian,input_matrix=grarep_trans,normalization=True,weights=1.0,1.0,0,0,0,0.mat\n",
      "data/blog-clipped--dim=512,projection_method=gaussian,input_matrix=grarep_trans,normalization=True,weights=1.0,1.0,0,0,0,0.mat\n",
      "data/blog-clipped--dim=128,projection_method=gaussian,input_matrix=grarep_trans,normalization=False,weights=1.0,1.0,0,0,0,0.mat\n",
      "data/blog-clipped--dim=256,projection_method=gaussian,input_matrix=grarep_trans,normalization=False,weights=1.0,1.0,0,0,0,0.mat\n",
      "data/blog-clipped--dim=512,projection_method=gaussian,input_matrix=grarep_trans,normalization=False,weights=1.0,1.0,0,0,0,0.mat\n",
      "data/blog-clipped--dim=128,projection_method=gaussian,input_matrix=grarep_trans,normalization=True,weights=1.0,1.0,1.0,0,0,0.mat\n",
      "data/blog-clipped--dim=256,projection_method=gaussian,input_matrix=grarep_trans,normalization=True,weights=1.0,1.0,1.0,0,0,0.mat\n",
      "data/blog-clipped--dim=512,projection_method=gaussian,input_matrix=grarep_trans,normalization=True,weights=1.0,1.0,1.0,0,0,0.mat\n",
      "data/blog-clipped--dim=128,projection_method=gaussian,input_matrix=grarep_trans,normalization=False,weights=1.0,1.0,1.0,0,0,0.mat\n",
      "data/blog-clipped--dim=256,projection_method=gaussian,input_matrix=grarep_trans,normalization=False,weights=1.0,1.0,1.0,0,0,0.mat\n",
      "data/blog-clipped--dim=512,projection_method=gaussian,input_matrix=grarep_trans,normalization=False,weights=1.0,1.0,1.0,0,0,0.mat\n",
      "data/blog-clipped--dim=128,projection_method=gaussian,input_matrix=grarep_trans,normalization=True,weights=1.0,1.0,1.0,1.0,0,0.mat\n",
      "data/blog-clipped--dim=256,projection_method=gaussian,input_matrix=grarep_trans,normalization=True,weights=1.0,1.0,1.0,1.0,0,0.mat\n",
      "data/blog-clipped--dim=512,projection_method=gaussian,input_matrix=grarep_trans,normalization=True,weights=1.0,1.0,1.0,1.0,0,0.mat\n",
      "data/blog-clipped--dim=128,projection_method=gaussian,input_matrix=grarep_trans,normalization=False,weights=1.0,1.0,1.0,1.0,0,0.mat\n",
      "data/blog-clipped--dim=256,projection_method=gaussian,input_matrix=grarep_trans,normalization=False,weights=1.0,1.0,1.0,1.0,0,0.mat\n"
     ]
    },
    {
     "name": "stdout",
     "output_type": "stream",
     "text": [
      "data/blog-clipped--dim=512,projection_method=gaussian,input_matrix=grarep_trans,normalization=False,weights=1.0,1.0,1.0,1.0,0,0.mat\n",
      "data/blog-clipped--dim=128,projection_method=gaussian,input_matrix=grarep_trans,normalization=True,weights=1.0,1.0,1.0,1.0,1.0,0.mat\n",
      "data/blog-clipped--dim=256,projection_method=gaussian,input_matrix=grarep_trans,normalization=True,weights=1.0,1.0,1.0,1.0,1.0,0.mat\n",
      "data/blog-clipped--dim=512,projection_method=gaussian,input_matrix=grarep_trans,normalization=True,weights=1.0,1.0,1.0,1.0,1.0,0.mat\n",
      "data/blog-clipped--dim=128,projection_method=gaussian,input_matrix=grarep_trans,normalization=False,weights=1.0,1.0,1.0,1.0,1.0,0.mat\n",
      "data/blog-clipped--dim=256,projection_method=gaussian,input_matrix=grarep_trans,normalization=False,weights=1.0,1.0,1.0,1.0,1.0,0.mat\n",
      "data/blog-clipped--dim=512,projection_method=gaussian,input_matrix=grarep_trans,normalization=False,weights=1.0,1.0,1.0,1.0,1.0,0.mat\n",
      "data/blog-clipped--dim=128,projection_method=gaussian,input_matrix=grarep_trans,normalization=True,weights=1.0,1.0,1.0,1.0,1.0,1.0.mat\n",
      "data/blog-clipped--dim=256,projection_method=gaussian,input_matrix=grarep_trans,normalization=True,weights=1.0,1.0,1.0,1.0,1.0,1.0.mat\n",
      "data/blog-clipped--dim=512,projection_method=gaussian,input_matrix=grarep_trans,normalization=True,weights=1.0,1.0,1.0,1.0,1.0,1.0.mat\n",
      "data/blog-clipped--dim=128,projection_method=gaussian,input_matrix=grarep_trans,normalization=False,weights=1.0,1.0,1.0,1.0,1.0,1.0.mat\n",
      "data/blog-clipped--dim=256,projection_method=gaussian,input_matrix=grarep_trans,normalization=False,weights=1.0,1.0,1.0,1.0,1.0,1.0.mat\n",
      "data/blog-clipped--dim=512,projection_method=gaussian,input_matrix=grarep_trans,normalization=False,weights=1.0,1.0,1.0,1.0,1.0,1.0.mat\n",
      "data/blog-clipped--dim=128,projection_method=gaussian,input_matrix=grarep_trans,normalization=True,weights=None.mat\n",
      "data/blog-clipped--dim=256,projection_method=gaussian,input_matrix=grarep_trans,normalization=True,weights=None.mat\n",
      "data/blog-clipped--dim=512,projection_method=gaussian,input_matrix=grarep_trans,normalization=True,weights=None.mat\n",
      "data/blog-clipped--dim=128,projection_method=gaussian,input_matrix=grarep_trans,normalization=False,weights=None.mat\n",
      "data/blog-clipped--dim=256,projection_method=gaussian,input_matrix=grarep_trans,normalization=False,weights=None.mat\n",
      "data/blog-clipped--dim=512,projection_method=gaussian,input_matrix=grarep_trans,normalization=False,weights=None.mat\n",
      "data/blog-clipped--dim=128,projection_method=sparse,input_matrix=grarep_trans,normalization=True,weights=1.0,0,0,0,0,0.mat\n",
      "data/blog-clipped--dim=256,projection_method=sparse,input_matrix=grarep_trans,normalization=True,weights=1.0,0,0,0,0,0.mat\n",
      "data/blog-clipped--dim=512,projection_method=sparse,input_matrix=grarep_trans,normalization=True,weights=1.0,0,0,0,0,0.mat\n",
      "data/blog-clipped--dim=128,projection_method=sparse,input_matrix=grarep_trans,normalization=False,weights=1.0,0,0,0,0,0.mat\n",
      "data/blog-clipped--dim=256,projection_method=sparse,input_matrix=grarep_trans,normalization=False,weights=1.0,0,0,0,0,0.mat\n",
      "data/blog-clipped--dim=512,projection_method=sparse,input_matrix=grarep_trans,normalization=False,weights=1.0,0,0,0,0,0.mat\n",
      "data/blog-clipped--dim=128,projection_method=sparse,input_matrix=grarep_trans,normalization=True,weights=0,1.0,0,0,0,0.mat\n",
      "data/blog-clipped--dim=256,projection_method=sparse,input_matrix=grarep_trans,normalization=True,weights=0,1.0,0,0,0,0.mat\n",
      "data/blog-clipped--dim=512,projection_method=sparse,input_matrix=grarep_trans,normalization=True,weights=0,1.0,0,0,0,0.mat\n",
      "data/blog-clipped--dim=128,projection_method=sparse,input_matrix=grarep_trans,normalization=False,weights=0,1.0,0,0,0,0.mat\n",
      "data/blog-clipped--dim=256,projection_method=sparse,input_matrix=grarep_trans,normalization=False,weights=0,1.0,0,0,0,0.mat\n",
      "data/blog-clipped--dim=512,projection_method=sparse,input_matrix=grarep_trans,normalization=False,weights=0,1.0,0,0,0,0.mat\n",
      "data/blog-clipped--dim=128,projection_method=sparse,input_matrix=grarep_trans,normalization=True,weights=0,0,1.0,0,0,0.mat\n",
      "data/blog-clipped--dim=256,projection_method=sparse,input_matrix=grarep_trans,normalization=True,weights=0,0,1.0,0,0,0.mat\n",
      "data/blog-clipped--dim=512,projection_method=sparse,input_matrix=grarep_trans,normalization=True,weights=0,0,1.0,0,0,0.mat\n",
      "data/blog-clipped--dim=128,projection_method=sparse,input_matrix=grarep_trans,normalization=False,weights=0,0,1.0,0,0,0.mat\n",
      "data/blog-clipped--dim=256,projection_method=sparse,input_matrix=grarep_trans,normalization=False,weights=0,0,1.0,0,0,0.mat\n",
      "data/blog-clipped--dim=512,projection_method=sparse,input_matrix=grarep_trans,normalization=False,weights=0,0,1.0,0,0,0.mat\n",
      "data/blog-clipped--dim=128,projection_method=sparse,input_matrix=grarep_trans,normalization=True,weights=0,0,0,1.0,0,0.mat\n",
      "data/blog-clipped--dim=256,projection_method=sparse,input_matrix=grarep_trans,normalization=True,weights=0,0,0,1.0,0,0.mat\n",
      "data/blog-clipped--dim=512,projection_method=sparse,input_matrix=grarep_trans,normalization=True,weights=0,0,0,1.0,0,0.mat\n",
      "data/blog-clipped--dim=128,projection_method=sparse,input_matrix=grarep_trans,normalization=False,weights=0,0,0,1.0,0,0.mat\n",
      "data/blog-clipped--dim=256,projection_method=sparse,input_matrix=grarep_trans,normalization=False,weights=0,0,0,1.0,0,0.mat\n",
      "data/blog-clipped--dim=512,projection_method=sparse,input_matrix=grarep_trans,normalization=False,weights=0,0,0,1.0,0,0.mat\n",
      "data/blog-clipped--dim=128,projection_method=sparse,input_matrix=grarep_trans,normalization=True,weights=0,0,0,0,1.0,0.mat\n",
      "data/blog-clipped--dim=256,projection_method=sparse,input_matrix=grarep_trans,normalization=True,weights=0,0,0,0,1.0,0.mat\n",
      "data/blog-clipped--dim=512,projection_method=sparse,input_matrix=grarep_trans,normalization=True,weights=0,0,0,0,1.0,0.mat\n",
      "data/blog-clipped--dim=128,projection_method=sparse,input_matrix=grarep_trans,normalization=False,weights=0,0,0,0,1.0,0.mat\n",
      "data/blog-clipped--dim=256,projection_method=sparse,input_matrix=grarep_trans,normalization=False,weights=0,0,0,0,1.0,0.mat\n",
      "data/blog-clipped--dim=512,projection_method=sparse,input_matrix=grarep_trans,normalization=False,weights=0,0,0,0,1.0,0.mat\n",
      "data/blog-clipped--dim=128,projection_method=sparse,input_matrix=grarep_trans,normalization=True,weights=0,0,0,0,0,1.0.mat\n",
      "data/blog-clipped--dim=256,projection_method=sparse,input_matrix=grarep_trans,normalization=True,weights=0,0,0,0,0,1.0.mat\n",
      "data/blog-clipped--dim=512,projection_method=sparse,input_matrix=grarep_trans,normalization=True,weights=0,0,0,0,0,1.0.mat\n",
      "data/blog-clipped--dim=128,projection_method=sparse,input_matrix=grarep_trans,normalization=False,weights=0,0,0,0,0,1.0.mat\n",
      "data/blog-clipped--dim=256,projection_method=sparse,input_matrix=grarep_trans,normalization=False,weights=0,0,0,0,0,1.0.mat\n",
      "data/blog-clipped--dim=512,projection_method=sparse,input_matrix=grarep_trans,normalization=False,weights=0,0,0,0,0,1.0.mat\n",
      "data/blog-clipped--dim=128,projection_method=sparse,input_matrix=grarep_trans,normalization=True,weights=1.0,100.0,1000.0,0,0,0.mat\n",
      "data/blog-clipped--dim=256,projection_method=sparse,input_matrix=grarep_trans,normalization=True,weights=1.0,100.0,1000.0,0,0,0.mat\n",
      "data/blog-clipped--dim=512,projection_method=sparse,input_matrix=grarep_trans,normalization=True,weights=1.0,100.0,1000.0,0,0,0.mat\n",
      "data/blog-clipped--dim=128,projection_method=sparse,input_matrix=grarep_trans,normalization=False,weights=1.0,100.0,1000.0,0,0,0.mat\n",
      "data/blog-clipped--dim=256,projection_method=sparse,input_matrix=grarep_trans,normalization=False,weights=1.0,100.0,1000.0,0,0,0.mat\n",
      "data/blog-clipped--dim=512,projection_method=sparse,input_matrix=grarep_trans,normalization=False,weights=1.0,100.0,1000.0,0,0,0.mat\n",
      "data/blog-clipped--dim=128,projection_method=sparse,input_matrix=grarep_trans,normalization=True,weights=0.1,0.001,0,0,0,0.mat\n",
      "data/blog-clipped--dim=256,projection_method=sparse,input_matrix=grarep_trans,normalization=True,weights=0.1,0.001,0,0,0,0.mat\n",
      "data/blog-clipped--dim=512,projection_method=sparse,input_matrix=grarep_trans,normalization=True,weights=0.1,0.001,0,0,0,0.mat\n",
      "data/blog-clipped--dim=128,projection_method=sparse,input_matrix=grarep_trans,normalization=False,weights=0.1,0.001,0,0,0,0.mat\n"
     ]
    },
    {
     "name": "stdout",
     "output_type": "stream",
     "text": [
      "data/blog-clipped--dim=256,projection_method=sparse,input_matrix=grarep_trans,normalization=False,weights=0.1,0.001,0,0,0,0.mat\n",
      "data/blog-clipped--dim=512,projection_method=sparse,input_matrix=grarep_trans,normalization=False,weights=0.1,0.001,0,0,0,0.mat\n",
      "data/blog-clipped--dim=128,projection_method=sparse,input_matrix=grarep_trans,normalization=True,weights=1.0,1.0,0,0,0,0.mat\n",
      "data/blog-clipped--dim=256,projection_method=sparse,input_matrix=grarep_trans,normalization=True,weights=1.0,1.0,0,0,0,0.mat\n",
      "data/blog-clipped--dim=512,projection_method=sparse,input_matrix=grarep_trans,normalization=True,weights=1.0,1.0,0,0,0,0.mat\n",
      "data/blog-clipped--dim=128,projection_method=sparse,input_matrix=grarep_trans,normalization=False,weights=1.0,1.0,0,0,0,0.mat\n",
      "data/blog-clipped--dim=256,projection_method=sparse,input_matrix=grarep_trans,normalization=False,weights=1.0,1.0,0,0,0,0.mat\n",
      "data/blog-clipped--dim=512,projection_method=sparse,input_matrix=grarep_trans,normalization=False,weights=1.0,1.0,0,0,0,0.mat\n",
      "data/blog-clipped--dim=128,projection_method=sparse,input_matrix=grarep_trans,normalization=True,weights=1.0,1.0,1.0,0,0,0.mat\n",
      "data/blog-clipped--dim=256,projection_method=sparse,input_matrix=grarep_trans,normalization=True,weights=1.0,1.0,1.0,0,0,0.mat\n",
      "data/blog-clipped--dim=512,projection_method=sparse,input_matrix=grarep_trans,normalization=True,weights=1.0,1.0,1.0,0,0,0.mat\n",
      "data/blog-clipped--dim=128,projection_method=sparse,input_matrix=grarep_trans,normalization=False,weights=1.0,1.0,1.0,0,0,0.mat\n",
      "data/blog-clipped--dim=256,projection_method=sparse,input_matrix=grarep_trans,normalization=False,weights=1.0,1.0,1.0,0,0,0.mat\n",
      "data/blog-clipped--dim=512,projection_method=sparse,input_matrix=grarep_trans,normalization=False,weights=1.0,1.0,1.0,0,0,0.mat\n",
      "data/blog-clipped--dim=128,projection_method=sparse,input_matrix=grarep_trans,normalization=True,weights=1.0,1.0,1.0,1.0,0,0.mat\n",
      "data/blog-clipped--dim=256,projection_method=sparse,input_matrix=grarep_trans,normalization=True,weights=1.0,1.0,1.0,1.0,0,0.mat\n",
      "data/blog-clipped--dim=512,projection_method=sparse,input_matrix=grarep_trans,normalization=True,weights=1.0,1.0,1.0,1.0,0,0.mat\n",
      "data/blog-clipped--dim=128,projection_method=sparse,input_matrix=grarep_trans,normalization=False,weights=1.0,1.0,1.0,1.0,0,0.mat\n",
      "data/blog-clipped--dim=256,projection_method=sparse,input_matrix=grarep_trans,normalization=False,weights=1.0,1.0,1.0,1.0,0,0.mat\n",
      "data/blog-clipped--dim=512,projection_method=sparse,input_matrix=grarep_trans,normalization=False,weights=1.0,1.0,1.0,1.0,0,0.mat\n",
      "data/blog-clipped--dim=128,projection_method=sparse,input_matrix=grarep_trans,normalization=True,weights=1.0,1.0,1.0,1.0,1.0,0.mat\n",
      "data/blog-clipped--dim=256,projection_method=sparse,input_matrix=grarep_trans,normalization=True,weights=1.0,1.0,1.0,1.0,1.0,0.mat\n",
      "data/blog-clipped--dim=512,projection_method=sparse,input_matrix=grarep_trans,normalization=True,weights=1.0,1.0,1.0,1.0,1.0,0.mat\n",
      "data/blog-clipped--dim=128,projection_method=sparse,input_matrix=grarep_trans,normalization=False,weights=1.0,1.0,1.0,1.0,1.0,0.mat\n",
      "data/blog-clipped--dim=256,projection_method=sparse,input_matrix=grarep_trans,normalization=False,weights=1.0,1.0,1.0,1.0,1.0,0.mat\n",
      "data/blog-clipped--dim=512,projection_method=sparse,input_matrix=grarep_trans,normalization=False,weights=1.0,1.0,1.0,1.0,1.0,0.mat\n",
      "data/blog-clipped--dim=128,projection_method=sparse,input_matrix=grarep_trans,normalization=True,weights=1.0,1.0,1.0,1.0,1.0,1.0.mat\n",
      "data/blog-clipped--dim=256,projection_method=sparse,input_matrix=grarep_trans,normalization=True,weights=1.0,1.0,1.0,1.0,1.0,1.0.mat\n",
      "data/blog-clipped--dim=512,projection_method=sparse,input_matrix=grarep_trans,normalization=True,weights=1.0,1.0,1.0,1.0,1.0,1.0.mat\n",
      "data/blog-clipped--dim=128,projection_method=sparse,input_matrix=grarep_trans,normalization=False,weights=1.0,1.0,1.0,1.0,1.0,1.0.mat\n",
      "data/blog-clipped--dim=256,projection_method=sparse,input_matrix=grarep_trans,normalization=False,weights=1.0,1.0,1.0,1.0,1.0,1.0.mat\n",
      "data/blog-clipped--dim=512,projection_method=sparse,input_matrix=grarep_trans,normalization=False,weights=1.0,1.0,1.0,1.0,1.0,1.0.mat\n",
      "data/blog-clipped--dim=128,projection_method=sparse,input_matrix=grarep_trans,normalization=True,weights=None.mat\n",
      "data/blog-clipped--dim=256,projection_method=sparse,input_matrix=grarep_trans,normalization=True,weights=None.mat\n",
      "data/blog-clipped--dim=512,projection_method=sparse,input_matrix=grarep_trans,normalization=True,weights=None.mat\n",
      "data/blog-clipped--dim=128,projection_method=sparse,input_matrix=grarep_trans,normalization=False,weights=None.mat\n",
      "data/blog-clipped--dim=256,projection_method=sparse,input_matrix=grarep_trans,normalization=False,weights=None.mat\n",
      "data/blog-clipped--dim=512,projection_method=sparse,input_matrix=grarep_trans,normalization=False,weights=None.mat\n"
     ]
    },
    {
     "data": {
      "text/html": [
       "<div>\n",
       "<style scoped>\n",
       "    .dataframe tbody tr th:only-of-type {\n",
       "        vertical-align: middle;\n",
       "    }\n",
       "\n",
       "    .dataframe tbody tr th {\n",
       "        vertical-align: top;\n",
       "    }\n",
       "\n",
       "    .dataframe thead th {\n",
       "        text-align: right;\n",
       "    }\n",
       "</style>\n",
       "<table border=\"1\" class=\"dataframe\">\n",
       "  <thead>\n",
       "    <tr style=\"text-align: right;\">\n",
       "      <th></th>\n",
       "      <th>dim</th>\n",
       "      <th>input_matrix</th>\n",
       "      <th>macro</th>\n",
       "      <th>micro</th>\n",
       "      <th>normalization</th>\n",
       "      <th>projection_method</th>\n",
       "      <th>weights</th>\n",
       "    </tr>\n",
       "  </thead>\n",
       "  <tbody>\n",
       "    <tr>\n",
       "      <th>0</th>\n",
       "      <td>128.0</td>\n",
       "      <td>grarep_trans</td>\n",
       "      <td>0.064746</td>\n",
       "      <td>0.202720</td>\n",
       "      <td>1.0</td>\n",
       "      <td>gaussian</td>\n",
       "      <td>[1.0, 0, 0, 0, 0, 0]</td>\n",
       "    </tr>\n",
       "    <tr>\n",
       "      <th>1</th>\n",
       "      <td>256.0</td>\n",
       "      <td>grarep_trans</td>\n",
       "      <td>0.072206</td>\n",
       "      <td>0.223535</td>\n",
       "      <td>1.0</td>\n",
       "      <td>gaussian</td>\n",
       "      <td>[1.0, 0, 0, 0, 0, 0]</td>\n",
       "    </tr>\n",
       "    <tr>\n",
       "      <th>2</th>\n",
       "      <td>512.0</td>\n",
       "      <td>grarep_trans</td>\n",
       "      <td>0.078131</td>\n",
       "      <td>0.242786</td>\n",
       "      <td>1.0</td>\n",
       "      <td>gaussian</td>\n",
       "      <td>[1.0, 0, 0, 0, 0, 0]</td>\n",
       "    </tr>\n",
       "    <tr>\n",
       "      <th>3</th>\n",
       "      <td>128.0</td>\n",
       "      <td>grarep_trans</td>\n",
       "      <td>0.079958</td>\n",
       "      <td>0.140119</td>\n",
       "      <td>0.0</td>\n",
       "      <td>gaussian</td>\n",
       "      <td>[1.0, 0, 0, 0, 0, 0]</td>\n",
       "    </tr>\n",
       "    <tr>\n",
       "      <th>4</th>\n",
       "      <td>256.0</td>\n",
       "      <td>grarep_trans</td>\n",
       "      <td>0.095880</td>\n",
       "      <td>0.160715</td>\n",
       "      <td>0.0</td>\n",
       "      <td>gaussian</td>\n",
       "      <td>[1.0, 0, 0, 0, 0, 0]</td>\n",
       "    </tr>\n",
       "    <tr>\n",
       "      <th>5</th>\n",
       "      <td>512.0</td>\n",
       "      <td>grarep_trans</td>\n",
       "      <td>0.108898</td>\n",
       "      <td>0.191647</td>\n",
       "      <td>0.0</td>\n",
       "      <td>gaussian</td>\n",
       "      <td>[1.0, 0, 0, 0, 0, 0]</td>\n",
       "    </tr>\n",
       "    <tr>\n",
       "      <th>6</th>\n",
       "      <td>128.0</td>\n",
       "      <td>grarep_trans</td>\n",
       "      <td>0.109869</td>\n",
       "      <td>0.287898</td>\n",
       "      <td>1.0</td>\n",
       "      <td>gaussian</td>\n",
       "      <td>[0, 1.0, 0, 0, 0, 0]</td>\n",
       "    </tr>\n",
       "    <tr>\n",
       "      <th>7</th>\n",
       "      <td>256.0</td>\n",
       "      <td>grarep_trans</td>\n",
       "      <td>0.126100</td>\n",
       "      <td>0.308021</td>\n",
       "      <td>1.0</td>\n",
       "      <td>gaussian</td>\n",
       "      <td>[0, 1.0, 0, 0, 0, 0]</td>\n",
       "    </tr>\n",
       "    <tr>\n",
       "      <th>8</th>\n",
       "      <td>512.0</td>\n",
       "      <td>grarep_trans</td>\n",
       "      <td>0.131767</td>\n",
       "      <td>0.323166</td>\n",
       "      <td>1.0</td>\n",
       "      <td>gaussian</td>\n",
       "      <td>[0, 1.0, 0, 0, 0, 0]</td>\n",
       "    </tr>\n",
       "    <tr>\n",
       "      <th>9</th>\n",
       "      <td>128.0</td>\n",
       "      <td>grarep_trans</td>\n",
       "      <td>0.121665</td>\n",
       "      <td>0.202284</td>\n",
       "      <td>0.0</td>\n",
       "      <td>gaussian</td>\n",
       "      <td>[0, 1.0, 0, 0, 0, 0]</td>\n",
       "    </tr>\n",
       "    <tr>\n",
       "      <th>10</th>\n",
       "      <td>256.0</td>\n",
       "      <td>grarep_trans</td>\n",
       "      <td>0.137751</td>\n",
       "      <td>0.234788</td>\n",
       "      <td>0.0</td>\n",
       "      <td>gaussian</td>\n",
       "      <td>[0, 1.0, 0, 0, 0, 0]</td>\n",
       "    </tr>\n",
       "    <tr>\n",
       "      <th>11</th>\n",
       "      <td>512.0</td>\n",
       "      <td>grarep_trans</td>\n",
       "      <td>0.164826</td>\n",
       "      <td>0.274333</td>\n",
       "      <td>0.0</td>\n",
       "      <td>gaussian</td>\n",
       "      <td>[0, 1.0, 0, 0, 0, 0]</td>\n",
       "    </tr>\n",
       "    <tr>\n",
       "      <th>12</th>\n",
       "      <td>128.0</td>\n",
       "      <td>grarep_trans</td>\n",
       "      <td>0.140255</td>\n",
       "      <td>0.323398</td>\n",
       "      <td>1.0</td>\n",
       "      <td>gaussian</td>\n",
       "      <td>[0, 0, 1.0, 0, 0, 0]</td>\n",
       "    </tr>\n",
       "    <tr>\n",
       "      <th>13</th>\n",
       "      <td>256.0</td>\n",
       "      <td>grarep_trans</td>\n",
       "      <td>0.148118</td>\n",
       "      <td>0.334337</td>\n",
       "      <td>1.0</td>\n",
       "      <td>gaussian</td>\n",
       "      <td>[0, 0, 1.0, 0, 0, 0]</td>\n",
       "    </tr>\n",
       "    <tr>\n",
       "      <th>14</th>\n",
       "      <td>512.0</td>\n",
       "      <td>grarep_trans</td>\n",
       "      <td>0.148943</td>\n",
       "      <td>0.340660</td>\n",
       "      <td>1.0</td>\n",
       "      <td>gaussian</td>\n",
       "      <td>[0, 0, 1.0, 0, 0, 0]</td>\n",
       "    </tr>\n",
       "    <tr>\n",
       "      <th>15</th>\n",
       "      <td>128.0</td>\n",
       "      <td>grarep_trans</td>\n",
       "      <td>0.149155</td>\n",
       "      <td>0.243519</td>\n",
       "      <td>0.0</td>\n",
       "      <td>gaussian</td>\n",
       "      <td>[0, 0, 1.0, 0, 0, 0]</td>\n",
       "    </tr>\n",
       "    <tr>\n",
       "      <th>16</th>\n",
       "      <td>256.0</td>\n",
       "      <td>grarep_trans</td>\n",
       "      <td>0.158217</td>\n",
       "      <td>0.261678</td>\n",
       "      <td>0.0</td>\n",
       "      <td>gaussian</td>\n",
       "      <td>[0, 0, 1.0, 0, 0, 0]</td>\n",
       "    </tr>\n",
       "    <tr>\n",
       "      <th>17</th>\n",
       "      <td>512.0</td>\n",
       "      <td>grarep_trans</td>\n",
       "      <td>0.185391</td>\n",
       "      <td>0.301900</td>\n",
       "      <td>0.0</td>\n",
       "      <td>gaussian</td>\n",
       "      <td>[0, 0, 1.0, 0, 0, 0]</td>\n",
       "    </tr>\n",
       "    <tr>\n",
       "      <th>18</th>\n",
       "      <td>128.0</td>\n",
       "      <td>grarep_trans</td>\n",
       "      <td>0.150569</td>\n",
       "      <td>0.330024</td>\n",
       "      <td>1.0</td>\n",
       "      <td>gaussian</td>\n",
       "      <td>[0, 0, 0, 1.0, 0, 0]</td>\n",
       "    </tr>\n",
       "    <tr>\n",
       "      <th>19</th>\n",
       "      <td>256.0</td>\n",
       "      <td>grarep_trans</td>\n",
       "      <td>0.152787</td>\n",
       "      <td>0.338477</td>\n",
       "      <td>1.0</td>\n",
       "      <td>gaussian</td>\n",
       "      <td>[0, 0, 0, 1.0, 0, 0]</td>\n",
       "    </tr>\n",
       "    <tr>\n",
       "      <th>20</th>\n",
       "      <td>512.0</td>\n",
       "      <td>grarep_trans</td>\n",
       "      <td>0.158228</td>\n",
       "      <td>0.344261</td>\n",
       "      <td>1.0</td>\n",
       "      <td>gaussian</td>\n",
       "      <td>[0, 0, 0, 1.0, 0, 0]</td>\n",
       "    </tr>\n",
       "    <tr>\n",
       "      <th>21</th>\n",
       "      <td>128.0</td>\n",
       "      <td>grarep_trans</td>\n",
       "      <td>0.181123</td>\n",
       "      <td>0.298991</td>\n",
       "      <td>0.0</td>\n",
       "      <td>gaussian</td>\n",
       "      <td>[0, 0, 0, 1.0, 0, 0]</td>\n",
       "    </tr>\n",
       "    <tr>\n",
       "      <th>22</th>\n",
       "      <td>256.0</td>\n",
       "      <td>grarep_trans</td>\n",
       "      <td>0.191585</td>\n",
       "      <td>0.310818</td>\n",
       "      <td>0.0</td>\n",
       "      <td>gaussian</td>\n",
       "      <td>[0, 0, 0, 1.0, 0, 0]</td>\n",
       "    </tr>\n",
       "    <tr>\n",
       "      <th>23</th>\n",
       "      <td>512.0</td>\n",
       "      <td>grarep_trans</td>\n",
       "      <td>0.208445</td>\n",
       "      <td>0.328939</td>\n",
       "      <td>0.0</td>\n",
       "      <td>gaussian</td>\n",
       "      <td>[0, 0, 0, 1.0, 0, 0]</td>\n",
       "    </tr>\n",
       "    <tr>\n",
       "      <th>24</th>\n",
       "      <td>128.0</td>\n",
       "      <td>grarep_trans</td>\n",
       "      <td>0.139042</td>\n",
       "      <td>0.320603</td>\n",
       "      <td>1.0</td>\n",
       "      <td>gaussian</td>\n",
       "      <td>[0, 0, 0, 0, 1.0, 0]</td>\n",
       "    </tr>\n",
       "    <tr>\n",
       "      <th>25</th>\n",
       "      <td>256.0</td>\n",
       "      <td>grarep_trans</td>\n",
       "      <td>0.141382</td>\n",
       "      <td>0.324849</td>\n",
       "      <td>1.0</td>\n",
       "      <td>gaussian</td>\n",
       "      <td>[0, 0, 0, 0, 1.0, 0]</td>\n",
       "    </tr>\n",
       "    <tr>\n",
       "      <th>26</th>\n",
       "      <td>512.0</td>\n",
       "      <td>grarep_trans</td>\n",
       "      <td>0.149433</td>\n",
       "      <td>0.328576</td>\n",
       "      <td>1.0</td>\n",
       "      <td>gaussian</td>\n",
       "      <td>[0, 0, 0, 0, 1.0, 0]</td>\n",
       "    </tr>\n",
       "    <tr>\n",
       "      <th>27</th>\n",
       "      <td>128.0</td>\n",
       "      <td>grarep_trans</td>\n",
       "      <td>0.192778</td>\n",
       "      <td>0.332826</td>\n",
       "      <td>0.0</td>\n",
       "      <td>gaussian</td>\n",
       "      <td>[0, 0, 0, 0, 1.0, 0]</td>\n",
       "    </tr>\n",
       "    <tr>\n",
       "      <th>28</th>\n",
       "      <td>256.0</td>\n",
       "      <td>grarep_trans</td>\n",
       "      <td>0.204777</td>\n",
       "      <td>0.344393</td>\n",
       "      <td>0.0</td>\n",
       "      <td>gaussian</td>\n",
       "      <td>[0, 0, 0, 0, 1.0, 0]</td>\n",
       "    </tr>\n",
       "    <tr>\n",
       "      <th>29</th>\n",
       "      <td>512.0</td>\n",
       "      <td>grarep_trans</td>\n",
       "      <td>0.208612</td>\n",
       "      <td>0.353634</td>\n",
       "      <td>0.0</td>\n",
       "      <td>gaussian</td>\n",
       "      <td>[0, 0, 0, 0, 1.0, 0]</td>\n",
       "    </tr>\n",
       "    <tr>\n",
       "      <th>...</th>\n",
       "      <td>...</td>\n",
       "      <td>...</td>\n",
       "      <td>...</td>\n",
       "      <td>...</td>\n",
       "      <td>...</td>\n",
       "      <td>...</td>\n",
       "      <td>...</td>\n",
       "    </tr>\n",
       "    <tr>\n",
       "      <th>138</th>\n",
       "      <td>128.0</td>\n",
       "      <td>grarep_trans</td>\n",
       "      <td>0.174346</td>\n",
       "      <td>0.319493</td>\n",
       "      <td>1.0</td>\n",
       "      <td>sparse</td>\n",
       "      <td>[1.0, 1.0, 1.0, 0, 0, 0]</td>\n",
       "    </tr>\n",
       "    <tr>\n",
       "      <th>139</th>\n",
       "      <td>256.0</td>\n",
       "      <td>grarep_trans</td>\n",
       "      <td>0.189204</td>\n",
       "      <td>0.344104</td>\n",
       "      <td>1.0</td>\n",
       "      <td>sparse</td>\n",
       "      <td>[1.0, 1.0, 1.0, 0, 0, 0]</td>\n",
       "    </tr>\n",
       "    <tr>\n",
       "      <th>140</th>\n",
       "      <td>512.0</td>\n",
       "      <td>grarep_trans</td>\n",
       "      <td>0.204524</td>\n",
       "      <td>0.361603</td>\n",
       "      <td>1.0</td>\n",
       "      <td>sparse</td>\n",
       "      <td>[1.0, 1.0, 1.0, 0, 0, 0]</td>\n",
       "    </tr>\n",
       "    <tr>\n",
       "      <th>141</th>\n",
       "      <td>128.0</td>\n",
       "      <td>grarep_trans</td>\n",
       "      <td>0.133859</td>\n",
       "      <td>0.212988</td>\n",
       "      <td>0.0</td>\n",
       "      <td>sparse</td>\n",
       "      <td>[1.0, 1.0, 1.0, 0, 0, 0]</td>\n",
       "    </tr>\n",
       "    <tr>\n",
       "      <th>142</th>\n",
       "      <td>256.0</td>\n",
       "      <td>grarep_trans</td>\n",
       "      <td>0.157594</td>\n",
       "      <td>0.250412</td>\n",
       "      <td>0.0</td>\n",
       "      <td>sparse</td>\n",
       "      <td>[1.0, 1.0, 1.0, 0, 0, 0]</td>\n",
       "    </tr>\n",
       "    <tr>\n",
       "      <th>143</th>\n",
       "      <td>512.0</td>\n",
       "      <td>grarep_trans</td>\n",
       "      <td>0.187968</td>\n",
       "      <td>0.291357</td>\n",
       "      <td>0.0</td>\n",
       "      <td>sparse</td>\n",
       "      <td>[1.0, 1.0, 1.0, 0, 0, 0]</td>\n",
       "    </tr>\n",
       "    <tr>\n",
       "      <th>144</th>\n",
       "      <td>128.0</td>\n",
       "      <td>grarep_trans</td>\n",
       "      <td>0.196052</td>\n",
       "      <td>0.334188</td>\n",
       "      <td>1.0</td>\n",
       "      <td>sparse</td>\n",
       "      <td>[1.0, 1.0, 1.0, 1.0, 0, 0]</td>\n",
       "    </tr>\n",
       "    <tr>\n",
       "      <th>145</th>\n",
       "      <td>256.0</td>\n",
       "      <td>grarep_trans</td>\n",
       "      <td>0.204765</td>\n",
       "      <td>0.354866</td>\n",
       "      <td>1.0</td>\n",
       "      <td>sparse</td>\n",
       "      <td>[1.0, 1.0, 1.0, 1.0, 0, 0]</td>\n",
       "    </tr>\n",
       "    <tr>\n",
       "      <th>146</th>\n",
       "      <td>512.0</td>\n",
       "      <td>grarep_trans</td>\n",
       "      <td>0.223197</td>\n",
       "      <td>0.367086</td>\n",
       "      <td>1.0</td>\n",
       "      <td>sparse</td>\n",
       "      <td>[1.0, 1.0, 1.0, 1.0, 0, 0]</td>\n",
       "    </tr>\n",
       "    <tr>\n",
       "      <th>147</th>\n",
       "      <td>128.0</td>\n",
       "      <td>grarep_trans</td>\n",
       "      <td>0.140010</td>\n",
       "      <td>0.215431</td>\n",
       "      <td>0.0</td>\n",
       "      <td>sparse</td>\n",
       "      <td>[1.0, 1.0, 1.0, 1.0, 0, 0]</td>\n",
       "    </tr>\n",
       "    <tr>\n",
       "      <th>148</th>\n",
       "      <td>256.0</td>\n",
       "      <td>grarep_trans</td>\n",
       "      <td>0.160708</td>\n",
       "      <td>0.257359</td>\n",
       "      <td>0.0</td>\n",
       "      <td>sparse</td>\n",
       "      <td>[1.0, 1.0, 1.0, 1.0, 0, 0]</td>\n",
       "    </tr>\n",
       "    <tr>\n",
       "      <th>149</th>\n",
       "      <td>512.0</td>\n",
       "      <td>grarep_trans</td>\n",
       "      <td>0.190885</td>\n",
       "      <td>0.296903</td>\n",
       "      <td>0.0</td>\n",
       "      <td>sparse</td>\n",
       "      <td>[1.0, 1.0, 1.0, 1.0, 0, 0]</td>\n",
       "    </tr>\n",
       "    <tr>\n",
       "      <th>150</th>\n",
       "      <td>128.0</td>\n",
       "      <td>grarep_trans</td>\n",
       "      <td>0.199445</td>\n",
       "      <td>0.340882</td>\n",
       "      <td>1.0</td>\n",
       "      <td>sparse</td>\n",
       "      <td>[1.0, 1.0, 1.0, 1.0, 1.0, 0]</td>\n",
       "    </tr>\n",
       "    <tr>\n",
       "      <th>151</th>\n",
       "      <td>256.0</td>\n",
       "      <td>grarep_trans</td>\n",
       "      <td>0.211126</td>\n",
       "      <td>0.356187</td>\n",
       "      <td>1.0</td>\n",
       "      <td>sparse</td>\n",
       "      <td>[1.0, 1.0, 1.0, 1.0, 1.0, 0]</td>\n",
       "    </tr>\n",
       "    <tr>\n",
       "      <th>152</th>\n",
       "      <td>512.0</td>\n",
       "      <td>grarep_trans</td>\n",
       "      <td>0.223781</td>\n",
       "      <td>0.369928</td>\n",
       "      <td>1.0</td>\n",
       "      <td>sparse</td>\n",
       "      <td>[1.0, 1.0, 1.0, 1.0, 1.0, 0]</td>\n",
       "    </tr>\n",
       "    <tr>\n",
       "      <th>153</th>\n",
       "      <td>128.0</td>\n",
       "      <td>grarep_trans</td>\n",
       "      <td>0.142452</td>\n",
       "      <td>0.219567</td>\n",
       "      <td>0.0</td>\n",
       "      <td>sparse</td>\n",
       "      <td>[1.0, 1.0, 1.0, 1.0, 1.0, 0]</td>\n",
       "    </tr>\n",
       "    <tr>\n",
       "      <th>154</th>\n",
       "      <td>256.0</td>\n",
       "      <td>grarep_trans</td>\n",
       "      <td>0.160621</td>\n",
       "      <td>0.259121</td>\n",
       "      <td>0.0</td>\n",
       "      <td>sparse</td>\n",
       "      <td>[1.0, 1.0, 1.0, 1.0, 1.0, 0]</td>\n",
       "    </tr>\n",
       "    <tr>\n",
       "      <th>155</th>\n",
       "      <td>512.0</td>\n",
       "      <td>grarep_trans</td>\n",
       "      <td>0.190444</td>\n",
       "      <td>0.295228</td>\n",
       "      <td>0.0</td>\n",
       "      <td>sparse</td>\n",
       "      <td>[1.0, 1.0, 1.0, 1.0, 1.0, 0]</td>\n",
       "    </tr>\n",
       "    <tr>\n",
       "      <th>156</th>\n",
       "      <td>128.0</td>\n",
       "      <td>grarep_trans</td>\n",
       "      <td>0.200471</td>\n",
       "      <td>0.338192</td>\n",
       "      <td>1.0</td>\n",
       "      <td>sparse</td>\n",
       "      <td>[1.0, 1.0, 1.0, 1.0, 1.0, 1.0]</td>\n",
       "    </tr>\n",
       "    <tr>\n",
       "      <th>157</th>\n",
       "      <td>256.0</td>\n",
       "      <td>grarep_trans</td>\n",
       "      <td>0.214089</td>\n",
       "      <td>0.354158</td>\n",
       "      <td>1.0</td>\n",
       "      <td>sparse</td>\n",
       "      <td>[1.0, 1.0, 1.0, 1.0, 1.0, 1.0]</td>\n",
       "    </tr>\n",
       "    <tr>\n",
       "      <th>158</th>\n",
       "      <td>512.0</td>\n",
       "      <td>grarep_trans</td>\n",
       "      <td>0.228014</td>\n",
       "      <td>0.368204</td>\n",
       "      <td>1.0</td>\n",
       "      <td>sparse</td>\n",
       "      <td>[1.0, 1.0, 1.0, 1.0, 1.0, 1.0]</td>\n",
       "    </tr>\n",
       "    <tr>\n",
       "      <th>159</th>\n",
       "      <td>128.0</td>\n",
       "      <td>grarep_trans</td>\n",
       "      <td>0.141646</td>\n",
       "      <td>0.221986</td>\n",
       "      <td>0.0</td>\n",
       "      <td>sparse</td>\n",
       "      <td>[1.0, 1.0, 1.0, 1.0, 1.0, 1.0]</td>\n",
       "    </tr>\n",
       "    <tr>\n",
       "      <th>160</th>\n",
       "      <td>256.0</td>\n",
       "      <td>grarep_trans</td>\n",
       "      <td>0.158292</td>\n",
       "      <td>0.257534</td>\n",
       "      <td>0.0</td>\n",
       "      <td>sparse</td>\n",
       "      <td>[1.0, 1.0, 1.0, 1.0, 1.0, 1.0]</td>\n",
       "    </tr>\n",
       "    <tr>\n",
       "      <th>161</th>\n",
       "      <td>512.0</td>\n",
       "      <td>grarep_trans</td>\n",
       "      <td>0.189108</td>\n",
       "      <td>0.291643</td>\n",
       "      <td>0.0</td>\n",
       "      <td>sparse</td>\n",
       "      <td>[1.0, 1.0, 1.0, 1.0, 1.0, 1.0]</td>\n",
       "    </tr>\n",
       "    <tr>\n",
       "      <th>162</th>\n",
       "      <td>128.0</td>\n",
       "      <td>grarep_trans</td>\n",
       "      <td>0.189330</td>\n",
       "      <td>0.345837</td>\n",
       "      <td>1.0</td>\n",
       "      <td>sparse</td>\n",
       "      <td>None</td>\n",
       "    </tr>\n",
       "    <tr>\n",
       "      <th>163</th>\n",
       "      <td>256.0</td>\n",
       "      <td>grarep_trans</td>\n",
       "      <td>0.205899</td>\n",
       "      <td>0.361894</td>\n",
       "      <td>1.0</td>\n",
       "      <td>sparse</td>\n",
       "      <td>None</td>\n",
       "    </tr>\n",
       "    <tr>\n",
       "      <th>164</th>\n",
       "      <td>512.0</td>\n",
       "      <td>grarep_trans</td>\n",
       "      <td>0.206417</td>\n",
       "      <td>0.367289</td>\n",
       "      <td>1.0</td>\n",
       "      <td>sparse</td>\n",
       "      <td>None</td>\n",
       "    </tr>\n",
       "    <tr>\n",
       "      <th>165</th>\n",
       "      <td>128.0</td>\n",
       "      <td>grarep_trans</td>\n",
       "      <td>0.151220</td>\n",
       "      <td>0.251366</td>\n",
       "      <td>0.0</td>\n",
       "      <td>sparse</td>\n",
       "      <td>None</td>\n",
       "    </tr>\n",
       "    <tr>\n",
       "      <th>166</th>\n",
       "      <td>256.0</td>\n",
       "      <td>grarep_trans</td>\n",
       "      <td>0.175019</td>\n",
       "      <td>0.286995</td>\n",
       "      <td>0.0</td>\n",
       "      <td>sparse</td>\n",
       "      <td>None</td>\n",
       "    </tr>\n",
       "    <tr>\n",
       "      <th>167</th>\n",
       "      <td>512.0</td>\n",
       "      <td>grarep_trans</td>\n",
       "      <td>0.189401</td>\n",
       "      <td>0.308824</td>\n",
       "      <td>0.0</td>\n",
       "      <td>sparse</td>\n",
       "      <td>None</td>\n",
       "    </tr>\n",
       "  </tbody>\n",
       "</table>\n",
       "<p>168 rows × 7 columns</p>\n",
       "</div>"
      ],
      "text/plain": [
       "       dim  input_matrix     macro     micro  normalization projection_method  \\\n",
       "0    128.0  grarep_trans  0.064746  0.202720            1.0          gaussian   \n",
       "1    256.0  grarep_trans  0.072206  0.223535            1.0          gaussian   \n",
       "2    512.0  grarep_trans  0.078131  0.242786            1.0          gaussian   \n",
       "3    128.0  grarep_trans  0.079958  0.140119            0.0          gaussian   \n",
       "4    256.0  grarep_trans  0.095880  0.160715            0.0          gaussian   \n",
       "5    512.0  grarep_trans  0.108898  0.191647            0.0          gaussian   \n",
       "6    128.0  grarep_trans  0.109869  0.287898            1.0          gaussian   \n",
       "7    256.0  grarep_trans  0.126100  0.308021            1.0          gaussian   \n",
       "8    512.0  grarep_trans  0.131767  0.323166            1.0          gaussian   \n",
       "9    128.0  grarep_trans  0.121665  0.202284            0.0          gaussian   \n",
       "10   256.0  grarep_trans  0.137751  0.234788            0.0          gaussian   \n",
       "11   512.0  grarep_trans  0.164826  0.274333            0.0          gaussian   \n",
       "12   128.0  grarep_trans  0.140255  0.323398            1.0          gaussian   \n",
       "13   256.0  grarep_trans  0.148118  0.334337            1.0          gaussian   \n",
       "14   512.0  grarep_trans  0.148943  0.340660            1.0          gaussian   \n",
       "15   128.0  grarep_trans  0.149155  0.243519            0.0          gaussian   \n",
       "16   256.0  grarep_trans  0.158217  0.261678            0.0          gaussian   \n",
       "17   512.0  grarep_trans  0.185391  0.301900            0.0          gaussian   \n",
       "18   128.0  grarep_trans  0.150569  0.330024            1.0          gaussian   \n",
       "19   256.0  grarep_trans  0.152787  0.338477            1.0          gaussian   \n",
       "20   512.0  grarep_trans  0.158228  0.344261            1.0          gaussian   \n",
       "21   128.0  grarep_trans  0.181123  0.298991            0.0          gaussian   \n",
       "22   256.0  grarep_trans  0.191585  0.310818            0.0          gaussian   \n",
       "23   512.0  grarep_trans  0.208445  0.328939            0.0          gaussian   \n",
       "24   128.0  grarep_trans  0.139042  0.320603            1.0          gaussian   \n",
       "25   256.0  grarep_trans  0.141382  0.324849            1.0          gaussian   \n",
       "26   512.0  grarep_trans  0.149433  0.328576            1.0          gaussian   \n",
       "27   128.0  grarep_trans  0.192778  0.332826            0.0          gaussian   \n",
       "28   256.0  grarep_trans  0.204777  0.344393            0.0          gaussian   \n",
       "29   512.0  grarep_trans  0.208612  0.353634            0.0          gaussian   \n",
       "..     ...           ...       ...       ...            ...               ...   \n",
       "138  128.0  grarep_trans  0.174346  0.319493            1.0            sparse   \n",
       "139  256.0  grarep_trans  0.189204  0.344104            1.0            sparse   \n",
       "140  512.0  grarep_trans  0.204524  0.361603            1.0            sparse   \n",
       "141  128.0  grarep_trans  0.133859  0.212988            0.0            sparse   \n",
       "142  256.0  grarep_trans  0.157594  0.250412            0.0            sparse   \n",
       "143  512.0  grarep_trans  0.187968  0.291357            0.0            sparse   \n",
       "144  128.0  grarep_trans  0.196052  0.334188            1.0            sparse   \n",
       "145  256.0  grarep_trans  0.204765  0.354866            1.0            sparse   \n",
       "146  512.0  grarep_trans  0.223197  0.367086            1.0            sparse   \n",
       "147  128.0  grarep_trans  0.140010  0.215431            0.0            sparse   \n",
       "148  256.0  grarep_trans  0.160708  0.257359            0.0            sparse   \n",
       "149  512.0  grarep_trans  0.190885  0.296903            0.0            sparse   \n",
       "150  128.0  grarep_trans  0.199445  0.340882            1.0            sparse   \n",
       "151  256.0  grarep_trans  0.211126  0.356187            1.0            sparse   \n",
       "152  512.0  grarep_trans  0.223781  0.369928            1.0            sparse   \n",
       "153  128.0  grarep_trans  0.142452  0.219567            0.0            sparse   \n",
       "154  256.0  grarep_trans  0.160621  0.259121            0.0            sparse   \n",
       "155  512.0  grarep_trans  0.190444  0.295228            0.0            sparse   \n",
       "156  128.0  grarep_trans  0.200471  0.338192            1.0            sparse   \n",
       "157  256.0  grarep_trans  0.214089  0.354158            1.0            sparse   \n",
       "158  512.0  grarep_trans  0.228014  0.368204            1.0            sparse   \n",
       "159  128.0  grarep_trans  0.141646  0.221986            0.0            sparse   \n",
       "160  256.0  grarep_trans  0.158292  0.257534            0.0            sparse   \n",
       "161  512.0  grarep_trans  0.189108  0.291643            0.0            sparse   \n",
       "162  128.0  grarep_trans  0.189330  0.345837            1.0            sparse   \n",
       "163  256.0  grarep_trans  0.205899  0.361894            1.0            sparse   \n",
       "164  512.0  grarep_trans  0.206417  0.367289            1.0            sparse   \n",
       "165  128.0  grarep_trans  0.151220  0.251366            0.0            sparse   \n",
       "166  256.0  grarep_trans  0.175019  0.286995            0.0            sparse   \n",
       "167  512.0  grarep_trans  0.189401  0.308824            0.0            sparse   \n",
       "\n",
       "                            weights  \n",
       "0              [1.0, 0, 0, 0, 0, 0]  \n",
       "1              [1.0, 0, 0, 0, 0, 0]  \n",
       "2              [1.0, 0, 0, 0, 0, 0]  \n",
       "3              [1.0, 0, 0, 0, 0, 0]  \n",
       "4              [1.0, 0, 0, 0, 0, 0]  \n",
       "5              [1.0, 0, 0, 0, 0, 0]  \n",
       "6              [0, 1.0, 0, 0, 0, 0]  \n",
       "7              [0, 1.0, 0, 0, 0, 0]  \n",
       "8              [0, 1.0, 0, 0, 0, 0]  \n",
       "9              [0, 1.0, 0, 0, 0, 0]  \n",
       "10             [0, 1.0, 0, 0, 0, 0]  \n",
       "11             [0, 1.0, 0, 0, 0, 0]  \n",
       "12             [0, 0, 1.0, 0, 0, 0]  \n",
       "13             [0, 0, 1.0, 0, 0, 0]  \n",
       "14             [0, 0, 1.0, 0, 0, 0]  \n",
       "15             [0, 0, 1.0, 0, 0, 0]  \n",
       "16             [0, 0, 1.0, 0, 0, 0]  \n",
       "17             [0, 0, 1.0, 0, 0, 0]  \n",
       "18             [0, 0, 0, 1.0, 0, 0]  \n",
       "19             [0, 0, 0, 1.0, 0, 0]  \n",
       "20             [0, 0, 0, 1.0, 0, 0]  \n",
       "21             [0, 0, 0, 1.0, 0, 0]  \n",
       "22             [0, 0, 0, 1.0, 0, 0]  \n",
       "23             [0, 0, 0, 1.0, 0, 0]  \n",
       "24             [0, 0, 0, 0, 1.0, 0]  \n",
       "25             [0, 0, 0, 0, 1.0, 0]  \n",
       "26             [0, 0, 0, 0, 1.0, 0]  \n",
       "27             [0, 0, 0, 0, 1.0, 0]  \n",
       "28             [0, 0, 0, 0, 1.0, 0]  \n",
       "29             [0, 0, 0, 0, 1.0, 0]  \n",
       "..                              ...  \n",
       "138        [1.0, 1.0, 1.0, 0, 0, 0]  \n",
       "139        [1.0, 1.0, 1.0, 0, 0, 0]  \n",
       "140        [1.0, 1.0, 1.0, 0, 0, 0]  \n",
       "141        [1.0, 1.0, 1.0, 0, 0, 0]  \n",
       "142        [1.0, 1.0, 1.0, 0, 0, 0]  \n",
       "143        [1.0, 1.0, 1.0, 0, 0, 0]  \n",
       "144      [1.0, 1.0, 1.0, 1.0, 0, 0]  \n",
       "145      [1.0, 1.0, 1.0, 1.0, 0, 0]  \n",
       "146      [1.0, 1.0, 1.0, 1.0, 0, 0]  \n",
       "147      [1.0, 1.0, 1.0, 1.0, 0, 0]  \n",
       "148      [1.0, 1.0, 1.0, 1.0, 0, 0]  \n",
       "149      [1.0, 1.0, 1.0, 1.0, 0, 0]  \n",
       "150    [1.0, 1.0, 1.0, 1.0, 1.0, 0]  \n",
       "151    [1.0, 1.0, 1.0, 1.0, 1.0, 0]  \n",
       "152    [1.0, 1.0, 1.0, 1.0, 1.0, 0]  \n",
       "153    [1.0, 1.0, 1.0, 1.0, 1.0, 0]  \n",
       "154    [1.0, 1.0, 1.0, 1.0, 1.0, 0]  \n",
       "155    [1.0, 1.0, 1.0, 1.0, 1.0, 0]  \n",
       "156  [1.0, 1.0, 1.0, 1.0, 1.0, 1.0]  \n",
       "157  [1.0, 1.0, 1.0, 1.0, 1.0, 1.0]  \n",
       "158  [1.0, 1.0, 1.0, 1.0, 1.0, 1.0]  \n",
       "159  [1.0, 1.0, 1.0, 1.0, 1.0, 1.0]  \n",
       "160  [1.0, 1.0, 1.0, 1.0, 1.0, 1.0]  \n",
       "161  [1.0, 1.0, 1.0, 1.0, 1.0, 1.0]  \n",
       "162                            None  \n",
       "163                            None  \n",
       "164                            None  \n",
       "165                            None  \n",
       "166                            None  \n",
       "167                            None  \n",
       "\n",
       "[168 rows x 7 columns]"
      ]
     },
     "execution_count": 52,
     "metadata": {},
     "output_type": "execute_result"
    }
   ],
   "source": [
    "df = pd.DataFrame()\n",
    "\n",
    "prefix = 'data/blog-clipped-'\n",
    "\n",
    "computed_U_list = {}\n",
    "# for conf in [all_conf[21]]:\n",
    "for conf in all_grarep_conf:\n",
    "    # print (conf)\n",
    "    emb_filename = get_emb_filename(prefix, conf)\n",
    "    print (emb_filename)\n",
    "    # first check if this file already exists\n",
    "    path = Path(emb_filename)\n",
    "    if not path.is_file():\n",
    "        U_list = randne_projection_bruteforce(M_list,\n",
    "                                          dim=conf['dim'],\n",
    "                                          projection_method=conf['projection_method']\n",
    "        )\n",
    "        U = randne_merge(U_list, conf['weights'], conf['normalization'])\n",
    "        savemat(emb_filename, {'emb': U})\n",
    "    else:\n",
    "        print ('File %s already exists, skipped.' % emb_filename)\n",
    "    f1_scores = main(\n",
    "        [\"--emb\", emb_filename,\n",
    "          \"--network\",\"blogcatalog/blogcatalog.mat\",\n",
    "          \"--num-shuffles\", \"5\"],\n",
    "        )\n",
    "    # see https://stackoverflow.com/questions/38987/how-to-merge-two-dictionaries-in-a-single-expression\n",
    "    df = df.append(pd.Series({**conf, **f1_scores}), ignore_index=True)\n",
    "    df.to_csv('data/blog-clipped-scores.txt', sep='\\t', index=False, header=True)\n",
    "\n",
    "df"
   ]
  },
  {
   "cell_type": "markdown",
   "metadata": {},
   "source": [
    "## Grid Search for Degree Normalization"
   ]
  },
  {
   "cell_type": "code",
   "execution_count": 66,
   "metadata": {},
   "outputs": [
    {
     "data": {
      "text/plain": [
       "11"
      ]
     },
     "execution_count": 66,
     "metadata": {},
     "output_type": "execute_result"
    }
   ],
   "source": [
    "keys = ['projection_method', 'input_matrix', 'weights', 'normalization', 'dim', 'alpha']\n",
    "\n",
    "all_dims = [512]\n",
    "all_alphas = [0.0, -0.1, -0.2, -0.3, -0.4, -0.5, -0.6, -0.7, -0.8, -0.9, -1.0]\n",
    "\n",
    "all_alpha_conf_raw = itertools.product(\n",
    "    # projection method\n",
    "    ['gaussian'],\n",
    "    # input matrix\n",
    "    ['trans'],\n",
    "    # weights\n",
    "    [[1.0, 1.0, 1.0, 1.0, 1.0, 1.0]],\n",
    "    # normalization\n",
    "    [True],\n",
    "    # dimensionality\n",
    "    all_dims,\n",
    "    # alpha\n",
    "    all_alphas,\n",
    ")\n",
    "all_alpha_conf = [{key: val for key, val in zip(keys, conf)} for conf in all_alpha_conf_raw]\n",
    "len(all_alpha_conf)"
   ]
  },
  {
   "cell_type": "code",
   "execution_count": 67,
   "metadata": {},
   "outputs": [
    {
     "name": "stdout",
     "output_type": "stream",
     "text": [
      "data/blog-dim=512,projection_method=gaussian,input_matrix=trans,normalization=True,weights=1.0,1.0,1.0,1.0,1.0,1.0,alpha=0.0.mat\n",
      "data/blog-dim=512,projection_method=gaussian,input_matrix=trans,normalization=True,weights=1.0,1.0,1.0,1.0,1.0,1.0,alpha=-0.1.mat\n",
      "data/blog-dim=512,projection_method=gaussian,input_matrix=trans,normalization=True,weights=1.0,1.0,1.0,1.0,1.0,1.0,alpha=-0.2.mat\n",
      "data/blog-dim=512,projection_method=gaussian,input_matrix=trans,normalization=True,weights=1.0,1.0,1.0,1.0,1.0,1.0,alpha=-0.3.mat\n",
      "data/blog-dim=512,projection_method=gaussian,input_matrix=trans,normalization=True,weights=1.0,1.0,1.0,1.0,1.0,1.0,alpha=-0.4.mat\n",
      "data/blog-dim=512,projection_method=gaussian,input_matrix=trans,normalization=True,weights=1.0,1.0,1.0,1.0,1.0,1.0,alpha=-0.5.mat\n",
      "data/blog-dim=512,projection_method=gaussian,input_matrix=trans,normalization=True,weights=1.0,1.0,1.0,1.0,1.0,1.0,alpha=-0.6.mat\n",
      "data/blog-dim=512,projection_method=gaussian,input_matrix=trans,normalization=True,weights=1.0,1.0,1.0,1.0,1.0,1.0,alpha=-0.7.mat\n",
      "data/blog-dim=512,projection_method=gaussian,input_matrix=trans,normalization=True,weights=1.0,1.0,1.0,1.0,1.0,1.0,alpha=-0.8.mat\n",
      "data/blog-dim=512,projection_method=gaussian,input_matrix=trans,normalization=True,weights=1.0,1.0,1.0,1.0,1.0,1.0,alpha=-0.9.mat\n",
      "data/blog-dim=512,projection_method=gaussian,input_matrix=trans,normalization=True,weights=1.0,1.0,1.0,1.0,1.0,1.0,alpha=-1.0.mat\n"
     ]
    },
    {
     "data": {
      "text/html": [
       "<div>\n",
       "<style scoped>\n",
       "    .dataframe tbody tr th:only-of-type {\n",
       "        vertical-align: middle;\n",
       "    }\n",
       "\n",
       "    .dataframe tbody tr th {\n",
       "        vertical-align: top;\n",
       "    }\n",
       "\n",
       "    .dataframe thead th {\n",
       "        text-align: right;\n",
       "    }\n",
       "</style>\n",
       "<table border=\"1\" class=\"dataframe\">\n",
       "  <thead>\n",
       "    <tr style=\"text-align: right;\">\n",
       "      <th></th>\n",
       "      <th>alpha</th>\n",
       "      <th>dim</th>\n",
       "      <th>input_matrix</th>\n",
       "      <th>macro</th>\n",
       "      <th>micro</th>\n",
       "      <th>normalization</th>\n",
       "      <th>projection_method</th>\n",
       "      <th>weights</th>\n",
       "    </tr>\n",
       "  </thead>\n",
       "  <tbody>\n",
       "    <tr>\n",
       "      <th>0</th>\n",
       "      <td>0.0</td>\n",
       "      <td>512.0</td>\n",
       "      <td>trans</td>\n",
       "      <td>0.163171</td>\n",
       "      <td>0.340862</td>\n",
       "      <td>1.0</td>\n",
       "      <td>gaussian</td>\n",
       "      <td>[1.0, 1.0, 1.0, 1.0, 1.0, 1.0]</td>\n",
       "    </tr>\n",
       "    <tr>\n",
       "      <th>1</th>\n",
       "      <td>-0.1</td>\n",
       "      <td>512.0</td>\n",
       "      <td>trans</td>\n",
       "      <td>0.176493</td>\n",
       "      <td>0.345119</td>\n",
       "      <td>1.0</td>\n",
       "      <td>gaussian</td>\n",
       "      <td>[1.0, 1.0, 1.0, 1.0, 1.0, 1.0]</td>\n",
       "    </tr>\n",
       "    <tr>\n",
       "      <th>2</th>\n",
       "      <td>-0.2</td>\n",
       "      <td>512.0</td>\n",
       "      <td>trans</td>\n",
       "      <td>0.183254</td>\n",
       "      <td>0.349579</td>\n",
       "      <td>1.0</td>\n",
       "      <td>gaussian</td>\n",
       "      <td>[1.0, 1.0, 1.0, 1.0, 1.0, 1.0]</td>\n",
       "    </tr>\n",
       "    <tr>\n",
       "      <th>3</th>\n",
       "      <td>-0.3</td>\n",
       "      <td>512.0</td>\n",
       "      <td>trans</td>\n",
       "      <td>0.188535</td>\n",
       "      <td>0.352779</td>\n",
       "      <td>1.0</td>\n",
       "      <td>gaussian</td>\n",
       "      <td>[1.0, 1.0, 1.0, 1.0, 1.0, 1.0]</td>\n",
       "    </tr>\n",
       "    <tr>\n",
       "      <th>4</th>\n",
       "      <td>-0.4</td>\n",
       "      <td>512.0</td>\n",
       "      <td>trans</td>\n",
       "      <td>0.191326</td>\n",
       "      <td>0.351421</td>\n",
       "      <td>1.0</td>\n",
       "      <td>gaussian</td>\n",
       "      <td>[1.0, 1.0, 1.0, 1.0, 1.0, 1.0]</td>\n",
       "    </tr>\n",
       "    <tr>\n",
       "      <th>5</th>\n",
       "      <td>-0.5</td>\n",
       "      <td>512.0</td>\n",
       "      <td>trans</td>\n",
       "      <td>0.192004</td>\n",
       "      <td>0.349399</td>\n",
       "      <td>1.0</td>\n",
       "      <td>gaussian</td>\n",
       "      <td>[1.0, 1.0, 1.0, 1.0, 1.0, 1.0]</td>\n",
       "    </tr>\n",
       "    <tr>\n",
       "      <th>6</th>\n",
       "      <td>-0.6</td>\n",
       "      <td>512.0</td>\n",
       "      <td>trans</td>\n",
       "      <td>0.192297</td>\n",
       "      <td>0.349952</td>\n",
       "      <td>1.0</td>\n",
       "      <td>gaussian</td>\n",
       "      <td>[1.0, 1.0, 1.0, 1.0, 1.0, 1.0]</td>\n",
       "    </tr>\n",
       "    <tr>\n",
       "      <th>7</th>\n",
       "      <td>-0.7</td>\n",
       "      <td>512.0</td>\n",
       "      <td>trans</td>\n",
       "      <td>0.198824</td>\n",
       "      <td>0.349179</td>\n",
       "      <td>1.0</td>\n",
       "      <td>gaussian</td>\n",
       "      <td>[1.0, 1.0, 1.0, 1.0, 1.0, 1.0]</td>\n",
       "    </tr>\n",
       "    <tr>\n",
       "      <th>8</th>\n",
       "      <td>-0.8</td>\n",
       "      <td>512.0</td>\n",
       "      <td>trans</td>\n",
       "      <td>0.194016</td>\n",
       "      <td>0.346253</td>\n",
       "      <td>1.0</td>\n",
       "      <td>gaussian</td>\n",
       "      <td>[1.0, 1.0, 1.0, 1.0, 1.0, 1.0]</td>\n",
       "    </tr>\n",
       "    <tr>\n",
       "      <th>9</th>\n",
       "      <td>-0.9</td>\n",
       "      <td>512.0</td>\n",
       "      <td>trans</td>\n",
       "      <td>0.192969</td>\n",
       "      <td>0.342341</td>\n",
       "      <td>1.0</td>\n",
       "      <td>gaussian</td>\n",
       "      <td>[1.0, 1.0, 1.0, 1.0, 1.0, 1.0]</td>\n",
       "    </tr>\n",
       "    <tr>\n",
       "      <th>10</th>\n",
       "      <td>-1.0</td>\n",
       "      <td>512.0</td>\n",
       "      <td>trans</td>\n",
       "      <td>0.197436</td>\n",
       "      <td>0.347811</td>\n",
       "      <td>1.0</td>\n",
       "      <td>gaussian</td>\n",
       "      <td>[1.0, 1.0, 1.0, 1.0, 1.0, 1.0]</td>\n",
       "    </tr>\n",
       "  </tbody>\n",
       "</table>\n",
       "</div>"
      ],
      "text/plain": [
       "    alpha    dim input_matrix     macro     micro  normalization  \\\n",
       "0     0.0  512.0        trans  0.163171  0.340862            1.0   \n",
       "1    -0.1  512.0        trans  0.176493  0.345119            1.0   \n",
       "2    -0.2  512.0        trans  0.183254  0.349579            1.0   \n",
       "3    -0.3  512.0        trans  0.188535  0.352779            1.0   \n",
       "4    -0.4  512.0        trans  0.191326  0.351421            1.0   \n",
       "5    -0.5  512.0        trans  0.192004  0.349399            1.0   \n",
       "6    -0.6  512.0        trans  0.192297  0.349952            1.0   \n",
       "7    -0.7  512.0        trans  0.198824  0.349179            1.0   \n",
       "8    -0.8  512.0        trans  0.194016  0.346253            1.0   \n",
       "9    -0.9  512.0        trans  0.192969  0.342341            1.0   \n",
       "10   -1.0  512.0        trans  0.197436  0.347811            1.0   \n",
       "\n",
       "   projection_method                         weights  \n",
       "0           gaussian  [1.0, 1.0, 1.0, 1.0, 1.0, 1.0]  \n",
       "1           gaussian  [1.0, 1.0, 1.0, 1.0, 1.0, 1.0]  \n",
       "2           gaussian  [1.0, 1.0, 1.0, 1.0, 1.0, 1.0]  \n",
       "3           gaussian  [1.0, 1.0, 1.0, 1.0, 1.0, 1.0]  \n",
       "4           gaussian  [1.0, 1.0, 1.0, 1.0, 1.0, 1.0]  \n",
       "5           gaussian  [1.0, 1.0, 1.0, 1.0, 1.0, 1.0]  \n",
       "6           gaussian  [1.0, 1.0, 1.0, 1.0, 1.0, 1.0]  \n",
       "7           gaussian  [1.0, 1.0, 1.0, 1.0, 1.0, 1.0]  \n",
       "8           gaussian  [1.0, 1.0, 1.0, 1.0, 1.0, 1.0]  \n",
       "9           gaussian  [1.0, 1.0, 1.0, 1.0, 1.0, 1.0]  \n",
       "10          gaussian  [1.0, 1.0, 1.0, 1.0, 1.0, 1.0]  "
      ]
     },
     "execution_count": 67,
     "metadata": {},
     "output_type": "execute_result"
    }
   ],
   "source": [
    "INF = 1000\n",
    "\n",
    "df = pd.DataFrame()\n",
    "\n",
    "prefix = 'data/blog'\n",
    "for conf in all_alpha_conf:\n",
    "    # print (conf)\n",
    "    emb_filename = get_emb_filename(prefix, conf)\n",
    "    print (emb_filename)\n",
    "    # first check if this file already exists\n",
    "    path = Path(emb_filename)\n",
    "    if not path.is_file():\n",
    "        U = randne_wrapper(blog_A, conf)\n",
    "        savemat(emb_filename, {'emb': U})\n",
    "    else:\n",
    "        print ('File %s already exists, skipped.' % emb_filename)\n",
    "    f1_scores = main(\n",
    "        [\"--emb\", emb_filename,\n",
    "          \"--network\",\"blogcatalog/blogcatalog.mat\",\n",
    "          \"--num-shuffles\", \"5\"],\n",
    "        )\n",
    "    # see https://stackoverflow.com/questions/38987/how-to-merge-two-dictionaries-in-a-single-expression\n",
    "    df = df.append(pd.Series({**conf, **f1_scores}), ignore_index=True)\n",
    "    df.to_csv('data/blog-alpha-scores.txt', sep='\\t', index=False, header=True)\n",
    "\n",
    "df"
   ]
  },
  {
   "cell_type": "markdown",
   "metadata": {},
   "source": [
    "Do another grid search for the right weight combination:"
   ]
  },
  {
   "cell_type": "code",
   "execution_count": 85,
   "metadata": {},
   "outputs": [
    {
     "data": {
      "text/plain": [
       "10"
      ]
     },
     "execution_count": 85,
     "metadata": {},
     "output_type": "execute_result"
    }
   ],
   "source": [
    "keys = ['projection_method', 'input_matrix', 'weights', 'normalization', 'dim', 'alpha']\n",
    "\n",
    "all_dims = [512]\n",
    "all_alphas = [-0.7]\n",
    "\n",
    "all_alpha_conf_raw = itertools.product(\n",
    "    # projection method\n",
    "    ['gaussian'],\n",
    "    # input matrix\n",
    "    ['trans'],\n",
    "    # weights\n",
    "    [\n",
    "#         [1.0, 2.0, 5.0, 0, 0, 0],\n",
    "#         [1.0, 2.0, 10.0, 0, 0, 0],\n",
    "#         [1.0, 4.0, 10.0, 0, 0, 0],\n",
    "#         [1.0, 2.0, 10.0, 5.0, 0, 0],\n",
    "#         [1.0, 2.0, 10.0, 20.0, 0, 0],\n",
    "#         [0.0, 2.0, 10.0, 20.0, 0, 0],\n",
    "        [0.0, 0.0, 10.0, 20.0, 0, 0],\n",
    "        [0, 0, 0, 10, 0, 0],\n",
    "        [0, 0, 0, 20, 0, 0],\n",
    "        [0, 0, 0, 0, 10, 0, 0],\n",
    "        [0, 0, 0, 0, 20, 0, 0],\n",
    "        # [0.0, 0.0, 1.0, 2.0, 0, 0],\n",
    "        # [0.0, 0.0, 1.0, 0.0, 0, 0],\n",
    "        # [0.0, 0.0, 0.0, 1.0, 0, 0]\n",
    "    ],\n",
    "    # normalization\n",
    "    [True, False],\n",
    "    # dimensionality\n",
    "    all_dims,\n",
    "    # alpha\n",
    "    all_alphas,\n",
    ")\n",
    "all_alpha_conf = [{key: val for key, val in zip(keys, conf)} for conf in all_alpha_conf_raw]\n",
    "len(all_alpha_conf)"
   ]
  },
  {
   "cell_type": "code",
   "execution_count": 86,
   "metadata": {},
   "outputs": [
    {
     "name": "stdout",
     "output_type": "stream",
     "text": [
      "data/blog-dim=512,projection_method=gaussian,input_matrix=trans,normalization=True,weights=0.0,0.0,10.0,20.0,0,0,alpha=-0.7.mat\n",
      "File data/blog-dim=512,projection_method=gaussian,input_matrix=trans,normalization=True,weights=0.0,0.0,10.0,20.0,0,0,alpha=-0.7.mat already exists, skipped.\n",
      "data/blog-dim=512,projection_method=gaussian,input_matrix=trans,normalization=False,weights=0.0,0.0,10.0,20.0,0,0,alpha=-0.7.mat\n",
      "File data/blog-dim=512,projection_method=gaussian,input_matrix=trans,normalization=False,weights=0.0,0.0,10.0,20.0,0,0,alpha=-0.7.mat already exists, skipped.\n",
      "data/blog-dim=512,projection_method=gaussian,input_matrix=trans,normalization=True,weights=0,0,0,10,0,0,alpha=-0.7.mat\n",
      "data/blog-dim=512,projection_method=gaussian,input_matrix=trans,normalization=False,weights=0,0,0,10,0,0,alpha=-0.7.mat\n",
      "data/blog-dim=512,projection_method=gaussian,input_matrix=trans,normalization=True,weights=0,0,0,20,0,0,alpha=-0.7.mat\n",
      "data/blog-dim=512,projection_method=gaussian,input_matrix=trans,normalization=False,weights=0,0,0,20,0,0,alpha=-0.7.mat\n",
      "data/blog-dim=512,projection_method=gaussian,input_matrix=trans,normalization=True,weights=0,0,0,0,10,0,0,alpha=-0.7.mat\n",
      "data/blog-dim=512,projection_method=gaussian,input_matrix=trans,normalization=False,weights=0,0,0,0,10,0,0,alpha=-0.7.mat\n",
      "data/blog-dim=512,projection_method=gaussian,input_matrix=trans,normalization=True,weights=0,0,0,0,20,0,0,alpha=-0.7.mat\n",
      "data/blog-dim=512,projection_method=gaussian,input_matrix=trans,normalization=False,weights=0,0,0,0,20,0,0,alpha=-0.7.mat\n"
     ]
    },
    {
     "data": {
      "text/html": [
       "<div>\n",
       "<style scoped>\n",
       "    .dataframe tbody tr th:only-of-type {\n",
       "        vertical-align: middle;\n",
       "    }\n",
       "\n",
       "    .dataframe tbody tr th {\n",
       "        vertical-align: top;\n",
       "    }\n",
       "\n",
       "    .dataframe thead th {\n",
       "        text-align: right;\n",
       "    }\n",
       "</style>\n",
       "<table border=\"1\" class=\"dataframe\">\n",
       "  <thead>\n",
       "    <tr style=\"text-align: right;\">\n",
       "      <th></th>\n",
       "      <th>alpha</th>\n",
       "      <th>dim</th>\n",
       "      <th>input_matrix</th>\n",
       "      <th>macro</th>\n",
       "      <th>micro</th>\n",
       "      <th>normalization</th>\n",
       "      <th>projection_method</th>\n",
       "      <th>weights</th>\n",
       "    </tr>\n",
       "  </thead>\n",
       "  <tbody>\n",
       "    <tr>\n",
       "      <th>0</th>\n",
       "      <td>-0.7</td>\n",
       "      <td>512.0</td>\n",
       "      <td>trans</td>\n",
       "      <td>0.217455</td>\n",
       "      <td>0.349403</td>\n",
       "      <td>1.0</td>\n",
       "      <td>gaussian</td>\n",
       "      <td>[0.0, 0.0, 10.0, 20.0, 0, 0]</td>\n",
       "    </tr>\n",
       "    <tr>\n",
       "      <th>1</th>\n",
       "      <td>-0.7</td>\n",
       "      <td>512.0</td>\n",
       "      <td>trans</td>\n",
       "      <td>0.025213</td>\n",
       "      <td>0.165139</td>\n",
       "      <td>0.0</td>\n",
       "      <td>gaussian</td>\n",
       "      <td>[0.0, 0.0, 10.0, 20.0, 0, 0]</td>\n",
       "    </tr>\n",
       "    <tr>\n",
       "      <th>2</th>\n",
       "      <td>-0.7</td>\n",
       "      <td>512.0</td>\n",
       "      <td>trans</td>\n",
       "      <td>0.189683</td>\n",
       "      <td>0.352604</td>\n",
       "      <td>1.0</td>\n",
       "      <td>gaussian</td>\n",
       "      <td>[0, 0, 0, 10, 0, 0]</td>\n",
       "    </tr>\n",
       "    <tr>\n",
       "      <th>3</th>\n",
       "      <td>-0.7</td>\n",
       "      <td>512.0</td>\n",
       "      <td>trans</td>\n",
       "      <td>0.025455</td>\n",
       "      <td>0.165661</td>\n",
       "      <td>0.0</td>\n",
       "      <td>gaussian</td>\n",
       "      <td>[0, 0, 0, 10, 0, 0]</td>\n",
       "    </tr>\n",
       "    <tr>\n",
       "      <th>4</th>\n",
       "      <td>-0.7</td>\n",
       "      <td>512.0</td>\n",
       "      <td>trans</td>\n",
       "      <td>0.212433</td>\n",
       "      <td>0.362058</td>\n",
       "      <td>1.0</td>\n",
       "      <td>gaussian</td>\n",
       "      <td>[0, 0, 0, 20, 0, 0]</td>\n",
       "    </tr>\n",
       "    <tr>\n",
       "      <th>5</th>\n",
       "      <td>-0.7</td>\n",
       "      <td>512.0</td>\n",
       "      <td>trans</td>\n",
       "      <td>0.025221</td>\n",
       "      <td>0.163535</td>\n",
       "      <td>0.0</td>\n",
       "      <td>gaussian</td>\n",
       "      <td>[0, 0, 0, 20, 0, 0]</td>\n",
       "    </tr>\n",
       "    <tr>\n",
       "      <th>6</th>\n",
       "      <td>-0.7</td>\n",
       "      <td>512.0</td>\n",
       "      <td>trans</td>\n",
       "      <td>0.128054</td>\n",
       "      <td>0.310242</td>\n",
       "      <td>1.0</td>\n",
       "      <td>gaussian</td>\n",
       "      <td>[0, 0, 0, 0, 10, 0, 0]</td>\n",
       "    </tr>\n",
       "    <tr>\n",
       "      <th>7</th>\n",
       "      <td>-0.7</td>\n",
       "      <td>512.0</td>\n",
       "      <td>trans</td>\n",
       "      <td>0.025225</td>\n",
       "      <td>0.164832</td>\n",
       "      <td>0.0</td>\n",
       "      <td>gaussian</td>\n",
       "      <td>[0, 0, 0, 0, 10, 0, 0]</td>\n",
       "    </tr>\n",
       "    <tr>\n",
       "      <th>8</th>\n",
       "      <td>-0.7</td>\n",
       "      <td>512.0</td>\n",
       "      <td>trans</td>\n",
       "      <td>0.164345</td>\n",
       "      <td>0.341927</td>\n",
       "      <td>1.0</td>\n",
       "      <td>gaussian</td>\n",
       "      <td>[0, 0, 0, 0, 20, 0, 0]</td>\n",
       "    </tr>\n",
       "    <tr>\n",
       "      <th>9</th>\n",
       "      <td>-0.7</td>\n",
       "      <td>512.0</td>\n",
       "      <td>trans</td>\n",
       "      <td>0.026165</td>\n",
       "      <td>0.169984</td>\n",
       "      <td>0.0</td>\n",
       "      <td>gaussian</td>\n",
       "      <td>[0, 0, 0, 0, 20, 0, 0]</td>\n",
       "    </tr>\n",
       "  </tbody>\n",
       "</table>\n",
       "</div>"
      ],
      "text/plain": [
       "   alpha    dim input_matrix     macro     micro  normalization  \\\n",
       "0   -0.7  512.0        trans  0.217455  0.349403            1.0   \n",
       "1   -0.7  512.0        trans  0.025213  0.165139            0.0   \n",
       "2   -0.7  512.0        trans  0.189683  0.352604            1.0   \n",
       "3   -0.7  512.0        trans  0.025455  0.165661            0.0   \n",
       "4   -0.7  512.0        trans  0.212433  0.362058            1.0   \n",
       "5   -0.7  512.0        trans  0.025221  0.163535            0.0   \n",
       "6   -0.7  512.0        trans  0.128054  0.310242            1.0   \n",
       "7   -0.7  512.0        trans  0.025225  0.164832            0.0   \n",
       "8   -0.7  512.0        trans  0.164345  0.341927            1.0   \n",
       "9   -0.7  512.0        trans  0.026165  0.169984            0.0   \n",
       "\n",
       "  projection_method                       weights  \n",
       "0          gaussian  [0.0, 0.0, 10.0, 20.0, 0, 0]  \n",
       "1          gaussian  [0.0, 0.0, 10.0, 20.0, 0, 0]  \n",
       "2          gaussian           [0, 0, 0, 10, 0, 0]  \n",
       "3          gaussian           [0, 0, 0, 10, 0, 0]  \n",
       "4          gaussian           [0, 0, 0, 20, 0, 0]  \n",
       "5          gaussian           [0, 0, 0, 20, 0, 0]  \n",
       "6          gaussian        [0, 0, 0, 0, 10, 0, 0]  \n",
       "7          gaussian        [0, 0, 0, 0, 10, 0, 0]  \n",
       "8          gaussian        [0, 0, 0, 0, 20, 0, 0]  \n",
       "9          gaussian        [0, 0, 0, 0, 20, 0, 0]  "
      ]
     },
     "execution_count": 86,
     "metadata": {},
     "output_type": "execute_result"
    }
   ],
   "source": [
    "INF = 1000\n",
    "\n",
    "df = pd.DataFrame()\n",
    "\n",
    "prefix = 'data/blog'\n",
    "for conf in all_alpha_conf:\n",
    "    # print (conf)\n",
    "    emb_filename = get_emb_filename(prefix, conf)\n",
    "    print (emb_filename)\n",
    "    # first check if this file already exists\n",
    "    path = Path(emb_filename)\n",
    "    if not path.is_file():\n",
    "        U = randne_wrapper(blog_A, conf)\n",
    "        savemat(emb_filename, {'emb': U})\n",
    "    else:\n",
    "        print ('File %s already exists, skipped.' % emb_filename)\n",
    "    f1_scores = main(\n",
    "        [\"--emb\", emb_filename,\n",
    "          \"--network\",\"blogcatalog/blogcatalog.mat\",\n",
    "          \"--num-shuffles\", \"5\"],\n",
    "        )\n",
    "    # see https://stackoverflow.com/questions/38987/how-to-merge-two-dictionaries-in-a-single-expression\n",
    "    df = df.append(pd.Series({**conf, **f1_scores}), ignore_index=True)\n",
    "    df.to_csv('data/blog-alpha-weights-scores.txt', sep='\\t', index=False, header=True)\n",
    "\n",
    "df"
   ]
  },
  {
   "cell_type": "markdown",
   "metadata": {},
   "source": [
    "# Grid Search for the Shift Factor $\\beta$"
   ]
  },
  {
   "cell_type": "code",
   "execution_count": 84,
   "metadata": {},
   "outputs": [
    {
     "data": {
      "text/plain": [
       "12"
      ]
     },
     "execution_count": 84,
     "metadata": {},
     "output_type": "execute_result"
    }
   ],
   "source": [
    "keys = ['projection_method', 'input_matrix', 'weights', 'normalization', 'dim', 'beta']\n",
    "\n",
    "all_dims = [256]\n",
    "all_betas = [0.0, 0.25, 0.5, 1.0, 2.0, 4.0]\n",
    "\n",
    "all_beta_conf_raw = itertools.product(\n",
    "    # projection method\n",
    "    ['gaussian', 'sparse'],\n",
    "    # input matrix\n",
    "    ['grarep_trans'],\n",
    "    # weights\n",
    "    [[1.0, 1.0, 1.0, 1.0, 1.0, 1.0]],\n",
    "    # normalization\n",
    "    [True],\n",
    "    # dimensionality\n",
    "    all_dims,\n",
    "    # beta\n",
    "    all_betas\n",
    ")\n",
    "all_beta_conf = [{key: val for key, val in zip(keys, conf)} for conf in all_beta_conf_raw]\n",
    "len(all_beta_conf)"
   ]
  },
  {
   "cell_type": "code",
   "execution_count": null,
   "metadata": {},
   "outputs": [
    {
     "name": "stdout",
     "output_type": "stream",
     "text": [
      "data/blog-clipped--dim=256,projection_method=gaussian,input_matrix=grarep_trans,normalization=True,weights=1.0,1.0,1.0,1.0,1.0,1.0,beta=0.0.mat\n",
      "Current order:  1\n",
      "Current order:  2\n",
      "Current order:  3\n",
      "Current order:  4\n",
      "Current order:  5\n",
      "Current order:  6\n",
      "data/blog-clipped--dim=256,projection_method=gaussian,input_matrix=grarep_trans,normalization=True,weights=1.0,1.0,1.0,1.0,1.0,1.0,beta=0.25.mat\n",
      "Current order:  1\n",
      "Current order:  2\n",
      "Current order:  3\n",
      "Current order:  4\n",
      "Current order:  5\n",
      "Current order:  6\n",
      "data/blog-clipped--dim=256,projection_method=gaussian,input_matrix=grarep_trans,normalization=True,weights=1.0,1.0,1.0,1.0,1.0,1.0,beta=0.5.mat\n",
      "Current order:  1\n",
      "Current order:  2\n",
      "Current order:  3\n",
      "Current order:  4\n"
     ]
    }
   ],
   "source": [
    "df = pd.DataFrame()\n",
    "\n",
    "prefix = 'data/blog-clipped-'\n",
    "\n",
    "# for conf in [all_conf[21]]:\n",
    "for conf in all_beta_conf:\n",
    "    # print (conf)\n",
    "    emb_filename = get_emb_filename(prefix, conf)\n",
    "    print (emb_filename)\n",
    "    # first check if this file already exists\n",
    "    path = Path(emb_filename)\n",
    "    if not path.is_file():\n",
    "        M_list = get_clipped_matrices(blog_A, q=max_order, beta=conf['beta'])\n",
    "        U_list = randne_projection_bruteforce(M_list,\n",
    "                                          dim=conf['dim'],\n",
    "                                          projection_method=conf['projection_method']\n",
    "        )\n",
    "        U = randne_merge(U_list, conf['weights'], conf['normalization'])\n",
    "        savemat(emb_filename, {'emb': U})\n",
    "    else:\n",
    "        print ('File %s already exists, skipped.' % emb_filename)\n",
    "    f1_scores = main(\n",
    "        [\"--emb\", emb_filename,\n",
    "          \"--network\",\"blogcatalog/blogcatalog.mat\",\n",
    "          \"--num-shuffles\", \"5\"],\n",
    "        )\n",
    "    # see https://stackoverflow.com/questions/38987/how-to-merge-two-dictionaries-in-a-single-expression\n",
    "    df = df.append(pd.Series({**conf, **f1_scores}), ignore_index=True)\n",
    "    df.to_csv('data/blog-clipped-beta-scores.txt', sep='\\t', index=False, header=True)\n",
    "\n",
    "df"
   ]
  },
  {
   "cell_type": "markdown",
   "metadata": {},
   "source": [
    "# Result Analysis"
   ]
  },
  {
   "cell_type": "markdown",
   "metadata": {},
   "source": [
    "## Degree Normalization"
   ]
  },
  {
   "cell_type": "code",
   "execution_count": null,
   "metadata": {},
   "outputs": [],
   "source": [
    "%%time\n",
    "conf = {'projection_method': 'gaussian',\n",
    " 'input_matrix': 'adj',\n",
    " 'weights': [1.0, 1.0, 1.0, 1.0, 1.0, 1.0],\n",
    " 'normalization': True,\n",
    " 'dim': 512}\n",
    "U_list = randne_projection_bruteforce(M_list,\n",
    "                                          dim=conf['dim'],\n",
    "                                          projection_method=conf['projection_method']\n",
    "        )\n",
    "U = randne_merge(U_list, conf['weights'], conf['normalization'])"
   ]
  },
  {
   "cell_type": "markdown",
   "metadata": {},
   "source": [
    "### Speed"
   ]
  },
  {
   "cell_type": "code",
   "execution_count": 60,
   "metadata": {},
   "outputs": [
    {
     "name": "stdout",
     "output_type": "stream",
     "text": [
      "CPU times: user 1min 15s, sys: 1.32 s, total: 1min 16s\n",
      "Wall time: 1min 16s\n"
     ]
    }
   ],
   "source": [
    "%%time\n",
    "conf = {'projection_method': 'gaussian',\n",
    " 'input_matrix': 'adj',\n",
    " 'weights': [1.0, 1.0, 1.0, 1.0, 1.0, 1.0],\n",
    " 'normalization': True,\n",
    " 'dim': 512}\n",
    "U_list = randne_projection_bruteforce(M_list,\n",
    "                                          dim=conf['dim'],\n",
    "                                          projection_method=conf['projection_method']\n",
    "        )\n",
    "U = randne_merge(U_list, conf['weights'], conf['normalization'])"
   ]
  },
  {
   "cell_type": "code",
   "execution_count": 62,
   "metadata": {},
   "outputs": [
    {
     "name": "stdout",
     "output_type": "stream",
     "text": [
      "CPU times: user 4.03 s, sys: 439 ms, total: 4.47 s\n",
      "Wall time: 4.48 s\n"
     ]
    }
   ],
   "source": [
    "%%time\n",
    "conf = {'projection_method': 'sparse',\n",
    " 'input_matrix': 'adj',\n",
    " 'weights': [1.0, 1.0, 1.0, 1.0, 1.0, 1.0],\n",
    " 'normalization': True,\n",
    " 'dim': 512}\n",
    "U_list = randne_projection_bruteforce(M_list,\n",
    "                                          dim=conf['dim'],\n",
    "                                          projection_method=conf['projection_method']\n",
    "        )\n",
    "U = randne_merge(U_list, conf['weights'], conf['normalization'])"
   ]
  },
  {
   "cell_type": "code",
   "execution_count": 63,
   "metadata": {},
   "outputs": [],
   "source": [
    "fname = 'data/test-blog-clipped-randne.mat'\n",
    "savemat(fname, {'emb': U})"
   ]
  },
  {
   "cell_type": "code",
   "execution_count": 64,
   "metadata": {},
   "outputs": [
    {
     "name": "stdout",
     "output_type": "stream",
     "text": [
      "CPU times: user 22.3 s, sys: 34.9 s, total: 57.3 s\n",
      "Wall time: 13.4 s\n"
     ]
    }
   ],
   "source": [
    "%%time\n",
    "f1_scores = main(\n",
    "        [\"--emb\", fname,\n",
    "          \"--network\",\"blogcatalog/blogcatalog.mat\",\n",
    "          \"--num-shuffles\", \"5\"],\n",
    "        )"
   ]
  },
  {
   "cell_type": "code",
   "execution_count": 65,
   "metadata": {},
   "outputs": [
    {
     "data": {
      "text/plain": [
       "defaultdict(float, {'micro': 0.3645590165508944, 'macro': 0.2212518517493617})"
      ]
     },
     "execution_count": 65,
     "metadata": {},
     "output_type": "execute_result"
    }
   ],
   "source": [
    "f1_scores"
   ]
  },
  {
   "cell_type": "markdown",
   "metadata": {},
   "source": [
    "### Performance"
   ]
  },
  {
   "cell_type": "code",
   "execution_count": 53,
   "metadata": {},
   "outputs": [],
   "source": [
    "df = pd.read_csv('data/blog-clipped-scores.txt', sep='\\t')"
   ]
  },
  {
   "cell_type": "code",
   "execution_count": 55,
   "metadata": {},
   "outputs": [
    {
     "data": {
      "text/html": [
       "<div>\n",
       "<style scoped>\n",
       "    .dataframe tbody tr th:only-of-type {\n",
       "        vertical-align: middle;\n",
       "    }\n",
       "\n",
       "    .dataframe tbody tr th {\n",
       "        vertical-align: top;\n",
       "    }\n",
       "\n",
       "    .dataframe thead th {\n",
       "        text-align: right;\n",
       "    }\n",
       "</style>\n",
       "<table border=\"1\" class=\"dataframe\">\n",
       "  <thead>\n",
       "    <tr style=\"text-align: right;\">\n",
       "      <th></th>\n",
       "      <th>input_matrix</th>\n",
       "      <th>projection_method</th>\n",
       "      <th>dim</th>\n",
       "      <th>normalization</th>\n",
       "      <th>weights</th>\n",
       "      <th>macro</th>\n",
       "      <th>micro</th>\n",
       "    </tr>\n",
       "  </thead>\n",
       "  <tbody>\n",
       "    <tr>\n",
       "      <th>74</th>\n",
       "      <td>grarep_trans</td>\n",
       "      <td>gaussian</td>\n",
       "      <td>512.0</td>\n",
       "      <td>1.0</td>\n",
       "      <td>[1.0, 1.0, 1.0, 1.0, 1.0, 1.0]</td>\n",
       "      <td>0.228530</td>\n",
       "      <td>0.369396</td>\n",
       "    </tr>\n",
       "    <tr>\n",
       "      <th>158</th>\n",
       "      <td>grarep_trans</td>\n",
       "      <td>sparse</td>\n",
       "      <td>512.0</td>\n",
       "      <td>1.0</td>\n",
       "      <td>[1.0, 1.0, 1.0, 1.0, 1.0, 1.0]</td>\n",
       "      <td>0.228014</td>\n",
       "      <td>0.368204</td>\n",
       "    </tr>\n",
       "    <tr>\n",
       "      <th>152</th>\n",
       "      <td>grarep_trans</td>\n",
       "      <td>sparse</td>\n",
       "      <td>512.0</td>\n",
       "      <td>1.0</td>\n",
       "      <td>[1.0, 1.0, 1.0, 1.0, 1.0, 0]</td>\n",
       "      <td>0.223781</td>\n",
       "      <td>0.369928</td>\n",
       "    </tr>\n",
       "    <tr>\n",
       "      <th>146</th>\n",
       "      <td>grarep_trans</td>\n",
       "      <td>sparse</td>\n",
       "      <td>512.0</td>\n",
       "      <td>1.0</td>\n",
       "      <td>[1.0, 1.0, 1.0, 1.0, 0, 0]</td>\n",
       "      <td>0.223197</td>\n",
       "      <td>0.367086</td>\n",
       "    </tr>\n",
       "    <tr>\n",
       "      <th>68</th>\n",
       "      <td>grarep_trans</td>\n",
       "      <td>gaussian</td>\n",
       "      <td>512.0</td>\n",
       "      <td>1.0</td>\n",
       "      <td>[1.0, 1.0, 1.0, 1.0, 1.0, 0]</td>\n",
       "      <td>0.221217</td>\n",
       "      <td>0.372582</td>\n",
       "    </tr>\n",
       "    <tr>\n",
       "      <th>62</th>\n",
       "      <td>grarep_trans</td>\n",
       "      <td>gaussian</td>\n",
       "      <td>512.0</td>\n",
       "      <td>1.0</td>\n",
       "      <td>[1.0, 1.0, 1.0, 1.0, 0, 0]</td>\n",
       "      <td>0.219385</td>\n",
       "      <td>0.369821</td>\n",
       "    </tr>\n",
       "    <tr>\n",
       "      <th>73</th>\n",
       "      <td>grarep_trans</td>\n",
       "      <td>gaussian</td>\n",
       "      <td>256.0</td>\n",
       "      <td>1.0</td>\n",
       "      <td>[1.0, 1.0, 1.0, 1.0, 1.0, 1.0]</td>\n",
       "      <td>0.217817</td>\n",
       "      <td>0.355091</td>\n",
       "    </tr>\n",
       "    <tr>\n",
       "      <th>157</th>\n",
       "      <td>grarep_trans</td>\n",
       "      <td>sparse</td>\n",
       "      <td>256.0</td>\n",
       "      <td>1.0</td>\n",
       "      <td>[1.0, 1.0, 1.0, 1.0, 1.0, 1.0]</td>\n",
       "      <td>0.214089</td>\n",
       "      <td>0.354158</td>\n",
       "    </tr>\n",
       "    <tr>\n",
       "      <th>151</th>\n",
       "      <td>grarep_trans</td>\n",
       "      <td>sparse</td>\n",
       "      <td>256.0</td>\n",
       "      <td>1.0</td>\n",
       "      <td>[1.0, 1.0, 1.0, 1.0, 1.0, 0]</td>\n",
       "      <td>0.211126</td>\n",
       "      <td>0.356187</td>\n",
       "    </tr>\n",
       "    <tr>\n",
       "      <th>61</th>\n",
       "      <td>grarep_trans</td>\n",
       "      <td>gaussian</td>\n",
       "      <td>256.0</td>\n",
       "      <td>1.0</td>\n",
       "      <td>[1.0, 1.0, 1.0, 1.0, 0, 0]</td>\n",
       "      <td>0.210925</td>\n",
       "      <td>0.353826</td>\n",
       "    </tr>\n",
       "    <tr>\n",
       "      <th>67</th>\n",
       "      <td>grarep_trans</td>\n",
       "      <td>gaussian</td>\n",
       "      <td>256.0</td>\n",
       "      <td>1.0</td>\n",
       "      <td>[1.0, 1.0, 1.0, 1.0, 1.0, 0]</td>\n",
       "      <td>0.210784</td>\n",
       "      <td>0.353716</td>\n",
       "    </tr>\n",
       "    <tr>\n",
       "      <th>29</th>\n",
       "      <td>grarep_trans</td>\n",
       "      <td>gaussian</td>\n",
       "      <td>512.0</td>\n",
       "      <td>0.0</td>\n",
       "      <td>[0, 0, 0, 0, 1.0, 0]</td>\n",
       "      <td>0.208612</td>\n",
       "      <td>0.353634</td>\n",
       "    </tr>\n",
       "    <tr>\n",
       "      <th>23</th>\n",
       "      <td>grarep_trans</td>\n",
       "      <td>gaussian</td>\n",
       "      <td>512.0</td>\n",
       "      <td>0.0</td>\n",
       "      <td>[0, 0, 0, 1.0, 0, 0]</td>\n",
       "      <td>0.208445</td>\n",
       "      <td>0.328939</td>\n",
       "    </tr>\n",
       "    <tr>\n",
       "      <th>113</th>\n",
       "      <td>grarep_trans</td>\n",
       "      <td>sparse</td>\n",
       "      <td>512.0</td>\n",
       "      <td>0.0</td>\n",
       "      <td>[0, 0, 0, 0, 1.0, 0]</td>\n",
       "      <td>0.206615</td>\n",
       "      <td>0.346423</td>\n",
       "    </tr>\n",
       "    <tr>\n",
       "      <th>164</th>\n",
       "      <td>grarep_trans</td>\n",
       "      <td>sparse</td>\n",
       "      <td>512.0</td>\n",
       "      <td>1.0</td>\n",
       "      <td>NaN</td>\n",
       "      <td>0.206417</td>\n",
       "      <td>0.367289</td>\n",
       "    </tr>\n",
       "    <tr>\n",
       "      <th>56</th>\n",
       "      <td>grarep_trans</td>\n",
       "      <td>gaussian</td>\n",
       "      <td>512.0</td>\n",
       "      <td>1.0</td>\n",
       "      <td>[1.0, 1.0, 1.0, 0, 0, 0]</td>\n",
       "      <td>0.206333</td>\n",
       "      <td>0.365455</td>\n",
       "    </tr>\n",
       "    <tr>\n",
       "      <th>163</th>\n",
       "      <td>grarep_trans</td>\n",
       "      <td>sparse</td>\n",
       "      <td>256.0</td>\n",
       "      <td>1.0</td>\n",
       "      <td>NaN</td>\n",
       "      <td>0.205899</td>\n",
       "      <td>0.361894</td>\n",
       "    </tr>\n",
       "    <tr>\n",
       "      <th>28</th>\n",
       "      <td>grarep_trans</td>\n",
       "      <td>gaussian</td>\n",
       "      <td>256.0</td>\n",
       "      <td>0.0</td>\n",
       "      <td>[0, 0, 0, 0, 1.0, 0]</td>\n",
       "      <td>0.204777</td>\n",
       "      <td>0.344393</td>\n",
       "    </tr>\n",
       "    <tr>\n",
       "      <th>145</th>\n",
       "      <td>grarep_trans</td>\n",
       "      <td>sparse</td>\n",
       "      <td>256.0</td>\n",
       "      <td>1.0</td>\n",
       "      <td>[1.0, 1.0, 1.0, 1.0, 0, 0]</td>\n",
       "      <td>0.204765</td>\n",
       "      <td>0.354866</td>\n",
       "    </tr>\n",
       "    <tr>\n",
       "      <th>140</th>\n",
       "      <td>grarep_trans</td>\n",
       "      <td>sparse</td>\n",
       "      <td>512.0</td>\n",
       "      <td>1.0</td>\n",
       "      <td>[1.0, 1.0, 1.0, 0, 0, 0]</td>\n",
       "      <td>0.204524</td>\n",
       "      <td>0.361603</td>\n",
       "    </tr>\n",
       "  </tbody>\n",
       "</table>\n",
       "</div>"
      ],
      "text/plain": [
       "     input_matrix projection_method    dim  normalization  \\\n",
       "74   grarep_trans          gaussian  512.0            1.0   \n",
       "158  grarep_trans            sparse  512.0            1.0   \n",
       "152  grarep_trans            sparse  512.0            1.0   \n",
       "146  grarep_trans            sparse  512.0            1.0   \n",
       "68   grarep_trans          gaussian  512.0            1.0   \n",
       "62   grarep_trans          gaussian  512.0            1.0   \n",
       "73   grarep_trans          gaussian  256.0            1.0   \n",
       "157  grarep_trans            sparse  256.0            1.0   \n",
       "151  grarep_trans            sparse  256.0            1.0   \n",
       "61   grarep_trans          gaussian  256.0            1.0   \n",
       "67   grarep_trans          gaussian  256.0            1.0   \n",
       "29   grarep_trans          gaussian  512.0            0.0   \n",
       "23   grarep_trans          gaussian  512.0            0.0   \n",
       "113  grarep_trans            sparse  512.0            0.0   \n",
       "164  grarep_trans            sparse  512.0            1.0   \n",
       "56   grarep_trans          gaussian  512.0            1.0   \n",
       "163  grarep_trans            sparse  256.0            1.0   \n",
       "28   grarep_trans          gaussian  256.0            0.0   \n",
       "145  grarep_trans            sparse  256.0            1.0   \n",
       "140  grarep_trans            sparse  512.0            1.0   \n",
       "\n",
       "                            weights     macro     micro  \n",
       "74   [1.0, 1.0, 1.0, 1.0, 1.0, 1.0]  0.228530  0.369396  \n",
       "158  [1.0, 1.0, 1.0, 1.0, 1.0, 1.0]  0.228014  0.368204  \n",
       "152    [1.0, 1.0, 1.0, 1.0, 1.0, 0]  0.223781  0.369928  \n",
       "146      [1.0, 1.0, 1.0, 1.0, 0, 0]  0.223197  0.367086  \n",
       "68     [1.0, 1.0, 1.0, 1.0, 1.0, 0]  0.221217  0.372582  \n",
       "62       [1.0, 1.0, 1.0, 1.0, 0, 0]  0.219385  0.369821  \n",
       "73   [1.0, 1.0, 1.0, 1.0, 1.0, 1.0]  0.217817  0.355091  \n",
       "157  [1.0, 1.0, 1.0, 1.0, 1.0, 1.0]  0.214089  0.354158  \n",
       "151    [1.0, 1.0, 1.0, 1.0, 1.0, 0]  0.211126  0.356187  \n",
       "61       [1.0, 1.0, 1.0, 1.0, 0, 0]  0.210925  0.353826  \n",
       "67     [1.0, 1.0, 1.0, 1.0, 1.0, 0]  0.210784  0.353716  \n",
       "29             [0, 0, 0, 0, 1.0, 0]  0.208612  0.353634  \n",
       "23             [0, 0, 0, 1.0, 0, 0]  0.208445  0.328939  \n",
       "113            [0, 0, 0, 0, 1.0, 0]  0.206615  0.346423  \n",
       "164                             NaN  0.206417  0.367289  \n",
       "56         [1.0, 1.0, 1.0, 0, 0, 0]  0.206333  0.365455  \n",
       "163                             NaN  0.205899  0.361894  \n",
       "28             [0, 0, 0, 0, 1.0, 0]  0.204777  0.344393  \n",
       "145      [1.0, 1.0, 1.0, 1.0, 0, 0]  0.204765  0.354866  \n",
       "140        [1.0, 1.0, 1.0, 0, 0, 0]  0.204524  0.361603  "
      ]
     },
     "execution_count": 55,
     "metadata": {},
     "output_type": "execute_result"
    }
   ],
   "source": [
    "df = df[['input_matrix', 'projection_method', 'dim', \\\n",
    "                                 'normalization', 'weights', 'macro', 'micro']]\n",
    "df = df.sort_values(by=['macro'], ascending=False)\n",
    "df.head(n=20)"
   ]
  },
  {
   "cell_type": "markdown",
   "metadata": {},
   "source": [
    "# Node Classification on Blogcatalog"
   ]
  },
  {
   "cell_type": "markdown",
   "metadata": {},
   "source": [
    "## RandNE"
   ]
  },
  {
   "cell_type": "markdown",
   "metadata": {},
   "source": [
    "Learn embeddings with the recommended configuration (trans matrix + recommended weights):"
   ]
  },
  {
   "cell_type": "code",
   "execution_count": 19,
   "metadata": {},
   "outputs": [
    {
     "name": "stdout",
     "output_type": "stream",
     "text": [
      "CPU times: user 238 ms, sys: 52.2 ms, total: 290 ms\n",
      "Wall time: 290 ms\n"
     ]
    }
   ],
   "source": [
    "%%time\n",
    "weights = list(map(lambda x: 0.01 * x, [1e2, 1e4, 1e5]))\n",
    "U_list_fast = randne_projection(blog_trans, q=3, dim=128)\n",
    "U_fast = randne_merge(U_list_fast, weights)"
   ]
  },
  {
   "cell_type": "code",
   "execution_count": 20,
   "metadata": {},
   "outputs": [
    {
     "data": {
      "text/plain": [
       "array([[-0.48844904,  0.20275235, -0.4192839 , ..., -1.11367325,\n",
       "        -4.4354135 , -1.8893595 ],\n",
       "       [-1.52668501,  3.5871983 ,  0.85047499, ..., -1.22756421,\n",
       "        -4.41966455, -1.55155192],\n",
       "       [-0.44574345,  0.4061968 , -0.65713982, ..., -0.58740916,\n",
       "        -4.95153347, -1.93410333],\n",
       "       ...,\n",
       "       [-1.41488359,  0.69459542, -1.08402925, ..., -1.40729178,\n",
       "        -5.16958445, -2.06114091],\n",
       "       [-2.5628838 ,  1.10293738, -2.63083881, ..., -0.99083508,\n",
       "        -7.72526503, -1.04238015],\n",
       "       [-3.67204472,  0.33042499,  4.1620681 , ..., -4.04393533,\n",
       "        -9.70169837, -4.83837598]])"
      ]
     },
     "execution_count": 20,
     "metadata": {},
     "output_type": "execute_result"
    }
   ],
   "source": [
    "U_fast"
   ]
  },
  {
   "cell_type": "code",
   "execution_count": 21,
   "metadata": {},
   "outputs": [],
   "source": [
    "savemat('data/blog-trans-fast.mat', {'emb': U_fast})"
   ]
  },
  {
   "cell_type": "markdown",
   "metadata": {},
   "source": [
    "Run classification:"
   ]
  },
  {
   "cell_type": "code",
   "execution_count": 309,
   "metadata": {},
   "outputs": [
    {
     "name": "stdout",
     "output_type": "stream",
     "text": [
      "0.1740621209024954\n",
      "CPU times: user 14.8 s, sys: 21.9 s, total: 36.7 s\n",
      "Wall time: 9.96 s\n"
     ]
    }
   ],
   "source": []
  },
  {
   "cell_type": "markdown",
   "metadata": {},
   "source": [
    "## GraRep"
   ]
  },
  {
   "cell_type": "markdown",
   "metadata": {},
   "source": [
    "A nice answer on truncated SVD in Python: https://stackoverflow.com/questions/31523575/get-u-sigma-v-matrix-from-truncated-svd-in-scikit-learn"
   ]
  },
  {
   "cell_type": "code",
   "execution_count": 20,
   "metadata": {},
   "outputs": [],
   "source": [
    "from sparsesvd import sparsesvd\n",
    "from scipy.sparse import csc_matrix"
   ]
  },
  {
   "cell_type": "code",
   "execution_count": 34,
   "metadata": {},
   "outputs": [
    {
     "name": "stdout",
     "output_type": "stream",
     "text": [
      "CPU times: user 3.22 s, sys: 30 ms, total: 3.25 s\n",
      "Wall time: 3.24 s\n"
     ]
    }
   ],
   "source": [
    "%%time\n",
    "ut, s, vt = sparsesvd(blog_A, 128)"
   ]
  },
  {
   "cell_type": "markdown",
   "metadata": {},
   "source": [
    "For reference, here is the GraRep implementation: https://github.com/ShelsonCao/GraRep/blob/master/code/core/GetProbTranMat.m"
   ]
  },
  {
   "cell_type": "code",
   "execution_count": 164,
   "metadata": {},
   "outputs": [],
   "source": [
    "def get_svd_emb(A, d):\n",
    "    ut, s, vt = sparsesvd(A, d)\n",
    "    return np.matmul(ut.T, np.diag(s ** 0.5) )\n",
    "\n",
    "def grarep(A, q=3, d=128, beta=None):\n",
    "    U_list = []\n",
    "    \n",
    "    N = A.shape[0]\n",
    "    if beta is None:\n",
    "        beta = 1.0 / N\n",
    "    normalizer = spdiags(np.squeeze(1.0 / scipy.sparse.csc_matrix.sum(blog_A, axis=1) ), 0, N, N)\n",
    "    trans = normalizer @ A\n",
    "    trans_pow = trans\n",
    "    \n",
    "    for i in range(1, q + 1):\n",
    "        print ('Current order: ', i)\n",
    "        _mat = get_grarep_clipped_matrix(trans_pow / trans_pow.sum(axis=0), beta)\n",
    "        _cur_U = get_svd_emb(_mat, d)\n",
    "        U_list.append(_cur_U)\n",
    "        # is this going to cause loss of accuracy?\n",
    "        trans_pow = trans @ trans_pow\n",
    "    return U_list"
   ]
  },
  {
   "cell_type": "code",
   "execution_count": 150,
   "metadata": {},
   "outputs": [
    {
     "name": "stderr",
     "output_type": "stream",
     "text": [
      "/home/local_hcchen/anaconda3/lib/python3.7/site-packages/ipykernel_launcher.py:2: RuntimeWarning: divide by zero encountered in log\n",
      "  \n"
     ]
    },
    {
     "data": {
      "text/plain": [
       "array([[0.        , 0.        ],\n",
       "       [0.69314718, 1.09861229]])"
      ]
     },
     "execution_count": 150,
     "metadata": {},
     "output_type": "execute_result"
    }
   ],
   "source": [
    "x = np.asarray([[0, 1], [2, 3]])\n",
    "y = np.log(x)\n",
    "y[np.isneginf(y)] = 0\n",
    "y"
   ]
  },
  {
   "cell_type": "code",
   "execution_count": 165,
   "metadata": {
    "scrolled": true
   },
   "outputs": [
    {
     "name": "stdout",
     "output_type": "stream",
     "text": [
      "Current order:  1\n"
     ]
    },
    {
     "name": "stderr",
     "output_type": "stream",
     "text": [
      "/home/local_hcchen/anaconda3/lib/python3.7/site-packages/ipykernel_launcher.py:3: RuntimeWarning: divide by zero encountered in log\n",
      "  This is separate from the ipykernel package so we can avoid doing imports until\n"
     ]
    },
    {
     "name": "stdout",
     "output_type": "stream",
     "text": [
      "Current order:  2\n",
      "Current order:  3\n",
      "Current order:  4\n",
      "Current order:  5\n",
      "Current order:  6\n",
      "CPU times: user 7min 45s, sys: 48.7 s, total: 8min 34s\n",
      "Wall time: 8min 9s\n"
     ]
    }
   ],
   "source": [
    "%time U_list = grarep(blog_A, q=6)"
   ]
  },
  {
   "cell_type": "code",
   "execution_count": 166,
   "metadata": {
    "scrolled": true
   },
   "outputs": [
    {
     "data": {
      "text/plain": [
       "(10312, 768)"
      ]
     },
     "execution_count": 166,
     "metadata": {},
     "output_type": "execute_result"
    }
   ],
   "source": [
    "U = np.concatenate(U_list, axis=1)\n",
    "U.shape"
   ]
  },
  {
   "cell_type": "code",
   "execution_count": 169,
   "metadata": {},
   "outputs": [],
   "source": [
    "savemat('data/blog-grarep-q=6.mat', {'emb': U})"
   ]
  },
  {
   "cell_type": "markdown",
   "metadata": {},
   "source": [
    "Or alternatively, normalize before concatenation:"
   ]
  },
  {
   "cell_type": "code",
   "execution_count": 196,
   "metadata": {},
   "outputs": [
    {
     "data": {
      "text/plain": [
       "(10312, 768)"
      ]
     },
     "execution_count": 196,
     "metadata": {},
     "output_type": "execute_result"
    }
   ],
   "source": [
    "U_list_norm = [normalize(_U, norm='l2', axis=1) for _U in U_list]\n",
    "U_norm = np.concatenate(U_list_norm, axis=1)\n",
    "U_norm.shape"
   ]
  },
  {
   "cell_type": "code",
   "execution_count": 202,
   "metadata": {},
   "outputs": [],
   "source": [
    "savemat('data/blog-grarep-q=6-norm.mat', {'emb': U_norm})"
   ]
  },
  {
   "cell_type": "markdown",
   "metadata": {},
   "source": [
    "Then run classification:"
   ]
  },
  {
   "cell_type": "code",
   "execution_count": 189,
   "metadata": {},
   "outputs": [
    {
     "name": "stdout",
     "output_type": "stream",
     "text": [
      "Results, using embeddings of dimensionality 768\n",
      "-------------------\n",
      "Train percent: 0.1\n",
      "Shuffle #1:      {'micro': 0.37347736152608596, 'macro': 0.2239223887022614}\n",
      "Shuffle #2:      {'micro': 0.3574182603331277, 'macro': 0.21202142126653475}\n",
      "Shuffle #3:      {'micro': 0.3666153846153846, 'macro': 0.21850897139673947}\n",
      "Shuffle #4:      {'micro': 0.3614652127169405, 'macro': 0.21702878391208905}\n",
      "Shuffle #5:      {'micro': 0.3688215850564994, 'macro': 0.2154206458435744}\n",
      "Average score: {'micro': 0.36555956084960767, 'macro': 0.2173804422242398}\n",
      "-------------------\n",
      "CPU times: user 30.7 s, sys: 53.7 s, total: 1min 24s\n",
      "Wall time: 15.3 s\n"
     ]
    }
   ],
   "source": [
    "%%time\n",
    "with warnings.catch_warnings():\n",
    "    warnings.simplefilter(\"ignore\")\n",
    "    _ = main(\n",
    "        [\"--emb\", \"data/blog-grarep-q=6.mat\",\n",
    "          \"--network\",\"blogcatalog/blogcatalog.mat\",\n",
    "          \"--num-shuffles\", \"5\"])"
   ]
  },
  {
   "cell_type": "markdown",
   "metadata": {},
   "source": [
    "For the original MATLAB GraRep implementation:"
   ]
  },
  {
   "cell_type": "code",
   "execution_count": null,
   "metadata": {},
   "outputs": [],
   "source": [
    "cd /home/local_hcchen/ws/GraRep/code/core\n",
    "matlab\n",
    "load('/home/local_hcchen/ws/deepwalk/example_graphs/blogcatalog.mat')\n",
    "# should take about 5 minutes\n",
    "tic; U = GraRep(network, 3, 128, false); toc\n",
    "save('/home/local_hcchen/ws/large-network-embeddings/blogcatalog/grarep-steps=3-norm=false.mat', 'U')"
   ]
  },
  {
   "cell_type": "markdown",
   "metadata": {},
   "source": [
    "Normalization!!!"
   ]
  },
  {
   "cell_type": "code",
   "execution_count": 181,
   "metadata": {},
   "outputs": [
    {
     "name": "stdout",
     "output_type": "stream",
     "text": [
      "Results, using embeddings of dimensionality 384\n",
      "-------------------\n",
      "Train percent: 0.1\n",
      "Shuffle #1:      {'micro': 0.36686162844389725, 'macro': 0.2175807549452131}\n",
      "Shuffle #2:      {'micro': 0.3672969455714613, 'macro': 0.21246681498005252}\n",
      "Shuffle #3:      {'micro': 0.36046422258089306, 'macro': 0.2191963041617719}\n",
      "Shuffle #4:      {'micro': 0.36952849024727386, 'macro': 0.21639958480866647}\n",
      "Shuffle #5:      {'micro': 0.36678944137507674, 'macro': 0.21061840465392065}\n",
      "Average score: {'micro': 0.3661881456437205, 'macro': 0.21525237270992492}\n",
      "-------------------\n"
     ]
    }
   ],
   "source": [
    "with warnings.catch_warnings():\n",
    "    warnings.simplefilter(\"ignore\")\n",
    "    _ = main(\n",
    "        [\"--emb\", \"/home/local_hcchen/ws/large-network-embeddings/blogcatalog/grarep-steps=3-norm=false.mat\",\n",
    "          \"--network\",\"/home/local_hcchen/ws/large-network-embeddings/blogcatalog/blogcatalog.mat\",\n",
    "          \"--num-shuffles\", \"5\"])"
   ]
  },
  {
   "cell_type": "code",
   "execution_count": 182,
   "metadata": {
    "scrolled": true
   },
   "outputs": [
    {
     "name": "stdout",
     "output_type": "stream",
     "text": [
      "Results, using embeddings of dimensionality 384\n",
      "-------------------\n",
      "Train percent: 0.1\n",
      "Shuffle #1:      {'micro': 0.38673312883435584, 'macro': 0.23039458041463504}\n",
      "Shuffle #2:      {'micro': 0.38405351376287866, 'macro': 0.22862059986057068}\n",
      "Shuffle #3:      {'micro': 0.37781868384721584, 'macro': 0.22020741182804598}\n",
      "Shuffle #4:      {'micro': 0.3930960252171907, 'macro': 0.23724224031936236}\n",
      "Shuffle #5:      {'micro': 0.38105117565698476, 'macro': 0.21206827600585948}\n",
      "Average score: {'micro': 0.38455050546372516, 'macro': 0.22570662168569472}\n",
      "-------------------\n"
     ]
    }
   ],
   "source": [
    "with warnings.catch_warnings():\n",
    "    warnings.simplefilter(\"ignore\")\n",
    "    _ = main(\n",
    "        [\"--emb\", \"/home/local_hcchen/ws/large-network-embeddings/blogcatalog/grarep-steps=3.mat\",\n",
    "          \"--network\",\"/home/local_hcchen/ws/large-network-embeddings/blogcatalog/blogcatalog.mat\",\n",
    "          \"--num-shuffles\", \"5\"])"
   ]
  },
  {
   "cell_type": "code",
   "execution_count": 185,
   "metadata": {},
   "outputs": [
    {
     "name": "stdout",
     "output_type": "stream",
     "text": [
      "Results, using embeddings of dimensionality 768\n",
      "-------------------\n",
      "Train percent: 0.1\n",
      "Shuffle #1:      {'micro': 0.3662305867951955, 'macro': 0.21994083650761226}\n",
      "Shuffle #2:      {'micro': 0.3685823754789272, 'macro': 0.22101012232390843}\n",
      "Shuffle #3:      {'micro': 0.3730311179408375, 'macro': 0.22665150849111165}\n",
      "Shuffle #4:      {'micro': 0.36857866850956, 'macro': 0.22044264381551862}\n",
      "Shuffle #5:      {'micro': 0.36790936232105953, 'macro': 0.23083254539261516}\n",
      "Average score: {'micro': 0.3688664222091159, 'macro': 0.2237755313061532}\n",
      "-------------------\n"
     ]
    }
   ],
   "source": [
    "with warnings.catch_warnings():\n",
    "    warnings.simplefilter(\"ignore\")\n",
    "    _ = main(\n",
    "        [\"--emb\", \"/home/local_hcchen/ws/large-network-embeddings/blogcatalog/grarep-steps=6-norm=false.mat\",\n",
    "          \"--network\",\"/home/local_hcchen/ws/large-network-embeddings/blogcatalog/blogcatalog.mat\",\n",
    "          \"--num-shuffles\", \"5\"])"
   ]
  },
  {
   "cell_type": "code",
   "execution_count": 186,
   "metadata": {},
   "outputs": [
    {
     "name": "stdout",
     "output_type": "stream",
     "text": [
      "Results, using embeddings of dimensionality 768\n",
      "-------------------\n",
      "Train percent: 0.1\n",
      "Shuffle #1:      {'micro': 0.3789691670501611, 'macro': 0.23489610360269006}\n",
      "Shuffle #2:      {'micro': 0.3867208464310358, 'macro': 0.2315061374628617}\n",
      "Shuffle #3:      {'micro': 0.3784530386740331, 'macro': 0.23274557954971678}\n",
      "Shuffle #4:      {'micro': 0.37847809377402, 'macro': 0.2296160308062376}\n",
      "Shuffle #5:      {'micro': 0.3832321524629217, 'macro': 0.23184508517220584}\n",
      "Average score: {'micro': 0.38117065967843433, 'macro': 0.2321217873187424}\n",
      "-------------------\n"
     ]
    }
   ],
   "source": [
    "with warnings.catch_warnings():\n",
    "    warnings.simplefilter(\"ignore\")\n",
    "    _ = main(\n",
    "        [\"--emb\", \"/home/local_hcchen/ws/large-network-embeddings/blogcatalog/grarep-steps=6.mat\",\n",
    "          \"--network\",\"/home/local_hcchen/ws/large-network-embeddings/blogcatalog/blogcatalog.mat\",\n",
    "          \"--num-shuffles\", \"5\"])"
   ]
  },
  {
   "cell_type": "markdown",
   "metadata": {},
   "source": [
    "## DeepWalk"
   ]
  },
  {
   "cell_type": "markdown",
   "metadata": {},
   "source": [
    "And run classification for DeepWalk:"
   ]
  },
  {
   "cell_type": "code",
   "execution_count": 70,
   "metadata": {
    "scrolled": true
   },
   "outputs": [
    {
     "name": "stdout",
     "output_type": "stream",
     "text": [
      "Results, using embeddings of dimensionality 128\n",
      "-------------------\n",
      "Train percent: 0.1\n",
      "Shuffle #1:      {'micro': 0.34998850486627325, 'macro': 0.20068161161471323}\n",
      "Average score: {'micro': 0.34998850486627325, 'macro': 0.20068161161471323}\n",
      "-------------------\n",
      "CPU times: user 3.15 s, sys: 5.17 s, total: 8.32 s\n",
      "Wall time: 1.77 s\n"
     ]
    }
   ],
   "source": [
    "%%time\n",
    "with warnings.catch_warnings():\n",
    "    warnings.simplefilter(\"ignore\")\n",
    "    _ = main(\n",
    "        [\"--emb\", \"~/ws/deepwalk/example_graphs/blogcatalog.embeddings\",\n",
    "          \"--network\",\"blogcatalog/blogcatalog.mat\",\n",
    "          \"--num-shuffles\", \"1\"])"
   ]
  },
  {
   "cell_type": "markdown",
   "metadata": {},
   "source": [
    "And for DeepWalk:"
   ]
  },
  {
   "cell_type": "code",
   "execution_count": 65,
   "metadata": {},
   "outputs": [
    {
     "name": "stdout",
     "output_type": "stream",
     "text": [
      "Results, using embeddings of dimensionality 128\n",
      "-------------------\n",
      "Train percent: 0.1\n",
      "Shuffle #1:      {'micro': 0.357416781714987, 'macro': 0.21307696569035764}\n",
      "Average score: {'micro': 0.357416781714987, 'macro': 0.21307696569035764}\n",
      "-------------------\n"
     ]
    },
    {
     "name": "stderr",
     "output_type": "stream",
     "text": [
      "/home/hcchen/anaconda3/envs/deeplearning/lib/python3.6/site-packages/sklearn/metrics/classification.py:1135: UndefinedMetricWarning: F-score is ill-defined and being set to 0.0 in labels with no predicted samples.\n",
      "  'precision', 'predicted', average, warn_for)\n"
     ]
    }
   ],
   "source": [
    "y_dw, preds_dw, indices_test_dw = main(\n",
    "        [\"--emb\", \"~/ws/deepwalk/example_graphs/blogcatalog.embeddings\",\n",
    "          \"--network\",\"blogcatalog/blogcatalog.mat\",\n",
    "          \"--num-shuffles\", \"1\"])"
   ]
  }
 ],
 "metadata": {
  "kernelspec": {
   "display_name": "Python 3",
   "language": "python",
   "name": "python3"
  },
  "language_info": {
   "codemirror_mode": {
    "name": "ipython",
    "version": 3
   },
   "file_extension": ".py",
   "mimetype": "text/x-python",
   "name": "python",
   "nbconvert_exporter": "python",
   "pygments_lexer": "ipython3",
   "version": "3.7.1"
  }
 },
 "nbformat": 4,
 "nbformat_minor": 2
}
