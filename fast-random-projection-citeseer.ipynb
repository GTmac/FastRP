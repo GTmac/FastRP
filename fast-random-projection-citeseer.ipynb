{
 "cells": [
  {
   "cell_type": "markdown",
   "metadata": {},
   "source": [
    "# Init"
   ]
  },
  {
   "cell_type": "code",
   "execution_count": 6,
   "metadata": {},
   "outputs": [],
   "source": [
    "%matplotlib inline\n",
    "\n",
    "import csv\n",
    "import itertools\n",
    "import math\n",
    "import matplotlib\n",
    "import time\n",
    "import logging\n",
    "import sys\n",
    "import os\n",
    "import random\n",
    "import warnings\n",
    "\n",
    "import gensim\n",
    "\n",
    "import pandas as pd\n",
    "import numpy as np\n",
    "import networkx as nx\n",
    "import matplotlib.pyplot as plt\n",
    "import seaborn as sns\n",
    "\n",
    "from pathlib import Path\n",
    "\n",
    "from tqdm import tqdm_notebook as tqdm\n",
    "from collections import Counter, defaultdict\n",
    "\n",
    "from sklearn import random_projection\n",
    "from sklearn.manifold import TSNE\n",
    "from scipy.sparse import coo_matrix, csr_matrix, csc_matrix, spdiags\n",
    "from scipy.io import loadmat, savemat\n",
    "from sklearn.metrics import f1_score\n",
    "from sklearn.metrics.pairwise import cosine_similarity\n",
    "from sklearn.preprocessing import normalize, MultiLabelBinarizer"
   ]
  },
  {
   "cell_type": "code",
   "execution_count": 7,
   "metadata": {},
   "outputs": [],
   "source": [
    "from sklearn import preprocessing"
   ]
  },
  {
   "cell_type": "code",
   "execution_count": 8,
   "metadata": {},
   "outputs": [],
   "source": [
    "from scoring import scoring"
   ]
  },
  {
   "cell_type": "code",
   "execution_count": 9,
   "metadata": {},
   "outputs": [],
   "source": [
    "# to ignore sklearn warning\n",
    "def warn(*args, **kwargs):\n",
    "    pass\n",
    "import warnings\n",
    "warnings.warn = warn\n",
    "warnings.filterwarnings(\"ignore\", category=RuntimeWarning) "
   ]
  },
  {
   "cell_type": "code",
   "execution_count": 10,
   "metadata": {},
   "outputs": [
    {
     "name": "stdout",
     "output_type": "stream",
     "text": [
      "The autoreload extension is already loaded. To reload it, use:\n",
      "  %reload_ext autoreload\n"
     ]
    }
   ],
   "source": [
    "%load_ext autoreload\n",
    "%autoreload 2"
   ]
  },
  {
   "cell_type": "markdown",
   "metadata": {},
   "source": [
    "# Load Data"
   ]
  },
  {
   "cell_type": "markdown",
   "metadata": {},
   "source": [
    "## CiteSeer"
   ]
  },
  {
   "cell_type": "code",
   "execution_count": 11,
   "metadata": {},
   "outputs": [],
   "source": [
    "citeseer = loadmat('example_graphs/citeseer.mat')\n",
    "citeseer_labels = citeseer['group']\n",
    "citeseer_A = citeseer['network']\n",
    "N = citeseer_A.shape[0]"
   ]
  },
  {
   "cell_type": "code",
   "execution_count": 12,
   "metadata": {},
   "outputs": [
    {
     "data": {
      "text/plain": [
       "<3312x3312 sparse matrix of type '<class 'numpy.int64'>'\n",
       "\twith 9196 stored elements in Compressed Sparse Column format>"
      ]
     },
     "execution_count": 12,
     "metadata": {},
     "output_type": "execute_result"
    }
   ],
   "source": [
    "citeseer_A"
   ]
  },
  {
   "cell_type": "code",
   "execution_count": 13,
   "metadata": {},
   "outputs": [
    {
     "data": {
      "text/plain": [
       "3312"
      ]
     },
     "execution_count": 13,
     "metadata": {},
     "output_type": "execute_result"
    }
   ],
   "source": [
    "N"
   ]
  },
  {
   "cell_type": "markdown",
   "metadata": {},
   "source": [
    "# Random Projection"
   ]
  },
  {
   "cell_type": "code",
   "execution_count": 14,
   "metadata": {},
   "outputs": [],
   "source": [
    "# projection method: choose from Gaussian and Sparse\n",
    "# input matrix: choose from adjacency and transition matrix\n",
    "# alpha adjusts the weighting of nodes according to their degree\n",
    "def randne_projection(A, q=3, dim=128, projection_method='gaussian', input_matrix='adj', alpha=None):\n",
    "    assert input_matrix == 'adj' or input_matrix == 'trans'\n",
    "    assert projection_method == 'gaussian' or projection_method == 'sparse'\n",
    "    \n",
    "    if input_matrix == 'adj':\n",
    "        M = A\n",
    "    else:\n",
    "        N = A.shape[0]\n",
    "        normalizer = spdiags(np.squeeze(1.0 / csc_matrix.sum(A, axis=1) ), 0, N, N)\n",
    "        M = normalizer @ A\n",
    "    # Gaussian projection matrix\n",
    "    if projection_method == 'gaussian':\n",
    "        transformer = random_projection.GaussianRandomProjection(n_components=dim, random_state=42)\n",
    "    # Sparse projection matrix\n",
    "    else:\n",
    "        transformer = random_projection.SparseRandomProjection(n_components=dim, random_state=42)\n",
    "    Y = transformer.fit(M)\n",
    "    # Random projection for A\n",
    "    if alpha is not None:\n",
    "        Y.components_ = Y.components_ @ spdiags( \\\n",
    "                        np.squeeze(np.power(csc_matrix.sum(A, axis=1), alpha)), 0, N, N)\n",
    "    cur_U = transformer.transform(M)\n",
    "    U_list = [cur_U]\n",
    "    \n",
    "    for i in range(2, q + 1):\n",
    "        cur_U = M @ cur_U\n",
    "        U_list.append(cur_U)\n",
    "    return U_list"
   ]
  },
  {
   "cell_type": "code",
   "execution_count": 15,
   "metadata": {},
   "outputs": [],
   "source": [
    "# When weights is None, concatenate instead of linearly combines the embeddings from different powers of A\n",
    "def randne_merge(U_list, weights, normalization=False):\n",
    "    dense_U_list = [_U.todense() for _U in U_list] if type(U_list[0]) == csc_matrix else U_list\n",
    "    _U_list = [normalize(_U, norm='l2', axis=1) for _U in dense_U_list] if normalization else dense_U_list\n",
    "\n",
    "    if weights is None:\n",
    "        return np.concatenate(_U_list, axis=1)\n",
    "    U = np.zeros_like(_U_list[0])\n",
    "    for cur_U, weight in zip(_U_list, weights):\n",
    "        U += cur_U * weight\n",
    "    U = preprocessing.scale(U.todense())\n",
    "    # U = normalize(U.todense(), norm='l2', axis=1)\n",
    "    return U"
   ]
  },
  {
   "cell_type": "code",
   "execution_count": 16,
   "metadata": {},
   "outputs": [],
   "source": [
    "# A is always the adjacency matrix\n",
    "# the choice between adj matrix and trans matrix is decided in the conf\n",
    "def randne_wrapper(A, conf):\n",
    "    U_list = randne_projection(A,\n",
    "                               q=len(conf['weights']),\n",
    "                               dim=conf['dim'],\n",
    "                               projection_method=conf['projection_method'],\n",
    "                               input_matrix=conf['input_matrix'],\n",
    "                               alpha=conf['alpha'],\n",
    "    )\n",
    "    U = randne_merge(U_list, conf['weights'], conf['normalization'])\n",
    "    return U"
   ]
  },
  {
   "cell_type": "markdown",
   "metadata": {},
   "source": [
    "# Configuration for Easy Grid Search"
   ]
  },
  {
   "cell_type": "code",
   "execution_count": 17,
   "metadata": {},
   "outputs": [],
   "source": [
    "def get_emb_filename(prefix, conf):\n",
    "    return prefix + '-dim=' + str(conf['dim']) + ',projection_method=' + conf['projection_method'] \\\n",
    "        + ',input_matrix=' + conf['input_matrix'] + ',normalization=' + str(conf['normalization']) \\\n",
    "        + ',weights=' + (','.join(map(str, conf['weights'])) if conf['weights'] is not None else 'None') \\\n",
    "        + ',alpha=' + (str(conf['alpha']) if 'alpha' in conf else '') \\\n",
    "        + ',C=' + (str(conf['C']) if 'alpha' in conf else '1.0') \\\n",
    "        + '.mat'"
   ]
  },
  {
   "cell_type": "markdown",
   "metadata": {},
   "source": [
    "# Grid Search for Degree Normalization"
   ]
  },
  {
   "cell_type": "code",
   "execution_count": 46,
   "metadata": {},
   "outputs": [
    {
     "data": {
      "text/plain": [
       "4"
      ]
     },
     "execution_count": 46,
     "metadata": {},
     "output_type": "execute_result"
    }
   ],
   "source": [
    "keys = ['projection_method', 'input_matrix', 'weights', 'normalization', 'dim', 'alpha', 'C']\n",
    "\n",
    "all_dims = [512]\n",
    "all_alphas = [0.1, 0.5, 0.0, -0.1]\n",
    "# all_alphas = [-0.75]\n",
    "\n",
    "all_alpha_conf_raw = itertools.product(\n",
    "    # projection method\n",
    "    ['sparse'],\n",
    "    # input matrix\n",
    "    ['trans'],\n",
    "    # weights\n",
    "    [\n",
    "        [0.0, 0.0, 1.0, 2.0, 0, 0],\n",
    "    ],\n",
    "    # normalization\n",
    "    [True],\n",
    "    # dimensionality\n",
    "    all_dims,\n",
    "    # alpha\n",
    "    all_alphas,\n",
    "    # C\n",
    "    # [0.1, 0.5, 1.0]\n",
    "    [1.0]\n",
    ")\n",
    "all_alpha_conf = [{key: val for key, val in zip(keys, conf)} for conf in all_alpha_conf_raw]\n",
    "len(all_alpha_conf)"
   ]
  },
  {
   "cell_type": "code",
   "execution_count": 47,
   "metadata": {},
   "outputs": [
    {
     "data": {
      "text/plain": [
       "[{'projection_method': 'sparse',\n",
       "  'input_matrix': 'trans',\n",
       "  'weights': [0.0, 0.0, 1.0, 2.0, 0, 0],\n",
       "  'normalization': True,\n",
       "  'dim': 512,\n",
       "  'alpha': 0.1,\n",
       "  'C': 1.0},\n",
       " {'projection_method': 'sparse',\n",
       "  'input_matrix': 'trans',\n",
       "  'weights': [0.0, 0.0, 1.0, 2.0, 0, 0],\n",
       "  'normalization': True,\n",
       "  'dim': 512,\n",
       "  'alpha': 0.5,\n",
       "  'C': 1.0},\n",
       " {'projection_method': 'sparse',\n",
       "  'input_matrix': 'trans',\n",
       "  'weights': [0.0, 0.0, 1.0, 2.0, 0, 0],\n",
       "  'normalization': True,\n",
       "  'dim': 512,\n",
       "  'alpha': 0.0,\n",
       "  'C': 1.0},\n",
       " {'projection_method': 'sparse',\n",
       "  'input_matrix': 'trans',\n",
       "  'weights': [0.0, 0.0, 1.0, 2.0, 0, 0],\n",
       "  'normalization': True,\n",
       "  'dim': 512,\n",
       "  'alpha': -0.1,\n",
       "  'C': 1.0}]"
      ]
     },
     "execution_count": 47,
     "metadata": {},
     "output_type": "execute_result"
    }
   ],
   "source": [
    "all_alpha_conf"
   ]
  },
  {
   "cell_type": "markdown",
   "metadata": {},
   "source": [
    "Start grid search:"
   ]
  },
  {
   "cell_type": "code",
   "execution_count": 48,
   "metadata": {
    "scrolled": true
   },
   "outputs": [
    {
     "name": "stdout",
     "output_type": "stream",
     "text": [
      "result/citeseer-dim=512,projection_method=sparse,input_matrix=trans,normalization=True,weights=0.0,0.0,1.0,2.0,0,0,alpha=0.1,C=1.0.mat\n",
      "[0.01]\n",
      "Train percent: 0.01\n",
      "Results, using embeddings of dimensionality 512\n",
      "-------------------\n",
      "Train percent: 0.01\n",
      "Average score: {'micro': 0.3138761817627326, 'macro': 0.2983296923409182}\n",
      "-------------------\n",
      "result/citeseer-dim=512,projection_method=sparse,input_matrix=trans,normalization=True,weights=0.0,0.0,1.0,2.0,0,0,alpha=0.5,C=1.0.mat\n",
      "[0.01]\n",
      "Train percent: 0.01\n",
      "Results, using embeddings of dimensionality 512\n",
      "-------------------\n",
      "Train percent: 0.01\n",
      "Average score: {'micro': 0.3504727050930162, 'macro': 0.328236409787112}\n",
      "-------------------\n",
      "result/citeseer-dim=512,projection_method=sparse,input_matrix=trans,normalization=True,weights=0.0,0.0,1.0,2.0,0,0,alpha=0.0,C=1.0.mat\n",
      "[0.01]\n",
      "Train percent: 0.01\n",
      "Results, using embeddings of dimensionality 512\n",
      "-------------------\n",
      "Train percent: 0.01\n",
      "Average score: {'micro': 0.2900274473924977, 'macro': 0.26886198840746806}\n",
      "-------------------\n",
      "result/citeseer-dim=512,projection_method=sparse,input_matrix=trans,normalization=True,weights=0.0,0.0,1.0,2.0,0,0,alpha=-0.1,C=1.0.mat\n",
      "[0.01]\n",
      "Train percent: 0.01\n",
      "Results, using embeddings of dimensionality 512\n",
      "-------------------\n",
      "Train percent: 0.01\n",
      "Average score: {'micro': 0.28283013113754196, 'macro': 0.2534530756308316}\n",
      "-------------------\n",
      "CPU times: user 49.2 s, sys: 219 ms, total: 49.4 s\n",
      "Wall time: 2.59 s\n"
     ]
    }
   ],
   "source": [
    "%%time\n",
    "df = pd.DataFrame()\n",
    "\n",
    "prefix = 'result/citeseer'\n",
    "for conf in all_alpha_conf:\n",
    "    # print (conf)\n",
    "    emb_filename = get_emb_filename(prefix, conf)\n",
    "    print (emb_filename)\n",
    "    # first check if this file already exists\n",
    "    path = Path(emb_filename)\n",
    "    if not path.is_file():\n",
    "        U = randne_wrapper(citeseer_A, conf)\n",
    "        savemat(emb_filename, {'emb': U})\n",
    "    else:\n",
    "        print ('File %s already exists, skipped.' % emb_filename)\n",
    "    f1_scores = scoring(\n",
    "        [\n",
    "            \"--emb\", emb_filename,\n",
    "            \"--network\",\"example_graphs/citeseer.mat\",\n",
    "            \"--num-shuffles\", \"5\",\n",
    "            \"--debug\",\n",
    "            \"--C\", str(conf['C']),\n",
    "            \"--training-percents\",\n",
    "        ] + \n",
    "        [str(p) for p in range(1, 2)]\n",
    "        ,\n",
    "        )\n",
    "    f1_scores = f1_scores[0]\n",
    "    # see https://stackoverflow.com/questions/38987/how-to-merge-two-dictionaries-in-a-single-expression\n",
    "    df = df.append(pd.Series({**conf, **f1_scores}), ignore_index=True)\n",
    "    df.to_csv('result/citeseer-scores.txt', sep='\\t', index=False, header=True)\n",
    "\n",
    "df"
   ]
  },
  {
   "cell_type": "markdown",
   "metadata": {},
   "source": [
    "# Intelligent Hyperparameter Search"
   ]
  },
  {
   "cell_type": "code",
   "execution_count": 35,
   "metadata": {},
   "outputs": [],
   "source": [
    "import optuna"
   ]
  },
  {
   "cell_type": "code",
   "execution_count": 63,
   "metadata": {},
   "outputs": [
    {
     "name": "stdout",
     "output_type": "stream",
     "text": [
      "result/citeseer-dim=128,projection_method=sparse,input_matrix=trans,normalization=True,weights=1.0,5.289138527533144,2.4559455837455078,1.4551785241567021,alpha=0,C=1.0.mat\n",
      "[0.01]\n",
      "Train percent: 0.01\n",
      "Results, using embeddings of dimensionality 128\n",
      "-------------------\n",
      "Train percent: 0.01\n",
      "Average score: {'micro': 0.25227203415675514, 'macro': 0.2272149809153879}\n",
      "-------------------\n"
     ]
    },
    {
     "name": "stderr",
     "output_type": "stream",
     "text": [
      "[I 2019-03-22 19:41:27,145] Finished trial#0 resulted in value: -0.2272149809153879. Current best value is -0.2272149809153879 with parameters: {'weight0': 5.289138527533144, 'weight1': 2.4559455837455078, 'weight2': 1.4551785241567021}.\n"
     ]
    },
    {
     "name": "stdout",
     "output_type": "stream",
     "text": [
      "result/citeseer-dim=128,projection_method=sparse,input_matrix=trans,normalization=True,weights=1.0,56.08826672013705,56.128165696706915,32.84849391545937,alpha=0,C=1.0.mat\n",
      "[0.01]\n",
      "Train percent: 0.01\n",
      "Results, using embeddings of dimensionality 128\n",
      "-------------------\n",
      "Train percent: 0.01\n",
      "Average score: {'micro': 0.2653247941445563, 'macro': 0.2404721647990399}\n",
      "-------------------\n"
     ]
    },
    {
     "name": "stderr",
     "output_type": "stream",
     "text": [
      "[I 2019-03-22 19:41:27,430] Finished trial#1 resulted in value: -0.2404721647990399. Current best value is -0.2404721647990399 with parameters: {'weight0': 56.08826672013705, 'weight1': 56.128165696706915, 'weight2': 32.84849391545937}.\n"
     ]
    },
    {
     "name": "stdout",
     "output_type": "stream",
     "text": [
      "result/citeseer-dim=128,projection_method=sparse,input_matrix=trans,normalization=True,weights=1.0,3.8899222757951155,19.271430136041285,17.145821323163478,alpha=0,C=1.0.mat\n",
      "[0.01]\n",
      "Train percent: 0.01\n",
      "Results, using embeddings of dimensionality 128\n",
      "-------------------\n",
      "Train percent: 0.01\n",
      "Average score: {'micro': 0.28032936870997255, 'macro': 0.24952286389315143}\n",
      "-------------------\n"
     ]
    },
    {
     "name": "stderr",
     "output_type": "stream",
     "text": [
      "[I 2019-03-22 19:41:27,794] Finished trial#2 resulted in value: -0.24952286389315143. Current best value is -0.24952286389315143 with parameters: {'weight0': 3.8899222757951155, 'weight1': 19.271430136041285, 'weight2': 17.145821323163478}.\n"
     ]
    },
    {
     "name": "stdout",
     "output_type": "stream",
     "text": [
      "result/citeseer-dim=128,projection_method=sparse,input_matrix=trans,normalization=True,weights=1.0,6.132034916133856,24.126877330031483,22.590701023198324,alpha=0,C=1.0.mat\n",
      "[0.01]\n",
      "Train percent: 0.01\n",
      "Results, using embeddings of dimensionality 128\n",
      "-------------------\n",
      "Train percent: 0.01\n",
      "Average score: {'micro': 0.2504422079902409, 'macro': 0.22940688597214903}\n",
      "-------------------\n"
     ]
    },
    {
     "name": "stderr",
     "output_type": "stream",
     "text": [
      "[I 2019-03-22 19:41:28,077] Finished trial#3 resulted in value: -0.22940688597214903. Current best value is -0.24952286389315143 with parameters: {'weight0': 3.8899222757951155, 'weight1': 19.271430136041285, 'weight2': 17.145821323163478}.\n"
     ]
    },
    {
     "name": "stdout",
     "output_type": "stream",
     "text": [
      "result/citeseer-dim=128,projection_method=sparse,input_matrix=trans,normalization=True,weights=1.0,9.263543704655063,1.2875800812000744,19.09430875125252,alpha=0,C=1.0.mat\n",
      "[0.01]\n",
      "Train percent: 0.01\n",
      "Results, using embeddings of dimensionality 128\n",
      "-------------------\n",
      "Train percent: 0.01\n",
      "Average score: {'micro': 0.2699603537663922, 'macro': 0.24421153319753947}\n",
      "-------------------\n"
     ]
    },
    {
     "name": "stderr",
     "output_type": "stream",
     "text": [
      "[I 2019-03-22 19:41:28,362] Finished trial#4 resulted in value: -0.24421153319753947. Current best value is -0.24952286389315143 with parameters: {'weight0': 3.8899222757951155, 'weight1': 19.271430136041285, 'weight2': 17.145821323163478}.\n"
     ]
    },
    {
     "name": "stdout",
     "output_type": "stream",
     "text": [
      "result/citeseer-dim=128,projection_method=sparse,input_matrix=trans,normalization=True,weights=1.0,2.375516147314493,55.598904484958574,9.23999495152251,alpha=0,C=1.0.mat\n",
      "[0.01]\n",
      "Train percent: 0.01\n",
      "Results, using embeddings of dimensionality 128\n",
      "-------------------\n",
      "Train percent: 0.01\n",
      "Average score: {'micro': 0.23568161024702655, 'macro': 0.21255257836550429}\n",
      "-------------------\n"
     ]
    },
    {
     "name": "stderr",
     "output_type": "stream",
     "text": [
      "[I 2019-03-22 19:41:28,719] Finished trial#5 resulted in value: -0.21255257836550429. Current best value is -0.24952286389315143 with parameters: {'weight0': 3.8899222757951155, 'weight1': 19.271430136041285, 'weight2': 17.145821323163478}.\n"
     ]
    },
    {
     "name": "stdout",
     "output_type": "stream",
     "text": [
      "result/citeseer-dim=128,projection_method=sparse,input_matrix=trans,normalization=True,weights=1.0,15.584279674469196,6.763875911939777,6.652792766224092,alpha=0,C=1.0.mat\n",
      "[0.01]\n",
      "Train percent: 0.01\n",
      "Results, using embeddings of dimensionality 128\n",
      "-------------------\n",
      "Train percent: 0.01\n",
      "Average score: {'micro': 0.24940530649588286, 'macro': 0.2231597968856421}\n",
      "-------------------\n"
     ]
    },
    {
     "name": "stderr",
     "output_type": "stream",
     "text": [
      "[I 2019-03-22 19:41:29,001] Finished trial#6 resulted in value: -0.2231597968856421. Current best value is -0.24952286389315143 with parameters: {'weight0': 3.8899222757951155, 'weight1': 19.271430136041285, 'weight2': 17.145821323163478}.\n"
     ]
    },
    {
     "name": "stdout",
     "output_type": "stream",
     "text": [
      "result/citeseer-dim=128,projection_method=sparse,input_matrix=trans,normalization=True,weights=1.0,7.9700780845404795,1.3186806298453073,1.2242104509321452,alpha=0,C=1.0.mat\n",
      "[0.01]\n",
      "Train percent: 0.01\n",
      "Results, using embeddings of dimensionality 128\n",
      "-------------------\n",
      "Train percent: 0.01\n",
      "Average score: {'micro': 0.23763342482464167, 'macro': 0.2169909465630988}\n",
      "-------------------\n"
     ]
    },
    {
     "name": "stderr",
     "output_type": "stream",
     "text": [
      "[I 2019-03-22 19:41:29,286] Finished trial#7 resulted in value: -0.2169909465630988. Current best value is -0.24952286389315143 with parameters: {'weight0': 3.8899222757951155, 'weight1': 19.271430136041285, 'weight2': 17.145821323163478}.\n"
     ]
    },
    {
     "name": "stdout",
     "output_type": "stream",
     "text": [
      "result/citeseer-dim=128,projection_method=sparse,input_matrix=trans,normalization=True,weights=1.0,2.035107420851922,1.461656215168538,6.781759685234044,alpha=0,C=1.0.mat\n",
      "[0.01]\n",
      "Train percent: 0.01\n",
      "Results, using embeddings of dimensionality 128\n",
      "-------------------\n",
      "Train percent: 0.01\n",
      "Average score: {'micro': 0.27093626105519975, 'macro': 0.24737759009370014}\n",
      "-------------------\n"
     ]
    },
    {
     "name": "stderr",
     "output_type": "stream",
     "text": [
      "[I 2019-03-22 19:41:29,648] Finished trial#8 resulted in value: -0.24737759009370014. Current best value is -0.24952286389315143 with parameters: {'weight0': 3.8899222757951155, 'weight1': 19.271430136041285, 'weight2': 17.145821323163478}.\n"
     ]
    },
    {
     "name": "stdout",
     "output_type": "stream",
     "text": [
      "result/citeseer-dim=128,projection_method=sparse,input_matrix=trans,normalization=True,weights=1.0,20.22406373430954,51.47633042752639,32.479962545915015,alpha=0,C=1.0.mat\n",
      "[0.01]\n",
      "Train percent: 0.01\n",
      "Results, using embeddings of dimensionality 128\n",
      "-------------------\n",
      "Train percent: 0.01\n",
      "Average score: {'micro': 0.27721866422689845, 'macro': 0.24980050348907437}\n",
      "-------------------\n"
     ]
    },
    {
     "name": "stderr",
     "output_type": "stream",
     "text": [
      "[I 2019-03-22 19:41:29,933] Finished trial#9 resulted in value: -0.24980050348907437. Current best value is -0.24980050348907437 with parameters: {'weight0': 20.22406373430954, 'weight1': 51.47633042752639, 'weight2': 32.479962545915015}.\n"
     ]
    },
    {
     "name": "stdout",
     "output_type": "stream",
     "text": [
      "result/citeseer-dim=128,projection_method=sparse,input_matrix=trans,normalization=True,weights=1.0,25.890287762624446,6.531741660979477,58.43129832688172,alpha=0,C=1.0.mat\n",
      "[0.01]\n",
      "Train percent: 0.01\n",
      "Results, using embeddings of dimensionality 128\n",
      "-------------------\n",
      "Train percent: 0.01\n",
      "Average score: {'micro': 0.257029582189692, 'macro': 0.2275096080495574}\n",
      "-------------------\n"
     ]
    },
    {
     "name": "stderr",
     "output_type": "stream",
     "text": [
      "[I 2019-03-22 19:41:30,221] Finished trial#10 resulted in value: -0.2275096080495574. Current best value is -0.24980050348907437 with parameters: {'weight0': 20.22406373430954, 'weight1': 51.47633042752639, 'weight2': 32.479962545915015}.\n"
     ]
    },
    {
     "name": "stdout",
     "output_type": "stream",
     "text": [
      "result/citeseer-dim=128,projection_method=sparse,input_matrix=trans,normalization=True,weights=1.0,1.085227786383157,17.410007826831396,2.987006556663332,alpha=0,C=1.0.mat\n",
      "[0.01]\n",
      "Train percent: 0.01\n",
      "Results, using embeddings of dimensionality 128\n",
      "-------------------\n",
      "Train percent: 0.01\n",
      "Average score: {'micro': 0.23440073193046657, 'macro': 0.21622729458872508}\n",
      "-------------------\n"
     ]
    },
    {
     "name": "stderr",
     "output_type": "stream",
     "text": [
      "[I 2019-03-22 19:41:30,585] Finished trial#11 resulted in value: -0.21622729458872508. Current best value is -0.24980050348907437 with parameters: {'weight0': 20.22406373430954, 'weight1': 51.47633042752639, 'weight2': 32.479962545915015}.\n"
     ]
    },
    {
     "name": "stdout",
     "output_type": "stream",
     "text": [
      "result/citeseer-dim=128,projection_method=sparse,input_matrix=trans,normalization=True,weights=1.0,30.727979861956538,38.22929880869668,56.2516203279818,alpha=0,C=1.0.mat\n",
      "[0.01]\n",
      "Train percent: 0.01\n",
      "Results, using embeddings of dimensionality 128\n",
      "-------------------\n",
      "Train percent: 0.01\n",
      "Average score: {'micro': 0.2660567246111619, 'macro': 0.23846360404142128}\n",
      "-------------------\n"
     ]
    },
    {
     "name": "stderr",
     "output_type": "stream",
     "text": [
      "[I 2019-03-22 19:41:30,876] Finished trial#12 resulted in value: -0.23846360404142128. Current best value is -0.24980050348907437 with parameters: {'weight0': 20.22406373430954, 'weight1': 51.47633042752639, 'weight2': 32.479962545915015}.\n"
     ]
    },
    {
     "name": "stdout",
     "output_type": "stream",
     "text": [
      "result/citeseer-dim=128,projection_method=sparse,input_matrix=trans,normalization=True,weights=1.0,35.067230431675156,3.5696022999757675,2.7243040094389728,alpha=0,C=1.0.mat\n",
      "[0.01]\n",
      "Train percent: 0.01\n",
      "Results, using embeddings of dimensionality 128\n",
      "-------------------\n",
      "Train percent: 0.01\n",
      "Average score: {'micro': 0.23061909118633728, 'macro': 0.20146983479950792}\n",
      "-------------------\n"
     ]
    },
    {
     "name": "stderr",
     "output_type": "stream",
     "text": [
      "[I 2019-03-22 19:41:31,165] Finished trial#13 resulted in value: -0.20146983479950792. Current best value is -0.24980050348907437 with parameters: {'weight0': 20.22406373430954, 'weight1': 51.47633042752639, 'weight2': 32.479962545915015}.\n"
     ]
    },
    {
     "name": "stdout",
     "output_type": "stream",
     "text": [
      "result/citeseer-dim=128,projection_method=sparse,input_matrix=trans,normalization=True,weights=1.0,16.251850128287117,11.316155854303249,39.735254476716655,alpha=0,C=1.0.mat\n",
      "[0.01]\n",
      "Train percent: 0.01\n",
      "Results, using embeddings of dimensionality 128\n",
      "-------------------\n",
      "Train percent: 0.01\n",
      "Average score: {'micro': 0.2790484903934126, 'macro': 0.24241470806191687}\n",
      "-------------------\n"
     ]
    },
    {
     "name": "stderr",
     "output_type": "stream",
     "text": [
      "[I 2019-03-22 19:41:31,529] Finished trial#14 resulted in value: -0.24241470806191687. Current best value is -0.24980050348907437 with parameters: {'weight0': 20.22406373430954, 'weight1': 51.47633042752639, 'weight2': 32.479962545915015}.\n"
     ]
    },
    {
     "name": "stdout",
     "output_type": "stream",
     "text": [
      "result/citeseer-dim=128,projection_method=sparse,input_matrix=trans,normalization=True,weights=1.0,61.58239065345734,33.02636234577553,11.214337733375014,alpha=0,C=1.0.mat\n",
      "[0.01]\n",
      "Train percent: 0.01\n",
      "Results, using embeddings of dimensionality 128\n",
      "-------------------\n",
      "Train percent: 0.01\n",
      "Average score: {'micro': 0.22958218969197924, 'macro': 0.20953860634322347}\n",
      "-------------------\n"
     ]
    },
    {
     "name": "stderr",
     "output_type": "stream",
     "text": [
      "[I 2019-03-22 19:41:31,819] Finished trial#15 resulted in value: -0.20953860634322347. Current best value is -0.24980050348907437 with parameters: {'weight0': 20.22406373430954, 'weight1': 51.47633042752639, 'weight2': 32.479962545915015}.\n"
     ]
    },
    {
     "name": "stdout",
     "output_type": "stream",
     "text": [
      "result/citeseer-dim=128,projection_method=sparse,input_matrix=trans,normalization=True,weights=1.0,1.836130237748307,11.267788278215923,4.4071043389669375,alpha=0,C=1.0.mat\n",
      "[0.01]\n",
      "Train percent: 0.01\n",
      "Results, using embeddings of dimensionality 128\n",
      "-------------------\n",
      "Train percent: 0.01\n",
      "Average score: {'micro': 0.24879536444037814, 'macro': 0.22620654613852623}\n",
      "-------------------\n"
     ]
    },
    {
     "name": "stderr",
     "output_type": "stream",
     "text": [
      "[I 2019-03-22 19:41:32,112] Finished trial#16 resulted in value: -0.22620654613852623. Current best value is -0.24980050348907437 with parameters: {'weight0': 20.22406373430954, 'weight1': 51.47633042752639, 'weight2': 32.479962545915015}.\n"
     ]
    },
    {
     "name": "stdout",
     "output_type": "stream",
     "text": [
      "result/citeseer-dim=128,projection_method=sparse,input_matrix=trans,normalization=True,weights=1.0,3.8615444301486823,19.57424331550918,16.965141123243974,alpha=0,C=1.0.mat\n",
      "[0.01]\n",
      "Train percent: 0.01\n",
      "Results, using embeddings of dimensionality 128\n",
      "-------------------\n",
      "Train percent: 0.01\n",
      "Average score: {'micro': 0.28770966758157973, 'macro': 0.25809562310600054}\n",
      "-------------------\n"
     ]
    },
    {
     "name": "stderr",
     "output_type": "stream",
     "text": [
      "[I 2019-03-22 19:41:32,475] Finished trial#17 resulted in value: -0.25809562310600054. Current best value is -0.25809562310600054 with parameters: {'weight0': 3.8615444301486823, 'weight1': 19.57424331550918, 'weight2': 16.965141123243974}.\n"
     ]
    },
    {
     "name": "stdout",
     "output_type": "stream",
     "text": [
      "result/citeseer-dim=128,projection_method=sparse,input_matrix=trans,normalization=True,weights=1.0,3.301538897896046,61.094145439422874,31.186300238466536,alpha=0,C=1.0.mat\n",
      "[0.01]\n",
      "Train percent: 0.01\n",
      "Results, using embeddings of dimensionality 128\n",
      "-------------------\n",
      "Train percent: 0.01\n",
      "Average score: {'micro': 0.26642268984446477, 'macro': 0.24416474586868803}\n",
      "-------------------\n"
     ]
    },
    {
     "name": "stderr",
     "output_type": "stream",
     "text": [
      "[I 2019-03-22 19:41:32,765] Finished trial#18 resulted in value: -0.24416474586868803. Current best value is -0.25809562310600054 with parameters: {'weight0': 3.8615444301486823, 'weight1': 19.57424331550918, 'weight2': 16.965141123243974}.\n"
     ]
    },
    {
     "name": "stdout",
     "output_type": "stream",
     "text": [
      "result/citeseer-dim=128,projection_method=sparse,input_matrix=trans,normalization=True,weights=1.0,11.892103786448518,34.84512470968808,13.432530825069053,alpha=0,C=1.0.mat\n",
      "[0.01]\n",
      "Train percent: 0.01\n",
      "Results, using embeddings of dimensionality 128\n",
      "-------------------\n",
      "Train percent: 0.01\n",
      "Average score: {'micro': 0.26398292162244585, 'macro': 0.23769699114756437}\n",
      "-------------------\n"
     ]
    },
    {
     "name": "stderr",
     "output_type": "stream",
     "text": [
      "[I 2019-03-22 19:41:33,125] Finished trial#19 resulted in value: -0.23769699114756437. Current best value is -0.25809562310600054 with parameters: {'weight0': 3.8615444301486823, 'weight1': 19.57424331550918, 'weight2': 16.965141123243974}.\n"
     ]
    },
    {
     "name": "stdout",
     "output_type": "stream",
     "text": [
      "result/citeseer-dim=128,projection_method=sparse,input_matrix=trans,normalization=True,weights=1.0,21.53751216592646,12.452002760826247,23.76037041141717,alpha=0,C=1.0.mat\n",
      "[0.01]\n",
      "Train percent: 0.01\n",
      "Results, using embeddings of dimensionality 128\n",
      "-------------------\n",
      "Train percent: 0.01\n",
      "Average score: {'micro': 0.24690454406831347, 'macro': 0.22508771396219768}\n",
      "-------------------\n"
     ]
    },
    {
     "name": "stderr",
     "output_type": "stream",
     "text": [
      "[I 2019-03-22 19:41:33,489] Finished trial#20 resulted in value: -0.22508771396219768. Current best value is -0.25809562310600054 with parameters: {'weight0': 3.8615444301486823, 'weight1': 19.57424331550918, 'weight2': 16.965141123243974}.\n"
     ]
    },
    {
     "name": "stdout",
     "output_type": "stream",
     "text": [
      "result/citeseer-dim=128,projection_method=sparse,input_matrix=trans,normalization=True,weights=1.0,3.864297200403018,29.677457961784413,46.45744652905756,alpha=0,C=1.0.mat\n",
      "[0.01]\n",
      "Train percent: 0.01\n",
      "Results, using embeddings of dimensionality 128\n",
      "-------------------\n",
      "Train percent: 0.01\n",
      "Average score: {'micro': 0.2661177188167124, 'macro': 0.238623891456316}\n",
      "-------------------\n"
     ]
    },
    {
     "name": "stderr",
     "output_type": "stream",
     "text": [
      "[I 2019-03-22 19:41:33,937] Finished trial#21 resulted in value: -0.238623891456316. Current best value is -0.25809562310600054 with parameters: {'weight0': 3.8615444301486823, 'weight1': 19.57424331550918, 'weight2': 16.965141123243974}.\n"
     ]
    },
    {
     "name": "stdout",
     "output_type": "stream",
     "text": [
      "result/citeseer-dim=128,projection_method=sparse,input_matrix=trans,normalization=True,weights=1.0,39.178723597817346,45.040294918061754,13.906371389061265,alpha=0,C=1.0.mat\n",
      "[0.01]\n",
      "Train percent: 0.01\n",
      "Results, using embeddings of dimensionality 128\n",
      "-------------------\n",
      "Train percent: 0.01\n",
      "Average score: {'micro': 0.24690454406831353, 'macro': 0.2258323615391487}\n",
      "-------------------\n"
     ]
    },
    {
     "name": "stderr",
     "output_type": "stream",
     "text": [
      "[I 2019-03-22 19:41:34,327] Finished trial#22 resulted in value: -0.2258323615391487. Current best value is -0.25809562310600054 with parameters: {'weight0': 3.8615444301486823, 'weight1': 19.57424331550918, 'weight2': 16.965141123243974}.\n"
     ]
    },
    {
     "name": "stdout",
     "output_type": "stream",
     "text": [
      "result/citeseer-dim=128,projection_method=sparse,input_matrix=trans,normalization=True,weights=1.0,11.688251586043044,19.257172962467973,32.952674468058355,alpha=0,C=1.0.mat\n",
      "[0.01]\n",
      "Train percent: 0.01\n",
      "Results, using embeddings of dimensionality 128\n",
      "-------------------\n",
      "Train percent: 0.01\n",
      "Average score: {'micro': 0.2756328148825862, 'macro': 0.2509125578734598}\n",
      "-------------------\n"
     ]
    },
    {
     "name": "stderr",
     "output_type": "stream",
     "text": [
      "[I 2019-03-22 19:41:34,616] Finished trial#23 resulted in value: -0.2509125578734598. Current best value is -0.25809562310600054 with parameters: {'weight0': 3.8615444301486823, 'weight1': 19.57424331550918, 'weight2': 16.965141123243974}.\n"
     ]
    },
    {
     "name": "stdout",
     "output_type": "stream",
     "text": [
      "result/citeseer-dim=128,projection_method=sparse,input_matrix=trans,normalization=True,weights=1.0,1.4082182218701724,16.656202701085732,23.554125927416184,alpha=0,C=1.0.mat\n",
      "[0.01]\n",
      "Train percent: 0.01\n",
      "Results, using embeddings of dimensionality 128\n",
      "-------------------\n",
      "Train percent: 0.01\n",
      "Average score: {'micro': 0.2609332113449222, 'macro': 0.2358047340085887}\n",
      "-------------------\n"
     ]
    },
    {
     "name": "stderr",
     "output_type": "stream",
     "text": [
      "[I 2019-03-22 19:41:34,905] Finished trial#24 resulted in value: -0.2358047340085887. Current best value is -0.25809562310600054 with parameters: {'weight0': 3.8615444301486823, 'weight1': 19.57424331550918, 'weight2': 16.965141123243974}.\n"
     ]
    },
    {
     "name": "stdout",
     "output_type": "stream",
     "text": [
      "result/citeseer-dim=128,projection_method=sparse,input_matrix=trans,normalization=True,weights=1.0,6.114218489463668,4.635418732905867,4.885791138827932,alpha=0,C=1.0.mat\n",
      "[0.01]\n",
      "Train percent: 0.01\n",
      "Results, using embeddings of dimensionality 128\n",
      "-------------------\n",
      "Train percent: 0.01\n",
      "Average score: {'micro': 0.2515401036901494, 'macro': 0.231371604132837}\n",
      "-------------------\n"
     ]
    },
    {
     "name": "stderr",
     "output_type": "stream",
     "text": [
      "[I 2019-03-22 19:41:35,268] Finished trial#25 resulted in value: -0.231371604132837. Current best value is -0.25809562310600054 with parameters: {'weight0': 3.8615444301486823, 'weight1': 19.57424331550918, 'weight2': 16.965141123243974}.\n"
     ]
    },
    {
     "name": "stdout",
     "output_type": "stream",
     "text": [
      "result/citeseer-dim=128,projection_method=sparse,input_matrix=trans,normalization=True,weights=1.0,10.082933288133557,8.813874150690589,8.930861965673582,alpha=0,C=1.0.mat\n",
      "[0.01]\n",
      "Train percent: 0.01\n",
      "Results, using embeddings of dimensionality 128\n",
      "-------------------\n",
      "Train percent: 0.01\n",
      "Average score: {'micro': 0.2492223238792315, 'macro': 0.22894334960798748}\n",
      "-------------------\n"
     ]
    },
    {
     "name": "stderr",
     "output_type": "stream",
     "text": [
      "[I 2019-03-22 19:41:35,559] Finished trial#26 resulted in value: -0.22894334960798748. Current best value is -0.25809562310600054 with parameters: {'weight0': 3.8615444301486823, 'weight1': 19.57424331550918, 'weight2': 16.965141123243974}.\n"
     ]
    },
    {
     "name": "stdout",
     "output_type": "stream",
     "text": [
      "result/citeseer-dim=128,projection_method=sparse,input_matrix=trans,normalization=True,weights=1.0,3.149081734860037,23.176196575347824,15.05280732408735,alpha=0,C=1.0.mat\n",
      "[0.01]\n",
      "Train percent: 0.01\n",
      "Results, using embeddings of dimensionality 128\n",
      "-------------------\n",
      "Train percent: 0.01\n",
      "Average score: {'micro': 0.2629460201280879, 'macro': 0.22390017990280806}\n",
      "-------------------\n"
     ]
    },
    {
     "name": "stderr",
     "output_type": "stream",
     "text": [
      "[I 2019-03-22 19:41:35,846] Finished trial#27 resulted in value: -0.22390017990280806. Current best value is -0.25809562310600054 with parameters: {'weight0': 3.8615444301486823, 'weight1': 19.57424331550918, 'weight2': 16.965141123243974}.\n"
     ]
    },
    {
     "name": "stdout",
     "output_type": "stream",
     "text": [
      "result/citeseer-dim=128,projection_method=sparse,input_matrix=trans,normalization=True,weights=1.0,5.265634746297972,2.2674995215297598,58.06316125046014,alpha=0,C=1.0.mat\n",
      "[0.01]\n",
      "Train percent: 0.01\n",
      "Results, using embeddings of dimensionality 128\n",
      "-------------------\n",
      "Train percent: 0.01\n",
      "Average score: {'micro': 0.24678255565721258, 'macro': 0.21755342841986564}\n",
      "-------------------\n"
     ]
    },
    {
     "name": "stderr",
     "output_type": "stream",
     "text": [
      "[I 2019-03-22 19:41:36,209] Finished trial#28 resulted in value: -0.21755342841986564. Current best value is -0.25809562310600054 with parameters: {'weight0': 3.8615444301486823, 'weight1': 19.57424331550918, 'weight2': 16.965141123243974}.\n"
     ]
    },
    {
     "name": "stdout",
     "output_type": "stream",
     "text": [
      "result/citeseer-dim=128,projection_method=sparse,input_matrix=trans,normalization=True,weights=1.0,13.070615979603291,13.82843458702196,42.996256418016316,alpha=0,C=1.0.mat\n",
      "[0.01]\n",
      "Train percent: 0.01\n",
      "Results, using embeddings of dimensionality 128\n",
      "-------------------\n",
      "Train percent: 0.01\n",
      "Average score: {'micro': 0.24958828911253433, 'macro': 0.22940890799234612}\n",
      "-------------------\n"
     ]
    },
    {
     "name": "stderr",
     "output_type": "stream",
     "text": [
      "[I 2019-03-22 19:41:36,501] Finished trial#29 resulted in value: -0.22940890799234612. Current best value is -0.25809562310600054 with parameters: {'weight0': 3.8615444301486823, 'weight1': 19.57424331550918, 'weight2': 16.965141123243974}.\n"
     ]
    },
    {
     "name": "stdout",
     "output_type": "stream",
     "text": [
      "result/citeseer-dim=128,projection_method=sparse,input_matrix=trans,normalization=True,weights=1.0,7.21015792019418,9.045288424817924,27.05589227900472,alpha=0,C=1.0.mat\n",
      "[0.01]\n",
      "Train percent: 0.01\n",
      "Results, using embeddings of dimensionality 128\n",
      "-------------------\n",
      "Train percent: 0.01\n",
      "Average score: {'micro': 0.26251906068923453, 'macro': 0.23321603847000585}\n",
      "-------------------\n"
     ]
    },
    {
     "name": "stderr",
     "output_type": "stream",
     "text": [
      "[I 2019-03-22 19:41:36,790] Finished trial#30 resulted in value: -0.23321603847000585. Current best value is -0.25809562310600054 with parameters: {'weight0': 3.8615444301486823, 'weight1': 19.57424331550918, 'weight2': 16.965141123243974}.\n"
     ]
    },
    {
     "name": "stdout",
     "output_type": "stream",
     "text": [
      "result/citeseer-dim=128,projection_method=sparse,input_matrix=trans,normalization=True,weights=1.0,4.439599099384011,24.144694874781845,11.724812534722048,alpha=0,C=1.0.mat\n",
      "[0.01]\n",
      "Train percent: 0.01\n",
      "Results, using embeddings of dimensionality 128\n",
      "-------------------\n",
      "Train percent: 0.01\n",
      "Average score: {'micro': 0.2653247941445563, 'macro': 0.23826067329484596}\n",
      "-------------------\n"
     ]
    },
    {
     "name": "stderr",
     "output_type": "stream",
     "text": [
      "[I 2019-03-22 19:41:37,154] Finished trial#31 resulted in value: -0.23826067329484596. Current best value is -0.25809562310600054 with parameters: {'weight0': 3.8615444301486823, 'weight1': 19.57424331550918, 'weight2': 16.965141123243974}.\n"
     ]
    },
    {
     "name": "stdout",
     "output_type": "stream",
     "text": [
      "result/citeseer-dim=128,projection_method=sparse,input_matrix=trans,normalization=True,weights=1.0,2.608108225253218,5.1162063998561935,18.659171473524886,alpha=0,C=1.0.mat\n",
      "[0.01]\n",
      "Train percent: 0.01\n",
      "Results, using embeddings of dimensionality 128\n",
      "-------------------\n",
      "Train percent: 0.01\n",
      "Average score: {'micro': 0.2853308935651113, 'macro': 0.2641729807521684}\n",
      "-------------------\n"
     ]
    },
    {
     "name": "stderr",
     "output_type": "stream",
     "text": [
      "[I 2019-03-22 19:41:37,444] Finished trial#32 resulted in value: -0.2641729807521684. Current best value is -0.2641729807521684 with parameters: {'weight0': 2.608108225253218, 'weight1': 5.1162063998561935, 'weight2': 18.659171473524886}.\n"
     ]
    },
    {
     "name": "stdout",
     "output_type": "stream",
     "text": [
      "result/citeseer-dim=128,projection_method=sparse,input_matrix=trans,normalization=True,weights=1.0,1.3801234837258043,4.220124310107919,5.066607874109327,alpha=0,C=1.0.mat\n",
      "[0.01]\n",
      "Train percent: 0.01\n",
      "Results, using embeddings of dimensionality 128\n",
      "-------------------\n",
      "Train percent: 0.01\n",
      "Average score: {'micro': 0.27429094236047574, 'macro': 0.24228668408961185}\n",
      "-------------------\n"
     ]
    },
    {
     "name": "stderr",
     "output_type": "stream",
     "text": [
      "[I 2019-03-22 19:41:37,735] Finished trial#33 resulted in value: -0.24228668408961185. Current best value is -0.2641729807521684 with parameters: {'weight0': 2.608108225253218, 'weight1': 5.1162063998561935, 'weight2': 18.659171473524886}.\n"
     ]
    },
    {
     "name": "stdout",
     "output_type": "stream",
     "text": [
      "result/citeseer-dim=128,projection_method=sparse,input_matrix=trans,normalization=True,weights=1.0,2.5907799734084755,2.385469987207724,18.426455858182152,alpha=0,C=1.0.mat\n",
      "[0.01]\n",
      "Train percent: 0.01\n",
      "Results, using embeddings of dimensionality 128\n",
      "-------------------\n",
      "Train percent: 0.01\n",
      "Average score: {'micro': 0.28435498627630373, 'macro': 0.25784083764986593}\n",
      "-------------------\n"
     ]
    },
    {
     "name": "stderr",
     "output_type": "stream",
     "text": [
      "[I 2019-03-22 19:41:38,115] Finished trial#34 resulted in value: -0.25784083764986593. Current best value is -0.2641729807521684 with parameters: {'weight0': 2.608108225253218, 'weight1': 5.1162063998561935, 'weight2': 18.659171473524886}.\n"
     ]
    },
    {
     "name": "stdout",
     "output_type": "stream",
     "text": [
      "result/citeseer-dim=128,projection_method=sparse,input_matrix=trans,normalization=True,weights=1.0,1.8576864112720421,3.1837480664679227,19.11582745715475,alpha=0,C=1.0.mat\n",
      "[0.01]\n",
      "Train percent: 0.01\n",
      "Results, using embeddings of dimensionality 128\n",
      "-------------------\n",
      "Train percent: 0.01\n",
      "Average score: {'micro': 0.26758157974992375, 'macro': 0.24205215025629118}\n",
      "-------------------\n"
     ]
    },
    {
     "name": "stderr",
     "output_type": "stream",
     "text": [
      "[I 2019-03-22 19:41:38,418] Finished trial#35 resulted in value: -0.24205215025629118. Current best value is -0.2641729807521684 with parameters: {'weight0': 2.608108225253218, 'weight1': 5.1162063998561935, 'weight2': 18.659171473524886}.\n"
     ]
    },
    {
     "name": "stdout",
     "output_type": "stream",
     "text": [
      "result/citeseer-dim=128,projection_method=sparse,input_matrix=trans,normalization=True,weights=1.0,1.4001581246362536,5.319149249666574,3.479808675215392,alpha=0,C=1.0.mat\n",
      "[0.01]\n",
      "Train percent: 0.01\n",
      "Results, using embeddings of dimensionality 128\n",
      "-------------------\n",
      "Train percent: 0.01\n",
      "Average score: {'micro': 0.26123818237267454, 'macro': 0.24206237053143154}\n",
      "-------------------\n"
     ]
    },
    {
     "name": "stderr",
     "output_type": "stream",
     "text": [
      "[I 2019-03-22 19:41:38,721] Finished trial#36 resulted in value: -0.24206237053143154. Current best value is -0.2641729807521684 with parameters: {'weight0': 2.608108225253218, 'weight1': 5.1162063998561935, 'weight2': 18.659171473524886}.\n"
     ]
    },
    {
     "name": "stdout",
     "output_type": "stream",
     "text": [
      "result/citeseer-dim=128,projection_method=sparse,input_matrix=trans,normalization=True,weights=1.0,4.83594292278715,1.5590028253393422,6.918598346411613,alpha=0,C=1.0.mat\n",
      "[0.01]\n",
      "Train percent: 0.01\n",
      "Results, using embeddings of dimensionality 128\n",
      "-------------------\n",
      "Train percent: 0.01\n",
      "Average score: {'micro': 0.24056114669106435, 'macro': 0.22073506085643896}\n",
      "-------------------\n"
     ]
    },
    {
     "name": "stderr",
     "output_type": "stream",
     "text": [
      "[I 2019-03-22 19:41:39,087] Finished trial#37 resulted in value: -0.22073506085643896. Current best value is -0.2641729807521684 with parameters: {'weight0': 2.608108225253218, 'weight1': 5.1162063998561935, 'weight2': 18.659171473524886}.\n"
     ]
    },
    {
     "name": "stdout",
     "output_type": "stream",
     "text": [
      "result/citeseer-dim=128,projection_method=sparse,input_matrix=trans,normalization=True,weights=1.0,2.4958084783634336,1.817135934799163,10.433870748649401,alpha=0,C=1.0.mat\n",
      "[0.01]\n",
      "Train percent: 0.01\n",
      "Results, using embeddings of dimensionality 128\n",
      "-------------------\n",
      "Train percent: 0.01\n",
      "Average score: {'micro': 0.2528209820067094, 'macro': 0.22484688052129576}\n",
      "-------------------\n"
     ]
    },
    {
     "name": "stderr",
     "output_type": "stream",
     "text": [
      "[I 2019-03-22 19:41:39,386] Finished trial#38 resulted in value: -0.22484688052129576. Current best value is -0.2641729807521684 with parameters: {'weight0': 2.608108225253218, 'weight1': 5.1162063998561935, 'weight2': 18.659171473524886}.\n"
     ]
    },
    {
     "name": "stdout",
     "output_type": "stream",
     "text": [
      "result/citeseer-dim=128,projection_method=sparse,input_matrix=trans,normalization=True,weights=1.0,6.599137930942104,1.0821221925659772,7.753891297706089,alpha=0,C=1.0.mat\n",
      "[0.01]\n",
      "Train percent: 0.01\n",
      "Results, using embeddings of dimensionality 128\n",
      "-------------------\n",
      "Train percent: 0.01\n",
      "Average score: {'micro': 0.2549557792009759, 'macro': 0.23284574771148234}\n",
      "-------------------\n"
     ]
    },
    {
     "name": "stderr",
     "output_type": "stream",
     "text": [
      "[I 2019-03-22 19:41:39,679] Finished trial#39 resulted in value: -0.23284574771148234. Current best value is -0.2641729807521684 with parameters: {'weight0': 2.608108225253218, 'weight1': 5.1162063998561935, 'weight2': 18.659171473524886}.\n"
     ]
    },
    {
     "name": "stdout",
     "output_type": "stream",
     "text": [
      "result/citeseer-dim=128,projection_method=sparse,input_matrix=trans,normalization=True,weights=1.0,2.976974240890062,7.315264663608047,1.781122519547555,alpha=0,C=1.0.mat\n",
      "[0.01]\n",
      "Train percent: 0.01\n",
      "Results, using embeddings of dimensionality 128\n",
      "-------------------\n",
      "Train percent: 0.01\n",
      "Average score: {'micro': 0.26367795059469346, 'macro': 0.24202624173679577}\n",
      "-------------------\n"
     ]
    },
    {
     "name": "stderr",
     "output_type": "stream",
     "text": [
      "[I 2019-03-22 19:41:40,044] Finished trial#40 resulted in value: -0.24202624173679577. Current best value is -0.2641729807521684 with parameters: {'weight0': 2.608108225253218, 'weight1': 5.1162063998561935, 'weight2': 18.659171473524886}.\n"
     ]
    },
    {
     "name": "stdout",
     "output_type": "stream",
     "text": [
      "result/citeseer-dim=128,projection_method=sparse,input_matrix=trans,normalization=True,weights=1.0,1.0298043589165071,3.0284293836756593,16.61563377503637,alpha=0,C=1.0.mat\n",
      "[0.01]\n",
      "Train percent: 0.01\n",
      "Results, using embeddings of dimensionality 128\n",
      "-------------------\n",
      "Train percent: 0.01\n",
      "Average score: {'micro': 0.2655077767612077, 'macro': 0.23404370272684877}\n",
      "-------------------\n"
     ]
    },
    {
     "name": "stderr",
     "output_type": "stream",
     "text": [
      "[I 2019-03-22 19:41:40,338] Finished trial#41 resulted in value: -0.23404370272684877. Current best value is -0.2641729807521684 with parameters: {'weight0': 2.608108225253218, 'weight1': 5.1162063998561935, 'weight2': 18.659171473524886}.\n"
     ]
    },
    {
     "name": "stdout",
     "output_type": "stream",
     "text": [
      "result/citeseer-dim=128,projection_method=sparse,input_matrix=trans,normalization=True,weights=1.0,8.739283535463523,5.616398238833575,1.953494658056284,alpha=0,C=1.0.mat\n",
      "[0.01]\n",
      "Train percent: 0.01\n",
      "Results, using embeddings of dimensionality 128\n",
      "-------------------\n",
      "Train percent: 0.01\n",
      "Average score: {'micro': 0.2603232692894175, 'macro': 0.2376505221660671}\n",
      "-------------------\n"
     ]
    },
    {
     "name": "stderr",
     "output_type": "stream",
     "text": [
      "[I 2019-03-22 19:41:40,704] Finished trial#42 resulted in value: -0.2376505221660671. Current best value is -0.2641729807521684 with parameters: {'weight0': 2.608108225253218, 'weight1': 5.1162063998561935, 'weight2': 18.659171473524886}.\n"
     ]
    },
    {
     "name": "stdout",
     "output_type": "stream",
     "text": [
      "result/citeseer-dim=128,projection_method=sparse,input_matrix=trans,normalization=True,weights=1.0,3.7953943171828897,14.571881092272944,19.781236530103456,alpha=0,C=1.0.mat\n",
      "[0.01]\n",
      "Train percent: 0.01\n",
      "Results, using embeddings of dimensionality 128\n",
      "-------------------\n",
      "Train percent: 0.01\n",
      "Average score: {'micro': 0.2722781335773102, 'macro': 0.24384643283275978}\n",
      "-------------------\n"
     ]
    },
    {
     "name": "stderr",
     "output_type": "stream",
     "text": [
      "[I 2019-03-22 19:41:40,997] Finished trial#43 resulted in value: -0.24384643283275978. Current best value is -0.2641729807521684 with parameters: {'weight0': 2.608108225253218, 'weight1': 5.1162063998561935, 'weight2': 18.659171473524886}.\n"
     ]
    },
    {
     "name": "stdout",
     "output_type": "stream",
     "text": [
      "result/citeseer-dim=128,projection_method=sparse,input_matrix=trans,normalization=True,weights=1.0,1.0056870306511347,9.796581309781352,37.60687279541175,alpha=0,C=1.0.mat\n",
      "[0.01]\n",
      "Train percent: 0.01\n",
      "Results, using embeddings of dimensionality 128\n",
      "-------------------\n",
      "Train percent: 0.01\n",
      "Average score: {'micro': 0.27002134797194266, 'macro': 0.24636268722203064}\n",
      "-------------------\n"
     ]
    },
    {
     "name": "stderr",
     "output_type": "stream",
     "text": [
      "[I 2019-03-22 19:41:41,291] Finished trial#44 resulted in value: -0.24636268722203064. Current best value is -0.2641729807521684 with parameters: {'weight0': 2.608108225253218, 'weight1': 5.1162063998561935, 'weight2': 18.659171473524886}.\n"
     ]
    },
    {
     "name": "stdout",
     "output_type": "stream",
     "text": [
      "result/citeseer-dim=128,projection_method=sparse,input_matrix=trans,normalization=True,weights=1.0,2.219959620060539,25.061189822186748,5.997316539452022,alpha=0,C=1.0.mat\n",
      "[0.01]\n",
      "Train percent: 0.01\n",
      "Results, using embeddings of dimensionality 128\n",
      "-------------------\n",
      "Train percent: 0.01\n",
      "Average score: {'micro': 0.2598963098505642, 'macro': 0.23125753949553393}\n",
      "-------------------\n"
     ]
    },
    {
     "name": "stderr",
     "output_type": "stream",
     "text": [
      "[I 2019-03-22 19:41:41,660] Finished trial#45 resulted in value: -0.23125753949553393. Current best value is -0.2641729807521684 with parameters: {'weight0': 2.608108225253218, 'weight1': 5.1162063998561935, 'weight2': 18.659171473524886}.\n"
     ]
    },
    {
     "name": "stdout",
     "output_type": "stream",
     "text": [
      "result/citeseer-dim=128,projection_method=sparse,input_matrix=trans,normalization=True,weights=1.0,1.5860776572778423,6.633583711639561,49.530371833794156,alpha=0,C=1.0.mat\n",
      "[0.01]\n",
      "Train percent: 0.01\n",
      "Results, using embeddings of dimensionality 128\n",
      "-------------------\n",
      "Train percent: 0.01\n",
      "Average score: {'micro': 0.2751448612381823, 'macro': 0.24993401136147142}\n",
      "-------------------\n"
     ]
    },
    {
     "name": "stderr",
     "output_type": "stream",
     "text": [
      "[I 2019-03-22 19:41:41,954] Finished trial#46 resulted in value: -0.24993401136147142. Current best value is -0.2641729807521684 with parameters: {'weight0': 2.608108225253218, 'weight1': 5.1162063998561935, 'weight2': 18.659171473524886}.\n"
     ]
    },
    {
     "name": "stdout",
     "output_type": "stream",
     "text": [
      "result/citeseer-dim=128,projection_method=sparse,input_matrix=trans,normalization=True,weights=1.0,4.309204285632929,3.759094284381185,27.06093378700164,alpha=0,C=1.0.mat\n",
      "[0.01]\n",
      "Train percent: 0.01\n",
      "Results, using embeddings of dimensionality 128\n",
      "-------------------\n",
      "Train percent: 0.01\n",
      "Average score: {'micro': 0.2755718206770357, 'macro': 0.24411818811375796}\n",
      "-------------------\n"
     ]
    },
    {
     "name": "stderr",
     "output_type": "stream",
     "text": [
      "[I 2019-03-22 19:41:42,249] Finished trial#47 resulted in value: -0.24411818811375796. Current best value is -0.2641729807521684 with parameters: {'weight0': 2.608108225253218, 'weight1': 5.1162063998561935, 'weight2': 18.659171473524886}.\n"
     ]
    },
    {
     "name": "stdout",
     "output_type": "stream",
     "text": [
      "result/citeseer-dim=128,projection_method=sparse,input_matrix=trans,normalization=True,weights=1.0,5.475003444024884,44.169589184363126,9.870015758800575,alpha=0,C=1.0.mat\n",
      "[0.01]\n",
      "Train percent: 0.01\n",
      "Results, using embeddings of dimensionality 128\n",
      "-------------------\n",
      "Train percent: 0.01\n",
      "Average score: {'micro': 0.2531259530344617, 'macro': 0.22945314711572742}\n",
      "-------------------\n"
     ]
    },
    {
     "name": "stderr",
     "output_type": "stream",
     "text": [
      "[I 2019-03-22 19:41:42,617] Finished trial#48 resulted in value: -0.22945314711572742. Current best value is -0.2641729807521684 with parameters: {'weight0': 2.608108225253218, 'weight1': 5.1162063998561935, 'weight2': 18.659171473524886}.\n"
     ]
    },
    {
     "name": "stdout",
     "output_type": "stream",
     "text": [
      "result/citeseer-dim=128,projection_method=sparse,input_matrix=trans,normalization=True,weights=1.0,1.2057184235586291,5.790074957906382,63.91346436259081,alpha=0,C=1.0.mat\n",
      "[0.01]\n",
      "Train percent: 0.01\n",
      "Results, using embeddings of dimensionality 128\n",
      "-------------------\n",
      "Train percent: 0.01\n",
      "Average score: {'micro': 0.2645928636779506, 'macro': 0.23312513045010422}\n",
      "-------------------\n"
     ]
    },
    {
     "name": "stderr",
     "output_type": "stream",
     "text": [
      "[I 2019-03-22 19:41:42,908] Finished trial#49 resulted in value: -0.23312513045010422. Current best value is -0.2641729807521684 with parameters: {'weight0': 2.608108225253218, 'weight1': 5.1162063998561935, 'weight2': 18.659171473524886}.\n"
     ]
    },
    {
     "name": "stdout",
     "output_type": "stream",
     "text": [
      "result/citeseer-dim=128,projection_method=sparse,input_matrix=trans,normalization=True,weights=1.0,1.7503182736506084,2.852040179496465,13.031216734054633,alpha=0,C=1.0.mat\n",
      "[0.01]\n",
      "Train percent: 0.01\n",
      "Results, using embeddings of dimensionality 128\n",
      "-------------------\n",
      "Train percent: 0.01\n",
      "Average score: {'micro': 0.26526379993900584, 'macro': 0.2374705916279855}\n",
      "-------------------\n"
     ]
    },
    {
     "name": "stderr",
     "output_type": "stream",
     "text": [
      "[I 2019-03-22 19:41:43,205] Finished trial#50 resulted in value: -0.2374705916279855. Current best value is -0.2641729807521684 with parameters: {'weight0': 2.608108225253218, 'weight1': 5.1162063998561935, 'weight2': 18.659171473524886}.\n"
     ]
    },
    {
     "name": "stdout",
     "output_type": "stream",
     "text": [
      "result/citeseer-dim=128,projection_method=sparse,input_matrix=trans,normalization=True,weights=1.0,2.7900593711549067,2.0171630578944635,4.093119358563139,alpha=0,C=1.0.mat\n",
      "[0.01]\n",
      "Train percent: 0.01\n",
      "Results, using embeddings of dimensionality 128\n",
      "-------------------\n",
      "Train percent: 0.01\n",
      "Average score: {'micro': 0.2630680085391888, 'macro': 0.23073437649652223}\n",
      "-------------------\n"
     ]
    },
    {
     "name": "stderr",
     "output_type": "stream",
     "text": [
      "[I 2019-03-22 19:41:43,574] Finished trial#51 resulted in value: -0.23073437649652223. Current best value is -0.2641729807521684 with parameters: {'weight0': 2.608108225253218, 'weight1': 5.1162063998561935, 'weight2': 18.659171473524886}.\n"
     ]
    },
    {
     "name": "stdout",
     "output_type": "stream",
     "text": [
      "result/citeseer-dim=128,projection_method=sparse,input_matrix=trans,normalization=True,weights=1.0,3.6383908868804893,11.153937020424006,7.9066927071079585,alpha=0,C=1.0.mat\n",
      "[0.01]\n",
      "Train percent: 0.01\n",
      "Results, using embeddings of dimensionality 128\n",
      "-------------------\n",
      "Train percent: 0.01\n",
      "Average score: {'micro': 0.27654772796584326, 'macro': 0.24827512713518787}\n",
      "-------------------\n"
     ]
    },
    {
     "name": "stderr",
     "output_type": "stream",
     "text": [
      "[I 2019-03-22 19:41:43,869] Finished trial#52 resulted in value: -0.24827512713518787. Current best value is -0.2641729807521684 with parameters: {'weight0': 2.608108225253218, 'weight1': 5.1162063998561935, 'weight2': 18.659171473524886}.\n"
     ]
    },
    {
     "name": "stdout",
     "output_type": "stream",
     "text": [
      "result/citeseer-dim=128,projection_method=sparse,input_matrix=trans,normalization=True,weights=1.0,2.2050733610363675,7.644797620596288,1.057241590500549,alpha=0,C=1.0.mat\n",
      "[0.01]\n",
      "Train percent: 0.01\n",
      "Results, using embeddings of dimensionality 128\n",
      "-------------------\n",
      "Train percent: 0.01\n",
      "Average score: {'micro': 0.24434278743519364, 'macro': 0.22073458860095552}\n",
      "-------------------\n"
     ]
    },
    {
     "name": "stderr",
     "output_type": "stream",
     "text": [
      "[I 2019-03-22 19:41:44,168] Finished trial#53 resulted in value: -0.22073458860095552. Current best value is -0.2641729807521684 with parameters: {'weight0': 2.608108225253218, 'weight1': 5.1162063998561935, 'weight2': 18.659171473524886}.\n"
     ]
    },
    {
     "name": "stdout",
     "output_type": "stream",
     "text": [
      "result/citeseer-dim=128,projection_method=sparse,input_matrix=trans,normalization=True,weights=1.0,18.782470044362814,28.17549516681015,27.159597786476912,alpha=0,C=1.0.mat\n",
      "[0.01]\n",
      "Train percent: 0.01\n",
      "Results, using embeddings of dimensionality 128\n",
      "-------------------\n",
      "Train percent: 0.01\n",
      "Average score: {'micro': 0.24849039341262577, 'macro': 0.22095694702527297}\n",
      "-------------------\n"
     ]
    },
    {
     "name": "stderr",
     "output_type": "stream",
     "text": [
      "[I 2019-03-22 19:41:44,547] Finished trial#54 resulted in value: -0.22095694702527297. Current best value is -0.2641729807521684 with parameters: {'weight0': 2.608108225253218, 'weight1': 5.1162063998561935, 'weight2': 18.659171473524886}.\n"
     ]
    },
    {
     "name": "stdout",
     "output_type": "stream",
     "text": [
      "result/citeseer-dim=128,projection_method=sparse,input_matrix=trans,normalization=True,weights=1.0,7.908899745635445,17.015363153426268,2.6426099174964257,alpha=0,C=1.0.mat\n",
      "[0.01]\n",
      "Train percent: 0.01\n",
      "Results, using embeddings of dimensionality 128\n",
      "-------------------\n",
      "Train percent: 0.01\n",
      "Average score: {'micro': 0.2564196401341873, 'macro': 0.23413969082107555}\n",
      "-------------------\n"
     ]
    },
    {
     "name": "stderr",
     "output_type": "stream",
     "text": [
      "[I 2019-03-22 19:41:44,843] Finished trial#55 resulted in value: -0.23413969082107555. Current best value is -0.2641729807521684 with parameters: {'weight0': 2.608108225253218, 'weight1': 5.1162063998561935, 'weight2': 18.659171473524886}.\n"
     ]
    },
    {
     "name": "stdout",
     "output_type": "stream",
     "text": [
      "result/citeseer-dim=128,projection_method=sparse,input_matrix=trans,normalization=True,weights=1.0,15.718678373942113,20.45521781941972,16.1179542866192,alpha=0,C=1.0.mat\n",
      "[0.01]\n",
      "Train percent: 0.01\n",
      "Results, using embeddings of dimensionality 128\n",
      "-------------------\n",
      "Train percent: 0.01\n",
      "Average score: {'micro': 0.25873741994510524, 'macro': 0.22913195453152194}\n",
      "-------------------\n"
     ]
    },
    {
     "name": "stderr",
     "output_type": "stream",
     "text": [
      "[I 2019-03-22 19:41:45,138] Finished trial#56 resulted in value: -0.22913195453152194. Current best value is -0.2641729807521684 with parameters: {'weight0': 2.608108225253218, 'weight1': 5.1162063998561935, 'weight2': 18.659171473524886}.\n"
     ]
    },
    {
     "name": "stdout",
     "output_type": "stream",
     "text": [
      "result/citeseer-dim=128,projection_method=sparse,input_matrix=trans,normalization=True,weights=1.0,49.46940471111424,4.567795261798715,21.72048647727571,alpha=0,C=1.0.mat\n",
      "[0.01]\n",
      "Train percent: 0.01\n",
      "Results, using embeddings of dimensionality 128\n",
      "-------------------\n",
      "Train percent: 0.01\n",
      "Average score: {'micro': 0.22299481549252823, 'macro': 0.20192131748303183}\n",
      "-------------------\n"
     ]
    },
    {
     "name": "stderr",
     "output_type": "stream",
     "text": [
      "[I 2019-03-22 19:41:45,511] Finished trial#57 resulted in value: -0.20192131748303183. Current best value is -0.2641729807521684 with parameters: {'weight0': 2.608108225253218, 'weight1': 5.1162063998561935, 'weight2': 18.659171473524886}.\n"
     ]
    },
    {
     "name": "stdout",
     "output_type": "stream",
     "text": [
      "result/citeseer-dim=128,projection_method=sparse,input_matrix=trans,normalization=True,weights=1.0,10.848721815139571,53.397964744945185,34.42868236899769,alpha=0,C=1.0.mat\n",
      "[0.01]\n",
      "Train percent: 0.01\n",
      "Results, using embeddings of dimensionality 128\n",
      "-------------------\n",
      "Train percent: 0.01\n",
      "Average score: {'micro': 0.2864897834705703, 'macro': 0.2584338860824721}\n",
      "-------------------\n"
     ]
    },
    {
     "name": "stderr",
     "output_type": "stream",
     "text": [
      "[I 2019-03-22 19:41:45,810] Finished trial#58 resulted in value: -0.2584338860824721. Current best value is -0.2641729807521684 with parameters: {'weight0': 2.608108225253218, 'weight1': 5.1162063998561935, 'weight2': 18.659171473524886}.\n"
     ]
    },
    {
     "name": "stdout",
     "output_type": "stream",
     "text": [
      "result/citeseer-dim=128,projection_method=sparse,input_matrix=trans,normalization=True,weights=1.0,28.294815071344253,54.34014596966061,51.192797269729816,alpha=0,C=1.0.mat\n",
      "[0.01]\n",
      "Train percent: 0.01\n",
      "Results, using embeddings of dimensionality 128\n",
      "-------------------\n",
      "Train percent: 0.01\n",
      "Average score: {'micro': 0.26788655077767615, 'macro': 0.23850496883784306}\n",
      "-------------------\n"
     ]
    },
    {
     "name": "stderr",
     "output_type": "stream",
     "text": [
      "[I 2019-03-22 19:41:46,184] Finished trial#59 resulted in value: -0.23850496883784306. Current best value is -0.2641729807521684 with parameters: {'weight0': 2.608108225253218, 'weight1': 5.1162063998561935, 'weight2': 18.659171473524886}.\n"
     ]
    },
    {
     "name": "stdout",
     "output_type": "stream",
     "text": [
      "result/citeseer-dim=128,projection_method=sparse,input_matrix=trans,normalization=True,weights=1.0,10.169443545466473,43.21314721489966,35.76067961667494,alpha=0,C=1.0.mat\n",
      "[0.01]\n",
      "Train percent: 0.01\n",
      "Results, using embeddings of dimensionality 128\n",
      "-------------------\n",
      "Train percent: 0.01\n",
      "Average score: {'micro': 0.26227508386703263, 'macro': 0.23685232192585723}\n",
      "-------------------\n"
     ]
    },
    {
     "name": "stderr",
     "output_type": "stream",
     "text": [
      "[I 2019-03-22 19:41:46,490] Finished trial#60 resulted in value: -0.23685232192585723. Current best value is -0.2641729807521684 with parameters: {'weight0': 2.608108225253218, 'weight1': 5.1162063998561935, 'weight2': 18.659171473524886}.\n"
     ]
    },
    {
     "name": "stdout",
     "output_type": "stream",
     "text": [
      "result/citeseer-dim=128,projection_method=sparse,input_matrix=trans,normalization=True,weights=1.0,11.962238543663766,62.052808241446606,45.16197748711637,alpha=0,C=1.0.mat\n",
      "[0.01]\n",
      "Train percent: 0.01\n",
      "Results, using embeddings of dimensionality 128\n",
      "-------------------\n",
      "Train percent: 0.01\n",
      "Average score: {'micro': 0.26306800853918877, 'macro': 0.23929760913284753}\n",
      "-------------------\n"
     ]
    },
    {
     "name": "stderr",
     "output_type": "stream",
     "text": [
      "[I 2019-03-22 19:41:46,797] Finished trial#61 resulted in value: -0.23929760913284753. Current best value is -0.2641729807521684 with parameters: {'weight0': 2.608108225253218, 'weight1': 5.1162063998561935, 'weight2': 18.659171473524886}.\n"
     ]
    },
    {
     "name": "stdout",
     "output_type": "stream",
     "text": [
      "result/citeseer-dim=128,projection_method=sparse,input_matrix=trans,normalization=True,weights=1.0,36.116126841508716,1.3099919903147579,29.642704938513894,alpha=0,C=1.0.mat\n",
      "[0.01]\n",
      "Train percent: 0.01\n",
      "Results, using embeddings of dimensionality 128\n",
      "-------------------\n",
      "Train percent: 0.01\n",
      "Average score: {'micro': 0.24745349191826777, 'macro': 0.22050815990682562}\n",
      "-------------------\n"
     ]
    },
    {
     "name": "stderr",
     "output_type": "stream",
     "text": [
      "[I 2019-03-22 19:41:47,194] Finished trial#62 resulted in value: -0.22050815990682562. Current best value is -0.2641729807521684 with parameters: {'weight0': 2.608108225253218, 'weight1': 5.1162063998561935, 'weight2': 18.659171473524886}.\n"
     ]
    },
    {
     "name": "stdout",
     "output_type": "stream",
     "text": [
      "result/citeseer-dim=128,projection_method=sparse,input_matrix=trans,normalization=True,weights=1.0,24.178727934641508,30.775893068209804,12.571092122512425,alpha=0,C=1.0.mat\n",
      "[0.01]\n",
      "Train percent: 0.01\n",
      "Results, using embeddings of dimensionality 128\n",
      "-------------------\n",
      "Train percent: 0.01\n",
      "Average score: {'micro': 0.24989326014028662, 'macro': 0.224531924532696}\n",
      "-------------------\n"
     ]
    },
    {
     "name": "stderr",
     "output_type": "stream",
     "text": [
      "[I 2019-03-22 19:41:47,492] Finished trial#63 resulted in value: -0.224531924532696. Current best value is -0.2641729807521684 with parameters: {'weight0': 2.608108225253218, 'weight1': 5.1162063998561935, 'weight2': 18.659171473524886}.\n"
     ]
    },
    {
     "name": "stdout",
     "output_type": "stream",
     "text": [
      "result/citeseer-dim=128,projection_method=sparse,input_matrix=trans,normalization=True,weights=1.0,53.13425837641362,14.187764182708825,22.55894111218661,alpha=0,C=1.0.mat\n",
      "[0.01]\n",
      "Train percent: 0.01\n",
      "Results, using embeddings of dimensionality 128\n",
      "-------------------\n",
      "Train percent: 0.01\n",
      "Average score: {'micro': 0.25916437938395853, 'macro': 0.23362436649130655}\n",
      "-------------------\n"
     ]
    },
    {
     "name": "stderr",
     "output_type": "stream",
     "text": [
      "[I 2019-03-22 19:41:47,792] Finished trial#64 resulted in value: -0.23362436649130655. Current best value is -0.2641729807521684 with parameters: {'weight0': 2.608108225253218, 'weight1': 5.1162063998561935, 'weight2': 18.659171473524886}.\n"
     ]
    },
    {
     "name": "stdout",
     "output_type": "stream",
     "text": [
      "result/citeseer-dim=128,projection_method=sparse,input_matrix=trans,normalization=True,weights=1.0,13.426013363877166,35.806365982019834,8.723845705044829,alpha=0,C=1.0.mat\n",
      "[0.01]\n",
      "Train percent: 0.01\n",
      "Results, using embeddings of dimensionality 128\n",
      "-------------------\n",
      "Train percent: 0.01\n",
      "Average score: {'micro': 0.2616651418115279, 'macro': 0.23174358249227925}\n",
      "-------------------\n"
     ]
    },
    {
     "name": "stderr",
     "output_type": "stream",
     "text": [
      "[I 2019-03-22 19:41:48,287] Finished trial#65 resulted in value: -0.23174358249227925. Current best value is -0.2641729807521684 with parameters: {'weight0': 2.608108225253218, 'weight1': 5.1162063998561935, 'weight2': 18.659171473524886}.\n"
     ]
    },
    {
     "name": "stdout",
     "output_type": "stream",
     "text": [
      "result/citeseer-dim=128,projection_method=sparse,input_matrix=trans,normalization=True,weights=1.0,6.3262250819058545,48.68457057928545,33.917501364216065,alpha=0,C=1.0.mat\n",
      "[0.01]\n",
      "Train percent: 0.01\n",
      "Results, using embeddings of dimensionality 128\n",
      "-------------------\n",
      "Train percent: 0.01\n",
      "Average score: {'micro': 0.26874046965538273, 'macro': 0.23921213084107143}\n",
      "-------------------\n"
     ]
    },
    {
     "name": "stderr",
     "output_type": "stream",
     "text": [
      "[I 2019-03-22 19:41:48,691] Finished trial#66 resulted in value: -0.23921213084107143. Current best value is -0.2641729807521684 with parameters: {'weight0': 2.608108225253218, 'weight1': 5.1162063998561935, 'weight2': 18.659171473524886}.\n"
     ]
    },
    {
     "name": "stdout",
     "output_type": "stream",
     "text": [
      "result/citeseer-dim=128,projection_method=sparse,input_matrix=trans,normalization=True,weights=1.0,3.405469586384407,40.77160716502133,40.80772162168585,alpha=0,C=1.0.mat\n",
      "[0.01]\n",
      "Train percent: 0.01\n",
      "Results, using embeddings of dimensionality 128\n",
      "-------------------\n",
      "Train percent: 0.01\n",
      "Average score: {'micro': 0.2571515706007929, 'macro': 0.23187526541157352}\n",
      "-------------------\n"
     ]
    },
    {
     "name": "stderr",
     "output_type": "stream",
     "text": [
      "[I 2019-03-22 19:41:48,999] Finished trial#67 resulted in value: -0.23187526541157352. Current best value is -0.2641729807521684 with parameters: {'weight0': 2.608108225253218, 'weight1': 5.1162063998561935, 'weight2': 18.659171473524886}.\n"
     ]
    },
    {
     "name": "stdout",
     "output_type": "stream",
     "text": [
      "result/citeseer-dim=128,projection_method=sparse,input_matrix=trans,normalization=True,weights=1.0,5.104538139288528,19.560366162234068,14.50142006805078,alpha=0,C=1.0.mat\n",
      "[0.01]\n",
      "Train percent: 0.01\n",
      "Results, using embeddings of dimensionality 128\n",
      "-------------------\n",
      "Train percent: 0.01\n",
      "Average score: {'micro': 0.28209820067093627, 'macro': 0.25779705084785753}\n",
      "-------------------\n"
     ]
    },
    {
     "name": "stderr",
     "output_type": "stream",
     "text": [
      "[I 2019-03-22 19:41:49,378] Finished trial#68 resulted in value: -0.25779705084785753. Current best value is -0.2641729807521684 with parameters: {'weight0': 2.608108225253218, 'weight1': 5.1162063998561935, 'weight2': 18.659171473524886}.\n"
     ]
    },
    {
     "name": "stdout",
     "output_type": "stream",
     "text": [
      "result/citeseer-dim=128,projection_method=sparse,input_matrix=trans,normalization=True,weights=1.0,4.168434113813684,8.619917731726854,25.22746568759813,alpha=0,C=1.0.mat\n",
      "[0.01]\n",
      "Train percent: 0.01\n",
      "Results, using embeddings of dimensionality 128\n",
      "-------------------\n",
      "Train percent: 0.01\n",
      "Average score: {'micro': 0.2885025922537359, 'macro': 0.2584873180043535}\n",
      "-------------------\n"
     ]
    },
    {
     "name": "stderr",
     "output_type": "stream",
     "text": [
      "[I 2019-03-22 19:41:49,685] Finished trial#69 resulted in value: -0.2584873180043535. Current best value is -0.2641729807521684 with parameters: {'weight0': 2.608108225253218, 'weight1': 5.1162063998561935, 'weight2': 18.659171473524886}.\n"
     ]
    },
    {
     "name": "stdout",
     "output_type": "stream",
     "text": [
      "result/citeseer-dim=128,projection_method=sparse,input_matrix=trans,normalization=True,weights=1.0,4.320481341508658,3.5146199515220835,24.63815961530357,alpha=0,C=1.0.mat\n",
      "[0.01]\n",
      "Train percent: 0.01\n",
      "Results, using embeddings of dimensionality 128\n",
      "-------------------\n",
      "Train percent: 0.01\n",
      "Average score: {'micro': 0.2595913388228118, 'macro': 0.2396831646162446}\n",
      "-------------------\n"
     ]
    },
    {
     "name": "stderr",
     "output_type": "stream",
     "text": [
      "[I 2019-03-22 19:41:49,993] Finished trial#70 resulted in value: -0.2396831646162446. Current best value is -0.2641729807521684 with parameters: {'weight0': 2.608108225253218, 'weight1': 5.1162063998561935, 'weight2': 18.659171473524886}.\n"
     ]
    },
    {
     "name": "stdout",
     "output_type": "stream",
     "text": [
      "result/citeseer-dim=128,projection_method=sparse,input_matrix=trans,normalization=True,weights=1.0,6.997272752481422,2.8102845143297346,55.04236119430176,alpha=0,C=1.0.mat\n",
      "[0.01]\n",
      "Train percent: 0.01\n",
      "Results, using embeddings of dimensionality 128\n",
      "-------------------\n",
      "Train percent: 0.01\n",
      "Average score: {'micro': 0.26331198536139067, 'macro': 0.22724761603081065}\n",
      "-------------------\n"
     ]
    },
    {
     "name": "stderr",
     "output_type": "stream",
     "text": [
      "[I 2019-03-22 19:41:50,383] Finished trial#71 resulted in value: -0.22724761603081065. Current best value is -0.2641729807521684 with parameters: {'weight0': 2.608108225253218, 'weight1': 5.1162063998561935, 'weight2': 18.659171473524886}.\n"
     ]
    },
    {
     "name": "stdout",
     "output_type": "stream",
     "text": [
      "result/citeseer-dim=128,projection_method=sparse,input_matrix=trans,normalization=True,weights=1.0,17.95665741517787,8.534556381258868,20.30700770916049,alpha=0,C=1.0.mat\n",
      "[0.01]\n",
      "Train percent: 0.01\n",
      "Results, using embeddings of dimensionality 128\n",
      "-------------------\n",
      "Train percent: 0.01\n",
      "Average score: {'micro': 0.24757548032936869, 'macro': 0.22329157790009826}\n",
      "-------------------\n"
     ]
    },
    {
     "name": "stderr",
     "output_type": "stream",
     "text": [
      "[I 2019-03-22 19:41:50,694] Finished trial#72 resulted in value: -0.22329157790009826. Current best value is -0.2641729807521684 with parameters: {'weight0': 2.608108225253218, 'weight1': 5.1162063998561935, 'weight2': 18.659171473524886}.\n"
     ]
    },
    {
     "name": "stdout",
     "output_type": "stream",
     "text": [
      "result/citeseer-dim=128,projection_method=sparse,input_matrix=trans,normalization=True,weights=1.0,5.807116410287449,10.214992955106583,63.339954300051424,alpha=0,C=1.0.mat\n",
      "[0.01]\n",
      "Train percent: 0.01\n",
      "Results, using embeddings of dimensionality 128\n",
      "-------------------\n",
      "Train percent: 0.01\n",
      "Average score: {'micro': 0.2456236657517536, 'macro': 0.21574957989319699}\n",
      "-------------------\n"
     ]
    },
    {
     "name": "stderr",
     "output_type": "stream",
     "text": [
      "[I 2019-03-22 19:41:51,074] Finished trial#73 resulted in value: -0.21574957989319699. Current best value is -0.2641729807521684 with parameters: {'weight0': 2.608108225253218, 'weight1': 5.1162063998561935, 'weight2': 18.659171473524886}.\n"
     ]
    },
    {
     "name": "stdout",
     "output_type": "stream",
     "text": [
      "result/citeseer-dim=128,projection_method=sparse,input_matrix=trans,normalization=True,weights=1.0,8.910781082670168,5.217784918974644,17.32150938946921,alpha=0,C=1.0.mat\n",
      "[0.01]\n",
      "Train percent: 0.01\n",
      "Results, using embeddings of dimensionality 128\n",
      "-------------------\n",
      "Train percent: 0.01\n",
      "Average score: {'micro': 0.2600792924672156, 'macro': 0.24037294276385737}\n",
      "-------------------\n"
     ]
    },
    {
     "name": "stderr",
     "output_type": "stream",
     "text": [
      "[I 2019-03-22 19:41:51,381] Finished trial#74 resulted in value: -0.24037294276385737. Current best value is -0.2641729807521684 with parameters: {'weight0': 2.608108225253218, 'weight1': 5.1162063998561935, 'weight2': 18.659171473524886}.\n"
     ]
    },
    {
     "name": "stdout",
     "output_type": "stream",
     "text": [
      "result/citeseer-dim=128,projection_method=sparse,input_matrix=trans,normalization=True,weights=1.0,1.2027477694986906,63.87614909077653,30.09388792203878,alpha=0,C=1.0.mat\n",
      "[0.01]\n",
      "Train percent: 0.01\n",
      "Results, using embeddings of dimensionality 128\n",
      "-------------------\n",
      "Train percent: 0.01\n",
      "Average score: {'micro': 0.2689844464775846, 'macro': 0.23563273025860826}\n",
      "-------------------\n"
     ]
    },
    {
     "name": "stderr",
     "output_type": "stream",
     "text": [
      "[I 2019-03-22 19:41:51,686] Finished trial#75 resulted in value: -0.23563273025860826. Current best value is -0.2641729807521684 with parameters: {'weight0': 2.608108225253218, 'weight1': 5.1162063998561935, 'weight2': 18.659171473524886}.\n"
     ]
    },
    {
     "name": "stdout",
     "output_type": "stream",
     "text": [
      "result/citeseer-dim=128,projection_method=sparse,input_matrix=trans,normalization=True,weights=1.0,1.9679405628251896,1.5675469019263697,24.891443507438787,alpha=0,C=1.0.mat\n",
      "[0.01]\n",
      "Train percent: 0.01\n",
      "Results, using embeddings of dimensionality 128\n",
      "-------------------\n",
      "Train percent: 0.01\n",
      "Average score: {'micro': 0.2624580664836841, 'macro': 0.23345959366361005}\n",
      "-------------------\n"
     ]
    },
    {
     "name": "stderr",
     "output_type": "stream",
     "text": [
      "[I 2019-03-22 19:41:52,068] Finished trial#76 resulted in value: -0.23345959366361005. Current best value is -0.2641729807521684 with parameters: {'weight0': 2.608108225253218, 'weight1': 5.1162063998561935, 'weight2': 18.659171473524886}.\n"
     ]
    },
    {
     "name": "stdout",
     "output_type": "stream",
     "text": [
      "result/citeseer-dim=128,projection_method=sparse,input_matrix=trans,normalization=True,weights=1.0,2.6849552950262816,2.083391751112208,11.361196422170046,alpha=0,C=1.0.mat\n",
      "[0.01]\n",
      "Train percent: 0.01\n",
      "Results, using embeddings of dimensionality 128\n",
      "-------------------\n",
      "Train percent: 0.01\n",
      "Average score: {'micro': 0.2686794754498323, 'macro': 0.23668689809699422}\n",
      "-------------------\n"
     ]
    },
    {
     "name": "stderr",
     "output_type": "stream",
     "text": [
      "[I 2019-03-22 19:41:52,376] Finished trial#77 resulted in value: -0.23668689809699422. Current best value is -0.2641729807521684 with parameters: {'weight0': 2.608108225253218, 'weight1': 5.1162063998561935, 'weight2': 18.659171473524886}.\n"
     ]
    },
    {
     "name": "stdout",
     "output_type": "stream",
     "text": [
      "result/citeseer-dim=128,projection_method=sparse,input_matrix=trans,normalization=True,weights=1.0,7.809816637286492,6.157903234034424,15.24722306971024,alpha=0,C=1.0.mat\n",
      "[0.01]\n",
      "Train percent: 0.01\n",
      "Results, using embeddings of dimensionality 128\n",
      "-------------------\n",
      "Train percent: 0.01\n",
      "Average score: {'micro': 0.2626410491003355, 'macro': 0.23411430191604765}\n",
      "-------------------\n"
     ]
    },
    {
     "name": "stderr",
     "output_type": "stream",
     "text": [
      "[I 2019-03-22 19:41:52,690] Finished trial#78 resulted in value: -0.23411430191604765. Current best value is -0.2641729807521684 with parameters: {'weight0': 2.608108225253218, 'weight1': 5.1162063998561935, 'weight2': 18.659171473524886}.\n"
     ]
    },
    {
     "name": "stdout",
     "output_type": "stream",
     "text": [
      "result/citeseer-dim=128,projection_method=sparse,input_matrix=trans,normalization=True,weights=1.0,3.0855408901104986,3.95376701366868,38.62951805217788,alpha=0,C=1.0.mat\n",
      "[0.01]\n",
      "Train percent: 0.01\n",
      "Results, using embeddings of dimensionality 128\n",
      "-------------------\n",
      "Train percent: 0.01\n",
      "Average score: {'micro': 0.24897834705702956, 'macro': 0.23167965337119328}\n",
      "-------------------\n"
     ]
    },
    {
     "name": "stderr",
     "output_type": "stream",
     "text": [
      "[I 2019-03-22 19:41:53,076] Finished trial#79 resulted in value: -0.23167965337119328. Current best value is -0.2641729807521684 with parameters: {'weight0': 2.608108225253218, 'weight1': 5.1162063998561935, 'weight2': 18.659171473524886}.\n"
     ]
    },
    {
     "name": "stdout",
     "output_type": "stream",
     "text": [
      "result/citeseer-dim=128,projection_method=sparse,input_matrix=trans,normalization=True,weights=1.0,4.686196152490518,12.705070340647122,1.245293921047253,alpha=0,C=1.0.mat\n",
      "[0.01]\n",
      "Train percent: 0.01\n",
      "Results, using embeddings of dimensionality 128\n",
      "-------------------\n",
      "Train percent: 0.01\n",
      "Average score: {'micro': 0.2619091186337298, 'macro': 0.2307438070844834}\n",
      "-------------------\n"
     ]
    },
    {
     "name": "stderr",
     "output_type": "stream",
     "text": [
      "[I 2019-03-22 19:41:53,390] Finished trial#80 resulted in value: -0.2307438070844834. Current best value is -0.2641729807521684 with parameters: {'weight0': 2.608108225253218, 'weight1': 5.1162063998561935, 'weight2': 18.659171473524886}.\n"
     ]
    },
    {
     "name": "stdout",
     "output_type": "stream",
     "text": [
      "result/citeseer-dim=128,projection_method=sparse,input_matrix=trans,normalization=True,weights=1.0,1.5736102087408237,4.871262090154399,9.881922324535836,alpha=0,C=1.0.mat\n",
      "[0.01]\n",
      "Train percent: 0.01\n",
      "Results, using embeddings of dimensionality 128\n",
      "-------------------\n",
      "Train percent: 0.01\n",
      "Average score: {'micro': 0.2740469655382739, 'macro': 0.23739793511154722}\n",
      "-------------------\n"
     ]
    },
    {
     "name": "stderr",
     "output_type": "stream",
     "text": [
      "[I 2019-03-22 19:41:53,699] Finished trial#81 resulted in value: -0.23739793511154722. Current best value is -0.2641729807521684 with parameters: {'weight0': 2.608108225253218, 'weight1': 5.1162063998561935, 'weight2': 18.659171473524886}.\n"
     ]
    },
    {
     "name": "stdout",
     "output_type": "stream",
     "text": [
      "result/citeseer-dim=128,projection_method=sparse,input_matrix=trans,normalization=True,weights=1.0,9.894105087258215,7.161849571946894,6.291592532486047,alpha=0,C=1.0.mat\n",
      "[0.01]\n",
      "Train percent: 0.01\n",
      "Results, using embeddings of dimensionality 128\n",
      "-------------------\n",
      "Train percent: 0.01\n",
      "Average score: {'micro': 0.2406831351021653, 'macro': 0.22876198791557542}\n",
      "-------------------\n"
     ]
    },
    {
     "name": "stderr",
     "output_type": "stream",
     "text": [
      "[I 2019-03-22 19:41:54,229] Finished trial#82 resulted in value: -0.22876198791557542. Current best value is -0.2641729807521684 with parameters: {'weight0': 2.608108225253218, 'weight1': 5.1162063998561935, 'weight2': 18.659171473524886}.\n"
     ]
    },
    {
     "name": "stdout",
     "output_type": "stream",
     "text": [
      "result/citeseer-dim=128,projection_method=sparse,input_matrix=trans,normalization=True,weights=1.0,14.425176415762525,27.374905823228026,49.43583460239306,alpha=0,C=1.0.mat\n",
      "[0.01]\n",
      "Train percent: 0.01\n",
      "Results, using embeddings of dimensionality 128\n",
      "-------------------\n",
      "Train percent: 0.01\n",
      "Average score: {'micro': 0.27660872217139376, 'macro': 0.2510627852394105}\n",
      "-------------------\n"
     ]
    },
    {
     "name": "stderr",
     "output_type": "stream",
     "text": [
      "[I 2019-03-22 19:41:54,755] Finished trial#83 resulted in value: -0.2510627852394105. Current best value is -0.2641729807521684 with parameters: {'weight0': 2.608108225253218, 'weight1': 5.1162063998561935, 'weight2': 18.659171473524886}.\n"
     ]
    },
    {
     "name": "stdout",
     "output_type": "stream",
     "text": [
      "result/citeseer-dim=128,projection_method=sparse,input_matrix=trans,normalization=True,weights=1.0,11.09727701645827,2.647933451155809,42.47648481007511,alpha=0,C=1.0.mat\n",
      "[0.01]\n",
      "Train percent: 0.01\n",
      "Results, using embeddings of dimensionality 128\n",
      "-------------------\n",
      "Train percent: 0.01\n",
      "Average score: {'micro': 0.2644098810612992, 'macro': 0.23860922665289097}\n",
      "-------------------\n"
     ]
    },
    {
     "name": "stderr",
     "output_type": "stream",
     "text": [
      "[I 2019-03-22 19:41:55,335] Finished trial#84 resulted in value: -0.23860922665289097. Current best value is -0.2641729807521684 with parameters: {'weight0': 2.608108225253218, 'weight1': 5.1162063998561935, 'weight2': 18.659171473524886}.\n"
     ]
    },
    {
     "name": "stdout",
     "output_type": "stream",
     "text": [
      "result/citeseer-dim=128,projection_method=sparse,input_matrix=trans,normalization=True,weights=1.0,2.2996481161572695,22.009240269998696,18.23561842698578,alpha=0,C=1.0.mat\n",
      "[0.01]\n",
      "Train percent: 0.01\n",
      "Results, using embeddings of dimensionality 128\n",
      "-------------------\n",
      "Train percent: 0.01\n",
      "Average score: {'micro': 0.26764257395547425, 'macro': 0.24618161013226808}\n",
      "-------------------\n"
     ]
    },
    {
     "name": "stderr",
     "output_type": "stream",
     "text": [
      "[I 2019-03-22 19:41:55,651] Finished trial#85 resulted in value: -0.24618161013226808. Current best value is -0.2641729807521684 with parameters: {'weight0': 2.608108225253218, 'weight1': 5.1162063998561935, 'weight2': 18.659171473524886}.\n"
     ]
    },
    {
     "name": "stdout",
     "output_type": "stream",
     "text": [
      "result/citeseer-dim=128,projection_method=sparse,input_matrix=trans,normalization=True,weights=1.0,22.518649532077404,1.1614221127359494,5.378264473715768,alpha=0,C=1.0.mat\n",
      "[0.01]\n",
      "Train percent: 0.01\n",
      "Results, using embeddings of dimensionality 128\n",
      "-------------------\n",
      "Train percent: 0.01\n",
      "Average score: {'micro': 0.22275083867032636, 'macro': 0.2045179561408756}\n",
      "-------------------\n"
     ]
    },
    {
     "name": "stderr",
     "output_type": "stream",
     "text": [
      "[I 2019-03-22 19:41:55,965] Finished trial#86 resulted in value: -0.2045179561408756. Current best value is -0.2641729807521684 with parameters: {'weight0': 2.608108225253218, 'weight1': 5.1162063998561935, 'weight2': 18.659171473524886}.\n"
     ]
    },
    {
     "name": "stdout",
     "output_type": "stream",
     "text": [
      "result/citeseer-dim=128,projection_method=sparse,input_matrix=trans,normalization=True,weights=1.0,3.407383038214292,16.192060201280388,28.22702366233032,alpha=0,C=1.0.mat\n",
      "[0.01]\n",
      "Train percent: 0.01\n",
      "Results, using embeddings of dimensionality 128\n",
      "-------------------\n",
      "Train percent: 0.01\n",
      "Average score: {'micro': 0.264897834705703, 'macro': 0.24007194139552887}\n",
      "-------------------\n"
     ]
    },
    {
     "name": "stderr",
     "output_type": "stream",
     "text": [
      "[I 2019-03-22 19:41:56,354] Finished trial#87 resulted in value: -0.24007194139552887. Current best value is -0.2641729807521684 with parameters: {'weight0': 2.608108225253218, 'weight1': 5.1162063998561935, 'weight2': 18.659171473524886}.\n"
     ]
    },
    {
     "name": "stdout",
     "output_type": "stream",
     "text": [
      "result/citeseer-dim=128,projection_method=sparse,input_matrix=trans,normalization=True,weights=1.0,45.076449205753505,58.192924684157674,20.512291163682743,alpha=0,C=1.0.mat\n",
      "[0.01]\n",
      "Train percent: 0.01\n",
      "Results, using embeddings of dimensionality 128\n",
      "-------------------\n",
      "Train percent: 0.01\n",
      "Average score: {'micro': 0.2523940225678561, 'macro': 0.23277932679690255}\n",
      "-------------------\n"
     ]
    },
    {
     "name": "stderr",
     "output_type": "stream",
     "text": [
      "[I 2019-03-22 19:41:56,672] Finished trial#88 resulted in value: -0.23277932679690255. Current best value is -0.2641729807521684 with parameters: {'weight0': 2.608108225253218, 'weight1': 5.1162063998561935, 'weight2': 18.659171473524886}.\n"
     ]
    },
    {
     "name": "stdout",
     "output_type": "stream",
     "text": [
      "result/citeseer-dim=128,projection_method=sparse,input_matrix=trans,normalization=True,weights=1.0,1.2143152479485047,48.985195193891386,35.40936294988261,alpha=0,C=1.0.mat\n",
      "[0.01]\n",
      "Train percent: 0.01\n",
      "Results, using embeddings of dimensionality 128\n",
      "-------------------\n",
      "Train percent: 0.01\n",
      "Average score: {'micro': 0.2845379688929552, 'macro': 0.2581622919067203}\n",
      "-------------------\n"
     ]
    },
    {
     "name": "stderr",
     "output_type": "stream",
     "text": [
      "[I 2019-03-22 19:41:56,990] Finished trial#89 resulted in value: -0.2581622919067203. Current best value is -0.2641729807521684 with parameters: {'weight0': 2.608108225253218, 'weight1': 5.1162063998561935, 'weight2': 18.659171473524886}.\n"
     ]
    },
    {
     "name": "stdout",
     "output_type": "stream",
     "text": [
      "result/citeseer-dim=128,projection_method=sparse,input_matrix=trans,normalization=True,weights=1.0,4.084721315212179,3.3098981103489384,6.997019914457254,alpha=0,C=1.0.mat\n",
      "[0.01]\n",
      "Train percent: 0.01\n",
      "Results, using embeddings of dimensionality 128\n",
      "-------------------\n",
      "Train percent: 0.01\n",
      "Average score: {'micro': 0.2467215614516621, 'macro': 0.21744065507703986}\n",
      "-------------------\n"
     ]
    },
    {
     "name": "stderr",
     "output_type": "stream",
     "text": [
      "[I 2019-03-22 19:41:57,377] Finished trial#90 resulted in value: -0.21744065507703986. Current best value is -0.2641729807521684 with parameters: {'weight0': 2.608108225253218, 'weight1': 5.1162063998561935, 'weight2': 18.659171473524886}.\n"
     ]
    },
    {
     "name": "stdout",
     "output_type": "stream",
     "text": [
      "result/citeseer-dim=128,projection_method=sparse,input_matrix=trans,normalization=True,weights=1.0,2.840981105773917,1.757823237308236,12.564823616464324,alpha=0,C=1.0.mat\n",
      "[0.01]\n",
      "Train percent: 0.01\n",
      "Results, using embeddings of dimensionality 128\n",
      "-------------------\n",
      "Train percent: 0.01\n",
      "Average score: {'micro': 0.2759377859103386, 'macro': 0.2529509408282061}\n",
      "-------------------\n"
     ]
    },
    {
     "name": "stderr",
     "output_type": "stream",
     "text": [
      "[I 2019-03-22 19:41:57,694] Finished trial#91 resulted in value: -0.2529509408282061. Current best value is -0.2641729807521684 with parameters: {'weight0': 2.608108225253218, 'weight1': 5.1162063998561935, 'weight2': 18.659171473524886}.\n"
     ]
    },
    {
     "name": "stdout",
     "output_type": "stream",
     "text": [
      "result/citeseer-dim=128,projection_method=sparse,input_matrix=trans,normalization=True,weights=1.0,2.0984961777985185,37.487102944662276,55.21439951002743,alpha=0,C=1.0.mat\n",
      "[0.01]\n",
      "Train percent: 0.01\n",
      "Results, using embeddings of dimensionality 128\n",
      "-------------------\n",
      "Train percent: 0.01\n",
      "Average score: {'micro': 0.2753888380603843, 'macro': 0.2468585694320043}\n",
      "-------------------\n"
     ]
    },
    {
     "name": "stderr",
     "output_type": "stream",
     "text": [
      "[I 2019-03-22 19:41:58,083] Finished trial#92 resulted in value: -0.2468585694320043. Current best value is -0.2641729807521684 with parameters: {'weight0': 2.608108225253218, 'weight1': 5.1162063998561935, 'weight2': 18.659171473524886}.\n"
     ]
    },
    {
     "name": "stdout",
     "output_type": "stream",
     "text": [
      "result/citeseer-dim=128,projection_method=sparse,input_matrix=trans,normalization=True,weights=1.0,2.450055999916093,31.54894861215749,10.632174033243407,alpha=0,C=1.0.mat\n",
      "[0.01]\n",
      "Train percent: 0.01\n",
      "Results, using embeddings of dimensionality 128\n",
      "-------------------\n",
      "Train percent: 0.01\n",
      "Average score: {'micro': 0.2552607502287283, 'macro': 0.23320871229544746}\n",
      "-------------------\n"
     ]
    },
    {
     "name": "stderr",
     "output_type": "stream",
     "text": [
      "[I 2019-03-22 19:41:58,402] Finished trial#93 resulted in value: -0.23320871229544746. Current best value is -0.2641729807521684 with parameters: {'weight0': 2.608108225253218, 'weight1': 5.1162063998561935, 'weight2': 18.659171473524886}.\n"
     ]
    },
    {
     "name": "stdout",
     "output_type": "stream",
     "text": [
      "result/citeseer-dim=128,projection_method=sparse,input_matrix=trans,normalization=True,weights=1.0,30.964978655933063,12.582559219325251,24.67354031486637,alpha=0,C=1.0.mat\n",
      "[0.01]\n",
      "Train percent: 0.01\n",
      "Results, using embeddings of dimensionality 128\n",
      "-------------------\n",
      "Train percent: 0.01\n",
      "Average score: {'micro': 0.26404391582799636, 'macro': 0.23734049544026664}\n",
      "-------------------\n"
     ]
    },
    {
     "name": "stderr",
     "output_type": "stream",
     "text": [
      "[I 2019-03-22 19:41:58,718] Finished trial#94 resulted in value: -0.23734049544026664. Current best value is -0.2641729807521684 with parameters: {'weight0': 2.608108225253218, 'weight1': 5.1162063998561935, 'weight2': 18.659171473524886}.\n"
     ]
    },
    {
     "name": "stdout",
     "output_type": "stream",
     "text": [
      "result/citeseer-dim=128,projection_method=sparse,input_matrix=trans,normalization=True,weights=1.0,5.644500206627386,10.24858942913703,32.25663514606816,alpha=0,C=1.0.mat\n",
      "[0.01]\n",
      "Train percent: 0.01\n",
      "Results, using embeddings of dimensionality 128\n",
      "-------------------\n",
      "Train percent: 0.01\n",
      "Average score: {'micro': 0.24964928331808478, 'macro': 0.2261114002278811}\n",
      "-------------------\n"
     ]
    },
    {
     "name": "stderr",
     "output_type": "stream",
     "text": [
      "[I 2019-03-22 19:41:59,109] Finished trial#95 resulted in value: -0.2261114002278811. Current best value is -0.2641729807521684 with parameters: {'weight0': 2.608108225253218, 'weight1': 5.1162063998561935, 'weight2': 18.659171473524886}.\n"
     ]
    },
    {
     "name": "stdout",
     "output_type": "stream",
     "text": [
      "result/citeseer-dim=128,projection_method=sparse,input_matrix=trans,normalization=True,weights=1.0,1.7069888681474532,8.238747855949962,14.032099800097122,alpha=0,C=1.0.mat\n",
      "[0.01]\n",
      "Train percent: 0.01\n",
      "Results, using embeddings of dimensionality 128\n",
      "-------------------\n",
      "Train percent: 0.01\n",
      "Average score: {'micro': 0.28307410795974386, 'macro': 0.2565137834092448}\n",
      "-------------------\n"
     ]
    },
    {
     "name": "stderr",
     "output_type": "stream",
     "text": [
      "[I 2019-03-22 19:41:59,428] Finished trial#96 resulted in value: -0.2565137834092448. Current best value is -0.2641729807521684 with parameters: {'weight0': 2.608108225253218, 'weight1': 5.1162063998561935, 'weight2': 18.659171473524886}.\n"
     ]
    },
    {
     "name": "stdout",
     "output_type": "stream",
     "text": [
      "result/citeseer-dim=128,projection_method=sparse,input_matrix=trans,normalization=True,weights=1.0,6.907700056761715,2.464863680619857,61.18938087786244,alpha=0,C=1.0.mat\n",
      "[0.01]\n",
      "Train percent: 0.01\n",
      "Results, using embeddings of dimensionality 128\n",
      "-------------------\n",
      "Train percent: 0.01\n",
      "Average score: {'micro': 0.2373894480024398, 'macro': 0.2185404884500887}\n",
      "-------------------\n"
     ]
    },
    {
     "name": "stderr",
     "output_type": "stream",
     "text": [
      "[I 2019-03-22 19:41:59,739] Finished trial#97 resulted in value: -0.2185404884500887. Current best value is -0.2641729807521684 with parameters: {'weight0': 2.608108225253218, 'weight1': 5.1162063998561935, 'weight2': 18.659171473524886}.\n"
     ]
    },
    {
     "name": "stdout",
     "output_type": "stream",
     "text": [
      "result/citeseer-dim=128,projection_method=sparse,input_matrix=trans,normalization=True,weights=1.0,4.938942240812036,4.084894284007911,45.36831141286988,alpha=0,C=1.0.mat\n",
      "[0.01]\n",
      "Train percent: 0.01\n",
      "Results, using embeddings of dimensionality 128\n",
      "-------------------\n",
      "Train percent: 0.01\n",
      "Average score: {'micro': 0.2616651418115279, 'macro': 0.23463628877845868}\n",
      "-------------------\n"
     ]
    },
    {
     "name": "stderr",
     "output_type": "stream",
     "text": [
      "[I 2019-03-22 19:42:00,123] Finished trial#98 resulted in value: -0.23463628877845868. Current best value is -0.2641729807521684 with parameters: {'weight0': 2.608108225253218, 'weight1': 5.1162063998561935, 'weight2': 18.659171473524886}.\n"
     ]
    },
    {
     "name": "stdout",
     "output_type": "stream",
     "text": [
      "result/citeseer-dim=128,projection_method=sparse,input_matrix=trans,normalization=True,weights=1.0,3.672983560184079,9.363571204278164,22.043965612979317,alpha=0,C=1.0.mat\n",
      "[0.01]\n",
      "Train percent: 0.01\n",
      "Results, using embeddings of dimensionality 128\n",
      "-------------------\n",
      "Train percent: 0.01\n",
      "Average score: {'micro': 0.2694724001219885, 'macro': 0.2381166175282427}\n",
      "-------------------\n"
     ]
    },
    {
     "name": "stderr",
     "output_type": "stream",
     "text": [
      "[I 2019-03-22 19:42:00,439] Finished trial#99 resulted in value: -0.2381166175282427. Current best value is -0.2641729807521684 with parameters: {'weight0': 2.608108225253218, 'weight1': 5.1162063998561935, 'weight2': 18.659171473524886}.\n"
     ]
    },
    {
     "name": "stdout",
     "output_type": "stream",
     "text": [
      "CPU times: user 11min 10s, sys: 1.71 s, total: 11min 12s\n",
      "Wall time: 33.6 s\n"
     ]
    }
   ],
   "source": [
    "%%time\n",
    "order_range = 3\n",
    "def objective(trial):\n",
    "\n",
    "    # Invoke suggest methods of a Trial object to generate hyperparameters.\n",
    "    weights = [trial.suggest_loguniform('weight' + str(order), 1.0, 64.0) for order in range(order_range)]\n",
    "    conf = {\n",
    "        'projection_method': 'sparse',\n",
    "        'input_matrix': 'trans',\n",
    "        'weights': [1.0] + weights,\n",
    "        'normalization': True,\n",
    "        'dim': 128,\n",
    "        'alpha': 0,\n",
    "        'C': 1.0\n",
    "    }\n",
    "    emb_filename = get_emb_filename(prefix, conf)\n",
    "    print (emb_filename)\n",
    "    # first check if this file already exists\n",
    "    path = Path(emb_filename)\n",
    "    if not path.is_file():\n",
    "        U = randne_wrapper(citeseer_A, conf)\n",
    "        savemat(emb_filename, {'emb': U})\n",
    "    else:\n",
    "        print ('File %s already exists, skipped.' % emb_filename)\n",
    "    f1_scores = scoring(\n",
    "        [\n",
    "            \"--emb\", emb_filename,\n",
    "            \"--network\",\"example_graphs/citeseer.mat\",\n",
    "            \"--num-shuffles\", \"5\",\n",
    "            \"--debug\",\n",
    "            \"--C\", str(conf['C']),\n",
    "            \"--training-percents\",\n",
    "            \"1\",\n",
    "        ],\n",
    "    )\n",
    "    # there should only be one entry here\n",
    "    return -f1_scores[0]['macro']\n",
    "\n",
    "study = optuna.create_study()  # Create a new study.\n",
    "study.optimize(objective, n_trials=100)  # Invoke optimization of the objective function."
   ]
  },
  {
   "cell_type": "code",
   "execution_count": 64,
   "metadata": {},
   "outputs": [
    {
     "data": {
      "text/plain": [
       "{'weight0': 2.608108225253218,\n",
       " 'weight1': 5.1162063998561935,\n",
       " 'weight2': 18.659171473524886}"
      ]
     },
     "execution_count": 64,
     "metadata": {},
     "output_type": "execute_result"
    }
   ],
   "source": [
    "study.best_params"
   ]
  },
  {
   "cell_type": "code",
   "execution_count": 67,
   "metadata": {},
   "outputs": [
    {
     "name": "stdout",
     "output_type": "stream",
     "text": [
      "result/citeseer-dim=512,projection_method=sparse,input_matrix=trans,normalization=True,weights=1.0,2.608108225253218,5.1162063998561935,18.659171473524886,alpha=0,C=1.0.mat\n",
      "[0.01, 0.02, 0.03, 0.04, 0.05, 0.06, 0.07, 0.08, 0.09]\n",
      "Train percent: 0.01\n",
      "Train percent: 0.02\n",
      "Train percent: 0.03\n",
      "Train percent: 0.04\n",
      "Train percent: 0.05\n",
      "Train percent: 0.06\n",
      "Train percent: 0.07\n",
      "Train percent: 0.08\n",
      "Train percent: 0.09\n",
      "Results, using embeddings of dimensionality 512\n",
      "-------------------\n",
      "Train percent: 0.01\n",
      "Average score: {'micro': 0.291491308325709, 'macro': 0.2705545220098186}\n",
      "-------------------\n",
      "Train percent: 0.02\n",
      "Average score: {'micro': 0.34861367837338264, 'macro': 0.32574329636313737}\n",
      "-------------------\n",
      "Train percent: 0.03\n",
      "Average score: {'micro': 0.37640834111422344, 'macro': 0.3515038350653313}\n",
      "-------------------\n",
      "Train percent: 0.04\n",
      "Average score: {'micro': 0.4034591194968554, 'macro': 0.377041305424901}\n",
      "-------------------\n",
      "Train percent: 0.05\n",
      "Average score: {'micro': 0.4215443279313632, 'macro': 0.39453009016821305}\n",
      "-------------------\n",
      "Train percent: 0.06\n",
      "Average score: {'micro': 0.42780989081567117, 'macro': 0.3991497994764396}\n",
      "-------------------\n",
      "Train percent: 0.07\n",
      "Average score: {'micro': 0.4341447581953911, 'macro': 0.40490229837413033}\n",
      "-------------------\n",
      "Train percent: 0.08\n",
      "Average score: {'micro': 0.44593175853018374, 'macro': 0.41670172758241153}\n",
      "-------------------\n",
      "Train percent: 0.09\n",
      "Average score: {'micro': 0.46144658261446586, 'macro': 0.42989272323120015}\n",
      "-------------------\n"
     ]
    },
    {
     "data": {
      "text/plain": [
       "[defaultdict(float,\n",
       "             {'micro': 0.291491308325709,\n",
       "              'macro': 0.2705545220098186,\n",
       "              'training': 0.01}),\n",
       " defaultdict(float,\n",
       "             {'micro': 0.34861367837338264,\n",
       "              'macro': 0.32574329636313737,\n",
       "              'training': 0.02}),\n",
       " defaultdict(float,\n",
       "             {'micro': 0.37640834111422344,\n",
       "              'macro': 0.3515038350653313,\n",
       "              'training': 0.03}),\n",
       " defaultdict(float,\n",
       "             {'micro': 0.4034591194968554,\n",
       "              'macro': 0.377041305424901,\n",
       "              'training': 0.04}),\n",
       " defaultdict(float,\n",
       "             {'micro': 0.4215443279313632,\n",
       "              'macro': 0.39453009016821305,\n",
       "              'training': 0.05}),\n",
       " defaultdict(float,\n",
       "             {'micro': 0.42780989081567117,\n",
       "              'macro': 0.3991497994764396,\n",
       "              'training': 0.06}),\n",
       " defaultdict(float,\n",
       "             {'micro': 0.4341447581953911,\n",
       "              'macro': 0.40490229837413033,\n",
       "              'training': 0.07}),\n",
       " defaultdict(float,\n",
       "             {'micro': 0.44593175853018374,\n",
       "              'macro': 0.41670172758241153,\n",
       "              'training': 0.08}),\n",
       " defaultdict(float,\n",
       "             {'micro': 0.46144658261446586,\n",
       "              'macro': 0.42989272323120015,\n",
       "              'training': 0.09})]"
      ]
     },
     "execution_count": 67,
     "metadata": {},
     "output_type": "execute_result"
    }
   ],
   "source": [
    "conf = {\n",
    "        'projection_method': 'sparse',\n",
    "        'input_matrix': 'trans',\n",
    "        'weights': [1.0] + [study.best_params[key] for key in ['weight0', 'weight1', 'weight2'] ],\n",
    "        'normalization': True,\n",
    "        'dim': 512,\n",
    "        'alpha': 0,\n",
    "        'C': 1.0\n",
    "    }\n",
    "emb_filename = get_emb_filename(prefix, conf)\n",
    "print (emb_filename)\n",
    "# first check if this file already exists\n",
    "path = Path(emb_filename)\n",
    "if not path.is_file():\n",
    "    U = randne_wrapper(citeseer_A, conf)\n",
    "    savemat(emb_filename, {'emb': U})\n",
    "else:\n",
    "    print ('File %s already exists, skipped.' % emb_filename)\n",
    "f1_scores = scoring(\n",
    "    [\n",
    "        \"--emb\", emb_filename,\n",
    "        \"--network\",\"example_graphs/citeseer.mat\",\n",
    "        \"--num-shuffles\", \"5\",\n",
    "        \"--debug\",\n",
    "        \"--C\", str(conf['C']),\n",
    "        \"--training-percents\",\n",
    "    ] + [str(p) for p in range(1, 10)],\n",
    ")\n",
    "f1_scores"
   ]
  },
  {
   "cell_type": "code",
   "execution_count": null,
   "metadata": {},
   "outputs": [],
   "source": []
  }
 ],
 "metadata": {
  "kernelspec": {
   "display_name": "Python 3",
   "language": "python",
   "name": "python3"
  },
  "language_info": {
   "codemirror_mode": {
    "name": "ipython",
    "version": 3
   },
   "file_extension": ".py",
   "mimetype": "text/x-python",
   "name": "python",
   "nbconvert_exporter": "python",
   "pygments_lexer": "ipython3",
   "version": "3.7.1"
  }
 },
 "nbformat": 4,
 "nbformat_minor": 2
}
