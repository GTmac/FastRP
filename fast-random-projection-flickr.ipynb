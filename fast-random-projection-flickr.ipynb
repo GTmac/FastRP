{
 "cells": [
  {
   "cell_type": "markdown",
   "metadata": {},
   "source": [
    "# Init"
   ]
  },
  {
   "cell_type": "code",
   "execution_count": 1,
   "metadata": {},
   "outputs": [],
   "source": [
    "%matplotlib inline\n",
    "\n",
    "import csv\n",
    "import itertools\n",
    "import math\n",
    "import matplotlib\n",
    "import time\n",
    "import logging\n",
    "import sys\n",
    "import os\n",
    "import random\n",
    "import warnings\n",
    "\n",
    "import gensim\n",
    "\n",
    "import pandas as pd\n",
    "import numpy as np\n",
    "import networkx as nx\n",
    "import matplotlib.pyplot as plt\n",
    "import seaborn as sns\n",
    "\n",
    "from pathlib import Path\n",
    "\n",
    "from tqdm import tqdm_notebook as tqdm\n",
    "from collections import Counter, defaultdict\n",
    "\n",
    "from sklearn import random_projection\n",
    "from sklearn.manifold import TSNE\n",
    "from scipy.sparse import coo_matrix, csr_matrix, csc_matrix, spdiags\n",
    "from scipy.io import loadmat, savemat\n",
    "from sklearn.metrics import f1_score\n",
    "from sklearn.metrics.pairwise import cosine_similarity\n",
    "from sklearn.preprocessing import normalize, MultiLabelBinarizer"
   ]
  },
  {
   "cell_type": "code",
   "execution_count": 2,
   "metadata": {},
   "outputs": [],
   "source": [
    "from sklearn import preprocessing"
   ]
  },
  {
   "cell_type": "code",
   "execution_count": 3,
   "metadata": {},
   "outputs": [],
   "source": [
    "from scoring import scoring\n",
    "from fastrp_exp import *"
   ]
  },
  {
   "cell_type": "code",
   "execution_count": 4,
   "metadata": {},
   "outputs": [],
   "source": [
    "# to ignore sklearn warning\n",
    "def warn(*args, **kwargs):\n",
    "    pass\n",
    "import warnings\n",
    "warnings.warn = warn\n",
    "warnings.filterwarnings(\"ignore\", category=RuntimeWarning) "
   ]
  },
  {
   "cell_type": "code",
   "execution_count": 5,
   "metadata": {},
   "outputs": [],
   "source": [
    "%load_ext autoreload\n",
    "%autoreload 2"
   ]
  },
  {
   "cell_type": "code",
   "execution_count": 6,
   "metadata": {},
   "outputs": [],
   "source": [
    "from jupyter_client import find_connection_file"
   ]
  },
  {
   "cell_type": "code",
   "execution_count": 7,
   "metadata": {},
   "outputs": [
    {
     "data": {
      "text/plain": [
       "'/run/user/2002/jupyter/kernel-cd9d0d40-6687-4975-b87c-7be83cb79b87.json'"
      ]
     },
     "execution_count": 7,
     "metadata": {},
     "output_type": "execute_result"
    }
   ],
   "source": [
    "find_connection_file()"
   ]
  },
  {
   "cell_type": "code",
   "execution_count": 8,
   "metadata": {},
   "outputs": [],
   "source": [
    "matplotlib.style.use('ggplot')\n",
    "sns.set(color_codes=True)"
   ]
  },
  {
   "cell_type": "markdown",
   "metadata": {},
   "source": [
    "# Load Data"
   ]
  },
  {
   "cell_type": "markdown",
   "metadata": {},
   "source": [
    "## Flickr"
   ]
  },
  {
   "cell_type": "code",
   "execution_count": 9,
   "metadata": {},
   "outputs": [],
   "source": [
    "flickr = loadmat('example_graphs/flickr.mat')\n",
    "A = flickr['network']\n",
    "N = A.shape[0]"
   ]
  },
  {
   "cell_type": "code",
   "execution_count": 10,
   "metadata": {},
   "outputs": [
    {
     "data": {
      "text/plain": [
       "<80513x195 sparse matrix of type '<class 'numpy.float64'>'\n",
       "\twith 107741 stored elements in Compressed Sparse Column format>"
      ]
     },
     "execution_count": 10,
     "metadata": {},
     "output_type": "execute_result"
    }
   ],
   "source": [
    "flickr['group']"
   ]
  },
  {
   "cell_type": "code",
   "execution_count": 11,
   "metadata": {},
   "outputs": [
    {
     "data": {
      "text/plain": [
       "<80513x80513 sparse matrix of type '<class 'numpy.float64'>'\n",
       "\twith 11799764 stored elements in Compressed Sparse Column format>"
      ]
     },
     "execution_count": 11,
     "metadata": {},
     "output_type": "execute_result"
    }
   ],
   "source": [
    "A"
   ]
  },
  {
   "cell_type": "code",
   "execution_count": 13,
   "metadata": {},
   "outputs": [],
   "source": [
    "d = [l[0] for l in A.sum(axis=1).tolist()]"
   ]
  },
  {
   "cell_type": "code",
   "execution_count": 15,
   "metadata": {},
   "outputs": [],
   "source": [
    "import powerlaw"
   ]
  },
  {
   "cell_type": "code",
   "execution_count": 16,
   "metadata": {},
   "outputs": [
    {
     "name": "stdout",
     "output_type": "stream",
     "text": [
      "alpha=  1.2195772593015188   sigma=  0.0007738456674406795\n"
     ]
    },
    {
     "data": {
      "image/png": "[encoded data removed]",
      "text/plain": [
       "<Figure size 432x288 with 1 Axes>"
      ]
     },
     "metadata": {},
     "output_type": "display_data"
    }
   ],
   "source": [
    "fit = powerlaw.Fit(np.array(d)+1,xmin=1,discrete=True)\n",
    "fit.power_law.plot_pdf( color= 'b',linestyle='--',label='fit ccdf')\n",
    "fit.plot_pdf(color= 'b')\n",
    "\n",
    "print('alpha= ',fit.power_law.alpha,'  sigma= ',fit.power_law.sigma)"
   ]
  },
  {
   "cell_type": "markdown",
   "metadata": {},
   "source": [
    "# Measure Runtime"
   ]
  },
  {
   "cell_type": "code",
   "execution_count": 36,
   "metadata": {},
   "outputs": [
    {
     "name": "stdout",
     "output_type": "stream",
     "text": [
      "result/flickr-dim=512,projection_method=sparse,input_matrix=trans,normalization=False,weights=1.0,1.0,7.81,45.28,alpha=-0.628,C=1.0.mat\n",
      "CPU times: user 151 µs, sys: 2 µs, total: 153 µs\n",
      "Wall time: 142 µs\n"
     ]
    }
   ],
   "source": [
    "%%time\n",
    "prefix = 'result/flickr'\n",
    "conf = {\n",
    "        'projection_method': 'sparse',\n",
    "        'input_matrix': 'trans',\n",
    "        'weights': [1.0, 1.0, 7.81, 45.28],\n",
    "        'normalization': False,\n",
    "        'dim': 512,\n",
    "        'alpha': -0.628,\n",
    "        'C': 1.0\n",
    "    }\n",
    "emb_filename = get_emb_filename(prefix, conf)\n",
    "print (emb_filename)\n",
    "# savemat(emb_filename, {'emb': U})"
   ]
  },
  {
   "cell_type": "code",
   "execution_count": 39,
   "metadata": {},
   "outputs": [
    {
     "name": "stdout",
     "output_type": "stream",
     "text": [
      "CPU times: user 29.6 s, sys: 3.56 s, total: 33.1 s\n",
      "Wall time: 19.9 s\n"
     ]
    }
   ],
   "source": [
    "%time U = fastrp_wrapper(A, conf)"
   ]
  },
  {
   "cell_type": "code",
   "execution_count": 19,
   "metadata": {},
   "outputs": [
    {
     "data": {
      "text/plain": [
       "80513"
      ]
     },
     "execution_count": 19,
     "metadata": {},
     "output_type": "execute_result"
    }
   ],
   "source": [
    "N"
   ]
  },
  {
   "cell_type": "markdown",
   "metadata": {},
   "source": [
    "# Intelligent Hyperparameter Search"
   ]
  },
  {
   "cell_type": "code",
   "execution_count": 19,
   "metadata": {},
   "outputs": [],
   "source": [
    "import optuna"
   ]
  },
  {
   "cell_type": "code",
   "execution_count": 20,
   "metadata": {},
   "outputs": [],
   "source": [
    "prefix = 'result/flickr'"
   ]
  },
  {
   "cell_type": "code",
   "execution_count": 21,
   "metadata": {
    "collapsed": true
   },
   "outputs": [
    {
     "name": "stdout",
     "output_type": "stream",
     "text": [
      "result/flickr-dim=64,projection_method=sparse,input_matrix=trans,normalization=True,weights=0,0,1,24.346785642695952,alpha=-0.44546674307102396,C=0.1.mat\n",
      "Train percent: 0.01\n",
      "Results, using embeddings of dimensionality 64\n",
      "-------------------\n",
      "Train percent: 0.01\n",
      "Average score: {'micro': 0.29370639877185134, 'macro': 0.10180336163366153}\n",
      "-------------------\n"
     ]
    },
    {
     "name": "stderr",
     "output_type": "stream",
     "text": [
      "[I 2019-05-20 14:42:43,096] Finished trial#0 resulted in value: -0.3955097604055129. Current best value is -0.3955097604055129 with parameters: {'weight0': 24.346785642695952, 'alpha': -0.44546674307102396}.\n"
     ]
    },
    {
     "name": "stdout",
     "output_type": "stream",
     "text": [
      "result/flickr-dim=64,projection_method=sparse,input_matrix=trans,normalization=True,weights=0,0,1,18.917256446688224,alpha=-0.3253660844827566,C=0.1.mat\n",
      "Train percent: 0.01\n",
      "Results, using embeddings of dimensionality 64\n",
      "-------------------\n",
      "Train percent: 0.01\n",
      "Average score: {'micro': 0.29389711249563955, 'macro': 0.09554633411914322}\n",
      "-------------------\n"
     ]
    },
    {
     "name": "stderr",
     "output_type": "stream",
     "text": [
      "[I 2019-05-20 14:43:06,224] Finished trial#1 resulted in value: -0.38944344661478275. Current best value is -0.3955097604055129 with parameters: {'weight0': 24.346785642695952, 'alpha': -0.44546674307102396}.\n"
     ]
    },
    {
     "name": "stdout",
     "output_type": "stream",
     "text": [
      "result/flickr-dim=64,projection_method=sparse,input_matrix=trans,normalization=True,weights=0,0,1,2.4528504142134215,alpha=-0.44276296533786286,C=0.1.mat\n",
      "Train percent: 0.01\n",
      "Results, using embeddings of dimensionality 64\n",
      "-------------------\n",
      "Train percent: 0.01\n",
      "Average score: {'micro': 0.29794169725193936, 'macro': 0.1031840338348304}\n",
      "-------------------\n"
     ]
    },
    {
     "name": "stderr",
     "output_type": "stream",
     "text": [
      "[I 2019-05-20 14:43:29,024] Finished trial#2 resulted in value: -0.40112573108676974. Current best value is -0.40112573108676974 with parameters: {'weight0': 2.4528504142134215, 'alpha': -0.44276296533786286}.\n"
     ]
    },
    {
     "name": "stdout",
     "output_type": "stream",
     "text": [
      "result/flickr-dim=64,projection_method=sparse,input_matrix=trans,normalization=True,weights=0,0,1,2.048878253239231,alpha=-0.5735238556253189,C=0.1.mat\n",
      "Train percent: 0.01\n",
      "Results, using embeddings of dimensionality 64\n",
      "-------------------\n",
      "Train percent: 0.01\n",
      "Average score: {'micro': 0.2944378645437638, 'macro': 0.10266629607993723}\n",
      "-------------------\n"
     ]
    },
    {
     "name": "stderr",
     "output_type": "stream",
     "text": [
      "[I 2019-05-20 14:43:51,844] Finished trial#3 resulted in value: -0.397104160623701. Current best value is -0.40112573108676974 with parameters: {'weight0': 2.4528504142134215, 'alpha': -0.44276296533786286}.\n"
     ]
    },
    {
     "name": "stdout",
     "output_type": "stream",
     "text": [
      "result/flickr-dim=64,projection_method=sparse,input_matrix=trans,normalization=True,weights=0,0,1,2.9074492611008225,alpha=-0.058428075728750195,C=0.1.mat\n",
      "Train percent: 0.01\n",
      "Results, using embeddings of dimensionality 64\n",
      "-------------------\n",
      "Train percent: 0.01\n",
      "Average score: {'micro': 0.3050953810891351, 'macro': 0.10177144998031291}\n",
      "-------------------\n"
     ]
    },
    {
     "name": "stderr",
     "output_type": "stream",
     "text": [
      "[I 2019-05-20 14:44:14,404] Finished trial#4 resulted in value: -0.406866831069448. Current best value is -0.406866831069448 with parameters: {'weight0': 2.9074492611008225, 'alpha': -0.058428075728750195}.\n"
     ]
    },
    {
     "name": "stdout",
     "output_type": "stream",
     "text": [
      "result/flickr-dim=64,projection_method=sparse,input_matrix=trans,normalization=True,weights=0,0,1,25.308959899525625,alpha=-0.40883686289709176,C=0.1.mat\n",
      "Train percent: 0.01\n",
      "Results, using embeddings of dimensionality 64\n",
      "-------------------\n",
      "Train percent: 0.01\n",
      "Average score: {'micro': 0.29558377549473697, 'macro': 0.09637151513719526}\n",
      "-------------------\n"
     ]
    },
    {
     "name": "stderr",
     "output_type": "stream",
     "text": [
      "[I 2019-05-20 14:44:36,577] Finished trial#5 resulted in value: -0.39195529063193224. Current best value is -0.406866831069448 with parameters: {'weight0': 2.9074492611008225, 'alpha': -0.058428075728750195}.\n"
     ]
    },
    {
     "name": "stdout",
     "output_type": "stream",
     "text": [
      "result/flickr-dim=64,projection_method=sparse,input_matrix=trans,normalization=True,weights=0,0,1,14.682545298182538,alpha=-0.37234210366377474,C=0.1.mat\n",
      "Train percent: 0.01\n",
      "Results, using embeddings of dimensionality 64\n",
      "-------------------\n",
      "Train percent: 0.01\n",
      "Average score: {'micro': 0.29689499390226654, 'macro': 0.09936734502629509}\n",
      "-------------------\n"
     ]
    },
    {
     "name": "stderr",
     "output_type": "stream",
     "text": [
      "[I 2019-05-20 14:44:58,910] Finished trial#6 resulted in value: -0.3962623389285616. Current best value is -0.406866831069448 with parameters: {'weight0': 2.9074492611008225, 'alpha': -0.058428075728750195}.\n"
     ]
    },
    {
     "name": "stdout",
     "output_type": "stream",
     "text": [
      "result/flickr-dim=64,projection_method=sparse,input_matrix=trans,normalization=True,weights=0,0,1,29.534426239414163,alpha=-0.9702080169474067,C=0.1.mat\n",
      "Train percent: 0.01\n",
      "Results, using embeddings of dimensionality 64\n",
      "-------------------\n",
      "Train percent: 0.01\n",
      "Average score: {'micro': 0.27828047547437346, 'macro': 0.09419891150633658}\n",
      "-------------------\n"
     ]
    },
    {
     "name": "stderr",
     "output_type": "stream",
     "text": [
      "[I 2019-05-20 14:45:21,480] Finished trial#7 resulted in value: -0.37247938698071004. Current best value is -0.406866831069448 with parameters: {'weight0': 2.9074492611008225, 'alpha': -0.058428075728750195}.\n"
     ]
    },
    {
     "name": "stdout",
     "output_type": "stream",
     "text": [
      "result/flickr-dim=64,projection_method=sparse,input_matrix=trans,normalization=True,weights=0,0,1,19.063434876197984,alpha=-0.19450665778478005,C=0.1.mat\n",
      "Train percent: 0.01\n",
      "Results, using embeddings of dimensionality 64\n",
      "-------------------\n",
      "Train percent: 0.01\n",
      "Average score: {'micro': 0.3025989739157862, 'macro': 0.10309638046094143}\n",
      "-------------------\n"
     ]
    },
    {
     "name": "stderr",
     "output_type": "stream",
     "text": [
      "[I 2019-05-20 14:45:44,614] Finished trial#8 resulted in value: -0.40569535437672766. Current best value is -0.406866831069448 with parameters: {'weight0': 2.9074492611008225, 'alpha': -0.058428075728750195}.\n"
     ]
    },
    {
     "name": "stdout",
     "output_type": "stream",
     "text": [
      "result/flickr-dim=64,projection_method=sparse,input_matrix=trans,normalization=True,weights=0,0,1,46.90737987756933,alpha=-0.5072914506905198,C=0.1.mat\n",
      "Train percent: 0.01\n",
      "Results, using embeddings of dimensionality 64\n",
      "-------------------\n",
      "Train percent: 0.01\n",
      "Average score: {'micro': 0.29337259426483525, 'macro': 0.09738166997071789}\n",
      "-------------------\n"
     ]
    },
    {
     "name": "stderr",
     "output_type": "stream",
     "text": [
      "[I 2019-05-20 14:46:07,182] Finished trial#9 resulted in value: -0.39075426423555315. Current best value is -0.406866831069448 with parameters: {'weight0': 2.9074492611008225, 'alpha': -0.058428075728750195}.\n"
     ]
    },
    {
     "name": "stdout",
     "output_type": "stream",
     "text": [
      "result/flickr-dim=64,projection_method=sparse,input_matrix=trans,normalization=True,weights=0,0,1,6.034564944579056,alpha=-0.012563486101810982,C=0.1.mat\n",
      "Train percent: 0.01\n",
      "Results, using embeddings of dimensionality 64\n",
      "-------------------\n",
      "Train percent: 0.01\n",
      "Average score: {'micro': 0.3026133263541794, 'macro': 0.09609236509617125}\n",
      "-------------------\n"
     ]
    },
    {
     "name": "stderr",
     "output_type": "stream",
     "text": [
      "[I 2019-05-20 14:46:30,422] Finished trial#10 resulted in value: -0.3987056914503507. Current best value is -0.406866831069448 with parameters: {'weight0': 2.9074492611008225, 'alpha': -0.058428075728750195}.\n"
     ]
    },
    {
     "name": "stdout",
     "output_type": "stream",
     "text": [
      "result/flickr-dim=64,projection_method=sparse,input_matrix=trans,normalization=True,weights=0,0,1,4.6810701996590955,alpha=-0.743428499134677,C=0.1.mat\n",
      "Train percent: 0.01\n",
      "Results, using embeddings of dimensionality 64\n",
      "-------------------\n",
      "Train percent: 0.01\n",
      "Average score: {'micro': 0.28420853530576234, 'macro': 0.09681433537717876}\n",
      "-------------------\n"
     ]
    },
    {
     "name": "stderr",
     "output_type": "stream",
     "text": [
      "[I 2019-05-20 14:46:53,980] Finished trial#11 resulted in value: -0.3810228706829411. Current best value is -0.406866831069448 with parameters: {'weight0': 2.9074492611008225, 'alpha': -0.058428075728750195}.\n"
     ]
    },
    {
     "name": "stdout",
     "output_type": "stream",
     "text": [
      "result/flickr-dim=64,projection_method=sparse,input_matrix=trans,normalization=True,weights=0,0,1,1.0638923193814427,alpha=-0.15426478248702424,C=0.1.mat\n",
      "Train percent: 0.01\n",
      "Results, using embeddings of dimensionality 64\n",
      "-------------------\n",
      "Train percent: 0.01\n",
      "Average score: {'micro': 0.3014921569684454, 'macro': 0.10146193528236387}\n",
      "-------------------\n"
     ]
    },
    {
     "name": "stderr",
     "output_type": "stream",
     "text": [
      "[I 2019-05-20 14:47:17,498] Finished trial#12 resulted in value: -0.40295409225080925. Current best value is -0.406866831069448 with parameters: {'weight0': 2.9074492611008225, 'alpha': -0.058428075728750195}.\n"
     ]
    },
    {
     "name": "stdout",
     "output_type": "stream",
     "text": [
      "result/flickr-dim=64,projection_method=sparse,input_matrix=trans,normalization=True,weights=0,0,1,2.608990000015626,alpha=-0.7683503551109695,C=0.1.mat\n",
      "Train percent: 0.01\n",
      "Results, using embeddings of dimensionality 64\n",
      "-------------------\n",
      "Train percent: 0.01\n",
      "Average score: {'micro': 0.2896550407266603, 'macro': 0.10303111070471295}\n",
      "-------------------\n"
     ]
    },
    {
     "name": "stderr",
     "output_type": "stream",
     "text": [
      "[I 2019-05-20 14:47:40,142] Finished trial#13 resulted in value: -0.39268615143137325. Current best value is -0.406866831069448 with parameters: {'weight0': 2.9074492611008225, 'alpha': -0.058428075728750195}.\n"
     ]
    },
    {
     "name": "stdout",
     "output_type": "stream",
     "text": [
      "result/flickr-dim=64,projection_method=sparse,input_matrix=trans,normalization=True,weights=0,0,1,9.27539308639621,alpha=-0.1441247820611382,C=0.1.mat\n",
      "Train percent: 0.01\n",
      "Results, using embeddings of dimensionality 64\n",
      "-------------------\n",
      "Train percent: 0.01\n",
      "Average score: {'micro': 0.3035645068229245, 'macro': 0.09928594057217649}\n",
      "-------------------\n"
     ]
    },
    {
     "name": "stderr",
     "output_type": "stream",
     "text": [
      "[I 2019-05-20 14:48:03,089] Finished trial#14 resulted in value: -0.402850447395101. Current best value is -0.406866831069448 with parameters: {'weight0': 2.9074492611008225, 'alpha': -0.058428075728750195}.\n"
     ]
    },
    {
     "name": "stdout",
     "output_type": "stream",
     "text": [
      "result/flickr-dim=64,projection_method=sparse,input_matrix=trans,normalization=True,weights=0,0,1,3.6372663481073286,alpha=-0.003472823477070258,C=0.1.mat\n",
      "Train percent: 0.01\n",
      "Results, using embeddings of dimensionality 64\n",
      "-------------------\n",
      "Train percent: 0.01\n",
      "Average score: {'micro': 0.30522363109155015, 'macro': 0.09942898757138961}\n",
      "-------------------\n"
     ]
    },
    {
     "name": "stderr",
     "output_type": "stream",
     "text": [
      "[I 2019-05-20 14:48:26,496] Finished trial#15 resulted in value: -0.4046526186629398. Current best value is -0.406866831069448 with parameters: {'weight0': 2.9074492611008225, 'alpha': -0.058428075728750195}.\n"
     ]
    },
    {
     "name": "stdout",
     "output_type": "stream",
     "text": [
      "result/flickr-dim=64,projection_method=sparse,input_matrix=trans,normalization=True,weights=0,0,1,1.6059490481640746,alpha=-0.6819911498779107,C=0.1.mat\n",
      "Train percent: 0.01\n",
      "Results, using embeddings of dimensionality 64\n",
      "-------------------\n",
      "Train percent: 0.01\n",
      "Average score: {'micro': 0.28588755946760486, 'macro': 0.10184140073471783}\n",
      "-------------------\n"
     ]
    },
    {
     "name": "stderr",
     "output_type": "stream",
     "text": [
      "[I 2019-05-20 14:48:49,105] Finished trial#16 resulted in value: -0.38772896020232267. Current best value is -0.406866831069448 with parameters: {'weight0': 2.9074492611008225, 'alpha': -0.058428075728750195}.\n"
     ]
    },
    {
     "name": "stdout",
     "output_type": "stream",
     "text": [
      "result/flickr-dim=64,projection_method=sparse,input_matrix=trans,normalization=True,weights=0,0,1,8.827563325309582,alpha=-0.22007674571319946,C=0.1.mat\n",
      "Train percent: 0.01\n",
      "Results, using embeddings of dimensionality 64\n",
      "-------------------\n",
      "Train percent: 0.01\n",
      "Average score: {'micro': 0.3027587621579088, 'macro': 0.10164942533562708}\n",
      "-------------------\n"
     ]
    },
    {
     "name": "stderr",
     "output_type": "stream",
     "text": [
      "[I 2019-05-20 14:49:11,527] Finished trial#17 resulted in value: -0.4044081874935359. Current best value is -0.406866831069448 with parameters: {'weight0': 2.9074492611008225, 'alpha': -0.058428075728750195}.\n"
     ]
    },
    {
     "name": "stdout",
     "output_type": "stream",
     "text": [
      "result/flickr-dim=64,projection_method=sparse,input_matrix=trans,normalization=True,weights=0,0,1,11.765586310232159,alpha=-0.0751856768770322,C=0.1.mat\n",
      "Train percent: 0.01\n",
      "Results, using embeddings of dimensionality 64\n",
      "-------------------\n",
      "Train percent: 0.01\n",
      "Average score: {'micro': 0.298962982504428, 'macro': 0.09342008738436451}\n",
      "-------------------\n"
     ]
    },
    {
     "name": "stderr",
     "output_type": "stream",
     "text": [
      "[I 2019-05-20 14:49:33,961] Finished trial#18 resulted in value: -0.3923830698887925. Current best value is -0.406866831069448 with parameters: {'weight0': 2.9074492611008225, 'alpha': -0.058428075728750195}.\n"
     ]
    },
    {
     "name": "stdout",
     "output_type": "stream",
     "text": [
      "result/flickr-dim=64,projection_method=sparse,input_matrix=trans,normalization=True,weights=0,0,1,5.987595956082004,alpha=-0.23785716722031797,C=0.1.mat\n",
      "Train percent: 0.01\n",
      "Results, using embeddings of dimensionality 64\n",
      "-------------------\n",
      "Train percent: 0.01\n",
      "Average score: {'micro': 0.2974320819171797, 'macro': 0.09710930198508676}\n",
      "-------------------\n"
     ]
    },
    {
     "name": "stderr",
     "output_type": "stream",
     "text": [
      "[I 2019-05-20 14:49:57,422] Finished trial#19 resulted in value: -0.39454138390226645. Current best value is -0.406866831069448 with parameters: {'weight0': 2.9074492611008225, 'alpha': -0.058428075728750195}.\n"
     ]
    },
    {
     "name": "stdout",
     "output_type": "stream",
     "text": [
      "CPU times: user 53min 32s, sys: 1min 36s, total: 55min 9s\n",
      "Wall time: 7min 38s\n"
     ]
    }
   ],
   "source": [
    "%%time\n",
    "order_range = 1\n",
    "def objective(trial):\n",
    "\n",
    "    # Invoke suggest methods of a Trial object to generate hyperparameters.\n",
    "    weights = [trial.suggest_loguniform('weight' + str(order), 1.0, 64.0) for order in range(order_range)]\n",
    "    alpha = trial.suggest_uniform('alpha', -1.0, 0.0)\n",
    "    conf = {\n",
    "        'projection_method': 'sparse',\n",
    "        'input_matrix': 'trans',\n",
    "        'weights': [0, 0, 1] + weights,\n",
    "        'normalization': True,\n",
    "        'dim': 64,\n",
    "        'alpha': alpha,\n",
    "        'C': 0.1\n",
    "    }\n",
    "    emb_filename = get_emb_filename(prefix, conf)\n",
    "    print (emb_filename)\n",
    "    # first check if this file already exists\n",
    "    path = Path(emb_filename)\n",
    "    if not path.is_file():\n",
    "        U = fastrp_wrapper(A, conf)\n",
    "        savemat(emb_filename, {'emb': U})\n",
    "    else:\n",
    "        print ('File %s already exists, skipped.' % emb_filename)\n",
    "    f1_scores = scoring(\n",
    "        [\n",
    "            \"--emb\", emb_filename,\n",
    "            \"--network\",\"example_graphs/flickr.mat\",\n",
    "            \"--num-shuffles\", \"3\",\n",
    "            \"--debug\",\n",
    "            \"--C\", str(conf['C']),\n",
    "            \"--training-percents\", \"1\",\n",
    "        ]\n",
    "    )\n",
    "    # there should only be one entry here\n",
    "    return -f1_scores[0]['micro'] - f1_scores[0]['macro']\n",
    "\n",
    "study = optuna.create_study()  # Create a new study.\n",
    "study.optimize(objective, n_trials=20)  # Invoke optimization of the objective function."
   ]
  },
  {
   "cell_type": "code",
   "execution_count": 23,
   "metadata": {
    "scrolled": true
   },
   "outputs": [
    {
     "name": "stdout",
     "output_type": "stream",
     "text": [
      "result/flickr-dim=512,projection_method=sparse,input_matrix=trans,normalization=True,weights=0.0,0.0,1,2.91,alpha=-0.058,C=0.1.mat\n",
      "Train percent: 0.01\n",
      "Train percent: 0.02\n",
      "Train percent: 0.03\n",
      "Train percent: 0.04\n",
      "Train percent: 0.05\n",
      "Train percent: 0.06\n",
      "Train percent: 0.07\n",
      "Train percent: 0.08\n",
      "Train percent: 0.09\n",
      "Results, using embeddings of dimensionality 512\n",
      "-------------------\n",
      "Train percent: 0.01\n",
      "Average score: {'micro': 0.31831960403324394, 'macro': 0.14338058352024635}\n",
      "-------------------\n",
      "Train percent: 0.02\n",
      "Average score: {'micro': 0.33897452842378745, 'macro': 0.17943038134936323}\n",
      "-------------------\n",
      "Train percent: 0.03\n",
      "Average score: {'micro': 0.3482875795654713, 'macro': 0.19452597037600103}\n",
      "-------------------\n",
      "Train percent: 0.04\n",
      "Average score: {'micro': 0.35550481783835863, 'macro': 0.2097328167928501}\n",
      "-------------------\n",
      "Train percent: 0.05\n",
      "Average score: {'micro': 0.36058110013805994, 'macro': 0.22136593647686706}\n",
      "-------------------\n",
      "Train percent: 0.06\n",
      "Average score: {'micro': 0.3638464148541829, 'macro': 0.2277787809612765}\n",
      "-------------------\n",
      "Train percent: 0.07\n",
      "Average score: {'micro': 0.36629232328834527, 'macro': 0.2323448976349435}\n",
      "-------------------\n",
      "Train percent: 0.08\n",
      "Average score: {'micro': 0.36917901284944854, 'macro': 0.2378734699394213}\n",
      "-------------------\n",
      "Train percent: 0.09\n",
      "Average score: {'micro': 0.37213170434293613, 'macro': 0.2426765916940204}\n",
      "-------------------\n",
      "CPU times: user 4h 10min 16s, sys: 1min 13s, total: 4h 11min 30s\n",
      "Wall time: 1h 49min 57s\n"
     ]
    }
   ],
   "source": [
    "%%time\n",
    "conf = {\n",
    "        'projection_method': 'sparse',\n",
    "        'input_matrix': 'trans',\n",
    "        'weights': [0.0, 0.0, 1, 2.91],\n",
    "        'normalization': True,\n",
    "        'dim': 512,\n",
    "        'alpha': -0.058,\n",
    "        'C': 0.1\n",
    "    }\n",
    "emb_filename = get_emb_filename(prefix, conf)\n",
    "print (emb_filename)\n",
    "# first check if this file already exists\n",
    "path = Path(emb_filename)\n",
    "if not path.is_file():\n",
    "    U = fastrp_wrapper(A, conf)\n",
    "    savemat(emb_filename, {'emb': U})\n",
    "else:\n",
    "    print ('File %s already exists, skipped.' % emb_filename)\n",
    "f1_scores = scoring(\n",
    "    [\n",
    "        \"--emb\", emb_filename,\n",
    "        \"--network\",\"example_graphs/flickr.mat\",\n",
    "        \"--num-shuffles\", \"5\",\n",
    "        # \"--all\",\n",
    "        \"--debug\",\n",
    "        \"--C\", str(conf['C']),\n",
    "        \"--training-percents\",\n",
    "    ] + [str(p) for p in range(1, 10)]\n",
    ")\n",
    "f1_scores"
   ]
  },
  {
   "cell_type": "code",
   "execution_count": 50,
   "metadata": {},
   "outputs": [
    {
     "data": {
      "text/plain": [
       "-0.46019485661993353"
      ]
     },
     "execution_count": 50,
     "metadata": {},
     "output_type": "execute_result"
    }
   ],
   "source": [
    "study.best_value"
   ]
  },
  {
   "cell_type": "code",
   "execution_count": 54,
   "metadata": {
    "scrolled": true
   },
   "outputs": [
    {
     "name": "stdout",
     "output_type": "stream",
     "text": [
      "FrozenTrial(number=16, state=<TrialState.COMPLETE: 1>, value=-0.4563146009073586, datetime_start=datetime.datetime(2019, 5, 17, 4, 17, 19, 543801), datetime_complete=datetime.datetime(2019, 5, 17, 4, 19, 53, 37107), params={'weight0': 4.865656300040944, 'weight1': 36.027259223674406, 'alpha': -0.017345318735447146}, user_attrs={}, system_attrs={'_number': 16}, intermediate_values={}, params_in_internal_repr={'weight0': 4.865656300040944, 'weight1': 36.027259223674406, 'alpha': -0.017345318735447146}, trial_id=16)\n",
      "FrozenTrial(number=17, state=<TrialState.COMPLETE: 1>, value=-0.4520473285917916, datetime_start=datetime.datetime(2019, 5, 17, 4, 19, 53, 40982), datetime_complete=datetime.datetime(2019, 5, 17, 4, 22, 26, 686139), params={'weight0': 4.79789066153359, 'weight1': 36.79554236833669, 'alpha': -0.005511464483578865}, user_attrs={}, system_attrs={'_number': 17}, intermediate_values={}, params_in_internal_repr={'weight0': 4.79789066153359, 'weight1': 36.79554236833669, 'alpha': -0.005511464483578865}, trial_id=17)\n",
      "FrozenTrial(number=23, state=<TrialState.COMPLETE: 1>, value=-0.4572263664551026, datetime_start=datetime.datetime(2019, 5, 17, 4, 34, 43, 726424), datetime_complete=datetime.datetime(2019, 5, 17, 4, 37, 12, 279256), params={'weight0': 3.761104636157569, 'weight1': 48.51382762440346, 'alpha': -0.009354041255948535}, user_attrs={}, system_attrs={'_number': 23}, intermediate_values={}, params_in_internal_repr={'weight0': 3.761104636157569, 'weight1': 48.51382762440346, 'alpha': -0.009354041255948535}, trial_id=23)\n",
      "FrozenTrial(number=65, state=<TrialState.COMPLETE: 1>, value=-0.45827502326792424, datetime_start=datetime.datetime(2019, 5, 17, 6, 14, 44, 666537), datetime_complete=datetime.datetime(2019, 5, 17, 6, 17, 9, 821865), params={'weight0': 4.792046070302714, 'weight1': 34.77538010922769, 'alpha': -0.00019359937992863806}, user_attrs={}, system_attrs={'_number': 65}, intermediate_values={}, params_in_internal_repr={'weight0': 4.792046070302714, 'weight1': 34.77538010922769, 'alpha': -0.00019359937992863806}, trial_id=65)\n",
      "FrozenTrial(number=69, state=<TrialState.COMPLETE: 1>, value=-0.46019485661993353, datetime_start=datetime.datetime(2019, 5, 17, 6, 24, 31, 636942), datetime_complete=datetime.datetime(2019, 5, 17, 6, 27, 2, 532230), params={'weight0': 7.920062031407269, 'weight1': 55.70677101627252, 'alpha': -0.05526203981364564}, user_attrs={}, system_attrs={'_number': 69}, intermediate_values={}, params_in_internal_repr={'weight0': 7.920062031407269, 'weight1': 55.70677101627252, 'alpha': -0.05526203981364564}, trial_id=69)\n",
      "FrozenTrial(number=75, state=<TrialState.COMPLETE: 1>, value=-0.4522699280631467, datetime_start=datetime.datetime(2019, 5, 17, 6, 39, 15, 455080), datetime_complete=datetime.datetime(2019, 5, 17, 6, 41, 43, 229498), params={'weight0': 2.6072519182288896, 'weight1': 12.57555686786704, 'alpha': -0.037442062736131106}, user_attrs={}, system_attrs={'_number': 75}, intermediate_values={}, params_in_internal_repr={'weight0': 2.6072519182288896, 'weight1': 12.57555686786704, 'alpha': -0.037442062736131106}, trial_id=75)\n",
      "FrozenTrial(number=86, state=<TrialState.COMPLETE: 1>, value=-0.45187028557262765, datetime_start=datetime.datetime(2019, 5, 17, 7, 5, 59, 471394), datetime_complete=datetime.datetime(2019, 5, 17, 7, 8, 28, 618620), params={'weight0': 1.4343697483044286, 'weight1': 48.930788901350226, 'alpha': -0.12535494406656852}, user_attrs={}, system_attrs={'_number': 86}, intermediate_values={}, params_in_internal_repr={'weight0': 1.4343697483044286, 'weight1': 48.930788901350226, 'alpha': -0.12535494406656852}, trial_id=86)\n",
      "FrozenTrial(number=93, state=<TrialState.COMPLETE: 1>, value=-0.45348533365685284, datetime_start=datetime.datetime(2019, 5, 17, 7, 22, 59, 293941), datetime_complete=datetime.datetime(2019, 5, 17, 7, 25, 25, 422434), params={'weight0': 10.607264335910001, 'weight1': 44.007323863296406, 'alpha': -0.0004020988298868134}, user_attrs={}, system_attrs={'_number': 93}, intermediate_values={}, params_in_internal_repr={'weight0': 10.607264335910001, 'weight1': 44.007323863296406, 'alpha': -0.0004020988298868134}, trial_id=93)\n"
     ]
    }
   ],
   "source": [
    "for trail in study.trials:\n",
    "    if trail.value < -0.45:\n",
    "        print (trail)"
   ]
  },
  {
   "cell_type": "code",
   "execution_count": 87,
   "metadata": {},
   "outputs": [
    {
     "data": {
      "text/plain": [
       "{'weight0': 13.964714097160938,\n",
       " 'weight1': 34.09283123647822,\n",
       " 'alpha': -0.015958081665357893}"
      ]
     },
     "execution_count": 87,
     "metadata": {},
     "output_type": "execute_result"
    }
   ],
   "source": [
    "study.best_params"
   ]
  },
  {
   "cell_type": "code",
   "execution_count": 46,
   "metadata": {},
   "outputs": [
    {
     "data": {
      "text/plain": [
       "{'weight0': 1.5862487812039132,\n",
       " 'weight1': 3.4145137895287307,\n",
       " 'alpha': -0.6081526161207382}"
      ]
     },
     "execution_count": 46,
     "metadata": {},
     "output_type": "execute_result"
    }
   ],
   "source": [
    "study.best_params"
   ]
  },
  {
   "cell_type": "code",
   "execution_count": null,
   "metadata": {},
   "outputs": [],
   "source": [
    "%%time\n",
    "conf = {\n",
    "        'projection_method': 'sparse',\n",
    "        'input_matrix': 'trans',\n",
    "        'weights': [0.0, 0.0, 1.5862487812039132, 3.4145137895287307],\n",
    "        'normalization': True,\n",
    "        'dim': 512,\n",
    "        'alpha': -0.6081526161207382,\n",
    "        'C': 1.0\n",
    "    }\n",
    "emb_filename = get_emb_filename(prefix, conf)\n",
    "print (emb_filename)\n",
    "# first check if this file already exists\n",
    "path = Path(emb_filename)\n",
    "if not path.is_file():\n",
    "    U = randne_wrapper(flickr_A, conf)\n",
    "    savemat(emb_filename, {'emb': U})\n",
    "else:\n",
    "    print ('File %s already exists, skipped.' % emb_filename)\n",
    "f1_scores = scoring(\n",
    "    [\n",
    "        \"--emb\", emb_filename,\n",
    "        \"--network\",\"example_graphs/flickr.mat\",\n",
    "        \"--num-shuffles\", \"5\",\n",
    "        # \"--all\",\n",
    "        \"--debug\",\n",
    "        \"--C\", str(conf['C']),\n",
    "        \"--training-percents\",\n",
    "    ] + [str(p) for p in range(1, 10)]\n",
    ")\n",
    "f1_scores"
   ]
  },
  {
   "cell_type": "code",
   "execution_count": 88,
   "metadata": {
    "scrolled": true
   },
   "outputs": [
    {
     "name": "stdout",
     "output_type": "stream",
     "text": [
      "result/flickr-dim=512,projection_method=sparse,input_matrix=trans,normalization=True,weights=1.0,1.0,13.96,34.09,alpha=-0.015958081665357893,C=0.1.mat\n",
      "Train percent: 0.01\n",
      "Train percent: 0.02\n",
      "Train percent: 0.03\n",
      "Train percent: 0.04\n",
      "Train percent: 0.05\n",
      "Train percent: 0.06\n",
      "Train percent: 0.07\n",
      "Train percent: 0.08\n",
      "Train percent: 0.09\n",
      "Results, using embeddings of dimensionality 512\n",
      "-------------------\n",
      "Train percent: 0.01\n",
      "Average score: {'micro': 0.3151097617762727, 'macro': 0.15018592408378723}\n",
      "-------------------\n",
      "Train percent: 0.02\n",
      "Average score: {'micro': 0.33667644039622835, 'macro': 0.18484884454385186}\n",
      "-------------------\n",
      "Train percent: 0.03\n",
      "Average score: {'micro': 0.3472779957986039, 'macro': 0.20065001904757648}\n",
      "-------------------\n",
      "Train percent: 0.04\n",
      "Average score: {'micro': 0.3544728423957392, 'macro': 0.2143008812247599}\n",
      "-------------------\n",
      "Train percent: 0.05\n",
      "Average score: {'micro': 0.360200789832703, 'macro': 0.2250956959296322}\n",
      "-------------------\n",
      "Train percent: 0.06\n",
      "Average score: {'micro': 0.3644701870807795, 'macro': 0.2321099030723331}\n",
      "-------------------\n",
      "Train percent: 0.07\n",
      "Average score: {'micro': 0.3676783864050029, 'macro': 0.23744805560585264}\n",
      "-------------------\n",
      "Train percent: 0.08\n",
      "Average score: {'micro': 0.3703886719722925, 'macro': 0.2414801342368767}\n",
      "-------------------\n",
      "Train percent: 0.09\n",
      "Average score: {'micro': 0.3725720499925494, 'macro': 0.24558892527028225}\n",
      "-------------------\n"
     ]
    },
    {
     "data": {
      "text/plain": [
       "[defaultdict(float,\n",
       "             {'micro': 0.3151097617762727,\n",
       "              'macro': 0.15018592408378723,\n",
       "              'training': 0.01}),\n",
       " defaultdict(float,\n",
       "             {'micro': 0.33667644039622835,\n",
       "              'macro': 0.18484884454385186,\n",
       "              'training': 0.02}),\n",
       " defaultdict(float,\n",
       "             {'micro': 0.3472779957986039,\n",
       "              'macro': 0.20065001904757648,\n",
       "              'training': 0.03}),\n",
       " defaultdict(float,\n",
       "             {'micro': 0.3544728423957392,\n",
       "              'macro': 0.2143008812247599,\n",
       "              'training': 0.04}),\n",
       " defaultdict(float,\n",
       "             {'micro': 0.360200789832703,\n",
       "              'macro': 0.2250956959296322,\n",
       "              'training': 0.05}),\n",
       " defaultdict(float,\n",
       "             {'micro': 0.3644701870807795,\n",
       "              'macro': 0.2321099030723331,\n",
       "              'training': 0.06}),\n",
       " defaultdict(float,\n",
       "             {'micro': 0.3676783864050029,\n",
       "              'macro': 0.23744805560585264,\n",
       "              'training': 0.07}),\n",
       " defaultdict(float,\n",
       "             {'micro': 0.3703886719722925,\n",
       "              'macro': 0.2414801342368767,\n",
       "              'training': 0.08}),\n",
       " defaultdict(float,\n",
       "             {'micro': 0.3725720499925494,\n",
       "              'macro': 0.24558892527028225,\n",
       "              'training': 0.09})]"
      ]
     },
     "execution_count": 88,
     "metadata": {},
     "output_type": "execute_result"
    }
   ],
   "source": [
    "conf = {\n",
    "        'projection_method': 'sparse',\n",
    "        'input_matrix': 'trans',\n",
    "        'weights': [1.0, 1.0, 13.96, 34.09],\n",
    "        'normalization': True,\n",
    "        'dim': 512,\n",
    "        'alpha': -0.015958081665357893,\n",
    "        'C': 0.1\n",
    "    }\n",
    "emb_filename = get_emb_filename(prefix, conf)\n",
    "print (emb_filename)\n",
    "# first check if this file already exists\n",
    "path = Path(emb_filename)\n",
    "if not path.is_file():\n",
    "    U = randne_wrapper(flickr_A, conf)\n",
    "    savemat(emb_filename, {'emb': U})\n",
    "else:\n",
    "    print ('File %s already exists, skipped.' % emb_filename)\n",
    "f1_scores = scoring(\n",
    "    [\n",
    "        \"--emb\", emb_filename,\n",
    "        \"--network\",\"example_graphs/flickr.mat\",\n",
    "        \"--num-shuffles\", \"5\",\n",
    "        # \"--all\",\n",
    "        \"--debug\",\n",
    "        \"--C\", str(conf['C']),\n",
    "        \"--training-percents\",\n",
    "    ] + [str(p) for p in range(1, 10)]\n",
    ")\n",
    "f1_scores"
   ]
  },
  {
   "cell_type": "code",
   "execution_count": null,
   "metadata": {},
   "outputs": [],
   "source": [
    "%%time\n",
    "conf = {\n",
    "        'projection_method': 'sparse',\n",
    "        'input_matrix': 'trans',\n",
    "        'weights': [1.0, 3.598, 24.90, 63.42],\n",
    "        'normalization': True,\n",
    "        'dim': 512,\n",
    "        'alpha': 0.0,\n",
    "        'C': 0.1\n",
    "    }\n",
    "emb_filename = get_emb_filename(prefix, conf)\n",
    "print (emb_filename)\n",
    "# first check if this file already exists\n",
    "path = Path(emb_filename)\n",
    "if not path.is_file():\n",
    "    U = randne_wrapper(flickr_A, conf)\n",
    "    savemat(emb_filename, {'emb': U})\n",
    "else:\n",
    "    print ('File %s already exists, skipped.' % emb_filename)\n",
    "f1_scores = scoring(\n",
    "    [\n",
    "        \"--emb\", emb_filename,\n",
    "        \"--network\",\"example_graphs/flickr.mat\",\n",
    "        \"--num-shuffles\", \"5\",\n",
    "        \"--all\",\n",
    "        \"--debug\",\n",
    "        \"--C\", str(conf['C']),\n",
    "    ],\n",
    ")\n",
    "f1_scores"
   ]
  },
  {
   "cell_type": "markdown",
   "metadata": {},
   "source": [
    "For measuring runtime:"
   ]
  },
  {
   "cell_type": "code",
   "execution_count": 28,
   "metadata": {},
   "outputs": [
    {
     "name": "stdout",
     "output_type": "stream",
     "text": [
      "CPU times: user 2min 25s, sys: 14 s, total: 2min 39s\n",
      "Wall time: 2min 23s\n"
     ]
    }
   ],
   "source": [
    "%%time\n",
    "conf = {\n",
    "        'projection_method': 'sparse',\n",
    "        'input_matrix': 'trans',\n",
    "        'weights': [1.0, 3.598, 24.90, 63.42],\n",
    "        'normalization': True,\n",
    "        'dim': 512,\n",
    "        'alpha': 0.0,\n",
    "        'C': 0.1\n",
    "    }\n",
    "U = randne_wrapper(flickr_A, conf)"
   ]
  },
  {
   "cell_type": "markdown",
   "metadata": {},
   "source": [
    "# Run DeepWalk"
   ]
  },
  {
   "cell_type": "markdown",
   "metadata": {},
   "source": [
    "Run the following command in shell:"
   ]
  },
  {
   "cell_type": "code",
   "execution_count": null,
   "metadata": {},
   "outputs": [],
   "source": [
    "nohup time deepwalk --format mat --input example_graphs/flickr.mat \\\n",
    "--max-memory-data-size 0 --number-walks 80 --representation-size 128 --walk-length 40 --window-size 10 \\\n",
    "--workers 28 --output example_graphs/flickr.emb &"
   ]
  },
  {
   "cell_type": "code",
   "execution_count": 10,
   "metadata": {},
   "outputs": [
    {
     "name": "stdout",
     "output_type": "stream",
     "text": [
      "Train percent: 0.01\n",
      "Train percent: 0.02\n",
      "Train percent: 0.03\n",
      "Train percent: 0.04\n",
      "Train percent: 0.05\n",
      "Train percent: 0.06\n",
      "Train percent: 0.07\n",
      "Train percent: 0.08\n",
      "Train percent: 0.09\n",
      "Results, using embeddings of dimensionality 128\n",
      "-------------------\n",
      "Train percent: 0.01\n",
      "Average score: {'micro': 0.3196958784854066, 'macro': 0.13175708391819257}\n",
      "-------------------\n",
      "Train percent: 0.02\n",
      "Average score: {'micro': 0.34375737623276503, 'macro': 0.1658567056382124}\n",
      "-------------------\n",
      "Train percent: 0.03\n",
      "Average score: {'micro': 0.3574396515325928, 'macro': 0.19048875649457825}\n",
      "-------------------\n",
      "Train percent: 0.04\n",
      "Average score: {'micro': 0.36672739201752097, 'macro': 0.20989459847832825}\n",
      "-------------------\n",
      "Train percent: 0.05\n",
      "Average score: {'micro': 0.374106014943102, 'macro': 0.22290277119301435}\n",
      "-------------------\n",
      "Train percent: 0.06\n",
      "Average score: {'micro': 0.37872647644481006, 'macro': 0.23154500124749805}\n",
      "-------------------\n",
      "Train percent: 0.07\n",
      "Average score: {'micro': 0.38239910952208184, 'macro': 0.23876804392202788}\n",
      "-------------------\n",
      "Train percent: 0.08\n",
      "Average score: {'micro': 0.38575186805472883, 'macro': 0.24394550841940452}\n",
      "-------------------\n",
      "Train percent: 0.09\n",
      "Average score: {'micro': 0.3880326047532492, 'macro': 0.2487810017289172}\n",
      "-------------------\n",
      "CPU times: user 3h 35min 50s, sys: 7min 11s, total: 3h 43min 2s\n",
      "Wall time: 22min 5s\n"
     ]
    }
   ],
   "source": [
    "%%time\n",
    "dw_f1_scores = scoring(\n",
    "    [\n",
    "        \"--emb\", \"/home/hcchen/deepwalk/example_graphs/flickr.emb\",\n",
    "        \"--network\",\"example_graphs/flickr.mat\",\n",
    "        \"--num-shuffles\", \"5\",\n",
    "        \"--debug\",\n",
    "        \"--C\", \"1.0\",\n",
    "        \"--training-percents\",\n",
    "    ] + [str(p) for p in range(1, 10)]\n",
    ")\n",
    "dw_f1_scores"
   ]
  },
  {
   "cell_type": "markdown",
   "metadata": {},
   "source": [
    "# Run RandNE"
   ]
  },
  {
   "cell_type": "code",
   "execution_count": null,
   "metadata": {},
   "outputs": [],
   "source": [
    "cd ~/RandNE-Python/ && \n",
    "time python3 src/randne.py --input /home/hcchen/fast-random-projection/example_graphs/flickr.mat \\\n",
    "--output /home/hcchen/fast-random-projection/result/flickr-randne-emb.mat \\\n",
    "--use-trans-matrix -q 3 -d 512 --weights 1 100 1000"
   ]
  },
  {
   "cell_type": "code",
   "execution_count": 29,
   "metadata": {},
   "outputs": [
    {
     "name": "stdout",
     "output_type": "stream",
     "text": [
      "Train percent: 0.01\n",
      "Train percent: 0.02\n",
      "Train percent: 0.03\n",
      "Train percent: 0.04\n",
      "Train percent: 0.06\n",
      "Train percent: 0.07\n",
      "Train percent: 0.08\n",
      "Train percent: 0.09\n",
      "Results, using embeddings of dimensionality 512\n",
      "-------------------\n",
      "Train percent: 0.01\n",
      "Average score: {'micro': 0.2925455127639275, 'macro': 0.13643325273038417}\n",
      "-------------------\n",
      "Train percent: 0.02\n",
      "Average score: {'micro': 0.30953487868873153, 'macro': 0.16887877475205587}\n",
      "-------------------\n",
      "Train percent: 0.03\n",
      "Average score: {'micro': 0.32188362118201114, 'macro': 0.191397722883543}\n",
      "-------------------\n",
      "Train percent: 0.04\n",
      "Average score: {'micro': 0.3287802091350672, 'macro': 0.20637409274477422}\n",
      "-------------------\n",
      "Train percent: 0.05\n",
      "Average score: {'micro': 0.3343719272901447, 'macro': 0.21588903480527946}\n",
      "-------------------\n",
      "Train percent: 0.06\n",
      "Average score: {'micro': 0.3388651340080874, 'macro': 0.22316845902317933}\n",
      "-------------------\n",
      "Train percent: 0.07\n",
      "Average score: {'micro': 0.3440269473642624, 'macro': 0.23099788186443493}\n",
      "-------------------\n",
      "Train percent: 0.08\n",
      "Average score: {'micro': 0.34754368627770715, 'macro': 0.23750534164049145}\n",
      "-------------------\n",
      "Train percent: 0.09\n",
      "Average score: {'micro': 0.3507232931524563, 'macro': 0.24119708004162085}\n",
      "-------------------\n",
      "CPU times: user 10h 39min 20s, sys: 3min 58s, total: 10h 43min 18s\n",
      "Wall time: 5h 42min 43s\n"
     ]
    }
   ],
   "source": [
    "%%time\n",
    "randne_f1_scores = scoring(\n",
    "    [\n",
    "        \"--emb\", \"result/flickr-randne-emb.mat\",\n",
    "        \"--network\",\"example_graphs/flickr.mat\",\n",
    "        \"--num-shuffles\", \"5\",\n",
    "        \"--debug\",\n",
    "        \"--C\", \"1.0\",\n",
    "        \"--training-percents\",\n",
    "    ] + [str(p) for p in range(1, 10)],\n",
    ")\n",
    "randne_f1_scores"
   ]
  },
  {
   "cell_type": "markdown",
   "metadata": {},
   "source": [
    "# Run LINE"
   ]
  },
  {
   "cell_type": "markdown",
   "metadata": {},
   "source": [
    "Save the graph as edgelist:"
   ]
  },
  {
   "cell_type": "code",
   "execution_count": 24,
   "metadata": {},
   "outputs": [
    {
     "data": {
      "text/plain": [
       "<80513x80513 sparse matrix of type '<class 'numpy.float64'>'\n",
       "\twith 11799764 stored elements in Compressed Sparse Column format>"
      ]
     },
     "execution_count": 24,
     "metadata": {},
     "output_type": "execute_result"
    }
   ],
   "source": [
    "A"
   ]
  },
  {
   "cell_type": "code",
   "execution_count": 25,
   "metadata": {},
   "outputs": [
    {
     "data": {
      "text/plain": [
       "(80513, 5899882)"
      ]
     },
     "execution_count": 25,
     "metadata": {},
     "output_type": "execute_result"
    }
   ],
   "source": [
    "G = nx.from_scipy_sparse_matrix(A)\n",
    "G.number_of_nodes(), G.number_of_edges()"
   ]
  },
  {
   "cell_type": "code",
   "execution_count": 26,
   "metadata": {},
   "outputs": [],
   "source": [
    "nx.write_edgelist(G.to_directed(), open('example_graphs/flickr.edgelist', 'wb'), data=['weight'])"
   ]
  },
  {
   "cell_type": "markdown",
   "metadata": {},
   "source": [
    "Compile the code:"
   ]
  },
  {
   "cell_type": "code",
   "execution_count": null,
   "metadata": {},
   "outputs": [],
   "source": [
    "g++ -I /home/hcchen/gsl/include -L /home/hcchen/gsl/lib -lm -pthread -Ofast -march=native -Wall -funroll-loops -ffast-math -Wno-unused-result line.cpp -o line -lgsl -lm -lgslcblas\n",
    "g++ -I /home/hcchen/gsl/include -L /home/hcchen/gsl/lib -lm -pthread -Ofast -march=native -Wall -funroll-loops -ffast-math -Wno-unused-result reconstruct.cpp -o reconstruct\n",
    "g++ -I /home/hcchen/gsl/include -L /home/hcchen/gsl/lib -lm -pthread -Ofast -march=native -Wall -funroll-loops -ffast-math -Wno-unused-result normalize.cpp -o normalize\n",
    "g++ -I /home/hcchen/gsl/include -L /home/hcchen/gsl/lib -lm -pthread -Ofast -march=native -Wall -funroll-loops -ffast-math -Wno-unused-result concatenate.cpp -o concatenate"
   ]
  },
  {
   "cell_type": "markdown",
   "metadata": {},
   "source": [
    "First add the GSL library to path in shell:"
   ]
  },
  {
   "cell_type": "code",
   "execution_count": null,
   "metadata": {},
   "outputs": [],
   "source": [
    "export LD_LIBRARY_PATH=$LD_LIBRARY_PATH:/home/hcchen/gsl/lib"
   ]
  },
  {
   "cell_type": "markdown",
   "metadata": {},
   "source": [
    "Run LINE:"
   ]
  },
  {
   "cell_type": "code",
   "execution_count": null,
   "metadata": {},
   "outputs": [],
   "source": [
    "cd ~/LINE/linux && nohup time ./line -train /home/hcchen/fast-random-projection/example_graphs/flickr.edgelist \\\n",
    "-output /home/hcchen/fast-random-projection/result/flickr.line.emb \\\n",
    "-binary 0 -size 200 -order 2 -negative 5 -samples 1000 -rho 0.025 -threads 40 &"
   ]
  },
  {
   "cell_type": "code",
   "execution_count": 27,
   "metadata": {},
   "outputs": [
    {
     "name": "stdout",
     "output_type": "stream",
     "text": [
      "Train percent: 0.01\n",
      "Train percent: 0.02\n",
      "Train percent: 0.03\n",
      "Train percent: 0.04\n",
      "Train percent: 0.05\n",
      "Train percent: 0.06\n",
      "Train percent: 0.07\n",
      "Train percent: 0.08\n",
      "Train percent: 0.09\n",
      "Results, using embeddings of dimensionality 200\n",
      "-------------------\n",
      "Train percent: 0.01\n",
      "Average score: {'micro': 0.2813013648817194, 'macro': 0.10691118031111965}\n",
      "-------------------\n",
      "Train percent: 0.02\n",
      "Average score: {'micro': 0.2972879381625006, 'macro': 0.1300608316982415}\n",
      "-------------------\n",
      "Train percent: 0.03\n",
      "Average score: {'micro': 0.3073894164182993, 'macro': 0.14634940855742729}\n",
      "-------------------\n",
      "Train percent: 0.04\n",
      "Average score: {'micro': 0.3137905527433307, 'macro': 0.1575801113275311}\n",
      "-------------------\n",
      "Train percent: 0.05\n",
      "Average score: {'micro': 0.3194337385977299, 'macro': 0.16524471652037645}\n",
      "-------------------\n",
      "Train percent: 0.06\n",
      "Average score: {'micro': 0.3251038665413805, 'macro': 0.17345570261715232}\n",
      "-------------------\n",
      "Train percent: 0.07\n",
      "Average score: {'micro': 0.32948150232647844, 'macro': 0.18048968280470715}\n",
      "-------------------\n",
      "Train percent: 0.08\n",
      "Average score: {'micro': 0.3329590724774594, 'macro': 0.18675642459253122}\n",
      "-------------------\n",
      "Train percent: 0.09\n",
      "Average score: {'micro': 0.3361658814248666, 'macro': 0.1915358792245202}\n",
      "-------------------\n",
      "CPU times: user 4h 54min 20s, sys: 9min 44s, total: 5h 4min 4s\n",
      "Wall time: 36min 48s\n"
     ]
    }
   ],
   "source": [
    "%%time\n",
    "line_f1_scores = scoring(\n",
    "    [\n",
    "        \"--emb\", \"/home/hcchen/fast-random-projection/result/flickr.line.emb\",\n",
    "        \"--network\",\"example_graphs/flickr.mat\",\n",
    "        \"--num-shuffles\", \"5\",\n",
    "        \"--debug\",\n",
    "        \"--C\", \"1.0\",\n",
    "        \"--training-percents\",\n",
    "    ] + [str(p) for p in range(1, 10)]\n",
    ")\n",
    "line_f1_scores"
   ]
  },
  {
   "cell_type": "markdown",
   "metadata": {},
   "source": [
    "# Run node2vec"
   ]
  },
  {
   "cell_type": "code",
   "execution_count": null,
   "metadata": {},
   "outputs": [],
   "source": [
    "cd /home/hcchen/deepwalk-sgns/deepwalk && nohup time python __main__.py --format mat \\\n",
    "--input /home/hcchen/deepwalk/example_graphs/flickr.mat \\\n",
    "--max-memory-data-size 0 --number-walks 80 --representation-size 128 --walk-length 40 --window-size 10 \\\n",
    "--workers 40 --output /home/hcchen/deepwalk-sgns/example_graphs/flickr.node2vec.emb &"
   ]
  },
  {
   "cell_type": "code",
   "execution_count": 29,
   "metadata": {},
   "outputs": [
    {
     "name": "stdout",
     "output_type": "stream",
     "text": [
      "Train percent: 0.01\n",
      "Train percent: 0.02\n",
      "Train percent: 0.03\n",
      "Train percent: 0.04\n",
      "Train percent: 0.05\n",
      "Train percent: 0.06\n",
      "Train percent: 0.07\n",
      "Train percent: 0.08\n",
      "Train percent: 0.09\n",
      "Results, using embeddings of dimensionality 128\n",
      "-------------------\n",
      "Train percent: 0.01\n",
      "Average score: {'micro': 0.3106388832635548, 'macro': 0.11888892040293031}\n",
      "-------------------\n",
      "Train percent: 0.02\n",
      "Average score: {'micro': 0.3373673515774205, 'macro': 0.16026257549678521}\n",
      "-------------------\n",
      "Train percent: 0.03\n",
      "Average score: {'micro': 0.3519868588782164, 'macro': 0.18220861238273278}\n",
      "-------------------\n",
      "Train percent: 0.04\n",
      "Average score: {'micro': 0.36091131201223464, 'macro': 0.19756936590012505}\n",
      "-------------------\n",
      "Train percent: 0.05\n",
      "Average score: {'micro': 0.3674701181133152, 'macro': 0.20937977156288573}\n",
      "-------------------\n",
      "Train percent: 0.06\n",
      "Average score: {'micro': 0.37441448211014683, 'macro': 0.2223428566886517}\n",
      "-------------------\n",
      "Train percent: 0.07\n",
      "Average score: {'micro': 0.37860430849322513, 'macro': 0.23059689313403248}\n",
      "-------------------\n",
      "Train percent: 0.08\n",
      "Average score: {'micro': 0.3822623442834449, 'macro': 0.23745967377980298}\n",
      "-------------------\n",
      "Train percent: 0.09\n",
      "Average score: {'micro': 0.38525691595282247, 'macro': 0.24360616691610573}\n",
      "-------------------\n",
      "CPU times: user 3h 31min 30s, sys: 7min 14s, total: 3h 38min 44s\n",
      "Wall time: 20min 40s\n"
     ]
    }
   ],
   "source": [
    "%%time\n",
    "node2vec_f1_scores = scoring(\n",
    "    [\n",
    "        \"--emb\", \"/home/hcchen/deepwalk-sgns/example_graphs/flickr.node2vec.emb\",\n",
    "        \"--network\",\"example_graphs/flickr.mat\",\n",
    "        \"--num-shuffles\", \"5\",\n",
    "        \"--debug\",\n",
    "        \"--C\", \"1.0\",\n",
    "        \"--training-percents\",\n",
    "    ] + [str(p) for p in range(1, 10)],\n",
    ")\n",
    "node2vec_f1_scores"
   ]
  }
 ],
 "metadata": {
  "kernelspec": {
   "display_name": "Python 3",
   "language": "python",
   "name": "python3"
  },
  "language_info": {
   "codemirror_mode": {
    "name": "ipython",
    "version": 3
   },
   "file_extension": ".py",
   "mimetype": "text/x-python",
   "name": "python",
   "nbconvert_exporter": "python",
   "pygments_lexer": "ipython3",
   "version": "3.7.1"
  }
 },
 "nbformat": 4,
 "nbformat_minor": 2
}
