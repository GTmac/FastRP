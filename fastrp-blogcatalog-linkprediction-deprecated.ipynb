{
 "cells": [
  {
   "cell_type": "markdown",
   "metadata": {},
   "source": [
    "# Init"
   ]
  },
  {
   "cell_type": "code",
   "execution_count": 4,
   "metadata": {},
   "outputs": [],
   "source": [
    "%matplotlib inline\n",
    "\n",
    "import csv\n",
    "import itertools\n",
    "import math\n",
    "import matplotlib\n",
    "import time\n",
    "import logging\n",
    "import sys\n",
    "import os\n",
    "import random\n",
    "import warnings\n",
    "\n",
    "import gensim\n",
    "\n",
    "import pandas as pd\n",
    "import numpy as np\n",
    "import networkx as nx\n",
    "import matplotlib.pyplot as plt\n",
    "import seaborn as sns\n",
    "\n",
    "from pathlib import Path\n",
    "\n",
    "from tqdm import tqdm_notebook as tqdm\n",
    "from collections import Counter, defaultdict\n",
    "\n",
    "from sklearn import random_projection\n",
    "from sklearn.manifold import TSNE\n",
    "from scipy.sparse import coo_matrix, csr_matrix, csc_matrix, spdiags\n",
    "from scipy.io import loadmat, savemat\n",
    "from scipy.spatial.distance import cosine\n",
    "from sklearn.metrics import f1_score\n",
    "from sklearn.metrics.pairwise import cosine_similarity\n",
    "from sklearn.preprocessing import normalize, MultiLabelBinarizer"
   ]
  },
  {
   "cell_type": "code",
   "execution_count": 5,
   "metadata": {},
   "outputs": [],
   "source": [
    "from sklearn import preprocessing"
   ]
  },
  {
   "cell_type": "code",
   "execution_count": 6,
   "metadata": {},
   "outputs": [],
   "source": [
    "from scoring import scoring"
   ]
  },
  {
   "cell_type": "code",
   "execution_count": 7,
   "metadata": {},
   "outputs": [],
   "source": [
    "# to ignore sklearn warning\n",
    "def warn(*args, **kwargs):\n",
    "    pass\n",
    "import warnings\n",
    "warnings.warn = warn\n",
    "warnings.filterwarnings(\"ignore\", category=RuntimeWarning) "
   ]
  },
  {
   "cell_type": "code",
   "execution_count": 8,
   "metadata": {},
   "outputs": [],
   "source": [
    "%load_ext autoreload\n",
    "%autoreload 2"
   ]
  },
  {
   "cell_type": "markdown",
   "metadata": {},
   "source": [
    "# Load Data"
   ]
  },
  {
   "cell_type": "markdown",
   "metadata": {},
   "source": [
    "## Blogcatalog"
   ]
  },
  {
   "cell_type": "code",
   "execution_count": 9,
   "metadata": {},
   "outputs": [],
   "source": [
    "blogcatalog = loadmat('example_graphs/blogcatalog.mat')\n",
    "blog_labels = blogcatalog['group']\n",
    "blog_A = blogcatalog['network']\n",
    "N = blog_A.shape[0]"
   ]
  },
  {
   "cell_type": "code",
   "execution_count": 10,
   "metadata": {},
   "outputs": [
    {
     "data": {
      "text/plain": [
       "<10312x10312 sparse matrix of type '<class 'numpy.float64'>'\n",
       "\twith 667966 stored elements in Compressed Sparse Column format>"
      ]
     },
     "execution_count": 10,
     "metadata": {},
     "output_type": "execute_result"
    }
   ],
   "source": [
    "blog_A"
   ]
  },
  {
   "cell_type": "code",
   "execution_count": 11,
   "metadata": {},
   "outputs": [
    {
     "data": {
      "text/plain": [
       "10312"
      ]
     },
     "execution_count": 11,
     "metadata": {},
     "output_type": "execute_result"
    }
   ],
   "source": [
    "N"
   ]
  },
  {
   "cell_type": "code",
   "execution_count": 12,
   "metadata": {},
   "outputs": [],
   "source": [
    "d = [l[0] for l in blog_A.sum(axis=1).tolist()]"
   ]
  },
  {
   "cell_type": "code",
   "execution_count": 13,
   "metadata": {},
   "outputs": [
    {
     "name": "stdout",
     "output_type": "stream",
     "text": [
      "alpha=  1.258526391056572   sigma=  0.0025458536330247006\n"
     ]
    },
    {
     "data": {
      "image/png": "[encoded data removed]",
      "text/plain": [
       "<Figure size 432x288 with 1 Axes>"
      ]
     },
     "metadata": {
      "needs_background": "light"
     },
     "output_type": "display_data"
    }
   ],
   "source": [
    "import powerlaw\n",
    "\n",
    "fit = powerlaw.Fit(np.array(d)+1,xmin=1,discrete=True)\n",
    "fit.power_law.plot_pdf( color= 'b',linestyle='--',label='fit ccdf')\n",
    "fit.plot_pdf(color= 'b')\n",
    "\n",
    "print('alpha= ',fit.power_law.alpha,'  sigma= ',fit.power_law.sigma)"
   ]
  },
  {
   "cell_type": "markdown",
   "metadata": {},
   "source": [
    "# Random Projection"
   ]
  },
  {
   "cell_type": "code",
   "execution_count": 49,
   "metadata": {},
   "outputs": [],
   "source": [
    "# projection method: choose from Gaussian and Sparse\n",
    "# input matrix: choose from adjacency and transition matrix\n",
    "# alpha adjusts the weighting of nodes according to their degree\n",
    "def randne_projection(A, q=3, dim=128, projection_method='gaussian', input_matrix='adj', alpha=None):\n",
    "    assert input_matrix == 'adj' or input_matrix == 'trans'\n",
    "    assert projection_method == 'gaussian' or projection_method == 'sparse'\n",
    "    \n",
    "    N = A.shape[0]\n",
    "    if input_matrix == 'adj':\n",
    "        M = A\n",
    "    else:\n",
    "        N = A.shape[0]\n",
    "        normalizer = spdiags(np.squeeze(1.0 / csc_matrix.sum(A, axis=1) ), 0, N, N)\n",
    "        M = normalizer @ A\n",
    "    # Gaussian projection matrix\n",
    "    if projection_method == 'gaussian':\n",
    "        transformer = random_projection.GaussianRandomProjection(n_components=dim, random_state=42)\n",
    "    # Sparse projection matrix\n",
    "    else:\n",
    "        transformer = random_projection.SparseRandomProjection(n_components=dim, random_state=42)\n",
    "    Y = transformer.fit(M)\n",
    "    # Random projection for A\n",
    "    if alpha is not None:\n",
    "        Y.components_ = Y.components_ @ spdiags( \\\n",
    "                        np.squeeze(np.power(csc_matrix.sum(A, axis=1), alpha)), 0, N, N)\n",
    "    cur_U = transformer.transform(M)\n",
    "    U_list = [cur_U]\n",
    "    \n",
    "    for i in range(2, q + 1):\n",
    "        cur_U = M @ cur_U\n",
    "        U_list.append(cur_U)\n",
    "    return U_list"
   ]
  },
  {
   "cell_type": "code",
   "execution_count": 50,
   "metadata": {},
   "outputs": [],
   "source": [
    "# When weights is None, concatenate instead of linearly combines the embeddings from different powers of A\n",
    "def randne_merge(U_list, weights, normalization=False):\n",
    "    dense_U_list = [_U.todense() for _U in U_list] if type(U_list[0]) == csc_matrix else U_list\n",
    "    _U_list = [normalize(_U, norm='l2', axis=1) for _U in dense_U_list] if normalization else dense_U_list\n",
    "\n",
    "    if weights is None:\n",
    "        return np.concatenate(_U_list, axis=1)\n",
    "    U = np.zeros_like(_U_list[0])\n",
    "    for cur_U, weight in zip(_U_list, weights):\n",
    "        U += cur_U * weight\n",
    "    # U = preprocessing.scale(U.todense())\n",
    "    U = U.todense()\n",
    "    # U = normalize(U.todense(), norm='l2', axis=1)\n",
    "    return U"
   ]
  },
  {
   "cell_type": "code",
   "execution_count": 51,
   "metadata": {},
   "outputs": [],
   "source": [
    "# A is always the adjacency matrix\n",
    "# the choice between adj matrix and trans matrix is decided in the conf\n",
    "def randne_wrapper(A, conf):\n",
    "    U_list = randne_projection(A,\n",
    "                               q=len(conf['weights']),\n",
    "                               dim=conf['dim'],\n",
    "                               projection_method=conf['projection_method'],\n",
    "                               input_matrix=conf['input_matrix'],\n",
    "                               alpha=conf['alpha'],\n",
    "    )\n",
    "    U = randne_merge(U_list, conf['weights'], conf['normalization'])\n",
    "    return U"
   ]
  },
  {
   "cell_type": "markdown",
   "metadata": {},
   "source": [
    "# Link Prediction"
   ]
  },
  {
   "cell_type": "code",
   "execution_count": 32,
   "metadata": {},
   "outputs": [],
   "source": [
    "import networkx as nx\n",
    "from scipy.sparse import find\n",
    "from random import sample\n",
    "from scipy.spatial.distance import pdist, squareform"
   ]
  },
  {
   "cell_type": "code",
   "execution_count": 33,
   "metadata": {},
   "outputs": [],
   "source": [
    "G = nx.from_scipy_sparse_matrix(blog_A)\n",
    "tree = nx.minimum_spanning_tree(G)\n",
    "G_nodes, G_edges, tree_edges = G.nodes(), G.edges(), tree.edges()\n",
    "n_edges_70 = int(0.7*len(G_edges))"
   ]
  },
  {
   "cell_type": "code",
   "execution_count": 34,
   "metadata": {},
   "outputs": [],
   "source": [
    "conf = {\n",
    "        'projection_method': 'sparse',\n",
    "        'input_matrix': 'trans',\n",
    "        'weights': [1.0, 1.0, 7.81, 45.28],\n",
    "        'normalization': True,\n",
    "        'dim': 512,\n",
    "        'alpha': -0.628,\n",
    "        'C': 0.1\n",
    "}"
   ]
  },
  {
   "cell_type": "code",
   "execution_count": 69,
   "metadata": {},
   "outputs": [],
   "source": [
    "conf = {\n",
    "        'projection_method': 'sparse',\n",
    "        'input_matrix': 'adj',\n",
    "        'weights': [1.0, 0.01],\n",
    "        'normalization': False,\n",
    "        'dim': 512,\n",
    "        'alpha': 0.2,\n",
    "        'C': 0.1\n",
    "}"
   ]
  },
  {
   "cell_type": "code",
   "execution_count": 72,
   "metadata": {},
   "outputs": [],
   "source": [
    "from numpy import inner as cosine"
   ]
  },
  {
   "cell_type": "code",
   "execution_count": 73,
   "metadata": {},
   "outputs": [
    {
     "name": "stdout",
     "output_type": "stream",
     "text": [
      "CPU times: user 28.6 s, sys: 348 ms, total: 28.9 s\n",
      "Wall time: 24.9 s\n"
     ]
    }
   ],
   "source": [
    "%%time\n",
    "scores_negative = []\n",
    "scores_random = []\n",
    "\n",
    "for i in range(1):#(5):\n",
    "\n",
    "    sampled_edges = sample(G_edges, n_edges_70-len(tree.edges()))\n",
    "    tree.add_edges_from(sampled_edges)\n",
    "\n",
    "    #Artificially removed:\n",
    "    edges_to_test = [edge for edge in G.edges() if edge not in tree.edges()]\n",
    "\n",
    "    #Edges that never existed\n",
    "    negatives = []\n",
    "    while len(negatives)<len(edges_to_test):\n",
    "        rand_edge = sample(G_nodes, 2)\n",
    "        if rand_edge not in G_edges:\n",
    "            negatives.append(rand_edge)\n",
    "\n",
    "    #Random sample from existing/non-existing edges\n",
    "    rand_pairs = [sample(G_nodes, 2) for i in range(len(edges_to_test))]\n",
    "\n",
    "    blog_A_70 = nx.to_scipy_sparse_matrix(tree)\n",
    "\n",
    "    U = randne_wrapper(blog_A_70, conf)\n",
    "    distances_negative = np.array([cosine(U[edge[0]], U[edge[1]]) for edge in negatives])\n",
    "    distances_random = np.array([cosine(U[edge[0]], U[edge[1]]) for edge in rand_pairs])\n",
    "    distances_pos = np.array([cosine(U[edge[0]], U[edge[1]]) for edge in edges_to_test])\n",
    "    \n",
    "    scores_negative.append((distances_pos<distances_negative).sum()/len(distances_negative))\n",
    "    scores_random.append((distances_pos<distances_random).sum()/len(distances_random))"
   ]
  },
  {
   "cell_type": "code",
   "execution_count": 75,
   "metadata": {},
   "outputs": [
    {
     "data": {
      "text/plain": [
       "matrix([[4.1562046]])"
      ]
     },
     "execution_count": 75,
     "metadata": {},
     "output_type": "execute_result"
    }
   ],
   "source": [
    "cosine(U[3], U[1244])"
   ]
  },
  {
   "cell_type": "code",
   "execution_count": 79,
   "metadata": {},
   "outputs": [
    {
     "data": {
      "text/plain": [
       "matrix([[129.11607617]])"
      ]
     },
     "execution_count": 79,
     "metadata": {},
     "output_type": "execute_result"
    }
   ],
   "source": [
    "cosine(U[3], U[10])"
   ]
  },
  {
   "cell_type": "code",
   "execution_count": 74,
   "metadata": {},
   "outputs": [
    {
     "data": {
      "text/plain": [
       "(0.049961185533151535, 0.053623678815263046)"
      ]
     },
     "execution_count": 74,
     "metadata": {},
     "output_type": "execute_result"
    }
   ],
   "source": [
    "np.mean(scores_negative), np.mean(scores_random)"
   ]
  },
  {
   "cell_type": "code",
   "execution_count": 71,
   "metadata": {},
   "outputs": [
    {
     "data": {
      "text/plain": [
       "(0.9236358937145243, 0.9205443502291321)"
      ]
     },
     "execution_count": 71,
     "metadata": {},
     "output_type": "execute_result"
    }
   ],
   "source": [
    "np.mean(scores_negative), np.mean(scores_random)"
   ]
  },
  {
   "cell_type": "markdown",
   "metadata": {},
   "source": [
    "## Comparing against original RandNE"
   ]
  },
  {
   "cell_type": "code",
   "execution_count": 64,
   "metadata": {},
   "outputs": [],
   "source": [
    "import os \n",
    "\n",
    "scores_negative_orig = []\n",
    "scores_random_orig = []\n",
    "\n",
    "for i in range(1)#(5):\n",
    "    \n",
    "    sampled_edges = sample(G_edges, n_edges_70-len(tree.edges()))\n",
    "    tree.add_edges_from(sampled_edges)\n",
    "\n",
    "    #Artificially removed:\n",
    "    edges_to_test = [edge for edge in G.edges() if edge not in tree.edges()]\n",
    "\n",
    "    #Edges that never existed\n",
    "    negatives = sample(negative_examples, len(edges_to_test))\n",
    "\n",
    "    #Random sample from existing/non-existing edges\n",
    "    rand_pairs = sample(all_pairs, len(edges_to_test))\n",
    "\n",
    "    blog_A_70 = nx.to_scipy_sparse_matrix(tree)\n",
    "    savemat('result/blogcatalog_70', {'network':blog_A_70})\n",
    "    os.system('python3 /mnt/store2/fahad/RandNE-Python/src/randne.py --input /home/fahad/fast-random-projection/result/blogcatalog_70.mat \\\n",
    "     --output /home/fahad/fast-random-projection/result/blog-randne-emb_70.mat -q 2 -d 512 --weights 1 0.01')\n",
    "    U = loadmat('result/blog-randne-emb_70.mat')\n",
    "\n",
    "    distances = squareform(pdist(U['emb'], metric='cosine'))\n",
    "    df = pd.DataFrame(distances)\n",
    "    test = df.unstack().reset_index()\n",
    "    test.columns = [0,1, 'dist']\n",
    "\n",
    "    merged_neg = pd.merge(test, pd.DataFrame(negatives), on=[0,1])\n",
    "    merged_pos = pd.merge(test, pd.DataFrame(edges_to_test), on=[0,1])\n",
    "    merged_rand = pd.merge(test, pd.DataFrame(rand_pairs), on=[0,1])\n",
    "\n",
    "    scores_negative_orig.append((merged_neg['dist']>merged_pos['dist']).sum()/len(merged_neg))\n",
    "    scores_random_orig.append((merged_rand['dist']>merged_pos['dist']).sum()/len(merged_rand))"
   ]
  },
  {
   "cell_type": "code",
   "execution_count": 65,
   "metadata": {},
   "outputs": [
    {
     "data": {
      "text/plain": [
       "(0.9170969334010566, 0.9145295767131696)"
      ]
     },
     "execution_count": 65,
     "metadata": {},
     "output_type": "execute_result"
    }
   ],
   "source": [
    "np.mean(scores_negative_orig), np.mean(scores_random_orig)"
   ]
  },
  {
   "cell_type": "code",
   "execution_count": 67,
   "metadata": {},
   "outputs": [],
   "source": [
    "U = org_emb['emb']"
   ]
  },
  {
   "cell_type": "code",
   "execution_count": null,
   "metadata": {},
   "outputs": [],
   "source": [
    "from scipy.spatial.distance import pdist, squareform\n",
    "distances = squareform(pdist(U, metric='cosine'))\n",
    "df = pd.DataFrame(distances)\n",
    "test = df.unstack().reset_index()\n",
    "test.columns = [0,1, 'dist']"
   ]
  },
  {
   "cell_type": "code",
   "execution_count": null,
   "metadata": {},
   "outputs": [],
   "source": [
    "all_pairs = list(itertools.combinations(range(len(G.nodes())), 2))"
   ]
  },
  {
   "cell_type": "code",
   "execution_count": null,
   "metadata": {},
   "outputs": [],
   "source": [
    "merged_pos = pd.merge(test, pd.DataFrame(edges_to_test), on=[0,1])\n",
    "\n",
    "rand_pairs = sample(all_pairs, len(edges_to_test))\n",
    "merged_rand = pd.merge(test, pd.DataFrame(rand_pairs), on=[0,1])\n",
    "\n",
    "negative_examples = [edge for edge in all_pairs if edge not in G.edges()]\n",
    "negatives = sample(negative_examples, len(edges_to_test))\n",
    "merged_neg = pd.merge(test, pd.DataFrame(negatives), on=[0,1])"
   ]
  },
  {
   "cell_type": "code",
   "execution_count": null,
   "metadata": {},
   "outputs": [],
   "source": [
    "(merged_neg['dist']>merged_pos['dist']).sum()/len(merged_neg)"
   ]
  },
  {
   "cell_type": "code",
   "execution_count": null,
   "metadata": {},
   "outputs": [],
   "source": [
    "(merged_rand['dist']>merged_pos['dist']).sum()/len(merged_rand)"
   ]
  },
  {
   "cell_type": "markdown",
   "metadata": {},
   "source": [
    "# Configuration for Easy Grid Search"
   ]
  },
  {
   "cell_type": "code",
   "execution_count": 26,
   "metadata": {},
   "outputs": [],
   "source": [
    "def get_emb_filename(prefix, conf):\n",
    "    return prefix + '-dim=' + str(conf['dim']) + ',projection_method=' + conf['projection_method'] \\\n",
    "        + ',input_matrix=' + conf['input_matrix'] + ',normalization=' + str(conf['normalization']) \\\n",
    "        + ',weights=' + (','.join(map(str, conf['weights'])) if conf['weights'] is not None else 'None') \\\n",
    "        + ',beta=' + (str(conf['beta']) if 'beta' in conf else '') \\\n",
    "        + ',C=' + (str(conf['C']) if 'alpha' in conf else '1.0') \\\n",
    "        + '.mat'"
   ]
  },
  {
   "cell_type": "markdown",
   "metadata": {},
   "source": [
    "# Grid Search for $\\beta$"
   ]
  },
  {
   "cell_type": "code",
   "execution_count": 23,
   "metadata": {},
   "outputs": [
    {
     "data": {
      "text/plain": [
       "2"
      ]
     },
     "execution_count": 23,
     "metadata": {},
     "output_type": "execute_result"
    }
   ],
   "source": [
    "keys = ['projection_method', 'input_matrix', 'weights', 'normalization', 'dim', 'alpha', 'C']\n",
    "\n",
    "all_dims = [128]\n",
    "# all_alphas = [0.0, -0.7, -0.75, -0.8]\n",
    "# all_alphas = [-0.75]\n",
    "\n",
    "all_conf_raw = itertools.product(\n",
    "    # projection method\n",
    "    ['sparse'],\n",
    "    # input matrix\n",
    "    ['trans'],\n",
    "    # weights\n",
    "    [\n",
    "        [1.0],\n",
    "    ],\n",
    "    # normalization\n",
    "    [True, False],\n",
    "    # dimensionality\n",
    "    all_dims,\n",
    "    # C\n",
    "    [0.1]\n",
    ")\n",
    "# all_alpha_conf = [{key: val for key, val in zip(keys, conf)} for conf in all_alpha_conf_raw]\n",
    "all_alpha_conf = [{key: val for key, val in zip(keys, conf)} for conf in all_conf_raw]\n",
    "len(all_alpha_conf)"
   ]
  },
  {
   "cell_type": "code",
   "execution_count": null,
   "metadata": {},
   "outputs": [],
   "source": [
    "all_alpha_conf"
   ]
  },
  {
   "cell_type": "markdown",
   "metadata": {},
   "source": [
    "Start grid search:"
   ]
  },
  {
   "cell_type": "code",
   "execution_count": null,
   "metadata": {},
   "outputs": [],
   "source": [
    "%%time\n",
    "df = pd.DataFrame()\n",
    "\n",
    "prefix = 'result/blog_70percent'\n",
    "for conf in all_alpha_conf:\n",
    "    # print (conf)\n",
    "    emb_filename = get_emb_filename(prefix, conf)\n",
    "    print (emb_filename)\n",
    "    # first check if this file already exists\n",
    "    path = Path(emb_filename)\n",
    "    if not path.is_file():\n",
    "        U = randne_wrapper(blog_A_copy, conf)\n",
    "        savemat(emb_filename, {'emb': U})\n",
    "    else:\n",
    "        print ('File %s already exists, skipped.' % emb_filename)\n",
    "    f1_scores = scoring(\n",
    "        [\n",
    "            \"--emb\", emb_filename,\n",
    "            \"--network\",\"example_graphs/blogcatalog.mat\",\n",
    "            \"--num-shuffles\", \"3\",\n",
    "            \"--debug\",\n",
    "            \"--C\", str(conf['C']),\n",
    "            \"--training-percent\", \"10\"\n",
    "        ],\n",
    "        )\n",
    "    # see https://stackoverflow.com/questions/38987/how-to-merge-two-dictionaries-in-a-single-expression\n",
    "    df = df.append(pd.Series({**conf, **f1_scores}), ignore_index=True)\n",
    "    df.to_csv('result/blog-rp-line1-scores.txt', sep='\\t', index=False, header=True)\n",
    "\n",
    "df"
   ]
  },
  {
   "cell_type": "code",
   "execution_count": 45,
   "metadata": {},
   "outputs": [
    {
     "data": {
      "text/plain": [
       "0.41924104338213636"
      ]
     },
     "execution_count": 45,
     "metadata": {},
     "output_type": "execute_result"
    }
   ],
   "source": [
    "f1_scores['micro']"
   ]
  },
  {
   "cell_type": "markdown",
   "metadata": {},
   "source": [
    "# Intelligent Hyperparameter Search"
   ]
  },
  {
   "cell_type": "code",
   "execution_count": 75,
   "metadata": {},
   "outputs": [],
   "source": [
    "import optuna"
   ]
  },
  {
   "cell_type": "code",
   "execution_count": 76,
   "metadata": {},
   "outputs": [],
   "source": [
    "prefix = 'result/blog'"
   ]
  },
  {
   "cell_type": "code",
   "execution_count": 77,
   "metadata": {},
   "outputs": [
    {
     "name": "stdout",
     "output_type": "stream",
     "text": [
      "{'projection_method': 'sparse', 'input_matrix': 'trans', 'weights': [1.0, 1.0, 5.7698013742919185, 3.7000003373277393], 'normalization': True, 'dim': 128, 'alpha': -0.03432314967680905, 'C': 0.1}\n",
      "result/blog-dim=128,projection_method=sparse,input_matrix=trans,normalization=True,weights=1.0,1.0,5.7698013742919185,3.7000003373277393,beta=,C=0.1.mat\n",
      "Train percent: 0.1\n",
      "Results, using embeddings of dimensionality 128\n",
      "-------------------\n",
      "Train percent: 0.1\n",
      "Average score: {'micro': 0.31466371932063697, 'macro': 0.17131999331502282}\n",
      "-------------------\n"
     ]
    },
    {
     "name": "stderr",
     "output_type": "stream",
     "text": [
      "[I 2019-05-14 17:50:39,570] Finished trial#0 resulted in value: -0.31466371932063697. Current best value is -0.31466371932063697 with parameters: {'weight0': 5.7698013742919185, 'weight1': 3.7000003373277393, 'alpha': -0.03432314967680905}.\n"
     ]
    },
    {
     "name": "stdout",
     "output_type": "stream",
     "text": [
      "{'projection_method': 'sparse', 'input_matrix': 'trans', 'weights': [1.0, 1.0, 2.4772524636165243, 5.914603305342195], 'normalization': True, 'dim': 128, 'alpha': 0.08591654198729959, 'C': 0.1}\n",
      "result/blog-dim=128,projection_method=sparse,input_matrix=trans,normalization=True,weights=1.0,1.0,2.4772524636165243,5.914603305342195,beta=,C=0.1.mat\n",
      "Train percent: 0.1\n",
      "Results, using embeddings of dimensionality 128\n",
      "-------------------\n",
      "Train percent: 0.1\n",
      "Average score: {'micro': 0.30762317564029446, 'macro': 0.17246111892495097}\n",
      "-------------------\n"
     ]
    },
    {
     "name": "stderr",
     "output_type": "stream",
     "text": [
      "[I 2019-05-14 17:50:46,323] Finished trial#1 resulted in value: -0.30762317564029446. Current best value is -0.31466371932063697 with parameters: {'weight0': 5.7698013742919185, 'weight1': 3.7000003373277393, 'alpha': -0.03432314967680905}.\n"
     ]
    },
    {
     "name": "stdout",
     "output_type": "stream",
     "text": [
      "{'projection_method': 'sparse', 'input_matrix': 'trans', 'weights': [1.0, 1.0, 1.8856188107870615, 1.3136989269373525], 'normalization': True, 'dim': 128, 'alpha': -0.254768065774138, 'C': 0.1}\n",
      "result/blog-dim=128,projection_method=sparse,input_matrix=trans,normalization=True,weights=1.0,1.0,1.8856188107870615,1.3136989269373525,beta=,C=0.1.mat\n",
      "Train percent: 0.1\n",
      "Results, using embeddings of dimensionality 128\n",
      "-------------------\n",
      "Train percent: 0.1\n",
      "Average score: {'micro': 0.2979892974400031, 'macro': 0.1669330440603348}\n",
      "-------------------\n"
     ]
    },
    {
     "name": "stderr",
     "output_type": "stream",
     "text": [
      "[I 2019-05-14 17:50:52,590] Finished trial#2 resulted in value: -0.2979892974400031. Current best value is -0.31466371932063697 with parameters: {'weight0': 5.7698013742919185, 'weight1': 3.7000003373277393, 'alpha': -0.03432314967680905}.\n"
     ]
    },
    {
     "name": "stdout",
     "output_type": "stream",
     "text": [
      "{'projection_method': 'sparse', 'input_matrix': 'trans', 'weights': [1.0, 1.0, 51.88121468746862, 3.937773415668498], 'normalization': True, 'dim': 128, 'alpha': -0.017816084597627402, 'C': 0.1}\n",
      "result/blog-dim=128,projection_method=sparse,input_matrix=trans,normalization=True,weights=1.0,1.0,51.88121468746862,3.937773415668498,beta=,C=0.1.mat\n",
      "Train percent: 0.1\n",
      "Results, using embeddings of dimensionality 128\n",
      "-------------------\n",
      "Train percent: 0.1\n",
      "Average score: {'micro': 0.32001973660015265, 'macro': 0.1659508089852132}\n",
      "-------------------\n"
     ]
    },
    {
     "name": "stderr",
     "output_type": "stream",
     "text": [
      "[I 2019-05-14 17:50:58,443] Finished trial#3 resulted in value: -0.32001973660015265. Current best value is -0.32001973660015265 with parameters: {'weight0': 51.88121468746862, 'weight1': 3.937773415668498, 'alpha': -0.017816084597627402}.\n"
     ]
    },
    {
     "name": "stdout",
     "output_type": "stream",
     "text": [
      "{'projection_method': 'sparse', 'input_matrix': 'trans', 'weights': [1.0, 1.0, 1.333736942127278, 24.393500527475105], 'normalization': True, 'dim': 128, 'alpha': 0.6253574935867243, 'C': 0.1}\n",
      "result/blog-dim=128,projection_method=sparse,input_matrix=trans,normalization=True,weights=1.0,1.0,1.333736942127278,24.393500527475105,beta=,C=0.1.mat\n",
      "Train percent: 0.1\n",
      "Results, using embeddings of dimensionality 128\n",
      "-------------------\n",
      "Train percent: 0.1\n",
      "Average score: {'micro': 0.3157886040582747, 'macro': 0.163628431585927}\n",
      "-------------------\n"
     ]
    },
    {
     "name": "stderr",
     "output_type": "stream",
     "text": [
      "[I 2019-05-14 17:51:05,344] Finished trial#4 resulted in value: -0.3157886040582747. Current best value is -0.32001973660015265 with parameters: {'weight0': 51.88121468746862, 'weight1': 3.937773415668498, 'alpha': -0.017816084597627402}.\n"
     ]
    },
    {
     "name": "stdout",
     "output_type": "stream",
     "text": [
      "{'projection_method': 'sparse', 'input_matrix': 'trans', 'weights': [1.0, 1.0, 56.661186753562724, 2.0216893598699524], 'normalization': True, 'dim': 128, 'alpha': -0.575584320073306, 'C': 0.1}\n",
      "result/blog-dim=128,projection_method=sparse,input_matrix=trans,normalization=True,weights=1.0,1.0,56.661186753562724,2.0216893598699524,beta=,C=0.1.mat\n",
      "Train percent: 0.1\n",
      "Results, using embeddings of dimensionality 128\n",
      "-------------------\n",
      "Train percent: 0.1\n",
      "Average score: {'micro': 0.3141529942085009, 'macro': 0.1762250472893113}\n",
      "-------------------\n"
     ]
    },
    {
     "name": "stderr",
     "output_type": "stream",
     "text": [
      "[I 2019-05-14 17:51:11,000] Finished trial#5 resulted in value: -0.3141529942085009. Current best value is -0.32001973660015265 with parameters: {'weight0': 51.88121468746862, 'weight1': 3.937773415668498, 'alpha': -0.017816084597627402}.\n"
     ]
    },
    {
     "name": "stdout",
     "output_type": "stream",
     "text": [
      "{'projection_method': 'sparse', 'input_matrix': 'trans', 'weights': [1.0, 1.0, 8.52326681936763, 31.669179749847654], 'normalization': True, 'dim': 128, 'alpha': 0.44841426076492263, 'C': 0.1}\n",
      "result/blog-dim=128,projection_method=sparse,input_matrix=trans,normalization=True,weights=1.0,1.0,8.52326681936763,31.669179749847654,beta=,C=0.1.mat\n",
      "Train percent: 0.1\n",
      "Results, using embeddings of dimensionality 128\n",
      "-------------------\n",
      "Train percent: 0.1\n",
      "Average score: {'micro': 0.3310995081660742, 'macro': 0.17303871474903498}\n",
      "-------------------\n"
     ]
    },
    {
     "name": "stderr",
     "output_type": "stream",
     "text": [
      "[I 2019-05-14 17:51:17,040] Finished trial#6 resulted in value: -0.3310995081660742. Current best value is -0.3310995081660742 with parameters: {'weight0': 8.52326681936763, 'weight1': 31.669179749847654, 'alpha': 0.44841426076492263}.\n"
     ]
    },
    {
     "name": "stdout",
     "output_type": "stream",
     "text": [
      "{'projection_method': 'sparse', 'input_matrix': 'trans', 'weights': [1.0, 1.0, 13.204233469327956, 29.77486590950549], 'normalization': True, 'dim': 128, 'alpha': 0.8382805777606903, 'C': 0.1}\n",
      "result/blog-dim=128,projection_method=sparse,input_matrix=trans,normalization=True,weights=1.0,1.0,13.204233469327956,29.77486590950549,beta=,C=0.1.mat\n",
      "Train percent: 0.1\n",
      "Results, using embeddings of dimensionality 128\n",
      "-------------------\n",
      "Train percent: 0.1\n",
      "Average score: {'micro': 0.32122858976725926, 'macro': 0.16371260011778901}\n",
      "-------------------\n"
     ]
    },
    {
     "name": "stderr",
     "output_type": "stream",
     "text": [
      "[I 2019-05-14 17:51:23,238] Finished trial#7 resulted in value: -0.32122858976725926. Current best value is -0.3310995081660742 with parameters: {'weight0': 8.52326681936763, 'weight1': 31.669179749847654, 'alpha': 0.44841426076492263}.\n"
     ]
    },
    {
     "name": "stdout",
     "output_type": "stream",
     "text": [
      "{'projection_method': 'sparse', 'input_matrix': 'trans', 'weights': [1.0, 1.0, 9.460115648006948, 18.6323794311856], 'normalization': True, 'dim': 128, 'alpha': 0.16122115138563098, 'C': 0.1}\n",
      "result/blog-dim=128,projection_method=sparse,input_matrix=trans,normalization=True,weights=1.0,1.0,9.460115648006948,18.6323794311856,beta=,C=0.1.mat\n",
      "Train percent: 0.1\n",
      "Results, using embeddings of dimensionality 128\n",
      "-------------------\n",
      "Train percent: 0.1\n",
      "Average score: {'micro': 0.33762777492817353, 'macro': 0.1813943957689593}\n",
      "-------------------\n"
     ]
    },
    {
     "name": "stderr",
     "output_type": "stream",
     "text": [
      "[I 2019-05-14 17:51:29,353] Finished trial#8 resulted in value: -0.33762777492817353. Current best value is -0.33762777492817353 with parameters: {'weight0': 9.460115648006948, 'weight1': 18.6323794311856, 'alpha': 0.16122115138563098}.\n"
     ]
    },
    {
     "name": "stdout",
     "output_type": "stream",
     "text": [
      "{'projection_method': 'sparse', 'input_matrix': 'trans', 'weights': [1.0, 1.0, 7.615222769679816, 3.1503638025450793], 'normalization': True, 'dim': 128, 'alpha': -0.17824361402540512, 'C': 0.1}\n",
      "result/blog-dim=128,projection_method=sparse,input_matrix=trans,normalization=True,weights=1.0,1.0,7.615222769679816,3.1503638025450793,beta=,C=0.1.mat\n",
      "Train percent: 0.1\n",
      "Results, using embeddings of dimensionality 128\n",
      "-------------------\n",
      "Train percent: 0.1\n",
      "Average score: {'micro': 0.3159501606235153, 'macro': 0.175060123958073}\n",
      "-------------------\n"
     ]
    },
    {
     "name": "stderr",
     "output_type": "stream",
     "text": [
      "[I 2019-05-14 17:51:35,120] Finished trial#9 resulted in value: -0.3159501606235153. Current best value is -0.33762777492817353 with parameters: {'weight0': 9.460115648006948, 'weight1': 18.6323794311856, 'alpha': 0.16122115138563098}.\n"
     ]
    },
    {
     "name": "stdout",
     "output_type": "stream",
     "text": [
      "{'projection_method': 'sparse', 'input_matrix': 'trans', 'weights': [1.0, 1.0, 21.882336654723822, 15.216781858948583], 'normalization': True, 'dim': 128, 'alpha': -0.9301718074791868, 'C': 0.1}\n",
      "result/blog-dim=128,projection_method=sparse,input_matrix=trans,normalization=True,weights=1.0,1.0,21.882336654723822,15.216781858948583,beta=,C=0.1.mat\n",
      "Train percent: 0.1\n",
      "Results, using embeddings of dimensionality 128\n",
      "-------------------\n",
      "Train percent: 0.1\n",
      "Average score: {'micro': 0.32957573916196187, 'macro': 0.19100763750033203}\n",
      "-------------------\n"
     ]
    },
    {
     "name": "stderr",
     "output_type": "stream",
     "text": [
      "[I 2019-05-14 17:51:40,956] Finished trial#10 resulted in value: -0.32957573916196187. Current best value is -0.33762777492817353 with parameters: {'weight0': 9.460115648006948, 'weight1': 18.6323794311856, 'alpha': 0.16122115138563098}.\n"
     ]
    },
    {
     "name": "stdout",
     "output_type": "stream",
     "text": [
      "{'projection_method': 'sparse', 'input_matrix': 'trans', 'weights': [1.0, 1.0, 3.785690384317541, 12.351479756054923], 'normalization': True, 'dim': 128, 'alpha': 0.4019271806607666, 'C': 0.1}\n",
      "result/blog-dim=128,projection_method=sparse,input_matrix=trans,normalization=True,weights=1.0,1.0,3.785690384317541,12.351479756054923,beta=,C=0.1.mat\n",
      "Train percent: 0.1\n",
      "Results, using embeddings of dimensionality 128\n",
      "-------------------\n",
      "Train percent: 0.1\n",
      "Average score: {'micro': 0.3177622130090793, 'macro': 0.16703323786289467}\n",
      "-------------------\n"
     ]
    },
    {
     "name": "stderr",
     "output_type": "stream",
     "text": [
      "[I 2019-05-14 17:51:47,522] Finished trial#11 resulted in value: -0.3177622130090793. Current best value is -0.33762777492817353 with parameters: {'weight0': 9.460115648006948, 'weight1': 18.6323794311856, 'alpha': 0.16122115138563098}.\n"
     ]
    },
    {
     "name": "stdout",
     "output_type": "stream",
     "text": [
      "{'projection_method': 'sparse', 'input_matrix': 'trans', 'weights': [1.0, 1.0, 22.937861314623202, 58.287677942685356], 'normalization': True, 'dim': 128, 'alpha': 0.9906212699581559, 'C': 0.1}\n",
      "result/blog-dim=128,projection_method=sparse,input_matrix=trans,normalization=True,weights=1.0,1.0,22.937861314623202,58.287677942685356,beta=,C=0.1.mat\n",
      "Train percent: 0.1\n",
      "Results, using embeddings of dimensionality 128\n",
      "-------------------\n",
      "Train percent: 0.1\n",
      "Average score: {'micro': 0.326754376149251, 'macro': 0.16227681424910104}\n",
      "-------------------\n"
     ]
    },
    {
     "name": "stderr",
     "output_type": "stream",
     "text": [
      "[I 2019-05-14 17:51:54,334] Finished trial#12 resulted in value: -0.326754376149251. Current best value is -0.33762777492817353 with parameters: {'weight0': 9.460115648006948, 'weight1': 18.6323794311856, 'alpha': 0.16122115138563098}.\n"
     ]
    },
    {
     "name": "stdout",
     "output_type": "stream",
     "text": [
      "{'projection_method': 'sparse', 'input_matrix': 'trans', 'weights': [1.0, 1.0, 28.014645519676208, 52.24834617504067], 'normalization': True, 'dim': 128, 'alpha': -0.6101970991255321, 'C': 0.1}\n",
      "result/blog-dim=128,projection_method=sparse,input_matrix=trans,normalization=True,weights=1.0,1.0,28.014645519676208,52.24834617504067,beta=,C=0.1.mat\n",
      "Train percent: 0.1\n",
      "Results, using embeddings of dimensionality 128\n",
      "-------------------\n",
      "Train percent: 0.1\n",
      "Average score: {'micro': 0.3452306133589272, 'macro': 0.1968310938464546}\n",
      "-------------------\n"
     ]
    },
    {
     "name": "stderr",
     "output_type": "stream",
     "text": [
      "[I 2019-05-14 17:52:00,670] Finished trial#13 resulted in value: -0.3452306133589272. Current best value is -0.3452306133589272 with parameters: {'weight0': 28.014645519676208, 'weight1': 52.24834617504067, 'alpha': -0.6101970991255321}.\n"
     ]
    },
    {
     "name": "stdout",
     "output_type": "stream",
     "text": [
      "{'projection_method': 'sparse', 'input_matrix': 'trans', 'weights': [1.0, 1.0, 25.149569154084865, 60.675060944675124], 'normalization': True, 'dim': 128, 'alpha': -0.8502779918470449, 'C': 0.1}\n",
      "result/blog-dim=128,projection_method=sparse,input_matrix=trans,normalization=True,weights=1.0,1.0,25.149569154084865,60.675060944675124,beta=,C=0.1.mat\n",
      "Train percent: 0.1\n",
      "Results, using embeddings of dimensionality 128\n",
      "-------------------\n",
      "Train percent: 0.1\n",
      "Average score: {'micro': 0.35040977837448883, 'macro': 0.20282366795745163}\n",
      "-------------------\n"
     ]
    },
    {
     "name": "stderr",
     "output_type": "stream",
     "text": [
      "[I 2019-05-14 17:52:07,307] Finished trial#14 resulted in value: -0.35040977837448883. Current best value is -0.35040977837448883 with parameters: {'weight0': 25.149569154084865, 'weight1': 60.675060944675124, 'alpha': -0.8502779918470449}.\n"
     ]
    },
    {
     "name": "stdout",
     "output_type": "stream",
     "text": [
      "{'projection_method': 'sparse', 'input_matrix': 'trans', 'weights': [1.0, 1.0, 42.94026467792702, 9.28669371650092], 'normalization': True, 'dim': 128, 'alpha': -0.9891982654342047, 'C': 0.1}\n",
      "result/blog-dim=128,projection_method=sparse,input_matrix=trans,normalization=True,weights=1.0,1.0,42.94026467792702,9.28669371650092,beta=,C=0.1.mat\n",
      "Train percent: 0.1\n",
      "Results, using embeddings of dimensionality 128\n",
      "-------------------\n",
      "Train percent: 0.1\n",
      "Average score: {'micro': 0.30827766484017755, 'macro': 0.17837882532646723}\n",
      "-------------------\n"
     ]
    },
    {
     "name": "stderr",
     "output_type": "stream",
     "text": [
      "[I 2019-05-14 17:52:13,772] Finished trial#15 resulted in value: -0.30827766484017755. Current best value is -0.35040977837448883 with parameters: {'weight0': 25.149569154084865, 'weight1': 60.675060944675124, 'alpha': -0.8502779918470449}.\n"
     ]
    },
    {
     "name": "stdout",
     "output_type": "stream",
     "text": [
      "{'projection_method': 'sparse', 'input_matrix': 'trans', 'weights': [1.0, 1.0, 15.921662239075609, 62.79908192687322], 'normalization': True, 'dim': 128, 'alpha': -0.6447708273813206, 'C': 0.1}\n",
      "result/blog-dim=128,projection_method=sparse,input_matrix=trans,normalization=True,weights=1.0,1.0,15.921662239075609,62.79908192687322,beta=,C=0.1.mat\n",
      "Train percent: 0.1\n",
      "Results, using embeddings of dimensionality 128\n",
      "-------------------\n",
      "Train percent: 0.1\n",
      "Average score: {'micro': 0.3485717488247569, 'macro': 0.19489158011291843}\n",
      "-------------------\n"
     ]
    },
    {
     "name": "stderr",
     "output_type": "stream",
     "text": [
      "[I 2019-05-14 17:52:19,962] Finished trial#16 resulted in value: -0.3485717488247569. Current best value is -0.35040977837448883 with parameters: {'weight0': 25.149569154084865, 'weight1': 60.675060944675124, 'alpha': -0.8502779918470449}.\n"
     ]
    },
    {
     "name": "stdout",
     "output_type": "stream",
     "text": [
      "{'projection_method': 'sparse', 'input_matrix': 'trans', 'weights': [1.0, 1.0, 15.63057792712151, 61.636468673247926], 'normalization': True, 'dim': 128, 'alpha': -0.7012655391778975, 'C': 0.1}\n",
      "result/blog-dim=128,projection_method=sparse,input_matrix=trans,normalization=True,weights=1.0,1.0,15.63057792712151,61.636468673247926,beta=,C=0.1.mat\n",
      "Train percent: 0.1\n",
      "Results, using embeddings of dimensionality 128\n",
      "-------------------\n",
      "Train percent: 0.1\n",
      "Average score: {'micro': 0.3527985593175737, 'macro': 0.20265760416499176}\n",
      "-------------------\n"
     ]
    },
    {
     "name": "stderr",
     "output_type": "stream",
     "text": [
      "[I 2019-05-14 17:52:26,508] Finished trial#17 resulted in value: -0.3527985593175737. Current best value is -0.3527985593175737 with parameters: {'weight0': 15.63057792712151, 'weight1': 61.636468673247926, 'alpha': -0.7012655391778975}.\n"
     ]
    },
    {
     "name": "stdout",
     "output_type": "stream",
     "text": [
      "{'projection_method': 'sparse', 'input_matrix': 'trans', 'weights': [1.0, 1.0, 33.842175521708654, 45.39519458366125], 'normalization': True, 'dim': 128, 'alpha': -0.8736471800884, 'C': 0.1}\n",
      "result/blog-dim=128,projection_method=sparse,input_matrix=trans,normalization=True,weights=1.0,1.0,33.842175521708654,45.39519458366125,beta=,C=0.1.mat\n",
      "Train percent: 0.1\n",
      "Results, using embeddings of dimensionality 128\n",
      "-------------------\n",
      "Train percent: 0.1\n",
      "Average score: {'micro': 0.3383088151966791, 'macro': 0.1974177411691274}\n",
      "-------------------\n"
     ]
    },
    {
     "name": "stderr",
     "output_type": "stream",
     "text": [
      "[I 2019-05-14 17:52:32,256] Finished trial#18 resulted in value: -0.3383088151966791. Current best value is -0.3527985593175737 with parameters: {'weight0': 15.63057792712151, 'weight1': 61.636468673247926, 'alpha': -0.7012655391778975}.\n"
     ]
    },
    {
     "name": "stdout",
     "output_type": "stream",
     "text": [
      "{'projection_method': 'sparse', 'input_matrix': 'trans', 'weights': [1.0, 1.0, 14.863724812945465, 39.34173252810203], 'normalization': True, 'dim': 128, 'alpha': -0.43532130547377407, 'C': 0.1}\n",
      "result/blog-dim=128,projection_method=sparse,input_matrix=trans,normalization=True,weights=1.0,1.0,14.863724812945465,39.34173252810203,beta=,C=0.1.mat\n",
      "Train percent: 0.1\n",
      "Results, using embeddings of dimensionality 128\n",
      "-------------------\n",
      "Train percent: 0.1\n",
      "Average score: {'micro': 0.34877548123162855, 'macro': 0.19732370474684455}\n",
      "-------------------\n"
     ]
    },
    {
     "name": "stderr",
     "output_type": "stream",
     "text": [
      "[I 2019-05-14 17:52:38,528] Finished trial#19 resulted in value: -0.34877548123162855. Current best value is -0.3527985593175737 with parameters: {'weight0': 15.63057792712151, 'weight1': 61.636468673247926, 'alpha': -0.7012655391778975}.\n"
     ]
    },
    {
     "name": "stdout",
     "output_type": "stream",
     "text": [
      "{'projection_method': 'sparse', 'input_matrix': 'trans', 'weights': [1.0, 1.0, 18.96056424841842, 62.94812920427348], 'normalization': True, 'dim': 128, 'alpha': -0.7409692136256979, 'C': 0.1}\n",
      "result/blog-dim=128,projection_method=sparse,input_matrix=trans,normalization=True,weights=1.0,1.0,18.96056424841842,62.94812920427348,beta=,C=0.1.mat\n",
      "Train percent: 0.1\n",
      "Results, using embeddings of dimensionality 128\n",
      "-------------------\n",
      "Train percent: 0.1\n",
      "Average score: {'micro': 0.3503755339657113, 'macro': 0.19758564771657594}\n",
      "-------------------\n"
     ]
    },
    {
     "name": "stderr",
     "output_type": "stream",
     "text": [
      "[I 2019-05-14 17:52:45,668] Finished trial#20 resulted in value: -0.3503755339657113. Current best value is -0.3527985593175737 with parameters: {'weight0': 15.63057792712151, 'weight1': 61.636468673247926, 'alpha': -0.7012655391778975}.\n"
     ]
    },
    {
     "name": "stdout",
     "output_type": "stream",
     "text": [
      "{'projection_method': 'sparse', 'input_matrix': 'trans', 'weights': [1.0, 1.0, 4.97331151427295, 22.65014454474221], 'normalization': True, 'dim': 128, 'alpha': -0.3811018055790927, 'C': 0.1}\n",
      "result/blog-dim=128,projection_method=sparse,input_matrix=trans,normalization=True,weights=1.0,1.0,4.97331151427295,22.65014454474221,beta=,C=0.1.mat\n",
      "Train percent: 0.1\n",
      "Results, using embeddings of dimensionality 128\n",
      "-------------------\n",
      "Train percent: 0.1\n",
      "Average score: {'micro': 0.3408520707762559, 'macro': 0.185884668712375}\n",
      "-------------------\n"
     ]
    },
    {
     "name": "stderr",
     "output_type": "stream",
     "text": [
      "[I 2019-05-14 17:52:51,851] Finished trial#21 resulted in value: -0.3408520707762559. Current best value is -0.3527985593175737 with parameters: {'weight0': 15.63057792712151, 'weight1': 61.636468673247926, 'alpha': -0.7012655391778975}.\n"
     ]
    },
    {
     "name": "stdout",
     "output_type": "stream",
     "text": [
      "{'projection_method': 'sparse', 'input_matrix': 'trans', 'weights': [1.0, 1.0, 34.93628494937606, 37.330887061479935], 'normalization': True, 'dim': 128, 'alpha': -0.8386931831792931, 'C': 0.1}\n",
      "result/blog-dim=128,projection_method=sparse,input_matrix=trans,normalization=True,weights=1.0,1.0,34.93628494937606,37.330887061479935,beta=,C=0.1.mat\n",
      "Train percent: 0.1\n",
      "Results, using embeddings of dimensionality 128\n",
      "-------------------\n",
      "Train percent: 0.1\n",
      "Average score: {'micro': 0.3334249678777441, 'macro': 0.1942563980815214}\n",
      "-------------------\n"
     ]
    },
    {
     "ename": "KeyboardInterrupt",
     "evalue": "",
     "output_type": "error",
     "traceback": [
      "\u001b[0;31m---------------------------------------------------------------------------\u001b[0m",
      "\u001b[0;31mKeyboardInterrupt\u001b[0m                         Traceback (most recent call last)",
      "\u001b[0;32m<timed exec>\u001b[0m in \u001b[0;36m<module>\u001b[0;34m\u001b[0m\n",
      "\u001b[0;32m~/anaconda3/lib/python3.7/site-packages/optuna/study.py\u001b[0m in \u001b[0;36moptimize\u001b[0;34m(self, func, n_trials, timeout, n_jobs, catch)\u001b[0m\n\u001b[1;32m    209\u001b[0m \u001b[0;34m\u001b[0m\u001b[0m\n\u001b[1;32m    210\u001b[0m         \u001b[0;32mif\u001b[0m \u001b[0mn_jobs\u001b[0m \u001b[0;34m==\u001b[0m \u001b[0;36m1\u001b[0m\u001b[0;34m:\u001b[0m\u001b[0;34m\u001b[0m\u001b[0;34m\u001b[0m\u001b[0m\n\u001b[0;32m--> 211\u001b[0;31m             \u001b[0mself\u001b[0m\u001b[0;34m.\u001b[0m\u001b[0m_optimize_sequential\u001b[0m\u001b[0;34m(\u001b[0m\u001b[0mfunc\u001b[0m\u001b[0;34m,\u001b[0m \u001b[0mn_trials\u001b[0m\u001b[0;34m,\u001b[0m \u001b[0mtimeout\u001b[0m\u001b[0;34m,\u001b[0m \u001b[0mcatch\u001b[0m\u001b[0;34m)\u001b[0m\u001b[0;34m\u001b[0m\u001b[0;34m\u001b[0m\u001b[0m\n\u001b[0m\u001b[1;32m    212\u001b[0m         \u001b[0;32melse\u001b[0m\u001b[0;34m:\u001b[0m\u001b[0;34m\u001b[0m\u001b[0;34m\u001b[0m\u001b[0m\n\u001b[1;32m    213\u001b[0m             \u001b[0mself\u001b[0m\u001b[0;34m.\u001b[0m\u001b[0m_optimize_parallel\u001b[0m\u001b[0;34m(\u001b[0m\u001b[0mfunc\u001b[0m\u001b[0;34m,\u001b[0m \u001b[0mn_trials\u001b[0m\u001b[0;34m,\u001b[0m \u001b[0mtimeout\u001b[0m\u001b[0;34m,\u001b[0m \u001b[0mn_jobs\u001b[0m\u001b[0;34m,\u001b[0m \u001b[0mcatch\u001b[0m\u001b[0;34m)\u001b[0m\u001b[0;34m\u001b[0m\u001b[0;34m\u001b[0m\u001b[0m\n",
      "\u001b[0;32m~/anaconda3/lib/python3.7/site-packages/optuna/study.py\u001b[0m in \u001b[0;36m_optimize_sequential\u001b[0;34m(self, func, n_trials, timeout, catch)\u001b[0m\n\u001b[1;32m    323\u001b[0m                     \u001b[0;32mbreak\u001b[0m\u001b[0;34m\u001b[0m\u001b[0;34m\u001b[0m\u001b[0m\n\u001b[1;32m    324\u001b[0m \u001b[0;34m\u001b[0m\u001b[0m\n\u001b[0;32m--> 325\u001b[0;31m             \u001b[0mself\u001b[0m\u001b[0;34m.\u001b[0m\u001b[0m_run_trial\u001b[0m\u001b[0;34m(\u001b[0m\u001b[0mfunc\u001b[0m\u001b[0;34m,\u001b[0m \u001b[0mcatch\u001b[0m\u001b[0;34m)\u001b[0m\u001b[0;34m\u001b[0m\u001b[0;34m\u001b[0m\u001b[0m\n\u001b[0m\u001b[1;32m    326\u001b[0m \u001b[0;34m\u001b[0m\u001b[0m\n\u001b[1;32m    327\u001b[0m     def _optimize_parallel(\n",
      "\u001b[0;32m~/anaconda3/lib/python3.7/site-packages/optuna/study.py\u001b[0m in \u001b[0;36m_run_trial\u001b[0;34m(self, func, catch)\u001b[0m\n\u001b[1;32m    417\u001b[0m             \u001b[0;31m# Please refer to the following PR for further details:\u001b[0m\u001b[0;34m\u001b[0m\u001b[0;34m\u001b[0m\u001b[0;34m\u001b[0m\u001b[0m\n\u001b[1;32m    418\u001b[0m             \u001b[0;31m# https://github.com/pfnet/optuna/pull/325.\u001b[0m\u001b[0;34m\u001b[0m\u001b[0;34m\u001b[0m\u001b[0;34m\u001b[0m\u001b[0m\n\u001b[0;32m--> 419\u001b[0;31m             \u001b[0mgc\u001b[0m\u001b[0;34m.\u001b[0m\u001b[0mcollect\u001b[0m\u001b[0;34m(\u001b[0m\u001b[0;34m)\u001b[0m\u001b[0;34m\u001b[0m\u001b[0;34m\u001b[0m\u001b[0m\n\u001b[0m\u001b[1;32m    420\u001b[0m \u001b[0;34m\u001b[0m\u001b[0m\n\u001b[1;32m    421\u001b[0m         \u001b[0;32mtry\u001b[0m\u001b[0;34m:\u001b[0m\u001b[0;34m\u001b[0m\u001b[0;34m\u001b[0m\u001b[0m\n",
      "\u001b[0;31mKeyboardInterrupt\u001b[0m: "
     ]
    }
   ],
   "source": [
    "%%time\n",
    "\n",
    "def objective(trial):\n",
    "    order_range = 2\n",
    "    # Invoke suggest methods of a Trial object to generate hyperparameters.\n",
    "    weights = [trial.suggest_loguniform('weight' + str(order), 1.0, 64.0) for order in range(order_range)]\n",
    "    alpha = trial.suggest_uniform('alpha', -1.0, 1.0)\n",
    "    conf = {\n",
    "        'projection_method': 'sparse',\n",
    "        'input_matrix': 'trans',\n",
    "        'weights': [1.0, 1.0] + weights,\n",
    "        'normalization': True,\n",
    "        'dim': 128,\n",
    "        'alpha': alpha,\n",
    "        'C': 0.1\n",
    "    }\n",
    "    print(conf)\n",
    "    emb_filename = get_emb_filename(prefix, conf)\n",
    "    print (emb_filename)\n",
    "    # first check if this file already exists\n",
    "    path = Path(emb_filename)\n",
    "    if not path.is_file():\n",
    "        U = randne_wrapper(blog_A, conf)\n",
    "        savemat(emb_filename, {'emb': U})\n",
    "    else:\n",
    "        print ('File %s already exists, skipped.' % emb_filename)\n",
    "    f1_scores = scoring(\n",
    "        [\n",
    "            \"--emb\", emb_filename,\n",
    "            \"--network\",\"example_graphs/blogcatalog.mat\",\n",
    "            \"--num-shuffles\", \"3\",\n",
    "            \"--debug\",\n",
    "            \"--C\", str(conf['C']),\n",
    "            \"--training-percents\", \"10\",\n",
    "        ]\n",
    "    )\n",
    "    # there should only be one entry here\n",
    "    return -f1_scores[0]['micro']\n",
    "\n",
    "study = optuna.create_study()  # Create a new study.\n",
    "study.optimize(objective, n_trials=100)  # Invoke optimization of the objective function."
   ]
  },
  {
   "cell_type": "code",
   "execution_count": 64,
   "metadata": {},
   "outputs": [
    {
     "data": {
      "text/plain": [
       "{'weight0': 7.807609016526462,\n",
       " 'weight1': 45.28230103655809,\n",
       " 'alpha': -0.6280357321115495}"
      ]
     },
     "execution_count": 64,
     "metadata": {},
     "output_type": "execute_result"
    }
   ],
   "source": [
    "study.best_params"
   ]
  },
  {
   "cell_type": "code",
   "execution_count": 65,
   "metadata": {
    "scrolled": true
   },
   "outputs": [
    {
     "data": {
      "text/plain": [
       "-0.3572280985847538"
      ]
     },
     "execution_count": 65,
     "metadata": {},
     "output_type": "execute_result"
    }
   ],
   "source": [
    "study.best_value"
   ]
  },
  {
   "cell_type": "code",
   "execution_count": 105,
   "metadata": {},
   "outputs": [
    {
     "name": "stdout",
     "output_type": "stream",
     "text": [
      "result/blog-dim=512,projection_method=sparse,input_matrix=trans,normalization=True,weights=0.0,0.0,7.81,45.28,beta=,C=0.1.mat\n",
      "File result/blog-dim=512,projection_method=sparse,input_matrix=trans,normalization=True,weights=0.0,0.0,7.81,45.28,beta=,C=0.1.mat already exists, skipped.\n",
      "Train percent: 0.1\n",
      "Results, using embeddings of dimensionality 512\n",
      "-------------------\n",
      "Train percent: 0.1\n",
      "Average score: {'micro': 0.3751864306295708, 'macro': 0.22975171831712804}\n",
      "-------------------\n",
      "CPU times: user 1min 5s, sys: 2.86 s, total: 1min 7s\n",
      "Wall time: 24.2 s\n"
     ]
    }
   ],
   "source": [
    "%%time\n",
    "\n",
    "conf = {\n",
    "        'projection_method': 'sparse',\n",
    "        'input_matrix': 'trans',\n",
    "        'weights': [0.0, 0.0, 7.81, 45.28],\n",
    "        'normalization': True,\n",
    "        'dim': 512,\n",
    "        'alpha': -0.628,\n",
    "        'C': 0.1\n",
    "    }\n",
    "emb_filename = get_emb_filename(prefix, conf)\n",
    "print (emb_filename)\n",
    "# first check if this file already exists\n",
    "path = Path(emb_filename)\n",
    "if not path.is_file():\n",
    "    U = randne_wrapper(blog_A_70, conf)\n",
    "    savemat(emb_filename, {'emb': U})\n",
    "else:\n",
    "    print ('File %s already exists, skipped.' % emb_filename)\n",
    "f1_scores, result = scoring(\n",
    "    [\n",
    "        \"--emb\", emb_filename,\n",
    "        \"--network\",\"example_graphs/blogcatalog.mat\",\n",
    "        \"--num-shuffles\", \"5\",\n",
    "        \"--debug\",\n",
    "        \"--result\",\n",
    "        \"--C\", str(conf['C']),\n",
    "        \"--training-percents\",\n",
    "    ] + [str(p) for p in range(10, 20, 10)],\n",
    ")\n",
    "f1_scores"
   ]
  },
  {
   "cell_type": "code",
   "execution_count": 47,
   "metadata": {},
   "outputs": [],
   "source": [
    "labels_count = blog_labels.shape[1]\n",
    "mlb = MultiLabelBinarizer(range(labels_count))"
   ]
  },
  {
   "cell_type": "code",
   "execution_count": 49,
   "metadata": {},
   "outputs": [
    {
     "data": {
      "text/plain": [
       "0.228355566826923"
      ]
     },
     "execution_count": 49,
     "metadata": {},
     "output_type": "execute_result"
    }
   ],
   "source": [
    "x = f1_score(mlb.fit_transform(y_test), mlb.fit_transform(preds), average='macro')\n",
    "x"
   ]
  },
  {
   "cell_type": "code",
   "execution_count": 38,
   "metadata": {},
   "outputs": [],
   "source": [
    "(y_test, preds, indices_test) = result"
   ]
  },
  {
   "cell_type": "code",
   "execution_count": 43,
   "metadata": {},
   "outputs": [
    {
     "data": {
      "text/plain": [
       "[[4], [1], [1], [10]]"
      ]
     },
     "execution_count": 43,
     "metadata": {},
     "output_type": "execute_result"
    }
   ],
   "source": [
    "y_test[:4]"
   ]
  },
  {
   "cell_type": "code",
   "execution_count": 44,
   "metadata": {},
   "outputs": [
    {
     "data": {
      "text/plain": [
       "[[4], [5], [1], [10]]"
      ]
     },
     "execution_count": 44,
     "metadata": {},
     "output_type": "execute_result"
    }
   ],
   "source": [
    "preds[:4]"
   ]
  },
  {
   "cell_type": "code",
   "execution_count": 70,
   "metadata": {
    "collapsed": true
   },
   "outputs": [
    {
     "name": "stdout",
     "output_type": "stream",
     "text": [
      "result/blog-dim=512,projection_method=sparse,input_matrix=trans,normalization=True,weights=1.0,1.0,7.81,45.28,alpha=-0.628,C=0.1.mat\n",
      "File result/blog-dim=512,projection_method=sparse,input_matrix=trans,normalization=True,weights=1.0,1.0,7.81,45.28,alpha=-0.628,C=0.1.mat already exists, skipped.\n",
      "Train percent: 0.1\n",
      "Train percent: 0.2\n",
      "Train percent: 0.3\n",
      "Train percent: 0.4\n",
      "Train percent: 0.5\n",
      "Train percent: 0.6\n",
      "Train percent: 0.7000000000000001\n",
      "Train percent: 0.8\n",
      "Train percent: 0.9\n",
      "Results, using embeddings of dimensionality 512\n",
      "-------------------\n",
      "Train percent: 0.1\n",
      "Average score: {'micro': 0.3710668138287513, 'macro': 0.2315109317900343}\n",
      "-------------------\n",
      "Train percent: 0.2\n",
      "Average score: {'micro': 0.385981757405288, 'macro': 0.24859995274320168}\n",
      "-------------------\n",
      "Train percent: 0.3\n",
      "Average score: {'micro': 0.3923432215400081, 'macro': 0.2596759611974167}\n",
      "-------------------\n",
      "Train percent: 0.4\n",
      "Average score: {'micro': 0.3995747775381412, 'macro': 0.26698977271665997}\n",
      "-------------------\n",
      "Train percent: 0.5\n",
      "Average score: {'micro': 0.4079051133850135, 'macro': 0.27971330753049795}\n",
      "-------------------\n",
      "Train percent: 0.6\n",
      "Average score: {'micro': 0.40927295184688967, 'macro': 0.2798933242144902}\n",
      "-------------------\n",
      "Train percent: 0.7000000000000001\n",
      "Average score: {'micro': 0.41637207623641415, 'macro': 0.29101502826342207}\n",
      "-------------------\n",
      "Train percent: 0.8\n",
      "Average score: {'micro': 0.4180788484841808, 'macro': 0.29455504586220865}\n",
      "-------------------\n",
      "Train percent: 0.9\n",
      "Average score: {'micro': 0.42506607637725874, 'macro': 0.2964951334240474}\n",
      "-------------------\n",
      "CPU times: user 38min 20s, sys: 4.52 s, total: 38min 24s\n",
      "Wall time: 32min 59s\n"
     ]
    }
   ],
   "source": [
    "%%time\n",
    "\n",
    "conf = {\n",
    "        'projection_method': 'sparse',\n",
    "        'input_matrix': 'trans',\n",
    "        'weights': [1.0, 1.0, 7.81, 45.28],\n",
    "        'normalization': True,\n",
    "        'dim': 512,\n",
    "        'alpha': -0.628,\n",
    "        'C': 0.1\n",
    "    }\n",
    "emb_filename = get_emb_filename(prefix, conf)\n",
    "print (emb_filename)\n",
    "# first check if this file already exists\n",
    "path = Path(emb_filename)\n",
    "if not path.is_file():\n",
    "    U = randne_wrapper(blog_A, conf)\n",
    "    savemat(emb_filename, {'emb': U})\n",
    "else:\n",
    "    print ('File %s already exists, skipped.' % emb_filename)\n",
    "f1_scores = scoring(\n",
    "    [\n",
    "        \"--emb\", emb_filename,\n",
    "        \"--network\",\"example_graphs/blogcatalog.mat\",\n",
    "        \"--num-shuffles\", \"5\",\n",
    "        \"--debug\",\n",
    "        \"--C\", str(conf['C']),\n",
    "        \"--training-percents\",\n",
    "    ] + [str(p) for p in range(10, 100, 10)],\n",
    ")\n",
    "f1_scores"
   ]
  },
  {
   "cell_type": "markdown",
   "metadata": {},
   "source": [
    "# DeepWalk"
   ]
  },
  {
   "cell_type": "markdown",
   "metadata": {},
   "source": [
    "Run the following command in shell:"
   ]
  },
  {
   "cell_type": "code",
   "execution_count": null,
   "metadata": {},
   "outputs": [],
   "source": [
    "nohup time deepwalk --format mat --input example_graphs/blogcatalog.mat \\\n",
    "--max-memory-data-size 0 --number-walks 80 --representation-size 128 --walk-length 40 --window-size 10 \\\n",
    "--workers 28 --output example_graphs/blogcatalog.emb &"
   ]
  },
  {
   "cell_type": "code",
   "execution_count": null,
   "metadata": {},
   "outputs": [],
   "source": [
    "%%time\n",
    "dw_f1_scores = scoring(\n",
    "    [\n",
    "        \"--emb\", \"/home/hcchen/deepwalk/example_graphs/youtube.emb\",\n",
    "        \"--network\",\"example_graphs/youtube.mat\",\n",
    "        \"--num-shuffles\", \"5\",\n",
    "        \"--debug\",\n",
    "        \"--C\", \"1.0\",\n",
    "        \"--training-percents\",\n",
    "    ] + [str(p) for p in range(1, 10)]\n",
    ")\n",
    "dw_f1_scores"
   ]
  },
  {
   "cell_type": "markdown",
   "metadata": {},
   "source": [
    "# Classification Result Breakdown"
   ]
  },
  {
   "cell_type": "markdown",
   "metadata": {},
   "source": [
    "# RandNE"
   ]
  },
  {
   "cell_type": "code",
   "execution_count": 425,
   "metadata": {},
   "outputs": [
    {
     "data": {
      "text/plain": [
       "0"
      ]
     },
     "execution_count": 425,
     "metadata": {},
     "output_type": "execute_result"
    }
   ],
   "source": [
    "os.system('python3 /mnt/store2/fahad/RandNE-Python/src/randne.py --input /home/fahad/fast-random-projection/result/blogcatalog_70.mat \\\n",
    "--output /home/fahad/fast-random-projection/result/blog-randne-emb_70.mat \\\n",
    "--use-trans-matrix -q 3 -d 512 --weights 1 100 1000')"
   ]
  },
  {
   "cell_type": "code",
   "execution_count": null,
   "metadata": {},
   "outputs": [],
   "source": []
  },
  {
   "cell_type": "code",
   "execution_count": 9,
   "metadata": {
    "collapsed": true
   },
   "outputs": [
    {
     "name": "stdout",
     "output_type": "stream",
     "text": [
      "Shape:  (10312, 512)\n",
      "Train percent: 0.1\n",
      "Train percent: 0.2\n",
      "Train percent: 0.3\n",
      "Train percent: 0.4\n",
      "Train percent: 0.5\n",
      "Train percent: 0.6\n",
      "Train percent: 0.7000000000000001\n",
      "Train percent: 0.8\n",
      "Train percent: 0.9\n",
      "Results, using embeddings of dimensionality 512\n",
      "-------------------\n",
      "Train percent: 0.1\n",
      "Average score: {'micro': 0.3385352110064831, 'macro': 0.20876822244386956}\n",
      "-------------------\n",
      "Train percent: 0.2\n",
      "Average score: {'micro': 0.35823398182675614, 'macro': 0.23121345760670642}\n",
      "-------------------\n",
      "Train percent: 0.3\n",
      "Average score: {'micro': 0.3716429726123654, 'macro': 0.24612310059441364}\n",
      "-------------------\n",
      "Train percent: 0.4\n",
      "Average score: {'micro': 0.38175652894989, 'macro': 0.2540813403943384}\n",
      "-------------------\n",
      "Train percent: 0.5\n",
      "Average score: {'micro': 0.38617265642373544, 'macro': 0.25883527270272333}\n",
      "-------------------\n",
      "Train percent: 0.6\n",
      "Average score: {'micro': 0.39452065914503787, 'macro': 0.2689658934746254}\n",
      "-------------------\n",
      "Train percent: 0.7000000000000001\n",
      "Average score: {'micro': 0.4002016678995253, 'macro': 0.2721048131721807}\n",
      "-------------------\n",
      "Train percent: 0.8\n",
      "Average score: {'micro': 0.4037946224157122, 'macro': 0.27591738737486}\n",
      "-------------------\n",
      "Train percent: 0.9\n",
      "Average score: {'micro': 0.4064141589986926, 'macro': 0.2720388786727925}\n",
      "-------------------\n"
     ]
    },
    {
     "data": {
      "text/plain": [
       "[defaultdict(float,\n",
       "             {'micro': 0.3385352110064831,\n",
       "              'macro': 0.20876822244386956,\n",
       "              'training': 0.1}),\n",
       " defaultdict(float,\n",
       "             {'micro': 0.35823398182675614,\n",
       "              'macro': 0.23121345760670642,\n",
       "              'training': 0.2}),\n",
       " defaultdict(float,\n",
       "             {'micro': 0.3716429726123654,\n",
       "              'macro': 0.24612310059441364,\n",
       "              'training': 0.3}),\n",
       " defaultdict(float,\n",
       "             {'micro': 0.38175652894989,\n",
       "              'macro': 0.2540813403943384,\n",
       "              'training': 0.4}),\n",
       " defaultdict(float,\n",
       "             {'micro': 0.38617265642373544,\n",
       "              'macro': 0.25883527270272333,\n",
       "              'training': 0.5}),\n",
       " defaultdict(float,\n",
       "             {'micro': 0.39452065914503787,\n",
       "              'macro': 0.2689658934746254,\n",
       "              'training': 0.6}),\n",
       " defaultdict(float,\n",
       "             {'micro': 0.4002016678995253,\n",
       "              'macro': 0.2721048131721807,\n",
       "              'training': 0.7000000000000001}),\n",
       " defaultdict(float,\n",
       "             {'micro': 0.4037946224157122,\n",
       "              'macro': 0.27591738737486,\n",
       "              'training': 0.8}),\n",
       " defaultdict(float,\n",
       "             {'micro': 0.4064141589986926,\n",
       "              'macro': 0.2720388786727925,\n",
       "              'training': 0.9})]"
      ]
     },
     "execution_count": 9,
     "metadata": {},
     "output_type": "execute_result"
    }
   ],
   "source": [
    "randne_f1_scores = scoring(\n",
    "    [\n",
    "        \"--emb\", \"result/blog-randne-emb.mat\",\n",
    "        \"--network\",\"example_graphs/blogcatalog.mat\",\n",
    "        \"--num-shuffles\", \"5\",\n",
    "        \"--debug\",\n",
    "        \"--C\", \"1.0\",\n",
    "        \"--training-percents\",\n",
    "    ] + [str(p) for p in range(10, 100, 10)],\n",
    ")\n",
    "randne_f1_scores"
   ]
  }
 ],
 "metadata": {
  "kernelspec": {
   "display_name": "Python 3",
   "language": "python",
   "name": "python3"
  },
  "language_info": {
   "codemirror_mode": {
    "name": "ipython",
    "version": 3
   },
   "file_extension": ".py",
   "mimetype": "text/x-python",
   "name": "python",
   "nbconvert_exporter": "python",
   "pygments_lexer": "ipython3",
   "version": "3.7.1"
  }
 },
 "nbformat": 4,
 "nbformat_minor": 2
}
