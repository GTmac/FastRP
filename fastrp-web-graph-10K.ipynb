{
 "cells": [
  {
   "cell_type": "markdown",
   "metadata": {},
   "source": [
    "# Init"
   ]
  },
  {
   "cell_type": "code",
   "execution_count": 1,
   "metadata": {},
   "outputs": [],
   "source": [
    "%matplotlib inline\n",
    "\n",
    "import csv\n",
    "import datetime\n",
    "import json\n",
    "import matplotlib\n",
    "import time\n",
    "import logging\n",
    "import sys\n",
    "import sqlite3\n",
    "import os\n",
    "import random\n",
    "\n",
    "import gensim\n",
    "\n",
    "import pandas as pd\n",
    "import numpy as np\n",
    "import networkx as nx\n",
    "import matplotlib.pyplot as plt\n",
    "import seaborn as sns\n",
    "\n",
    "from tqdm import tqdm_notebook as tqdm\n",
    "from collections import Counter, defaultdict\n",
    "\n",
    "from sklearn.manifold import TSNE\n",
    "from gensim.models import Word2Vec, KeyedVectors\n",
    "from scipy.sparse import coo_matrix, csr_matrix\n",
    "from scipy.io import loadmat, savemat\n",
    "from sklearn.metrics.pairwise import cosine_similarity\n",
    "from sklearn.preprocessing import normalize"
   ]
  },
  {
   "cell_type": "code",
   "execution_count": 2,
   "metadata": {},
   "outputs": [],
   "source": [
    "from scoring import scoring\n",
    "from fastrp import *"
   ]
  },
  {
   "cell_type": "code",
   "execution_count": 3,
   "metadata": {},
   "outputs": [],
   "source": [
    "# to ignore sklearn warning\n",
    "def warn(*args, **kwargs):\n",
    "    pass\n",
    "import warnings\n",
    "warnings.warn = warn\n",
    "warnings.filterwarnings(\"ignore\", category=RuntimeWarning) "
   ]
  },
  {
   "cell_type": "code",
   "execution_count": 4,
   "metadata": {},
   "outputs": [],
   "source": [
    "%load_ext autoreload\n",
    "%autoreload 2"
   ]
  },
  {
   "cell_type": "code",
   "execution_count": 5,
   "metadata": {},
   "outputs": [],
   "source": [
    "from jupyter_client import find_connection_file"
   ]
  },
  {
   "cell_type": "code",
   "execution_count": 6,
   "metadata": {},
   "outputs": [
    {
     "data": {
      "text/plain": [
       "'/run/user/2002/jupyter/kernel-82b8824a-9e0f-4a2f-a255-3664d0160698.json'"
      ]
     },
     "execution_count": 6,
     "metadata": {},
     "output_type": "execute_result"
    }
   ],
   "source": [
    "find_connection_file()"
   ]
  },
  {
   "cell_type": "code",
   "execution_count": 7,
   "metadata": {},
   "outputs": [],
   "source": [
    "matplotlib.style.use('ggplot')\n",
    "sns.set(color_codes=True)"
   ]
  },
  {
   "cell_type": "markdown",
   "metadata": {},
   "source": [
    "# Read Data"
   ]
  },
  {
   "cell_type": "code",
   "execution_count": 8,
   "metadata": {
    "scrolled": false
   },
   "outputs": [
    {
     "name": "stdout",
     "output_type": "stream",
     "text": [
      "10k-classification.mat  edges.txt  ranks.txt  vertices.txt\r\n"
     ]
    }
   ],
   "source": [
    "ls /mnt/store1/hcchen/www-network"
   ]
  },
  {
   "cell_type": "code",
   "execution_count": 9,
   "metadata": {},
   "outputs": [],
   "source": [
    "data_dir = '/mnt/store1/hcchen/www-network/'\n",
    "rank_fname = 'ranks.txt'\n",
    "edges_fname = 'edges.txt'\n",
    "vertices_fname = 'vertices.txt'"
   ]
  },
  {
   "cell_type": "markdown",
   "metadata": {},
   "source": [
    "Get node to ID mapping:"
   ]
  },
  {
   "cell_type": "code",
   "execution_count": 11,
   "metadata": {},
   "outputs": [
    {
     "data": {
      "application/vnd.jupyter.widget-view+json": {
       "model_id": "2a695746e5c94c40ba37152ee09f64fc",
       "version_major": 2,
       "version_minor": 0
      },
      "text/plain": [
       "HBox(children=(IntProgress(value=0, max=387806511), HTML(value='')))"
      ]
     },
     "metadata": {},
     "output_type": "display_data"
    },
    {
     "name": "stdout",
     "output_type": "stream",
     "text": [
      "\n",
      "CPU times: user 8min, sys: 1min 21s, total: 9min 21s\n",
      "Wall time: 9min 5s\n"
     ]
    }
   ],
   "source": [
    "%%time\n",
    "node_to_id = {}\n",
    "with open(os.path.join(data_dir, vertices_fname), 'r') as fp:\n",
    "    reader = csv.reader(fp, delimiter='\\t')\n",
    "    for row in tqdm(reader, total=387806511):\n",
    "        node_to_id[row[1]] = row[0]"
   ]
  },
  {
   "cell_type": "markdown",
   "metadata": {},
   "source": [
    "Filter based on harmony centrality:"
   ]
  },
  {
   "cell_type": "code",
   "execution_count": 12,
   "metadata": {},
   "outputs": [],
   "source": [
    "K = 10000"
   ]
  },
  {
   "cell_type": "code",
   "execution_count": 13,
   "metadata": {},
   "outputs": [
    {
     "name": "stdout",
     "output_type": "stream",
     "text": [
      "CPU times: user 37.3 ms, sys: 31.7 ms, total: 69 ms\n",
      "Wall time: 96.6 ms\n"
     ]
    }
   ],
   "source": [
    "%%time\n",
    "node_set = set()\n",
    "\n",
    "with open(os.path.join(data_dir, rank_fname)) as fp:\n",
    "    reader = csv.DictReader(fp, delimiter='\\t')\n",
    "    for i, row in enumerate(reader):\n",
    "        if i >= K:\n",
    "            break\n",
    "        node_set.add(node_to_id[row['#host_rev']])"
   ]
  },
  {
   "cell_type": "markdown",
   "metadata": {},
   "source": [
    "This mapping is huge, so we are going to only take the relevant part later (i.e. for top-K nodes)."
   ]
  },
  {
   "cell_type": "code",
   "execution_count": 14,
   "metadata": {},
   "outputs": [
    {
     "name": "stdout",
     "output_type": "stream",
     "text": [
      "CPU times: user 1min 8s, sys: 29.3 s, total: 1min 37s\n",
      "Wall time: 1min 37s\n"
     ]
    }
   ],
   "source": [
    "%time node_to_id = {node: id for node, id in node_to_id.items() if id in node_set}"
   ]
  },
  {
   "cell_type": "code",
   "execution_count": 15,
   "metadata": {},
   "outputs": [
    {
     "name": "stdout",
     "output_type": "stream",
     "text": [
      "CPU times: user 5.28 ms, sys: 7.5 ms, total: 12.8 ms\n",
      "Wall time: 12.7 ms\n"
     ]
    }
   ],
   "source": [
    "%time id_to_node = {id: node for node, id in node_to_id.items()}"
   ]
  },
  {
   "cell_type": "markdown",
   "metadata": {},
   "source": [
    "The goal is to choose the subgraph with only the top-K most important nodes:"
   ]
  },
  {
   "cell_type": "code",
   "execution_count": 16,
   "metadata": {
    "scrolled": true
   },
   "outputs": [
    {
     "name": "stdout",
     "output_type": "stream",
     "text": [
      "#hc_pos\t#hc_val\t#pr_pos\t#pr_val\t#host_rev\n",
      "1\t38039408\t1\t0.00775205006207982\tcom.facebook\n",
      "2\t34958084\t3\t0.00428814229894441\tcom.twitter\n",
      "3\t33540440\t2\t0.00540973218887675\tcom.googleapis.fonts\n",
      "4\t32887486\t4\t0.00286280981132588\tcom.youtube\n",
      "5\t31128886\t7\t0.00167971398905038\tcom.google.plus\n"
     ]
    }
   ],
   "source": [
    "with open(os.path.join(data_dir, rank_fname), 'r') as fp:\n",
    "    for i, row in enumerate(fp):\n",
    "        print (row, end=\"\")\n",
    "        if i >= 5:\n",
    "            break"
   ]
  },
  {
   "cell_type": "markdown",
   "metadata": {},
   "source": [
    "Construct the subgraph consisting of top-K nodes: (this is slow, taking ~30min)"
   ]
  },
  {
   "cell_type": "code",
   "execution_count": 58,
   "metadata": {},
   "outputs": [
    {
     "data": {
      "application/vnd.jupyter.widget-view+json": {
       "model_id": "ba2538d7d8d14766a1ab1cce10447cd0",
       "version_major": 2,
       "version_minor": 0
      },
      "text/plain": [
       "HBox(children=(IntProgress(value=0, max=2504610000), HTML(value='')))"
      ]
     },
     "metadata": {},
     "output_type": "display_data"
    },
    {
     "ename": "KeyboardInterrupt",
     "evalue": "",
     "output_type": "error",
     "traceback": [
      "\u001b[0;31m---------------------------------------------------------------------------\u001b[0m",
      "\u001b[0;31mKeyboardInterrupt\u001b[0m                         Traceback (most recent call last)",
      "\u001b[0;32m<ipython-input-58-5a3753c88168>\u001b[0m in \u001b[0;36m<module>\u001b[0;34m\u001b[0m\n\u001b[1;32m      3\u001b[0m \u001b[0;32mwith\u001b[0m \u001b[0mopen\u001b[0m\u001b[0;34m(\u001b[0m\u001b[0mos\u001b[0m\u001b[0;34m.\u001b[0m\u001b[0mpath\u001b[0m\u001b[0;34m.\u001b[0m\u001b[0mjoin\u001b[0m\u001b[0;34m(\u001b[0m\u001b[0mdata_dir\u001b[0m\u001b[0;34m,\u001b[0m \u001b[0medges_fname\u001b[0m\u001b[0;34m)\u001b[0m\u001b[0;34m)\u001b[0m \u001b[0;32mas\u001b[0m \u001b[0mfp\u001b[0m\u001b[0;34m:\u001b[0m\u001b[0;34m\u001b[0m\u001b[0;34m\u001b[0m\u001b[0m\n\u001b[1;32m      4\u001b[0m     \u001b[0;32mfor\u001b[0m \u001b[0mline\u001b[0m \u001b[0;32min\u001b[0m \u001b[0mtqdm\u001b[0m\u001b[0;34m(\u001b[0m\u001b[0mfp\u001b[0m\u001b[0;34m,\u001b[0m \u001b[0mtotal\u001b[0m\u001b[0;34m=\u001b[0m\u001b[0;36m2504610000\u001b[0m\u001b[0;34m)\u001b[0m\u001b[0;34m:\u001b[0m\u001b[0;34m\u001b[0m\u001b[0;34m\u001b[0m\u001b[0m\n\u001b[0;32m----> 5\u001b[0;31m         \u001b[0mrow\u001b[0m \u001b[0;34m=\u001b[0m \u001b[0mline\u001b[0m\u001b[0;34m.\u001b[0m\u001b[0mstrip\u001b[0m\u001b[0;34m(\u001b[0m\u001b[0;34m)\u001b[0m\u001b[0;34m.\u001b[0m\u001b[0msplit\u001b[0m\u001b[0;34m(\u001b[0m\u001b[0;34m'\\t'\u001b[0m\u001b[0;34m)\u001b[0m\u001b[0;34m\u001b[0m\u001b[0;34m\u001b[0m\u001b[0m\n\u001b[0m\u001b[1;32m      6\u001b[0m         \u001b[0;32mif\u001b[0m \u001b[0mrow\u001b[0m\u001b[0;34m[\u001b[0m\u001b[0;36m0\u001b[0m\u001b[0;34m]\u001b[0m \u001b[0;32min\u001b[0m \u001b[0mnode_set\u001b[0m \u001b[0;32mand\u001b[0m \u001b[0mrow\u001b[0m\u001b[0;34m[\u001b[0m\u001b[0;36m1\u001b[0m\u001b[0;34m]\u001b[0m \u001b[0;32min\u001b[0m \u001b[0mnode_set\u001b[0m\u001b[0;34m:\u001b[0m\u001b[0;34m\u001b[0m\u001b[0;34m\u001b[0m\u001b[0m\n\u001b[1;32m      7\u001b[0m             \u001b[0;31m# print (id_to_node[row[0]], id_to_node[row[1]])\u001b[0m\u001b[0;34m\u001b[0m\u001b[0;34m\u001b[0m\u001b[0;34m\u001b[0m\u001b[0m\n",
      "\u001b[0;31mKeyboardInterrupt\u001b[0m: "
     ]
    }
   ],
   "source": [
    "G = nx.Graph()\n",
    "\n",
    "with open(os.path.join(data_dir, edges_fname)) as fp:\n",
    "    for line in tqdm(fp, total=2504610000):\n",
    "        row = line.strip().split('\\t')\n",
    "        if row[0] in node_set and row[1] in node_set:\n",
    "            # print (id_to_node[row[0]], id_to_node[row[1]])\n",
    "            G.add_edge(row[0], row[1])"
   ]
  },
  {
   "cell_type": "code",
   "execution_count": null,
   "metadata": {},
   "outputs": [],
   "source": [
    "nx.write_adjlist(G, open('network-10k.adjlist', 'wb'))"
   ]
  },
  {
   "cell_type": "markdown",
   "metadata": {},
   "source": [
    "**Note: we need additional post-processing to remove some unnecessary content in the adj list file!!**"
   ]
  },
  {
   "cell_type": "markdown",
   "metadata": {},
   "source": [
    "But it seems that even without post-processing our algorithm is working well. Weird :-)"
   ]
  },
  {
   "cell_type": "markdown",
   "metadata": {},
   "source": [
    "# DeepWalk"
   ]
  },
  {
   "cell_type": "markdown",
   "metadata": {},
   "source": [
    "We run the following command in terminal:"
   ]
  },
  {
   "cell_type": "code",
   "execution_count": null,
   "metadata": {},
   "outputs": [],
   "source": [
    "deepwalk --format adjlist --input network-10k.adjlist \\\n",
    "--max-memory-data-size 0 --number-walks 80 --representation-size 128 --walk-length 40 --window-size 10 \\\n",
    "--workers 38 --output www-network/10k.embeddings"
   ]
  },
  {
   "cell_type": "markdown",
   "metadata": {},
   "source": [
    "# Construct Dataset"
   ]
  },
  {
   "cell_type": "markdown",
   "metadata": {},
   "source": [
    "Read the 10K graph from file:"
   ]
  },
  {
   "cell_type": "code",
   "execution_count": 341,
   "metadata": {},
   "outputs": [],
   "source": [
    "G = nx.read_adjlist('/mnt/store1/hcchen/ws/large-network-embeddings/www-network/network-10k.adjlist')"
   ]
  },
  {
   "cell_type": "code",
   "execution_count": 342,
   "metadata": {},
   "outputs": [
    {
     "data": {
      "text/plain": [
       "10000"
      ]
     },
     "execution_count": 342,
     "metadata": {},
     "output_type": "execute_result"
    }
   ],
   "source": [
    "G.number_of_nodes()"
   ]
  },
  {
   "cell_type": "markdown",
   "metadata": {},
   "source": [
    "First, we need to map the nodes to range of 0 -> N - 1:"
   ]
  },
  {
   "cell_type": "code",
   "execution_count": 27,
   "metadata": {},
   "outputs": [],
   "source": [
    "node_to_matid = {node: index for index, node in enumerate(G.nodes())}\n",
    "matid_to_node = {index: node for index, node in enumerate(G.nodes())}"
   ]
  },
  {
   "cell_type": "markdown",
   "metadata": {},
   "source": [
    "Construct a sparse matrix from the adj list:"
   ]
  },
  {
   "cell_type": "code",
   "execution_count": 343,
   "metadata": {
    "scrolled": true
   },
   "outputs": [
    {
     "name": "stdout",
     "output_type": "stream",
     "text": [
      "CPU times: user 3.21 s, sys: 204 ms, total: 3.42 s\n",
      "Wall time: 3.42 s\n"
     ]
    }
   ],
   "source": [
    "%%time\n",
    "rows, cols = [], []\n",
    "\n",
    "for node in G.nodes():\n",
    "    u = node_to_matid[node]\n",
    "    for adj_node in G[node]:\n",
    "        v = node_to_matid[adj_node]\n",
    "        rows.append(u)\n",
    "        cols.append(v)"
   ]
  },
  {
   "cell_type": "code",
   "execution_count": 344,
   "metadata": {},
   "outputs": [],
   "source": [
    "A = csr_matrix( ([1.0] * len(rows), (rows, cols)), shape=(G.number_of_nodes(), G.number_of_nodes()) )"
   ]
  },
  {
   "cell_type": "code",
   "execution_count": 345,
   "metadata": {},
   "outputs": [
    {
     "data": {
      "text/plain": [
       "<10000x10000 sparse matrix of type '<class 'numpy.float64'>'\n",
       "\twith 7809220 stored elements in Compressed Sparse Row format>"
      ]
     },
     "execution_count": 345,
     "metadata": {},
     "output_type": "execute_result"
    }
   ],
   "source": [
    "A"
   ]
  },
  {
   "cell_type": "markdown",
   "metadata": {},
   "source": [
    "## Construct Class Labels for the Dataset"
   ]
  },
  {
   "cell_type": "markdown",
   "metadata": {},
   "source": [
    "Here, we take the domain extensions as labels of nodes:"
   ]
  },
  {
   "cell_type": "code",
   "execution_count": 31,
   "metadata": {},
   "outputs": [],
   "source": [
    "node_to_label = {node: id_to_node[node].split('.')[0] for node in node_set}"
   ]
  },
  {
   "cell_type": "code",
   "execution_count": 32,
   "metadata": {},
   "outputs": [],
   "source": [
    "label_counts = Counter(node_to_label.values())"
   ]
  },
  {
   "cell_type": "code",
   "execution_count": 317,
   "metadata": {},
   "outputs": [],
   "source": [
    "K_label = 50"
   ]
  },
  {
   "cell_type": "code",
   "execution_count": 318,
   "metadata": {
    "scrolled": false
   },
   "outputs": [
    {
     "data": {
      "text/plain": [
       "50"
      ]
     },
     "execution_count": 318,
     "metadata": {},
     "output_type": "execute_result"
    }
   ],
   "source": [
    "# K_label = len(label_counts)\n",
    "K_label"
   ]
  },
  {
   "cell_type": "markdown",
   "metadata": {},
   "source": [
    "Distribution of (the most common) labels among top 10k websites:"
   ]
  },
  {
   "cell_type": "code",
   "execution_count": 319,
   "metadata": {},
   "outputs": [],
   "source": [
    "top_label_counts = sorted(label_counts.items(), key=lambda x: -x[1])[:K_label]"
   ]
  },
  {
   "cell_type": "code",
   "execution_count": 320,
   "metadata": {},
   "outputs": [
    {
     "data": {
      "text/plain": [
       "[('com', 6413),\n",
       " ('org', 1289),\n",
       " ('edu', 368),\n",
       " ('net', 323),\n",
       " ('gov', 257),\n",
       " ('uk', 243),\n",
       " ('jp', 130),\n",
       " ('de', 89),\n",
       " ('ca', 86),\n",
       " ('au', 72),\n",
       " ('br', 48),\n",
       " ('fr', 46),\n",
       " ('it', 38),\n",
       " ('tv', 36),\n",
       " ('es', 36),\n",
       " ('ru', 34),\n",
       " ('us', 34),\n",
       " ('me', 33),\n",
       " ('ch', 21),\n",
       " ('co', 17),\n",
       " ('nl', 17),\n",
       " ('nz', 16),\n",
       " ('io', 15),\n",
       " ('info', 15),\n",
       " ('eu', 14),\n",
       " ('int', 14),\n",
       " ('fm', 13),\n",
       " ('se', 12),\n",
       " ('ly', 11),\n",
       " ('mx', 11),\n",
       " ('cn', 11),\n",
       " ('no', 9),\n",
       " ('at', 9),\n",
       " ('cc', 8),\n",
       " ('in', 8),\n",
       " ('ar', 8),\n",
       " ('mil', 8),\n",
       " ('pl', 8),\n",
       " ('dk', 7),\n",
       " ('ie', 7),\n",
       " ('gr', 7),\n",
       " ('be', 7),\n",
       " ('il', 5),\n",
       " ('za', 5),\n",
       " ('ph', 5),\n",
       " ('fi', 5),\n",
       " ('kr', 5),\n",
       " ('to', 5),\n",
       " ('ms', 4),\n",
       " ('pe', 4)]"
      ]
     },
     "execution_count": 320,
     "metadata": {},
     "output_type": "execute_result"
    }
   ],
   "source": [
    "top_label_counts"
   ]
  },
  {
   "cell_type": "code",
   "execution_count": 321,
   "metadata": {},
   "outputs": [],
   "source": [
    "top_labels, top_counts = zip(*top_label_counts)"
   ]
  },
  {
   "cell_type": "code",
   "execution_count": 322,
   "metadata": {},
   "outputs": [
    {
     "data": {
      "text/plain": [
       "9886"
      ]
     },
     "execution_count": 322,
     "metadata": {},
     "output_type": "execute_result"
    }
   ],
   "source": [
    "sum(top_counts)"
   ]
  },
  {
   "cell_type": "code",
   "execution_count": 323,
   "metadata": {},
   "outputs": [
    {
     "data": {
      "text/plain": [
       "<Figure size 648x432 with 0 Axes>"
      ]
     },
     "metadata": {},
     "output_type": "display_data"
    },
    {
     "data": {
      "image/png": "[encoded data removed]",
      "text/plain": [
       "<Figure size 432x288 with 1 Axes>"
      ]
     },
     "metadata": {},
     "output_type": "display_data"
    }
   ],
   "source": [
    "plt.figure(figsize=(9, 6))\n",
    "df = pd.DataFrame.from_dict({'label': top_labels, 'count': top_counts})\n",
    "df = df.set_index('label')\n",
    "_ = df.plot(kind='bar')"
   ]
  },
  {
   "cell_type": "markdown",
   "metadata": {},
   "source": [
    "We also want these labels to have consecutive integer IDs:"
   ]
  },
  {
   "cell_type": "code",
   "execution_count": 324,
   "metadata": {
    "scrolled": true
   },
   "outputs": [
    {
     "data": {
      "text/plain": [
       "('com',\n",
       " 'org',\n",
       " 'edu',\n",
       " 'net',\n",
       " 'gov',\n",
       " 'uk',\n",
       " 'jp',\n",
       " 'de',\n",
       " 'ca',\n",
       " 'au',\n",
       " 'br',\n",
       " 'fr',\n",
       " 'it',\n",
       " 'tv',\n",
       " 'es',\n",
       " 'ru',\n",
       " 'us',\n",
       " 'me',\n",
       " 'ch',\n",
       " 'co',\n",
       " 'nl',\n",
       " 'nz',\n",
       " 'io',\n",
       " 'info',\n",
       " 'eu',\n",
       " 'int',\n",
       " 'fm',\n",
       " 'se',\n",
       " 'ly',\n",
       " 'mx',\n",
       " 'cn',\n",
       " 'no',\n",
       " 'at',\n",
       " 'cc',\n",
       " 'in',\n",
       " 'ar',\n",
       " 'mil',\n",
       " 'pl',\n",
       " 'dk',\n",
       " 'ie',\n",
       " 'gr',\n",
       " 'be',\n",
       " 'il',\n",
       " 'za',\n",
       " 'ph',\n",
       " 'fi',\n",
       " 'kr',\n",
       " 'to',\n",
       " 'ms',\n",
       " 'pe')"
      ]
     },
     "execution_count": 324,
     "metadata": {},
     "output_type": "execute_result"
    }
   ],
   "source": [
    "top_labels"
   ]
  },
  {
   "cell_type": "code",
   "execution_count": 325,
   "metadata": {},
   "outputs": [
    {
     "data": {
      "text/plain": [
       "{'com': 0,\n",
       " 'org': 1,\n",
       " 'edu': 2,\n",
       " 'net': 3,\n",
       " 'gov': 4,\n",
       " 'uk': 5,\n",
       " 'jp': 6,\n",
       " 'de': 7,\n",
       " 'ca': 8,\n",
       " 'au': 9,\n",
       " 'br': 10,\n",
       " 'fr': 11,\n",
       " 'it': 12,\n",
       " 'tv': 13,\n",
       " 'es': 14,\n",
       " 'ru': 15,\n",
       " 'us': 16,\n",
       " 'me': 17,\n",
       " 'ch': 18,\n",
       " 'co': 19,\n",
       " 'nl': 20,\n",
       " 'nz': 21,\n",
       " 'io': 22,\n",
       " 'info': 23,\n",
       " 'eu': 24,\n",
       " 'int': 25,\n",
       " 'fm': 26,\n",
       " 'se': 27,\n",
       " 'ly': 28,\n",
       " 'mx': 29,\n",
       " 'cn': 30,\n",
       " 'no': 31,\n",
       " 'at': 32,\n",
       " 'cc': 33,\n",
       " 'in': 34,\n",
       " 'ar': 35,\n",
       " 'mil': 36,\n",
       " 'pl': 37,\n",
       " 'dk': 38,\n",
       " 'ie': 39,\n",
       " 'gr': 40,\n",
       " 'be': 41,\n",
       " 'il': 42,\n",
       " 'za': 43,\n",
       " 'ph': 44,\n",
       " 'fi': 45,\n",
       " 'kr': 46,\n",
       " 'to': 47,\n",
       " 'ms': 48,\n",
       " 'pe': 49}"
      ]
     },
     "execution_count": 325,
     "metadata": {},
     "output_type": "execute_result"
    }
   ],
   "source": [
    "label_to_id = {}\n",
    "for index, label in enumerate(top_labels):\n",
    "    label_to_id[label] = index\n",
    "label_to_id"
   ]
  },
  {
   "cell_type": "code",
   "execution_count": 326,
   "metadata": {},
   "outputs": [],
   "source": [
    "top_labels_with_dot = list(map(lambda x: '.' + x, top_labels))"
   ]
  },
  {
   "cell_type": "markdown",
   "metadata": {},
   "source": [
    "## Save the Dataset to File"
   ]
  },
  {
   "cell_type": "code",
   "execution_count": 327,
   "metadata": {},
   "outputs": [],
   "source": [
    "N = G.number_of_nodes()\n",
    "rows = [matid for matid in range(N) if node_to_label[matid_to_node[matid]] in label_to_id]"
   ]
  },
  {
   "cell_type": "code",
   "execution_count": 328,
   "metadata": {},
   "outputs": [],
   "source": [
    "cols = [label_to_id[node_to_label[matid_to_node[matid]] ] for matid in range(N) \\\n",
    "        if node_to_label[matid_to_node[matid]] in label_to_id]"
   ]
  },
  {
   "cell_type": "code",
   "execution_count": 329,
   "metadata": {},
   "outputs": [
    {
     "data": {
      "text/plain": [
       "(9886, 9886)"
      ]
     },
     "execution_count": 329,
     "metadata": {},
     "output_type": "execute_result"
    }
   ],
   "source": [
    "len(rows), len(cols)"
   ]
  },
  {
   "cell_type": "code",
   "execution_count": 330,
   "metadata": {},
   "outputs": [
    {
     "data": {
      "text/plain": [
       "<10000x50 sparse matrix of type '<class 'numpy.float64'>'\n",
       "\twith 9886 stored elements in Compressed Sparse Row format>"
      ]
     },
     "execution_count": 330,
     "metadata": {},
     "output_type": "execute_result"
    }
   ],
   "source": [
    "label_mat = csr_matrix( ( ([1.0] * len(rows)), (rows, cols) ), shape=(N, K_label) )\n",
    "label_mat"
   ]
  },
  {
   "cell_type": "code",
   "execution_count": 331,
   "metadata": {},
   "outputs": [],
   "source": [
    "data_fname = 'example_graphs/www-10k.mat'"
   ]
  },
  {
   "cell_type": "code",
   "execution_count": 332,
   "metadata": {},
   "outputs": [],
   "source": [
    "savemat(data_fname, {'network': A, 'group': label_mat})"
   ]
  },
  {
   "cell_type": "markdown",
   "metadata": {},
   "source": [
    "# FastRP"
   ]
  },
  {
   "cell_type": "code",
   "execution_count": 312,
   "metadata": {},
   "outputs": [],
   "source": [
    "import optuna\n",
    "prefix = 'result/www-10k'"
   ]
  },
  {
   "cell_type": "code",
   "execution_count": 284,
   "metadata": {},
   "outputs": [
    {
     "name": "stdout",
     "output_type": "stream",
     "text": [
      "result/www-10k-dim=512,projection_method=sparse,input_matrix=trans,normalization=True,weights=1.0,1.0,2.3337256535496693,5.029748950429264,alpha=-0.4164264573080855,C=1.0.mat\n",
      "Train percent: 0.01\n",
      "Results, using embeddings of dimensionality 512\n",
      "-------------------\n",
      "Train percent: 0.01\n",
      "Average score: {'micro': 0.9207081436519979, 'macro': 0.11524299447593016}\n",
      "-------------------\n"
     ]
    },
    {
     "name": "stderr",
     "output_type": "stream",
     "text": [
      "[I 2019-05-21 16:07:54,894] Finished trial#0 resulted in value: -0.11524299447593016. Current best value is -0.11524299447593016 with parameters: {'weight0': 2.3337256535496693, 'weight1': 5.029748950429264, 'alpha': -0.4164264573080855}.\n"
     ]
    },
    {
     "name": "stdout",
     "output_type": "stream",
     "text": [
      "result/www-10k-dim=512,projection_method=sparse,input_matrix=trans,normalization=True,weights=1.0,1.0,1.6765972088331913,1.1125677662369542,alpha=-0.6765518696637268,C=1.0.mat\n",
      "Train percent: 0.01\n",
      "Results, using embeddings of dimensionality 512\n",
      "-------------------\n",
      "Train percent: 0.01\n",
      "Average score: {'micro': 0.9182599898836621, 'macro': 0.10092346845346763}\n",
      "-------------------\n"
     ]
    },
    {
     "name": "stderr",
     "output_type": "stream",
     "text": [
      "[I 2019-05-21 16:07:57,763] Finished trial#1 resulted in value: -0.10092346845346763. Current best value is -0.11524299447593016 with parameters: {'weight0': 2.3337256535496693, 'weight1': 5.029748950429264, 'alpha': -0.4164264573080855}.\n"
     ]
    },
    {
     "name": "stdout",
     "output_type": "stream",
     "text": [
      "result/www-10k-dim=512,projection_method=sparse,input_matrix=trans,normalization=True,weights=1.0,1.0,14.039019475149264,10.125615641266847,alpha=-0.9080915421591357,C=1.0.mat\n",
      "Train percent: 0.01\n",
      "Results, using embeddings of dimensionality 512\n",
      "-------------------\n",
      "Train percent: 0.01\n",
      "Average score: {'micro': 0.925078401618614, 'macro': 0.14481066344741067}\n",
      "-------------------\n"
     ]
    },
    {
     "name": "stderr",
     "output_type": "stream",
     "text": [
      "[I 2019-05-21 16:08:00,852] Finished trial#2 resulted in value: -0.14481066344741067. Current best value is -0.14481066344741067 with parameters: {'weight0': 14.039019475149264, 'weight1': 10.125615641266847, 'alpha': -0.9080915421591357}.\n"
     ]
    },
    {
     "name": "stdout",
     "output_type": "stream",
     "text": [
      "result/www-10k-dim=512,projection_method=sparse,input_matrix=trans,normalization=True,weights=1.0,1.0,54.05708684837646,5.3838920961489105,alpha=-0.6058869623542692,C=1.0.mat\n",
      "Train percent: 0.01\n",
      "Results, using embeddings of dimensionality 512\n",
      "-------------------\n",
      "Train percent: 0.01\n",
      "Average score: {'micro': 0.9114618108244816, 'macro': 0.11992989812477459}\n",
      "-------------------\n"
     ]
    },
    {
     "name": "stderr",
     "output_type": "stream",
     "text": [
      "[I 2019-05-21 16:08:03,893] Finished trial#3 resulted in value: -0.11992989812477459. Current best value is -0.14481066344741067 with parameters: {'weight0': 14.039019475149264, 'weight1': 10.125615641266847, 'alpha': -0.9080915421591357}.\n"
     ]
    },
    {
     "name": "stdout",
     "output_type": "stream",
     "text": [
      "result/www-10k-dim=512,projection_method=sparse,input_matrix=trans,normalization=True,weights=1.0,1.0,4.073560799228505,13.832088990469353,alpha=-0.5717857791205863,C=1.0.mat\n",
      "Train percent: 0.01\n",
      "Results, using embeddings of dimensionality 512\n",
      "-------------------\n",
      "Train percent: 0.01\n",
      "Average score: {'micro': 0.9266363176530096, 'macro': 0.1163810400594804}\n",
      "-------------------\n"
     ]
    },
    {
     "name": "stderr",
     "output_type": "stream",
     "text": [
      "[I 2019-05-21 16:08:07,592] Finished trial#4 resulted in value: -0.1163810400594804. Current best value is -0.14481066344741067 with parameters: {'weight0': 14.039019475149264, 'weight1': 10.125615641266847, 'alpha': -0.9080915421591357}.\n"
     ]
    },
    {
     "name": "stdout",
     "output_type": "stream",
     "text": [
      "result/www-10k-dim=512,projection_method=sparse,input_matrix=trans,normalization=True,weights=1.0,1.0,41.08755554239334,18.74239148060552,alpha=-0.18451537380388217,C=1.0.mat\n",
      "Train percent: 0.01\n",
      "Results, using embeddings of dimensionality 512\n",
      "-------------------\n",
      "Train percent: 0.01\n",
      "Average score: {'micro': 0.9145574102175014, 'macro': 0.11659174622562166}\n",
      "-------------------\n"
     ]
    },
    {
     "name": "stderr",
     "output_type": "stream",
     "text": [
      "[I 2019-05-21 16:08:12,355] Finished trial#5 resulted in value: -0.11659174622562166. Current best value is -0.14481066344741067 with parameters: {'weight0': 14.039019475149264, 'weight1': 10.125615641266847, 'alpha': -0.9080915421591357}.\n"
     ]
    },
    {
     "name": "stdout",
     "output_type": "stream",
     "text": [
      "result/www-10k-dim=512,projection_method=sparse,input_matrix=trans,normalization=True,weights=1.0,1.0,42.83171737504722,42.123621460145436,alpha=-0.6456138172974734,C=1.0.mat\n",
      "Train percent: 0.01\n",
      "Results, using embeddings of dimensionality 512\n",
      "-------------------\n",
      "Train percent: 0.01\n",
      "Average score: {'micro': 0.9194132524026303, 'macro': 0.10473638534530486}\n",
      "-------------------\n"
     ]
    },
    {
     "name": "stderr",
     "output_type": "stream",
     "text": [
      "[I 2019-05-21 16:08:16,784] Finished trial#6 resulted in value: -0.10473638534530486. Current best value is -0.14481066344741067 with parameters: {'weight0': 14.039019475149264, 'weight1': 10.125615641266847, 'alpha': -0.9080915421591357}.\n"
     ]
    },
    {
     "name": "stdout",
     "output_type": "stream",
     "text": [
      "result/www-10k-dim=512,projection_method=sparse,input_matrix=trans,normalization=True,weights=1.0,1.0,4.739127126858889,9.126770797397127,alpha=-0.5027226167601563,C=1.0.mat\n",
      "Train percent: 0.01\n",
      "Results, using embeddings of dimensionality 512\n",
      "-------------------\n",
      "Train percent: 0.01\n",
      "Average score: {'micro': 0.9247951441578148, 'macro': 0.13421278381233234}\n",
      "-------------------\n"
     ]
    },
    {
     "name": "stderr",
     "output_type": "stream",
     "text": [
      "[I 2019-05-21 16:08:20,706] Finished trial#7 resulted in value: -0.13421278381233234. Current best value is -0.14481066344741067 with parameters: {'weight0': 14.039019475149264, 'weight1': 10.125615641266847, 'alpha': -0.9080915421591357}.\n"
     ]
    },
    {
     "name": "stdout",
     "output_type": "stream",
     "text": [
      "result/www-10k-dim=512,projection_method=sparse,input_matrix=trans,normalization=True,weights=1.0,1.0,3.17197625261654,1.711461559172285,alpha=-0.37142343402956013,C=1.0.mat\n",
      "Train percent: 0.01\n",
      "Results, using embeddings of dimensionality 512\n",
      "-------------------\n",
      "Train percent: 0.01\n",
      "Average score: {'micro': 0.9206069802731411, 'macro': 0.13948285117896572}\n",
      "-------------------\n"
     ]
    },
    {
     "name": "stderr",
     "output_type": "stream",
     "text": [
      "[I 2019-05-21 16:08:24,060] Finished trial#8 resulted in value: -0.13948285117896572. Current best value is -0.14481066344741067 with parameters: {'weight0': 14.039019475149264, 'weight1': 10.125615641266847, 'alpha': -0.9080915421591357}.\n"
     ]
    },
    {
     "name": "stdout",
     "output_type": "stream",
     "text": [
      "result/www-10k-dim=512,projection_method=sparse,input_matrix=trans,normalization=True,weights=1.0,1.0,10.154222401991948,3.496361622124151,alpha=-0.18995338512709325,C=1.0.mat\n",
      "Train percent: 0.01\n",
      "Results, using embeddings of dimensionality 512\n",
      "-------------------\n",
      "Train percent: 0.01\n",
      "Average score: {'micro': 0.9057561962569551, 'macro': 0.11972420356113042}\n",
      "-------------------\n"
     ]
    },
    {
     "name": "stderr",
     "output_type": "stream",
     "text": [
      "[I 2019-05-21 16:08:27,513] Finished trial#9 resulted in value: -0.11972420356113042. Current best value is -0.14481066344741067 with parameters: {'weight0': 14.039019475149264, 'weight1': 10.125615641266847, 'alpha': -0.9080915421591357}.\n"
     ]
    },
    {
     "name": "stdout",
     "output_type": "stream",
     "text": [
      "result/www-10k-dim=512,projection_method=sparse,input_matrix=trans,normalization=True,weights=1.0,1.0,14.651759077189865,28.837004291951885,alpha=-0.9962180549535388,C=1.0.mat\n",
      "Train percent: 0.01\n",
      "Results, using embeddings of dimensionality 512\n",
      "-------------------\n",
      "Train percent: 0.01\n",
      "Average score: {'micro': 0.9205867475973697, 'macro': 0.13930390568597872}\n",
      "-------------------\n"
     ]
    },
    {
     "name": "stderr",
     "output_type": "stream",
     "text": [
      "[I 2019-05-21 16:08:30,706] Finished trial#10 resulted in value: -0.13930390568597872. Current best value is -0.14481066344741067 with parameters: {'weight0': 14.039019475149264, 'weight1': 10.125615641266847, 'alpha': -0.9080915421591357}.\n"
     ]
    },
    {
     "name": "stdout",
     "output_type": "stream",
     "text": [
      "result/www-10k-dim=512,projection_method=sparse,input_matrix=trans,normalization=True,weights=1.0,1.0,19.98605363829098,2.0830965612069257,alpha=-0.8381294941599866,C=1.0.mat\n",
      "Train percent: 0.01\n",
      "Results, using embeddings of dimensionality 512\n",
      "-------------------\n",
      "Train percent: 0.01\n",
      "Average score: {'micro': 0.9252604957005565, 'macro': 0.1186314087609948}\n",
      "-------------------\n"
     ]
    },
    {
     "name": "stderr",
     "output_type": "stream",
     "text": [
      "[I 2019-05-21 16:08:34,251] Finished trial#11 resulted in value: -0.1186314087609948. Current best value is -0.14481066344741067 with parameters: {'weight0': 14.039019475149264, 'weight1': 10.125615641266847, 'alpha': -0.9080915421591357}.\n"
     ]
    },
    {
     "name": "stdout",
     "output_type": "stream",
     "text": [
      "result/www-10k-dim=512,projection_method=sparse,input_matrix=trans,normalization=True,weights=1.0,1.0,1.0984197111048342,53.219315390998794,alpha=-0.8523653666675178,C=1.0.mat\n",
      "Train percent: 0.01\n",
      "Results, using embeddings of dimensionality 512\n",
      "-------------------\n",
      "Train percent: 0.01\n",
      "Average score: {'micro': 0.9213353566009104, 'macro': 0.12353537597081372}\n",
      "-------------------\n"
     ]
    },
    {
     "name": "stderr",
     "output_type": "stream",
     "text": [
      "[I 2019-05-21 16:08:38,639] Finished trial#12 resulted in value: -0.12353537597081372. Current best value is -0.14481066344741067 with parameters: {'weight0': 14.039019475149264, 'weight1': 10.125615641266847, 'alpha': -0.9080915421591357}.\n"
     ]
    },
    {
     "name": "stdout",
     "output_type": "stream",
     "text": [
      "result/www-10k-dim=512,projection_method=sparse,input_matrix=trans,normalization=True,weights=1.0,1.0,25.427542405289724,63.648638391253485,alpha=-0.8333326178056523,C=1.0.mat\n",
      "Train percent: 0.01\n",
      "Results, using embeddings of dimensionality 512\n",
      "-------------------\n",
      "Train percent: 0.01\n",
      "Average score: {'micro': 0.9129994941831058, 'macro': 0.11248762771226004}\n",
      "-------------------\n"
     ]
    },
    {
     "name": "stderr",
     "output_type": "stream",
     "text": [
      "[I 2019-05-21 16:08:42,592] Finished trial#13 resulted in value: -0.11248762771226004. Current best value is -0.14481066344741067 with parameters: {'weight0': 14.039019475149264, 'weight1': 10.125615641266847, 'alpha': -0.9080915421591357}.\n"
     ]
    },
    {
     "name": "stdout",
     "output_type": "stream",
     "text": [
      "result/www-10k-dim=512,projection_method=sparse,input_matrix=trans,normalization=True,weights=1.0,1.0,6.222751216095586,10.887934803968001,alpha=-0.9826461602542339,C=1.0.mat\n",
      "Train percent: 0.01\n",
      "Results, using embeddings of dimensionality 512\n",
      "-------------------\n",
      "Train percent: 0.01\n",
      "Average score: {'micro': 0.9244107233181588, 'macro': 0.11749623231617028}\n",
      "-------------------\n"
     ]
    },
    {
     "name": "stderr",
     "output_type": "stream",
     "text": [
      "[I 2019-05-21 16:08:46,736] Finished trial#14 resulted in value: -0.11749623231617028. Current best value is -0.14481066344741067 with parameters: {'weight0': 14.039019475149264, 'weight1': 10.125615641266847, 'alpha': -0.9080915421591357}.\n"
     ]
    },
    {
     "name": "stdout",
     "output_type": "stream",
     "text": [
      "result/www-10k-dim=512,projection_method=sparse,input_matrix=trans,normalization=True,weights=1.0,1.0,9.370525114894763,21.528830376842336,alpha=-0.02209971913628539,C=1.0.mat\n",
      "Train percent: 0.01\n",
      "Results, using embeddings of dimensionality 512\n",
      "-------------------\n",
      "Train percent: 0.01\n",
      "Average score: {'micro': 0.921740010116338, 'macro': 0.11884324844767605}\n",
      "-------------------\n"
     ]
    },
    {
     "name": "stderr",
     "output_type": "stream",
     "text": [
      "[I 2019-05-21 16:08:50,129] Finished trial#15 resulted in value: -0.11884324844767605. Current best value is -0.14481066344741067 with parameters: {'weight0': 14.039019475149264, 'weight1': 10.125615641266847, 'alpha': -0.9080915421591357}.\n"
     ]
    },
    {
     "name": "stdout",
     "output_type": "stream",
     "text": [
      "result/www-10k-dim=512,projection_method=sparse,input_matrix=trans,normalization=True,weights=1.0,1.0,1.5554971344851165,2.376092250574848,alpha=-0.9970093730459872,C=1.0.mat\n",
      "Train percent: 0.01\n",
      "Results, using embeddings of dimensionality 512\n",
      "-------------------\n",
      "Train percent: 0.01\n",
      "Average score: {'micro': 0.9174506828528074, 'macro': 0.1158637381471755}\n",
      "-------------------\n"
     ]
    },
    {
     "name": "stderr",
     "output_type": "stream",
     "text": [
      "[I 2019-05-21 16:08:53,354] Finished trial#16 resulted in value: -0.1158637381471755. Current best value is -0.14481066344741067 with parameters: {'weight0': 14.039019475149264, 'weight1': 10.125615641266847, 'alpha': -0.9080915421591357}.\n"
     ]
    },
    {
     "name": "stdout",
     "output_type": "stream",
     "text": [
      "result/www-10k-dim=512,projection_method=sparse,input_matrix=trans,normalization=True,weights=1.0,1.0,3.218161737728533,1.5833507908577897,alpha=-0.3342376069893185,C=1.0.mat\n",
      "Train percent: 0.01\n",
      "Results, using embeddings of dimensionality 512\n",
      "-------------------\n",
      "Train percent: 0.01\n",
      "Average score: {'micro': 0.9279514415781487, 'macro': 0.12745786862759506}\n",
      "-------------------\n"
     ]
    },
    {
     "name": "stderr",
     "output_type": "stream",
     "text": [
      "[I 2019-05-21 16:08:56,563] Finished trial#17 resulted in value: -0.12745786862759506. Current best value is -0.14481066344741067 with parameters: {'weight0': 14.039019475149264, 'weight1': 10.125615641266847, 'alpha': -0.9080915421591357}.\n"
     ]
    },
    {
     "name": "stdout",
     "output_type": "stream",
     "text": [
      "result/www-10k-dim=512,projection_method=sparse,input_matrix=trans,normalization=True,weights=1.0,1.0,7.050443897975797,5.402023027296797,alpha=-0.20375841297367628,C=1.0.mat\n",
      "Train percent: 0.01\n",
      "Results, using embeddings of dimensionality 512\n",
      "-------------------\n",
      "Train percent: 0.01\n",
      "Average score: {'micro': 0.9301972685887708, 'macro': 0.136210278845346}\n",
      "-------------------\n"
     ]
    },
    {
     "name": "stderr",
     "output_type": "stream",
     "text": [
      "[I 2019-05-21 16:08:59,973] Finished trial#18 resulted in value: -0.136210278845346. Current best value is -0.14481066344741067 with parameters: {'weight0': 14.039019475149264, 'weight1': 10.125615641266847, 'alpha': -0.9080915421591357}.\n"
     ]
    },
    {
     "name": "stdout",
     "output_type": "stream",
     "text": [
      "result/www-10k-dim=512,projection_method=sparse,input_matrix=trans,normalization=True,weights=1.0,1.0,16.558103595042077,3.094121303731902,alpha=-0.7489814522058769,C=1.0.mat\n",
      "Train percent: 0.01\n",
      "Results, using embeddings of dimensionality 512\n",
      "-------------------\n",
      "Train percent: 0.01\n",
      "Average score: {'micro': 0.9168437025796662, 'macro': 0.11181312589138419}\n",
      "-------------------\n"
     ]
    },
    {
     "name": "stderr",
     "output_type": "stream",
     "text": [
      "[I 2019-05-21 16:09:03,233] Finished trial#19 resulted in value: -0.11181312589138419. Current best value is -0.14481066344741067 with parameters: {'weight0': 14.039019475149264, 'weight1': 10.125615641266847, 'alpha': -0.9080915421591357}.\n"
     ]
    },
    {
     "name": "stdout",
     "output_type": "stream",
     "text": [
      "result/www-10k-dim=512,projection_method=sparse,input_matrix=trans,normalization=True,weights=1.0,1.0,3.026200121369207,1.0234917796517138,alpha=-0.38249245782213476,C=1.0.mat\n",
      "Train percent: 0.01\n",
      "Results, using embeddings of dimensionality 512\n",
      "-------------------\n",
      "Train percent: 0.01\n",
      "Average score: {'micro': 0.9142336874051594, 'macro': 0.11861475440137134}\n",
      "-------------------\n"
     ]
    },
    {
     "name": "stderr",
     "output_type": "stream",
     "text": [
      "[I 2019-05-21 16:09:06,521] Finished trial#20 resulted in value: -0.11861475440137134. Current best value is -0.14481066344741067 with parameters: {'weight0': 14.039019475149264, 'weight1': 10.125615641266847, 'alpha': -0.9080915421591357}.\n"
     ]
    },
    {
     "name": "stdout",
     "output_type": "stream",
     "text": [
      "result/www-10k-dim=512,projection_method=sparse,input_matrix=trans,normalization=True,weights=1.0,1.0,29.39579334087227,7.052623604462207,alpha=-0.30941390673670616,C=1.0.mat\n",
      "Train percent: 0.01\n",
      "Results, using embeddings of dimensionality 512\n",
      "-------------------\n",
      "Train percent: 0.01\n",
      "Average score: {'micro': 0.9076378351036924, 'macro': 0.11885167448945902}\n",
      "-------------------\n"
     ]
    },
    {
     "name": "stderr",
     "output_type": "stream",
     "text": [
      "[I 2019-05-21 16:09:11,320] Finished trial#21 resulted in value: -0.11885167448945902. Current best value is -0.14481066344741067 with parameters: {'weight0': 14.039019475149264, 'weight1': 10.125615641266847, 'alpha': -0.9080915421591357}.\n"
     ]
    },
    {
     "name": "stdout",
     "output_type": "stream",
     "text": [
      "result/www-10k-dim=512,projection_method=sparse,input_matrix=trans,normalization=True,weights=1.0,1.0,4.84983619960489,1.4265442826385781,alpha=-0.4656804379781689,C=1.0.mat\n",
      "Train percent: 0.01\n",
      "Results, using embeddings of dimensionality 512\n",
      "-------------------\n",
      "Train percent: 0.01\n",
      "Average score: {'micro': 0.9377440566514921, 'macro': 0.1419753026817447}\n",
      "-------------------\n"
     ]
    },
    {
     "name": "stderr",
     "output_type": "stream",
     "text": [
      "[I 2019-05-21 16:09:16,143] Finished trial#22 resulted in value: -0.1419753026817447. Current best value is -0.14481066344741067 with parameters: {'weight0': 14.039019475149264, 'weight1': 10.125615641266847, 'alpha': -0.9080915421591357}.\n"
     ]
    },
    {
     "name": "stdout",
     "output_type": "stream",
     "text": [
      "result/www-10k-dim=512,projection_method=sparse,input_matrix=trans,normalization=True,weights=1.0,1.0,12.98469666284243,3.5024297687709676,alpha=-0.5090400050993972,C=1.0.mat\n",
      "Train percent: 0.01\n",
      "Results, using embeddings of dimensionality 512\n",
      "-------------------\n",
      "Train percent: 0.01\n",
      "Average score: {'micro': 0.9243702579666161, 'macro': 0.1347593584699659}\n",
      "-------------------\n"
     ]
    },
    {
     "name": "stderr",
     "output_type": "stream",
     "text": [
      "[I 2019-05-21 16:09:20,258] Finished trial#23 resulted in value: -0.1347593584699659. Current best value is -0.14481066344741067 with parameters: {'weight0': 14.039019475149264, 'weight1': 10.125615641266847, 'alpha': -0.9080915421591357}.\n"
     ]
    },
    {
     "name": "stdout",
     "output_type": "stream",
     "text": [
      "result/www-10k-dim=512,projection_method=sparse,input_matrix=trans,normalization=True,weights=1.0,1.0,5.90246476432905,1.0716076967777304,alpha=-0.8927370154739038,C=1.0.mat\n",
      "Train percent: 0.01\n",
      "Results, using embeddings of dimensionality 512\n",
      "-------------------\n",
      "Train percent: 0.01\n",
      "Average score: {'micro': 0.9306626201315125, 'macro': 0.13360640131613963}\n",
      "-------------------\n"
     ]
    },
    {
     "name": "stderr",
     "output_type": "stream",
     "text": [
      "[I 2019-05-21 16:09:23,799] Finished trial#24 resulted in value: -0.13360640131613963. Current best value is -0.14481066344741067 with parameters: {'weight0': 14.039019475149264, 'weight1': 10.125615641266847, 'alpha': -0.9080915421591357}.\n"
     ]
    },
    {
     "name": "stdout",
     "output_type": "stream",
     "text": [
      "result/www-10k-dim=512,projection_method=sparse,input_matrix=trans,normalization=True,weights=1.0,1.0,11.171677399574405,14.367717867192644,alpha=-0.7570852026933089,C=1.0.mat\n",
      "Train percent: 0.01\n",
      "Results, using embeddings of dimensionality 512\n",
      "-------------------\n",
      "Train percent: 0.01\n",
      "Average score: {'micro': 0.9219423368740516, 'macro': 0.1250488604711793}\n",
      "-------------------\n"
     ]
    },
    {
     "name": "stderr",
     "output_type": "stream",
     "text": [
      "[I 2019-05-21 16:09:27,397] Finished trial#25 resulted in value: -0.1250488604711793. Current best value is -0.14481066344741067 with parameters: {'weight0': 14.039019475149264, 'weight1': 10.125615641266847, 'alpha': -0.9080915421591357}.\n"
     ]
    },
    {
     "name": "stdout",
     "output_type": "stream",
     "text": [
      "result/www-10k-dim=512,projection_method=sparse,input_matrix=trans,normalization=True,weights=1.0,1.0,7.799142991837045,1.4286284722125204,alpha=-0.7324811233183643,C=1.0.mat\n",
      "Train percent: 0.01\n",
      "Results, using embeddings of dimensionality 512\n",
      "-------------------\n",
      "Train percent: 0.01\n",
      "Average score: {'micro': 0.9148406676783004, 'macro': 0.11649371630044718}\n",
      "-------------------\n"
     ]
    },
    {
     "name": "stderr",
     "output_type": "stream",
     "text": [
      "[I 2019-05-21 16:09:31,166] Finished trial#26 resulted in value: -0.11649371630044718. Current best value is -0.14481066344741067 with parameters: {'weight0': 14.039019475149264, 'weight1': 10.125615641266847, 'alpha': -0.9080915421591357}.\n"
     ]
    },
    {
     "name": "stdout",
     "output_type": "stream",
     "text": [
      "result/www-10k-dim=512,projection_method=sparse,input_matrix=trans,normalization=True,weights=1.0,1.0,21.345441812912576,7.280365353231555,alpha=-0.9060474259973742,C=1.0.mat\n",
      "Train percent: 0.01\n",
      "Results, using embeddings of dimensionality 512\n",
      "-------------------\n",
      "Train percent: 0.01\n",
      "Average score: {'micro': 0.9266160849772384, 'macro': 0.13548194725597945}\n",
      "-------------------\n"
     ]
    },
    {
     "name": "stderr",
     "output_type": "stream",
     "text": [
      "[I 2019-05-21 16:09:34,784] Finished trial#27 resulted in value: -0.13548194725597945. Current best value is -0.14481066344741067 with parameters: {'weight0': 14.039019475149264, 'weight1': 10.125615641266847, 'alpha': -0.9080915421591357}.\n"
     ]
    },
    {
     "name": "stdout",
     "output_type": "stream",
     "text": [
      "result/www-10k-dim=512,projection_method=sparse,input_matrix=trans,normalization=True,weights=1.0,1.0,1.6856264932061689,4.547729075603478,alpha=-0.43864015245044835,C=1.0.mat\n",
      "Train percent: 0.01\n",
      "Results, using embeddings of dimensionality 512\n",
      "-------------------\n",
      "Train percent: 0.01\n",
      "Average score: {'micro': 0.9330703085483055, 'macro': 0.14168125989988928}\n",
      "-------------------\n"
     ]
    },
    {
     "name": "stderr",
     "output_type": "stream",
     "text": [
      "[I 2019-05-21 16:09:40,078] Finished trial#28 resulted in value: -0.14168125989988928. Current best value is -0.14481066344741067 with parameters: {'weight0': 14.039019475149264, 'weight1': 10.125615641266847, 'alpha': -0.9080915421591357}.\n"
     ]
    },
    {
     "name": "stdout",
     "output_type": "stream",
     "text": [
      "result/www-10k-dim=512,projection_method=sparse,input_matrix=trans,normalization=True,weights=1.0,1.0,2.3799715226543072,2.405985342015716,alpha=-0.11717683160325026,C=1.0.mat\n",
      "Train percent: 0.01\n",
      "Results, using embeddings of dimensionality 512\n",
      "-------------------\n",
      "Train percent: 0.01\n",
      "Average score: {'micro': 0.9111987860394537, 'macro': 0.11813484881700316}\n",
      "-------------------\n"
     ]
    },
    {
     "name": "stderr",
     "output_type": "stream",
     "text": [
      "[I 2019-05-21 16:09:44,435] Finished trial#29 resulted in value: -0.11813484881700316. Current best value is -0.14481066344741067 with parameters: {'weight0': 14.039019475149264, 'weight1': 10.125615641266847, 'alpha': -0.9080915421591357}.\n"
     ]
    },
    {
     "name": "stdout",
     "output_type": "stream",
     "text": [
      "result/www-10k-dim=512,projection_method=sparse,input_matrix=trans,normalization=True,weights=1.0,1.0,4.980310124291085,32.32942665308288,alpha=-0.2730057315966871,C=1.0.mat\n",
      "Train percent: 0.01\n",
      "Results, using embeddings of dimensionality 512\n",
      "-------------------\n",
      "Train percent: 0.01\n",
      "Average score: {'micro': 0.925725847243298, 'macro': 0.1283419363804798}\n",
      "-------------------\n"
     ]
    },
    {
     "name": "stderr",
     "output_type": "stream",
     "text": [
      "[I 2019-05-21 16:09:48,617] Finished trial#30 resulted in value: -0.1283419363804798. Current best value is -0.14481066344741067 with parameters: {'weight0': 14.039019475149264, 'weight1': 10.125615641266847, 'alpha': -0.9080915421591357}.\n"
     ]
    },
    {
     "name": "stdout",
     "output_type": "stream",
     "text": [
      "result/www-10k-dim=512,projection_method=sparse,input_matrix=trans,normalization=True,weights=1.0,1.0,34.599609561584565,4.471092941440952,alpha=-0.575079558664483,C=1.0.mat\n",
      "Train percent: 0.01\n",
      "Results, using embeddings of dimensionality 512\n",
      "-------------------\n",
      "Train percent: 0.01\n",
      "Average score: {'micro': 0.9061810824481537, 'macro': 0.11643521723976813}\n",
      "-------------------\n"
     ]
    },
    {
     "name": "stderr",
     "output_type": "stream",
     "text": [
      "[I 2019-05-21 16:09:52,241] Finished trial#31 resulted in value: -0.11643521723976813. Current best value is -0.14481066344741067 with parameters: {'weight0': 14.039019475149264, 'weight1': 10.125615641266847, 'alpha': -0.9080915421591357}.\n"
     ]
    },
    {
     "name": "stdout",
     "output_type": "stream",
     "text": [
      "result/www-10k-dim=512,projection_method=sparse,input_matrix=trans,normalization=True,weights=1.0,1.0,8.44660246520135,11.650759331100522,alpha=-0.44241675777643885,C=1.0.mat\n",
      "Train percent: 0.01\n",
      "Results, using embeddings of dimensionality 512\n",
      "-------------------\n",
      "Train percent: 0.01\n",
      "Average score: {'micro': 0.928295397066262, 'macro': 0.14312697274265776}\n",
      "-------------------\n"
     ]
    },
    {
     "name": "stderr",
     "output_type": "stream",
     "text": [
      "[I 2019-05-21 16:09:55,900] Finished trial#32 resulted in value: -0.14312697274265776. Current best value is -0.14481066344741067 with parameters: {'weight0': 14.039019475149264, 'weight1': 10.125615641266847, 'alpha': -0.9080915421591357}.\n"
     ]
    },
    {
     "name": "stdout",
     "output_type": "stream",
     "text": [
      "result/www-10k-dim=512,projection_method=sparse,input_matrix=trans,normalization=True,weights=1.0,1.0,62.29724237450159,13.020273301020467,alpha=-0.6570431839002576,C=1.0.mat\n",
      "Train percent: 0.01\n",
      "Results, using embeddings of dimensionality 512\n",
      "-------------------\n",
      "Train percent: 0.01\n",
      "Average score: {'micro': 0.9220435002529083, 'macro': 0.12392931707259576}\n",
      "-------------------\n"
     ]
    },
    {
     "name": "stderr",
     "output_type": "stream",
     "text": [
      "[I 2019-05-21 16:09:59,672] Finished trial#33 resulted in value: -0.12392931707259576. Current best value is -0.14481066344741067 with parameters: {'weight0': 14.039019475149264, 'weight1': 10.125615641266847, 'alpha': -0.9080915421591357}.\n"
     ]
    },
    {
     "name": "stdout",
     "output_type": "stream",
     "text": [
      "result/www-10k-dim=512,projection_method=sparse,input_matrix=trans,normalization=True,weights=1.0,1.0,16.049914113632834,18.683759941975232,alpha=-0.09724396973400906,C=1.0.mat\n",
      "Train percent: 0.01\n",
      "Results, using embeddings of dimensionality 512\n",
      "-------------------\n",
      "Train percent: 0.01\n",
      "Average score: {'micro': 0.9151036924633283, 'macro': 0.13152652777508791}\n",
      "-------------------\n"
     ]
    },
    {
     "name": "stderr",
     "output_type": "stream",
     "text": [
      "[I 2019-05-21 16:10:03,264] Finished trial#34 resulted in value: -0.13152652777508791. Current best value is -0.14481066344741067 with parameters: {'weight0': 14.039019475149264, 'weight1': 10.125615641266847, 'alpha': -0.9080915421591357}.\n"
     ]
    },
    {
     "name": "stdout",
     "output_type": "stream",
     "text": [
      "result/www-10k-dim=512,projection_method=sparse,input_matrix=trans,normalization=True,weights=1.0,1.0,8.795965350395997,26.24981758170478,alpha=-0.5545280881648313,C=1.0.mat\n",
      "Train percent: 0.01\n",
      "Results, using embeddings of dimensionality 512\n",
      "-------------------\n",
      "Train percent: 0.01\n",
      "Average score: {'micro': 0.9261507334344966, 'macro': 0.127906992381745}\n",
      "-------------------\n"
     ]
    },
    {
     "name": "stderr",
     "output_type": "stream",
     "text": [
      "[I 2019-05-21 16:10:07,596] Finished trial#35 resulted in value: -0.127906992381745. Current best value is -0.14481066344741067 with parameters: {'weight0': 14.039019475149264, 'weight1': 10.125615641266847, 'alpha': -0.9080915421591357}.\n"
     ]
    },
    {
     "name": "stdout",
     "output_type": "stream",
     "text": [
      "result/www-10k-dim=512,projection_method=sparse,input_matrix=trans,normalization=True,weights=1.0,1.0,42.992880478168246,39.59720768177167,alpha=-0.6124270562760225,C=1.0.mat\n",
      "Train percent: 0.01\n",
      "Results, using embeddings of dimensionality 512\n",
      "-------------------\n",
      "Train percent: 0.01\n",
      "Average score: {'micro': 0.9288619119878604, 'macro': 0.1421527495868143}\n",
      "-------------------\n"
     ]
    },
    {
     "name": "stderr",
     "output_type": "stream",
     "text": [
      "[I 2019-05-21 16:10:11,786] Finished trial#36 resulted in value: -0.1421527495868143. Current best value is -0.14481066344741067 with parameters: {'weight0': 14.039019475149264, 'weight1': 10.125615641266847, 'alpha': -0.9080915421591357}.\n"
     ]
    },
    {
     "name": "stdout",
     "output_type": "stream",
     "text": [
      "result/www-10k-dim=512,projection_method=sparse,input_matrix=trans,normalization=True,weights=1.0,1.0,12.352130843890526,9.427362480070933,alpha=-0.7032141117723936,C=1.0.mat\n",
      "Train percent: 0.01\n",
      "Results, using embeddings of dimensionality 512\n",
      "-------------------\n",
      "Train percent: 0.01\n",
      "Average score: {'micro': 0.920101163378857, 'macro': 0.1176988904830552}\n",
      "-------------------\n"
     ]
    },
    {
     "name": "stderr",
     "output_type": "stream",
     "text": [
      "[I 2019-05-21 16:10:15,841] Finished trial#37 resulted in value: -0.1176988904830552. Current best value is -0.14481066344741067 with parameters: {'weight0': 14.039019475149264, 'weight1': 10.125615641266847, 'alpha': -0.9080915421591357}.\n"
     ]
    },
    {
     "name": "stdout",
     "output_type": "stream",
     "text": [
      "result/www-10k-dim=512,projection_method=sparse,input_matrix=trans,normalization=True,weights=1.0,1.0,19.963677650465947,6.230443412908264,alpha=-0.9403853700967271,C=1.0.mat\n",
      "Train percent: 0.01\n",
      "Results, using embeddings of dimensionality 512\n",
      "-------------------\n",
      "Train percent: 0.01\n",
      "Average score: {'micro': 0.9155892766818413, 'macro': 0.11712335805631206}\n",
      "-------------------\n"
     ]
    },
    {
     "name": "stderr",
     "output_type": "stream",
     "text": [
      "[I 2019-05-21 16:10:19,704] Finished trial#38 resulted in value: -0.11712335805631206. Current best value is -0.14481066344741067 with parameters: {'weight0': 14.039019475149264, 'weight1': 10.125615641266847, 'alpha': -0.9080915421591357}.\n"
     ]
    },
    {
     "name": "stdout",
     "output_type": "stream",
     "text": [
      "result/www-10k-dim=512,projection_method=sparse,input_matrix=trans,normalization=True,weights=1.0,1.0,4.221145524799891,16.22197897062468,alpha=-0.4073258690272243,C=1.0.mat\n",
      "Train percent: 0.01\n",
      "Results, using embeddings of dimensionality 512\n",
      "-------------------\n",
      "Train percent: 0.01\n",
      "Average score: {'micro': 0.9194941831057157, 'macro': 0.12349205133985866}\n",
      "-------------------\n"
     ]
    },
    {
     "name": "stderr",
     "output_type": "stream",
     "text": [
      "[I 2019-05-21 16:10:23,263] Finished trial#39 resulted in value: -0.12349205133985866. Current best value is -0.14481066344741067 with parameters: {'weight0': 14.039019475149264, 'weight1': 10.125615641266847, 'alpha': -0.9080915421591357}.\n"
     ]
    },
    {
     "name": "stdout",
     "output_type": "stream",
     "text": [
      "result/www-10k-dim=512,projection_method=sparse,input_matrix=trans,normalization=True,weights=1.0,1.0,28.758787088320744,9.461914600845992,alpha=-0.8022698027408701,C=1.0.mat\n",
      "Train percent: 0.01\n",
      "Results, using embeddings of dimensionality 512\n",
      "-------------------\n",
      "Train percent: 0.01\n",
      "Average score: {'micro': 0.9260091047040971, 'macro': 0.12686971810739728}\n",
      "-------------------\n"
     ]
    },
    {
     "name": "stderr",
     "output_type": "stream",
     "text": [
      "[I 2019-05-21 16:10:26,492] Finished trial#40 resulted in value: -0.12686971810739728. Current best value is -0.14481066344741067 with parameters: {'weight0': 14.039019475149264, 'weight1': 10.125615641266847, 'alpha': -0.9080915421591357}.\n"
     ]
    },
    {
     "name": "stdout",
     "output_type": "stream",
     "text": [
      "result/www-10k-dim=512,projection_method=sparse,input_matrix=trans,normalization=True,weights=1.0,1.0,7.052281557832535,51.71718626088307,alpha=-0.2579020189982541,C=1.0.mat\n",
      "Train percent: 0.01\n",
      "Results, using embeddings of dimensionality 512\n",
      "-------------------\n",
      "Train percent: 0.01\n",
      "Average score: {'micro': 0.9071724835609508, 'macro': 0.11060916088320587}\n",
      "-------------------\n"
     ]
    },
    {
     "name": "stderr",
     "output_type": "stream",
     "text": [
      "[I 2019-05-21 16:10:30,324] Finished trial#41 resulted in value: -0.11060916088320587. Current best value is -0.14481066344741067 with parameters: {'weight0': 14.039019475149264, 'weight1': 10.125615641266847, 'alpha': -0.9080915421591357}.\n"
     ]
    },
    {
     "name": "stdout",
     "output_type": "stream",
     "text": [
      "result/www-10k-dim=512,projection_method=sparse,input_matrix=trans,normalization=True,weights=1.0,1.0,10.318289744187368,23.182841091705413,alpha=-0.6219092134286583,C=1.0.mat\n",
      "Train percent: 0.01\n",
      "Results, using embeddings of dimensionality 512\n",
      "-------------------\n",
      "Train percent: 0.01\n",
      "Average score: {'micro': 0.9190288315629742, 'macro': 0.11342883617917124}\n",
      "-------------------\n"
     ]
    },
    {
     "name": "stderr",
     "output_type": "stream",
     "text": [
      "[I 2019-05-21 16:10:33,410] Finished trial#42 resulted in value: -0.11342883617917124. Current best value is -0.14481066344741067 with parameters: {'weight0': 14.039019475149264, 'weight1': 10.125615641266847, 'alpha': -0.9080915421591357}.\n"
     ]
    },
    {
     "name": "stdout",
     "output_type": "stream",
     "text": [
      "result/www-10k-dim=512,projection_method=sparse,input_matrix=trans,normalization=True,weights=1.0,1.0,13.639670657502897,34.43434030213963,alpha=-0.5101037478257879,C=1.0.mat\n",
      "Train percent: 0.01\n",
      "Results, using embeddings of dimensionality 512\n",
      "-------------------\n",
      "Train percent: 0.01\n",
      "Average score: {'micro': 0.919676277187658, 'macro': 0.12088132895871473}\n",
      "-------------------\n"
     ]
    },
    {
     "name": "stderr",
     "output_type": "stream",
     "text": [
      "[I 2019-05-21 16:10:36,576] Finished trial#43 resulted in value: -0.12088132895871473. Current best value is -0.14481066344741067 with parameters: {'weight0': 14.039019475149264, 'weight1': 10.125615641266847, 'alpha': -0.9080915421591357}.\n"
     ]
    },
    {
     "name": "stdout",
     "output_type": "stream",
     "text": [
      "result/www-10k-dim=512,projection_method=sparse,input_matrix=trans,normalization=True,weights=1.0,1.0,51.93487439844495,11.468021090028095,alpha=-0.6877280339411239,C=1.0.mat\n",
      "Train percent: 0.01\n",
      "Results, using embeddings of dimensionality 512\n",
      "-------------------\n",
      "Train percent: 0.01\n",
      "Average score: {'micro': 0.924693980778958, 'macro': 0.11227494117543683}\n",
      "-------------------\n"
     ]
    },
    {
     "name": "stderr",
     "output_type": "stream",
     "text": [
      "[I 2019-05-21 16:10:40,496] Finished trial#44 resulted in value: -0.11227494117543683. Current best value is -0.14481066344741067 with parameters: {'weight0': 14.039019475149264, 'weight1': 10.125615641266847, 'alpha': -0.9080915421591357}.\n"
     ]
    },
    {
     "name": "stdout",
     "output_type": "stream",
     "text": [
      "result/www-10k-dim=512,projection_method=sparse,input_matrix=trans,normalization=True,weights=1.0,1.0,23.82350438142094,7.9903943988670685,alpha=-0.7995626217996679,C=1.0.mat\n",
      "Train percent: 0.01\n",
      "Results, using embeddings of dimensionality 512\n",
      "-------------------\n",
      "Train percent: 0.01\n",
      "Average score: {'micro': 0.9180576631259484, 'macro': 0.10878157464925726}\n",
      "-------------------\n"
     ]
    },
    {
     "name": "stderr",
     "output_type": "stream",
     "text": [
      "[I 2019-05-21 16:10:44,395] Finished trial#45 resulted in value: -0.10878157464925726. Current best value is -0.14481066344741067 with parameters: {'weight0': 14.039019475149264, 'weight1': 10.125615641266847, 'alpha': -0.9080915421591357}.\n"
     ]
    },
    {
     "name": "stdout",
     "output_type": "stream",
     "text": [
      "result/www-10k-dim=512,projection_method=sparse,input_matrix=trans,normalization=True,weights=1.0,1.0,1.3886493947585326,18.860686696635383,alpha=-0.07383184006488014,C=1.0.mat\n",
      "Train percent: 0.01\n",
      "Results, using embeddings of dimensionality 512\n",
      "-------------------\n",
      "Train percent: 0.01\n",
      "Average score: {'micro': 0.919008598887203, 'macro': 0.12072702320457258}\n",
      "-------------------\n"
     ]
    },
    {
     "name": "stderr",
     "output_type": "stream",
     "text": [
      "[I 2019-05-21 16:10:49,217] Finished trial#46 resulted in value: -0.12072702320457258. Current best value is -0.14481066344741067 with parameters: {'weight0': 14.039019475149264, 'weight1': 10.125615641266847, 'alpha': -0.9080915421591357}.\n"
     ]
    },
    {
     "name": "stdout",
     "output_type": "stream",
     "text": [
      "result/www-10k-dim=512,projection_method=sparse,input_matrix=trans,normalization=True,weights=1.0,1.0,5.8609912796517385,3.3352161562310005,alpha=-0.9357038975802882,C=1.0.mat\n",
      "Train percent: 0.01\n",
      "Results, using embeddings of dimensionality 512\n",
      "-------------------\n",
      "Train percent: 0.01\n",
      "Average score: {'micro': 0.9311077389984825, 'macro': 0.13112120345097097}\n",
      "-------------------\n"
     ]
    },
    {
     "name": "stderr",
     "output_type": "stream",
     "text": [
      "[I 2019-05-21 16:10:53,046] Finished trial#47 resulted in value: -0.13112120345097097. Current best value is -0.14481066344741067 with parameters: {'weight0': 14.039019475149264, 'weight1': 10.125615641266847, 'alpha': -0.9080915421591357}.\n"
     ]
    },
    {
     "name": "stdout",
     "output_type": "stream",
     "text": [
      "result/www-10k-dim=512,projection_method=sparse,input_matrix=trans,normalization=True,weights=1.0,1.0,3.5375676525934323,5.649672602414282,alpha=-0.5544819921822159,C=1.0.mat\n",
      "Train percent: 0.01\n",
      "Results, using embeddings of dimensionality 512\n",
      "-------------------\n",
      "Train percent: 0.01\n",
      "Average score: {'micro': 0.913889731917046, 'macro': 0.12475727415069864}\n",
      "-------------------\n"
     ]
    },
    {
     "name": "stderr",
     "output_type": "stream",
     "text": [
      "[I 2019-05-21 16:10:56,629] Finished trial#48 resulted in value: -0.12475727415069864. Current best value is -0.14481066344741067 with parameters: {'weight0': 14.039019475149264, 'weight1': 10.125615641266847, 'alpha': -0.9080915421591357}.\n"
     ]
    },
    {
     "name": "stdout",
     "output_type": "stream",
     "text": [
      "result/www-10k-dim=512,projection_method=sparse,input_matrix=trans,normalization=True,weights=1.0,1.0,2.4683847185110936,48.40449401979249,alpha=-0.3486719861482672,C=1.0.mat\n",
      "Train percent: 0.01\n",
      "Results, using embeddings of dimensionality 512\n",
      "-------------------\n",
      "Train percent: 0.01\n",
      "Average score: {'micro': 0.9212746585735964, 'macro': 0.11033075909812107}\n",
      "-------------------\n"
     ]
    },
    {
     "name": "stderr",
     "output_type": "stream",
     "text": [
      "[I 2019-05-21 16:10:59,833] Finished trial#49 resulted in value: -0.11033075909812107. Current best value is -0.14481066344741067 with parameters: {'weight0': 14.039019475149264, 'weight1': 10.125615641266847, 'alpha': -0.9080915421591357}.\n"
     ]
    },
    {
     "name": "stdout",
     "output_type": "stream",
     "text": [
      "result/www-10k-dim=512,projection_method=sparse,input_matrix=trans,normalization=True,weights=1.0,1.0,17.586100754626703,4.083882155140166,alpha=-0.22881328737905343,C=1.0.mat\n",
      "Train percent: 0.01\n",
      "Results, using embeddings of dimensionality 512\n",
      "-------------------\n",
      "Train percent: 0.01\n",
      "Average score: {'micro': 0.9166818411734953, 'macro': 0.11919760505020396}\n",
      "-------------------\n"
     ]
    },
    {
     "name": "stderr",
     "output_type": "stream",
     "text": [
      "[I 2019-05-21 16:11:02,804] Finished trial#50 resulted in value: -0.11919760505020396. Current best value is -0.14481066344741067 with parameters: {'weight0': 14.039019475149264, 'weight1': 10.125615641266847, 'alpha': -0.9080915421591357}.\n"
     ]
    },
    {
     "name": "stdout",
     "output_type": "stream",
     "text": [
      "result/www-10k-dim=512,projection_method=sparse,input_matrix=trans,normalization=True,weights=1.0,1.0,35.936256145705634,11.996339942804747,alpha=-0.14033870326044823,C=1.0.mat\n",
      "Train percent: 0.01\n",
      "Results, using embeddings of dimensionality 512\n",
      "-------------------\n",
      "Train percent: 0.01\n",
      "Average score: {'micro': 0.9244511886697016, 'macro': 0.1105330635668896}\n",
      "-------------------\n"
     ]
    },
    {
     "name": "stderr",
     "output_type": "stream",
     "text": [
      "[I 2019-05-21 16:11:05,970] Finished trial#51 resulted in value: -0.1105330635668896. Current best value is -0.14481066344741067 with parameters: {'weight0': 14.039019475149264, 'weight1': 10.125615641266847, 'alpha': -0.9080915421591357}.\n"
     ]
    },
    {
     "name": "stdout",
     "output_type": "stream",
     "text": [
      "result/www-10k-dim=512,projection_method=sparse,input_matrix=trans,normalization=True,weights=1.0,1.0,49.22488594176739,15.926185016388823,alpha=-0.47249707388447115,C=1.0.mat\n",
      "Train percent: 0.01\n",
      "Results, using embeddings of dimensionality 512\n",
      "-------------------\n",
      "Train percent: 0.01\n",
      "Average score: {'micro': 0.9269195751138088, 'macro': 0.12081047700354483}\n",
      "-------------------\n"
     ]
    },
    {
     "name": "stderr",
     "output_type": "stream",
     "text": [
      "[I 2019-05-21 16:11:10,197] Finished trial#52 resulted in value: -0.12081047700354483. Current best value is -0.14481066344741067 with parameters: {'weight0': 14.039019475149264, 'weight1': 10.125615641266847, 'alpha': -0.9080915421591357}.\n"
     ]
    },
    {
     "name": "stdout",
     "output_type": "stream",
     "text": [
      "result/www-10k-dim=512,projection_method=sparse,input_matrix=trans,normalization=True,weights=1.0,1.0,1.9461053454652186,2.8648047498060256,alpha=-0.8552018023788537,C=1.0.mat\n",
      "Train percent: 0.01\n",
      "Results, using embeddings of dimensionality 512\n",
      "-------------------\n",
      "Train percent: 0.01\n",
      "Average score: {'micro': 0.9143550834597874, 'macro': 0.11417275325202954}\n",
      "-------------------\n"
     ]
    },
    {
     "name": "stderr",
     "output_type": "stream",
     "text": [
      "[I 2019-05-21 16:11:14,293] Finished trial#53 resulted in value: -0.11417275325202954. Current best value is -0.14481066344741067 with parameters: {'weight0': 14.039019475149264, 'weight1': 10.125615641266847, 'alpha': -0.9080915421591357}.\n"
     ]
    },
    {
     "name": "stdout",
     "output_type": "stream",
     "text": [
      "result/www-10k-dim=512,projection_method=sparse,input_matrix=trans,normalization=True,weights=1.0,1.0,8.815020818479178,62.87569281155013,alpha=-0.9775396951279691,C=1.0.mat\n",
      "Train percent: 0.01\n",
      "Results, using embeddings of dimensionality 512\n",
      "-------------------\n",
      "Train percent: 0.01\n",
      "Average score: {'micro': 0.9237632776934749, 'macro': 0.11328361627721213}\n",
      "-------------------\n"
     ]
    },
    {
     "name": "stderr",
     "output_type": "stream",
     "text": [
      "[I 2019-05-21 16:11:18,179] Finished trial#54 resulted in value: -0.11328361627721213. Current best value is -0.14481066344741067 with parameters: {'weight0': 14.039019475149264, 'weight1': 10.125615641266847, 'alpha': -0.9080915421591357}.\n"
     ]
    },
    {
     "name": "stdout",
     "output_type": "stream",
     "text": [
      "result/www-10k-dim=512,projection_method=sparse,input_matrix=trans,normalization=True,weights=1.0,1.0,3.9438936512989353,1.8259738483241397,alpha=-0.29188366832113055,C=1.0.mat\n",
      "Train percent: 0.01\n",
      "Results, using embeddings of dimensionality 512\n",
      "-------------------\n",
      "Train percent: 0.01\n",
      "Average score: {'micro': 0.9187253414264036, 'macro': 0.12583838838971526}\n",
      "-------------------\n"
     ]
    },
    {
     "name": "stderr",
     "output_type": "stream",
     "text": [
      "[I 2019-05-21 16:11:21,960] Finished trial#55 resulted in value: -0.12583838838971526. Current best value is -0.14481066344741067 with parameters: {'weight0': 14.039019475149264, 'weight1': 10.125615641266847, 'alpha': -0.9080915421591357}.\n"
     ]
    },
    {
     "name": "stdout",
     "output_type": "stream",
     "text": [
      "result/www-10k-dim=512,projection_method=sparse,input_matrix=trans,normalization=True,weights=1.0,1.0,2.729154800625467,6.369158260502903,alpha=-0.7915144244758064,C=1.0.mat\n",
      "Train percent: 0.01\n",
      "Results, using embeddings of dimensionality 512\n",
      "-------------------\n",
      "Train percent: 0.01\n",
      "Average score: {'micro': 0.9253211937278705, 'macro': 0.12639720606074248}\n",
      "-------------------\n"
     ]
    },
    {
     "name": "stderr",
     "output_type": "stream",
     "text": [
      "[I 2019-05-21 16:11:25,743] Finished trial#56 resulted in value: -0.12639720606074248. Current best value is -0.14481066344741067 with parameters: {'weight0': 14.039019475149264, 'weight1': 10.125615641266847, 'alpha': -0.9080915421591357}.\n"
     ]
    },
    {
     "name": "stdout",
     "output_type": "stream",
     "text": [
      "result/www-10k-dim=512,projection_method=sparse,input_matrix=trans,normalization=True,weights=1.0,1.0,7.349515066616272,8.31335885102435,alpha=-0.8769251993353024,C=1.0.mat\n",
      "Train percent: 0.01\n",
      "Results, using embeddings of dimensionality 512\n",
      "-------------------\n",
      "Train percent: 0.01\n",
      "Average score: {'micro': 0.9220435002529085, 'macro': 0.1282433230497937}\n",
      "-------------------\n"
     ]
    },
    {
     "name": "stderr",
     "output_type": "stream",
     "text": [
      "[I 2019-05-21 16:11:29,105] Finished trial#57 resulted in value: -0.1282433230497937. Current best value is -0.14481066344741067 with parameters: {'weight0': 14.039019475149264, 'weight1': 10.125615641266847, 'alpha': -0.9080915421591357}.\n"
     ]
    },
    {
     "name": "stdout",
     "output_type": "stream",
     "text": [
      "result/www-10k-dim=512,projection_method=sparse,input_matrix=trans,normalization=True,weights=1.0,1.0,10.528571752795983,10.546321688197246,alpha=-0.4019658169841595,C=1.0.mat\n",
      "Train percent: 0.01\n",
      "Results, using embeddings of dimensionality 512\n",
      "-------------------\n",
      "Train percent: 0.01\n",
      "Average score: {'micro': 0.9088922610015174, 'macro': 0.12178876627450093}\n",
      "-------------------\n"
     ]
    },
    {
     "name": "stderr",
     "output_type": "stream",
     "text": [
      "[I 2019-05-21 16:11:32,178] Finished trial#58 resulted in value: -0.12178876627450093. Current best value is -0.14481066344741067 with parameters: {'weight0': 14.039019475149264, 'weight1': 10.125615641266847, 'alpha': -0.9080915421591357}.\n"
     ]
    },
    {
     "name": "stdout",
     "output_type": "stream",
     "text": [
      "result/www-10k-dim=512,projection_method=sparse,input_matrix=trans,normalization=True,weights=1.0,1.0,14.672840935449832,26.969716502827506,alpha=-0.7153299709515986,C=1.0.mat\n",
      "Train percent: 0.01\n",
      "Results, using embeddings of dimensionality 512\n",
      "-------------------\n",
      "Train percent: 0.01\n",
      "Average score: {'micro': 0.9294081942336874, 'macro': 0.13954633402791955}\n",
      "-------------------\n"
     ]
    },
    {
     "name": "stderr",
     "output_type": "stream",
     "text": [
      "[I 2019-05-21 16:11:35,777] Finished trial#59 resulted in value: -0.13954633402791955. Current best value is -0.14481066344741067 with parameters: {'weight0': 14.039019475149264, 'weight1': 10.125615641266847, 'alpha': -0.9080915421591357}.\n"
     ]
    },
    {
     "name": "stdout",
     "output_type": "stream",
     "text": [
      "result/www-10k-dim=512,projection_method=sparse,input_matrix=trans,normalization=True,weights=1.0,1.0,5.9748026868808,2.5391711319187205,alpha=-0.6409528594248667,C=1.0.mat\n",
      "Train percent: 0.01\n",
      "Results, using embeddings of dimensionality 512\n",
      "-------------------\n",
      "Train percent: 0.01\n",
      "Average score: {'micro': 0.9191906929691452, 'macro': 0.1250325302680287}\n",
      "-------------------\n"
     ]
    },
    {
     "name": "stderr",
     "output_type": "stream",
     "text": [
      "[I 2019-05-21 16:11:39,221] Finished trial#60 resulted in value: -0.1250325302680287. Current best value is -0.14481066344741067 with parameters: {'weight0': 14.039019475149264, 'weight1': 10.125615641266847, 'alpha': -0.9080915421591357}.\n"
     ]
    },
    {
     "name": "stdout",
     "output_type": "stream",
     "text": [
      "result/www-10k-dim=512,projection_method=sparse,input_matrix=trans,normalization=True,weights=1.0,1.0,18.758457661326812,22.62193420133428,alpha=-0.1680973620862114,C=1.0.mat\n",
      "Train percent: 0.01\n",
      "Results, using embeddings of dimensionality 512\n",
      "-------------------\n",
      "Train percent: 0.01\n",
      "Average score: {'micro': 0.9115629742033384, 'macro': 0.11537938393685124}\n",
      "-------------------\n"
     ]
    },
    {
     "name": "stderr",
     "output_type": "stream",
     "text": [
      "[I 2019-05-21 16:11:43,211] Finished trial#61 resulted in value: -0.11537938393685124. Current best value is -0.14481066344741067 with parameters: {'weight0': 14.039019475149264, 'weight1': 10.125615641266847, 'alpha': -0.9080915421591357}.\n"
     ]
    },
    {
     "name": "stdout",
     "output_type": "stream",
     "text": [
      "result/www-10k-dim=512,projection_method=sparse,input_matrix=trans,normalization=True,weights=1.0,1.0,22.757211808151027,5.030631828775304,alpha=-0.7629773529492184,C=1.0.mat\n",
      "Train percent: 0.01\n",
      "Results, using embeddings of dimensionality 512\n",
      "-------------------\n",
      "Train percent: 0.01\n",
      "Average score: {'micro': 0.9309054122407687, 'macro': 0.13271820118745492}\n",
      "-------------------\n"
     ]
    },
    {
     "name": "stderr",
     "output_type": "stream",
     "text": [
      "[I 2019-05-21 16:11:48,069] Finished trial#62 resulted in value: -0.13271820118745492. Current best value is -0.14481066344741067 with parameters: {'weight0': 14.039019475149264, 'weight1': 10.125615641266847, 'alpha': -0.9080915421591357}.\n"
     ]
    },
    {
     "name": "stdout",
     "output_type": "stream",
     "text": [
      "result/www-10k-dim=512,projection_method=sparse,input_matrix=trans,normalization=True,weights=1.0,1.0,28.57038924037927,4.105468929714759,alpha=-0.047557090957159265,C=1.0.mat\n",
      "Train percent: 0.01\n",
      "Results, using embeddings of dimensionality 512\n",
      "-------------------\n",
      "Train percent: 0.01\n",
      "Average score: {'micro': 0.9237430450177035, 'macro': 0.12861770696909694}\n",
      "-------------------\n"
     ]
    },
    {
     "name": "stderr",
     "output_type": "stream",
     "text": [
      "[I 2019-05-21 16:11:52,540] Finished trial#63 resulted in value: -0.12861770696909694. Current best value is -0.14481066344741067 with parameters: {'weight0': 14.039019475149264, 'weight1': 10.125615641266847, 'alpha': -0.9080915421591357}.\n"
     ]
    },
    {
     "name": "stdout",
     "output_type": "stream",
     "text": [
      "result/www-10k-dim=512,projection_method=sparse,input_matrix=trans,normalization=True,weights=1.0,1.0,2.046373478963005,14.307409920112633,alpha=-0.5302413229784697,C=1.0.mat\n",
      "Train percent: 0.01\n",
      "Results, using embeddings of dimensionality 512\n",
      "-------------------\n",
      "Train percent: 0.01\n",
      "Average score: {'micro': 0.9151441578148709, 'macro': 0.1162564693974392}\n",
      "-------------------\n"
     ]
    },
    {
     "name": "stderr",
     "output_type": "stream",
     "text": [
      "[I 2019-05-21 16:11:57,053] Finished trial#64 resulted in value: -0.1162564693974392. Current best value is -0.14481066344741067 with parameters: {'weight0': 14.039019475149264, 'weight1': 10.125615641266847, 'alpha': -0.9080915421591357}.\n"
     ]
    },
    {
     "name": "stdout",
     "output_type": "stream",
     "text": [
      "result/www-10k-dim=512,projection_method=sparse,input_matrix=trans,normalization=True,weights=1.0,1.0,42.773937151729,45.664932320724475,alpha=-0.6690241860460432,C=1.0.mat\n",
      "Train percent: 0.01\n",
      "Results, using embeddings of dimensionality 512\n",
      "-------------------\n",
      "Train percent: 0.01\n",
      "Average score: {'micro': 0.9263125948406676, 'macro': 0.1376370485397839}\n",
      "-------------------\n"
     ]
    },
    {
     "name": "stderr",
     "output_type": "stream",
     "text": [
      "[I 2019-05-21 16:12:00,414] Finished trial#65 resulted in value: -0.1376370485397839. Current best value is -0.14481066344741067 with parameters: {'weight0': 14.039019475149264, 'weight1': 10.125615641266847, 'alpha': -0.9080915421591357}.\n"
     ]
    },
    {
     "name": "stdout",
     "output_type": "stream",
     "text": [
      "result/www-10k-dim=512,projection_method=sparse,input_matrix=trans,normalization=True,weights=1.0,1.0,60.91003380184786,39.18049526759203,alpha=-0.9617120401320631,C=1.0.mat\n",
      "Train percent: 0.01\n",
      "Results, using embeddings of dimensionality 512\n",
      "-------------------\n",
      "Train percent: 0.01\n",
      "Average score: {'micro': 0.9204248861911989, 'macro': 0.12402499948076531}\n",
      "-------------------\n"
     ]
    },
    {
     "name": "stderr",
     "output_type": "stream",
     "text": [
      "[I 2019-05-21 16:12:03,443] Finished trial#66 resulted in value: -0.12402499948076531. Current best value is -0.14481066344741067 with parameters: {'weight0': 14.039019475149264, 'weight1': 10.125615641266847, 'alpha': -0.9080915421591357}.\n"
     ]
    },
    {
     "name": "stdout",
     "output_type": "stream",
     "text": [
      "result/www-10k-dim=512,projection_method=sparse,input_matrix=trans,normalization=True,weights=1.0,1.0,35.94380470383988,35.682298719074076,alpha=-0.4487334159657561,C=1.0.mat\n",
      "Train percent: 0.01\n",
      "Results, using embeddings of dimensionality 512\n",
      "-------------------\n",
      "Train percent: 0.01\n",
      "Average score: {'micro': 0.9182599898836621, 'macro': 0.10399084840357549}\n",
      "-------------------\n"
     ]
    },
    {
     "name": "stderr",
     "output_type": "stream",
     "text": [
      "[I 2019-05-21 16:12:06,708] Finished trial#67 resulted in value: -0.10399084840357549. Current best value is -0.14481066344741067 with parameters: {'weight0': 14.039019475149264, 'weight1': 10.125615641266847, 'alpha': -0.9080915421591357}.\n"
     ]
    },
    {
     "name": "stdout",
     "output_type": "stream",
     "text": [
      "result/www-10k-dim=512,projection_method=sparse,input_matrix=trans,normalization=True,weights=1.0,1.0,12.322033368533795,60.543855237904125,alpha=-0.5924296045378166,C=1.0.mat\n",
      "Train percent: 0.01\n",
      "Results, using embeddings of dimensionality 512\n",
      "-------------------\n",
      "Train percent: 0.01\n",
      "Average score: {'micro': 0.9170055639858372, 'macro': 0.13015803302097412}\n",
      "-------------------\n"
     ]
    },
    {
     "name": "stderr",
     "output_type": "stream",
     "text": [
      "[I 2019-05-21 16:12:10,351] Finished trial#68 resulted in value: -0.13015803302097412. Current best value is -0.14481066344741067 with parameters: {'weight0': 14.039019475149264, 'weight1': 10.125615641266847, 'alpha': -0.9080915421591357}.\n"
     ]
    },
    {
     "name": "stdout",
     "output_type": "stream",
     "text": [
      "result/www-10k-dim=512,projection_method=sparse,input_matrix=trans,normalization=True,weights=1.0,1.0,31.666698448615684,20.33708161019039,alpha=-0.615172888067517,C=1.0.mat\n",
      "Train percent: 0.01\n",
      "Results, using embeddings of dimensionality 512\n",
      "-------------------\n",
      "Train percent: 0.01\n",
      "Average score: {'micro': 0.9296712190187153, 'macro': 0.13980037188444033}\n",
      "-------------------\n"
     ]
    },
    {
     "name": "stderr",
     "output_type": "stream",
     "text": [
      "[I 2019-05-21 16:12:13,478] Finished trial#69 resulted in value: -0.13980037188444033. Current best value is -0.14481066344741067 with parameters: {'weight0': 14.039019475149264, 'weight1': 10.125615641266847, 'alpha': -0.9080915421591357}.\n"
     ]
    },
    {
     "name": "stdout",
     "output_type": "stream",
     "text": [
      "result/www-10k-dim=512,projection_method=sparse,input_matrix=trans,normalization=True,weights=1.0,1.0,26.03565589945769,41.739625992553634,alpha=-0.8224164007094067,C=1.0.mat\n",
      "Train percent: 0.01\n",
      "Results, using embeddings of dimensionality 512\n",
      "-------------------\n",
      "Train percent: 0.01\n",
      "Average score: {'micro': 0.9231967627718765, 'macro': 0.13288773204474577}\n",
      "-------------------\n"
     ]
    },
    {
     "name": "stderr",
     "output_type": "stream",
     "text": [
      "[I 2019-05-21 16:12:18,383] Finished trial#70 resulted in value: -0.13288773204474577. Current best value is -0.14481066344741067 with parameters: {'weight0': 14.039019475149264, 'weight1': 10.125615641266847, 'alpha': -0.9080915421591357}.\n"
     ]
    },
    {
     "name": "stdout",
     "output_type": "stream",
     "text": [
      "result/www-10k-dim=512,projection_method=sparse,input_matrix=trans,normalization=True,weights=1.0,1.0,39.87050938146382,27.540771884061627,alpha=-0.8980470478050516,C=1.0.mat\n",
      "Train percent: 0.01\n",
      "Results, using embeddings of dimensionality 512\n",
      "-------------------\n",
      "Train percent: 0.01\n",
      "Average score: {'micro': 0.930156803237228, 'macro': 0.1432550209043185}\n",
      "-------------------\n"
     ]
    },
    {
     "name": "stderr",
     "output_type": "stream",
     "text": [
      "[I 2019-05-21 16:12:23,216] Finished trial#71 resulted in value: -0.1432550209043185. Current best value is -0.14481066344741067 with parameters: {'weight0': 14.039019475149264, 'weight1': 10.125615641266847, 'alpha': -0.9080915421591357}.\n"
     ]
    },
    {
     "name": "stdout",
     "output_type": "stream",
     "text": [
      "result/www-10k-dim=512,projection_method=sparse,input_matrix=trans,normalization=True,weights=1.0,1.0,15.066465069536294,16.340436976650526,alpha=-0.36797088555044144,C=1.0.mat\n",
      "Train percent: 0.01\n",
      "Results, using embeddings of dimensionality 512\n",
      "-------------------\n",
      "Train percent: 0.01\n",
      "Average score: {'micro': 0.9171876580677795, 'macro': 0.12106944759412297}\n",
      "-------------------\n"
     ]
    },
    {
     "name": "stderr",
     "output_type": "stream",
     "text": [
      "[I 2019-05-21 16:12:27,445] Finished trial#72 resulted in value: -0.12106944759412297. Current best value is -0.14481066344741067 with parameters: {'weight0': 14.039019475149264, 'weight1': 10.125615641266847, 'alpha': -0.9080915421591357}.\n"
     ]
    },
    {
     "name": "stdout",
     "output_type": "stream",
     "text": [
      "result/www-10k-dim=512,projection_method=sparse,input_matrix=trans,normalization=True,weights=1.0,1.0,5.128523449443725,13.13198667594805,alpha=-0.3232682837701233,C=1.0.mat\n",
      "Train percent: 0.01\n",
      "Results, using embeddings of dimensionality 512\n",
      "-------------------\n",
      "Train percent: 0.01\n",
      "Average score: {'micro': 0.9270612038442085, 'macro': 0.123249231213059}\n",
      "-------------------\n"
     ]
    },
    {
     "name": "stderr",
     "output_type": "stream",
     "text": [
      "[I 2019-05-21 16:12:31,141] Finished trial#73 resulted in value: -0.123249231213059. Current best value is -0.14481066344741067 with parameters: {'weight0': 14.039019475149264, 'weight1': 10.125615641266847, 'alpha': -0.9080915421591357}.\n"
     ]
    },
    {
     "name": "stdout",
     "output_type": "stream",
     "text": [
      "result/www-10k-dim=512,projection_method=sparse,input_matrix=trans,normalization=True,weights=1.0,1.0,8.263380590015482,29.207743709523044,alpha=-0.0034861462261019383,C=1.0.mat\n",
      "Train percent: 0.01\n",
      "Results, using embeddings of dimensionality 512\n",
      "-------------------\n",
      "Train percent: 0.01\n",
      "Average score: {'micro': 0.9285584218512899, 'macro': 0.12493918492566433}\n",
      "-------------------\n"
     ]
    },
    {
     "name": "stderr",
     "output_type": "stream",
     "text": [
      "[I 2019-05-21 16:12:34,218] Finished trial#74 resulted in value: -0.12493918492566433. Current best value is -0.14481066344741067 with parameters: {'weight0': 14.039019475149264, 'weight1': 10.125615641266847, 'alpha': -0.9080915421591357}.\n"
     ]
    },
    {
     "name": "stdout",
     "output_type": "stream",
     "text": [
      "result/www-10k-dim=512,projection_method=sparse,input_matrix=trans,normalization=True,weights=1.0,1.0,9.669107180817766,9.959983383859212,alpha=-0.4801376811386229,C=1.0.mat\n",
      "Train percent: 0.01\n",
      "Results, using embeddings of dimensionality 512\n",
      "-------------------\n",
      "Train percent: 0.01\n",
      "Average score: {'micro': 0.916621143146181, 'macro': 0.11154613487291629}\n",
      "-------------------\n"
     ]
    },
    {
     "name": "stderr",
     "output_type": "stream",
     "text": [
      "[I 2019-05-21 16:12:37,153] Finished trial#75 resulted in value: -0.11154613487291629. Current best value is -0.14481066344741067 with parameters: {'weight0': 14.039019475149264, 'weight1': 10.125615641266847, 'alpha': -0.9080915421591357}.\n"
     ]
    },
    {
     "name": "stdout",
     "output_type": "stream",
     "text": [
      "result/www-10k-dim=512,projection_method=sparse,input_matrix=trans,normalization=True,weights=1.0,1.0,47.75185846580251,31.252609622794996,alpha=-0.438342926191026,C=1.0.mat\n",
      "Train percent: 0.01\n",
      "Results, using embeddings of dimensionality 512\n",
      "-------------------\n",
      "Train percent: 0.01\n",
      "Average score: {'micro': 0.9193727870510875, 'macro': 0.13765803798189624}\n",
      "-------------------\n"
     ]
    },
    {
     "name": "stderr",
     "output_type": "stream",
     "text": [
      "[I 2019-05-21 16:12:40,191] Finished trial#76 resulted in value: -0.13765803798189624. Current best value is -0.14481066344741067 with parameters: {'weight0': 14.039019475149264, 'weight1': 10.125615641266847, 'alpha': -0.9080915421591357}.\n"
     ]
    },
    {
     "name": "stdout",
     "output_type": "stream",
     "text": [
      "result/www-10k-dim=512,projection_method=sparse,input_matrix=trans,normalization=True,weights=1.0,1.0,20.356403517204566,24.671054553574326,alpha=-0.8988893461772821,C=1.0.mat\n",
      "Train percent: 0.01\n",
      "Results, using embeddings of dimensionality 512\n",
      "-------------------\n",
      "Train percent: 0.01\n",
      "Average score: {'micro': 0.9264137582195244, 'macro': 0.11543251251824031}\n",
      "-------------------\n"
     ]
    },
    {
     "name": "stderr",
     "output_type": "stream",
     "text": [
      "[I 2019-05-21 16:12:43,580] Finished trial#77 resulted in value: -0.11543251251824031. Current best value is -0.14481066344741067 with parameters: {'weight0': 14.039019475149264, 'weight1': 10.125615641266847, 'alpha': -0.9080915421591357}.\n"
     ]
    },
    {
     "name": "stdout",
     "output_type": "stream",
     "text": [
      "result/www-10k-dim=512,projection_method=sparse,input_matrix=trans,normalization=True,weights=1.0,1.0,4.38212084576058,7.587945040368134,alpha=-0.5298424422271755,C=1.0.mat\n",
      "Train percent: 0.01\n",
      "Results, using embeddings of dimensionality 512\n",
      "-------------------\n",
      "Train percent: 0.01\n",
      "Average score: {'micro': 0.9194334850784017, 'macro': 0.1297689040678333}\n",
      "-------------------\n"
     ]
    },
    {
     "name": "stderr",
     "output_type": "stream",
     "text": [
      "[I 2019-05-21 16:12:47,260] Finished trial#78 resulted in value: -0.1297689040678333. Current best value is -0.14481066344741067 with parameters: {'weight0': 14.039019475149264, 'weight1': 10.125615641266847, 'alpha': -0.9080915421591357}.\n"
     ]
    },
    {
     "name": "stdout",
     "output_type": "stream",
     "text": [
      "result/www-10k-dim=512,projection_method=sparse,input_matrix=trans,normalization=True,weights=1.0,1.0,58.159621044536586,18.066916675694774,alpha=-0.7347314280954979,C=1.0.mat\n",
      "Train percent: 0.01\n",
      "Results, using embeddings of dimensionality 512\n",
      "-------------------\n",
      "Train percent: 0.01\n",
      "Average score: {'micro': 0.9253211937278707, 'macro': 0.1364649767064347}\n",
      "-------------------\n"
     ]
    },
    {
     "name": "stderr",
     "output_type": "stream",
     "text": [
      "[I 2019-05-21 16:12:52,486] Finished trial#79 resulted in value: -0.1364649767064347. Current best value is -0.14481066344741067 with parameters: {'weight0': 14.039019475149264, 'weight1': 10.125615641266847, 'alpha': -0.9080915421591357}.\n"
     ]
    },
    {
     "name": "stdout",
     "output_type": "stream",
     "text": [
      "result/www-10k-dim=512,projection_method=sparse,input_matrix=trans,normalization=True,weights=1.0,1.0,11.54798543129898,8.662441750217544,alpha=-0.2360903705191295,C=1.0.mat\n",
      "Train percent: 0.01\n",
      "Results, using embeddings of dimensionality 512\n",
      "-------------------\n",
      "Train percent: 0.01\n",
      "Average score: {'micro': 0.9218007081436521, 'macro': 0.12019307068154994}\n",
      "-------------------\n"
     ]
    },
    {
     "name": "stderr",
     "output_type": "stream",
     "text": [
      "[I 2019-05-21 16:12:57,190] Finished trial#80 resulted in value: -0.12019307068154994. Current best value is -0.14481066344741067 with parameters: {'weight0': 14.039019475149264, 'weight1': 10.125615641266847, 'alpha': -0.9080915421591357}.\n"
     ]
    },
    {
     "name": "stdout",
     "output_type": "stream",
     "text": [
      "result/www-10k-dim=512,projection_method=sparse,input_matrix=trans,normalization=True,weights=1.0,1.0,6.543302045014862,6.315413118116303,alpha=-0.9193158137352527,C=1.0.mat\n",
      "Train percent: 0.01\n",
      "Results, using embeddings of dimensionality 512\n",
      "-------------------\n",
      "Train percent: 0.01\n",
      "Average score: {'micro': 0.9249772382397572, 'macro': 0.1420181904426115}\n",
      "-------------------\n"
     ]
    },
    {
     "name": "stderr",
     "output_type": "stream",
     "text": [
      "[I 2019-05-21 16:13:01,396] Finished trial#81 resulted in value: -0.1420181904426115. Current best value is -0.14481066344741067 with parameters: {'weight0': 14.039019475149264, 'weight1': 10.125615641266847, 'alpha': -0.9080915421591357}.\n"
     ]
    },
    {
     "name": "stdout",
     "output_type": "stream",
     "text": [
      "result/www-10k-dim=512,projection_method=sparse,input_matrix=trans,normalization=True,weights=1.0,1.0,1.0132479547291786,11.945002098109168,alpha=-0.5762018450546151,C=1.0.mat\n",
      "Train percent: 0.01\n",
      "Results, using embeddings of dimensionality 512\n",
      "-------------------\n",
      "Train percent: 0.01\n",
      "Average score: {'micro': 0.9281537683358625, 'macro': 0.13284784244089134}\n",
      "-------------------\n"
     ]
    },
    {
     "name": "stderr",
     "output_type": "stream",
     "text": [
      "[I 2019-05-21 16:13:04,842] Finished trial#82 resulted in value: -0.13284784244089134. Current best value is -0.14481066344741067 with parameters: {'weight0': 14.039019475149264, 'weight1': 10.125615641266847, 'alpha': -0.9080915421591357}.\n"
     ]
    },
    {
     "name": "stdout",
     "output_type": "stream",
     "text": [
      "result/www-10k-dim=512,projection_method=sparse,input_matrix=trans,normalization=True,weights=1.0,1.0,17.717097959449767,15.215398111374347,alpha=-0.7785205429640571,C=1.0.mat\n",
      "Train percent: 0.01\n",
      "Results, using embeddings of dimensionality 512\n",
      "-------------------\n",
      "Train percent: 0.01\n",
      "Average score: {'micro': 0.9307637835103693, 'macro': 0.12802038887094228}\n",
      "-------------------\n"
     ]
    },
    {
     "name": "stderr",
     "output_type": "stream",
     "text": [
      "[I 2019-05-21 16:13:08,061] Finished trial#83 resulted in value: -0.12802038887094228. Current best value is -0.14481066344741067 with parameters: {'weight0': 14.039019475149264, 'weight1': 10.125615641266847, 'alpha': -0.9080915421591357}.\n"
     ]
    },
    {
     "name": "stdout",
     "output_type": "stream",
     "text": [
      "result/www-10k-dim=512,projection_method=sparse,input_matrix=trans,normalization=True,weights=1.0,1.0,5.409117912758438,6.9354910764716795,alpha=-0.9960986580716749,C=1.0.mat\n",
      "Train percent: 0.01\n",
      "Results, using embeddings of dimensionality 512\n",
      "-------------------\n",
      "Train percent: 0.01\n",
      "Average score: {'micro': 0.9258067779463834, 'macro': 0.11423567970086348}\n",
      "-------------------\n"
     ]
    },
    {
     "name": "stderr",
     "output_type": "stream",
     "text": [
      "[I 2019-05-21 16:13:11,525] Finished trial#84 resulted in value: -0.11423567970086348. Current best value is -0.14481066344741067 with parameters: {'weight0': 14.039019475149264, 'weight1': 10.125615641266847, 'alpha': -0.9080915421591357}.\n"
     ]
    },
    {
     "name": "stdout",
     "output_type": "stream",
     "text": [
      "result/www-10k-dim=512,projection_method=sparse,input_matrix=trans,normalization=True,weights=1.0,1.0,38.167684919448796,57.46180446336924,alpha=-0.8698550137221959,C=1.0.mat\n",
      "Train percent: 0.01\n",
      "Results, using embeddings of dimensionality 512\n",
      "-------------------\n",
      "Train percent: 0.01\n",
      "Average score: {'micro': 0.9203641881638849, 'macro': 0.1341907295410755}\n",
      "-------------------\n"
     ]
    },
    {
     "name": "stderr",
     "output_type": "stream",
     "text": [
      "[I 2019-05-21 16:13:14,982] Finished trial#85 resulted in value: -0.1341907295410755. Current best value is -0.14481066344741067 with parameters: {'weight0': 14.039019475149264, 'weight1': 10.125615641266847, 'alpha': -0.9080915421591357}.\n"
     ]
    },
    {
     "name": "stdout",
     "output_type": "stream",
     "text": [
      "result/www-10k-dim=512,projection_method=sparse,input_matrix=trans,normalization=True,weights=1.0,1.0,13.258031863608824,5.642120781824803,alpha=-0.38203284495097733,C=1.0.mat\n",
      "Train percent: 0.01\n",
      "Results, using embeddings of dimensionality 512\n",
      "-------------------\n",
      "Train percent: 0.01\n",
      "Average score: {'micro': 0.9136874051593324, 'macro': 0.11362384443639377}\n",
      "-------------------\n"
     ]
    },
    {
     "name": "stderr",
     "output_type": "stream",
     "text": [
      "[I 2019-05-21 16:13:17,946] Finished trial#86 resulted in value: -0.11362384443639377. Current best value is -0.14481066344741067 with parameters: {'weight0': 14.039019475149264, 'weight1': 10.125615641266847, 'alpha': -0.9080915421591357}.\n"
     ]
    },
    {
     "name": "stdout",
     "output_type": "stream",
     "text": [
      "result/www-10k-dim=512,projection_method=sparse,input_matrix=trans,normalization=True,weights=1.0,1.0,25.44290370806909,20.616926089642966,alpha=-0.29905784358213505,C=1.0.mat\n",
      "Train percent: 0.01\n",
      "Results, using embeddings of dimensionality 512\n",
      "-------------------\n",
      "Train percent: 0.01\n",
      "Average score: {'micro': 0.9196560445118868, 'macro': 0.11574583350534211}\n",
      "-------------------\n"
     ]
    },
    {
     "name": "stderr",
     "output_type": "stream",
     "text": [
      "[I 2019-05-21 16:13:21,885] Finished trial#87 resulted in value: -0.11574583350534211. Current best value is -0.14481066344741067 with parameters: {'weight0': 14.039019475149264, 'weight1': 10.125615641266847, 'alpha': -0.9080915421591357}.\n"
     ]
    },
    {
     "name": "stdout",
     "output_type": "stream",
     "text": [
      "result/www-10k-dim=512,projection_method=sparse,input_matrix=trans,normalization=True,weights=1.0,1.0,3.482086274361188,10.089526884224158,alpha=-0.6899609722339826,C=1.0.mat\n",
      "Train percent: 0.01\n",
      "Results, using embeddings of dimensionality 512\n",
      "-------------------\n",
      "Train percent: 0.01\n",
      "Average score: {'micro': 0.9294891249367729, 'macro': 0.13684336974501465}\n",
      "-------------------\n"
     ]
    },
    {
     "name": "stderr",
     "output_type": "stream",
     "text": [
      "[I 2019-05-21 16:13:26,997] Finished trial#88 resulted in value: -0.13684336974501465. Current best value is -0.14481066344741067 with parameters: {'weight0': 14.039019475149264, 'weight1': 10.125615641266847, 'alpha': -0.9080915421591357}.\n"
     ]
    },
    {
     "name": "stdout",
     "output_type": "stream",
     "text": [
      "result/www-10k-dim=512,projection_method=sparse,input_matrix=trans,normalization=True,weights=1.0,1.0,31.592889403408932,13.397297608282528,alpha=-0.6407004346500864,C=1.0.mat\n",
      "Train percent: 0.01\n",
      "Results, using embeddings of dimensionality 512\n",
      "-------------------\n",
      "Train percent: 0.01\n",
      "Average score: {'micro': 0.9126757713707638, 'macro': 0.1088481617892759}\n",
      "-------------------\n"
     ]
    },
    {
     "name": "stderr",
     "output_type": "stream",
     "text": [
      "[I 2019-05-21 16:13:31,560] Finished trial#89 resulted in value: -0.1088481617892759. Current best value is -0.14481066344741067 with parameters: {'weight0': 14.039019475149264, 'weight1': 10.125615641266847, 'alpha': -0.9080915421591357}.\n"
     ]
    },
    {
     "name": "stdout",
     "output_type": "stream",
     "text": [
      "result/www-10k-dim=512,projection_method=sparse,input_matrix=trans,normalization=True,weights=1.0,1.0,16.47303119444603,25.26231670979635,alpha=-0.830134178583883,C=1.0.mat\n",
      "Train percent: 0.01\n",
      "Results, using embeddings of dimensionality 512\n",
      "-------------------\n",
      "Train percent: 0.01\n",
      "Average score: {'micro': 0.9262923621648962, 'macro': 0.12526997753070668}\n",
      "-------------------\n"
     ]
    },
    {
     "name": "stderr",
     "output_type": "stream",
     "text": [
      "[I 2019-05-21 16:13:35,763] Finished trial#90 resulted in value: -0.12526997753070668. Current best value is -0.14481066344741067 with parameters: {'weight0': 14.039019475149264, 'weight1': 10.125615641266847, 'alpha': -0.9080915421591357}.\n"
     ]
    },
    {
     "name": "stdout",
     "output_type": "stream",
     "text": [
      "result/www-10k-dim=512,projection_method=sparse,input_matrix=trans,normalization=True,weights=1.0,1.0,7.48462292397312,17.218805422996493,alpha=-0.41695821004853434,C=1.0.mat\n",
      "Train percent: 0.01\n",
      "Results, using embeddings of dimensionality 512\n",
      "-------------------\n",
      "Train percent: 0.01\n",
      "Average score: {'micro': 0.9215579160343956, 'macro': 0.12028116045677328}\n",
      "-------------------\n"
     ]
    },
    {
     "name": "stderr",
     "output_type": "stream",
     "text": [
      "[I 2019-05-21 16:13:39,271] Finished trial#91 resulted in value: -0.12028116045677328. Current best value is -0.14481066344741067 with parameters: {'weight0': 14.039019475149264, 'weight1': 10.125615641266847, 'alpha': -0.9080915421591357}.\n"
     ]
    },
    {
     "name": "stdout",
     "output_type": "stream",
     "text": [
      "result/www-10k-dim=512,projection_method=sparse,input_matrix=trans,normalization=True,weights=1.0,1.0,21.86610863361285,11.351134371176768,alpha=-0.5323473604994639,C=1.0.mat\n",
      "Train percent: 0.01\n",
      "Results, using embeddings of dimensionality 512\n",
      "-------------------\n",
      "Train percent: 0.01\n",
      "Average score: {'micro': 0.9091350531107739, 'macro': 0.10872170434959842}\n",
      "-------------------\n"
     ]
    },
    {
     "name": "stderr",
     "output_type": "stream",
     "text": [
      "[I 2019-05-21 16:13:42,566] Finished trial#92 resulted in value: -0.10872170434959842. Current best value is -0.14481066344741067 with parameters: {'weight0': 14.039019475149264, 'weight1': 10.125615641266847, 'alpha': -0.9080915421591357}.\n"
     ]
    },
    {
     "name": "stdout",
     "output_type": "stream",
     "text": [
      "result/www-10k-dim=512,projection_method=sparse,input_matrix=trans,normalization=True,weights=1.0,1.0,9.044682156021523,35.80558912719051,alpha=-0.2672604876519299,C=1.0.mat\n",
      "Train percent: 0.01\n"
     ]
    },
    {
     "ename": "KeyboardInterrupt",
     "evalue": "",
     "output_type": "error",
     "traceback": [
      "\u001b[0;31m---------------------------------------------------------------------------\u001b[0m",
      "\u001b[0;31mKeyboardInterrupt\u001b[0m                         Traceback (most recent call last)",
      "\u001b[0;32m<timed exec>\u001b[0m in \u001b[0;36m<module>\u001b[0;34m\u001b[0m\n",
      "\u001b[0;32m~/anaconda3/lib/python3.7/site-packages/optuna/study.py\u001b[0m in \u001b[0;36moptimize\u001b[0;34m(self, func, n_trials, timeout, n_jobs, catch)\u001b[0m\n\u001b[1;32m    208\u001b[0m \u001b[0;34m\u001b[0m\u001b[0m\n\u001b[1;32m    209\u001b[0m         \u001b[0;32mif\u001b[0m \u001b[0mn_jobs\u001b[0m \u001b[0;34m==\u001b[0m \u001b[0;36m1\u001b[0m\u001b[0;34m:\u001b[0m\u001b[0;34m\u001b[0m\u001b[0;34m\u001b[0m\u001b[0m\n\u001b[0;32m--> 210\u001b[0;31m             \u001b[0mself\u001b[0m\u001b[0;34m.\u001b[0m\u001b[0m_optimize_sequential\u001b[0m\u001b[0;34m(\u001b[0m\u001b[0mfunc\u001b[0m\u001b[0;34m,\u001b[0m \u001b[0mn_trials\u001b[0m\u001b[0;34m,\u001b[0m \u001b[0mtimeout\u001b[0m\u001b[0;34m,\u001b[0m \u001b[0mcatch\u001b[0m\u001b[0;34m)\u001b[0m\u001b[0;34m\u001b[0m\u001b[0;34m\u001b[0m\u001b[0m\n\u001b[0m\u001b[1;32m    211\u001b[0m         \u001b[0;32melse\u001b[0m\u001b[0;34m:\u001b[0m\u001b[0;34m\u001b[0m\u001b[0;34m\u001b[0m\u001b[0m\n\u001b[1;32m    212\u001b[0m             \u001b[0mself\u001b[0m\u001b[0;34m.\u001b[0m\u001b[0m_optimize_parallel\u001b[0m\u001b[0;34m(\u001b[0m\u001b[0mfunc\u001b[0m\u001b[0;34m,\u001b[0m \u001b[0mn_trials\u001b[0m\u001b[0;34m,\u001b[0m \u001b[0mtimeout\u001b[0m\u001b[0;34m,\u001b[0m \u001b[0mn_jobs\u001b[0m\u001b[0;34m,\u001b[0m \u001b[0mcatch\u001b[0m\u001b[0;34m)\u001b[0m\u001b[0;34m\u001b[0m\u001b[0;34m\u001b[0m\u001b[0m\n",
      "\u001b[0;32m~/anaconda3/lib/python3.7/site-packages/optuna/study.py\u001b[0m in \u001b[0;36m_optimize_sequential\u001b[0;34m(self, func, n_trials, timeout, catch)\u001b[0m\n\u001b[1;32m    322\u001b[0m                     \u001b[0;32mbreak\u001b[0m\u001b[0;34m\u001b[0m\u001b[0;34m\u001b[0m\u001b[0m\n\u001b[1;32m    323\u001b[0m \u001b[0;34m\u001b[0m\u001b[0m\n\u001b[0;32m--> 324\u001b[0;31m             \u001b[0mself\u001b[0m\u001b[0;34m.\u001b[0m\u001b[0m_run_trial\u001b[0m\u001b[0;34m(\u001b[0m\u001b[0mfunc\u001b[0m\u001b[0;34m,\u001b[0m \u001b[0mcatch\u001b[0m\u001b[0;34m)\u001b[0m\u001b[0;34m\u001b[0m\u001b[0;34m\u001b[0m\u001b[0m\n\u001b[0m\u001b[1;32m    325\u001b[0m \u001b[0;34m\u001b[0m\u001b[0m\n\u001b[1;32m    326\u001b[0m     def _optimize_parallel(\n",
      "\u001b[0;32m~/anaconda3/lib/python3.7/site-packages/optuna/study.py\u001b[0m in \u001b[0;36m_run_trial\u001b[0;34m(self, func, catch)\u001b[0m\n\u001b[1;32m    396\u001b[0m \u001b[0;34m\u001b[0m\u001b[0m\n\u001b[1;32m    397\u001b[0m         \u001b[0;32mtry\u001b[0m\u001b[0;34m:\u001b[0m\u001b[0;34m\u001b[0m\u001b[0;34m\u001b[0m\u001b[0m\n\u001b[0;32m--> 398\u001b[0;31m             \u001b[0mresult\u001b[0m \u001b[0;34m=\u001b[0m \u001b[0mfunc\u001b[0m\u001b[0;34m(\u001b[0m\u001b[0mtrial\u001b[0m\u001b[0;34m)\u001b[0m\u001b[0;34m\u001b[0m\u001b[0;34m\u001b[0m\u001b[0m\n\u001b[0m\u001b[1;32m    399\u001b[0m         \u001b[0;32mexcept\u001b[0m \u001b[0mstructs\u001b[0m\u001b[0;34m.\u001b[0m\u001b[0mTrialPruned\u001b[0m \u001b[0;32mas\u001b[0m \u001b[0me\u001b[0m\u001b[0;34m:\u001b[0m\u001b[0;34m\u001b[0m\u001b[0;34m\u001b[0m\u001b[0m\n\u001b[1;32m    400\u001b[0m             message = 'Setting status of trial#{} as {}. {}'.format(trial_number,\n",
      "\u001b[0;32m<timed exec>\u001b[0m in \u001b[0;36mobjective\u001b[0;34m(trial)\u001b[0m\n",
      "\u001b[0;32m~/fast-random-projection/scoring.py\u001b[0m in \u001b[0;36mscoring\u001b[0;34m(predefined_args, emb)\u001b[0m\n\u001b[1;32m    162\u001b[0m             \u001b[0;31m# find out how many labels should be predicted\u001b[0m\u001b[0;34m\u001b[0m\u001b[0;34m\u001b[0m\u001b[0;34m\u001b[0m\u001b[0m\n\u001b[1;32m    163\u001b[0m             \u001b[0mtop_k_list\u001b[0m \u001b[0;34m=\u001b[0m \u001b[0;34m[\u001b[0m\u001b[0mlen\u001b[0m\u001b[0;34m(\u001b[0m\u001b[0ml\u001b[0m\u001b[0;34m)\u001b[0m \u001b[0;32mfor\u001b[0m \u001b[0ml\u001b[0m \u001b[0;32min\u001b[0m \u001b[0my_test\u001b[0m\u001b[0;34m]\u001b[0m\u001b[0;34m\u001b[0m\u001b[0;34m\u001b[0m\u001b[0m\n\u001b[0;32m--> 164\u001b[0;31m             \u001b[0mpreds\u001b[0m \u001b[0;34m=\u001b[0m \u001b[0mclf\u001b[0m\u001b[0;34m.\u001b[0m\u001b[0mpredict\u001b[0m\u001b[0;34m(\u001b[0m\u001b[0mX_test\u001b[0m\u001b[0;34m,\u001b[0m \u001b[0mtop_k_list\u001b[0m\u001b[0;34m)\u001b[0m\u001b[0;34m\u001b[0m\u001b[0;34m\u001b[0m\u001b[0m\n\u001b[0m\u001b[1;32m    165\u001b[0m \u001b[0;34m\u001b[0m\u001b[0m\n\u001b[1;32m    166\u001b[0m             \u001b[0;31m# output confusion matrix\u001b[0m\u001b[0;34m\u001b[0m\u001b[0;34m\u001b[0m\u001b[0;34m\u001b[0m\u001b[0m\n",
      "\u001b[0;32m~/fast-random-projection/scoring.py\u001b[0m in \u001b[0;36mpredict\u001b[0;34m(self, X, top_k_list)\u001b[0m\n\u001b[1;32m     20\u001b[0m         \u001b[0;32mdef\u001b[0m \u001b[0mpredict\u001b[0m\u001b[0;34m(\u001b[0m\u001b[0mself\u001b[0m\u001b[0;34m,\u001b[0m \u001b[0mX\u001b[0m\u001b[0;34m,\u001b[0m \u001b[0mtop_k_list\u001b[0m\u001b[0;34m)\u001b[0m\u001b[0;34m:\u001b[0m\u001b[0;34m\u001b[0m\u001b[0;34m\u001b[0m\u001b[0m\n\u001b[1;32m     21\u001b[0m                 \u001b[0;32massert\u001b[0m \u001b[0mX\u001b[0m\u001b[0;34m.\u001b[0m\u001b[0mshape\u001b[0m\u001b[0;34m[\u001b[0m\u001b[0;36m0\u001b[0m\u001b[0;34m]\u001b[0m \u001b[0;34m==\u001b[0m \u001b[0mlen\u001b[0m\u001b[0;34m(\u001b[0m\u001b[0mtop_k_list\u001b[0m\u001b[0;34m)\u001b[0m\u001b[0;34m\u001b[0m\u001b[0;34m\u001b[0m\u001b[0m\n\u001b[0;32m---> 22\u001b[0;31m                 \u001b[0mprobs\u001b[0m \u001b[0;34m=\u001b[0m \u001b[0mnumpy\u001b[0m\u001b[0;34m.\u001b[0m\u001b[0masarray\u001b[0m\u001b[0;34m(\u001b[0m\u001b[0msuper\u001b[0m\u001b[0;34m(\u001b[0m\u001b[0mTopKRanker\u001b[0m\u001b[0;34m,\u001b[0m \u001b[0mself\u001b[0m\u001b[0;34m)\u001b[0m\u001b[0;34m.\u001b[0m\u001b[0mpredict_proba\u001b[0m\u001b[0;34m(\u001b[0m\u001b[0mX\u001b[0m\u001b[0;34m)\u001b[0m\u001b[0;34m)\u001b[0m\u001b[0;34m\u001b[0m\u001b[0;34m\u001b[0m\u001b[0m\n\u001b[0m\u001b[1;32m     23\u001b[0m                 \u001b[0mall_labels\u001b[0m \u001b[0;34m=\u001b[0m \u001b[0;34m[\u001b[0m\u001b[0;34m]\u001b[0m\u001b[0;34m\u001b[0m\u001b[0;34m\u001b[0m\u001b[0m\n\u001b[1;32m     24\u001b[0m                 \u001b[0;32mfor\u001b[0m \u001b[0mi\u001b[0m\u001b[0;34m,\u001b[0m \u001b[0mk\u001b[0m \u001b[0;32min\u001b[0m \u001b[0menumerate\u001b[0m\u001b[0;34m(\u001b[0m\u001b[0mtop_k_list\u001b[0m\u001b[0;34m)\u001b[0m\u001b[0;34m:\u001b[0m\u001b[0;34m\u001b[0m\u001b[0;34m\u001b[0m\u001b[0m\n",
      "\u001b[0;32m~/anaconda3/lib/python3.7/site-packages/sklearn/utils/metaestimators.py\u001b[0m in \u001b[0;36m<lambda>\u001b[0;34m(*args, **kwargs)\u001b[0m\n\u001b[1;32m    116\u001b[0m \u001b[0;34m\u001b[0m\u001b[0m\n\u001b[1;32m    117\u001b[0m         \u001b[0;31m# lambda, but not partial, allows help() to work with update_wrapper\u001b[0m\u001b[0;34m\u001b[0m\u001b[0;34m\u001b[0m\u001b[0;34m\u001b[0m\u001b[0m\n\u001b[0;32m--> 118\u001b[0;31m         \u001b[0mout\u001b[0m \u001b[0;34m=\u001b[0m \u001b[0;32mlambda\u001b[0m \u001b[0;34m*\u001b[0m\u001b[0margs\u001b[0m\u001b[0;34m,\u001b[0m \u001b[0;34m**\u001b[0m\u001b[0mkwargs\u001b[0m\u001b[0;34m:\u001b[0m \u001b[0mself\u001b[0m\u001b[0;34m.\u001b[0m\u001b[0mfn\u001b[0m\u001b[0;34m(\u001b[0m\u001b[0mobj\u001b[0m\u001b[0;34m,\u001b[0m \u001b[0;34m*\u001b[0m\u001b[0margs\u001b[0m\u001b[0;34m,\u001b[0m \u001b[0;34m**\u001b[0m\u001b[0mkwargs\u001b[0m\u001b[0;34m)\u001b[0m\u001b[0;34m\u001b[0m\u001b[0;34m\u001b[0m\u001b[0m\n\u001b[0m\u001b[1;32m    119\u001b[0m         \u001b[0;31m# update the docstring of the returned function\u001b[0m\u001b[0;34m\u001b[0m\u001b[0;34m\u001b[0m\u001b[0;34m\u001b[0m\u001b[0m\n\u001b[1;32m    120\u001b[0m         \u001b[0mupdate_wrapper\u001b[0m\u001b[0;34m(\u001b[0m\u001b[0mout\u001b[0m\u001b[0;34m,\u001b[0m \u001b[0mself\u001b[0m\u001b[0;34m.\u001b[0m\u001b[0mfn\u001b[0m\u001b[0;34m)\u001b[0m\u001b[0;34m\u001b[0m\u001b[0;34m\u001b[0m\u001b[0m\n",
      "\u001b[0;32m~/anaconda3/lib/python3.7/site-packages/sklearn/multiclass.py\u001b[0m in \u001b[0;36mpredict_proba\u001b[0;34m(self, X)\u001b[0m\n\u001b[1;32m    341\u001b[0m         \u001b[0;31m# Y[i, j] gives the probability that sample i has the label j.\u001b[0m\u001b[0;34m\u001b[0m\u001b[0;34m\u001b[0m\u001b[0;34m\u001b[0m\u001b[0m\n\u001b[1;32m    342\u001b[0m         \u001b[0;31m# In the multi-label case, these are not disjoint.\u001b[0m\u001b[0;34m\u001b[0m\u001b[0;34m\u001b[0m\u001b[0;34m\u001b[0m\u001b[0m\n\u001b[0;32m--> 343\u001b[0;31m         \u001b[0mY\u001b[0m \u001b[0;34m=\u001b[0m \u001b[0mnp\u001b[0m\u001b[0;34m.\u001b[0m\u001b[0marray\u001b[0m\u001b[0;34m(\u001b[0m\u001b[0;34m[\u001b[0m\u001b[0me\u001b[0m\u001b[0;34m.\u001b[0m\u001b[0mpredict_proba\u001b[0m\u001b[0;34m(\u001b[0m\u001b[0mX\u001b[0m\u001b[0;34m)\u001b[0m\u001b[0;34m[\u001b[0m\u001b[0;34m:\u001b[0m\u001b[0;34m,\u001b[0m \u001b[0;36m1\u001b[0m\u001b[0;34m]\u001b[0m \u001b[0;32mfor\u001b[0m \u001b[0me\u001b[0m \u001b[0;32min\u001b[0m \u001b[0mself\u001b[0m\u001b[0;34m.\u001b[0m\u001b[0mestimators_\u001b[0m\u001b[0;34m]\u001b[0m\u001b[0;34m)\u001b[0m\u001b[0;34m.\u001b[0m\u001b[0mT\u001b[0m\u001b[0;34m\u001b[0m\u001b[0;34m\u001b[0m\u001b[0m\n\u001b[0m\u001b[1;32m    344\u001b[0m \u001b[0;34m\u001b[0m\u001b[0m\n\u001b[1;32m    345\u001b[0m         \u001b[0;32mif\u001b[0m \u001b[0mlen\u001b[0m\u001b[0;34m(\u001b[0m\u001b[0mself\u001b[0m\u001b[0;34m.\u001b[0m\u001b[0mestimators_\u001b[0m\u001b[0;34m)\u001b[0m \u001b[0;34m==\u001b[0m \u001b[0;36m1\u001b[0m\u001b[0;34m:\u001b[0m\u001b[0;34m\u001b[0m\u001b[0;34m\u001b[0m\u001b[0m\n",
      "\u001b[0;32m~/anaconda3/lib/python3.7/site-packages/sklearn/multiclass.py\u001b[0m in \u001b[0;36m<listcomp>\u001b[0;34m(.0)\u001b[0m\n\u001b[1;32m    341\u001b[0m         \u001b[0;31m# Y[i, j] gives the probability that sample i has the label j.\u001b[0m\u001b[0;34m\u001b[0m\u001b[0;34m\u001b[0m\u001b[0;34m\u001b[0m\u001b[0m\n\u001b[1;32m    342\u001b[0m         \u001b[0;31m# In the multi-label case, these are not disjoint.\u001b[0m\u001b[0;34m\u001b[0m\u001b[0;34m\u001b[0m\u001b[0;34m\u001b[0m\u001b[0m\n\u001b[0;32m--> 343\u001b[0;31m         \u001b[0mY\u001b[0m \u001b[0;34m=\u001b[0m \u001b[0mnp\u001b[0m\u001b[0;34m.\u001b[0m\u001b[0marray\u001b[0m\u001b[0;34m(\u001b[0m\u001b[0;34m[\u001b[0m\u001b[0me\u001b[0m\u001b[0;34m.\u001b[0m\u001b[0mpredict_proba\u001b[0m\u001b[0;34m(\u001b[0m\u001b[0mX\u001b[0m\u001b[0;34m)\u001b[0m\u001b[0;34m[\u001b[0m\u001b[0;34m:\u001b[0m\u001b[0;34m,\u001b[0m \u001b[0;36m1\u001b[0m\u001b[0;34m]\u001b[0m \u001b[0;32mfor\u001b[0m \u001b[0me\u001b[0m \u001b[0;32min\u001b[0m \u001b[0mself\u001b[0m\u001b[0;34m.\u001b[0m\u001b[0mestimators_\u001b[0m\u001b[0;34m]\u001b[0m\u001b[0;34m)\u001b[0m\u001b[0;34m.\u001b[0m\u001b[0mT\u001b[0m\u001b[0;34m\u001b[0m\u001b[0;34m\u001b[0m\u001b[0m\n\u001b[0m\u001b[1;32m    344\u001b[0m \u001b[0;34m\u001b[0m\u001b[0m\n\u001b[1;32m    345\u001b[0m         \u001b[0;32mif\u001b[0m \u001b[0mlen\u001b[0m\u001b[0;34m(\u001b[0m\u001b[0mself\u001b[0m\u001b[0;34m.\u001b[0m\u001b[0mestimators_\u001b[0m\u001b[0;34m)\u001b[0m \u001b[0;34m==\u001b[0m \u001b[0;36m1\u001b[0m\u001b[0;34m:\u001b[0m\u001b[0;34m\u001b[0m\u001b[0;34m\u001b[0m\u001b[0m\n",
      "\u001b[0;32m~/anaconda3/lib/python3.7/site-packages/sklearn/linear_model/logistic.py\u001b[0m in \u001b[0;36mpredict_proba\u001b[0;34m(self, X)\u001b[0m\n\u001b[1;32m   1406\u001b[0m                                                 self.solver == 'liblinear')))\n\u001b[1;32m   1407\u001b[0m         \u001b[0;32mif\u001b[0m \u001b[0movr\u001b[0m\u001b[0;34m:\u001b[0m\u001b[0;34m\u001b[0m\u001b[0;34m\u001b[0m\u001b[0m\n\u001b[0;32m-> 1408\u001b[0;31m             \u001b[0;32mreturn\u001b[0m \u001b[0msuper\u001b[0m\u001b[0;34m(\u001b[0m\u001b[0mLogisticRegression\u001b[0m\u001b[0;34m,\u001b[0m \u001b[0mself\u001b[0m\u001b[0;34m)\u001b[0m\u001b[0;34m.\u001b[0m\u001b[0m_predict_proba_lr\u001b[0m\u001b[0;34m(\u001b[0m\u001b[0mX\u001b[0m\u001b[0;34m)\u001b[0m\u001b[0;34m\u001b[0m\u001b[0;34m\u001b[0m\u001b[0m\n\u001b[0m\u001b[1;32m   1409\u001b[0m         \u001b[0;32melse\u001b[0m\u001b[0;34m:\u001b[0m\u001b[0;34m\u001b[0m\u001b[0;34m\u001b[0m\u001b[0m\n\u001b[1;32m   1410\u001b[0m             \u001b[0mdecision\u001b[0m \u001b[0;34m=\u001b[0m \u001b[0mself\u001b[0m\u001b[0;34m.\u001b[0m\u001b[0mdecision_function\u001b[0m\u001b[0;34m(\u001b[0m\u001b[0mX\u001b[0m\u001b[0;34m)\u001b[0m\u001b[0;34m\u001b[0m\u001b[0;34m\u001b[0m\u001b[0m\n",
      "\u001b[0;32m~/anaconda3/lib/python3.7/site-packages/sklearn/linear_model/base.py\u001b[0m in \u001b[0;36m_predict_proba_lr\u001b[0;34m(self, X)\u001b[0m\n\u001b[1;32m    293\u001b[0m         \u001b[0mmulticlass\u001b[0m \u001b[0;32mis\u001b[0m \u001b[0mhandled\u001b[0m \u001b[0mby\u001b[0m \u001b[0mnormalizing\u001b[0m \u001b[0mthat\u001b[0m \u001b[0mover\u001b[0m \u001b[0mall\u001b[0m \u001b[0mclasses\u001b[0m\u001b[0;34m.\u001b[0m\u001b[0;34m\u001b[0m\u001b[0;34m\u001b[0m\u001b[0m\n\u001b[1;32m    294\u001b[0m         \"\"\"\n\u001b[0;32m--> 295\u001b[0;31m         \u001b[0mprob\u001b[0m \u001b[0;34m=\u001b[0m \u001b[0mself\u001b[0m\u001b[0;34m.\u001b[0m\u001b[0mdecision_function\u001b[0m\u001b[0;34m(\u001b[0m\u001b[0mX\u001b[0m\u001b[0;34m)\u001b[0m\u001b[0;34m\u001b[0m\u001b[0;34m\u001b[0m\u001b[0m\n\u001b[0m\u001b[1;32m    296\u001b[0m         \u001b[0mprob\u001b[0m \u001b[0;34m*=\u001b[0m \u001b[0;34m-\u001b[0m\u001b[0;36m1\u001b[0m\u001b[0;34m\u001b[0m\u001b[0;34m\u001b[0m\u001b[0m\n\u001b[1;32m    297\u001b[0m         \u001b[0mnp\u001b[0m\u001b[0;34m.\u001b[0m\u001b[0mexp\u001b[0m\u001b[0;34m(\u001b[0m\u001b[0mprob\u001b[0m\u001b[0;34m,\u001b[0m \u001b[0mprob\u001b[0m\u001b[0;34m)\u001b[0m\u001b[0;34m\u001b[0m\u001b[0;34m\u001b[0m\u001b[0m\n",
      "\u001b[0;32m~/anaconda3/lib/python3.7/site-packages/sklearn/linear_model/base.py\u001b[0m in \u001b[0;36mdecision_function\u001b[0;34m(self, X)\u001b[0m\n\u001b[1;32m    255\u001b[0m                                  \"yet\" % {'name': type(self).__name__})\n\u001b[1;32m    256\u001b[0m \u001b[0;34m\u001b[0m\u001b[0m\n\u001b[0;32m--> 257\u001b[0;31m         \u001b[0mX\u001b[0m \u001b[0;34m=\u001b[0m \u001b[0mcheck_array\u001b[0m\u001b[0;34m(\u001b[0m\u001b[0mX\u001b[0m\u001b[0;34m,\u001b[0m \u001b[0maccept_sparse\u001b[0m\u001b[0;34m=\u001b[0m\u001b[0;34m'csr'\u001b[0m\u001b[0;34m)\u001b[0m\u001b[0;34m\u001b[0m\u001b[0;34m\u001b[0m\u001b[0m\n\u001b[0m\u001b[1;32m    258\u001b[0m \u001b[0;34m\u001b[0m\u001b[0m\n\u001b[1;32m    259\u001b[0m         \u001b[0mn_features\u001b[0m \u001b[0;34m=\u001b[0m \u001b[0mself\u001b[0m\u001b[0;34m.\u001b[0m\u001b[0mcoef_\u001b[0m\u001b[0;34m.\u001b[0m\u001b[0mshape\u001b[0m\u001b[0;34m[\u001b[0m\u001b[0;36m1\u001b[0m\u001b[0;34m]\u001b[0m\u001b[0;34m\u001b[0m\u001b[0;34m\u001b[0m\u001b[0m\n",
      "\u001b[0;32m~/anaconda3/lib/python3.7/site-packages/sklearn/utils/validation.py\u001b[0m in \u001b[0;36mcheck_array\u001b[0;34m(array, accept_sparse, accept_large_sparse, dtype, order, copy, force_all_finite, ensure_2d, allow_nd, ensure_min_samples, ensure_min_features, warn_on_dtype, estimator)\u001b[0m\n\u001b[1;32m    571\u001b[0m         \u001b[0;32mif\u001b[0m \u001b[0mforce_all_finite\u001b[0m\u001b[0;34m:\u001b[0m\u001b[0;34m\u001b[0m\u001b[0;34m\u001b[0m\u001b[0m\n\u001b[1;32m    572\u001b[0m             _assert_all_finite(array,\n\u001b[0;32m--> 573\u001b[0;31m                                allow_nan=force_all_finite == 'allow-nan')\n\u001b[0m\u001b[1;32m    574\u001b[0m \u001b[0;34m\u001b[0m\u001b[0m\n\u001b[1;32m    575\u001b[0m     \u001b[0mshape_repr\u001b[0m \u001b[0;34m=\u001b[0m \u001b[0m_shape_repr\u001b[0m\u001b[0;34m(\u001b[0m\u001b[0marray\u001b[0m\u001b[0;34m.\u001b[0m\u001b[0mshape\u001b[0m\u001b[0;34m)\u001b[0m\u001b[0;34m\u001b[0m\u001b[0;34m\u001b[0m\u001b[0m\n",
      "\u001b[0;32m~/anaconda3/lib/python3.7/site-packages/sklearn/utils/validation.py\u001b[0m in \u001b[0;36m_assert_all_finite\u001b[0;34m(X, allow_nan)\u001b[0m\n\u001b[1;32m     47\u001b[0m     \u001b[0;31m# false positives from overflow in sum method.\u001b[0m\u001b[0;34m\u001b[0m\u001b[0;34m\u001b[0m\u001b[0;34m\u001b[0m\u001b[0m\n\u001b[1;32m     48\u001b[0m     \u001b[0mis_float\u001b[0m \u001b[0;34m=\u001b[0m \u001b[0mX\u001b[0m\u001b[0;34m.\u001b[0m\u001b[0mdtype\u001b[0m\u001b[0;34m.\u001b[0m\u001b[0mkind\u001b[0m \u001b[0;32min\u001b[0m \u001b[0;34m'fc'\u001b[0m\u001b[0;34m\u001b[0m\u001b[0;34m\u001b[0m\u001b[0m\n\u001b[0;32m---> 49\u001b[0;31m     \u001b[0;32mif\u001b[0m \u001b[0mis_float\u001b[0m \u001b[0;32mand\u001b[0m \u001b[0mnp\u001b[0m\u001b[0;34m.\u001b[0m\u001b[0misfinite\u001b[0m\u001b[0;34m(\u001b[0m\u001b[0mX\u001b[0m\u001b[0;34m.\u001b[0m\u001b[0msum\u001b[0m\u001b[0;34m(\u001b[0m\u001b[0;34m)\u001b[0m\u001b[0;34m)\u001b[0m\u001b[0;34m:\u001b[0m\u001b[0;34m\u001b[0m\u001b[0;34m\u001b[0m\u001b[0m\n\u001b[0m\u001b[1;32m     50\u001b[0m         \u001b[0;32mpass\u001b[0m\u001b[0;34m\u001b[0m\u001b[0;34m\u001b[0m\u001b[0m\n\u001b[1;32m     51\u001b[0m     \u001b[0;32melif\u001b[0m \u001b[0mis_float\u001b[0m\u001b[0;34m:\u001b[0m\u001b[0;34m\u001b[0m\u001b[0;34m\u001b[0m\u001b[0m\n",
      "\u001b[0;32m~/anaconda3/lib/python3.7/site-packages/numpy/core/_methods.py\u001b[0m in \u001b[0;36m_sum\u001b[0;34m(a, axis, dtype, out, keepdims, initial)\u001b[0m\n\u001b[1;32m     34\u001b[0m def _sum(a, axis=None, dtype=None, out=None, keepdims=False,\n\u001b[1;32m     35\u001b[0m          initial=_NoValue):\n\u001b[0;32m---> 36\u001b[0;31m     \u001b[0;32mreturn\u001b[0m \u001b[0mumr_sum\u001b[0m\u001b[0;34m(\u001b[0m\u001b[0ma\u001b[0m\u001b[0;34m,\u001b[0m \u001b[0maxis\u001b[0m\u001b[0;34m,\u001b[0m \u001b[0mdtype\u001b[0m\u001b[0;34m,\u001b[0m \u001b[0mout\u001b[0m\u001b[0;34m,\u001b[0m \u001b[0mkeepdims\u001b[0m\u001b[0;34m,\u001b[0m \u001b[0minitial\u001b[0m\u001b[0;34m)\u001b[0m\u001b[0;34m\u001b[0m\u001b[0;34m\u001b[0m\u001b[0m\n\u001b[0m\u001b[1;32m     37\u001b[0m \u001b[0;34m\u001b[0m\u001b[0m\n\u001b[1;32m     38\u001b[0m def _prod(a, axis=None, dtype=None, out=None, keepdims=False,\n",
      "\u001b[0;31mKeyboardInterrupt\u001b[0m: "
     ]
    }
   ],
   "source": [
    "%%time\n",
    "order_range = 2\n",
    "def objective(trial):\n",
    "\n",
    "    # Invoke suggest methods of a Trial object to generate hyperparameters.\n",
    "    weights = [trial.suggest_loguniform('weight' + str(order), 1.0, 64.0) for order in range(order_range)]\n",
    "    alpha = trial.suggest_uniform('alpha', -1.0, 0.0)\n",
    "    conf = {\n",
    "        'projection_method': 'sparse',\n",
    "        'input_matrix': 'trans',\n",
    "        'weights': [1.0, 1.0] + weights,\n",
    "        'normalization': True,\n",
    "        'dim': 512,\n",
    "        'alpha': alpha,\n",
    "        'C': 1.0\n",
    "    }\n",
    "    emb_filename = get_emb_filename(prefix, conf)\n",
    "    print (emb_filename)\n",
    "    # first check if this file already exists\n",
    "    path = Path(emb_filename)\n",
    "    if not path.is_file():\n",
    "        U = fastrp_wrapper(A, conf)\n",
    "        savemat(emb_filename, {'emb': U})\n",
    "    else:\n",
    "        print ('File %s already exists, skipped.' % emb_filename)\n",
    "    f1_scores = scoring(\n",
    "        [\n",
    "            \"--emb\", emb_filename,\n",
    "            \"--network\", data_fname,\n",
    "            \"--num-shuffles\", \"5\",\n",
    "            \"--debug\",\n",
    "            \"--C\", str(conf['C']),\n",
    "            \"--training-percents\", \"1\",\n",
    "        ]\n",
    "    )\n",
    "    # there should only be one entry here\n",
    "    return -f1_scores[0]['macro']\n",
    "\n",
    "study = optuna.create_study()  # Create a new study.\n",
    "study.optimize(objective, n_trials=100)  # Invoke optimization of the objective function."
   ]
  },
  {
   "cell_type": "code",
   "execution_count": 285,
   "metadata": {},
   "outputs": [
    {
     "data": {
      "text/plain": [
       "FrozenTrial(number=2, state=<TrialState.COMPLETE: 1>, value=-0.14481066344741067, datetime_start=datetime.datetime(2019, 5, 21, 16, 7, 57, 765525), datetime_complete=datetime.datetime(2019, 5, 21, 16, 8, 0, 852312), params={'weight0': 14.039019475149264, 'weight1': 10.125615641266847, 'alpha': -0.9080915421591357}, user_attrs={}, system_attrs={'_number': 2}, intermediate_values={}, params_in_internal_repr={'weight0': 14.039019475149264, 'weight1': 10.125615641266847, 'alpha': -0.9080915421591357}, trial_id=2)"
      ]
     },
     "execution_count": 285,
     "metadata": {},
     "output_type": "execute_result"
    }
   ],
   "source": [
    "study.best_trial"
   ]
  },
  {
   "cell_type": "code",
   "execution_count": 333,
   "metadata": {},
   "outputs": [
    {
     "name": "stdout",
     "output_type": "stream",
     "text": [
      "result/www-10k-dim=512,projection_method=sparse,input_matrix=trans,normalization=True,weights=1.0,1.0,14,11,alpha=-0.91,C=1.0.mat\n",
      "File result/www-10k-dim=512,projection_method=sparse,input_matrix=trans,normalization=True,weights=1.0,1.0,14,11,alpha=-0.91,C=1.0.mat already exists, skipped.\n",
      "Train percent: 0.01\n",
      "Train percent: 0.02\n",
      "Train percent: 0.03\n",
      "Train percent: 0.04\n",
      "Train percent: 0.05\n",
      "Train percent: 0.06\n",
      "Train percent: 0.07\n",
      "Train percent: 0.08\n",
      "Train percent: 0.09\n",
      "Results, using embeddings of dimensionality 512\n",
      "-------------------\n",
      "Train percent: 0.01\n",
      "Average score: {'micro': 0.9259910093992645, 'macro': 0.265694656354719}\n",
      "-------------------\n",
      "Train percent: 0.02\n",
      "Average score: {'micro': 0.9484363711425328, 'macro': 0.353421525849046}\n",
      "-------------------\n",
      "Train percent: 0.03\n",
      "Average score: {'micro': 0.9669447340980188, 'macro': 0.44585447003149686}\n",
      "-------------------\n",
      "Train percent: 0.04\n",
      "Average score: {'micro': 0.9717837951743757, 'macro': 0.4977702267426608}\n",
      "-------------------\n",
      "Train percent: 0.05\n",
      "Average score: {'micro': 0.975596252129472, 'macro': 0.5421142364511965}\n",
      "-------------------\n",
      "Train percent: 0.06\n",
      "Average score: {'micro': 0.9791455934574411, 'macro': 0.5952478817340692}\n",
      "-------------------\n",
      "Train percent: 0.07\n",
      "Average score: {'micro': 0.9831846856645639, 'macro': 0.6494408847308795}\n",
      "-------------------\n",
      "Train percent: 0.08\n",
      "Average score: {'micro': 0.9848944591029024, 'macro': 0.6851869734242516}\n",
      "-------------------\n",
      "Train percent: 0.09\n",
      "Average score: {'micro': 0.9861287095698567, 'macro': 0.7108992368098422}\n",
      "-------------------\n",
      "CPU times: user 6min 50s, sys: 1.37 s, total: 6min 52s\n",
      "Wall time: 55.1 s\n"
     ]
    }
   ],
   "source": [
    "%%time\n",
    "conf = {\n",
    "        'projection_method': 'sparse',\n",
    "        'input_matrix': 'trans',\n",
    "        'weights': [1.0, 1.0, 14, 11],\n",
    "        'normalization': True,\n",
    "        'dim': 512,\n",
    "        'alpha': -0.91,\n",
    "        'C': 1.0\n",
    "    }\n",
    "emb_filename = get_emb_filename(prefix, conf)\n",
    "print (emb_filename)\n",
    "# first check if this file already exists\n",
    "path = Path(emb_filename)\n",
    "if not path.is_file():\n",
    "    U = fastrp_wrapper(A, conf)\n",
    "    savemat(emb_filename, {'emb': U})\n",
    "else:\n",
    "    print ('File %s already exists, skipped.' % emb_filename)\n",
    "f1_scores, result = scoring(\n",
    "    [\n",
    "        \"--emb\", emb_filename,\n",
    "        \"--network\", data_fname,\n",
    "        \"--num-shuffles\", \"5\",\n",
    "        \"--debug\",\n",
    "        \"--result\",\n",
    "        \"--C\", str(conf['C']),\n",
    "        \"--training-percents\",\n",
    "    ] + [str(p) for p in range(1, 10)],\n",
    ")\n",
    "f1_scores"
   ]
  },
  {
   "cell_type": "code",
   "execution_count": null,
   "metadata": {},
   "outputs": [],
   "source": [
    "conf = {\n",
    "        'projection_method': 'sparse',\n",
    "        'input_matrix': 'trans',\n",
    "        'weights': [1.0, 1.0, 11.66, 57.20],\n",
    "        'normalization': True,\n",
    "        'dim': 512,\n",
    "        'alpha': -0.646,\n",
    "        'C': 1.0\n",
    "    }\n",
    "emb_filename = get_emb_filename(prefix, conf)\n",
    "print (emb_filename)\n",
    "# first check if this file already exists\n",
    "path = Path(emb_filename)\n",
    "if not path.is_file():\n",
    "    U = fastrp_wrapper(A, conf)\n",
    "    savemat(emb_filename, {'emb': U})\n",
    "else:\n",
    "    print ('File %s already exists, skipped.' % emb_filename)\n",
    "f1_scores, result = scoring(\n",
    "    [\n",
    "        \"--emb\", emb_filename,\n",
    "        \"--network\", data_fname,\n",
    "        \"--num-shuffles\", \"5\",\n",
    "        \"--debug\",\n",
    "        \"--result\",\n",
    "        \"--C\", str(conf['C']),\n",
    "        \"--training-percents\",\n",
    "    ] + [str(p) for p in range(1, 10)],\n",
    ")\n",
    "f1_scores"
   ]
  },
  {
   "cell_type": "code",
   "execution_count": null,
   "metadata": {
    "scrolled": true
   },
   "outputs": [],
   "source": [
    "# conf = {\n",
    "#         'projection_method': 'sparse',\n",
    "#         'input_matrix': 'trans',\n",
    "#         'weights': [1.0, 1.0, study.best_params['weight0'], study.best_params['weight1'] ],\n",
    "#         'normalization': True,\n",
    "#         'dim': 512,\n",
    "#         'alpha': study.best_params['alpha'],\n",
    "#         'C': 1.0\n",
    "#     }\n",
    "# emb_filename = get_emb_filename(prefix, conf)\n",
    "# print (emb_filename)\n",
    "# # first check if this file already exists\n",
    "# path = Path(emb_filename)\n",
    "# if not path.is_file():\n",
    "#     U = fastrp_wrapper(A, conf)\n",
    "#     savemat(emb_filename, {'emb': U})\n",
    "# else:\n",
    "#     print ('File %s already exists, skipped.' % emb_filename)\n",
    "# f1_scores, result = scoring(\n",
    "#     [\n",
    "#         \"--emb\", emb_filename,\n",
    "#         \"--network\", data_fname,\n",
    "#         \"--num-shuffles\", \"5\",\n",
    "#         \"--debug\",\n",
    "#         \"--result\",\n",
    "#         \"--C\", str(conf['C']),\n",
    "#         \"--training-percents\",\n",
    "#     ] + [str(p) for p in range(1, 10)],\n",
    "# )\n",
    "# f1_scores"
   ]
  },
  {
   "cell_type": "markdown",
   "metadata": {},
   "source": [
    "# Run DeepWalk"
   ]
  },
  {
   "cell_type": "markdown",
   "metadata": {},
   "source": [
    "Run the following command in shell:"
   ]
  },
  {
   "cell_type": "code",
   "execution_count": null,
   "metadata": {},
   "outputs": [],
   "source": [
    "nohup time deepwalk --format mat --input /mnt/store1/hcchen/www-network/10k-classification.mat \\\n",
    "--max-memory-data-size 0 --number-walks 80 --representation-size 128 --walk-length 40 --window-size 10 \\\n",
    "--workers 28 --output /home/hcchen/fast-random-projection/result/www-10k-dw-emb.mat &"
   ]
  },
  {
   "cell_type": "markdown",
   "metadata": {},
   "source": [
    "Load DeepWalk embeddings:"
   ]
  },
  {
   "cell_type": "code",
   "execution_count": 68,
   "metadata": {},
   "outputs": [],
   "source": [
    "dw_emb_fname = '/home/hcchen/fast-random-projection/result/www-10k-dw-emb.mat'"
   ]
  },
  {
   "cell_type": "code",
   "execution_count": 69,
   "metadata": {},
   "outputs": [],
   "source": [
    "model = KeyedVectors.load_word2vec_format(dw_emb_fname, binary=False)"
   ]
  },
  {
   "cell_type": "code",
   "execution_count": 70,
   "metadata": {},
   "outputs": [
    {
     "name": "stdout",
     "output_type": "stream",
     "text": [
      "CPU times: user 27.1 ms, sys: 458 µs, total: 27.5 ms\n",
      "Wall time: 27.1 ms\n"
     ]
    }
   ],
   "source": [
    "N = len(model.vocab)\n",
    "%time dw_emb = np.asarray([model[str(node)] for node in range(N)])"
   ]
  },
  {
   "cell_type": "code",
   "execution_count": 71,
   "metadata": {},
   "outputs": [
    {
     "data": {
      "text/plain": [
       "(10000, 128)"
      ]
     },
     "execution_count": 71,
     "metadata": {},
     "output_type": "execute_result"
    }
   ],
   "source": [
    "dw_emb.shape"
   ]
  },
  {
   "cell_type": "code",
   "execution_count": 334,
   "metadata": {},
   "outputs": [
    {
     "name": "stdout",
     "output_type": "stream",
     "text": [
      "Load embeddings from memory...\n",
      "Train percent: 0.01\n",
      "Train percent: 0.02\n",
      "Train percent: 0.03\n",
      "Train percent: 0.04\n",
      "Train percent: 0.05\n",
      "Train percent: 0.06\n",
      "Train percent: 0.07\n",
      "Train percent: 0.08\n",
      "Train percent: 0.09\n",
      "Results, using embeddings of dimensionality 128\n",
      "-------------------\n",
      "Train percent: 0.01\n",
      "Average score: {'micro': 0.931875766244381, 'macro': 0.2742805917487515}\n",
      "-------------------\n",
      "Train percent: 0.02\n",
      "Average score: {'micro': 0.9457941996078028, 'macro': 0.3590375765144605}\n",
      "-------------------\n",
      "Train percent: 0.03\n",
      "Average score: {'micro': 0.9560375391032325, 'macro': 0.44042351295566007}\n",
      "-------------------\n",
      "Train percent: 0.04\n",
      "Average score: {'micro': 0.9645348224633864, 'macro': 0.5046969780125964}\n",
      "-------------------\n",
      "Train percent: 0.05\n",
      "Average score: {'micro': 0.9727214650766609, 'macro': 0.552935364532743}\n",
      "-------------------\n",
      "Train percent: 0.06\n",
      "Average score: {'micro': 0.9777036479070269, 'macro': 0.6045487945774374}\n",
      "-------------------\n",
      "Train percent: 0.07\n",
      "Average score: {'micro': 0.9811181205133783, 'macro': 0.661541244644469}\n",
      "-------------------\n",
      "Train percent: 0.08\n",
      "Average score: {'micro': 0.9823218997361478, 'macro': 0.6730324892397211}\n",
      "-------------------\n",
      "Train percent: 0.09\n",
      "Average score: {'micro': 0.9837056796710014, 'macro': 0.7026038085264459}\n",
      "-------------------\n",
      "CPU times: user 5min 15s, sys: 705 ms, total: 5min 16s\n",
      "Wall time: 23.3 s\n"
     ]
    }
   ],
   "source": [
    "%%time\n",
    "dw_f1_scores = scoring(\n",
    "    [\n",
    "        \"--network\", data_fname,\n",
    "        \"--num-shuffles\", \"5\",\n",
    "        \"--debug\",\n",
    "        \"--C\", \"1.0\",\n",
    "        \"--training-percents\",\n",
    "    ] + [str(p) for p in range(1, 10)],\n",
    "    dw_emb\n",
    ")\n",
    "dw_f1_scores"
   ]
  },
  {
   "cell_type": "markdown",
   "metadata": {},
   "source": [
    "# Run RandNE"
   ]
  },
  {
   "cell_type": "markdown",
   "metadata": {},
   "source": [
    "Run the following command in shell:"
   ]
  },
  {
   "cell_type": "code",
   "execution_count": 335,
   "metadata": {},
   "outputs": [
    {
     "data": {
      "text/plain": [
       "'example_graphs/www-10k.mat'"
      ]
     },
     "execution_count": 335,
     "metadata": {},
     "output_type": "execute_result"
    }
   ],
   "source": [
    "data_fname"
   ]
  },
  {
   "cell_type": "code",
   "execution_count": null,
   "metadata": {},
   "outputs": [],
   "source": [
    "cd ~/RandNE-Python/ && \n",
    "time python3 src/randne.py --input /home/hcchen/fast-random-projection/example_graphs/www-10k.mat \\\n",
    "--output /home/hcchen/fast-random-projection/result/www-10k-randne-emb.mat \\\n",
    "--use-trans-matrix -q 3 -d 512 --weights 1 100 1000"
   ]
  },
  {
   "cell_type": "code",
   "execution_count": 337,
   "metadata": {},
   "outputs": [
    {
     "name": "stdout",
     "output_type": "stream",
     "text": [
      "Train percent: 0.01\n",
      "Train percent: 0.02\n",
      "Train percent: 0.03\n",
      "Train percent: 0.04\n",
      "Train percent: 0.05\n",
      "Train percent: 0.06\n",
      "Train percent: 0.07\n",
      "Train percent: 0.08\n",
      "Train percent: 0.09\n",
      "Results, using embeddings of dimensionality 512\n",
      "-------------------\n",
      "Train percent: 0.01\n",
      "Average score: {'micro': 0.8891704127503065, 'macro': 0.15675233825909993}\n",
      "-------------------\n",
      "Train percent: 0.02\n",
      "Average score: {'micro': 0.9239343585509341, 'macro': 0.1902940128879356}\n",
      "-------------------\n",
      "Train percent: 0.03\n",
      "Average score: {'micro': 0.9342440041710114, 'macro': 0.225875165965545}\n",
      "-------------------\n",
      "Train percent: 0.04\n",
      "Average score: {'micro': 0.948646085765462, 'macro': 0.2958123201950469}\n",
      "-------------------\n",
      "Train percent: 0.05\n",
      "Average score: {'micro': 0.956324531516184, 'macro': 0.33664860201421887}\n",
      "-------------------\n",
      "Train percent: 0.06\n",
      "Average score: {'micro': 0.9624878941138493, 'macro': 0.36984244598270605}\n",
      "-------------------\n",
      "Train percent: 0.07\n",
      "Average score: {'micro': 0.966760931041984, 'macro': 0.3976186371448614}\n",
      "-------------------\n",
      "Train percent: 0.08\n",
      "Average score: {'micro': 0.9672163588390502, 'macro': 0.4105239328109046}\n",
      "-------------------\n",
      "Train percent: 0.09\n",
      "Average score: {'micro': 0.9713237745915306, 'macro': 0.4508766196812538}\n",
      "-------------------\n"
     ]
    },
    {
     "data": {
      "text/plain": [
       "[defaultdict(float,\n",
       "             {'micro': 0.8891704127503065,\n",
       "              'macro': 0.15675233825909993,\n",
       "              'training': 0.01}),\n",
       " defaultdict(float,\n",
       "             {'micro': 0.9239343585509341,\n",
       "              'macro': 0.1902940128879356,\n",
       "              'training': 0.02}),\n",
       " defaultdict(float,\n",
       "             {'micro': 0.9342440041710114,\n",
       "              'macro': 0.225875165965545,\n",
       "              'training': 0.03}),\n",
       " defaultdict(float,\n",
       "             {'micro': 0.948646085765462,\n",
       "              'macro': 0.2958123201950469,\n",
       "              'training': 0.04}),\n",
       " defaultdict(float,\n",
       "             {'micro': 0.956324531516184,\n",
       "              'macro': 0.33664860201421887,\n",
       "              'training': 0.05}),\n",
       " defaultdict(float,\n",
       "             {'micro': 0.9624878941138493,\n",
       "              'macro': 0.36984244598270605,\n",
       "              'training': 0.06}),\n",
       " defaultdict(float,\n",
       "             {'micro': 0.966760931041984,\n",
       "              'macro': 0.3976186371448614,\n",
       "              'training': 0.07}),\n",
       " defaultdict(float,\n",
       "             {'micro': 0.9672163588390502,\n",
       "              'macro': 0.4105239328109046,\n",
       "              'training': 0.08}),\n",
       " defaultdict(float,\n",
       "             {'micro': 0.9713237745915306,\n",
       "              'macro': 0.4508766196812538,\n",
       "              'training': 0.09})]"
      ]
     },
     "execution_count": 337,
     "metadata": {},
     "output_type": "execute_result"
    }
   ],
   "source": [
    "f1_scores, result = scoring(\n",
    "    [\n",
    "        \"--emb\", \"/home/hcchen/fast-random-projection/result/www-10k-randne-emb.mat\",\n",
    "        \"--network\", data_fname,\n",
    "        \"--num-shuffles\", \"5\",\n",
    "        \"--debug\",\n",
    "        \"--result\",\n",
    "        \"--C\", str(conf['C']),\n",
    "        \"--training-percents\",\n",
    "    ] + [str(p) for p in range(1, 10)],\n",
    ")\n",
    "f1_scores"
   ]
  },
  {
   "cell_type": "markdown",
   "metadata": {},
   "source": [
    "# Run node2vec"
   ]
  },
  {
   "cell_type": "code",
   "execution_count": null,
   "metadata": {},
   "outputs": [],
   "source": [
    "cd /home/hcchen/deepwalk-sgns/deepwalk && nohup time python __main__.py --format mat \\\n",
    "--input /home/hcchen/fast-random-projection/example_graphs/www-10k.mat \\\n",
    "--max-memory-data-size 0 --number-walks 80 --representation-size 128 --walk-length 40 --window-size 10 \\\n",
    "--workers 40 --output /home/hcchen/deepwalk-sgns/example_graphs/www-10k.node2vec.emb &"
   ]
  },
  {
   "cell_type": "code",
   "execution_count": 338,
   "metadata": {},
   "outputs": [
    {
     "name": "stdout",
     "output_type": "stream",
     "text": [
      "Train percent: 0.01\n",
      "Train percent: 0.02\n",
      "Train percent: 0.03\n",
      "Train percent: 0.04\n",
      "Train percent: 0.05\n",
      "Train percent: 0.06\n",
      "Train percent: 0.07\n",
      "Train percent: 0.08\n",
      "Train percent: 0.09\n",
      "Results, using embeddings of dimensionality 128\n",
      "-------------------\n",
      "Train percent: 0.01\n",
      "Average score: {'micro': 0.9307928075194114, 'macro': 0.2553652306175958}\n",
      "-------------------\n",
      "Train percent: 0.02\n",
      "Average score: {'micro': 0.9524821963050882, 'macro': 0.3761343667806067}\n",
      "-------------------\n",
      "Train percent: 0.03\n",
      "Average score: {'micro': 0.9636496350364963, 'macro': 0.4496494312584415}\n",
      "-------------------\n",
      "Train percent: 0.04\n",
      "Average score: {'micro': 0.9682225266041513, 'macro': 0.49955510412430987}\n",
      "-------------------\n",
      "Train percent: 0.05\n",
      "Average score: {'micro': 0.9727427597955707, 'macro': 0.5398461986826322}\n",
      "-------------------\n",
      "Train percent: 0.06\n",
      "Average score: {'micro': 0.9764338749596471, 'macro': 0.5789415261657154}\n",
      "-------------------\n",
      "Train percent: 0.07\n",
      "Average score: {'micro': 0.9777463563193386, 'macro': 0.6114035229336494}\n",
      "-------------------\n",
      "Train percent: 0.08\n",
      "Average score: {'micro': 0.9789357959542656, 'macro': 0.6291821988489564}\n",
      "-------------------\n",
      "Train percent: 0.09\n",
      "Average score: {'micro': 0.9824163610092252, 'macro': 0.6782232254271527}\n",
      "-------------------\n",
      "CPU times: user 5min 19s, sys: 796 ms, total: 5min 20s\n",
      "Wall time: 24.9 s\n"
     ]
    }
   ],
   "source": [
    "%%time\n",
    "node2vec_f1_scores = scoring(\n",
    "    [\n",
    "        \"--emb\", \"/home/hcchen/deepwalk-sgns/example_graphs/www-10k.node2vec.emb\",\n",
    "        \"--network\", data_fname,\n",
    "        \"--num-shuffles\", \"5\",\n",
    "        \"--debug\",\n",
    "        \"--C\", \"1.0\",\n",
    "        \"--training-percents\",\n",
    "    ] + [str(p) for p in range(1, 10)],\n",
    ")\n",
    "node2vec_f1_scores"
   ]
  },
  {
   "cell_type": "markdown",
   "metadata": {},
   "source": [
    "# Run LINE"
   ]
  },
  {
   "cell_type": "markdown",
   "metadata": {},
   "source": [
    "Save the graph as edgelist:"
   ]
  },
  {
   "cell_type": "code",
   "execution_count": 346,
   "metadata": {},
   "outputs": [
    {
     "data": {
      "text/plain": [
       "<10000x10000 sparse matrix of type '<class 'numpy.float64'>'\n",
       "\twith 7809220 stored elements in Compressed Sparse Row format>"
      ]
     },
     "execution_count": 346,
     "metadata": {},
     "output_type": "execute_result"
    }
   ],
   "source": [
    "A"
   ]
  },
  {
   "cell_type": "code",
   "execution_count": 368,
   "metadata": {},
   "outputs": [
    {
     "data": {
      "text/plain": [
       "(10000, 3904610)"
      ]
     },
     "execution_count": 368,
     "metadata": {},
     "output_type": "execute_result"
    }
   ],
   "source": [
    "G = nx.from_scipy_sparse_matrix(A)\n",
    "G.number_of_nodes(), G.number_of_edges()"
   ]
  },
  {
   "cell_type": "code",
   "execution_count": 369,
   "metadata": {},
   "outputs": [],
   "source": [
    "nx.write_edgelist(G.to_directed(), open('example_graphs/www-10k.edgelist', 'wb'), data=['weight'])"
   ]
  },
  {
   "cell_type": "markdown",
   "metadata": {},
   "source": [
    "Compile the code:"
   ]
  },
  {
   "cell_type": "code",
   "execution_count": null,
   "metadata": {},
   "outputs": [],
   "source": [
    "g++ -I /home/hcchen/gsl/include -L /home/hcchen/gsl/lib -lm -pthread -Ofast -march=native -Wall -funroll-loops -ffast-math -Wno-unused-result line.cpp -o line -lgsl -lm -lgslcblas\n",
    "g++ -I /home/hcchen/gsl/include -L /home/hcchen/gsl/lib -lm -pthread -Ofast -march=native -Wall -funroll-loops -ffast-math -Wno-unused-result reconstruct.cpp -o reconstruct\n",
    "g++ -I /home/hcchen/gsl/include -L /home/hcchen/gsl/lib -lm -pthread -Ofast -march=native -Wall -funroll-loops -ffast-math -Wno-unused-result normalize.cpp -o normalize\n",
    "g++ -I /home/hcchen/gsl/include -L /home/hcchen/gsl/lib -lm -pthread -Ofast -march=native -Wall -funroll-loops -ffast-math -Wno-unused-result concatenate.cpp -o concatenate"
   ]
  },
  {
   "cell_type": "markdown",
   "metadata": {},
   "source": [
    "First add the GSL library to path in shell:"
   ]
  },
  {
   "cell_type": "code",
   "execution_count": null,
   "metadata": {},
   "outputs": [],
   "source": [
    "export LD_LIBRARY_PATH=$LD_LIBRARY_PATH:/home/hcchen/gsl/lib"
   ]
  },
  {
   "cell_type": "markdown",
   "metadata": {},
   "source": [
    "Run LINE:"
   ]
  },
  {
   "cell_type": "code",
   "execution_count": null,
   "metadata": {},
   "outputs": [],
   "source": [
    "cd ~/LINE/linux && nohup time ./line -train /home/hcchen/fast-random-projection/example_graphs/www-10k.edgelist \\\n",
    "-output /home/hcchen/fast-random-projection/result/www-10k.line.2.emb \\\n",
    "-binary 0 -size 200 -order 2 -negative 5 -samples 1000 -rho 0.025 -threads 20 &"
   ]
  },
  {
   "cell_type": "code",
   "execution_count": null,
   "metadata": {},
   "outputs": [],
   "source": [
    "cd ~/LINE/linux && nohup time ./line -train /home/hcchen/fast-random-projection/example_graphs/www-10k.edgelist \\\n",
    "-output /home/hcchen/fast-random-projection/result/www-10k.line.1.emb \\\n",
    "-binary 0 -size 200 -order 1 -negative 5 -samples 1000 -rho 0.025 -threads 20 &"
   ]
  },
  {
   "cell_type": "code",
   "execution_count": 370,
   "metadata": {},
   "outputs": [],
   "source": [
    "model = KeyedVectors.load_word2vec_format('/home/hcchen/fast-random-projection/result/www-10k.line.2.emb', binary=False)"
   ]
  },
  {
   "cell_type": "code",
   "execution_count": 375,
   "metadata": {
    "scrolled": true
   },
   "outputs": [
    {
     "name": "stdout",
     "output_type": "stream",
     "text": [
      "CPU times: user 36.6 ms, sys: 14 µs, total: 36.6 ms\n",
      "Wall time: 36 ms\n"
     ]
    }
   ],
   "source": [
    "N = len(model.vocab)\n",
    "%time line_emb = np.asarray([model[str(matid)] for matid in range(N)])"
   ]
  },
  {
   "cell_type": "code",
   "execution_count": 376,
   "metadata": {},
   "outputs": [
    {
     "data": {
      "text/plain": [
       "(10000, 200)"
      ]
     },
     "execution_count": 376,
     "metadata": {},
     "output_type": "execute_result"
    }
   ],
   "source": [
    "line_emb.shape"
   ]
  },
  {
   "cell_type": "code",
   "execution_count": 377,
   "metadata": {},
   "outputs": [
    {
     "name": "stdout",
     "output_type": "stream",
     "text": [
      "Load embeddings from memory...\n",
      "Train percent: 0.01\n",
      "Train percent: 0.02\n",
      "Train percent: 0.03\n",
      "Train percent: 0.04\n",
      "Train percent: 0.05\n",
      "Train percent: 0.06\n",
      "Train percent: 0.07\n",
      "Train percent: 0.08\n",
      "Train percent: 0.09\n",
      "Results, using embeddings of dimensionality 200\n",
      "-------------------\n",
      "Train percent: 0.01\n",
      "Average score: {'micro': 0.6648344912137312, 'macro': 0.06659462910156154}\n",
      "-------------------\n",
      "Train percent: 0.02\n",
      "Average score: {'micro': 0.682113737227784, 'macro': 0.09071906724470918}\n",
      "-------------------\n",
      "Train percent: 0.03\n",
      "Average score: {'micro': 0.6883003128258602, 'macro': 0.09984615170854935}\n",
      "-------------------\n",
      "Train percent: 0.04\n",
      "Average score: {'micro': 0.6935623221999789, 'macro': 0.1077886795744786}\n",
      "-------------------\n",
      "Train percent: 0.05\n",
      "Average score: {'micro': 0.7040034071550256, 'macro': 0.12236954516394132}\n",
      "-------------------\n",
      "Train percent: 0.06\n",
      "Average score: {'micro': 0.7052835467556224, 'macro': 0.12955873397265902}\n",
      "-------------------\n",
      "Train percent: 0.07\n",
      "Average score: {'micro': 0.7112899717206874, 'macro': 0.1336925568653174}\n",
      "-------------------\n",
      "Train percent: 0.08\n",
      "Average score: {'micro': 0.7148636763412489, 'macro': 0.13603343237433135}\n",
      "-------------------\n",
      "Train percent: 0.09\n",
      "Average score: {'micro': 0.7221073691230411, 'macro': 0.14200517736897125}\n",
      "-------------------\n",
      "CPU times: user 6min 21s, sys: 2.14 s, total: 6min 24s\n",
      "Wall time: 41.2 s\n"
     ]
    }
   ],
   "source": [
    "%%time\n",
    "line_f1_scores = scoring(\n",
    "    [\n",
    "        \"--network\", data_fname,\n",
    "        \"--num-shuffles\", \"5\",\n",
    "        \"--debug\",\n",
    "        \"--C\", \"1.0\",\n",
    "        \"--training-percents\",\n",
    "    ] + [str(p) for p in range(1, 10)],\n",
    "    line_emb\n",
    ")\n",
    "line_f1_scores"
   ]
  },
  {
   "cell_type": "markdown",
   "metadata": {},
   "source": [
    "# Visualization"
   ]
  },
  {
   "cell_type": "markdown",
   "metadata": {},
   "source": [
    "Another experiment is to see how well can both methods separate sites with different top-level domains in the embedding space. Let us still consider the same set of sites as in the classification experiment:"
   ]
  },
  {
   "cell_type": "code",
   "execution_count": 17,
   "metadata": {},
   "outputs": [],
   "source": [
    "emb_200k_dw_classification = loadmat('/mnt/store1/hcchen/ws/large-network-embeddings/www-network/deepwalk-www-200k-classification.mat')['emb']"
   ]
  },
  {
   "cell_type": "code",
   "execution_count": 18,
   "metadata": {},
   "outputs": [
    {
     "data": {
      "text/plain": [
       "(10000, 128)"
      ]
     },
     "execution_count": 18,
     "metadata": {},
     "output_type": "execute_result"
    }
   ],
   "source": [
    "emb_200k_dw_classification.shape"
   ]
  },
  {
   "cell_type": "code",
   "execution_count": null,
   "metadata": {},
   "outputs": [],
   "source": [
    "N = emb_200k_dw_classification.shape[0]"
   ]
  },
  {
   "cell_type": "code",
   "execution_count": null,
   "metadata": {},
   "outputs": [],
   "source": [
    "tsne = TSNE(n_components=2, random_state=42)"
   ]
  },
  {
   "cell_type": "markdown",
   "metadata": {},
   "source": [
    "For DeepWalk:"
   ]
  },
  {
   "cell_type": "code",
   "execution_count": null,
   "metadata": {},
   "outputs": [],
   "source": [
    "%%time\n",
    "deepwalk_tsne = tsne.fit_transform(emb_200k_dw_classification)"
   ]
  },
  {
   "cell_type": "code",
   "execution_count": null,
   "metadata": {
    "scrolled": true
   },
   "outputs": [],
   "source": [
    "deepwalk_tsne"
   ]
  },
  {
   "cell_type": "code",
   "execution_count": null,
   "metadata": {},
   "outputs": [],
   "source": [
    "filtered_domains = set([0, 1, 2])"
   ]
  },
  {
   "cell_type": "code",
   "execution_count": null,
   "metadata": {},
   "outputs": [],
   "source": [
    "plt.figure(figsize=(8, 6))\n",
    "colors = ['r', 'g', 'b', 'c', 'm', 'y', 'k', 'lightpink', 'orange', 'purple']\n",
    "for label in range(K_label):\n",
    "    if label in filtered_domains:\n",
    "        continue\n",
    "    candidates = [i for i in range(N) if cols[i] == label]\n",
    "    plt.scatter(deepwalk_tsne[candidates, 0], deepwalk_tsne[candidates, 1],\n",
    "                s=40, c=colors[label], label=top_labels_with_dot[label])\n",
    "plt.legend()\n",
    "# plt.legend(bbox_to_anchor=(1., 0., 1., 1.), loc=1,\n",
    "#            ncol=1, mode=\"expand\", borderaxespad=0., fontsize=16)\n",
    "# plt.tight_layout(rect=[0, 0, 0.88, 1])\n",
    "plt.savefig('deepwalk-tsne.pdf')"
   ]
  },
  {
   "cell_type": "markdown",
   "metadata": {},
   "source": [
    "For RandNE MATLAB Adj:"
   ]
  },
  {
   "cell_type": "code",
   "execution_count": null,
   "metadata": {},
   "outputs": [],
   "source": [
    "%%time\n",
    "randne_tsne = tsne.fit_transform(emb_randne_adj_200k_classification)"
   ]
  },
  {
   "cell_type": "code",
   "execution_count": null,
   "metadata": {
    "scrolled": false
   },
   "outputs": [],
   "source": [
    "plt.figure(figsize=(8, 6))\n",
    "colors = ['r', 'g', 'b', 'c', 'm', 'y', 'k', 'lightpink', 'orange', 'purple']\n",
    "for label in range(K_label):\n",
    "    if label in filtered_domains:\n",
    "        continue\n",
    "    candidates = [i for i in range(N) if cols[i] == label]\n",
    "    plt.scatter(randne_tsne[candidates, 0], randne_tsne[candidates, 1],\n",
    "                s=40, c=colors[label], label=top_labels_with_dot[label])\n",
    "plt.legend()\n",
    "# plt.legend(bbox_to_anchor=(1., 0., 1., 1.), loc=1,\n",
    "#            ncol=1, mode=\"expand\", borderaxespad=0., fontsize=16)\n",
    "# plt.tight_layout(rect=[0, 0, 0.88, 1])\n",
    "plt.savefig('randne-tsne.pdf')"
   ]
  },
  {
   "cell_type": "markdown",
   "metadata": {},
   "source": [
    "For RandNE Python Adj:"
   ]
  },
  {
   "cell_type": "code",
   "execution_count": null,
   "metadata": {},
   "outputs": [],
   "source": [
    "%%time\n",
    "randne_py_adj_tsne = tsne.fit_transform(emb_randne_py_adj_200k_classification)"
   ]
  },
  {
   "cell_type": "code",
   "execution_count": null,
   "metadata": {},
   "outputs": [],
   "source": [
    "plt.figure(figsize=(8, 6))\n",
    "colors = ['r', 'g', 'b', 'c', 'm', 'y', 'k', 'lightpink', 'orange', 'purple']\n",
    "for label in range(K_label):\n",
    "    if label in filtered_domains:\n",
    "        continue\n",
    "    candidates = [i for i in range(N) if cols[i] == label]\n",
    "    plt.scatter(randne_py_adj_tsne[candidates, 0], randne_py_adj_tsne[candidates, 1],\n",
    "                s=40, c=colors[label], label=top_labels_with_dot[label])\n",
    "plt.legend()\n",
    "plt.savefig('randne-adj-tsne.pdf')"
   ]
  },
  {
   "cell_type": "markdown",
   "metadata": {},
   "source": [
    "For RandNE Python Trans:"
   ]
  },
  {
   "cell_type": "code",
   "execution_count": null,
   "metadata": {},
   "outputs": [],
   "source": [
    "%%time\n",
    "randne_py_trans_tsne = tsne.fit_transform(emb_randne_py_trans_200k_classification)"
   ]
  },
  {
   "cell_type": "code",
   "execution_count": null,
   "metadata": {},
   "outputs": [],
   "source": [
    "plt.figure(figsize=(8, 6))\n",
    "colors = ['r', 'g', 'b', 'c', 'm', 'y', 'k', 'lightpink', 'orange', 'purple']\n",
    "for label in range(K_label):\n",
    "    if label in filtered_domains:\n",
    "        continue\n",
    "    candidates = [i for i in range(N) if cols[i] == label]\n",
    "    plt.scatter(randne_py_trans_tsne[candidates, 0], randne_py_trans_tsne[candidates, 1],\n",
    "                s=40, c=colors[label], label=top_labels_with_dot[label])\n",
    "plt.legend()\n",
    "plt.savefig('randne-trans-tsne.pdf')"
   ]
  },
  {
   "cell_type": "markdown",
   "metadata": {},
   "source": [
    "## Grid Search on RandNE Weights"
   ]
  },
  {
   "cell_type": "markdown",
   "metadata": {},
   "source": [
    "Another thing to consider is grid searching for better RandNE weights: how does this affect the visualization result?"
   ]
  }
 ],
 "metadata": {
  "kernelspec": {
   "display_name": "Python 3",
   "language": "python",
   "name": "python3"
  },
  "language_info": {
   "codemirror_mode": {
    "name": "ipython",
    "version": 3
   },
   "file_extension": ".py",
   "mimetype": "text/x-python",
   "name": "python",
   "nbconvert_exporter": "python",
   "pygments_lexer": "ipython3",
   "version": "3.7.1"
  }
 },
 "nbformat": 4,
 "nbformat_minor": 2
}
