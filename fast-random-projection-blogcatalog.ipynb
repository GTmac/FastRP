{
 "cells": [
  {
   "cell_type": "markdown",
   "metadata": {},
   "source": [
    "# Init"
   ]
  },
  {
   "cell_type": "code",
   "execution_count": 1,
   "metadata": {},
   "outputs": [],
   "source": [
    "%matplotlib inline\n",
    "\n",
    "import csv\n",
    "import itertools\n",
    "import math\n",
    "import matplotlib\n",
    "import time\n",
    "import logging\n",
    "import sys\n",
    "import os\n",
    "import random\n",
    "import warnings\n",
    "\n",
    "import gensim\n",
    "\n",
    "import pandas as pd\n",
    "import numpy as np\n",
    "import networkx as nx\n",
    "import matplotlib.pyplot as plt\n",
    "import seaborn as sns\n",
    "\n",
    "from pathlib import Path\n",
    "\n",
    "from tqdm import tqdm_notebook as tqdm\n",
    "from collections import Counter, defaultdict\n",
    "\n",
    "from sklearn import random_projection\n",
    "from sklearn.manifold import TSNE\n",
    "from scipy.sparse import coo_matrix, csr_matrix, csc_matrix, spdiags\n",
    "from scipy.io import loadmat, savemat\n",
    "from sklearn.metrics import f1_score\n",
    "from sklearn.metrics.pairwise import cosine_similarity\n",
    "from sklearn.preprocessing import normalize, MultiLabelBinarizer\n",
    "from gensim.models import KeyedVectors"
   ]
  },
  {
   "cell_type": "code",
   "execution_count": 2,
   "metadata": {},
   "outputs": [],
   "source": [
    "from scoring import scoring\n",
    "from fastrp_exp import *"
   ]
  },
  {
   "cell_type": "code",
   "execution_count": 3,
   "metadata": {},
   "outputs": [],
   "source": [
    "# to ignore sklearn warning\n",
    "def warn(*args, **kwargs):\n",
    "    pass\n",
    "import warnings\n",
    "warnings.warn = warn\n",
    "warnings.filterwarnings(\"ignore\", category=RuntimeWarning) "
   ]
  },
  {
   "cell_type": "code",
   "execution_count": 4,
   "metadata": {},
   "outputs": [],
   "source": [
    "%load_ext autoreload\n",
    "%autoreload 2"
   ]
  },
  {
   "cell_type": "markdown",
   "metadata": {},
   "source": [
    "# Load Data"
   ]
  },
  {
   "cell_type": "markdown",
   "metadata": {},
   "source": [
    "## Blogcatalog"
   ]
  },
  {
   "cell_type": "code",
   "execution_count": 5,
   "metadata": {},
   "outputs": [],
   "source": [
    "data_fname = 'example_graphs/blogcatalog.mat'"
   ]
  },
  {
   "cell_type": "code",
   "execution_count": 6,
   "metadata": {},
   "outputs": [],
   "source": [
    "blogcatalog = loadmat(data_fname)\n",
    "blog_labels = blogcatalog['group']\n",
    "A = blogcatalog['network']\n",
    "N = A.shape[0]"
   ]
  },
  {
   "cell_type": "code",
   "execution_count": 7,
   "metadata": {},
   "outputs": [
    {
     "data": {
      "text/plain": [
       "<10312x10312 sparse matrix of type '<class 'numpy.float64'>'\n",
       "\twith 667966 stored elements in Compressed Sparse Column format>"
      ]
     },
     "execution_count": 7,
     "metadata": {},
     "output_type": "execute_result"
    }
   ],
   "source": [
    "A"
   ]
  },
  {
   "cell_type": "code",
   "execution_count": 8,
   "metadata": {},
   "outputs": [
    {
     "data": {
      "text/plain": [
       "10312"
      ]
     },
     "execution_count": 8,
     "metadata": {},
     "output_type": "execute_result"
    }
   ],
   "source": [
    "N"
   ]
  },
  {
   "cell_type": "code",
   "execution_count": 9,
   "metadata": {},
   "outputs": [],
   "source": [
    "d = [l[0] for l in A.sum(axis=1).tolist()]"
   ]
  },
  {
   "cell_type": "code",
   "execution_count": 10,
   "metadata": {},
   "outputs": [
    {
     "name": "stdout",
     "output_type": "stream",
     "text": [
      "alpha=  1.258526391056572   sigma=  0.0025458536330247006\n"
     ]
    },
    {
     "data": {
      "image/png": "[encoded data removed]",
      "text/plain": [
       "<Figure size 432x288 with 1 Axes>"
      ]
     },
     "metadata": {
      "needs_background": "light"
     },
     "output_type": "display_data"
    }
   ],
   "source": [
    "import powerlaw\n",
    "\n",
    "fit = powerlaw.Fit(np.array(d)+1,xmin=1,discrete=True)\n",
    "fit.power_law.plot_pdf( color= 'b',linestyle='--',label='fit ccdf')\n",
    "fit.plot_pdf(color= 'b')\n",
    "\n",
    "print('alpha= ',fit.power_law.alpha,'  sigma= ',fit.power_law.sigma)"
   ]
  },
  {
   "cell_type": "markdown",
   "metadata": {},
   "source": [
    "# Measure Runtime"
   ]
  },
  {
   "cell_type": "code",
   "execution_count": 107,
   "metadata": {},
   "outputs": [
    {
     "name": "stdout",
     "output_type": "stream",
     "text": [
      "result/blog-dim=512,projection_method=sparse,input_matrix=trans,normalization=False,weights=1.0,1.0,7.81,45.28,alpha=-0.628,C=1.0.mat\n",
      "CPU times: user 2.55 ms, sys: 0 ns, total: 2.55 ms\n",
      "Wall time: 1.9 ms\n"
     ]
    }
   ],
   "source": [
    "%%time\n",
    "prefix = 'result/blog'\n",
    "conf = {\n",
    "        'projection_method': 'sparse',\n",
    "        'input_matrix': 'trans',\n",
    "        'weights': [1.0, 1.0, 7.81, 45.28],\n",
    "        'normalization': False,\n",
    "        'dim': 512,\n",
    "        'alpha': -0.628,\n",
    "        'C': 1.0\n",
    "    }\n",
    "emb_filename = get_emb_filename(prefix, conf)\n",
    "print (emb_filename)\n",
    "# savemat(emb_filename, {'emb': U})"
   ]
  },
  {
   "cell_type": "code",
   "execution_count": 108,
   "metadata": {},
   "outputs": [
    {
     "name": "stdout",
     "output_type": "stream",
     "text": [
      "CPU times: user 5.64 s, sys: 360 ms, total: 6 s\n",
      "Wall time: 1.17 s\n"
     ]
    }
   ],
   "source": [
    "%time U = fastrp_wrapper(A, conf)"
   ]
  },
  {
   "cell_type": "code",
   "execution_count": 89,
   "metadata": {},
   "outputs": [],
   "source": [
    "savemat(emb_filename, {'emb': U})"
   ]
  },
  {
   "cell_type": "code",
   "execution_count": 90,
   "metadata": {},
   "outputs": [
    {
     "name": "stdout",
     "output_type": "stream",
     "text": [
      "Train percent: 0.1\n",
      "Results, using embeddings of dimensionality 512\n",
      "-------------------\n",
      "Train percent: 0.1\n",
      "Average score: {'micro': 0.29212309243236917, 'macro': 0.1846801041650002}\n",
      "-------------------\n",
      "CPU times: user 1min 14s, sys: 341 ms, total: 1min 14s\n",
      "Wall time: 33.5 s\n"
     ]
    }
   ],
   "source": [
    "%%time\n",
    "f1_scores, result = scoring(\n",
    "    [\n",
    "        \"--emb\", emb_filename,\n",
    "        \"--network\", data_fname,\n",
    "        \"--num-shuffles\", \"5\",\n",
    "        \"--debug\",\n",
    "        \"--result\",\n",
    "        \"--C\", str(conf['C']),\n",
    "        \"--training-percents\",\n",
    "    ] + [str(p) for p in range(10, 20, 10)],\n",
    ")\n",
    "f1_scores"
   ]
  },
  {
   "cell_type": "markdown",
   "metadata": {},
   "source": [
    "# Intelligent Hyperparameter Search"
   ]
  },
  {
   "cell_type": "code",
   "execution_count": 92,
   "metadata": {},
   "outputs": [],
   "source": [
    "import optuna"
   ]
  },
  {
   "cell_type": "code",
   "execution_count": 93,
   "metadata": {},
   "outputs": [],
   "source": [
    "prefix = 'result/blog'"
   ]
  },
  {
   "cell_type": "code",
   "execution_count": 112,
   "metadata": {
    "collapsed": true
   },
   "outputs": [
    {
     "name": "stdout",
     "output_type": "stream",
     "text": [
      "result/blog-dim=64,projection_method=sparse,input_matrix=trans,normalization=True,weights=0,0,1,25.35027555630504,alpha=-0.7589036552923178,C=0.1.mat\n",
      "Train percent: 0.1\n",
      "Results, using embeddings of dimensionality 64\n",
      "-------------------\n",
      "Train percent: 0.1\n",
      "Average score: {'micro': 0.3247994555746552, 'macro': 0.1578946221768148}\n",
      "-------------------\n"
     ]
    },
    {
     "name": "stderr",
     "output_type": "stream",
     "text": [
      "[I 2019-05-20 14:32:31,582] Finished trial#0 resulted in value: -0.1578946221768148. Current best value is -0.1578946221768148 with parameters: {'weight0': 25.35027555630504, 'alpha': -0.7589036552923178}.\n"
     ]
    },
    {
     "name": "stdout",
     "output_type": "stream",
     "text": [
      "result/blog-dim=64,projection_method=sparse,input_matrix=trans,normalization=True,weights=0,0,1,4.288658943144085,alpha=-0.8673667445490716,C=0.1.mat\n",
      "Train percent: 0.1\n",
      "Results, using embeddings of dimensionality 64\n",
      "-------------------\n",
      "Train percent: 0.1\n",
      "Average score: {'micro': 0.3324877127197408, 'macro': 0.1716169633994892}\n",
      "-------------------\n"
     ]
    },
    {
     "name": "stderr",
     "output_type": "stream",
     "text": [
      "[I 2019-05-20 14:32:33,737] Finished trial#1 resulted in value: -0.1716169633994892. Current best value is -0.1716169633994892 with parameters: {'weight0': 4.288658943144085, 'alpha': -0.8673667445490716}.\n"
     ]
    },
    {
     "name": "stdout",
     "output_type": "stream",
     "text": [
      "result/blog-dim=64,projection_method=sparse,input_matrix=trans,normalization=True,weights=0,0,1,7.698621401927473,alpha=-0.8351448884676427,C=0.1.mat\n",
      "Train percent: 0.1\n",
      "Results, using embeddings of dimensionality 64\n",
      "-------------------\n",
      "Train percent: 0.1\n",
      "Average score: {'micro': 0.3281579386618014, 'macro': 0.16612607471073626}\n",
      "-------------------\n"
     ]
    },
    {
     "name": "stderr",
     "output_type": "stream",
     "text": [
      "[I 2019-05-20 14:32:35,664] Finished trial#2 resulted in value: -0.16612607471073626. Current best value is -0.1716169633994892 with parameters: {'weight0': 4.288658943144085, 'alpha': -0.8673667445490716}.\n"
     ]
    },
    {
     "name": "stdout",
     "output_type": "stream",
     "text": [
      "result/blog-dim=64,projection_method=sparse,input_matrix=trans,normalization=True,weights=0,0,1,2.7641479169374845,alpha=-0.35976587356827716,C=0.1.mat\n",
      "Train percent: 0.1\n",
      "Results, using embeddings of dimensionality 64\n",
      "-------------------\n",
      "Train percent: 0.1\n",
      "Average score: {'micro': 0.3333008209258715, 'macro': 0.17319907470965248}\n",
      "-------------------\n"
     ]
    },
    {
     "name": "stderr",
     "output_type": "stream",
     "text": [
      "[I 2019-05-20 14:32:37,568] Finished trial#3 resulted in value: -0.17319907470965248. Current best value is -0.17319907470965248 with parameters: {'weight0': 2.7641479169374845, 'alpha': -0.35976587356827716}.\n"
     ]
    },
    {
     "name": "stdout",
     "output_type": "stream",
     "text": [
      "result/blog-dim=64,projection_method=sparse,input_matrix=trans,normalization=True,weights=0,0,1,3.4139600102359364,alpha=-0.011592552506729192,C=0.1.mat\n",
      "Train percent: 0.1\n",
      "Results, using embeddings of dimensionality 64\n",
      "-------------------\n",
      "Train percent: 0.1\n",
      "Average score: {'micro': 0.3289950991796669, 'macro': 0.16004893668750222}\n",
      "-------------------\n"
     ]
    },
    {
     "name": "stderr",
     "output_type": "stream",
     "text": [
      "[I 2019-05-20 14:32:39,497] Finished trial#4 resulted in value: -0.16004893668750222. Current best value is -0.17319907470965248 with parameters: {'weight0': 2.7641479169374845, 'alpha': -0.35976587356827716}.\n"
     ]
    },
    {
     "name": "stdout",
     "output_type": "stream",
     "text": [
      "result/blog-dim=64,projection_method=sparse,input_matrix=trans,normalization=True,weights=0,0,1,10.24561526097156,alpha=-0.22601603194954545,C=0.1.mat\n",
      "Train percent: 0.1\n",
      "Results, using embeddings of dimensionality 64\n",
      "-------------------\n",
      "Train percent: 0.1\n",
      "Average score: {'micro': 0.335672639940006, 'macro': 0.1652807042028017}\n",
      "-------------------\n"
     ]
    },
    {
     "name": "stderr",
     "output_type": "stream",
     "text": [
      "[I 2019-05-20 14:32:41,424] Finished trial#5 resulted in value: -0.1652807042028017. Current best value is -0.17319907470965248 with parameters: {'weight0': 2.7641479169374845, 'alpha': -0.35976587356827716}.\n"
     ]
    },
    {
     "name": "stdout",
     "output_type": "stream",
     "text": [
      "result/blog-dim=64,projection_method=sparse,input_matrix=trans,normalization=True,weights=0,0,1,1.192199714006375,alpha=-0.7977006562836445,C=0.1.mat\n",
      "Train percent: 0.1\n",
      "Results, using embeddings of dimensionality 64\n",
      "-------------------\n",
      "Train percent: 0.1\n",
      "Average score: {'micro': 0.3259676782641558, 'macro': 0.1695127421275389}\n",
      "-------------------\n"
     ]
    },
    {
     "name": "stderr",
     "output_type": "stream",
     "text": [
      "[I 2019-05-20 14:32:43,367] Finished trial#6 resulted in value: -0.1695127421275389. Current best value is -0.17319907470965248 with parameters: {'weight0': 2.7641479169374845, 'alpha': -0.35976587356827716}.\n"
     ]
    },
    {
     "name": "stdout",
     "output_type": "stream",
     "text": [
      "result/blog-dim=64,projection_method=sparse,input_matrix=trans,normalization=True,weights=0,0,1,29.257664696846046,alpha=-0.22580446184967384,C=0.1.mat\n",
      "Train percent: 0.1\n",
      "Results, using embeddings of dimensionality 64\n",
      "-------------------\n",
      "Train percent: 0.1\n",
      "Average score: {'micro': 0.3299235836786291, 'macro': 0.1592582035050475}\n",
      "-------------------\n"
     ]
    },
    {
     "name": "stderr",
     "output_type": "stream",
     "text": [
      "[I 2019-05-20 14:32:45,369] Finished trial#7 resulted in value: -0.1592582035050475. Current best value is -0.17319907470965248 with parameters: {'weight0': 2.7641479169374845, 'alpha': -0.35976587356827716}.\n"
     ]
    },
    {
     "name": "stdout",
     "output_type": "stream",
     "text": [
      "result/blog-dim=64,projection_method=sparse,input_matrix=trans,normalization=True,weights=0,0,1,2.1087871263828473,alpha=-0.16099511198978378,C=0.1.mat\n",
      "Train percent: 0.1\n",
      "Results, using embeddings of dimensionality 64\n",
      "-------------------\n",
      "Train percent: 0.1\n",
      "Average score: {'micro': 0.3182149617368916, 'macro': 0.15515171954219084}\n",
      "-------------------\n"
     ]
    },
    {
     "name": "stderr",
     "output_type": "stream",
     "text": [
      "[I 2019-05-20 14:32:47,200] Finished trial#8 resulted in value: -0.15515171954219084. Current best value is -0.17319907470965248 with parameters: {'weight0': 2.7641479169374845, 'alpha': -0.35976587356827716}.\n"
     ]
    },
    {
     "name": "stdout",
     "output_type": "stream",
     "text": [
      "result/blog-dim=64,projection_method=sparse,input_matrix=trans,normalization=True,weights=0,0,1,4.492318467621318,alpha=-0.3304916019810441,C=0.1.mat\n",
      "Train percent: 0.1\n",
      "Results, using embeddings of dimensionality 64\n",
      "-------------------\n",
      "Train percent: 0.1\n",
      "Average score: {'micro': 0.3312371366250659, 'macro': 0.16960445243549072}\n",
      "-------------------\n"
     ]
    },
    {
     "name": "stderr",
     "output_type": "stream",
     "text": [
      "[I 2019-05-20 14:32:49,167] Finished trial#9 resulted in value: -0.16960445243549072. Current best value is -0.17319907470965248 with parameters: {'weight0': 2.7641479169374845, 'alpha': -0.35976587356827716}.\n"
     ]
    },
    {
     "name": "stdout",
     "output_type": "stream",
     "text": [
      "result/blog-dim=64,projection_method=sparse,input_matrix=trans,normalization=True,weights=0,0,1,1.0929395684423973,alpha=-0.5641039086981745,C=0.1.mat\n",
      "Train percent: 0.1\n",
      "Results, using embeddings of dimensionality 64\n",
      "-------------------\n",
      "Train percent: 0.1\n",
      "Average score: {'micro': 0.3200290608091943, 'macro': 0.16458340494764362}\n",
      "-------------------\n"
     ]
    },
    {
     "name": "stderr",
     "output_type": "stream",
     "text": [
      "[I 2019-05-20 14:32:50,967] Finished trial#10 resulted in value: -0.16458340494764362. Current best value is -0.17319907470965248 with parameters: {'weight0': 2.7641479169374845, 'alpha': -0.35976587356827716}.\n"
     ]
    },
    {
     "name": "stdout",
     "output_type": "stream",
     "text": [
      "result/blog-dim=64,projection_method=sparse,input_matrix=trans,normalization=True,weights=0,0,1,13.078291441186105,alpha=-0.47479794450262625,C=0.1.mat\n",
      "Train percent: 0.1\n",
      "Results, using embeddings of dimensionality 64\n",
      "-------------------\n",
      "Train percent: 0.1\n",
      "Average score: {'micro': 0.3293480372915586, 'macro': 0.16193432989922865}\n",
      "-------------------\n"
     ]
    },
    {
     "name": "stderr",
     "output_type": "stream",
     "text": [
      "[I 2019-05-20 14:32:52,901] Finished trial#11 resulted in value: -0.16193432989922865. Current best value is -0.17319907470965248 with parameters: {'weight0': 2.7641479169374845, 'alpha': -0.35976587356827716}.\n"
     ]
    },
    {
     "name": "stdout",
     "output_type": "stream",
     "text": [
      "result/blog-dim=64,projection_method=sparse,input_matrix=trans,normalization=True,weights=0,0,1,1.0626346571914238,alpha=-0.6069540009947277,C=0.1.mat\n",
      "Train percent: 0.1\n",
      "Results, using embeddings of dimensionality 64\n",
      "-------------------\n",
      "Train percent: 0.1\n",
      "Average score: {'micro': 0.31846171448896216, 'macro': 0.16617536859874624}\n",
      "-------------------\n"
     ]
    },
    {
     "name": "stderr",
     "output_type": "stream",
     "text": [
      "[I 2019-05-20 14:32:54,842] Finished trial#12 resulted in value: -0.16617536859874624. Current best value is -0.17319907470965248 with parameters: {'weight0': 2.7641479169374845, 'alpha': -0.35976587356827716}.\n"
     ]
    },
    {
     "name": "stdout",
     "output_type": "stream",
     "text": [
      "result/blog-dim=64,projection_method=sparse,input_matrix=trans,normalization=True,weights=0,0,1,51.51954071900352,alpha=-0.9682812491762334,C=0.1.mat\n",
      "Train percent: 0.1\n",
      "Results, using embeddings of dimensionality 64\n",
      "-------------------\n",
      "Train percent: 0.1\n",
      "Average score: {'micro': 0.32265447702472266, 'macro': 0.15878135009253258}\n",
      "-------------------\n"
     ]
    },
    {
     "name": "stderr",
     "output_type": "stream",
     "text": [
      "[I 2019-05-20 14:32:56,713] Finished trial#13 resulted in value: -0.15878135009253258. Current best value is -0.17319907470965248 with parameters: {'weight0': 2.7641479169374845, 'alpha': -0.35976587356827716}.\n"
     ]
    },
    {
     "name": "stdout",
     "output_type": "stream",
     "text": [
      "result/blog-dim=64,projection_method=sparse,input_matrix=trans,normalization=True,weights=0,0,1,2.2619984819272485,alpha=-0.4509629672136868,C=0.1.mat\n",
      "Train percent: 0.1\n",
      "Results, using embeddings of dimensionality 64\n",
      "-------------------\n",
      "Train percent: 0.1\n",
      "Average score: {'micro': 0.32358122080110285, 'macro': 0.16395220402863567}\n",
      "-------------------\n"
     ]
    },
    {
     "name": "stderr",
     "output_type": "stream",
     "text": [
      "[I 2019-05-20 14:32:58,677] Finished trial#14 resulted in value: -0.16395220402863567. Current best value is -0.17319907470965248 with parameters: {'weight0': 2.7641479169374845, 'alpha': -0.35976587356827716}.\n"
     ]
    },
    {
     "name": "stdout",
     "output_type": "stream",
     "text": [
      "result/blog-dim=64,projection_method=sparse,input_matrix=trans,normalization=True,weights=0,0,1,2.2806658056222107,alpha=-0.09395912852593447,C=0.1.mat\n",
      "Train percent: 0.1\n",
      "Results, using embeddings of dimensionality 64\n",
      "-------------------\n",
      "Train percent: 0.1\n",
      "Average score: {'micro': 0.329366733077529, 'macro': 0.16895404478694878}\n",
      "-------------------\n"
     ]
    },
    {
     "name": "stderr",
     "output_type": "stream",
     "text": [
      "[I 2019-05-20 14:33:00,527] Finished trial#15 resulted in value: -0.16895404478694878. Current best value is -0.17319907470965248 with parameters: {'weight0': 2.7641479169374845, 'alpha': -0.35976587356827716}.\n"
     ]
    },
    {
     "name": "stdout",
     "output_type": "stream",
     "text": [
      "result/blog-dim=64,projection_method=sparse,input_matrix=trans,normalization=True,weights=0,0,1,6.504182347849674,alpha=-0.6506855353616028,C=0.1.mat\n",
      "Train percent: 0.1\n",
      "Results, using embeddings of dimensionality 64\n",
      "-------------------\n",
      "Train percent: 0.1\n",
      "Average score: {'micro': 0.332139330436869, 'macro': 0.17338782471467395}\n",
      "-------------------\n"
     ]
    },
    {
     "name": "stderr",
     "output_type": "stream",
     "text": [
      "[I 2019-05-20 14:33:02,472] Finished trial#16 resulted in value: -0.17338782471467395. Current best value is -0.17338782471467395 with parameters: {'weight0': 6.504182347849674, 'alpha': -0.6506855353616028}.\n"
     ]
    },
    {
     "name": "stdout",
     "output_type": "stream",
     "text": [
      "result/blog-dim=64,projection_method=sparse,input_matrix=trans,normalization=True,weights=0,0,1,6.667928455970716,alpha=-0.6414724466236545,C=0.1.mat\n",
      "Train percent: 0.1\n",
      "Results, using embeddings of dimensionality 64\n",
      "-------------------\n",
      "Train percent: 0.1\n",
      "Average score: {'micro': 0.3342296508481968, 'macro': 0.1744284220153279}\n",
      "-------------------\n"
     ]
    },
    {
     "name": "stderr",
     "output_type": "stream",
     "text": [
      "[I 2019-05-20 14:33:04,390] Finished trial#17 resulted in value: -0.1744284220153279. Current best value is -0.1744284220153279 with parameters: {'weight0': 6.667928455970716, 'alpha': -0.6414724466236545}.\n"
     ]
    },
    {
     "name": "stdout",
     "output_type": "stream",
     "text": [
      "result/blog-dim=64,projection_method=sparse,input_matrix=trans,normalization=True,weights=0,0,1,6.828770263291829,alpha=-0.6715812260129261,C=0.1.mat\n",
      "Train percent: 0.1\n",
      "Results, using embeddings of dimensionality 64\n",
      "-------------------\n",
      "Train percent: 0.1\n",
      "Average score: {'micro': 0.3326372204342953, 'macro': 0.17008692348121937}\n",
      "-------------------\n"
     ]
    },
    {
     "name": "stderr",
     "output_type": "stream",
     "text": [
      "[I 2019-05-20 14:33:06,241] Finished trial#18 resulted in value: -0.17008692348121937. Current best value is -0.1744284220153279 with parameters: {'weight0': 6.667928455970716, 'alpha': -0.6414724466236545}.\n"
     ]
    },
    {
     "name": "stdout",
     "output_type": "stream",
     "text": [
      "result/blog-dim=64,projection_method=sparse,input_matrix=trans,normalization=True,weights=0,0,1,16.003689823549568,alpha=-0.6863129335864669,C=0.1.mat\n",
      "Train percent: 0.1\n",
      "Results, using embeddings of dimensionality 64\n",
      "-------------------\n",
      "Train percent: 0.1\n",
      "Average score: {'micro': 0.32630619204046624, 'macro': 0.1628392993079853}\n",
      "-------------------\n"
     ]
    },
    {
     "name": "stderr",
     "output_type": "stream",
     "text": [
      "[I 2019-05-20 14:33:08,270] Finished trial#19 resulted in value: -0.1628392993079853. Current best value is -0.1744284220153279 with parameters: {'weight0': 6.667928455970716, 'alpha': -0.6414724466236545}.\n"
     ]
    },
    {
     "name": "stdout",
     "output_type": "stream",
     "text": [
      "CPU times: user 8min 35s, sys: 653 ms, total: 8min 36s\n",
      "Wall time: 38.9 s\n"
     ]
    }
   ],
   "source": [
    "%%time\n",
    "order_range = 1\n",
    "def objective(trial):\n",
    "\n",
    "    # Invoke suggest methods of a Trial object to generate hyperparameters.\n",
    "    weights = [trial.suggest_loguniform('weight' + str(order), 1.0, 64.0) for order in range(order_range)]\n",
    "    alpha = trial.suggest_uniform('alpha', -1.0, 0.0)\n",
    "    conf = {\n",
    "        'projection_method': 'sparse',\n",
    "        'input_matrix': 'trans',\n",
    "        'weights': [0, 0, 1] + weights,\n",
    "        'normalization': True,\n",
    "        'dim': 64,\n",
    "        'alpha': alpha,\n",
    "        'C': 0.1\n",
    "    }\n",
    "    emb_filename = get_emb_filename(prefix, conf)\n",
    "    print (emb_filename)\n",
    "    # first check if this file already exists\n",
    "    path = Path(emb_filename)\n",
    "    if not path.is_file():\n",
    "        U = fastrp_wrapper(A, conf)\n",
    "        savemat(emb_filename, {'emb': U})\n",
    "    else:\n",
    "        print ('File %s already exists, skipped.' % emb_filename)\n",
    "    f1_scores = scoring(\n",
    "        [\n",
    "            \"--emb\", emb_filename,\n",
    "            \"--network\",\"example_graphs/blogcatalog.mat\",\n",
    "            \"--num-shuffles\", \"3\",\n",
    "            \"--debug\",\n",
    "            \"--C\", str(conf['C']),\n",
    "            \"--training-percents\", \"10\",\n",
    "        ]\n",
    "    )\n",
    "    # there should only be one entry here\n",
    "    return -f1_scores[0]['macro']\n",
    "\n",
    "study = optuna.create_study()  # Create a new study.\n",
    "study.optimize(objective, n_trials=20)  # Invoke optimization of the objective function."
   ]
  },
  {
   "cell_type": "code",
   "execution_count": 113,
   "metadata": {},
   "outputs": [
    {
     "data": {
      "text/plain": [
       "{'weight0': 6.667928455970716, 'alpha': -0.6414724466236545}"
      ]
     },
     "execution_count": 113,
     "metadata": {},
     "output_type": "execute_result"
    }
   ],
   "source": [
    "study.best_params"
   ]
  },
  {
   "cell_type": "code",
   "execution_count": 115,
   "metadata": {},
   "outputs": [
    {
     "name": "stdout",
     "output_type": "stream",
     "text": [
      "result/blog-dim=512,projection_method=sparse,input_matrix=trans,normalization=True,weights=0.0,0.0,1.0,6.67,alpha=-0.64,C=0.1.mat\n",
      "File result/blog-dim=512,projection_method=sparse,input_matrix=trans,normalization=True,weights=0.0,0.0,1.0,6.67,alpha=-0.64,C=0.1.mat already exists, skipped.\n",
      "Train percent: 0.1\n",
      "Train percent: 0.2\n",
      "Train percent: 0.3\n",
      "Train percent: 0.4\n",
      "Train percent: 0.5\n",
      "Train percent: 0.6\n",
      "Train percent: 0.7000000000000001\n",
      "Train percent: 0.8\n",
      "Train percent: 0.9\n",
      "Results, using embeddings of dimensionality 512\n",
      "-------------------\n",
      "Train percent: 0.1\n",
      "Average score: {'micro': 0.37227020685494977, 'macro': 0.22810176026637136}\n",
      "-------------------\n",
      "Train percent: 0.2\n",
      "Average score: {'micro': 0.3907265679401467, 'macro': 0.24936234429670506}\n",
      "-------------------\n",
      "Train percent: 0.3\n",
      "Average score: {'micro': 0.399829596612806, 'macro': 0.2587104513975861}\n",
      "-------------------\n",
      "Train percent: 0.4\n",
      "Average score: {'micro': 0.40738907903529603, 'macro': 0.2691895694524022}\n",
      "-------------------\n",
      "Train percent: 0.5\n",
      "Average score: {'micro': 0.41216442334312225, 'macro': 0.27531305276882484}\n",
      "-------------------\n",
      "Train percent: 0.6\n",
      "Average score: {'micro': 0.4162945173291355, 'macro': 0.2746010769047318}\n",
      "-------------------\n",
      "Train percent: 0.7000000000000001\n",
      "Average score: {'micro': 0.42039344143007124, 'macro': 0.28008009753285856}\n",
      "-------------------\n",
      "Train percent: 0.8\n",
      "Average score: {'micro': 0.41872128244561246, 'macro': 0.2804764829402512}\n",
      "-------------------\n",
      "Train percent: 0.9\n",
      "Average score: {'micro': 0.42573179815547685, 'macro': 0.28009257850944347}\n",
      "-------------------\n",
      "CPU times: user 36min 1s, sys: 3.26 s, total: 36min 4s\n",
      "Wall time: 31min 22s\n"
     ]
    }
   ],
   "source": [
    "%%time\n",
    "\n",
    "conf = {\n",
    "        'projection_method': 'sparse',\n",
    "        'input_matrix': 'trans',\n",
    "        'weights': [0.0, 0.0, 1.0, 6.67],\n",
    "        'normalization': True,\n",
    "        'dim': 512,\n",
    "        'alpha': -0.64,\n",
    "        'C': 0.1\n",
    "    }\n",
    "emb_filename = get_emb_filename(prefix, conf)\n",
    "print (emb_filename)\n",
    "# first check if this file already exists\n",
    "path = Path(emb_filename)\n",
    "if not path.is_file():\n",
    "    U = fastrp_wrapper(A, conf)\n",
    "    savemat(emb_filename, {'emb': U})\n",
    "else:\n",
    "    print ('File %s already exists, skipped.' % emb_filename)\n",
    "f1_scores, result = scoring(\n",
    "    [\n",
    "        \"--emb\", emb_filename,\n",
    "        \"--network\",\"example_graphs/blogcatalog.mat\",\n",
    "        \"--num-shuffles\", \"5\",\n",
    "        \"--debug\",\n",
    "        \"--result\",\n",
    "        \"--C\", str(conf['C']),\n",
    "        \"--training-percents\",\n",
    "    ] + [str(p) for p in range(10, 100, 10)],\n",
    ")\n",
    "f1_scores"
   ]
  },
  {
   "cell_type": "code",
   "execution_count": 104,
   "metadata": {},
   "outputs": [
    {
     "name": "stdout",
     "output_type": "stream",
     "text": [
      "result/blog-dim=512,projection_method=sparse,input_matrix=trans,normalization=True,weights=0.0,0.0,1.0,4.836,alpha=-0.6,C=1.0.mat\n",
      "Train percent: 0.1\n",
      "Results, using embeddings of dimensionality 512\n",
      "-------------------\n",
      "Train percent: 0.1\n",
      "Average score: {'micro': 0.3403260570840879, 'macro': 0.2176648356781609}\n",
      "-------------------\n",
      "CPU times: user 1min 56s, sys: 1.25 s, total: 1min 58s\n",
      "Wall time: 50.3 s\n"
     ]
    }
   ],
   "source": [
    "%%time\n",
    "\n",
    "conf = {\n",
    "        'projection_method': 'sparse',\n",
    "        'input_matrix': 'trans',\n",
    "        'weights': [0.0, 0.0, 1.0, 4.836],\n",
    "        'normalization': True,\n",
    "        'dim': 512,\n",
    "        'alpha': -0.6,\n",
    "        'C': 1.0\n",
    "    }\n",
    "emb_filename = get_emb_filename(prefix, conf)\n",
    "print (emb_filename)\n",
    "# first check if this file already exists\n",
    "path = Path(emb_filename)\n",
    "if not path.is_file():\n",
    "    U = fastrp_wrapper(A, conf)\n",
    "    savemat(emb_filename, {'emb': U})\n",
    "else:\n",
    "    print ('File %s already exists, skipped.' % emb_filename)\n",
    "f1_scores, result = scoring(\n",
    "    [\n",
    "        \"--emb\", emb_filename,\n",
    "        \"--network\",\"example_graphs/blogcatalog.mat\",\n",
    "        \"--num-shuffles\", \"5\",\n",
    "        \"--debug\",\n",
    "        \"--result\",\n",
    "        \"--C\", str(conf['C']),\n",
    "        \"--training-percents\",\n",
    "    ] + [str(p) for p in range(10, 20, 10)],\n",
    ")\n",
    "f1_scores"
   ]
  },
  {
   "cell_type": "code",
   "execution_count": 99,
   "metadata": {},
   "outputs": [
    {
     "data": {
      "text/plain": [
       "{'weight0': 10.839989749509,\n",
       " 'weight1': 33.400321987814756,\n",
       " 'alpha': -0.9050407667591776}"
      ]
     },
     "execution_count": 99,
     "metadata": {},
     "output_type": "execute_result"
    }
   ],
   "source": [
    "study.best_params"
   ]
  },
  {
   "cell_type": "code",
   "execution_count": 65,
   "metadata": {
    "scrolled": true
   },
   "outputs": [
    {
     "data": {
      "text/plain": [
       "-0.3572280985847538"
      ]
     },
     "execution_count": 65,
     "metadata": {},
     "output_type": "execute_result"
    }
   ],
   "source": [
    "study.best_value"
   ]
  },
  {
   "cell_type": "code",
   "execution_count": 37,
   "metadata": {},
   "outputs": [
    {
     "name": "stdout",
     "output_type": "stream",
     "text": [
      "result/blog-dim=512,projection_method=sparse,input_matrix=trans,normalization=True,weights=0.0,0.0,7.81,45.28,beta=,C=0.1.mat\n",
      "File result/blog-dim=512,projection_method=sparse,input_matrix=trans,normalization=True,weights=0.0,0.0,7.81,45.28,beta=,C=0.1.mat already exists, skipped.\n",
      "Train percent: 0.1\n",
      "Results, using embeddings of dimensionality 512\n",
      "-------------------\n",
      "Train percent: 0.1\n",
      "Average score: {'micro': 0.3757665796564458, 'macro': 0.23151573878816514}\n",
      "-------------------\n",
      "CPU times: user 1min 31s, sys: 218 ms, total: 1min 32s\n",
      "Wall time: 34.6 s\n"
     ]
    }
   ],
   "source": [
    "%%time\n",
    "\n",
    "conf = {\n",
    "        'projection_method': 'sparse',\n",
    "        'input_matrix': 'trans',\n",
    "        'weights': [0.0, 0.0, 7.81, 45.28],\n",
    "        'normalization': True,\n",
    "        'dim': 512,\n",
    "        'alpha': -0.628,\n",
    "        'C': 0.1\n",
    "    }\n",
    "emb_filename = get_emb_filename(prefix, conf)\n",
    "print (emb_filename)\n",
    "# first check if this file already exists\n",
    "path = Path(emb_filename)\n",
    "if not path.is_file():\n",
    "    U = randne_wrapper(blog_A, conf)\n",
    "    savemat(emb_filename, {'emb': U})\n",
    "else:\n",
    "    print ('File %s already exists, skipped.' % emb_filename)\n",
    "f1_scores, result = scoring(\n",
    "    [\n",
    "        \"--emb\", emb_filename,\n",
    "        \"--network\",\"example_graphs/blogcatalog.mat\",\n",
    "        \"--num-shuffles\", \"5\",\n",
    "        \"--debug\",\n",
    "        \"--result\",\n",
    "        \"--C\", str(conf['C']),\n",
    "        \"--training-percents\",\n",
    "    ] + [str(p) for p in range(10, 20, 10)],\n",
    ")\n",
    "f1_scores"
   ]
  },
  {
   "cell_type": "code",
   "execution_count": 47,
   "metadata": {},
   "outputs": [],
   "source": [
    "labels_count = blog_labels.shape[1]\n",
    "mlb = MultiLabelBinarizer(range(labels_count))"
   ]
  },
  {
   "cell_type": "code",
   "execution_count": 49,
   "metadata": {},
   "outputs": [
    {
     "data": {
      "text/plain": [
       "0.228355566826923"
      ]
     },
     "execution_count": 49,
     "metadata": {},
     "output_type": "execute_result"
    }
   ],
   "source": [
    "x = f1_score(mlb.fit_transform(y_test), mlb.fit_transform(preds), average='macro')\n",
    "x"
   ]
  },
  {
   "cell_type": "code",
   "execution_count": 38,
   "metadata": {},
   "outputs": [],
   "source": [
    "(y_test, preds, indices_test) = result"
   ]
  },
  {
   "cell_type": "code",
   "execution_count": 43,
   "metadata": {},
   "outputs": [
    {
     "data": {
      "text/plain": [
       "[[4], [1], [1], [10]]"
      ]
     },
     "execution_count": 43,
     "metadata": {},
     "output_type": "execute_result"
    }
   ],
   "source": [
    "y_test[:4]"
   ]
  },
  {
   "cell_type": "code",
   "execution_count": 44,
   "metadata": {},
   "outputs": [
    {
     "data": {
      "text/plain": [
       "[[4], [5], [1], [10]]"
      ]
     },
     "execution_count": 44,
     "metadata": {},
     "output_type": "execute_result"
    }
   ],
   "source": [
    "preds[:4]"
   ]
  },
  {
   "cell_type": "code",
   "execution_count": 70,
   "metadata": {
    "collapsed": true
   },
   "outputs": [
    {
     "name": "stdout",
     "output_type": "stream",
     "text": [
      "result/blog-dim=512,projection_method=sparse,input_matrix=trans,normalization=True,weights=1.0,1.0,7.81,45.28,alpha=-0.628,C=0.1.mat\n",
      "File result/blog-dim=512,projection_method=sparse,input_matrix=trans,normalization=True,weights=1.0,1.0,7.81,45.28,alpha=-0.628,C=0.1.mat already exists, skipped.\n",
      "Train percent: 0.1\n",
      "Train percent: 0.2\n",
      "Train percent: 0.3\n",
      "Train percent: 0.4\n",
      "Train percent: 0.5\n",
      "Train percent: 0.6\n",
      "Train percent: 0.7000000000000001\n",
      "Train percent: 0.8\n",
      "Train percent: 0.9\n",
      "Results, using embeddings of dimensionality 512\n",
      "-------------------\n",
      "Train percent: 0.1\n",
      "Average score: {'micro': 0.3710668138287513, 'macro': 0.2315109317900343}\n",
      "-------------------\n",
      "Train percent: 0.2\n",
      "Average score: {'micro': 0.385981757405288, 'macro': 0.24859995274320168}\n",
      "-------------------\n",
      "Train percent: 0.3\n",
      "Average score: {'micro': 0.3923432215400081, 'macro': 0.2596759611974167}\n",
      "-------------------\n",
      "Train percent: 0.4\n",
      "Average score: {'micro': 0.3995747775381412, 'macro': 0.26698977271665997}\n",
      "-------------------\n",
      "Train percent: 0.5\n",
      "Average score: {'micro': 0.4079051133850135, 'macro': 0.27971330753049795}\n",
      "-------------------\n",
      "Train percent: 0.6\n",
      "Average score: {'micro': 0.40927295184688967, 'macro': 0.2798933242144902}\n",
      "-------------------\n",
      "Train percent: 0.7000000000000001\n",
      "Average score: {'micro': 0.41637207623641415, 'macro': 0.29101502826342207}\n",
      "-------------------\n",
      "Train percent: 0.8\n",
      "Average score: {'micro': 0.4180788484841808, 'macro': 0.29455504586220865}\n",
      "-------------------\n",
      "Train percent: 0.9\n",
      "Average score: {'micro': 0.42506607637725874, 'macro': 0.2964951334240474}\n",
      "-------------------\n",
      "CPU times: user 38min 20s, sys: 4.52 s, total: 38min 24s\n",
      "Wall time: 32min 59s\n"
     ]
    }
   ],
   "source": [
    "%%time\n",
    "\n",
    "conf = {\n",
    "        'projection_method': 'sparse',\n",
    "        'input_matrix': 'trans',\n",
    "        'weights': [1.0, 1.0, 7.81, 45.28],\n",
    "        'normalization': True,\n",
    "        'dim': 512,\n",
    "        'alpha': -0.628,\n",
    "        'C': 0.1\n",
    "    }\n",
    "emb_filename = get_emb_filename(prefix, conf)\n",
    "print (emb_filename)\n",
    "# first check if this file already exists\n",
    "path = Path(emb_filename)\n",
    "if not path.is_file():\n",
    "    U = randne_wrapper(blog_A, conf)\n",
    "    savemat(emb_filename, {'emb': U})\n",
    "else:\n",
    "    print ('File %s already exists, skipped.' % emb_filename)\n",
    "f1_scores = scoring(\n",
    "    [\n",
    "        \"--emb\", emb_filename,\n",
    "        \"--network\",\"example_graphs/blogcatalog.mat\",\n",
    "        \"--num-shuffles\", \"5\",\n",
    "        \"--debug\",\n",
    "        \"--C\", str(conf['C']),\n",
    "        \"--training-percents\",\n",
    "    ] + [str(p) for p in range(10, 100, 10)],\n",
    ")\n",
    "f1_scores"
   ]
  },
  {
   "cell_type": "markdown",
   "metadata": {},
   "source": [
    "# DeepWalk"
   ]
  },
  {
   "cell_type": "markdown",
   "metadata": {},
   "source": [
    "Run the following command in shell:"
   ]
  },
  {
   "cell_type": "code",
   "execution_count": null,
   "metadata": {},
   "outputs": [],
   "source": [
    "nohup time deepwalk --format mat --input example_graphs/blogcatalog.mat \\\n",
    "--max-memory-data-size 0 --number-walks 80 --representation-size 128 --walk-length 40 --window-size 10 \\\n",
    "--workers 28 --output example_graphs/blogcatalog.emb &"
   ]
  },
  {
   "cell_type": "markdown",
   "metadata": {},
   "source": [
    "Load DeepWalk embeddings:"
   ]
  },
  {
   "cell_type": "code",
   "execution_count": 69,
   "metadata": {},
   "outputs": [],
   "source": [
    "dw_emb_fname = '/home/hcchen/deepwalk/example_graphs/blogcatalog.emb'"
   ]
  },
  {
   "cell_type": "code",
   "execution_count": 73,
   "metadata": {},
   "outputs": [],
   "source": [
    "model = KeyedVectors.load_word2vec_format(dw_emb_fname, binary=False)"
   ]
  },
  {
   "cell_type": "code",
   "execution_count": 74,
   "metadata": {},
   "outputs": [
    {
     "name": "stdout",
     "output_type": "stream",
     "text": [
      "CPU times: user 24.4 ms, sys: 4.03 ms, total: 28.4 ms\n",
      "Wall time: 27.9 ms\n"
     ]
    }
   ],
   "source": [
    "N = len(model.vocab)\n",
    "%time dw_emb = np.asarray([model[str(node)] for node in range(N)])"
   ]
  },
  {
   "cell_type": "code",
   "execution_count": 75,
   "metadata": {},
   "outputs": [
    {
     "data": {
      "text/plain": [
       "(10312, 128)"
      ]
     },
     "execution_count": 75,
     "metadata": {},
     "output_type": "execute_result"
    }
   ],
   "source": [
    "dw_emb.shape"
   ]
  },
  {
   "cell_type": "code",
   "execution_count": 133,
   "metadata": {},
   "outputs": [
    {
     "name": "stdout",
     "output_type": "stream",
     "text": [
      "39\n",
      "(10312, 128)\n",
      "Train percent: 0.1\n",
      "Results, using embeddings of dimensionality 128\n",
      "-------------------\n",
      "Train percent: 0.1\n",
      "Average score: {'micro': 0.36430591441992466, 'macro': 0.21338703677799015}\n",
      "-------------------\n",
      "CPU times: user 41.7 s, sys: 144 ms, total: 41.8 s\n",
      "Wall time: 4.9 s\n"
     ]
    }
   ],
   "source": [
    "%%time\n",
    "f1_scores = scoring(\n",
    "    [\n",
    "        \"--emb\", \"/home/hcchen/deepwalk/example_graphs/blogcatalog.emb\",\n",
    "        \"--network\",\"example_graphs/blogcatalog.mat\",\n",
    "        \"--num-shuffles\", \"5\",\n",
    "        \"--debug\",\n",
    "        \"--C\", \"1\",\n",
    "        \"--training-percents\",\n",
    "    ] + [str(p) for p in range(10, 20, 10)],\n",
    ")\n",
    "f1_scores"
   ]
  },
  {
   "cell_type": "markdown",
   "metadata": {},
   "source": [
    "# RandNE"
   ]
  },
  {
   "cell_type": "code",
   "execution_count": null,
   "metadata": {},
   "outputs": [],
   "source": [
    "cd ~/RandNE-Python/ && \n",
    "time python3 src/randne.py --input /home/hcchen/fast-random-projection/example_graphs/blogcatalog.mat \\\n",
    "--output /home/hcchen/fast-random-projection/result/blog-randne-emb.mat \\\n",
    "--use-trans-matrix -q 3 -d 512 --weights 1 100 1000"
   ]
  },
  {
   "cell_type": "code",
   "execution_count": 9,
   "metadata": {
    "collapsed": true
   },
   "outputs": [
    {
     "name": "stdout",
     "output_type": "stream",
     "text": [
      "Shape:  (10312, 512)\n",
      "Train percent: 0.1\n",
      "Train percent: 0.2\n",
      "Train percent: 0.3\n",
      "Train percent: 0.4\n",
      "Train percent: 0.5\n",
      "Train percent: 0.6\n",
      "Train percent: 0.7000000000000001\n",
      "Train percent: 0.8\n",
      "Train percent: 0.9\n",
      "Results, using embeddings of dimensionality 512\n",
      "-------------------\n",
      "Train percent: 0.1\n",
      "Average score: {'micro': 0.3385352110064831, 'macro': 0.20876822244386956}\n",
      "-------------------\n",
      "Train percent: 0.2\n",
      "Average score: {'micro': 0.35823398182675614, 'macro': 0.23121345760670642}\n",
      "-------------------\n",
      "Train percent: 0.3\n",
      "Average score: {'micro': 0.3716429726123654, 'macro': 0.24612310059441364}\n",
      "-------------------\n",
      "Train percent: 0.4\n",
      "Average score: {'micro': 0.38175652894989, 'macro': 0.2540813403943384}\n",
      "-------------------\n",
      "Train percent: 0.5\n",
      "Average score: {'micro': 0.38617265642373544, 'macro': 0.25883527270272333}\n",
      "-------------------\n",
      "Train percent: 0.6\n",
      "Average score: {'micro': 0.39452065914503787, 'macro': 0.2689658934746254}\n",
      "-------------------\n",
      "Train percent: 0.7000000000000001\n",
      "Average score: {'micro': 0.4002016678995253, 'macro': 0.2721048131721807}\n",
      "-------------------\n",
      "Train percent: 0.8\n",
      "Average score: {'micro': 0.4037946224157122, 'macro': 0.27591738737486}\n",
      "-------------------\n",
      "Train percent: 0.9\n",
      "Average score: {'micro': 0.4064141589986926, 'macro': 0.2720388786727925}\n",
      "-------------------\n"
     ]
    },
    {
     "data": {
      "text/plain": [
       "[defaultdict(float,\n",
       "             {'micro': 0.3385352110064831,\n",
       "              'macro': 0.20876822244386956,\n",
       "              'training': 0.1}),\n",
       " defaultdict(float,\n",
       "             {'micro': 0.35823398182675614,\n",
       "              'macro': 0.23121345760670642,\n",
       "              'training': 0.2}),\n",
       " defaultdict(float,\n",
       "             {'micro': 0.3716429726123654,\n",
       "              'macro': 0.24612310059441364,\n",
       "              'training': 0.3}),\n",
       " defaultdict(float,\n",
       "             {'micro': 0.38175652894989,\n",
       "              'macro': 0.2540813403943384,\n",
       "              'training': 0.4}),\n",
       " defaultdict(float,\n",
       "             {'micro': 0.38617265642373544,\n",
       "              'macro': 0.25883527270272333,\n",
       "              'training': 0.5}),\n",
       " defaultdict(float,\n",
       "             {'micro': 0.39452065914503787,\n",
       "              'macro': 0.2689658934746254,\n",
       "              'training': 0.6}),\n",
       " defaultdict(float,\n",
       "             {'micro': 0.4002016678995253,\n",
       "              'macro': 0.2721048131721807,\n",
       "              'training': 0.7000000000000001}),\n",
       " defaultdict(float,\n",
       "             {'micro': 0.4037946224157122,\n",
       "              'macro': 0.27591738737486,\n",
       "              'training': 0.8}),\n",
       " defaultdict(float,\n",
       "             {'micro': 0.4064141589986926,\n",
       "              'macro': 0.2720388786727925,\n",
       "              'training': 0.9})]"
      ]
     },
     "execution_count": 9,
     "metadata": {},
     "output_type": "execute_result"
    }
   ],
   "source": [
    "randne_f1_scores = scoring(\n",
    "    [\n",
    "        \"--emb\", \"result/blog-randne-emb.mat\",\n",
    "        \"--network\",\"example_graphs/blogcatalog.mat\",\n",
    "        \"--num-shuffles\", \"5\",\n",
    "        \"--debug\",\n",
    "        \"--C\", \"1.0\",\n",
    "        \"--training-percents\",\n",
    "    ] + [str(p) for p in range(10, 100, 10)],\n",
    ")\n",
    "randne_f1_scores"
   ]
  },
  {
   "cell_type": "markdown",
   "metadata": {},
   "source": [
    "# Node2vec"
   ]
  },
  {
   "cell_type": "markdown",
   "metadata": {},
   "source": [
    "Import A as edgelist:"
   ]
  },
  {
   "cell_type": "code",
   "execution_count": 116,
   "metadata": {},
   "outputs": [
    {
     "data": {
      "text/plain": [
       "<10312x10312 sparse matrix of type '<class 'numpy.float64'>'\n",
       "\twith 667966 stored elements in Compressed Sparse Column format>"
      ]
     },
     "execution_count": 116,
     "metadata": {},
     "output_type": "execute_result"
    }
   ],
   "source": [
    "A"
   ]
  },
  {
   "cell_type": "code",
   "execution_count": 118,
   "metadata": {},
   "outputs": [
    {
     "data": {
      "text/plain": [
       "(10312, 333983)"
      ]
     },
     "execution_count": 118,
     "metadata": {},
     "output_type": "execute_result"
    }
   ],
   "source": [
    "G = nx.from_scipy_sparse_matrix(A)\n",
    "G.number_of_nodes(), G.number_of_edges()"
   ]
  },
  {
   "cell_type": "code",
   "execution_count": 119,
   "metadata": {},
   "outputs": [],
   "source": [
    "nx.write_edgelist(G, open('/home/hcchen/node2vec/graph/blogcatalog.edgelist', 'wb'))"
   ]
  },
  {
   "cell_type": "markdown",
   "metadata": {},
   "source": [
    "Run node2vec:"
   ]
  },
  {
   "cell_type": "code",
   "execution_count": null,
   "metadata": {},
   "outputs": [],
   "source": [
    "cd /home/hcchen/node2vec && nohup time python2 src/main.py \\\n",
    "--input /home/hcchen/node2vec/graph/blogcatalog.edgelist \\\n",
    "--num-walks 80 --dimensions 128 --walk-length 40 --window-size 10 \\\n",
    "--p 0.25 --q 0.25 \\\n",
    "--workers 40 --output emb/blogcatalog.node2vec.emb &"
   ]
  },
  {
   "cell_type": "code",
   "execution_count": null,
   "metadata": {},
   "outputs": [],
   "source": [
    "cd /home/hcchen/deepwalk-sgns/deepwalk && nohup time python __main__.py --format mat \\\n",
    "--input /home/hcchen/deepwalk/example_graphs/blogcatalog.mat \\\n",
    "--max-memory-data-size 0 --number-walks 80 --representation-size 128 --walk-length 40 --window-size 10 \\\n",
    "--workers 40 --output /home/hcchen/deepwalk-sgns/example_graphs/blogcatalog.node2vec.emb &"
   ]
  },
  {
   "cell_type": "code",
   "execution_count": 124,
   "metadata": {
    "collapsed": true
   },
   "outputs": [
    {
     "name": "stdout",
     "output_type": "stream",
     "text": [
      "(10312, 128)\n",
      "Train percent: 0.1\n",
      "Train percent: 0.2\n",
      "Train percent: 0.3\n",
      "Train percent: 0.4\n",
      "Train percent: 0.5\n",
      "Train percent: 0.6\n",
      "Train percent: 0.7000000000000001\n",
      "Train percent: 0.8\n",
      "Train percent: 0.9\n",
      "Results, using embeddings of dimensionality 128\n",
      "-------------------\n",
      "Train percent: 0.1\n",
      "Average score: {'micro': 0.35286345334054525, 'macro': 0.16246433344400618}\n",
      "-------------------\n",
      "Train percent: 0.2\n",
      "Average score: {'micro': 0.38607160391394235, 'macro': 0.19888426916622984}\n",
      "-------------------\n",
      "Train percent: 0.3\n",
      "Average score: {'micro': 0.39964362431890577, 'macro': 0.21944826907523768}\n",
      "-------------------\n",
      "Train percent: 0.4\n",
      "Average score: {'micro': 0.4100233094842819, 'macro': 0.2348868760288781}\n",
      "-------------------\n",
      "Train percent: 0.5\n",
      "Average score: {'micro': 0.41931793450052524, 'macro': 0.24508157502904537}\n",
      "-------------------\n",
      "Train percent: 0.6\n",
      "Average score: {'micro': 0.42615692195290344, 'macro': 0.25077994482951993}\n",
      "-------------------\n",
      "Train percent: 0.7000000000000001\n",
      "Average score: {'micro': 0.4269650978050635, 'macro': 0.25529842724603624}\n",
      "-------------------\n",
      "Train percent: 0.8\n",
      "Average score: {'micro': 0.42829523854366275, 'macro': 0.2575306667399432}\n",
      "-------------------\n",
      "Train percent: 0.9\n",
      "Average score: {'micro': 0.42940607907916545, 'macro': 0.2574605765843077}\n",
      "-------------------\n",
      "CPU times: user 5min 35s, sys: 400 ms, total: 5min 35s\n",
      "Wall time: 1min 28s\n"
     ]
    }
   ],
   "source": [
    "%%time\n",
    "f1_scores = scoring(\n",
    "    [\n",
    "        \"--emb\", \"/home/hcchen/deepwalk-sgns/example_graphs/blogcatalog.node2vec.emb\",\n",
    "        \"--network\",\"example_graphs/blogcatalog.mat\",\n",
    "        \"--num-shuffles\", \"5\",\n",
    "        \"--debug\",\n",
    "        \"--C\", str(conf['C']),\n",
    "        \"--training-percents\",\n",
    "    ] + [str(p) for p in range(10, 100, 10)],\n",
    ")\n",
    "f1_scores"
   ]
  },
  {
   "cell_type": "code",
   "execution_count": 135,
   "metadata": {},
   "outputs": [
    {
     "name": "stdout",
     "output_type": "stream",
     "text": [
      "(10312, 128)\n",
      "Train percent: 0.1\n",
      "Train percent: 0.2\n",
      "Train percent: 0.3\n",
      "Train percent: 0.4\n",
      "Train percent: 0.5\n",
      "Train percent: 0.6\n",
      "Train percent: 0.7000000000000001\n",
      "Train percent: 0.8\n",
      "Train percent: 0.9\n",
      "Results, using embeddings of dimensionality 128\n",
      "-------------------\n",
      "Train percent: 0.1\n",
      "Average score: {'micro': 0.3591180070081537, 'macro': 0.21186082537357653}\n",
      "-------------------\n",
      "Train percent: 0.2\n",
      "Average score: {'micro': 0.38265617540570335, 'macro': 0.24130518483228275}\n",
      "-------------------\n",
      "Train percent: 0.3\n",
      "Average score: {'micro': 0.3991142579958692, 'macro': 0.26102802369713}\n",
      "-------------------\n",
      "Train percent: 0.4\n",
      "Average score: {'micro': 0.4078603428194727, 'macro': 0.27041940163774725}\n",
      "-------------------\n",
      "Train percent: 0.5\n",
      "Average score: {'micro': 0.4164145388651012, 'macro': 0.2770733369602342}\n",
      "-------------------\n",
      "Train percent: 0.6\n",
      "Average score: {'micro': 0.4206027010473715, 'macro': 0.28418770276838734}\n",
      "-------------------\n",
      "Train percent: 0.7000000000000001\n",
      "Average score: {'micro': 0.42509133203395144, 'macro': 0.2892726023647935}\n",
      "-------------------\n",
      "Train percent: 0.8\n",
      "Average score: {'micro': 0.43512251281195474, 'macro': 0.295173831274606}\n",
      "-------------------\n",
      "Train percent: 0.9\n",
      "Average score: {'micro': 0.442910195475774, 'macro': 0.30174093051667106}\n",
      "-------------------\n",
      "CPU times: user 6min 50s, sys: 562 ms, total: 6min 50s\n",
      "Wall time: 2min 10s\n"
     ]
    }
   ],
   "source": [
    "%%time\n",
    "f1_scores = scoring(\n",
    "    [\n",
    "        \"--emb\", \"/home/hcchen/node2vec/emb/blogcatalog.node2vec.emb\",\n",
    "        \"--network\",\"example_graphs/blogcatalog.mat\",\n",
    "        \"--num-shuffles\", \"5\",\n",
    "        \"--debug\",\n",
    "        \"--C\", \"1\",\n",
    "        \"--training-percents\",\n",
    "    ] + [str(p) for p in range(10, 100, 10)],\n",
    ")\n",
    "f1_scores"
   ]
  },
  {
   "cell_type": "markdown",
   "metadata": {},
   "source": [
    "# Embedding Space Properties"
   ]
  },
  {
   "cell_type": "code",
   "execution_count": 50,
   "metadata": {},
   "outputs": [],
   "source": [
    "from sklearn.metrics.pairwise import euclidean_distances"
   ]
  },
  {
   "cell_type": "markdown",
   "metadata": {},
   "source": [
    "We can take a specific node (maybe chosen based on its degree) and plot the distribution of the L2 distance between its embeddings and all other nodes. Can we see a difference here? Is it different from Flickr or Blogcatalog?"
   ]
  },
  {
   "cell_type": "markdown",
   "metadata": {},
   "source": [
    "First take a high degree node:"
   ]
  },
  {
   "cell_type": "code",
   "execution_count": 67,
   "metadata": {},
   "outputs": [],
   "source": [
    "ind = 14"
   ]
  },
  {
   "cell_type": "code",
   "execution_count": 68,
   "metadata": {},
   "outputs": [
    {
     "data": {
      "text/plain": [
       "<1x10312 sparse matrix of type '<class 'numpy.float64'>'\n",
       "\twith 216 stored elements in Compressed Sparse Column format>"
      ]
     },
     "execution_count": 68,
     "metadata": {},
     "output_type": "execute_result"
    }
   ],
   "source": [
    "A[ind]"
   ]
  },
  {
   "cell_type": "markdown",
   "metadata": {},
   "source": [
    "Compute its L2 distance to all the other nodes in the embedding space for DeepWalk and random projection:"
   ]
  },
  {
   "cell_type": "code",
   "execution_count": 107,
   "metadata": {},
   "outputs": [],
   "source": [
    "dw_l2_distance_high = euclidean_distances([dw_emb[ind]], dw_emb)"
   ]
  },
  {
   "cell_type": "code",
   "execution_count": 108,
   "metadata": {},
   "outputs": [],
   "source": [
    "rp_l2_distance_high = euclidean_distances([U[ind]], U)"
   ]
  },
  {
   "cell_type": "code",
   "execution_count": 109,
   "metadata": {},
   "outputs": [
    {
     "name": "stderr",
     "output_type": "stream",
     "text": [
      "/home/hcchen/anaconda3/lib/python3.7/site-packages/scipy/stats/stats.py:1713: FutureWarning: Using a non-tuple sequence for multidimensional indexing is deprecated; use `arr[tuple(seq)]` instead of `arr[seq]`. In the future this will be interpreted as an array index, `arr[np.array(seq)]`, which will result either in an error or a different result.\n",
      "  return np.add.reduce(sorted[indexer] * weights, axis=axis) / sumval\n"
     ]
    },
    {
     "data": {
      "text/plain": [
       "<matplotlib.axes._subplots.AxesSubplot at 0x7f7326888390>"
      ]
     },
     "execution_count": 109,
     "metadata": {},
     "output_type": "execute_result"
    },
    {
     "data": {
      "image/png": "[encoded data removed]",
      "text/plain": [
       "<Figure size 432x288 with 1 Axes>"
      ]
     },
     "metadata": {
      "needs_background": "light"
     },
     "output_type": "display_data"
    }
   ],
   "source": [
    "sns.distplot(dw_l2_distance_high)\n",
    "sns.distplot(rp_l2_distance_high)"
   ]
  },
  {
   "cell_type": "code",
   "execution_count": 110,
   "metadata": {},
   "outputs": [
    {
     "name": "stderr",
     "output_type": "stream",
     "text": [
      "/home/hcchen/anaconda3/lib/python3.7/site-packages/scipy/stats/stats.py:1713: FutureWarning: Using a non-tuple sequence for multidimensional indexing is deprecated; use `arr[tuple(seq)]` instead of `arr[seq]`. In the future this will be interpreted as an array index, `arr[np.array(seq)]`, which will result either in an error or a different result.\n",
      "  return np.add.reduce(sorted[indexer] * weights, axis=axis) / sumval\n"
     ]
    },
    {
     "data": {
      "text/plain": [
       "<matplotlib.axes._subplots.AxesSubplot at 0x7f73266b7978>"
      ]
     },
     "execution_count": 110,
     "metadata": {},
     "output_type": "execute_result"
    },
    {
     "data": {
      "image/png": "[encoded data removed]",
      "text/plain": [
       "<Figure size 432x288 with 1 Axes>"
      ]
     },
     "metadata": {
      "needs_background": "light"
     },
     "output_type": "display_data"
    }
   ],
   "source": [
    "sns.distplot(dw_l2_distance_high)"
   ]
  },
  {
   "cell_type": "code",
   "execution_count": 111,
   "metadata": {},
   "outputs": [
    {
     "name": "stderr",
     "output_type": "stream",
     "text": [
      "/home/hcchen/anaconda3/lib/python3.7/site-packages/scipy/stats/stats.py:1713: FutureWarning: Using a non-tuple sequence for multidimensional indexing is deprecated; use `arr[tuple(seq)]` instead of `arr[seq]`. In the future this will be interpreted as an array index, `arr[np.array(seq)]`, which will result either in an error or a different result.\n",
      "  return np.add.reduce(sorted[indexer] * weights, axis=axis) / sumval\n"
     ]
    },
    {
     "data": {
      "text/plain": [
       "<matplotlib.axes._subplots.AxesSubplot at 0x7f73265eca90>"
      ]
     },
     "execution_count": 111,
     "metadata": {},
     "output_type": "execute_result"
    },
    {
     "data": {
      "image/png": "[encoded data removed]",
      "text/plain": [
       "<Figure size 432x288 with 1 Axes>"
      ]
     },
     "metadata": {
      "needs_background": "light"
     },
     "output_type": "display_data"
    }
   ],
   "source": [
    "sns.distplot(rp_l2_distance_high)"
   ]
  },
  {
   "cell_type": "markdown",
   "metadata": {},
   "source": [
    "Then take a mid-degree node:"
   ]
  },
  {
   "cell_type": "code",
   "execution_count": 83,
   "metadata": {},
   "outputs": [],
   "source": [
    "ind = 20"
   ]
  },
  {
   "cell_type": "code",
   "execution_count": 84,
   "metadata": {},
   "outputs": [
    {
     "data": {
      "text/plain": [
       "<1x10312 sparse matrix of type '<class 'numpy.float64'>'\n",
       "\twith 10 stored elements in Compressed Sparse Column format>"
      ]
     },
     "execution_count": 84,
     "metadata": {},
     "output_type": "execute_result"
    }
   ],
   "source": [
    "A[ind]"
   ]
  },
  {
   "cell_type": "markdown",
   "metadata": {},
   "source": [
    "Compute its L2 distance to all the other nodes in the embedding space:"
   ]
  },
  {
   "cell_type": "code",
   "execution_count": 104,
   "metadata": {},
   "outputs": [],
   "source": [
    "dw_dist_mid = euclidean_distances([dw_emb[ind]], dw_emb)"
   ]
  },
  {
   "cell_type": "code",
   "execution_count": 105,
   "metadata": {},
   "outputs": [],
   "source": [
    "rp_dist_mid = euclidean_distances([U[ind]], U)"
   ]
  },
  {
   "cell_type": "code",
   "execution_count": 106,
   "metadata": {},
   "outputs": [
    {
     "name": "stderr",
     "output_type": "stream",
     "text": [
      "/home/hcchen/anaconda3/lib/python3.7/site-packages/scipy/stats/stats.py:1713: FutureWarning: Using a non-tuple sequence for multidimensional indexing is deprecated; use `arr[tuple(seq)]` instead of `arr[seq]`. In the future this will be interpreted as an array index, `arr[np.array(seq)]`, which will result either in an error or a different result.\n",
      "  return np.add.reduce(sorted[indexer] * weights, axis=axis) / sumval\n"
     ]
    },
    {
     "data": {
      "text/plain": [
       "<matplotlib.axes._subplots.AxesSubplot at 0x7f7326cdf748>"
      ]
     },
     "execution_count": 106,
     "metadata": {},
     "output_type": "execute_result"
    },
    {
     "data": {
      "image/png": "[encoded data removed]",
      "text/plain": [
       "<Figure size 432x288 with 1 Axes>"
      ]
     },
     "metadata": {
      "needs_background": "light"
     },
     "output_type": "display_data"
    }
   ],
   "source": [
    "sns.distplot(dw_dist_mid)\n",
    "sns.distplot(rp_dist_mid)"
   ]
  },
  {
   "cell_type": "code",
   "execution_count": 99,
   "metadata": {},
   "outputs": [
    {
     "data": {
      "text/plain": [
       "<matplotlib.axes._subplots.AxesSubplot at 0x7f7326e82b38>"
      ]
     },
     "execution_count": 99,
     "metadata": {},
     "output_type": "execute_result"
    },
    {
     "data": {
      "image/png": "[encoded data removed]",
      "text/plain": [
       "<Figure size 432x288 with 1 Axes>"
      ]
     },
     "metadata": {
      "needs_background": "light"
     },
     "output_type": "display_data"
    }
   ],
   "source": [
    "sns.distplot(dw_dist_mid)"
   ]
  },
  {
   "cell_type": "code",
   "execution_count": 100,
   "metadata": {},
   "outputs": [
    {
     "name": "stderr",
     "output_type": "stream",
     "text": [
      "/home/hcchen/anaconda3/lib/python3.7/site-packages/scipy/stats/stats.py:1713: FutureWarning: Using a non-tuple sequence for multidimensional indexing is deprecated; use `arr[tuple(seq)]` instead of `arr[seq]`. In the future this will be interpreted as an array index, `arr[np.array(seq)]`, which will result either in an error or a different result.\n",
      "  return np.add.reduce(sorted[indexer] * weights, axis=axis) / sumval\n"
     ]
    },
    {
     "data": {
      "text/plain": [
       "<matplotlib.axes._subplots.AxesSubplot at 0x7f7326d60f98>"
      ]
     },
     "execution_count": 100,
     "metadata": {},
     "output_type": "execute_result"
    },
    {
     "data": {
      "image/png": "[encoded data removed]",
      "text/plain": [
       "<Figure size 432x288 with 1 Axes>"
      ]
     },
     "metadata": {
      "needs_background": "light"
     },
     "output_type": "display_data"
    }
   ],
   "source": [
    "sns.distplot(rp_dist_mid)"
   ]
  },
  {
   "cell_type": "markdown",
   "metadata": {},
   "source": [
    "Then take a low-degree node:"
   ]
  },
  {
   "cell_type": "code",
   "execution_count": 92,
   "metadata": {},
   "outputs": [],
   "source": [
    "ind = 1236"
   ]
  },
  {
   "cell_type": "code",
   "execution_count": 93,
   "metadata": {
    "scrolled": true
   },
   "outputs": [
    {
     "data": {
      "text/plain": [
       "<1x10312 sparse matrix of type '<class 'numpy.float64'>'\n",
       "\twith 1 stored elements in Compressed Sparse Column format>"
      ]
     },
     "execution_count": 93,
     "metadata": {},
     "output_type": "execute_result"
    }
   ],
   "source": [
    "A[ind]"
   ]
  },
  {
   "cell_type": "markdown",
   "metadata": {},
   "source": [
    "Compute its L2 distance to all the other nodes in the embedding space:"
   ]
  },
  {
   "cell_type": "code",
   "execution_count": 94,
   "metadata": {},
   "outputs": [],
   "source": [
    "dw_dist_low = euclidean_distances([dw_emb[ind]], dw_emb)"
   ]
  },
  {
   "cell_type": "code",
   "execution_count": 95,
   "metadata": {},
   "outputs": [],
   "source": [
    "rp_dist_low = euclidean_distances([U[ind]], U)"
   ]
  },
  {
   "cell_type": "code",
   "execution_count": 96,
   "metadata": {},
   "outputs": [
    {
     "name": "stderr",
     "output_type": "stream",
     "text": [
      "/home/hcchen/anaconda3/lib/python3.7/site-packages/scipy/stats/stats.py:1713: FutureWarning: Using a non-tuple sequence for multidimensional indexing is deprecated; use `arr[tuple(seq)]` instead of `arr[seq]`. In the future this will be interpreted as an array index, `arr[np.array(seq)]`, which will result either in an error or a different result.\n",
      "  return np.add.reduce(sorted[indexer] * weights, axis=axis) / sumval\n"
     ]
    },
    {
     "data": {
      "text/plain": [
       "<matplotlib.axes._subplots.AxesSubplot at 0x7f73270b20b8>"
      ]
     },
     "execution_count": 96,
     "metadata": {},
     "output_type": "execute_result"
    },
    {
     "data": {
      "image/png": "[encoded data removed]",
      "text/plain": [
       "<Figure size 432x288 with 1 Axes>"
      ]
     },
     "metadata": {
      "needs_background": "light"
     },
     "output_type": "display_data"
    }
   ],
   "source": [
    "sns.distplot(dw_dist_low)\n",
    "sns.distplot(rp_dist_low)"
   ]
  },
  {
   "cell_type": "code",
   "execution_count": 97,
   "metadata": {},
   "outputs": [
    {
     "data": {
      "text/plain": [
       "<matplotlib.axes._subplots.AxesSubplot at 0x7f7326fe66a0>"
      ]
     },
     "execution_count": 97,
     "metadata": {},
     "output_type": "execute_result"
    },
    {
     "data": {
      "image/png": "[encoded data removed]",
      "text/plain": [
       "<Figure size 432x288 with 1 Axes>"
      ]
     },
     "metadata": {
      "needs_background": "light"
     },
     "output_type": "display_data"
    }
   ],
   "source": [
    "sns.distplot(dw_dist_low)"
   ]
  },
  {
   "cell_type": "code",
   "execution_count": 98,
   "metadata": {},
   "outputs": [
    {
     "data": {
      "text/plain": [
       "<matplotlib.axes._subplots.AxesSubplot at 0x7f7326f35240>"
      ]
     },
     "execution_count": 98,
     "metadata": {},
     "output_type": "execute_result"
    },
    {
     "data": {
      "image/png": "[encoded data removed]",
      "text/plain": [
       "<Figure size 432x288 with 1 Axes>"
      ]
     },
     "metadata": {
      "needs_background": "light"
     },
     "output_type": "display_data"
    }
   ],
   "source": [
    "sns.distplot(rp_dist_low)"
   ]
  }
 ],
 "metadata": {
  "kernelspec": {
   "display_name": "Python 3",
   "language": "python",
   "name": "python3"
  },
  "language_info": {
   "codemirror_mode": {
    "name": "ipython",
    "version": 3
   },
   "file_extension": ".py",
   "mimetype": "text/x-python",
   "name": "python",
   "nbconvert_exporter": "python",
   "pygments_lexer": "ipython3",
   "version": "3.7.4"
  }
 },
 "nbformat": 4,
 "nbformat_minor": 2
}
